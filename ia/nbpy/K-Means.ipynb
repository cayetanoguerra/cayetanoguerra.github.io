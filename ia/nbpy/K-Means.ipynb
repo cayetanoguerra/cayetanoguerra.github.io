{
 "cells": [
  {
   "cell_type": "markdown",
   "metadata": {},
   "source": [
    "## K-Means\n",
    "\n",
    "El algoritmo de clustering (agrupamiento) denominado **K-means** corresponde al tipo de aprendizaje no supervisado, que se utiliza cuando tenemos datos no etiquetados (es decir, datos sin categorías o grupos definidos). El objetivo de este algoritmo es buscar agrupamientos en los datos, siendo **k** el número predefinido de grupos buscados. El algoritmo funciona iterativamente asignando cada muestra o punto del conjunto a uno de los K grupos. Las muestras se agrupan según la similitud de sus características. Los resultados del algoritmo de agrupamiento K-means son:\n",
    "\n",
    "1. Los centroides de los clusters K, que se pueden usar para etiquetar nuevos datos\n",
    "\n",
    "2. Etiquetas para los datos de entrenamiento (cada muestra se asigna a un solo grupo)\n",
    "\n",
    "### Algoritmo\n",
    "\n",
    "El algoritmo de agrupación de Κ-means utiliza un refinamiento iterativo para producir el resultado final. Las entradas del algoritmo corresponde al número de clústeres **K** junto con el conjunto de datos. El conjunto de datos es una colección de características de cada muestra. El algoritmo comienza con estimaciones iniciales para los Κ centroides, que pueden ser generados aleatoriamente o seleccionados aleatoriamente a partir del conjunto de datos. Una vez hecha la inicialización, el algoritmo itera entre estos dos pasos:\n",
    "\n",
    "#### Paso de asignación de datos:\n",
    "\n",
    "Cada centroide define uno de los clusters. En este paso, cada muestra se asigna a su centroide más cercano, en función de la distancia euclídea. Más formalmente, si $c_i$ es la colección de centroides del conjunto C, entonces cada muesta $x$ se asigna a un clúster mediante la siguiente expresión:\n",
    "\n",
    "$$ \\underset {c_i \\in C} {\\arg \\min} \\; dist (c_i, x)^2 $$\n",
    "\n",
    "donde $dist(·)$ es la distancia euclídea estándar (L2).\n",
    "\n",
    "#### Paso de actualización del centroide:\n",
    "\n",
    "En este paso, los centroides se vuelven a calcular. Esto se hace tomando la media de todas las muestras asignadas al clúster de ese centroide.\n",
    "\n",
    "$$ c_i = \\frac{1}{| S_i |} \\sum_ {x_i \\in S_i x_i} $$\n",
    "\n",
    "El algoritmo itera entre los pasos uno y dos hasta que se cumple algún criterio de detención (es decir, ninguna muestra cambia de clúster, la suma de las distancias se reduce al mínimo o se alcanza un número máximo de iteraciones).\n",
    "\n",
    "Se garantiza que este algoritmo converge a un resultado. Sin embargo, el resultado puede ser un óptimo local (es decir, no necesariamente el mejor resultado posible), lo que significa que la evaluación de más de una ejecución del algoritmo con centroides iniciales aleatorios puede proporcionar un mejor resultado."
   ]
  },
  {
   "cell_type": "code",
   "execution_count": 93,
   "metadata": {
    "collapsed": true
   },
   "outputs": [],
   "source": [
    "from sklearn.cluster import KMeans\n",
    "import numpy as np\n",
    "import pandas as pd\n",
    "\n",
    "\n",
    "data = pd.DataFrame({\n",
    "    'x': [12, 20, 28, 18, 29, 33, 24, 45, 45, 52, 51, 52, 55, 53, 55, 61, 64, 69, 72],\n",
    "    'y': [39, 36, 30, 52, 54, 46, 55, 59, 63, 70, 66, 63, 58, 23, 14, 8, 19, 7, 24]\n",
    "})"
   ]
  },
  {
   "cell_type": "code",
   "execution_count": 95,
   "metadata": {},
   "outputs": [
    {
     "data": {
      "image/png": "[encoded data removed]",
      "text/plain": [
       "<matplotlib.figure.Figure at 0x10a3a23c8>"
      ]
     },
     "metadata": {},
     "output_type": "display_data"
    }
   ],
   "source": [
    "import matplotlib.pyplot as plt\n",
    "%matplotlib inline\n",
    "\n",
    "plt.scatter(data['x'], data['y'], c=\"b\")\n",
    "plt.xlim(0, 80)\n",
    "plt.ylim(0, 80)\n",
    "plt.show()"
   ]
  },
  {
   "cell_type": "code",
   "execution_count": 113,
   "metadata": {},
   "outputs": [
    {
     "name": "stdout",
     "output_type": "stream",
     "text": [
      "[3 3 3 2 2 2 2 0 0 0 0 0 0 1 1 1 1 1 1]\n",
      "Predicción:\n",
      "[3 3]\n"
     ]
    }
   ],
   "source": [
    "kmeans = KMeans(n_clusters=4, random_state=0).fit(data)\n",
    "\n",
    "print(kmeans.labels_)\n",
    "\n",
    "print(\"Predicción:\")\n",
    "print(kmeans.predict([[0, 0], [4, 4]]))\n",
    "\n",
    "cluster_centers = kmeans.cluster_centers_"
   ]
  },
  {
   "cell_type": "code",
   "execution_count": 114,
   "metadata": {},
   "outputs": [
    {
     "data": {
      "image/png": "[encoded data removed]",
      "text/plain": [
       "<matplotlib.figure.Figure at 0x10bf5dba8>"
      ]
     },
     "metadata": {},
     "output_type": "display_data"
    }
   ],
   "source": [
    "cx, cy = cluster_centers.T\n",
    "\n",
    "colmap = {0: 'r', 1: 'g', 2: 'b', 3: 'y', 4: 'm'}\n",
    "for i, j, k in zip(data['x'], data['y'], kmeans.labels_):\n",
    "    plt.scatter(i, j, color=colmap[k])\n",
    "\n",
    "plt.scatter(cx, cy, c=\"k\", marker='x')\n",
    "plt.xlim(0, 80)\n",
    "plt.ylim(0, 80)\n",
    "plt.show()"
   ]
  },
  {
   "cell_type": "code",
   "execution_count": null,
   "metadata": {
    "collapsed": true
   },
   "outputs": [],
   "source": []
  }
 ],
 "metadata": {
  "kernelspec": {
   "display_name": "Python 3",
   "language": "python",
   "name": "python3"
  },
  "language_info": {
   "codemirror_mode": {
    "name": "ipython",
    "version": 3
   },
   "file_extension": ".py",
   "mimetype": "text/x-python",
   "name": "python",
   "nbconvert_exporter": "python",
   "pygments_lexer": "ipython3",
   "version": "3.6.1"
  }
 },
 "nbformat": 4,
 "nbformat_minor": 2
}
