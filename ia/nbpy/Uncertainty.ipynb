{
 "cells": [
  {
   "cell_type": "markdown",
   "id": "3162c6b3",
   "metadata": {},
   "source": [
    "# Incertidumbre"
   ]
  },
  {
   "cell_type": "markdown",
   "id": "1cd625f9",
   "metadata": {},
   "source": [
    "### Problema 1\n",
    "\n",
    "En una empresa de desarrollo de aplicaciones de inteligencia artificial el 43% de los programadores son españoles, el 37% son alemanes y el 20% son franceses. De los programadores españoles, el 89% usa Python como principal lenguaje, de los alemanes lo usa el 95% y de los franceses el 61%. ¿Cuál es la probabilidad de que eligiendo al azar un programador en Python, éste sea francés?\n",
    "\n",
    "<img src=\"imgs/prob01.svg\" width=60%>\n"
   ]
  },
  {
   "cell_type": "code",
   "execution_count": null,
   "id": "4515ba49",
   "metadata": {},
   "outputs": [],
   "source": []
  }
 ],
 "metadata": {
  "kernelspec": {
   "display_name": "Python 3",
   "language": "python",
   "name": "python3"
  },
  "language_info": {
   "codemirror_mode": {
    "name": "ipython",
    "version": 3
   },
   "file_extension": ".py",
   "mimetype": "text/x-python",
   "name": "python",
   "nbconvert_exporter": "python",
   "pygments_lexer": "ipython3",
   "version": "3.7.3"
  }
 },
 "nbformat": 4,
 "nbformat_minor": 5
}
