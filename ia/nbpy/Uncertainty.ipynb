{
 "cells": [
  {
   "cell_type": "markdown",
   "metadata": {},
   "source": [
    "# Incertidumbre"
   ]
  },
  {
   "cell_type": "markdown",
   "metadata": {},
   "source": [
    "### Problema 1\n",
    "\n",
    "En una empresa de desarrollo de aplicaciones de inteligencia artificial el 43% de los programadores son españoles, el 37% son alemanes y el 20% son franceses. De los programadores españoles, el 89% usa Python como lenguaje principal, de los alemanes lo usa el 95% y de los franceses el 61%. Crea la tabla de distribución conjunta completa (DCC) correspondiente. ¿Cuál es la probabilidad de que eligiendo al azar un programador en Python, éste sea francés?\n",
    "\n",
    "<img src=\"imgs/prob01.svg\" width=60%>\n",
    "\n",
    "\n",
    "### Problema 2\n",
    "\n",
    "La probabilidad de tener fiebre si se tiene la variante Ómicron es del 49%. La prevalencia de la variante es de 771 personas por cada 100.000 habitantes. La probabilidad de tener fiebre en la población es de 2,47%. ¿Qué probabilidad hay de tener la variante Ómicron si se tiene fiebre?\n",
    "\n",
    "\n",
    "### Problema 3\n",
    "\n",
    "La probabilidad de tener fiebre y dolor de cabeza si se tiene una determinada enfermedad es del 80% y 70% respectivamente. La prevalencia de la enfermedad en la sociedad es de 10.000 por cada 100.000 personas.\n",
    "\n",
    "- Desarrolla un script para crear la DCC.\n",
    "- ¿Qué probabilidad hay de tener la enfermedad si se tiene fiebre?\n",
    "- ¿Qué probabilidad hay de tener la enfermedad si se tiene dolor de cabeza?\n",
    "- ¿Qué probabilidad hay de tener la enfermedad si se tiene fiebre y dolor de cabeza?\n"
   ]
  },
  {
   "cell_type": "code",
   "execution_count": 94,
   "metadata": {},
   "outputs": [],
   "source": [
    "import numpy as np\n",
    "import pandas as pd\n",
    "\n",
    "np.random.seed(237)\n",
    "\n",
    "disease = np.random.choice(2, 10000, p=[0.9, 0.1])\n",
    "fever = []\n",
    "headache = []\n",
    "\n",
    "for d in disease:\n",
    "    if d == 1:  # Se tiene la enfermedad\n",
    "        headache.append(np.random.choice(2, p=[0.3,0.7]))  # Si se tiene la enfermedad hay un 70% de probabilidades de tener dolor de cabeza\n",
    "        fever.append(np.random.choice(2, p=[0.2,0.8]))\n",
    "    else:  # No se tiene la enfermedad\n",
    "        headache.append(np.random.choice(2, p=[0.95,0.05]))\n",
    "        fever.append(np.random.choice(2, p=[0.9,0.1]))\n",
    "\n",
    "aux = np.stack((disease, np.array(headache), np.array(fever)), axis=0)\n",
    "samples = np.transpose(aux)\n",
    "\n",
    "df = pd.DataFrame(data=samples, columns=[\"Enfermedad\", \"Dolor de cabeza\", \"Fiebre\"])\n"
   ]
  },
  {
   "cell_type": "code",
   "execution_count": 95,
   "metadata": {},
   "outputs": [
    {
     "name": "stdout",
     "output_type": "stream",
     "text": [
      "Enfermedad: 0.1045\n",
      "Dolor de cabeza: 0.1186\n",
      "Fiebre: 0.1689\n"
     ]
    }
   ],
   "source": [
    "print(\"Enfermedad:\", df['Enfermedad'].mean())\n",
    "print(\"Dolor de cabeza:\", df['Dolor de cabeza'].mean())\n",
    "print(\"Fiebre:\", df['Fiebre'].mean())"
   ]
  },
  {
   "cell_type": "code",
   "execution_count": 78,
   "metadata": {},
   "outputs": [
    {
     "data": {
      "text/html": [
       "<div>\n",
       "<style scoped>\n",
       "    .dataframe tbody tr th:only-of-type {\n",
       "        vertical-align: middle;\n",
       "    }\n",
       "\n",
       "    .dataframe tbody tr th {\n",
       "        vertical-align: top;\n",
       "    }\n",
       "\n",
       "    .dataframe thead th {\n",
       "        text-align: right;\n",
       "    }\n",
       "</style>\n",
       "<table border=\"1\" class=\"dataframe\">\n",
       "  <thead>\n",
       "    <tr style=\"text-align: right;\">\n",
       "      <th></th>\n",
       "      <th>Enfermedad</th>\n",
       "      <th>Dolor de cabeza</th>\n",
       "      <th>Fiebre</th>\n",
       "    </tr>\n",
       "  </thead>\n",
       "  <tbody>\n",
       "    <tr>\n",
       "      <th>0</th>\n",
       "      <td>0</td>\n",
       "      <td>0</td>\n",
       "      <td>1</td>\n",
       "    </tr>\n",
       "    <tr>\n",
       "      <th>1</th>\n",
       "      <td>0</td>\n",
       "      <td>0</td>\n",
       "      <td>0</td>\n",
       "    </tr>\n",
       "    <tr>\n",
       "      <th>2</th>\n",
       "      <td>0</td>\n",
       "      <td>0</td>\n",
       "      <td>0</td>\n",
       "    </tr>\n",
       "    <tr>\n",
       "      <th>3</th>\n",
       "      <td>0</td>\n",
       "      <td>1</td>\n",
       "      <td>0</td>\n",
       "    </tr>\n",
       "    <tr>\n",
       "      <th>4</th>\n",
       "      <td>0</td>\n",
       "      <td>0</td>\n",
       "      <td>0</td>\n",
       "    </tr>\n",
       "    <tr>\n",
       "      <th>...</th>\n",
       "      <td>...</td>\n",
       "      <td>...</td>\n",
       "      <td>...</td>\n",
       "    </tr>\n",
       "    <tr>\n",
       "      <th>9995</th>\n",
       "      <td>0</td>\n",
       "      <td>0</td>\n",
       "      <td>0</td>\n",
       "    </tr>\n",
       "    <tr>\n",
       "      <th>9996</th>\n",
       "      <td>0</td>\n",
       "      <td>0</td>\n",
       "      <td>0</td>\n",
       "    </tr>\n",
       "    <tr>\n",
       "      <th>9997</th>\n",
       "      <td>0</td>\n",
       "      <td>0</td>\n",
       "      <td>0</td>\n",
       "    </tr>\n",
       "    <tr>\n",
       "      <th>9998</th>\n",
       "      <td>0</td>\n",
       "      <td>0</td>\n",
       "      <td>1</td>\n",
       "    </tr>\n",
       "    <tr>\n",
       "      <th>9999</th>\n",
       "      <td>0</td>\n",
       "      <td>0</td>\n",
       "      <td>0</td>\n",
       "    </tr>\n",
       "  </tbody>\n",
       "</table>\n",
       "<p>10000 rows × 3 columns</p>\n",
       "</div>"
      ],
      "text/plain": [
       "      Enfermedad  Dolor de cabeza  Fiebre\n",
       "0              0                0       1\n",
       "1              0                0       0\n",
       "2              0                0       0\n",
       "3              0                1       0\n",
       "4              0                0       0\n",
       "...          ...              ...     ...\n",
       "9995           0                0       0\n",
       "9996           0                0       0\n",
       "9997           0                0       0\n",
       "9998           0                0       1\n",
       "9999           0                0       0\n",
       "\n",
       "[10000 rows x 3 columns]"
      ]
     },
     "execution_count": 78,
     "metadata": {},
     "output_type": "execute_result"
    }
   ],
   "source": [
    "df"
   ]
  },
  {
   "cell_type": "markdown",
   "metadata": {},
   "source": [
    "## Soluciones"
   ]
  },
  {
   "cell_type": "markdown",
   "metadata": {},
   "source": [
    "### Problema 1"
   ]
  },
  {
   "cell_type": "code",
   "execution_count": 183,
   "metadata": {},
   "outputs": [
    {
     "name": "stdout",
     "output_type": "stream",
     "text": [
      "spa_pyt = 0.3827\n",
      "spa_others = 0.0473\n",
      "ger_pyt = 0.3515\n",
      "ger_others = 0.0185\n",
      "fre_pyt = 0.122\n",
      "fre_others = 0.078\n",
      "1.0\n"
     ]
    }
   ],
   "source": [
    "DCC = {\n",
    "'spa_pyt' : 0.43 * 0.89,\n",
    "'spa_others' : 0.43 * 0.11,\n",
    "'ger_pyt' : 0.37 * 0.95,\n",
    "'ger_others' : 0.37 * 0.05,\n",
    "'fre_pyt' : 0.20 * 0.61,\n",
    "'fre_others' : 0.20 * 0.39\n",
    "}\n",
    "\n",
    "total = 0\n",
    "for k, v in DCC.items():\n",
    "    print(k, \"=\", np.round(v,4))\n",
    "    total += v\n",
    "print(total)"
   ]
  },
  {
   "cell_type": "code",
   "execution_count": 185,
   "metadata": {},
   "outputs": [
    {
     "name": "stdout",
     "output_type": "stream",
     "text": [
      "Probabilidad de que eligiendo al azar un programador en Python, éste sea francés: 0.1425\n"
     ]
    }
   ],
   "source": [
    "num = DCC['fre_pyt']\n",
    "den = DCC['spa_pyt'] + DCC['ger_pyt'] + DCC['fre_pyt']\n",
    "print(\"Probabilidad de que eligiendo al azar un programador en Python, éste sea francés:\", np.round(num/den, 4))"
   ]
  },
  {
   "cell_type": "markdown",
   "metadata": {},
   "source": [
    "Vamos a hacer este problema de otra forma. Por el enunciado del problema, ya sabemos la probabilidad *a priori* de ser programador francés y de ser programador en Python siendo francés. Veámos cuál es la probabilidad de ser programador en Python."
   ]
  },
  {
   "cell_type": "code",
   "execution_count": 204,
   "metadata": {},
   "outputs": [
    {
     "name": "stdout",
     "output_type": "stream",
     "text": [
      "Probabilidad de ser programador francés: 0.2\n",
      "Probabilidad de ser programador en Python siendo francés: 0.61\n",
      "Probabilidad de ser programador en Python: 0.8562\n"
     ]
    }
   ],
   "source": [
    "french_programmer = 0.2\n",
    "print(\"Probabilidad de ser programador francés:\", french_programmer)\n",
    "python_being_french = 0.61\n",
    "print(\"Probabilidad de ser programador en Python siendo francés:\", python_being_french)\n",
    "\n",
    "python_programmer = DCC['spa_pyt'] + DCC['ger_pyt'] + DCC['fre_pyt']\n",
    "print(\"Probabilidad de ser programador en Python:\", python_programmer)"
   ]
  },
  {
   "cell_type": "markdown",
   "metadata": {},
   "source": [
    "Por lo tanto, ¿cuál será la probabilidad de ser programador francés siendo programador en Python?"
   ]
  },
  {
   "cell_type": "code",
   "execution_count": 207,
   "metadata": {},
   "outputs": [
    {
     "name": "stdout",
     "output_type": "stream",
     "text": [
      "Probabilidad de que eligiendo al azar un programador en Python, éste sea francés: 0.1425\n"
     ]
    }
   ],
   "source": [
    "french_being_python = python_being_french * french_programmer / python_programmer\n",
    "print(\"Probabilidad de que eligiendo al azar un programador en Python, éste sea francés:\", np.round(french_being_python, 4))"
   ]
  },
  {
   "cell_type": "markdown",
   "metadata": {},
   "source": [
    "### Problema 2"
   ]
  },
  {
   "cell_type": "markdown",
   "metadata": {},
   "source": [
    "La probabilidad de tener fiebre si se tiene la variante Ómicron es del 54%. La prevalencia de la variante es de 726 por cada 100.000 personas. La probabilidad de tener fiebre en la población es de 2,34%. ¿Qué probabilidad hay de tener la variante Ómicron si se tiene fiebre?\n",
    "\n",
    "$P(f \\mid o) = 0.54$\n",
    "\n",
    "$P(o) = 0.00726$\n",
    "\n",
    "$P(f) = 0.0234$\n",
    "\n",
    "$$P(o \\mid f) = \\frac{P(f \\mid o) \\cdot P(o)}{P(f)} $$\n",
    "\n",
    "$$P(o \\mid f) = \\frac{0.54 \\cdot 0.00726}{0.0234} $$"
   ]
  },
  {
   "cell_type": "code",
   "execution_count": 197,
   "metadata": {},
   "outputs": [
    {
     "name": "stdout",
     "output_type": "stream",
     "text": [
      "Probabilidad de tener la variante Ómicron teniendo fiebre: 0.0168\n"
     ]
    }
   ],
   "source": [
    "print(\"Probabilidad de tener la variante Ómicron teniendo fiebre:\", np.round(0.54*0.00726/0.234, 4))"
   ]
  },
  {
   "cell_type": "markdown",
   "metadata": {},
   "source": [
    "### Problema 3"
   ]
  },
  {
   "cell_type": "markdown",
   "metadata": {},
   "source": [
    "Crearemos primero la DCC mediante un diccionario."
   ]
  },
  {
   "cell_type": "code",
   "execution_count": 130,
   "metadata": {},
   "outputs": [],
   "source": [
    "DCC = {}\n",
    "for e in samples:\n",
    "    k = np.array2string(e)\n",
    "    if DCC.get(k):\n",
    "        DCC[k] += 1\n",
    "    else:\n",
    "        DCC[k] = 1"
   ]
  },
  {
   "cell_type": "code",
   "execution_count": 131,
   "metadata": {},
   "outputs": [
    {
     "data": {
      "text/plain": [
       "{'[1 1 1]': 568,\n",
       " '[0 0 0]': 7670,\n",
       " '[1 0 1]': 253,\n",
       " '[0 0 1]': 820,\n",
       " '[1 1 0]': 153,\n",
       " '[0 1 1]': 48,\n",
       " '[0 1 0]': 417,\n",
       " '[1 0 0]': 71}"
      ]
     },
     "execution_count": 131,
     "metadata": {},
     "output_type": "execute_result"
    }
   ],
   "source": [
    "DCC"
   ]
  },
  {
   "cell_type": "code",
   "execution_count": 139,
   "metadata": {},
   "outputs": [],
   "source": [
    "size = len(samples)\n",
    "for e in DCC.keys():\n",
    "    DCC[e] = DCC[e] / size"
   ]
  },
  {
   "cell_type": "code",
   "execution_count": 140,
   "metadata": {},
   "outputs": [
    {
     "data": {
      "text/plain": [
       "{'[1 1 1]': 0.0568,\n",
       " '[0 0 0]': 0.767,\n",
       " '[1 0 1]': 0.0253,\n",
       " '[0 0 1]': 0.082,\n",
       " '[1 1 0]': 0.0153,\n",
       " '[0 1 1]': 0.0048,\n",
       " '[0 1 0]': 0.0417,\n",
       " '[1 0 0]': 0.0071}"
      ]
     },
     "execution_count": 140,
     "metadata": {},
     "output_type": "execute_result"
    }
   ],
   "source": [
    "DCC"
   ]
  },
  {
   "cell_type": "markdown",
   "metadata": {},
   "source": [
    "Vamos a crear un diccionario que nos ayude a visualizar los eventos atómicos"
   ]
  },
  {
   "cell_type": "code",
   "execution_count": 143,
   "metadata": {},
   "outputs": [],
   "source": [
    "t = {\n",
    "' e  d  f' : '[1 1 1]',\n",
    "'¬e ¬d ¬f' : '[0 0 0]',\n",
    "' e ¬d  f' : '[1 0 1]',\n",
    "'¬e ¬d  f' : '[0 0 1]',\n",
    "' e  d ¬f' : '[1 1 0]',\n",
    "'¬e  d  f' : '[0 1 1]',\n",
    "'¬e  d ¬f' : '[0 1 0]',\n",
    "' e ¬d ¬f' : '[1 0 0]'\n",
    "}"
   ]
  },
  {
   "cell_type": "markdown",
   "metadata": {},
   "source": [
    "¿Qué probabilidad hay de tener la enfermedad si se tiene fiebre?"
   ]
  },
  {
   "cell_type": "code",
   "execution_count": 166,
   "metadata": {},
   "outputs": [
    {
     "name": "stdout",
     "output_type": "stream",
     "text": [
      "48.61 %\n"
     ]
    }
   ],
   "source": [
    "num = DCC[t[' e  d  f']] + DCC[t[' e ¬d  f']]\n",
    "den = DCC[t[' e  d  f']] + DCC[t[' e ¬d  f']] + DCC[t['¬e  d  f']] + DCC[t['¬e ¬d  f']]\n",
    "print(np.round(num / den * 100, 2),\"%\")\n"
   ]
  },
  {
   "cell_type": "markdown",
   "metadata": {},
   "source": [
    "¿Qué probabilidad hay de tener la enfermedad si se tiene dolor de cabeza?"
   ]
  },
  {
   "cell_type": "code",
   "execution_count": 167,
   "metadata": {},
   "outputs": [
    {
     "name": "stdout",
     "output_type": "stream",
     "text": [
      "51.94 %\n"
     ]
    }
   ],
   "source": [
    "num = DCC[t[' e  d  f']] + DCC[t['¬e  d  f']]\n",
    "den = DCC[t[' e  d  f']] + DCC[t[' e  d ¬f']] + DCC[t['¬e  d  f']] + DCC[t['¬e  d ¬f']]\n",
    "print(np.round(num / den * 100, 2),\"%\")\n"
   ]
  },
  {
   "cell_type": "markdown",
   "metadata": {},
   "source": [
    "¿Qué probabilidad hay de tener la enfermedad si se tiene fiebre y dolor de cabeza?"
   ]
  },
  {
   "cell_type": "code",
   "execution_count": 169,
   "metadata": {},
   "outputs": [
    {
     "name": "stdout",
     "output_type": "stream",
     "text": [
      "92.21 %\n"
     ]
    }
   ],
   "source": [
    "num = DCC[t[' e  d  f']]\n",
    "den = DCC[t[' e  d  f']] + DCC[t['¬e  d  f']]\n",
    "print(np.round(num / den * 100, 2),\"%\")\n"
   ]
  },
  {
   "cell_type": "code",
   "execution_count": null,
   "metadata": {},
   "outputs": [],
   "source": []
  }
 ],
 "metadata": {
  "kernelspec": {
   "display_name": "Python 3",
   "language": "python",
   "name": "python3"
  },
  "language_info": {
   "codemirror_mode": {
    "name": "ipython",
    "version": 3
   },
   "file_extension": ".py",
   "mimetype": "text/x-python",
   "name": "python",
   "nbconvert_exporter": "python",
   "pygments_lexer": "ipython3",
   "version": "3.7.6"
  }
 },
 "nbformat": 4,
 "nbformat_minor": 5
}
