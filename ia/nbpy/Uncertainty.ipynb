{
 "cells": [
  {
   "cell_type": "markdown",
   "id": "5caaae60",
   "metadata": {},
   "source": [
    "# Incertidumbre"
   ]
  },
  {
   "cell_type": "markdown",
   "id": "26959dab",
   "metadata": {},
   "source": [
    "### Problema 1\n",
    "\n",
    "En una empresa de desarrollo de aplicaciones de inteligencia artificial el 43% de los programadores son españoles, el 37% son alemanes y el 20% son franceses. De los programadores españoles, el 89% usa Python como lenguaje principal, de los alemanes lo usa el 95% y de los franceses el 61%. Crea la tabla de probabilidad conjunta y completa (DCC) correspondiente. ¿Cuál es la probabilidad de que eligiendo al azar un programador en Python, éste sea francés?\n",
    "\n",
    "<img src=\"imgs/prob01.svg\" width=60%>\n",
    "\n",
    "\n",
    "### Problema 2\n",
    "\n",
    "La probabilidad de tener fiebre si se tiene la variante Ómicron es del 54%. La prevalencia de la variante es de 726 por cada 100.000 personas. La probabilidad de tener fiebre en la población es de 2,34%. ¿Qué probabilidad hay de tener la variante Ómicron si se tiene fiebre?\n",
    "\n",
    "\n",
    "### Problema 3\n",
    "\n",
    "La probabilidad de tener fiebre y dolor de cabeza si se tiene una determinada enfermedad es del 80% y 70% respectivamente. La prevalencia de la enfermedad en la sociedad es de 10.000 por cada 100.000 personas.\n",
    "\n",
    "- Desarrolla un script para crear la DCC.\n",
    "- ¿Qué probabilidad hay de tener la enfermedad si se tiene fiebre?\n",
    "- ¿Qué probabilidad hay de tener la enfermedad si se tiene dolor de cabeza?\n",
    "- ¿Qué probabilidad hay de tener la enfermedad si se tiene fiebre y dolor de cabeza?\n"
   ]
  },
  {
   "cell_type": "code",
   "execution_count": 59,
   "id": "60a5b50f",
   "metadata": {},
   "outputs": [],
   "source": [
    "import numpy as np\n",
    "import pandas as pd\n",
    "\n",
    "disease = np.random.choice(2, 10000, p=[0.9, 0.1])\n",
    "fever = []\n",
    "headache = []\n",
    "\n",
    "for d in disease:\n",
    "    if d == 1:  # Se tiene la enfermedad\n",
    "        headache.append(np.random.choice(2, p=[0.3,0.7]))  # Si se tiene la enfermedad hay un 70% de probabilidades de tener dolor de cabeza\n",
    "        fever.append(np.random.choice(2, p=[0.2,0.8]))\n",
    "    else:  # No se tiene la enfermedad\n",
    "        headache.append(np.random.choice(2, p=[0.95,0.05]))\n",
    "        fever.append(np.random.choice(2, p=[0.9,0.1]))\n",
    "\n",
    "aux = np.stack((disease, np.array(headache), np.array(fever)), axis=0)\n",
    "samples = np.transpose(aux)\n",
    "\n",
    "df = pd.DataFrame(data=samples, columns=[\"Enfermedad\", \"Dolor de cabeza\", \"Fiebre\"])\n"
   ]
  },
  {
   "cell_type": "code",
   "execution_count": 77,
   "id": "d119edfb",
   "metadata": {},
   "outputs": [
    {
     "name": "stdout",
     "output_type": "stream",
     "text": [
      "Enfermedad: 0.1038\n",
      "Dolor de cabeza: 0.1155\n",
      "Fiebre: 0.1702\n"
     ]
    }
   ],
   "source": [
    "print(\"Enfermedad:\", df['Enfermedad'].mean())\n",
    "print(\"Dolor de cabeza:\", df['Dolor de cabeza'].mean())\n",
    "print(\"Fiebre:\", df['Fiebre'].mean())"
   ]
  },
  {
   "cell_type": "code",
   "execution_count": null,
   "id": "0e84768f",
   "metadata": {},
   "outputs": [],
   "source": []
  }
 ],
 "metadata": {
  "kernelspec": {
   "display_name": "Python 3",
   "language": "python",
   "name": "python3"
  },
  "language_info": {
   "codemirror_mode": {
    "name": "ipython",
    "version": 3
   },
   "file_extension": ".py",
   "mimetype": "text/x-python",
   "name": "python",
   "nbconvert_exporter": "python",
   "pygments_lexer": "ipython3",
   "version": "3.7.3"
  }
 },
 "nbformat": 4,
 "nbformat_minor": 5
}
