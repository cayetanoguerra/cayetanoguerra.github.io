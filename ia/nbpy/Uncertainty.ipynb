{
 "cells": [
  {
   "cell_type": "markdown",
   "id": "ac00c3fb",
   "metadata": {},
   "source": [
    "# Incertidumbre"
   ]
  },
  {
   "cell_type": "markdown",
   "id": "8f03761a",
   "metadata": {},
   "source": [
    "### Problema 1\n",
    "\n",
    "En una empresa de desarrollo de aplicaciones de inteligencia artificial el 43% de los programadores son españoles, el 37% son alemanes y el 20% son franceses. De los programadores españoles, el 89% usa Python como lenguaje principal, de los alemanes lo usa el 95% y de los franceses el 61%. Crea la tabla de probabilidad conjunta y completa (DCC) correspondiente. ¿Cuál es la probabilidad de que eligiendo al azar un programador en Python, éste sea francés?\n",
    "\n",
    "<img src=\"imgs/prob01.svg\" width=60%>\n",
    "\n",
    "\n",
    "### Problema 2\n",
    "\n",
    "La probabilidad de tener fiebre si se tiene la variante Ómicron es del 54%. La prevalencia de la variante es de 726 por cada 100.000 personas. La probabilidad de tener fiebre en la población es de 2,34%. ¿Qué probabilidad hay de tener la variante Ómicron si se tiene fiebre?\n",
    "\n",
    "\n",
    "### Problema 3\n",
    "\n",
    "La probabilidad de tener fiebre y dolor de cabeza si se tiene la variante Ómicron es del 54% y 76% respectivamente. La prevalencia de la variante es de 726 por cada 100.000 personas. La probabilidad de tener fiebre en la población es de 2,34% y la de tener dolor de cabeza de 7,6%. \n",
    "\n",
    "- ¿Qué probabilidad hay de tener la variante Ómicron si se tiene fiebre?\n",
    "- ¿Qué probabilidad hay de tener la variante Ómicron si se tiene dolor de cabeza?\n",
    "- ¿Qué probabilidad hay de tener la variante Ómicron si se tiene fiebre y dolor de cabeza?\n"
   ]
  },
  {
   "cell_type": "code",
   "execution_count": null,
   "id": "27084d45",
   "metadata": {},
   "outputs": [],
   "source": [
    "P(c,e,f) =  P(f/c)P(e/c)p(c)"
   ]
  }
 ],
 "metadata": {
  "kernelspec": {
   "display_name": "Python 3",
   "language": "python",
   "name": "python3"
  },
  "language_info": {
   "codemirror_mode": {
    "name": "ipython",
    "version": 3
   },
   "file_extension": ".py",
   "mimetype": "text/x-python",
   "name": "python",
   "nbconvert_exporter": "python",
   "pygments_lexer": "ipython3",
   "version": "3.7.3"
  }
 },
 "nbformat": 4,
 "nbformat_minor": 5
}
