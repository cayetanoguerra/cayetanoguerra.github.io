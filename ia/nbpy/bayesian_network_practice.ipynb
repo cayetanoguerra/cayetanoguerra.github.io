{
 "cells": [
  {
   "cell_type": "markdown",
   "metadata": {},
   "source": [
    "# Práctica sobre redes bayesianas\n",
    "\n",
    "Disponemos de un [*dataset*](\"https://github.com/cayetanoguerra/cayetanoguerra.github.io/blob/master/ia/nbpy/data/exoplanets.xls\") de [exoplanetas](https://es.wikipedia.org/wiki/Planeta_extrasolar#:~:text=Un%20planeta%20extrasolar%20o%20exoplaneta,cient%C3%ADfica%20en%20el%20siglo%20XX.) que cuenta con los siguientes datos:\n",
    "\n",
    "- **Radio:** (metros) - variable real\n",
    "- **Masa:** (kilogramos) - variable real\n",
    "- **Gravedad:** (relativa respecto a la terrestre) - variable real\n",
    "- **Atmósfera:** variable binaria\n",
    "- **Oxígeno:** variable binaria\n",
    "- **Temperatura promedio:** (grados centígrados) - variable real\n",
    "- **Existencia de agua:** variables binaria\n",
    "- **Periodo de rotación:** (horas) - variable real\n",
    "- **Vida:** variable binaria\n",
    "\n",
    "<img src=\"imgs/exoplanetas.jpg\">\n",
    "\n",
    "Deberás desarrollar una red bayesiana que retorne la probabilidad de que haya vida en un determinado planeta en función de sus propiedades.\n",
    "\n",
    "Observa que no todos los datos son categóricos, así que deberás categorizarlos antes. Para ello, puedes definir rangos en los datos reales para obtener categorías. Por ejemplo, la propiedad **radio** puedes categorizarla como **pequeño**, **medio** y **grande**.\n",
    "\n",
    "### Tareas\n",
    "\n",
    "1) Categoriza las variables reales como consideres.\n",
    "\n",
    "2) Mediante la librería **bnlearn** obtén el grafo de manera automática de la red bayesiana y reflexiona sobre su verosimilitud. Cámbialo manualmente si lo crees conveniente.\n",
    "\n",
    "3) Busca de manera automática las tablas de probabilidad condicionada de la red.\n",
    "\n",
    "4) Escoge algunas propiedades de los planetas y realiza la inferencia sobre ellos.\n",
    "\n",
    "La práctica debe ser realizada mediante un notebook de Jupyter. Describe apropiadamente el código y su función.\n",
    " "
   ]
  },
  {
   "cell_type": "code",
   "execution_count": null,
   "metadata": {},
   "outputs": [],
   "source": []
  },
  {
   "cell_type": "code",
   "execution_count": null,
   "metadata": {},
   "outputs": [],
   "source": []
  }
 ],
 "metadata": {
  "kernelspec": {
   "display_name": "Python 3",
   "language": "python",
   "name": "python3"
  },
  "language_info": {
   "codemirror_mode": {
    "name": "ipython",
    "version": 3
   },
   "file_extension": ".py",
   "mimetype": "text/x-python",
   "name": "python",
   "nbconvert_exporter": "python",
   "pygments_lexer": "ipython3",
   "version": "3.7.6"
  }
 },
 "nbformat": 4,
 "nbformat_minor": 4
}
