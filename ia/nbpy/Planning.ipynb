{
 "cells": [
  {
   "cell_type": "markdown",
   "id": "1824c017",
   "metadata": {},
   "source": [
    "# Planificación\n",
    "\n",
    "http://editor.planning.domains/"
   ]
  },
  {
   "cell_type": "code",
   "execution_count": null,
   "id": "c1fa5016",
   "metadata": {},
   "outputs": [],
   "source": []
  }
 ],
 "metadata": {
  "kernelspec": {
   "display_name": "Python 3",
   "language": "python",
   "name": "python3"
  },
  "language_info": {
   "codemirror_mode": {
    "name": "ipython",
    "version": 3
   },
   "file_extension": ".py",
   "mimetype": "text/x-python",
   "name": "python",
   "nbconvert_exporter": "python",
   "pygments_lexer": "ipython3",
   "version": "3.7.3"
  }
 },
 "nbformat": 4,
 "nbformat_minor": 5
}
