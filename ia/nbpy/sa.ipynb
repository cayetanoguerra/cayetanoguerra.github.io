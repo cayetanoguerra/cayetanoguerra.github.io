{
 "cells": [
  {
   "cell_type": "markdown",
   "metadata": {},
   "source": [
    "# Simulated annealing\n",
    "\n",
    "Mediante esta técnica de búsqueda heurística intentaremos aproximarnos al mínimo de la siguiente función:\n",
    "\n",
    "$$\n",
    "f(x,y) = 0.2 + x^2 + y^2 - 0.1 \\cdot \\cos(6 \\pi x) - 0.1 \\cdot \\cos(6 \\pi y)\n",
    "$$\n",
    "\n",
    "<img src=\"imgs/function_min.jpg\" width=70%>\n",
    "\n",
    "Su mínimo se encuentra en el punto $(0,0)$."
   ]
  },
  {
   "cell_type": "code",
   "execution_count": 4,
   "metadata": {},
   "outputs": [
    {
     "name": "stdout",
     "output_type": "stream",
     "text": [
      "iteration Number =  0   best_so_far =  [-0.88259713  2.09594807]   new_best = 5.45535\n",
      "iteration Number =  1   best_so_far =  [-0.79605637  1.8657942 ]   new_best = 4.47309\n",
      "iteration Number =  2   best_so_far =  [-0.62157519  1.78967351]   new_best = 3.79124\n",
      "iteration Number =  3   best_so_far =  [-0.58967128  1.76473647]   new_best = 3.67745\n",
      "iteration Number =  4   best_so_far =  [-0.44346049  1.5587224 ]   new_best = 2.91946\n",
      "iteration Number =  6   best_so_far =  [-0.40270465  1.55761635]   new_best = 2.80898\n",
      "iteration Number =  7   best_so_far =  [-0.34932356  1.54841902]   new_best = 2.68536\n",
      "iteration Number =  10   best_so_far =  [0.02230315 1.56337538]   new_best = 2.59017\n",
      "iteration Number =  11   best_so_far =  [0.01001413 1.46979843]   new_best = 2.34637\n",
      "iteration Number =  63   best_so_far =  [0.376219   1.38292654]   new_best = 2.12549\n",
      "iteration Number =  66   best_so_far =  [0.36257453 1.37102112]   new_best = 2.05010\n",
      "iteration Number =  67   best_so_far =  [0.36431547 1.25881925]   new_best = 1.81744\n",
      "iteration Number =  68   best_so_far =  [0.31260602 1.15911656]   new_best = 1.64780\n",
      "iteration Number =  69   best_so_far =  [0.33748594 1.12945245]   new_best = 1.56621\n",
      "iteration Number =  73   best_so_far =  [0.36640083 1.11619768]   new_best = 1.55695\n",
      "iteration Number =  76   best_so_far =  [0.48772501 1.02570421]   new_best = 1.49876\n",
      "iteration Number =  77   best_so_far =  [0.43167132 1.03978153]   new_best = 1.42215\n",
      "iteration Number =  78   best_so_far =  [0.60843142 0.96100416]   new_best = 1.37404\n",
      "iteration Number =  86   best_so_far =  [0.61444316 0.6968739 ]   new_best = 0.92362\n",
      "iteration Number =  87   best_so_far =  [0.65552025 0.69082656]   new_best = 0.91933\n",
      "iteration Number =  94   best_so_far =  [0.50983975 0.60198814]   new_best = 0.88620\n",
      "iteration Number =  97   best_so_far =  [0.39736147 0.58322064]   new_best = 0.66268\n",
      "iteration Number =  99   best_so_far =  [0.02021783 0.62086056]   new_best = 0.42809\n",
      "iteration Number =  107   best_so_far =  [-0.04904838  0.39126727]   new_best = 0.24919\n",
      "iteration Number =  108   best_so_far =  [0.03045423 0.35382344]   new_best = 0.14951\n",
      "iteration Number =  116   best_so_far =  [-0.00418458  0.27984876]   new_best = 0.12532\n",
      "iteration Number =  119   best_so_far =  [0.01235174 0.2826032 ]   new_best = 0.12507\n",
      "iteration Number =  173   best_so_far =  [0.29335386 0.00096128]   new_best = 0.11316\n",
      "iteration Number =  200   best_so_far =  [-0.30779056  0.01214809]   new_best = 0.10887\n",
      "iteration Number =  230   best_so_far =  [0.01014133 0.05100176]   new_best = 0.04728\n",
      "iteration Number =  246   best_so_far =  [0.03038092 0.00989642]   new_best = 0.01871\n",
      "iteration Number =  253   best_so_far =  [-0.0205163  -0.00675217]   new_best = 0.00866\n",
      "iteration Number =  277   best_so_far =  [ 0.01622337 -0.0003477 ]   new_best = 0.00490\n",
      "iteration Number =  439   best_so_far =  [-0.00230047 -0.00819501]   new_best = 0.00136\n",
      "iteration Number =  1109   best_so_far =  [-0.00241323  0.00754338]   new_best = 0.00118\n"
     ]
    },
    {
     "data": {
      "image/png": "[encoded data removed]",
      "text/plain": [
       "<Figure size 432x288 with 1 Axes>"
      ]
     },
     "metadata": {
      "needs_background": "light"
     },
     "output_type": "display_data"
    }
   ],
   "source": [
    "from numpy import asarray, exp\n",
    "from numpy.random import randn, rand, seed\n",
    "from matplotlib import pyplot\n",
    "import math\n",
    "\n",
    "\n",
    "# define objective function\n",
    "def objective(step):\n",
    "    x1 = step[0]\n",
    "    x2 = step[1]\n",
    "    obj = 0.2 + x1**2 + x2**2 - 0.1*math.cos(6.0*3.1415*x1) - 0.1*math.cos(6.0*3.1415*x2)\n",
    "    return obj\n",
    "\n",
    "\n",
    "# Define simulated annealing algorithm\n",
    "def sa(objective, area, iterations, step_size, temperature):\n",
    "    # create initial point\n",
    "    start_point = area[:, 0] + rand( len( area ) ) * ( area[:, 1] - area[:, 0] )\n",
    "    \n",
    "    # evaluate initial point\n",
    "    start_point_eval = objective(start_point)\n",
    "    \n",
    "    # Assign previous and new solution to previous and new_point_eval variable \n",
    "    mia_start_point, mia_start_eval = start_point, start_point_eval\n",
    "    outputs = []\n",
    "    \n",
    "    for i in range(iterations):\n",
    "        \n",
    "        # First step by mia\n",
    "        mia_step = mia_start_point + randn( len( area ) ) * step_size  \n",
    "        mia_step_eval = objective(mia_step)\n",
    "        \n",
    "        if mia_step_eval < start_point_eval:\n",
    "            start_point, start_point_eval = mia_step, mia_step_eval\n",
    "            outputs.append(start_point_eval)  #Append the new values into the output list\n",
    "            #print('Acceptance Criteria = %.5f' % mac,\" \",'iteration Number = ',i,\" \", 'best_so_far = ',start_point,\" \" ,'new_best = %.5f' % start_point_eval)\n",
    "            print('iteration Number = ',i,\" \", 'best_so_far = ',start_point,\" \" ,'new_best = %.5f' % start_point_eval)\n",
    "            \n",
    "        difference = mia_step_eval - mia_start_eval\n",
    "        t = temperature / float(i + 1)\n",
    "        \n",
    "        # calculate Metropolis Acceptance Criterion / Acceptance Probability\n",
    "        mac = exp(-difference / t)\n",
    "        \n",
    "        # check whether the new point is acceptable \n",
    "        if difference < 0 or rand() < mac:\n",
    "            mia_start_point, mia_start_eval = mia_step, mia_step_eval\n",
    "            \n",
    "    return [start_point, start_point_eval, outputs]\n",
    "\n",
    "seed(1)\n",
    "\n",
    "# define the area of the search space\n",
    "# area = asarray([[-6.0, 6.0]])\n",
    "area = asarray([[-5.0, 5.0],[-5.0, 5.0]])\n",
    "\n",
    "# initial temperature\n",
    "temperature = 12\n",
    "\n",
    "# define the total no. of iterations\n",
    "iterations = 1200\n",
    "\n",
    "# define maximum step_size\n",
    "step_size = 0.1\n",
    "\n",
    "# perform the simulated annealing search\n",
    "start_point, output, outputs = sa(objective, area, iterations, step_size, temperature)\n",
    "\n",
    "#plotting the values\n",
    "pyplot.plot(outputs, 'ro-')\n",
    "pyplot.xlabel('Improvement Value')\n",
    "pyplot.ylabel('Evaluation of Objective Function')\n",
    "pyplot.show()"
   ]
  }
 ],
 "metadata": {
  "kernelspec": {
   "display_name": "Python 3",
   "language": "python",
   "name": "python3"
  },
  "language_info": {
   "codemirror_mode": {
    "name": "ipython",
    "version": 3
   },
   "file_extension": ".py",
   "mimetype": "text/x-python",
   "name": "python",
   "nbconvert_exporter": "python",
   "pygments_lexer": "ipython3",
   "version": "3.7.6"
  }
 },
 "nbformat": 4,
 "nbformat_minor": 4
}
