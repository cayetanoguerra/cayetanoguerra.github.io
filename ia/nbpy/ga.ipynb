{
 "cells": [
  {
   "cell_type": "markdown",
   "metadata": {},
   "source": [
    "# Algoritmos genéticos\n",
    "--------------------\n",
    "\n",
    "Tutorial completo: http://deap.readthedocs.io/en/master/tutorials/basic/part1.html\n",
    "\n",
    "Referencia DEAP: http://deap.readthedocs.io/en/master/api/tools.html"
   ]
  },
  {
   "cell_type": "code",
   "execution_count": 1,
   "metadata": {
    "collapsed": true
   },
   "outputs": [],
   "source": [
    "import random\n",
    "from deap import base, creator, tools"
   ]
  },
  {
   "cell_type": "markdown",
   "metadata": {},
   "source": [
    "## Fitness"
   ]
  },
  {
   "cell_type": "markdown",
   "metadata": {},
   "source": [
    "La clase \"Fitness\" proporcionada es una **clase abstracta** que necesita un atributo de pesos para ser funcional. Un \"fitness\" a minimizar se construye utilizando pesos negativos, mientras que para maximizar debemos coloar pesos positivos. Es posible que la función de fitness incluya varias funciones internas donde unas deban maximizarse y otras minimizarse. Por esta razón el parámetro \"weights\" es una tupla.\n",
    "\n",
    "La función *create()* tiene al menos dos argumentos, un nombre para la clase recién creada y una clase base. Cualquier argumento subsiguiente se convierte en un **atributo de la clase**."
   ]
  },
  {
   "cell_type": "code",
   "execution_count": 2,
   "metadata": {
    "collapsed": true
   },
   "outputs": [],
   "source": [
    "creator.create(\"FitnessMin\", base.Fitness, weights=(1.0,))\n",
    "# creator.create(\"FitnessMulti\", base.Fitness, weights=(-1.0, 1.0))"
   ]
  },
  {
   "cell_type": "markdown",
   "metadata": {},
   "source": [
    "## Individuos\n",
    "\n",
    "El primer individuo que crearemos será una simple lista que contiene flotantes. Para producir este tipo de individuo, necesitamos crear una clase *Individual*, usando el creador, que heredará del tipo de lista estándar y tendrá un atributo fitness."
   ]
  },
  {
   "cell_type": "code",
   "execution_count": 3,
   "metadata": {
    "collapsed": true
   },
   "outputs": [],
   "source": [
    "creator.create(\"Individual\", list, fitness=creator.FitnessMin)"
   ]
  },
  {
   "cell_type": "markdown",
   "metadata": {},
   "source": [
    "Introducimos ahora el método *register( )*, que toma, al menos, dos argumentos; un alias y una función asignada a este alias. Cualquier otro argumento posterior se pasará a la función cuando esta se invoque. Por lo tanto, el código siguiente creará dos alias en el toolbox; *attr_float* e *individuo*. La primera redirecciona a la función *random.random( )*. El segundo es un acceso directo a la función *initRepeat( )*, fijando su argumento de contenedor a la clase *creator.Individual*, su argumento *func* a la función *toolbox.attr_float()* y su número de repeticiones al argumento *IND_SIZE*."
   ]
  },
  {
   "cell_type": "code",
   "execution_count": 4,
   "metadata": {
    "collapsed": true
   },
   "outputs": [],
   "source": [
    "IND_SIZE=10  # tamaño del individuo. \n",
    "\n",
    "toolbox = base.Toolbox()\n",
    "toolbox.register(\"attr_float\", random.random)\n",
    "toolbox.register(\"individual\", tools.initRepeat, creator.Individual,\n",
    "                 toolbox.attr_float, n=IND_SIZE)"
   ]
  },
  {
   "cell_type": "markdown",
   "metadata": {},
   "source": [
    "Probemos algunas cosas..."
   ]
  },
  {
   "cell_type": "code",
   "execution_count": 5,
   "metadata": {},
   "outputs": [
    {
     "name": "stdout",
     "output_type": "stream",
     "text": [
      "10\n",
      "[0.3672844457823412, 0.7790911992939252, 0.45574622978037194, 0.16904132416463236, 0.2744239127071303, 0.9410893523378558, 0.4754702439574243, 0.09891663709382403, 0.3190764957999954, 0.49075535188417974]\n"
     ]
    }
   ],
   "source": [
    "i = toolbox.individual()\n",
    "print(len(i))\n",
    "print(i)  # cada individuo es una lista de diez números flotantes."
   ]
  },
  {
   "cell_type": "code",
   "execution_count": 6,
   "metadata": {},
   "outputs": [
    {
     "name": "stdout",
     "output_type": "stream",
     "text": [
      "0.9282735675429145\n"
     ]
    }
   ],
   "source": [
    "print(toolbox.attr_float())  # attr_float es un alias a la función random.random()."
   ]
  },
  {
   "cell_type": "markdown",
   "metadata": {},
   "source": [
    "## Población\n",
    "\n",
    "Nuestra población será una lista con tantos individuos como queramos establecer. Para ello, registraremos el método \"population\" como, de nuevo, un acceso directo a la función *tools.initRepeat*, donde llenaremos una lista \"*list*\"con individuos \"*toolbox.individual*\"."
   ]
  },
  {
   "cell_type": "code",
   "execution_count": 7,
   "metadata": {
    "collapsed": true
   },
   "outputs": [],
   "source": [
    "toolbox.register(\"population\", tools.initRepeat, list, toolbox.individual)"
   ]
  },
  {
   "cell_type": "markdown",
   "metadata": {},
   "source": [
    "Probemos esto..."
   ]
  },
  {
   "cell_type": "code",
   "execution_count": 8,
   "metadata": {},
   "outputs": [
    {
     "name": "stdout",
     "output_type": "stream",
     "text": [
      "Número de individuos: 3\n",
      "[[0.37075761918846295, 0.7798677459114293, 0.04809259689682999, 0.11334028575089661, 0.47856333419012387, 0.43428209590986655, 0.430176644960792, 0.48228844302093965, 0.8454204163664236, 0.3454451718076943], [0.03039137595504171, 0.2746483779460943, 0.9793057571370583, 0.42456074312096637, 0.48013695877121343, 0.5441195805006059, 0.8218555436536235, 0.022223486484795885, 0.04217833165970153, 0.7179516078996645], [0.10670056209511869, 0.37936507210992376, 0.6328188895471644, 0.31434857129238103, 0.7981311840197746, 0.9505741900958912, 0.19860223555342194, 0.08540216367100362, 0.9511549931495352, 0.47591695433352754]]\n"
     ]
    }
   ],
   "source": [
    "p = toolbox.population(3)\n",
    "print(\"Número de individuos:\", len(p))\n",
    "print(p)  # tenemos 3 individuos con 10 flotantes cada uno.\n",
    "\n",
    "# Podríamos haber registrado \"population\" también con un número fijado en la población.\n",
    "# toolbox.register(\"population\", tools.initRepeat, list, toolbox.individual, 3)"
   ]
  },
  {
   "cell_type": "markdown",
   "metadata": {},
   "source": [
    "## Operadores"
   ]
  },
  {
   "cell_type": "markdown",
   "metadata": {},
   "source": [
    "Los operadores son como los inicializadores, excepto que algunos ya están implementados en el módulo \"toolbox\". Una vez se hayan elegido los operadores adecuados, hay que registrarlos en \"toolbox\". La función (o funciones) de \"fitness\" nos las podemos crear nosotros."
   ]
  },
  {
   "cell_type": "code",
   "execution_count": 9,
   "metadata": {
    "collapsed": true
   },
   "outputs": [],
   "source": [
    "def evaluate(individual):  # Nuestra función de fitness será tan solo la suma de los 10 valores del individuo.\n",
    "    return sum(individual),  # Fíjate en la coma al final, quiere decir que devolvemos una tupla.\n",
    "\n",
    "toolbox.register(\"mate\", tools.cxTwoPoint)  # Cruce en dos puntos\n",
    "toolbox.register(\"mutate\", tools.mutGaussian, mu=0, sigma=1, indpb=0.1)\n",
    "toolbox.register(\"select\", tools.selTournament, tournsize=3)\n",
    "toolbox.register(\"evaluate\", evaluate)"
   ]
  },
  {
   "cell_type": "markdown",
   "metadata": {},
   "source": [
    "## Algoritmo final"
   ]
  },
  {
   "cell_type": "code",
   "execution_count": 10,
   "metadata": {
    "collapsed": true
   },
   "outputs": [],
   "source": [
    "def main(pop):\n",
    "    \n",
    "    CXPB, MUTPB, NGEN = 0.5, 0.2, 40\n",
    "\n",
    "    # Evaluate the entire population\n",
    "    fitnesses = [toolbox.evaluate(i) for i in pop]\n",
    "    for ind, fit in zip(pop, fitnesses):\n",
    "        ind.fitness.values = fit\n",
    "\n",
    "    for g in range(NGEN):\n",
    "        # Select the next generation individuals\n",
    "        offspring = toolbox.select(pop, len(pop))\n",
    "        # Clone the selected individuals\n",
    "        offspring = [toolbox.clone(i) for i in offspring]\n",
    "\n",
    "        # Apply crossover and mutation on the offspring\n",
    "        for child1, child2 in zip(offspring[::2], offspring[1::2]):\n",
    "            if random.random() < CXPB:\n",
    "                toolbox.mate(child1, child2)\n",
    "                del child1.fitness.values\n",
    "                del child2.fitness.values\n",
    "\n",
    "        for mutant in offspring:\n",
    "            if random.random() < MUTPB:\n",
    "                toolbox.mutate(mutant)\n",
    "                del mutant.fitness.values\n",
    "\n",
    "        # Evaluate the individuals with an invalid fitness\n",
    "        invalid_ind = [ind for ind in offspring if not ind.fitness.valid]\n",
    "        fitnesses = [toolbox.evaluate(i) for i in invalid_ind] \n",
    "        \n",
    "        for ind, fit in zip(invalid_ind, fitnesses):\n",
    "            ind.fitness.values = fit\n",
    "\n",
    "        # The population is entirely replaced by the offspring\n",
    "        pop = offspring\n",
    "\n",
    "    return pop"
   ]
  },
  {
   "cell_type": "code",
   "execution_count": 11,
   "metadata": {},
   "outputs": [
    {
     "name": "stdout",
     "output_type": "stream",
     "text": [
      "Ind: 0 -> 3.6761174653567723\n",
      "Ind: 1 -> 5.453372208649969\n",
      "Ind: 2 -> 4.501968099276737\n",
      "Ind: 3 -> 5.402575527308875\n",
      "Ind: 4 -> 6.24469035496378\n",
      "Ind: 5 -> 5.4205017444121015\n",
      "Ind: 6 -> 5.660210991262966\n",
      "Ind: 7 -> 4.246243976749309\n",
      "Ind: 8 -> 4.517007564575538\n",
      "Ind: 9 -> 6.258523413283948\n",
      "Ind: 10 -> 5.728527998069859\n",
      "Ind: 11 -> 4.0461296145578896\n",
      "Ind: 12 -> 5.7256297171174735\n",
      "Ind: 13 -> 5.942693817498009\n",
      "Ind: 14 -> 4.324489480198404\n",
      "Ind: 15 -> 5.991394326855755\n",
      "Ind: 16 -> 5.524316972991932\n",
      "Ind: 17 -> 4.423108089844838\n",
      "Ind: 18 -> 3.9921287212008036\n",
      "Ind: 19 -> 4.942972943825481\n",
      "Ind: 20 -> 5.295739275334482\n",
      "Ind: 21 -> 4.030359872155145\n",
      "Ind: 22 -> 5.428121565620315\n",
      "Ind: 23 -> 5.403327003038093\n",
      "Ind: 24 -> 6.914731526654303\n",
      "Ind: 25 -> 4.611200526999221\n",
      "Ind: 26 -> 5.723074694005733\n",
      "Ind: 27 -> 4.260861544095921\n",
      "Ind: 28 -> 4.9696722237541096\n",
      "Ind: 29 -> 4.252699168197833\n",
      "Ind: 30 -> 5.209819097649\n",
      "Ind: 31 -> 3.704916975743044\n",
      "Ind: 32 -> 5.245427118184674\n",
      "Ind: 33 -> 5.8925006765402035\n",
      "Ind: 34 -> 5.647367713457387\n",
      "Ind: 35 -> 5.795613762219387\n",
      "Ind: 36 -> 5.723342114144915\n",
      "Ind: 37 -> 5.439266761504205\n",
      "Ind: 38 -> 4.275079324701614\n",
      "Ind: 39 -> 3.998516608773332\n",
      "Ind: 40 -> 5.882439727074957\n",
      "Ind: 41 -> 3.622544092605136\n",
      "Ind: 42 -> 5.039051426103422\n",
      "Ind: 43 -> 6.771240611086084\n",
      "Ind: 44 -> 5.906273445520634\n",
      "Ind: 45 -> 5.924391323317501\n",
      "Ind: 46 -> 3.620254590053632\n",
      "Ind: 47 -> 5.2956168430229456\n",
      "Ind: 48 -> 7.0857117933080085\n",
      "Ind: 49 -> 4.1955015064985055\n",
      "-------------------------------\n",
      "Ind: 0 -> 39.65519713666185\n",
      "Ind: 1 -> 46.265275422245395\n",
      "Ind: 2 -> 44.760764510921504\n",
      "Ind: 3 -> 42.9445730851364\n",
      "Ind: 4 -> 42.886245241112405\n",
      "Ind: 5 -> 43.034227317794844\n",
      "Ind: 6 -> 42.886245241112405\n",
      "Ind: 7 -> 42.886245241112405\n",
      "Ind: 8 -> 42.28134876401435\n",
      "Ind: 9 -> 43.387588187771065\n",
      "Ind: 10 -> 43.002135670686656\n",
      "Ind: 11 -> 42.93380256958031\n",
      "Ind: 12 -> 43.379328375123805\n",
      "Ind: 13 -> 43.379328375123805\n",
      "Ind: 14 -> 42.465976688012496\n",
      "Ind: 15 -> 43.982150101760894\n",
      "Ind: 16 -> 42.886245241112405\n",
      "Ind: 17 -> 42.886245241112405\n",
      "Ind: 18 -> 43.034227317794844\n",
      "Ind: 19 -> 42.63470963399058\n",
      "Ind: 20 -> 41.76469303768819\n",
      "Ind: 21 -> 42.886245241112405\n",
      "Ind: 22 -> 42.26393226549425\n",
      "Ind: 23 -> 42.886245241112405\n",
      "Ind: 24 -> 45.17651688609661\n",
      "Ind: 25 -> 39.14830731842538\n",
      "Ind: 26 -> 42.886245241112405\n",
      "Ind: 27 -> 41.874817463799914\n",
      "Ind: 28 -> 42.886245241112405\n",
      "Ind: 29 -> 43.26920394901208\n",
      "Ind: 30 -> 42.26393226549425\n",
      "Ind: 31 -> 42.886245241112405\n",
      "Ind: 32 -> 42.886245241112405\n",
      "Ind: 33 -> 43.379328375123805\n",
      "Ind: 34 -> 43.14435174390657\n",
      "Ind: 35 -> 42.77612081500068\n",
      "Ind: 36 -> 42.886245241112405\n",
      "Ind: 37 -> 43.1194375378012\n",
      "Ind: 38 -> 42.886245241112405\n",
      "Ind: 39 -> 42.886245241112405\n",
      "Ind: 40 -> 44.760764510921504\n",
      "Ind: 41 -> 43.379328375123805\n",
      "Ind: 42 -> 43.26920394901208\n",
      "Ind: 43 -> 41.76790050124727\n",
      "Ind: 44 -> 42.886245241112405\n",
      "Ind: 45 -> 42.77612081500068\n",
      "Ind: 46 -> 42.06270856576349\n",
      "Ind: 47 -> 43.387588187771065\n",
      "Ind: 48 -> 43.034227317794844\n",
      "Ind: 49 -> 44.760764510921504\n"
     ]
    }
   ],
   "source": [
    "# Comprobemos la población al inicio \n",
    "pop = toolbox.population(n=50)\n",
    "\n",
    "for k, i in enumerate(pop):\n",
    "    total = 0\n",
    "    for j in i:\n",
    "        total += j\n",
    "    print(\"Ind:\",k, \"->\", total)\n",
    "    \n",
    "result = main(pop)\n",
    "\n",
    "print(\"-------------------------------\")\n",
    "for k, i in enumerate(result):\n",
    "    total = 0\n",
    "    for j in i:\n",
    "        total += j\n",
    "    print(\"Ind:\",k, \"->\", total)"
   ]
  },
  {
   "cell_type": "markdown",
   "metadata": {},
   "source": [
    "## Ejercicios\n",
    "\n",
    "1. Incrementa el número de generaciones y observa cómo cambia el resultado final.\n",
    "2. Cambia el código para que cada individuo solo tenga 5 flotantes y maximice la suma total de cada individuo.\n",
    "3. Crea un nuevo algoritmo genético que resuelva el [problema del viajante (TSP)](https://es.wikipedia.org/wiki/Problema_del_viajante). \n",
    "\n",
    "Consejos para implementar el TSP:\n",
    "- Para crear las localizaciones de las ciudades (x,y) puedes hacer uso de números complejos, que ya Python incorpora por defecto. El valor absoluto de la resta de dos ciudades te devuelve la distancia entre ellas.\n",
    "- Para crear el índice de las ciudades tienes [numpy.random.permutation](https://docs.scipy.org/doc/numpy-1.13.0/reference/generated/numpy.random.permutation.html).\n",
    "- El cruce de dos individuos los puedes hacer mediante la función [deap.tools.cxOrdered](http://deap.readthedocs.io/en/master/api/tools.html#deap.tools.cxOrdered).\n",
    "\n",
    "\n"
   ]
  },
  {
   "cell_type": "code",
   "execution_count": null,
   "metadata": {
    "collapsed": true
   },
   "outputs": [],
   "source": []
  }
 ],
 "metadata": {
  "kernelspec": {
   "display_name": "Python 3",
   "language": "python",
   "name": "python3"
  },
  "language_info": {
   "codemirror_mode": {
    "name": "ipython",
    "version": 3
   },
   "file_extension": ".py",
   "mimetype": "text/x-python",
   "name": "python",
   "nbconvert_exporter": "python",
   "pygments_lexer": "ipython3",
   "version": "3.7.6"
  }
 },
 "nbformat": 4,
 "nbformat_minor": 2
}
