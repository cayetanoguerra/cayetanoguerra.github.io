{
 "cells": [
  {
   "cell_type": "markdown",
   "metadata": {},
   "source": [
    "# Algoritmos genéticos\n",
    "--------------------\n",
    "\n",
    "Tutorial completo: http://deap.readthedocs.io/en/master/tutorials/basic/part1.html\n",
    "\n",
    "Referencia DEAP: http://deap.readthedocs.io/en/master/api/tools.html"
   ]
  },
  {
   "cell_type": "code",
   "execution_count": null,
   "metadata": {
    "collapsed": true
   },
   "outputs": [],
   "source": [
    "import random\n",
    "from deap import base, creator, tools"
   ]
  },
  {
   "cell_type": "markdown",
   "metadata": {},
   "source": [
    "## Fitness"
   ]
  },
  {
   "cell_type": "markdown",
   "metadata": {},
   "source": [
    "La clase \"Fitness\" proporcionada es una **clase abstracta** que necesita un atributo de pesos para ser funcional. Un \"fitness\" a minimizar se construye utilizando pesos negativos, mientras que para maximizar debemos coloar pesos positivos. Es posible que la función de fitness incluya varias funciones internas donde unas deban maximizarse y otras minimizarse. Por esta razón el parámetro \"weights\" es una tupla.\n",
    "\n",
    "La función *create()* tiene al menos dos argumentos, un nombre para la clase recién creada y una clase base. Cualquier argumento subsiguiente se convierte en un **atributo de la clase**."
   ]
  },
  {
   "cell_type": "code",
   "execution_count": null,
   "metadata": {
    "collapsed": true
   },
   "outputs": [],
   "source": [
    "creator.create(\"FitnessMin\", base.Fitness, weights=(1.0,))\n",
    "# creator.create(\"FitnessMulti\", base.Fitness, weights=(-1.0, 1.0))"
   ]
  },
  {
   "cell_type": "markdown",
   "metadata": {},
   "source": [
    "## Individuos\n",
    "\n",
    "El primer individuo que crearemos será una simple lista que contiene flotantes. Para producir este tipo de individuo, necesitamos crear una clase *Individual*, usando el creador, que heredará del tipo de lista estándar y tendrá un atributo fitness."
   ]
  },
  {
   "cell_type": "code",
   "execution_count": null,
   "metadata": {
    "collapsed": true
   },
   "outputs": [],
   "source": [
    "creator.create(\"Individual\", list, fitness=creator.FitnessMin)"
   ]
  },
  {
   "cell_type": "markdown",
   "metadata": {},
   "source": [
    "Introducimos ahora el método *register( )*, que toma, al menos, dos argumentos; un alias y una función asignada a este alias. Cualquier otro argumento posterior se pasará a la función cuando esta se invoque. Por lo tanto, el código siguiente creará dos alias en el toolbox; *attr_float* e *individuo*. La primera redirecciona a la función *random.random( )*. El segundo es un acceso directo a la función *initRepeat( )*, fijando su argumento de contenedor a la clase *creator.Individual*, su argumento *func* a la función *toolbox.attr_float()* y su número de repeticiones al argumento *IND_SIZE*."
   ]
  },
  {
   "cell_type": "code",
   "execution_count": null,
   "metadata": {
    "collapsed": true
   },
   "outputs": [],
   "source": [
    "IND_SIZE=10  # tamaño del individuo. \n",
    "\n",
    "toolbox = base.Toolbox()\n",
    "toolbox.register(\"attr_float\", random.random)\n",
    "toolbox.register(\"individual\", tools.initRepeat, creator.Individual,\n",
    "                 toolbox.attr_float, n=IND_SIZE)"
   ]
  },
  {
   "cell_type": "markdown",
   "metadata": {},
   "source": [
    "Probemos algunas cosas..."
   ]
  },
  {
   "cell_type": "code",
   "execution_count": null,
   "metadata": {},
   "outputs": [],
   "source": [
    "i = toolbox.individual()\n",
    "print(len(i))\n",
    "print(i)  # cada individuo es una lista de diez números flotantes."
   ]
  },
  {
   "cell_type": "code",
   "execution_count": null,
   "metadata": {},
   "outputs": [],
   "source": [
    "print(toolbox.attr_float())  # attr_float es un alias a la función random.random()."
   ]
  },
  {
   "cell_type": "markdown",
   "metadata": {},
   "source": [
    "## Población\n",
    "\n",
    "Nuestra población será una lista con tantos individuos como queramos establecer. Para ello, registraremos el método \"population\" como, de nuevo, un acceso directo a la función *tools.initRepeat*, donde llenaremos una lista \"*list*\"con individuos \"*toolbox.individual*\"."
   ]
  },
  {
   "cell_type": "code",
   "execution_count": null,
   "metadata": {
    "collapsed": true
   },
   "outputs": [],
   "source": [
    "toolbox.register(\"population\", tools.initRepeat, list, toolbox.individual)"
   ]
  },
  {
   "cell_type": "markdown",
   "metadata": {},
   "source": [
    "Probemos esto..."
   ]
  },
  {
   "cell_type": "code",
   "execution_count": null,
   "metadata": {},
   "outputs": [],
   "source": [
    "p = toolbox.population(3)\n",
    "print(\"Número de individuos:\", len(p))\n",
    "print(p)  # tenemos 3 individuos con 10 flotantes cada uno.\n",
    "\n",
    "# Podríamos haber registrado \"population\" también con un número fijado en la población.\n",
    "# toolbox.register(\"population\", tools.initRepeat, list, toolbox.individual, 3)"
   ]
  },
  {
   "cell_type": "markdown",
   "metadata": {},
   "source": [
    "## Operadores"
   ]
  },
  {
   "cell_type": "markdown",
   "metadata": {},
   "source": [
    "Los operadores son como los inicializadores, excepto que algunos ya están implementados en el módulo \"toolbox\". Una vez se hayan elegido los operadores adecuados, hay que registrarlos en \"toolbox\". La función (o funciones) de \"fitness\" nos las podemos crear nosotros."
   ]
  },
  {
   "cell_type": "code",
   "execution_count": null,
   "metadata": {
    "collapsed": true
   },
   "outputs": [],
   "source": [
    "def evaluate(individual):  # Nuestra función de fitness será tan solo la suma de los 10 valores del individuo.\n",
    "    return sum(individual),  # Fíjate en la coma al final, quiere decir que devolvemos una tupla.\n",
    "\n",
    "toolbox.register(\"mate\", tools.cxTwoPoint)  # Cruce en dos puntos\n",
    "toolbox.register(\"mutate\", tools.mutGaussian, mu=0, sigma=1, indpb=0.1)\n",
    "toolbox.register(\"select\", tools.selTournament, tournsize=3)\n",
    "toolbox.register(\"evaluate\", evaluate)"
   ]
  },
  {
   "cell_type": "markdown",
   "metadata": {},
   "source": [
    "## Algoritmo final"
   ]
  },
  {
   "cell_type": "code",
   "execution_count": null,
   "metadata": {
    "collapsed": true
   },
   "outputs": [],
   "source": [
    "def main(pop):\n",
    "    \n",
    "    CXPB, MUTPB, NGEN = 0.5, 0.2, 40\n",
    "\n",
    "    # Evaluate the entire population\n",
    "    fitnesses = [toolbox.evaluate(i) for i in pop]\n",
    "    for ind, fit in zip(pop, fitnesses):\n",
    "        ind.fitness.values = fit\n",
    "\n",
    "    for g in range(NGEN):\n",
    "        # Select the next generation individuals\n",
    "        offspring = toolbox.select(pop, len(pop))\n",
    "        # Clone the selected individuals\n",
    "        offspring = [toolbox.clone(i) for i in offspring]\n",
    "\n",
    "        # Apply crossover and mutation on the offspring\n",
    "        for child1, child2 in zip(offspring[::2], offspring[1::2]):\n",
    "            if random.random() < CXPB:\n",
    "                toolbox.mate(child1, child2)\n",
    "                del child1.fitness.values\n",
    "                del child2.fitness.values\n",
    "\n",
    "        for mutant in offspring:\n",
    "            if random.random() < MUTPB:\n",
    "                toolbox.mutate(mutant)\n",
    "                del mutant.fitness.values\n",
    "\n",
    "        # Evaluate the individuals with an invalid fitness\n",
    "        invalid_ind = [ind for ind in offspring if not ind.fitness.valid]\n",
    "        fitnesses = [toolbox.evaluate(i) for i in invalid_ind] \n",
    "        \n",
    "        for ind, fit in zip(invalid_ind, fitnesses):\n",
    "            ind.fitness.values = fit\n",
    "\n",
    "        # The population is entirely replaced by the offspring\n",
    "        pop = offspring\n",
    "\n",
    "    return pop"
   ]
  },
  {
   "cell_type": "code",
   "execution_count": null,
   "metadata": {},
   "outputs": [],
   "source": [
    "# Comprobemos la población al inicio \n",
    "pop = toolbox.population(n=50)\n",
    "\n",
    "for k, i in enumerate(pop):\n",
    "    total = 0\n",
    "    for j in i:\n",
    "        total += j\n",
    "    print(\"Ind:\",k, \"->\", total)\n",
    "    \n",
    "result = main(pop)\n",
    "\n",
    "print(\"-------------------------------\")\n",
    "for k, i in enumerate(result):\n",
    "    total = 0\n",
    "    for j in i:\n",
    "        total += j\n",
    "    print(\"Ind:\",k, \"->\", total)"
   ]
  },
  {
   "cell_type": "markdown",
   "metadata": {},
   "source": [
    "## Ejercicios\n",
    "\n",
    "1. Incrementa el número de generaciones y observa cómo cambia el resultado final.\n",
    "2. Cambia el código para que cada individuo solo tenga 5 flotantes y maximice la suma total de cada individuo.\n",
    "3. Crea un nuevo algoritmo genético que resuelva el [problema del viajante (TSP)](https://es.wikipedia.org/wiki/Problema_del_viajante). \n",
    "\n",
    "Consejos para implementar el TSP:\n",
    "- Para crear las localizaciones de las ciudades (x,y) puedes hacer uso de números complejos, que ya Python incorpora por defecto. El valor absoluto de la resta de dos ciudades te devuelve la distancia entre ellas.\n",
    "- Para crear el índice de las ciudades tienes [numpy.random.permutation](https://docs.scipy.org/doc/numpy-1.13.0/reference/generated/numpy.random.permutation.html).\n",
    "- El cruce de dos individuos los puedes hacer mediante la función [deap.tools.cxOrdered](http://deap.readthedocs.io/en/master/api/tools.html#deap.tools.cxOrdered).\n",
    "\n",
    "\n"
   ]
  },
  {
   "cell_type": "code",
   "execution_count": null,
   "metadata": {
    "collapsed": true
   },
   "outputs": [],
   "source": []
  }
 ],
 "metadata": {
  "kernelspec": {
   "display_name": "Python 3",
   "language": "python",
   "name": "python3"
  },
  "language_info": {
   "codemirror_mode": {
    "name": "ipython",
    "version": 3
   },
   "file_extension": ".py",
   "mimetype": "text/x-python",
   "name": "python",
   "nbconvert_exporter": "python",
   "pygments_lexer": "ipython3",
   "version": "3.6.1"
  }
 },
 "nbformat": 4,
 "nbformat_minor": 2
}
