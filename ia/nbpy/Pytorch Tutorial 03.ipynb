{
 "cells": [
  {
   "cell_type": "markdown",
   "metadata": {},
   "source": [
    "<p>\n",
    "<img src=\"./nlp/imgs/EII-ULPGC-logo.jpeg\" width=\"430px\" align=\"right\">"
   ]
  },
  {
   "cell_type": "markdown",
   "metadata": {},
   "source": [
    "# **Tutorial de Pytorch 3:  Regresión lineal en PyTorch**"
   ]
  },
  {
   "cell_type": "code",
   "execution_count": 1,
   "metadata": {},
   "outputs": [
    {
     "data": {
      "image/png": "[encoded data removed]",
      "text/plain": [
       "<Figure size 640x480 with 1 Axes>"
      ]
     },
     "metadata": {},
     "output_type": "display_data"
    }
   ],
   "source": [
    "import numpy as np\n",
    "import matplotlib.pyplot as plt\n",
    "import torch\n",
    "\n",
    "mu, sigma = 0, 0.5 # mean and standard deviation\n",
    "noise = np.random.normal(mu, sigma, 10)\n",
    "\n",
    "X = np.random.rand(10)*5\n",
    "Y = 2*X + 1 + noise\n",
    " \n",
    "plt.axis([0, 5, 0, 12])\n",
    "plt.plot(X,Y,'bo')\n",
    "plt.show()\n"
   ]
  },
  {
   "cell_type": "code",
   "execution_count": 2,
   "metadata": {},
   "outputs": [],
   "source": [
    "device = 'cuda' if torch.cuda.is_available() else 'cpu'\n",
    "\n",
    "X = torch.from_numpy(X).float().to(device)\n",
    "Y = torch.from_numpy(Y).float().to(device)\n",
    "\n",
    "m = torch.randn(1, requires_grad=True, dtype=torch.float, device=device)\n",
    "b = torch.randn(1, requires_grad=True, dtype=torch.float, device=device)"
   ]
  },
  {
   "cell_type": "markdown",
   "metadata": {},
   "source": [
    "> Hay que distinguir entre los tensores creados para almacenar **datos** y los tensores creados para almacenar **variables** (pesos o parámetros). Para los primeros no necesitaremos calcular sus **gradientes**, para los segundos, sí."
   ]
  },
  {
   "cell_type": "code",
   "execution_count": 3,
   "metadata": {},
   "outputs": [],
   "source": [
    "optimizer = torch.optim.SGD([m, b], lr=0.001)\n",
    "\n",
    "# Defines a MSE loss function\n",
    "loss_fn = torch.nn.MSELoss(reduction='sum')\n",
    "\n",
    "for _ in range(1000):\n",
    "\n",
    "    Y_ = m * X + b\n",
    "    \n",
    "    # loss = ((Y - Y_)**2).sum()\n",
    "    loss = loss_fn(Y, Y_)\n",
    "    loss.backward()\n",
    "    \n",
    "    # No more manual update!\n",
    "    # with torch.no_grad():\n",
    "    #    m -= lr * m.grad\n",
    "    #    b -= lr * b.grad\n",
    "        \n",
    "    optimizer.step()\n",
    "        \n",
    "    # m.grad.zero_()\n",
    "    # b.grad.zero_()\n",
    "    optimizer.zero_grad()\n",
    "    "
   ]
  },
  {
   "cell_type": "code",
   "execution_count": 4,
   "metadata": {},
   "outputs": [
    {
     "name": "stdout",
     "output_type": "stream",
     "text": [
      "[2.0164788]\n",
      "[1.0602573]\n"
     ]
    }
   ],
   "source": [
    "print(m.data.cpu().numpy())\n",
    "print(b.data.cpu().numpy())"
   ]
  },
  {
   "cell_type": "markdown",
   "metadata": {},
   "source": [
    "## **Creando un modelo con <code>torch.nn.Module</code>**\n",
    "\n",
    "<code>torch.nn.Module</code> es una clase fundamental en la biblioteca PyTorch que proporciona una manera estructurada y flexible de definir todos los aspectos de una red neuronal. Facilita la implementación de una variedad de modelos de aprendizaje profundo, desde los más sencillos hasta arquitecturas altamente complejas."
   ]
  },
  {
   "cell_type": "code",
   "execution_count": 5,
   "metadata": {},
   "outputs": [
    {
     "name": "stdout",
     "output_type": "stream",
     "text": [
      "OrderedDict([('m', tensor([0.3367])), ('b', tensor([0.1288]))])\n",
      "OrderedDict([('m', tensor([2.0161])), ('b', tensor([1.0614]))])\n"
     ]
    }
   ],
   "source": [
    "class ManualLinearRegression(torch.nn.Module):\n",
    "\n",
    "    def __init__(self):\n",
    "        super().__init__()\n",
    "        # To make \"a\" and \"b\" real parameters of the model, we need to wrap them with nn.Parameter\n",
    "        self.m = torch.nn.Parameter(torch.randn(1, requires_grad=True, dtype=torch.float))\n",
    "        self.b = torch.nn.Parameter(torch.randn(1, requires_grad=True, dtype=torch.float))\n",
    "        \n",
    "\n",
    "    def forward(self, x):\n",
    "        # Computes the outputs / predictions\n",
    "        return self.b + self.m * x\n",
    "    \n",
    "    \n",
    "torch.manual_seed(42)\n",
    "\n",
    "\n",
    "# Now we can create a model and send it at once to the device\n",
    "model = ManualLinearRegression().to(device)\n",
    "\n",
    "# We can also inspect its parameters using its state_dict\n",
    "print(model.state_dict())\n",
    "\n",
    "lr = 0.01\n",
    "n_epochs = 1000\n",
    "\n",
    "loss_fn = torch.nn.MSELoss(reduction='mean')\n",
    "optimizer = torch.optim.SGD(model.parameters(), lr=lr)\n",
    "\n",
    "# What is this?!?\n",
    "model.train()\n",
    "\n",
    "for epoch in range(n_epochs):\n",
    "\n",
    "    # No more manual prediction!\n",
    "    # yhat = a + b * x_tensor\n",
    "    Y_ = model(X)\n",
    "\n",
    "    loss = loss_fn(Y, Y_)\n",
    "    loss.backward()    \n",
    "    optimizer.step()\n",
    "    optimizer.zero_grad()\n",
    "\n",
    "print(model.state_dict())\n",
    "\n",
    "# Extraemos los parametros del modelo\n",
    "m = model.state_dict()['m'].item()\n",
    "b = model.state_dict()['b'].item()"
   ]
  },
  {
   "cell_type": "markdown",
   "metadata": {},
   "source": [
    "Vamos a visualizar el resultado."
   ]
  },
  {
   "cell_type": "code",
   "execution_count": 6,
   "metadata": {
    "collapsed": true
   },
   "outputs": [
    {
     "data": {
      "image/png": "[encoded data removed]",
      "text/plain": [
       "<Figure size 640x480 with 1 Axes>"
      ]
     },
     "metadata": {},
     "output_type": "display_data"
    }
   ],
   "source": [
    "import numpy as np\n",
    "import matplotlib.pyplot as plt\n",
    "\n",
    "mu, sigma = 0, 0.5  # media y desviación estándar\n",
    "noise = np.random.normal(mu, sigma, 10)\n",
    "\n",
    "X = np.random.rand(10) * 5\n",
    "Y = 2 * X + 1 + noise\n",
    "\n",
    "# Crear valores para la línea\n",
    "x_line = np.linspace(0, 5, 100)  # 100 puntos entre 0 y 5\n",
    "y_line = m * x_line + b  # Calcula los valores usando m y b calculados anteriormente\n",
    "\n",
    "plt.axis([0, 5, 0, 12])\n",
    "plt.plot(X, Y, 'bo')\n",
    "\n",
    "# Recta de regresión\n",
    "plt.title('Recta de regressión')\n",
    "plt.plot(x_line, y_line, 'r-')  # 'r-' crea una línea roja continua\n",
    "plt.show()\n"
   ]
  }
 ],
 "metadata": {
  "kernelspec": {
   "display_name": "Python 3",
   "language": "python",
   "name": "python3"
  },
  "language_info": {
   "codemirror_mode": {
    "name": "ipython",
    "version": 3
   },
   "file_extension": ".py",
   "mimetype": "text/x-python",
   "name": "python",
   "nbconvert_exporter": "python",
   "pygments_lexer": "ipython3",
   "version": "3.10.7"
  }
 },
 "nbformat": 4,
 "nbformat_minor": 2
}
