{
 "cells": [
  {
   "cell_type": "markdown",
   "metadata": {},
   "source": [
    "# Lógica\n",
    "---"
   ]
  },
  {
   "cell_type": "markdown",
   "metadata": {},
   "source": [
    "## Lógica proposicional\n",
    "\n",
    "### Sentencias, literales y conectores\n",
    "\n",
    "Las **sentencias** son declaraciones sobre algún hecho del mundo. Podemos tener sentecias muy simples como: *Está lloviendo* o algo más complejas como: *si está lloviendo y no tengo paraguas*. Para expresar las sentencias en lógica debemos utilizar algún lenguaje de representación. Por ejemplo:\n",
    "\n",
    "$$ P \\equiv \\text{\"Está lloviendo\"} $$\n",
    "\n",
    "$$ P \\land Q \\equiv \\text{\"Está lloviendo y no tengo paraguas\"} $$\n",
    "\n",
    "Como vemos, las sentencias pueden ser hechos simples o podrían ser la combinación de dos, o más, hechos. A cada hecho lo llamaremos **literal** (o sentencia atómica) y lo representaremos con una letra.\n",
    "\n",
    "Podemos unir literales en una sentencia mediante conectores $y$ y $o$, que llamaremos **conjunción** $(\\land)$ y **disyunción** $(\\lor)$ respectivamente. También podemos agruparlos usando paréntesis. Por ejemplo:\n",
    "\n",
    "$$ (P \\lor Q) \\land S $$\n",
    "\n",
    "Los literales y las combinaciones de literales puedes ser negados mediante el operador **negación** $(\\lnot)$:\n",
    "\n",
    "$$ \\lnot(P \\lor \\lnot Q)$$\n",
    "\n",
    "Las sentencias también pueden ser conclusiones sobre la existencia de uno o varios hechos. El operador **implicación** $(\\Rightarrow)$ afirma uno, o varios, hechos consecuentes a partir de uno, o varios, hechos antecedentes. Por ejemplo, *si está lloviendo entonces las calles están mojadas*:\n",
    "\n",
    "$$ P \\Rightarrow Q $$\n",
    "\n",
    "\n",
    "### Base de conocimiento\n",
    "\n",
    "Conjunto de sentencias\n",
    "\n",
    "### Modelo\n",
    "\n",
    "Además del lenguaje de representación con el que escribimos las sentencias, éstas también poseen una **semántica**. Entendemos comúnmente por semántica a la asignacion de significado a las palabras o frases. Aquí, semántica se utiliza de una manera más precisa para definir o conocer la *verdad* o *falsedad* de una sentencia. Por ejemplo, la sentencia $ P \\equiv \\text{\"Está lloviendo\"}$ puede ser verdadera o falsa. Es decir, cada literal representa un hecho que no implica de por sí que sea cierto siempre. El hecho se puede dar o no. Por tanto, $P$ puede ser cierto si, efectivamente, está lloviendo o falso si no lo está. No debemos confundir la asignación de *verdad* o *falsedad* a un hecho con el operador *negación*. Para que nos resulte más sencillo, podemos imaginarnos a los literales como variables booleanas.\n",
    "\n",
    "Un **modelo** es una asignación determinada de valores verdadero o falso a cada uno de los literales de nuestra base de conocimiento. Podremos asignar verdadero o falso a cada literal en función de que ese hecho se esté realmente dando o no. Por tanto, vemos que el número de modelos distintos que podríamos tener es de dos elevado al número de literales de nuestra base de conocimiento, $2^\\textit{#literales}$.\n",
    "\n",
    "La semántica también define las reglas para asignar los valores de verdad o falsedad a las sentencias. La siguiente tabla, llamada **tabla de verdad** muestra los valores para cada uno de los conectores:\n",
    "\n",
    "$$\n",
    "\\begin{aligned}\n",
    "&\\begin{array}{ccccccc}\n",
    "\\hline \n",
    "P & Q & \\lnot P &  P \\lor Q &  P \\land Q &  P \\Rightarrow Q &  P \\Leftrightarrow Q \\\\\n",
    "\\hline \n",
    "\\textit{falso} & \\textit{falso} & \\textit{verdadero} & \\textit{falso} & \\textit{falso} & \\textit{verdadero} & \\textit{verdadero} \\\\\n",
    "\\textit{falso} & \\textit{verdadero} & \\textit{verdadero} & \\textit{verdadero} & \\textit{falso} & \\textit{verdadero} & \\textit{falso} \\\\\n",
    "\\textit{verdadero} & \\textit{falso} & \\textit{falso} & \\textit{verdadero} & \\textit{falso} & \\textit{falso} & \\textit{falso} \\\\\n",
    "\\textit{verdadero} & \\textit{verdadero} & \\textit{falso} & \\textit{verdadero} & \\textit{verdadero} & \\textit{verdadero} & \\textit{verdadero} \\\\\n",
    "\\hline\n",
    "\\end{array}\n",
    "\\end{aligned}\n",
    "$$\n",
    "\n",
    "Los operadores implicación y bicondicional merecen una reflexión sobre sus resultados en la tabla de verdad. ¿Cómo se interpreta que $P \\Rightarrow Q$ sea verdadero cuando $P$ es falso y $Q$ verdadero? Esto nos viene a decir que, que se dé el hecho $Q$ no implica que deba darse el hecho $P$. Que las calles estén mojadas no implica que haya llovido obligatoriamente, puede ser que haya pasado antes un camión cuba limpiando las calles. Sin embargo, que $P$ sea cierto, es decir, que haya llovido, indefectiblemente habrá mojado las calles. Pero eso no ha ocurrido, $Q$ es falso. Por tanto, la implicación $P \\Rightarrow Q$ es falsa. O, dicho de otra forma, si $P$ es verdadero y $Q$ es falso, la implicación $P \\Rightarrow Q$ no es cierta. Cuando tanto $P$ como $Q$ son falsas la implicación es verdadera ya que si las calles están secas es seguro que no habrá llovido y no se viola la integridad de la implicación."
   ]
  },
  {
   "cell_type": "markdown",
   "metadata": {},
   "source": [
    "## Lógica de primer orden"
   ]
  },
  {
   "cell_type": "code",
   "execution_count": null,
   "metadata": {
    "collapsed": true
   },
   "outputs": [],
   "source": []
  }
 ],
 "metadata": {
  "kernelspec": {
   "display_name": "Python 3",
   "language": "python",
   "name": "python3"
  },
  "language_info": {
   "codemirror_mode": {
    "name": "ipython",
    "version": 3
   },
   "file_extension": ".py",
   "mimetype": "text/x-python",
   "name": "python",
   "nbconvert_exporter": "python",
   "pygments_lexer": "ipython3",
   "version": "3.7.3"
  }
 },
 "nbformat": 4,
 "nbformat_minor": 2
}
