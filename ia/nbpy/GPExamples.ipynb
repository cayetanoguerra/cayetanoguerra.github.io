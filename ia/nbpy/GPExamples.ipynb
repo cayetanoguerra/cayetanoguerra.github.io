{
 "cells": [
  {
   "cell_type": "markdown",
   "metadata": {},
   "source": [
    "# Ejemplos de programación genética\n",
    "---\n",
    "\n",
    "Tutorial completo: https://deap.readthedocs.io/en/master/tutorials/advanced/gp.html\n"
   ]
  },
  {
   "cell_type": "markdown",
   "metadata": {},
   "source": [
    "## Funciones básicas"
   ]
  },
  {
   "cell_type": "code",
   "execution_count": 1,
   "metadata": {},
   "outputs": [],
   "source": [
    "from deap import algorithms\n",
    "from deap import base\n",
    "from deap import creator\n",
    "from deap import tools\n",
    "from deap import gp\n",
    "\n",
    "import operator\n",
    "import math"
   ]
  },
  {
   "cell_type": "markdown",
   "metadata": {},
   "source": [
    "Debemos establecer un conjunto de primitivas. Es decir, las operaciones que constituirán nuestro programa."
   ]
  },
  {
   "cell_type": "code",
   "execution_count": 2,
   "metadata": {},
   "outputs": [],
   "source": [
    "pset = gp.PrimitiveSet(\"main\", 2)\n",
    "pset.addPrimitive(max, 2)\n",
    "pset.addPrimitive(operator.add, 2)\n",
    "pset.addPrimitive(operator.mul, 2)\n",
    "pset.addPrimitive(operator.neg, 1)\n",
    "pset.addTerminal(3)"
   ]
  },
  {
   "cell_type": "markdown",
   "metadata": {},
   "source": [
    "Nuestra función de principal tiene dos entradas, las renombraremos como $x$ e $y$."
   ]
  },
  {
   "cell_type": "code",
   "execution_count": 3,
   "metadata": {},
   "outputs": [],
   "source": [
    "pset.renameArguments(ARG0=\"x\")\n",
    "pset.renameArguments(ARG1=\"y\")"
   ]
  },
  {
   "cell_type": "markdown",
   "metadata": {},
   "source": [
    "Crearemos nuestros individuos mediante el método **full**. Es decir, generaremos el árbol con una cierta profundidad entre *min_* y *max_*. A partir de la expresión *expr* construiremos el árbol *tree* mediante la primitiva <code>gp.PrimitiveTree</code>."
   ]
  },
  {
   "cell_type": "code",
   "execution_count": 4,
   "metadata": {},
   "outputs": [],
   "source": [
    "expr = gp.genFull(pset, min_=1, max_=3)\n",
    "tree = gp.PrimitiveTree(expr)"
   ]
  },
  {
   "cell_type": "markdown",
   "metadata": {},
   "source": [
    "Veamos qué expresión tenemos:"
   ]
  },
  {
   "cell_type": "code",
   "execution_count": 5,
   "metadata": {},
   "outputs": [
    {
     "name": "stdout",
     "output_type": "stream",
     "text": [
      "add(max(3, 3), max(3, x))\n"
     ]
    }
   ],
   "source": [
    "print(tree)"
   ]
  },
  {
   "cell_type": "markdown",
   "metadata": {},
   "source": [
    "Esto no deja de ser una cadena de caracteres. Para poder computar con ella necesitamos compilarla."
   ]
  },
  {
   "cell_type": "code",
   "execution_count": 6,
   "metadata": {},
   "outputs": [],
   "source": [
    "f = gp.compile(tree, pset)"
   ]
  },
  {
   "cell_type": "markdown",
   "metadata": {},
   "source": [
    "Ahora sí podemos obtener resultados cuando introducimos dos parámetros como entrada."
   ]
  },
  {
   "cell_type": "code",
   "execution_count": 7,
   "metadata": {},
   "outputs": [
    {
     "data": {
      "text/plain": [
       "10"
      ]
     },
     "execution_count": 7,
     "metadata": {},
     "output_type": "execute_result"
    }
   ],
   "source": [
    "f(7,3)"
   ]
  },
  {
   "cell_type": "code",
   "execution_count": 8,
   "metadata": {},
   "outputs": [],
   "source": [
    "nodes, edges, labels = gp.graph(expr)\n",
    "\n",
    "### Graphviz Section ###\n",
    "import pygraphviz as pgv\n",
    "\n",
    "g = pgv.AGraph()\n",
    "g.add_nodes_from(nodes)\n",
    "g.add_edges_from(edges)\n",
    "g.layout(prog=\"dot\")\n",
    "\n",
    "for i in nodes:\n",
    "    n = g.get_node(i)\n",
    "    n.attr[\"label\"] = labels[i]\n",
    "\n",
    "g.draw(\"tree.pdf\")"
   ]
  },
  {
   "cell_type": "markdown",
   "metadata": {},
   "source": [
    "<img src=\"imgs/tree.JPG\" width=70%>"
   ]
  },
  {
   "cell_type": "markdown",
   "metadata": {},
   "source": [
    "## Ejemplo"
   ]
  },
  {
   "cell_type": "code",
   "execution_count": 9,
   "metadata": {},
   "outputs": [
    {
     "name": "stdout",
     "output_type": "stream",
     "text": [
      "   \t      \t                        fitness                        \t                      size                     \n",
      "   \t      \t-------------------------------------------------------\t-----------------------------------------------\n",
      "gen\tnevals\tavg    \tgen\tmax  \tmin     \tnevals\tstd    \tavg    \tgen\tmax\tmin\tnevals\tstd    \n",
      "0  \t300   \t1.78879\t0  \t30.34\t0.450825\t300   \t2.67896\t3.54667\t0  \t7  \t2  \t300   \t1.49482\n",
      "1  \t166   \t1.43254\t1  \t44.4437\t0.183711\t166   \t3.05668\t3.60667\t1  \t12 \t1  \t166   \t1.77725\n",
      "2  \t166   \t2.16879\t2  \t315.736\t0.165572\t166   \t18.1873\t3.55   \t2  \t9  \t1  \t166   \t1.62506\n",
      "3  \t163   \t0.98255\t3  \t2.9829 \t0.165572\t163   \t0.712666\t3.42667\t3  \t9  \t1  \t163   \t1.45073\n",
      "4  \t153   \t0.836017\t4  \t14.538 \t0.165572\t153   \t0.979399\t3.77   \t4  \t11 \t1  \t153   \t1.64025\n",
      "5  \t158   \t0.944635\t5  \t18.9739\t0.165572\t158   \t1.61614 \t3.77667\t5  \t10 \t1  \t158   \t1.62894\n",
      "6  \t169   \t0.885819\t6  \t14.2181\t0.165572\t169   \t1.00296 \t4      \t6  \t10 \t1  \t169   \t1.87617\n",
      "7  \t167   \t0.731332\t7  \t3.35292\t0.165572\t167   \t0.56016 \t4.35   \t7  \t10 \t1  \t167   \t1.92722\n",
      "8  \t187   \t0.785916\t8  \t19.1852\t0.13008 \t187   \t1.2426  \t5.13667\t8  \t14 \t1  \t187   \t2.21465\n",
      "9  \t176   \t0.672788\t9  \t14.2339\t0.123719\t176   \t1.00764 \t5.71667\t9  \t14 \t1  \t176   \t2.48389\n",
      "10 \t176   \t0.786975\t10 \t32.4952\t0.123719\t176   \t2.56679 \t6.27333\t10 \t15 \t1  \t176   \t2.33922\n",
      "11 \t167   \t0.961666\t11 \t62.7581\t0.123719\t167   \t4.10149 \t6.75667\t11 \t16 \t1  \t167   \t2.30162\n",
      "12 \t170   \t0.630202\t12 \t18.7613\t0.114276\t170   \t1.55098 \t7.06333\t12 \t16 \t1  \t170   \t2.55199\n",
      "13 \t173   \t0.792442\t13 \t18.7749\t0.114276\t173   \t2.0836  \t7.07333\t13 \t17 \t1  \t173   \t2.3212 \n",
      "14 \t163   \t0.701482\t14 \t16.5323\t0.0935121\t163   \t1.92386 \t7.01   \t14 \t16 \t1  \t163   \t2.74042\n",
      "15 \t178   \t0.796168\t15 \t63.2953\t0.0935121\t178   \t3.82723 \t7.42333\t15 \t17 \t1  \t178   \t3.11942\n",
      "16 \t154   \t0.446513\t16 \t19.0443\t0.0512969\t154   \t1.18016 \t7.73333\t16 \t17 \t1  \t154   \t3.35095\n",
      "17 \t177   \t0.378618\t17 \t4.88791\t0.0512969\t177   \t0.470854\t9.01   \t17 \t22 \t1  \t177   \t3.68464\n",
      "18 \t177   \t0.394816\t18 \t2.552  \t0.0512969\t177   \t0.45627 \t10.14  \t18 \t23 \t2  \t177   \t3.86097\n",
      "19 \t175   \t0.347051\t19 \t2.84707\t0.0147194\t175   \t0.428075\t11     \t19 \t24 \t1  \t175   \t4.21347\n",
      "20 \t167   \t0.370537\t20 \t18.9739\t0.0147194\t167   \t1.15424 \t11.6   \t20 \t25 \t3  \t167   \t4.13441\n",
      "21 \t159   \t0.302206\t21 \t2.54483\t0.0147194\t159   \t0.36307 \t12.78  \t21 \t33 \t1  \t159   \t5.04298\n",
      "22 \t161   \t0.329424\t22 \t5.15351\t0.014539 \t161   \t0.494736\t14.1033\t22 \t32 \t1  \t161   \t5.23762\n",
      "23 \t165   \t0.464998\t23 \t18.9739\t0.0147194\t165   \t1.51044 \t14.8933\t23 \t34 \t1  \t165   \t6.13259\n",
      "24 \t188   \t0.271713\t24 \t3.71933\t0.0147194\t188   \t0.436801\t15.0867\t24 \t34 \t2  \t188   \t6.25719\n",
      "25 \t152   \t0.269631\t25 \t14.5905\t0.0147194\t152   \t0.88428 \t15.22  \t25 \t47 \t1  \t152   \t6.49602\n",
      "26 \t164   \t0.230995\t26 \t4.4082 \t0.0147194\t164   \t0.436685\t16.0633\t26 \t41 \t3  \t164   \t6.52171\n",
      "27 \t159   \t0.185306\t27 \t5.249  \t0.0144201\t159   \t0.410217\t17.2333\t27 \t40 \t1  \t159   \t6.7111 \n",
      "28 \t164   \t0.165298\t28 \t1.98267\t0.0143442\t164   \t0.292591\t18.3   \t28 \t43 \t1  \t164   \t7.23763\n",
      "29 \t174   \t0.172642\t29 \t2.54124\t0.00182347\t174   \t0.352515\t18.33  \t29 \t37 \t1  \t174   \t6.69037\n",
      "30 \t141   \t0.10727 \t30 \t2.61126\t0.00182347\t141   \t0.241954\t19.3   \t30 \t37 \t3  \t141   \t5.483  \n",
      "31 \t154   \t0.129872\t31 \t2.18033\t0.00182347\t154   \t0.269947\t19.7933\t31 \t39 \t3  \t154   \t5.94788\n",
      "32 \t165   \t0.129453\t32 \t2.54124\t0.00182347\t165   \t0.287201\t20.2867\t32 \t43 \t1  \t165   \t6.5175 \n",
      "33 \t173   \t0.16656 \t33 \t2.54124\t0.00182347\t173   \t0.341339\t20.5633\t33 \t43 \t1  \t173   \t7.38823\n",
      "34 \t168   \t0.131975\t34 \t1.52568\t0.00182347\t168   \t0.232491\t20.4233\t34 \t48 \t3  \t168   \t7.45637\n",
      "35 \t153   \t0.152313\t35 \t2.54124\t0.00182347\t153   \t0.324276\t19.82  \t35 \t43 \t2  \t153   \t7.13589\n",
      "36 \t178   \t0.237937\t36 \t16.1106\t0.00182347\t178   \t0.990786\t19.11  \t36 \t43 \t3  \t178   \t7.68318\n",
      "37 \t157   \t0.185061\t37 \t4.76458\t0.00182347\t157   \t0.449021\t18.3667\t37 \t39 \t1  \t157   \t6.31128\n",
      "38 \t184   \t0.185972\t38 \t4.09456\t5.12297e-33\t184   \t0.358825\t17.4767\t38 \t48 \t1  \t184   \t7.37899\n",
      "39 \t149   \t0.193025\t39 \t2.9829 \t5.12297e-33\t149   \t0.377824\t16.87  \t39 \t35 \t1  \t149   \t5.85205\n",
      "40 \t161   \t0.127091\t40 \t1.59859\t5.12297e-33\t161   \t0.216044\t16.4767\t40 \t36 \t1  \t161   \t6.14948\n"
     ]
    }
   ],
   "source": [
    "#    This file is part of EAP.\n",
    "#\n",
    "#    EAP is free software: you can redistribute it and/or modify\n",
    "#    it under the terms of the GNU Lesser General Public License as\n",
    "#    published by the Free Software Foundation, either version 3 of\n",
    "#    the License, or (at your option) any later version.\n",
    "#\n",
    "#    EAP is distributed in the hope that it will be useful,\n",
    "#    but WITHOUT ANY WARRANTY; without even the implied warranty of\n",
    "#    MERCHANTABILITY or FITNESS FOR A PARTICULAR PURPOSE. See the\n",
    "#    GNU Lesser General Public License for more details.\n",
    "#\n",
    "#    You should have received a copy of the GNU Lesser General Public\n",
    "#    License along with EAP. If not, see <http://www.gnu.org/licenses/>.\n",
    "\n",
    "import operator\n",
    "import math\n",
    "import random\n",
    "\n",
    "import numpy\n",
    "\n",
    "from deap import algorithms\n",
    "from deap import base\n",
    "from deap import creator\n",
    "from deap import tools\n",
    "from deap import gp\n",
    "\n",
    "# Define new functions\n",
    "def protectedDiv(left, right):\n",
    "    try:\n",
    "        return left / right\n",
    "    except ZeroDivisionError:\n",
    "        return 1\n",
    "\n",
    "pset = gp.PrimitiveSet(\"MAIN\", 1)\n",
    "pset.addPrimitive(operator.add, 2)\n",
    "pset.addPrimitive(operator.sub, 2)\n",
    "pset.addPrimitive(operator.mul, 2)\n",
    "pset.addPrimitive(protectedDiv, 2)\n",
    "pset.addPrimitive(operator.neg, 1)\n",
    "pset.addPrimitive(math.cos, 1)\n",
    "pset.addPrimitive(math.sin, 1)\n",
    "pset.addEphemeralConstant(\"rand101\", lambda: random.randint(-1,1))\n",
    "pset.renameArguments(ARG0='x')\n",
    "\n",
    "creator.create(\"FitnessMin\", base.Fitness, weights=(-1.0,))\n",
    "creator.create(\"Individual\", gp.PrimitiveTree, fitness=creator.FitnessMin)\n",
    "\n",
    "toolbox = base.Toolbox()\n",
    "toolbox.register(\"expr\", gp.genHalfAndHalf, pset=pset, min_=1, max_=2)\n",
    "toolbox.register(\"individual\", tools.initIterate, creator.Individual, toolbox.expr)\n",
    "toolbox.register(\"population\", tools.initRepeat, list, toolbox.individual)\n",
    "toolbox.register(\"compile\", gp.compile, pset=pset)\n",
    "\n",
    "def evalSymbReg(individual, points):\n",
    "    # Transform the tree expression in a callable function\n",
    "    func = toolbox.compile(expr=individual)\n",
    "    # Evaluate the mean squared error between the expression\n",
    "    # and the real function : x**4 + x**3 + x**2 + x\n",
    "    sqerrors = ((func(x) - x**4 - x**3 - x**2 - x)**2 for x in points)\n",
    "    return math.fsum(sqerrors) / len(points),\n",
    "\n",
    "toolbox.register(\"evaluate\", evalSymbReg, points=[x/10. for x in range(-10,10)])\n",
    "toolbox.register(\"select\", tools.selTournament, tournsize=3)\n",
    "toolbox.register(\"mate\", gp.cxOnePoint)\n",
    "toolbox.register(\"expr_mut\", gp.genFull, min_=0, max_=2)\n",
    "toolbox.register(\"mutate\", gp.mutUniform, expr=toolbox.expr_mut, pset=pset)\n",
    "\n",
    "toolbox.decorate(\"mate\", gp.staticLimit(key=operator.attrgetter(\"height\"), max_value=17))\n",
    "toolbox.decorate(\"mutate\", gp.staticLimit(key=operator.attrgetter(\"height\"), max_value=17))\n",
    "\n",
    "def main():\n",
    "    random.seed(318)\n",
    "\n",
    "    pop = toolbox.population(n=300)\n",
    "    hof = tools.HallOfFame(1)\n",
    "\n",
    "    stats_fit = tools.Statistics(lambda ind: ind.fitness.values)\n",
    "    stats_size = tools.Statistics(len)\n",
    "    mstats = tools.MultiStatistics(fitness=stats_fit, size=stats_size)\n",
    "    mstats.register(\"avg\", numpy.mean)\n",
    "    mstats.register(\"std\", numpy.std)\n",
    "    mstats.register(\"min\", numpy.min)\n",
    "    mstats.register(\"max\", numpy.max)\n",
    "\n",
    "    pop, log = algorithms.eaSimple(pop, toolbox, 0.5, 0.1, 40, stats=mstats,\n",
    "                                   halloffame=hof, verbose=True)\n",
    "    # print log\n",
    "    return pop, log, hof\n",
    "\n",
    "\n",
    "p_, l_, h_ = main()"
   ]
  },
  {
   "cell_type": "code",
   "execution_count": 31,
   "metadata": {},
   "outputs": [
    {
     "data": {
      "text/plain": [
       "[<deap.gp.Primitive at 0x25a3d3b7318>,\n",
       " <deap.gp.Primitive at 0x25a3d3b75e8>,\n",
       " <deap.gp.Terminal at 0x25a3d5550e8>,\n",
       " <deap.gp.Primitive at 0x25a3d3b7688>,\n",
       " <deap.gp.Terminal at 0x25a3d5550e8>,\n",
       " <deap.gp.Primitive at 0x25a3d555098>,\n",
       " <deap.gp.Primitive at 0x25a3d3b75e8>,\n",
       " <deap.gp.Terminal at 0x25a3d5550e8>,\n",
       " <deap.gp.Primitive at 0x25a3d3b7688>,\n",
       " <deap.gp.Terminal at 0x25a3d5550e8>,\n",
       " <deap.gp.Primitive at 0x25a3d555098>,\n",
       " <deap.gp.Primitive at 0x25a3d3b75e8>,\n",
       " <deap.gp.Terminal at 0x25a3d5550e8>,\n",
       " <deap.gp.Terminal at 0x25a3d5550e8>,\n",
       " <deap.gp.Terminal at 0x25a3d5550e8>]"
      ]
     },
     "execution_count": 31,
     "metadata": {},
     "output_type": "execute_result"
    }
   ],
   "source": [
    "h_[0]"
   ]
  },
  {
   "cell_type": "code",
   "execution_count": 10,
   "metadata": {},
   "outputs": [
    {
     "name": "stdout",
     "output_type": "stream",
     "text": [
      "add(mul(x, sub(x, neg(mul(x, sub(x, neg(mul(x, x))))))), x)\n"
     ]
    }
   ],
   "source": [
    "print(h_[0])"
   ]
  },
  {
   "cell_type": "code",
   "execution_count": 11,
   "metadata": {},
   "outputs": [],
   "source": [
    "nodes, edges, labels = gp.graph(h_[0])\n",
    "\n",
    "g = pgv.AGraph()\n",
    "g.add_nodes_from(nodes)\n",
    "g.add_edges_from(edges)\n",
    "g.layout(prog=\"dot\")\n",
    "\n",
    "for i in nodes:\n",
    "    n = g.get_node(i)\n",
    "    n.attr[\"label\"] = labels[i]\n",
    "\n",
    "g.draw(\"result.pdf\")"
   ]
  },
  {
   "cell_type": "markdown",
   "metadata": {},
   "source": [
    "<img src=\"imgs/resultGP.JPG\" width=40%>"
   ]
  },
  {
   "cell_type": "code",
   "execution_count": null,
   "metadata": {},
   "outputs": [],
   "source": []
  }
 ],
 "metadata": {
  "kernelspec": {
   "display_name": "Python 3",
   "language": "python",
   "name": "python3"
  },
  "language_info": {
   "codemirror_mode": {
    "name": "ipython",
    "version": 3
   },
   "file_extension": ".py",
   "mimetype": "text/x-python",
   "name": "python",
   "nbconvert_exporter": "python",
   "pygments_lexer": "ipython3",
   "version": "3.7.3"
  }
 },
 "nbformat": 4,
 "nbformat_minor": 4
}
