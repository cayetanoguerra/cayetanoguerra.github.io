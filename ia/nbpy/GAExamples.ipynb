{
 "cells": [
  {
   "cell_type": "markdown",
   "metadata": {},
   "source": [
    "# Ejemplos de algoritmos genéticos\n",
    "---\n",
    "\n",
    "Tutorial completo: http://deap.readthedocs.io/en/master/tutorials/basic/part1.html\n",
    "\n",
    "Referencia DEAP: http://deap.readthedocs.io/en/master/api/tools.html\n",
    "\n",
    "\n",
    "## Problema OneMax\n",
    "\n",
    "En este problema de optimización nos encontramos con un vector de 100 valores binarios, por lo que el número de posibles casos es de $2^{100}$. La tarea consiste en encontrar el vector con mayor número de $1$'s.\n",
    "\n",
    "Ante de meternos a resolver el problema mediante algoritmos genéticos vamos a intentar resolverlo solamente mediante azar. Vamos a crear un millón de vectores de cien elementos y veamos cuál es el mayor fitness que conseguimos."
   ]
  },
  {
   "cell_type": "code",
   "execution_count": 39,
   "metadata": {},
   "outputs": [
    {
     "name": "stdout",
     "output_type": "stream",
     "text": [
      "74\n"
     ]
    }
   ],
   "source": [
    "import numpy as np\n",
    "\n",
    "max = 0\n",
    "for _ in range(1_000_000):\n",
    "    v = np.random.randint(0,2,100)\n",
    "    s = np.sum(v)\n",
    "    if s > max:\n",
    "        max = s\n",
    "        \n",
    "print(max)"
   ]
  },
  {
   "cell_type": "markdown",
   "metadata": {},
   "source": [
    "En este caso el mayor valor ha sido 73. Recuerda que la probabilidad de que obtengamos de forma aleatoria un vector con cien unos es de:\n",
    "\n",
    "$$\\frac{1}{2^{100}}$$"
   ]
  },
  {
   "cell_type": "markdown",
   "metadata": {},
   "source": [
    "Las principales clases de DEAP y que vamos a utilizar son:\n",
    "\n",
    "- <code>base</code> acceso al *toolbox* y a las funciones de *fitness*.\n",
    "- <code>creator</code> permite crear los tipos (*types*).\n",
    "- <code>tools</code> acceso a los operadores.\n",
    "- <code>algorithms</code> prepara las iteraciones de los algoritmos genéticos."
   ]
  },
  {
   "cell_type": "code",
   "execution_count": 1,
   "metadata": {},
   "outputs": [],
   "source": [
    "import random\n",
    "import numpy\n",
    "from deap import base, creator, tools, algorithms"
   ]
  },
  {
   "cell_type": "markdown",
   "metadata": {},
   "source": [
    "### Fitness\n",
    "\n",
    "La clase \"Fitness\" proporcionada es una **clase abstracta** que necesita un atributo de pesos para ser funcional. Un \"fitness\" a minimizar se construye utilizando pesos negativos, mientras que para maximizar debemos coloar pesos positivos. Es posible que la función de fitness incluya varias funciones internas donde unas deban maximizarse y otras minimizarse. Por esta razón el parámetro \"weights\" es una tupla.\n",
    "\n",
    "La función *create()* tiene al menos dos argumentos, un nombre para la clase recién creada y una clase base. Cualquier argumento subsiguiente se convierte en un **atributo de la clase**.\n",
    "\n",
    "### Individuos\n",
    "\n",
    "El primer individuo que crearemos será una simple lista que contiene flotantes. Para producir este tipo de individuo, necesitamos crear una clase *Individual*, usando el creador, que heredará del tipo de lista estándar y tendrá un atributo fitness."
   ]
  },
  {
   "cell_type": "code",
   "execution_count": 2,
   "metadata": {},
   "outputs": [],
   "source": [
    "creator.create(\"FitnessMax\", base.Fitness, weights=(1.0,))\n",
    "creator.create(\"Individual\", list, fitness=creator.FitnessMax)"
   ]
  },
  {
   "cell_type": "markdown",
   "metadata": {},
   "source": [
    "Vemos que <code>Individual</code> es una clase que hereda de <code>list</code> y tiene un método llamado <code>fitness</code>. Podemos crear un individuo <code>ind</code> a partir de <code>creator.Individual</code>, como se muestra a continuación:"
   ]
  },
  {
   "cell_type": "code",
   "execution_count": 3,
   "metadata": {
    "scrolled": true
   },
   "outputs": [
    {
     "name": "stdout",
     "output_type": "stream",
     "text": [
      "[1, 0, 1, 1, 0]\n",
      "<class 'deap.creator.Individual'>\n",
      "<class 'deap.creator.FitnessMax'>\n"
     ]
    }
   ],
   "source": [
    "ind = creator.Individual([1, 0, 1, 1, 0])\n",
    "\n",
    "print(ind)\n",
    "print(type(ind))\n",
    "print(type(ind.fitness))"
   ]
  },
  {
   "cell_type": "markdown",
   "metadata": {},
   "source": [
    "El valor del <code>fitness</code> de un individuo se calculará simplemente sumando todos sus elementos."
   ]
  },
  {
   "cell_type": "code",
   "execution_count": 4,
   "metadata": {},
   "outputs": [],
   "source": [
    "def evalOneMax(individual):\n",
    "    return sum(individual),"
   ]
  },
  {
   "cell_type": "markdown",
   "metadata": {},
   "source": [
    "Ahora registraremos varias funciones para crear los atributos de los individuos, los propios individuos y la población. También registraremos las funciones para evaluar los individuos, cruzarlos, mutarlos y seleccionarlos."
   ]
  },
  {
   "cell_type": "code",
   "execution_count": 5,
   "metadata": {},
   "outputs": [],
   "source": [
    "toolbox = base.Toolbox()\n",
    "toolbox.register(\"attr_bool\", random.randint, 0, 1)\n",
    "toolbox.register(\"individual\", tools.initRepeat, creator.Individual, toolbox.attr_bool, n=100)\n",
    "toolbox.register(\"population\", tools.initRepeat, list, toolbox.individual)\n",
    "\n",
    "toolbox.register(\"evaluate\", evalOneMax)\n",
    "toolbox.register(\"mate\", tools.cxTwoPoint)\n",
    "toolbox.register(\"mutate\", tools.mutFlipBit, indpb=0.03)\n",
    "toolbox.register(\"select\", tools.selTournament, tournsize=3)\n",
    "\n",
    "bit = toolbox.attr_bool()\n",
    "pop = toolbox.population(n=50)\n",
    "\n",
    "# print(\"bit is of type %s and has value\\n%s\" % (type(bit), bit))\n",
    "# print(\"ind is of type %s and contains %d bits\\n%s\" % (type(ind), len(ind), ind))\n",
    "# print(\"pop is of type %s and contains %d individuals\\n%s\" % (type(pop), len(pop), pop))"
   ]
  },
  {
   "cell_type": "markdown",
   "metadata": {},
   "source": [
    "Por ejemplo, veamos cómo crearíamos un individuo y cómo lo mutaríamos. Observa la línea <code>temp = ind[:]</code>, con este \"truco\" logramos crear una nueva copia de la lista. Si hubiéramos hecho <code>temp = ind</code>, entonces <code>temp</code> e <code>ind</code> serían el mismo objeto, cosa que no queremos."
   ]
  },
  {
   "cell_type": "code",
   "execution_count": 6,
   "metadata": {},
   "outputs": [
    {
     "name": "stdout",
     "output_type": "stream",
     "text": [
      "[1, 1, 1, 0, 0, 0, 0, 0, 0, 1, 0, 0, 1, 0, 1, 1, 0, 0, 0, 0, 1, 0, 1, 1, 0, 1, 1, 1, 1, 0, 0, 0, 1, 1, 1, 1, 1, 1, 1, 1, 1, 1, 1, 1, 1, 0, 0, 0, 0, 1, 0, 1, 1, 0, 0, 0, 0, 0, 0, 0, 0, 1, 1, 1, 0, 1, 0, 1, 0, 0, 0, 0, 1, 1, 1, 0, 1, 0, 0, 0, 0, 1, 1, 0, 0, 1, 1, 0, 0, 1, 1, 0, 1, 1, 1, 0, 1, 1, 1, 1]\n",
      "[ 0  0  0  0  0  0  0  0  0  0  0  0  0  0  0  0  0  0  0  0  0  0  0  0\n",
      "  0  0  0  0  0  0  0  0  1  0  0  0  0  0  0  0  0  0  0  0  0  0  0  0\n",
      "  0  1  0  0  0  0 -1  0  0  0  0  0  0  1  0  0  0  0  0  0  0  0  0  0\n",
      "  0  0  0  0  0  0  0  0  0  0  0  0  0  0  0  0  0  0  0  0  0  0  0  0\n",
      "  0  0  0  0]\n",
      "4532618728\n",
      "4531819272\n"
     ]
    }
   ],
   "source": [
    "import numpy as np\n",
    "\n",
    "ind = toolbox.individual()\n",
    "temp = ind[:]\n",
    "print(ind)\n",
    "toolbox.mutate(temp)\n",
    "print(np.array(ind) - np.array(temp))\n",
    "\n",
    "print(id(ind))\n",
    "print(id(temp))"
   ]
  },
  {
   "cell_type": "markdown",
   "metadata": {},
   "source": [
    "Otra forma de hacer lo mismo pero con el método <code>clone</code> de <code>tolbox</code>."
   ]
  },
  {
   "cell_type": "code",
   "execution_count": 7,
   "metadata": {},
   "outputs": [
    {
     "name": "stdout",
     "output_type": "stream",
     "text": [
      "False\n",
      "True\n"
     ]
    }
   ],
   "source": [
    "mutant = toolbox.clone(ind)\n",
    "print(mutant is ind)\n",
    "print(mutant == ind)"
   ]
  },
  {
   "cell_type": "markdown",
   "metadata": {},
   "source": [
    "### Hall of fame\n",
    "\n",
    "Si queremos mantener durante toda la evolución del algoritmo los mejores individuos obtenidos hasta el momento, debemos crear un objeto \"hall of fame\". En este caso, vamos a mantener cuatro. También podemos ir mostrando estadístias a medida que el algoritmo avanza."
   ]
  },
  {
   "cell_type": "code",
   "execution_count": 40,
   "metadata": {},
   "outputs": [
    {
     "name": "stdout",
     "output_type": "stream",
     "text": [
      "gen\tnevals\tavg  \tmin\tmax\n",
      "0  \t0     \t98.08\t93 \t99 \n",
      "1  \t32    \t98.08\t92 \t100\n",
      "2  \t23    \t98.66\t95 \t100\n",
      "3  \t25    \t98.32\t93 \t100\n",
      "4  \t27    \t98.48\t93 \t100\n",
      "5  \t29    \t98.76\t93 \t100\n",
      "6  \t21    \t99.26\t95 \t100\n",
      "7  \t34    \t99.14\t95 \t100\n",
      "8  \t39    \t99.16\t92 \t100\n",
      "9  \t23    \t99.36\t93 \t100\n",
      "10 \t26    \t99.38\t93 \t100\n",
      "11 \t36    \t99.3 \t95 \t100\n",
      "12 \t35    \t99.4 \t94 \t100\n",
      "13 \t36    \t99.46\t94 \t100\n",
      "14 \t37    \t99.42\t94 \t100\n",
      "15 \t32    \t99.4 \t94 \t100\n",
      "16 \t20    \t99.16\t90 \t100\n",
      "17 \t36    \t99.26\t94 \t100\n",
      "18 \t31    \t99.4 \t95 \t100\n",
      "19 \t27    \t99.72\t96 \t100\n",
      "20 \t28    \t99.28\t94 \t100\n",
      "21 \t34    \t99.38\t93 \t100\n",
      "22 \t30    \t99.46\t95 \t100\n",
      "23 \t24    \t99.66\t96 \t100\n",
      "24 \t25    \t99.86\t97 \t100\n",
      "25 \t33    \t99.2 \t95 \t100\n",
      "26 \t35    \t99.64\t95 \t100\n",
      "27 \t25    \t99.28\t95 \t100\n",
      "28 \t33    \t99.42\t95 \t100\n",
      "29 \t28    \t99.5 \t94 \t100\n",
      "30 \t31    \t99.22\t95 \t100\n",
      "31 \t24    \t99.74\t95 \t100\n",
      "32 \t30    \t99.42\t95 \t100\n",
      "33 \t32    \t99.66\t96 \t100\n",
      "34 \t25    \t99.6 \t92 \t100\n",
      "35 \t33    \t99.5 \t95 \t100\n",
      "36 \t27    \t99.42\t94 \t100\n",
      "37 \t30    \t99.64\t96 \t100\n",
      "38 \t26    \t99.48\t94 \t100\n",
      "39 \t32    \t98.88\t94 \t100\n",
      "40 \t27    \t99.3 \t94 \t100\n",
      "41 \t29    \t99.6 \t96 \t100\n",
      "42 \t32    \t99   \t92 \t100\n",
      "43 \t27    \t99.3 \t95 \t100\n",
      "44 \t24    \t99.66\t95 \t100\n",
      "45 \t29    \t99.68\t95 \t100\n",
      "46 \t26    \t99.42\t94 \t100\n",
      "47 \t29    \t99.18\t94 \t100\n",
      "48 \t25    \t99.14\t94 \t100\n",
      "49 \t29    \t99.5 \t95 \t100\n",
      "50 \t29    \t99.52\t96 \t100\n",
      "51 \t34    \t99.16\t93 \t100\n",
      "52 \t34    \t99.32\t96 \t100\n",
      "53 \t34    \t99.54\t95 \t100\n",
      "54 \t28    \t99.6 \t93 \t100\n",
      "55 \t29    \t99.28\t95 \t100\n",
      "56 \t27    \t99.46\t92 \t100\n",
      "57 \t29    \t99.62\t94 \t100\n",
      "58 \t31    \t99.1 \t93 \t100\n",
      "59 \t25    \t99.68\t93 \t100\n",
      "60 \t31    \t99.32\t94 \t100\n",
      "61 \t37    \t99.38\t95 \t100\n",
      "62 \t28    \t99.66\t94 \t100\n",
      "63 \t30    \t99.28\t96 \t100\n",
      "64 \t30    \t99.48\t96 \t100\n",
      "65 \t31    \t99.32\t94 \t100\n",
      "66 \t25    \t99.58\t95 \t100\n",
      "67 \t25    \t99.54\t93 \t100\n",
      "68 \t31    \t99.48\t96 \t100\n",
      "69 \t29    \t99.34\t93 \t100\n",
      "70 \t28    \t99.32\t92 \t100\n",
      "71 \t27    \t99.56\t96 \t100\n",
      "72 \t35    \t99.18\t95 \t100\n",
      "73 \t20    \t99.5 \t95 \t100\n",
      "74 \t34    \t99.24\t93 \t100\n",
      "75 \t29    \t99.42\t94 \t100\n",
      "76 \t24    \t99.54\t97 \t100\n",
      "77 \t27    \t99.5 \t95 \t100\n",
      "78 \t23    \t99.2 \t93 \t100\n",
      "79 \t26    \t99.38\t93 \t100\n",
      "80 \t35    \t99.44\t95 \t100\n",
      "81 \t29    \t99.56\t95 \t100\n",
      "82 \t20    \t99.66\t95 \t100\n",
      "83 \t27    \t99.52\t94 \t100\n",
      "84 \t29    \t99.4 \t95 \t100\n",
      "85 \t23    \t99.64\t95 \t100\n",
      "86 \t30    \t99.34\t93 \t100\n",
      "87 \t34    \t99.36\t94 \t100\n",
      "88 \t20    \t99.5 \t94 \t100\n",
      "89 \t32    \t99.12\t94 \t100\n",
      "90 \t37    \t99.14\t92 \t100\n",
      "91 \t21    \t99.5 \t96 \t100\n",
      "92 \t28    \t99.34\t95 \t100\n",
      "93 \t25    \t99.7 \t95 \t100\n",
      "94 \t25    \t99.18\t93 \t100\n",
      "95 \t26    \t99.42\t93 \t100\n",
      "96 \t29    \t99.48\t95 \t100\n",
      "97 \t21    \t99.72\t94 \t100\n",
      "98 \t31    \t99.24\t92 \t100\n",
      "99 \t35    \t99.52\t95 \t100\n",
      "100\t30    \t99.48\t93 \t100\n"
     ]
    }
   ],
   "source": [
    "hof = tools.HallOfFame(4)\n",
    "\n",
    "stats = tools.Statistics(lambda indiv: indiv.fitness.values)\n",
    "stats.register(\"avg\", numpy.mean)\n",
    "stats.register(\"min\", numpy.min)\n",
    "stats.register(\"max\", numpy.max)\n",
    "\n",
    "pop, logbook = algorithms.eaSimple(pop, toolbox, cxpb=0.5, mutpb=0.2, ngen=100, stats=stats, halloffame=hof, verbose=True)"
   ]
  },
  {
   "cell_type": "code",
   "execution_count": 41,
   "metadata": {},
   "outputs": [
    {
     "name": "stdout",
     "output_type": "stream",
     "text": [
      "Best individual is: [1, 1, 1, 1, 1, 1, 1, 1, 1, 1, 1, 1, 1, 1, 1, 1, 1, 1, 1, 1, 1, 1, 1, 1, 1, 1, 1, 1, 1, 1, 1, 1, 1, 1, 1, 1, 1, 1, 1, 1, 1, 1, 1, 1, 1, 1, 1, 1, 1, 1, 1, 1, 1, 1, 1, 1, 1, 1, 1, 1, 1, 1, 1, 1, 1, 1, 1, 1, 1, 1, 1, 1, 1, 1, 1, 1, 1, 1, 1, 1, 1, 1, 1, 1, 1, 1, 1, 1, 1, 1, 1, 1, 1, 1, 1, 1, 1, 1, 1, 1]\n",
      " with fitness: (100.0,)\n"
     ]
    },
    {
     "data": {
      "image/png": "[encoded data removed]",
      "text/plain": [
       "<Figure size 432x288 with 1 Axes>"
      ]
     },
     "metadata": {
      "needs_background": "light"
     },
     "output_type": "display_data"
    }
   ],
   "source": [
    "print(\"Best individual is: %s\\n with fitness: %s\" % (hof[0], hof[0].fitness))\n",
    "\n",
    "import matplotlib.pyplot as plt\n",
    "\n",
    "gen, avg, min_, max_ = logbook.select(\"gen\", \"avg\", \"min\", \"max\")\n",
    "plt.plot(gen, avg, label=\"average\")\n",
    "plt.plot(gen, min_, label=\"minimum\")\n",
    "plt.plot(gen, max_, label=\"maximum\")\n",
    "plt.xlabel(\"Generation\")\n",
    "plt.ylabel(\"Fitness\")\n",
    "plt.legend(loc=\"lower right\")\n",
    "plt.show()"
   ]
  },
  {
   "cell_type": "code",
   "execution_count": 10,
   "metadata": {},
   "outputs": [
    {
     "data": {
      "text/plain": [
       "[deap.creator.FitnessMax((98.0,)),\n",
       " deap.creator.FitnessMax((99.0,)),\n",
       " deap.creator.FitnessMax((99.0,)),\n",
       " deap.creator.FitnessMax((99.0,))]"
      ]
     },
     "execution_count": 10,
     "metadata": {},
     "output_type": "execute_result"
    }
   ],
   "source": [
    "hof.keys"
   ]
  },
  {
   "cell_type": "markdown",
   "metadata": {},
   "source": [
    "Comparemos, por tanto, este resultado con el intento que hicimos al principio de resolverlo por simple azar. Solo por azar computamos un millón de soluciones y obtuvimos un *fitness* de 73, mediante algoritmos genéticos sólo computamos 5000 soluciones (100 individuos x 50 generaciones) y obtuvimos un *fitness* de 99."
   ]
  },
  {
   "cell_type": "markdown",
   "metadata": {},
   "source": [
    "---\n",
    "**Resetear kernel**\n",
    "\n",
    "---"
   ]
  },
  {
   "cell_type": "markdown",
   "metadata": {},
   "source": [
    "## Problema de la mochila\n",
    "\n",
    "El **problema de la mochila** es un problema clásico dentro de la IA. Consiste en lo siguiente: existe un número determinado de objetos que tienen un valor y un peso propios. En nuestra mochila solo podemos llevar hasta un peso máximo, por lo tanto, el problema consiste en escoger los objetos que minimicen el peso y maximicen el valor. Es un problema NP-completo."
   ]
  },
  {
   "cell_type": "code",
   "execution_count": 1,
   "metadata": {},
   "outputs": [],
   "source": [
    "import random\n",
    "import numpy\n",
    "from deap import base, creator, tools, algorithms\n",
    "\n",
    "creator.create(\"Fitness\", base.Fitness, weights=(-1.0, 1.0))  # minimizamos el peso y maximizamos el valor\n",
    "creator.create(\"Individual\", set, fitness=creator.Fitness)"
   ]
  },
  {
   "cell_type": "code",
   "execution_count": 2,
   "metadata": {},
   "outputs": [],
   "source": [
    "IND_INIT_SIZE = 5\n",
    "MAX_ITEM = 50  # Número máximo de objetos en la mochila\n",
    "MAX_WEIGHT = 50  # Peso máximo en la mochila\n",
    "NBR_ITEMS = 20  # Número total de objetos"
   ]
  },
  {
   "cell_type": "markdown",
   "metadata": {},
   "source": [
    "Crearemos el conjunto de objetos del que podremos escoger cuáles meter en la mochila."
   ]
  },
  {
   "cell_type": "code",
   "execution_count": 3,
   "metadata": {},
   "outputs": [],
   "source": [
    "# Create the item dictionary: item name is an integer, and value is \n",
    "# a (weight, value) 2-tuple.\n",
    "\n",
    "items = {}\n",
    "# Create random items and store them in the items' dictionary.\n",
    "for i in range(NBR_ITEMS):\n",
    "    items[i] = (random.randint(1, 10), random.uniform(0, 100))  # (peso, valor)"
   ]
  },
  {
   "cell_type": "code",
   "execution_count": 4,
   "metadata": {},
   "outputs": [
    {
     "data": {
      "text/plain": [
       "{0: (3, 40.21973789030577),\n",
       " 1: (5, 14.82673705642511),\n",
       " 2: (4, 17.84809746774294),\n",
       " 3: (2, 77.10800522420402),\n",
       " 4: (9, 68.28988567929494),\n",
       " 5: (1, 68.86370295584337),\n",
       " 6: (7, 13.961059341269245),\n",
       " 7: (8, 31.01136831834118),\n",
       " 8: (2, 80.16372253099942),\n",
       " 9: (8, 34.13362867121229),\n",
       " 10: (6, 96.59866206156678),\n",
       " 11: (2, 22.525889266595158),\n",
       " 12: (3, 58.49950981707295),\n",
       " 13: (10, 32.64928028147466),\n",
       " 14: (5, 58.69033290714722),\n",
       " 15: (10, 77.2728251346083),\n",
       " 16: (4, 89.62514697548662),\n",
       " 17: (6, 14.444314021405402),\n",
       " 18: (2, 7.477817620888938),\n",
       " 19: (9, 76.88910569305926)}"
      ]
     },
     "execution_count": 4,
     "metadata": {},
     "output_type": "execute_result"
    }
   ],
   "source": [
    "items"
   ]
  },
  {
   "cell_type": "markdown",
   "metadata": {},
   "source": [
    "Las siguientes líneas crean la población inicial del individuos. Con <code>toolbox.attr_item</code> escogemos un objeto, entre 0 y NBR_ITEMS. La función <code>toolbox.individual</code> itera IND_INIT_SIZE veces para ir añadiendo objetos al individuo. Observa que los individuos pueden tener IND_INIT_SIZE objetos o menos. Eso se debe a que si aleatoriamente se vuelve a escoger el mismo objeto, éste no se repite dentro del conjunto (set). Por último, <code>toolbox.population</code>  crea una función para generar una lista de individuos."
   ]
  },
  {
   "cell_type": "code",
   "execution_count": 5,
   "metadata": {},
   "outputs": [],
   "source": [
    "toolbox = base.Toolbox()\n",
    "toolbox.register(\"attr_item\", random.randrange, NBR_ITEMS)  # Objeto a escoger, entre 0 y NBR_ITEMS-1\n",
    "toolbox.register(\"individual\", tools.initRepeat, creator.Individual, \n",
    "    toolbox.attr_item, IND_INIT_SIZE)\n",
    "toolbox.register(\"population\", tools.initRepeat, list, toolbox.individual)"
   ]
  },
  {
   "cell_type": "markdown",
   "metadata": {},
   "source": [
    "Evaluamos un individuo como la suma total del peso y valor de sus objetos."
   ]
  },
  {
   "cell_type": "code",
   "execution_count": 6,
   "metadata": {},
   "outputs": [],
   "source": [
    "def evalKnapsack(individual):\n",
    "    weight = 0.0\n",
    "    value = 0.0\n",
    "    for item in individual:\n",
    "        weight += items[item][0]\n",
    "        value += items[item][1]\n",
    "    if len(individual) > MAX_ITEM or weight > MAX_WEIGHT:\n",
    "        return 10000, 0             # Ensure overweighted bags are dominated\n",
    "    return weight, value"
   ]
  },
  {
   "cell_type": "markdown",
   "metadata": {},
   "source": [
    "Para cruzar dos individuos y generar otros dos nuevos podemos usar las funciones de **intersección** y **diferencia simétrica** propias de los conjuntos. Por ejemplo, si tuviéramos los individuos {16, 9, 18, 3} y {3, 4, 13, 17, 18} los individuos resultantes serían {3, 18} (intersección) y {4, 9, 13, 16, 17} (diferencia)."
   ]
  },
  {
   "cell_type": "code",
   "execution_count": 7,
   "metadata": {},
   "outputs": [],
   "source": [
    "def cxSet(ind1, ind2):\n",
    "    \"\"\"Apply a crossover operation on input sets. The first child is the\n",
    "    intersection of the two sets, the second child is the difference of the\n",
    "    two sets.\n",
    "    \"\"\"\n",
    "    temp = set(ind1)                # Used in order to keep type\n",
    "\n",
    "    ind1.intersection_update(ind2)\n",
    "    ind2.symmetric_difference_update(temp)\n",
    "    \n",
    "    return ind1, ind2"
   ]
  },
  {
   "cell_type": "code",
   "execution_count": 8,
   "metadata": {},
   "outputs": [],
   "source": [
    "def mutSet(individual):\n",
    "    \"\"\"Mutation that pops or add an element.\"\"\"\n",
    "    if random.random() < 0.5:\n",
    "        if len(individual) > 0:     # We cannot pop from an empty set\n",
    "            individual.remove(random.choice(sorted(tuple(individual))))\n",
    "    else:\n",
    "        individual.add(random.randrange(NBR_ITEMS))\n",
    "    return individual,"
   ]
  },
  {
   "cell_type": "code",
   "execution_count": 9,
   "metadata": {},
   "outputs": [],
   "source": [
    "toolbox.register(\"evaluate\", evalKnapsack)\n",
    "toolbox.register(\"mate\", cxSet)\n",
    "toolbox.register(\"mutate\", mutSet)\n",
    "toolbox.register(\"select\", tools.selNSGA2)"
   ]
  },
  {
   "cell_type": "code",
   "execution_count": 10,
   "metadata": {},
   "outputs": [],
   "source": [
    "def main():\n",
    "    NGEN = 50\n",
    "    MU = 50\n",
    "    LAMBDA = 100\n",
    "    CXPB = 0.7\n",
    "    MUTPB = 0.2\n",
    "\n",
    "    pop = toolbox.population(n=MU)\n",
    "    hof = tools.ParetoFront()\n",
    "    stats = tools.Statistics(lambda ind: ind.fitness.values)\n",
    "    stats.register(\"avg\", numpy.mean, axis=0)\n",
    "    stats.register(\"std\", numpy.std, axis=0)\n",
    "    stats.register(\"min\", numpy.min, axis=0)\n",
    "    stats.register(\"max\", numpy.max, axis=0)\n",
    "\n",
    "    algorithms.eaMuPlusLambda(pop, toolbox, MU, LAMBDA, CXPB, MUTPB, NGEN, stats, halloffame=hof)\n",
    "    #algorithms.eaSimple(pop, toolbox, cxpb=0.5, mutpb=0.2, ngen=100, stats=stats, halloffame=hof, verbose=True)\n",
    "\n",
    "    return pop, stats, hof"
   ]
  },
  {
   "cell_type": "code",
   "execution_count": 11,
   "metadata": {},
   "outputs": [
    {
     "name": "stdout",
     "output_type": "stream",
     "text": [
      "gen\tnevals\tavg                        \tstd                      \tmin                        \tmax                        \n",
      "0  \t50    \t[ 24.56       223.65118954]\t[ 6.52735781 49.03010369]\t[ 11.         147.27473174]\t[ 37.         387.91418152]\n",
      "1  \t86    \t[ 10.9        139.66364096]\t[ 11.58835623 128.17872618]\t[0. 0.]                    \t[ 35.         387.91418152]\n",
      "2  \t91    \t[ 5.28       75.83985356]  \t[ 10.69960747 133.39604745]\t[0. 0.]                    \t[ 39.        477.5393285]  \n",
      "3  \t92    \t[ 5.32       77.44312801]  \t[ 10.68352002 132.95591463]\t[0. 0.]                    \t[ 39.        477.5393285]  \n",
      "4  \t89    \t[ 6.9        99.77271384]  \t[ 11.854535   145.74231859]\t[0. 0.]                    \t[ 39.        477.5393285]  \n",
      "5  \t95    \t[ 5.36       79.73462148]  \t[ 11.44160828 140.8811111 ]\t[0. 0.]                    \t[ 39.        477.5393285]  \n",
      "6  \t92    \t[ 5.54       86.43899891]  \t[ 11.41264211 142.29245413]\t[0. 0.]                    \t[ 39.        477.5393285]  \n",
      "7  \t89    \t[  7.44       113.60865127]\t[ 12.83457829 157.31261047]\t[0. 0.]                    \t[ 39.        477.5393285]  \n",
      "8  \t89    \t[  9.18       129.18604808]\t[ 14.26981429 169.41050186]\t[0. 0.]                    \t[ 45.         491.98364252]\n",
      "9  \t92    \t[ 6.02      99.1637026]    \t[ 11.6952811 152.2512445]  \t[0. 0.]                    \t[ 45.         491.98364252]\n",
      "10 \t93    \t[ 4.84       76.90655874]  \t[ 11.48801114 150.02707836]\t[0. 0.]                    \t[ 44.         536.22966141]\n",
      "11 \t90    \t[  6.18       102.07026571]\t[ 12.27630237 162.20345695]\t[0. 0.]                    \t[ 44.         536.22966141]\n",
      "12 \t92    \t[ 5.42       92.77662911]  \t[ 11.61566184 162.1608668 ]\t[0. 0.]                    \t[ 44.         536.22966141]\n",
      "13 \t85    \t[ 4.7        94.87495077]  \t[ 10.0920761  156.41724008]\t[0. 0.]                    \t[ 44.         536.22966141]\n",
      "14 \t93    \t[  6.94       125.20402933]\t[ 12.38775202 183.91922394]\t[0. 0.]                    \t[ 44.         536.22966141]\n",
      "15 \t88    \t[  6.36       124.93476854]\t[ 11.96120395 180.45129622]\t[0. 0.]                    \t[ 44.         536.22966141]\n",
      "16 \t87    \t[  8.06       183.89719955]\t[ 11.56444551 179.06407376]\t[0. 0.]                    \t[ 44.         536.22966141]\n",
      "17 \t90    \t[  6.54       136.22701035]\t[ 11.72213291 179.34566261]\t[0. 0.]                    \t[ 44.         536.22966141]\n",
      "18 \t88    \t[  8.1        171.29099529]\t[ 12.33896268 188.54264534]\t[0. 0.]                    \t[ 44.         536.22966141]\n",
      "19 \t89    \t[  7.48       167.46250211]\t[ 11.56760995 194.09751438]\t[0. 0.]                    \t[ 44.         536.22966141]\n",
      "20 \t84    \t[ 13.92       264.21761589]\t[ 15.41147624 208.15224618]\t[0. 0.]                    \t[ 44.         536.22966141]\n",
      "21 \t84    \t[ 21.9       376.8868762]  \t[ 16.4599514  171.72283324]\t[0. 0.]                    \t[ 44.         536.22966141]\n",
      "22 \t96    \t[  5.96      178.2515248]  \t[  7.1943311  177.23647004]\t[0. 0.]                    \t[ 26.         569.76882036]\n",
      "23 \t90    \t[  6.32       210.48369428]\t[  6.40137485 146.83191866]\t[0. 0.]                    \t[ 26.         569.76882036]\n",
      "24 \t87    \t[  6.24       177.80980678]\t[  7.65391403 189.15897124]\t[0. 0.]                    \t[ 26.         569.76882036]\n",
      "25 \t93    \t[  7.4        206.01786214]\t[  8.49941174 201.11492962]\t[0. 0.]                    \t[ 28.         592.29470963]\n",
      "26 \t86    \t[  8.6        224.47703565]\t[  9.66022774 218.71371224]\t[0. 0.]                    \t[ 32.        610.1428071]  \n",
      "27 \t92    \t[  9.54       258.17026222]\t[  8.93579319 202.58868579]\t[0. 0.]                    \t[ 32.        610.1428071]  \n",
      "28 \t89    \t[  8.14       225.07140385]\t[  8.82725325 201.89910246]\t[0. 0.]                    \t[ 32.        610.1428071]  \n",
      "29 \t90    \t[  9.26       239.87095585]\t[ 10.0812896  218.50317737]\t[0. 0.]                    \t[ 32.        610.1428071]  \n",
      "30 \t89    \t[ 11.36       294.93386976]\t[  9.90103025 204.10409778]\t[0. 0.]                    \t[ 32.        610.1428071]  \n",
      "31 \t87    \t[  9.44       233.61914512]\t[ 11.34929073 225.76957289]\t[0. 0.]                    \t[ 36.        647.0416455]  \n",
      "32 \t80    \t[ 14.52       341.43375232]\t[ 12.05693162 222.28521807]\t[0. 0.]                    \t[ 36.        647.0416455]  \n",
      "33 \t91    \t[ 17.38       407.01600216]\t[ 11.15148421 186.38791397]\t[0. 0.]                    \t[ 36.        647.0416455]  \n",
      "34 \t92    \t[ 18.68       418.79451607]\t[ 11.99239759 196.60109366]\t[0. 0.]                    \t[ 43.         661.00270484]\n",
      "35 \t87    \t[ 20.9        455.25788722]\t[ 11.74946807 184.91144398]\t[0. 0.]                    \t[ 41.         687.03191279]\n",
      "36 \t90    \t[ 14.16       333.10039997]\t[ 12.11669922 225.7506243 ]\t[0. 0.]                    \t[ 41.         687.03191279]\n",
      "37 \t93    \t[ 16.1        369.08743845]\t[ 12.5383412  222.25728877]\t[0. 0.]                    \t[ 41.         687.03191279]\n",
      "38 \t88    \t[ 14.04      326.0001353]  \t[ 12.5665588  232.99459444]\t[0. 0.]                    \t[ 41.         687.03191279]\n",
      "39 \t91    \t[ 16.52       378.33886043]\t[ 12.69683425 213.73672059]\t[0. 0.]                    \t[ 41.         687.03191279]\n",
      "40 \t88    \t[ 17.54       392.29688329]\t[ 13.11519729 216.50106133]\t[0. 0.]                    \t[ 41.         687.03191279]\n",
      "41 \t81    \t[ 19.42       431.50835654]\t[ 12.43557799 193.26899269]\t[0. 0.]                    \t[ 41.         687.03191279]\n",
      "42 \t90    \t[ 17.38       392.29931296]\t[ 12.94741673 210.32014831]\t[0. 0.]                    \t[ 46.         701.85864985]\n",
      "43 \t84    \t[ 19.36       434.21898908]\t[ 11.80298267 184.5049682 ]\t[0. 0.]                    \t[ 46.         701.85864985]\n",
      "44 \t90    \t[ 19.5        434.93754763]\t[ 12.16757987 183.54850873]\t[0. 0.]                    \t[ 46.         701.85864985]\n",
      "45 \t92    \t[ 18.52       404.25009175]\t[ 14.09431091 217.9875543 ]\t[0. 0.]                    \t[ 46.         701.85864985]\n",
      "46 \t92    \t[ 20.64      437.2873766]  \t[ 14.09930495 211.94680132]\t[0. 0.]                    \t[ 46.         701.85864985]\n",
      "47 \t95    \t[ 19.         420.27333911]\t[ 13.24688643 203.83243261]\t[0. 0.]                    \t[ 46.         701.85864985]\n",
      "48 \t91    \t[ 21.32       452.89023699]\t[ 13.88011527 203.1108143 ]\t[0. 0.]                    \t[ 46.         701.85864985]\n",
      "49 \t93    \t[ 18.9        418.19321294]\t[ 13.66784548 205.39357836]\t[0. 0.]                    \t[ 49.         721.16554146]\n",
      "50 \t89    \t[ 19.74       436.96100085]\t[ 13.1465737  192.40235649]\t[0. 0.]                    \t[ 49.         721.16554146]\n"
     ]
    }
   ],
   "source": [
    "pop, stats, hof = main()"
   ]
  },
  {
   "cell_type": "markdown",
   "metadata": {},
   "source": [
    "# Hall of fame\n"
   ]
  },
  {
   "cell_type": "code",
   "execution_count": 12,
   "metadata": {},
   "outputs": [
    {
     "data": {
      "text/plain": [
       "[Individual(),\n",
       " {5},\n",
       " {8},\n",
       " {5, 8},\n",
       " {3, 8},\n",
       " {3, 5, 8},\n",
       " {3, 5, 8, 11},\n",
       " {3, 5, 8, 12},\n",
       " {3, 5, 8, 16},\n",
       " {0, 3, 5, 8, 12},\n",
       " {3, 5, 8, 12, 16},\n",
       " {3, 5, 8, 11, 12, 16},\n",
       " {0, 3, 5, 8, 12, 16},\n",
       " {0, 3, 5, 8, 11, 12, 16},\n",
       " {3, 5, 8, 10, 12, 16},\n",
       " {3, 5, 8, 10, 11, 12, 16},\n",
       " {0, 3, 5, 8, 10, 12, 16},\n",
       " {0, 3, 5, 8, 10, 11, 12, 16},\n",
       " {3, 5, 8, 10, 11, 12, 14, 16},\n",
       " {0, 3, 5, 8, 10, 12, 14, 16},\n",
       " {0, 3, 5, 8, 10, 11, 12, 14, 16},\n",
       " {0, 2, 3, 5, 8, 10, 11, 12, 14, 16},\n",
       " {3, 5, 8, 10, 11, 12, 14, 16, 19},\n",
       " {0, 3, 5, 8, 10, 12, 14, 16, 19},\n",
       " {0, 3, 5, 8, 10, 12, 14, 15, 16},\n",
       " {0, 3, 5, 8, 10, 11, 12, 14, 16, 19},\n",
       " {0, 3, 5, 8, 10, 11, 12, 14, 15, 16},\n",
       " {0, 2, 3, 5, 8, 10, 11, 12, 14, 16, 19},\n",
       " {0, 1, 2, 3, 5, 8, 10, 11, 12, 14, 16, 19},\n",
       " {0, 2, 3, 5, 8, 9, 10, 11, 12, 14, 16, 19}]"
      ]
     },
     "execution_count": 12,
     "metadata": {},
     "output_type": "execute_result"
    }
   ],
   "source": [
    "hof.items"
   ]
  },
  {
   "cell_type": "code",
   "execution_count": 13,
   "metadata": {},
   "outputs": [
    {
     "data": {
      "text/plain": [
       "<Figure size 640x480 with 1 Axes>"
      ]
     },
     "metadata": {},
     "output_type": "display_data"
    }
   ],
   "source": [
    "import matplotlib.pyplot as plt\n",
    "\n",
    "x = []\n",
    "y = []\n",
    "\n",
    "for v in items.values():\n",
    "    x.append(v[0])\n",
    "    y.append(v[1])\n",
    "\n",
    "\n",
    "plt.scatter(x, y)\n",
    "plt.show()"
   ]
  },
  {
   "cell_type": "markdown",
   "metadata": {},
   "source": [
    "# Frente de Pareto\n",
    "\n",
    "Se denomina **óptimo de Pareto** a aquel punto de equilibrio en el que ninguno de los agentes afectados podrá mejorar su situación sin reducir el bienestar de cualquiera de los otros agentes ([Wikipedia](https://es.wikipedia.org/wiki/Eficiencia_de_Pareto)). "
   ]
  },
  {
   "cell_type": "code",
   "execution_count": 14,
   "metadata": {},
   "outputs": [
    {
     "data": {
      "image/png": "[encoded data removed]",
      "text/plain": [
       "<Figure size 432x288 with 1 Axes>"
      ]
     },
     "metadata": {
      "needs_background": "light"
     },
     "output_type": "display_data"
    }
   ],
   "source": [
    "x = []\n",
    "y = []\n",
    "\n",
    "for hof_item in hof.items:\n",
    "    if len(hof_item) > 0:\n",
    "        weight = 0\n",
    "        value = 0\n",
    "        for i in hof_item:\n",
    "            w, v = items[i]\n",
    "            weight += w\n",
    "            value += v\n",
    "        x.append(weight)\n",
    "        y.append(value)\n",
    "            \n",
    "plt.xlabel(\"Weight\")\n",
    "plt.ylabel(\"Value\")\n",
    "plt.scatter(x, y)\n",
    "plt.show()"
   ]
  },
  {
   "cell_type": "code",
   "execution_count": null,
   "metadata": {},
   "outputs": [],
   "source": []
  }
 ],
 "metadata": {
  "kernelspec": {
   "display_name": "Python 3",
   "language": "python",
   "name": "python3"
  },
  "language_info": {
   "codemirror_mode": {
    "name": "ipython",
    "version": 3
   },
   "file_extension": ".py",
   "mimetype": "text/x-python",
   "name": "python",
   "nbconvert_exporter": "python",
   "pygments_lexer": "ipython3",
   "version": "3.7.3"
  }
 },
 "nbformat": 4,
 "nbformat_minor": 4
}
