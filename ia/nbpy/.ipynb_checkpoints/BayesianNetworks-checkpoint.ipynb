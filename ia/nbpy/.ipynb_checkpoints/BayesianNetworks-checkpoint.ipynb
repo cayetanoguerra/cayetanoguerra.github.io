{
 "cells": [
  {
   "cell_type": "markdown",
   "metadata": {},
   "source": [
    "# Redes Bayesianas"
   ]
  },
  {
   "cell_type": "markdown",
   "metadata": {},
   "source": [
    "Supongamos una situación en la que tenemos tres variables: **Caries**, **Dolor** y **Huecos**. Por nuestro propio conocimiento, podemos inferir que la caries es la causante del dolor y/o de los huecos en los dientes. Por ese motivo representaremos la red bayesiana con tres nodos, donde el nodo **Caries** es padre de los nodos **Dolor** y **Huecos**. Representaremos en sus respectivas tablas sus valores probabilísticos."
   ]
  },
  {
   "cell_type": "markdown",
   "metadata": {},
   "source": [
    "<img src=\"imgs/red_bayesiana.JPG\" width=70%>"
   ]
  },
  {
   "cell_type": "markdown",
   "metadata": {},
   "source": [
    "Utilizaremos la librería *pomegranate* para crear la red y hacer inferencia sobre ella."
   ]
  },
  {
   "cell_type": "code",
   "execution_count": 29,
   "metadata": {},
   "outputs": [
    {
     "name": "stdout",
     "output_type": "stream",
     "text": [
      "Populating the interactive namespace from numpy and matplotlib\n"
     ]
    }
   ],
   "source": [
    "%pylab inline\n",
    "from pomegranate import *\n",
    "\n",
    "caries = DiscreteDistribution({'Yes': 0.8, 'No': 0.2})\n",
    "\n",
    "dolor = ConditionalProbabilityTable(\n",
    "        [['Yes', 'True', 0.6],\n",
    "         ['Yes', 'False', 0.4],\n",
    "         ['No', 'True', 0.1],\n",
    "         ['No', 'False', 0.9]],\n",
    "         [caries])\n",
    "\n",
    "huecos = ConditionalProbabilityTable(\n",
    "        [['Yes', 'True', 0.9],\n",
    "         ['Yes', 'False', 0.1],\n",
    "         ['No', 'True', 0.2],\n",
    "         ['No', 'False', 0.8]],\n",
    "         [caries])\n",
    "\n",
    "s1 = Node(caries, name=\"caries\")\n",
    "s2 = Node(dolor, name=\"dolor\")\n",
    "s3 = Node(huecos, name=\"huecos\")\n",
    "\n",
    "model = BayesianNetwork(\"Dentista\")\n",
    "model.add_states(s1, s2, s3)\n",
    "model.add_edge(s1, s2)\n",
    "model.add_edge(s1, s3)\n",
    "\n",
    "model.bake()\n",
    "# model.plot()"
   ]
  },
  {
   "cell_type": "markdown",
   "metadata": {},
   "source": [
    "Calcularemos ahora qué probabilidad de padecer caries tenemos si nos duele una muela."
   ]
  },
  {
   "cell_type": "code",
   "execution_count": 30,
   "metadata": {},
   "outputs": [
    {
     "name": "stdout",
     "output_type": "stream",
     "text": [
      "caries\n",
      "Estado [{'Yes': 0.9908256880733944, 'No': 0.00917431192660559}]\n"
     ]
    }
   ],
   "source": [
    "\n",
    "# observations = { }\n",
    "# observations = { 'caries' : 'Yes'}\n",
    "observations = { 'dolor' : 'True', 'huecos': 'True'}\n",
    "\n",
    "beliefs = model.predict_proba(observations)\n",
    "\n",
    "for state, belief in zip( model.states, beliefs ):\n",
    "    if type(belief) is not str:\n",
    "        print(state.name)\n",
    "        print(\"Estado\", belief.parameters)"
   ]
  },
  {
   "cell_type": "markdown",
   "metadata": {},
   "source": [
    "#### Ejercicio 1\n",
    "\n",
    "Calcula a mano y mediante la librería los siguientes casos:\n",
    "\n",
    "- Probabilidad de padecer caries tenemos si tenemos huecos.\n",
    "- Probabilidad de padecer caries.\n",
    "- Probabilidad de no padecer caries tenemos si tenemos huecos y dolor.\n",
    "- Probabilidad de tener huecos.\n",
    "\n",
    "Verifica que lo que calculas a mano coincide con las respuestas de la librería.\n",
    "\n",
    "#### Ejercicio 2\n",
    "\n",
    "Implementa mediante la librería la siguiente red:\n",
    "\n",
    "<img src=\"imgs/red_bayesiana_ejemplo_2.JPG\" width=70%>\n",
    "\n",
    "Calcula los valores de las diferentes variables si se produce un robo."
   ]
  },
  {
   "cell_type": "code",
   "execution_count": 79,
   "metadata": {},
   "outputs": [
    {
     "name": "stdout",
     "output_type": "stream",
     "text": [
      "Populating the interactive namespace from numpy and matplotlib\n"
     ]
    }
   ],
   "source": [
    "%pylab inline\n",
    "from pomegranate import *\n",
    "\n",
    "robo = DiscreteDistribution({'Yes_robo': 0.001, 'No_robo': 0.999})\n",
    "terremoto = DiscreteDistribution({'Yes_terremoto': 0.002, 'No_terremoto': 0.998})\n",
    "\n",
    "alarma = ConditionalProbabilityTable(\n",
    "        [['Yes_robo', 'Yes_terremoto', 'Salta_alarma', 0.95],\n",
    "         ['Yes_robo', 'Yes_terremoto', 'No_salta_alarma', 0.05],\n",
    "         ['Yes_robo', 'No_terremoto', 'Salta_alarma', 0.94],\n",
    "         ['Yes_robo', 'No_terremoto', 'No_salta_alarma', 0.06],\n",
    "         ['No_robo', 'Yes_terremoto', 'Salta_alarma', 0.29],\n",
    "         ['No_robo', 'Yes_terremoto', 'No_salta_alarma', 0.71],\n",
    "         ['No_robo', 'No_terremoto', 'Salta_alarma', 0.001],\n",
    "         ['No_robo', 'No_terremoto', 'No_salta_alarma', 0.999]],\n",
    "         [robo, terremoto])\n",
    "\n",
    "juan = ConditionalProbabilityTable(\n",
    "        [['Salta_alarma','Juan_llama', 0.90],\n",
    "         ['Salta_alarma','Juan_no_llama', 0.10],\n",
    "         ['No_salta_alarma','Juan_llama', 0.05],\n",
    "         ['No_salta_alarma','Juan_no_llama', 0.95]],\n",
    "         [alarma])\n",
    "\n",
    "maria = ConditionalProbabilityTable(\n",
    "        [['Salta_alarma','Maria_llama', 0.70],\n",
    "         ['Salta_alarma','Maria_no_llama', 0.30],\n",
    "         ['No_salta_alarma','Maria_llama', 0.01],\n",
    "         ['No_salta_alarma','Maria_no_llama', 0.99]],\n",
    "         [alarma])\n",
    "\n",
    "s1 = Node(robo, name=\"Robo\")\n",
    "s2 = Node(terremoto, name=\"Terremoto\")\n",
    "s3 = Node(alarma, name=\"Alarma\")\n",
    "s4 = Node(juan, name=\"Juan\")\n",
    "s5 = Node(maria, name=\"Maria\")\n",
    "\n",
    "\n",
    "model = BayesianNetwork(\"Avisos\")\n",
    "model.add_states(s1, s2, s3, s4, s5)\n",
    "model.add_edge(s1, s3)\n",
    "model.add_edge(s2, s3)\n",
    "model.add_edge(s3, s4)\n",
    "model.add_edge(s3, s5)\n",
    "\n",
    "model.bake()\n",
    "#model.plot()"
   ]
  },
  {
   "cell_type": "code",
   "execution_count": 88,
   "metadata": {},
   "outputs": [
    {
     "name": "stdout",
     "output_type": "stream",
     "text": [
      "Terremoto\n",
      "Estado [{'Yes_terremoto': 0.0020199831098792823, 'No_terremoto': 0.9979800168901206}]\n",
      "Alarma\n",
      "Estado [{'No_salta_alarma': 0.003532320318674678, 'Salta_alarma': 0.9964676796813253}]\n",
      "Maria\n",
      "Estado [{'Maria_llama': 0.6975626989801145, 'Maria_no_llama': 0.30243730101988553}]\n"
     ]
    }
   ],
   "source": [
    "# observations = {}\n",
    "observations = {'Robo':'Yes_robo', 'Juan':'Juan_llama'}\n",
    "# observations = {'Robo':'Yes_robo', 'Juan':'Juan_llama', 'Terremoto':'Yes_terremoto','Maria':'Maria_llama'}\n",
    "# observations = {'Juan':'Juan_llama', 'Maria':'Maria_llama'}\n",
    "# observations = {'Alarma' : 'Salta_alarma', 'Juan':'Juan_llama', 'Maria':'Maria_llama'}\n",
    "# observations = {'Alarma' : 'Salta_alarma', 'Juan':'Juan_llama'}\n",
    "\n",
    "beliefs = model.predict_proba(observations)\n",
    "\n",
    "for state, belief in zip( model.states, beliefs ):\n",
    "    if type(belief) is not str:\n",
    "        print(state.name)\n",
    "        print(\"Estado\", belief.parameters)"
   ]
  },
  {
   "cell_type": "markdown",
   "metadata": {},
   "source": [
    "## Redes bayesianas a partir de datos\n",
    "\n",
    "En un caso normal no contaremos con el DAG (directed acyclid graph) ni con las CPT (conditional probabilistic tables). Tendremos que construir todo eso a partir de los datos que podamos recoger.\n",
    "\n",
    "El siguiente *script* nos generará un *dataframe* con 100.000 muestras con el que reconstruiremos el ejemplo anterior."
   ]
  },
  {
   "cell_type": "code",
   "execution_count": 273,
   "metadata": {},
   "outputs": [
    {
     "data": {
      "text/html": [
       "<div>\n",
       "<style scoped>\n",
       "    .dataframe tbody tr th:only-of-type {\n",
       "        vertical-align: middle;\n",
       "    }\n",
       "\n",
       "    .dataframe tbody tr th {\n",
       "        vertical-align: top;\n",
       "    }\n",
       "\n",
       "    .dataframe thead th {\n",
       "        text-align: right;\n",
       "    }\n",
       "</style>\n",
       "<table border=\"1\" class=\"dataframe\">\n",
       "  <thead>\n",
       "    <tr style=\"text-align: right;\">\n",
       "      <th></th>\n",
       "      <th>Earthquake</th>\n",
       "      <th>Robbery</th>\n",
       "      <th>Alarm</th>\n",
       "      <th>Juan</th>\n",
       "      <th>María</th>\n",
       "    </tr>\n",
       "  </thead>\n",
       "  <tbody>\n",
       "    <tr>\n",
       "      <th>0</th>\n",
       "      <td>0</td>\n",
       "      <td>0</td>\n",
       "      <td>0</td>\n",
       "      <td>1</td>\n",
       "      <td>0</td>\n",
       "    </tr>\n",
       "    <tr>\n",
       "      <th>1</th>\n",
       "      <td>0</td>\n",
       "      <td>0</td>\n",
       "      <td>0</td>\n",
       "      <td>0</td>\n",
       "      <td>0</td>\n",
       "    </tr>\n",
       "    <tr>\n",
       "      <th>2</th>\n",
       "      <td>0</td>\n",
       "      <td>0</td>\n",
       "      <td>0</td>\n",
       "      <td>0</td>\n",
       "      <td>0</td>\n",
       "    </tr>\n",
       "    <tr>\n",
       "      <th>3</th>\n",
       "      <td>0</td>\n",
       "      <td>0</td>\n",
       "      <td>0</td>\n",
       "      <td>0</td>\n",
       "      <td>0</td>\n",
       "    </tr>\n",
       "    <tr>\n",
       "      <th>4</th>\n",
       "      <td>0</td>\n",
       "      <td>0</td>\n",
       "      <td>0</td>\n",
       "      <td>1</td>\n",
       "      <td>0</td>\n",
       "    </tr>\n",
       "    <tr>\n",
       "      <th>...</th>\n",
       "      <td>...</td>\n",
       "      <td>...</td>\n",
       "      <td>...</td>\n",
       "      <td>...</td>\n",
       "      <td>...</td>\n",
       "    </tr>\n",
       "    <tr>\n",
       "      <th>99995</th>\n",
       "      <td>0</td>\n",
       "      <td>0</td>\n",
       "      <td>0</td>\n",
       "      <td>0</td>\n",
       "      <td>0</td>\n",
       "    </tr>\n",
       "    <tr>\n",
       "      <th>99996</th>\n",
       "      <td>0</td>\n",
       "      <td>0</td>\n",
       "      <td>0</td>\n",
       "      <td>0</td>\n",
       "      <td>0</td>\n",
       "    </tr>\n",
       "    <tr>\n",
       "      <th>99997</th>\n",
       "      <td>0</td>\n",
       "      <td>0</td>\n",
       "      <td>0</td>\n",
       "      <td>0</td>\n",
       "      <td>0</td>\n",
       "    </tr>\n",
       "    <tr>\n",
       "      <th>99998</th>\n",
       "      <td>0</td>\n",
       "      <td>0</td>\n",
       "      <td>0</td>\n",
       "      <td>0</td>\n",
       "      <td>0</td>\n",
       "    </tr>\n",
       "    <tr>\n",
       "      <th>99999</th>\n",
       "      <td>0</td>\n",
       "      <td>0</td>\n",
       "      <td>0</td>\n",
       "      <td>0</td>\n",
       "      <td>0</td>\n",
       "    </tr>\n",
       "  </tbody>\n",
       "</table>\n",
       "<p>100000 rows × 5 columns</p>\n",
       "</div>"
      ],
      "text/plain": [
       "       Earthquake  Robbery  Alarm  Juan  María\n",
       "0               0        0      0     1      0\n",
       "1               0        0      0     0      0\n",
       "2               0        0      0     0      0\n",
       "3               0        0      0     0      0\n",
       "4               0        0      0     1      0\n",
       "...           ...      ...    ...   ...    ...\n",
       "99995           0        0      0     0      0\n",
       "99996           0        0      0     0      0\n",
       "99997           0        0      0     0      0\n",
       "99998           0        0      0     0      0\n",
       "99999           0        0      0     0      0\n",
       "\n",
       "[100000 rows x 5 columns]"
      ]
     },
     "execution_count": 273,
     "metadata": {},
     "output_type": "execute_result"
    }
   ],
   "source": [
    "import numpy as np\n",
    "import pandas as pd\n",
    "\n",
    "np.random.seed(666)\n",
    "\n",
    "earthquake = np.random.choice(2, 100000, p=[0.998, 0.002])\n",
    "robbery = np.random.choice(2, 100000, p=[0.999, 0.001])\n",
    "\n",
    "alarm = []\n",
    "\n",
    "for e,r in zip(earthquake, robbery):\n",
    "    if e==0 and r==0:\n",
    "        a = np.random.choice(2, p=[0.999, 0.001])\n",
    "    if e==0 and r==1:\n",
    "        a = np.random.choice(2, p=[0.06, 0.94])\n",
    "    if e==1 and r==0:\n",
    "        a = np.random.choice(2, p=[0.71, 0.29])\n",
    "    if e==1 and r==1:\n",
    "        a = np.random.choice(2, p=[0.05, 0.95])\n",
    "    alarm.append(a)\n",
    "        \n",
    "juan = []\n",
    "maria = []\n",
    "        \n",
    "for a in alarm:\n",
    "    if a==0:\n",
    "        j = np.random.choice(2, p=[0.95, 0.05])\n",
    "        m = np.random.choice(2, p=[0.99, 0.01])\n",
    "    if a==1:\n",
    "        j = np.random.choice(2, p=[0.10, 0.90])\n",
    "        m = np.random.choice(2, p=[0.30, 0.70])\n",
    "    juan.append(j)\n",
    "    maria.append(m)\n",
    "\n",
    "aux = np.stack((np.array(earthquake), np.array(robbery), np.array(alarm), np.array(juan), np.array(maria)), axis=0)\n",
    "samples = np.transpose(aux)\n",
    "\n",
    "df = pd.DataFrame(data=samples, columns=[\"Earthquake\", \"Robbery\", \"Alarm\", \"Juan\", \"María\"])\n",
    "\n",
    "df"
   ]
  },
  {
   "cell_type": "markdown",
   "metadata": {},
   "source": [
    "Fíjate que si no contáramos con suficientes datos las probabilidades que calculáramos podrían no ser muy precisas."
   ]
  },
  {
   "cell_type": "code",
   "execution_count": 221,
   "metadata": {},
   "outputs": [
    {
     "name": "stdout",
     "output_type": "stream",
     "text": [
      "Porcentaje de veces que hay un robo: 0.001\n"
     ]
    }
   ],
   "source": [
    "print(\"Porcentaje de veces que hay un robo:\", np.round( sum(df['Robbery'])/df.shape[0],4) )"
   ]
  },
  {
   "cell_type": "code",
   "execution_count": 222,
   "metadata": {},
   "outputs": [
    {
     "name": "stdout",
     "output_type": "stream",
     "text": [
      "Porcentaje de veces que hay un terremoto: 0.002\n"
     ]
    }
   ],
   "source": [
    "print(\"Porcentaje de veces que hay un terremoto:\", np.round( sum(df['Earthquake'])/df.shape[0],4) )"
   ]
  },
  {
   "cell_type": "code",
   "execution_count": 214,
   "metadata": {},
   "outputs": [
    {
     "name": "stdout",
     "output_type": "stream",
     "text": [
      "Porcentaje de veces que suena la alarma y Juan llama: 0.91\n"
     ]
    }
   ],
   "source": [
    "print(\"Porcentaje de veces que suena la alarma y Juan llama:\", np.round( sum(df['Alarm'] * df['Juan']) / sum(df['Alarm']),2) )"
   ]
  },
  {
   "cell_type": "code",
   "execution_count": 213,
   "metadata": {},
   "outputs": [
    {
     "name": "stdout",
     "output_type": "stream",
     "text": [
      "Porcentaje de veces que suena la alarma y María llama: 0.7\n"
     ]
    }
   ],
   "source": [
    "print(\"Porcentaje de veces que suena la alarma y María llama:\", np.round( sum(df['Alarm'] * df['María']) / sum(df['Alarm']),2) )"
   ]
  },
  {
   "cell_type": "markdown",
   "metadata": {},
   "source": [
    "### Creación del DAG\n",
    "\n",
    "Una vez obtenido el *dataset*, el siguiente paso será crear el DAG. Para ello haremos:"
   ]
  },
  {
   "cell_type": "code",
   "execution_count": 274,
   "metadata": {},
   "outputs": [
    {
     "name": "stdout",
     "output_type": "stream",
     "text": [
      "[bnlearn] >Computing best DAG using [ex]\n",
      "[bnlearn] >Set scoring type at [bic]\n"
     ]
    }
   ],
   "source": [
    "import bnlearn as bn\n",
    "\n",
    "DAG = bn.structure_learning.fit(df, methodtype='ex', scoretype='bic')"
   ]
  },
  {
   "cell_type": "code",
   "execution_count": 238,
   "metadata": {},
   "outputs": [
    {
     "name": "stdout",
     "output_type": "stream",
     "text": [
      "target      Alarm  Earthquake   Juan  María  Robbery\n",
      "source                                              \n",
      "Alarm       False       False   True   True    False\n",
      "Earthquake   True       False  False  False    False\n",
      "Juan        False       False  False  False    False\n",
      "María       False       False  False  False    False\n",
      "Robbery      True       False  False  False    False\n"
     ]
    }
   ],
   "source": [
    "# print adjacency matrix\n",
    "print(DAG['adjmat'])"
   ]
  },
  {
   "cell_type": "code",
   "execution_count": 275,
   "metadata": {},
   "outputs": [
    {
     "name": "stdout",
     "output_type": "stream",
     "text": [
      "[bnlearn]> Set node properties.\n",
      "[bnlearn]> Set edge properties.\n",
      "[bnlearn] >Plot based on Bayesian model\n"
     ]
    },
    {
     "data": {
      "image/png": "[encoded data removed]",
      "text/plain": [
       "<Figure size 1080x576 with 1 Axes>"
      ]
     },
     "metadata": {},
     "output_type": "display_data"
    },
    {
     "data": {
      "text/plain": [
       "{'pos': {'Alarm': array([-0.43358995, -0.83724467]),\n",
       "  'Earthquake': array([-0.16194989,  1.        ]),\n",
       "  'Juan': array([ 0.90291224, -0.55822437]),\n",
       "  'María': array([-0.94019281,  0.12562049]),\n",
       "  'Robbery': array([0.6328204 , 0.26984856])},\n",
       " 'G': <networkx.classes.digraph.DiGraph at 0x135c08978>,\n",
       " 'node_properties': {'Alarm': {'node_color': '#1f456e', 'node_size': 800},\n",
       "  'Earthquake': {'node_color': '#1f456e', 'node_size': 800},\n",
       "  'Juan': {'node_color': '#1f456e', 'node_size': 800},\n",
       "  'María': {'node_color': '#1f456e', 'node_size': 800},\n",
       "  'Robbery': {'node_color': '#1f456e', 'node_size': 800}},\n",
       " 'edge_properties': {('Alarm', 'Juan'): {'color': '#000000', 'weight': 1},\n",
       "  ('Alarm', 'María'): {'color': '#000000', 'weight': 1},\n",
       "  ('Earthquake', 'Alarm'): {'color': '#000000', 'weight': 1},\n",
       "  ('Robbery', 'Alarm'): {'color': '#000000', 'weight': 1}}}"
      ]
     },
     "execution_count": 275,
     "metadata": {},
     "output_type": "execute_result"
    }
   ],
   "source": [
    "# bn.plot(DAG, interactive=True, params_interactive={'notebook':True})\n",
    "bn.plot(DAG)"
   ]
  },
  {
   "cell_type": "markdown",
   "metadata": {},
   "source": [
    "### Aprendizaje de los parámetros\n",
    "\n",
    "A partir del grafo y de los datos es posible crear las tablas de probabilidad condicionada."
   ]
  },
  {
   "cell_type": "code",
   "execution_count": 276,
   "metadata": {},
   "outputs": [
    {
     "name": "stdout",
     "output_type": "stream",
     "text": [
      "[bnlearn] >Parameter learning> Computing parameters using [maximumlikelihood]\n",
      "[bnlearn] >Conversion of adjmat to BayesianModel.\n",
      "[bnlearn] >CPD of Alarm:\n",
      "+------------+-----------------------+---------------+--------------------+---------------+\n",
      "| Earthquake | Earthquake(0)         | Earthquake(0) | Earthquake(1)      | Earthquake(1) |\n",
      "+------------+-----------------------+---------------+--------------------+---------------+\n",
      "| Robbery    | Robbery(0)            | Robbery(1)    | Robbery(0)         | Robbery(1)    |\n",
      "+------------+-----------------------+---------------+--------------------+---------------+\n",
      "| Alarm(0)   | 0.999027159305171     | 0.0625        | 0.7076923076923077 | 0.0           |\n",
      "+------------+-----------------------+---------------+--------------------+---------------+\n",
      "| Alarm(1)   | 0.0009728406948289004 | 0.9375        | 0.2923076923076923 | 1.0           |\n",
      "+------------+-----------------------+---------------+--------------------+---------------+\n",
      "[bnlearn] >CPD of Juan:\n",
      "+---------+----------------------+---------------------+\n",
      "| Alarm   | Alarm(0)             | Alarm(1)            |\n",
      "+---------+----------------------+---------------------+\n",
      "| Juan(0) | 0.9506190165906471   | 0.08979591836734693 |\n",
      "+---------+----------------------+---------------------+\n",
      "| Juan(1) | 0.049380983409352916 | 0.9102040816326531  |\n",
      "+---------+----------------------+---------------------+\n",
      "[bnlearn] >CPD of María:\n",
      "+----------+----------------------+--------------------+\n",
      "| Alarm    | Alarm(0)             | Alarm(1)           |\n",
      "+----------+----------------------+--------------------+\n",
      "| María(0) | 0.9903764222344744   | 0.3020408163265306 |\n",
      "+----------+----------------------+--------------------+\n",
      "| María(1) | 0.009623577765525538 | 0.6979591836734694 |\n",
      "+----------+----------------------+--------------------+\n",
      "[bnlearn] >CPD of Earthquake:\n",
      "+---------------+---------+\n",
      "| Earthquake(0) | 0.99804 |\n",
      "+---------------+---------+\n",
      "| Earthquake(1) | 0.00196 |\n",
      "+---------------+---------+\n",
      "[bnlearn] >CPD of Robbery:\n",
      "+------------+---------+\n",
      "| Robbery(0) | 0.99903 |\n",
      "+------------+---------+\n",
      "| Robbery(1) | 0.00097 |\n",
      "+------------+---------+\n"
     ]
    }
   ],
   "source": [
    "model = bn.parameter_learning.fit(DAG, df, methodtype='maximumlikelihood')"
   ]
  },
  {
   "cell_type": "markdown",
   "metadata": {},
   "source": [
    "### Inferencia"
   ]
  },
  {
   "cell_type": "code",
   "execution_count": 279,
   "metadata": {},
   "outputs": [
    {
     "name": "stdout",
     "output_type": "stream",
     "text": [
      "[bnlearn] >Variable Elimination..\n"
     ]
    },
    {
     "data": {
      "application/vnd.jupyter.widget-view+json": {
       "model_id": "46ee4c0e19104dc083fe54cf464179ee",
       "version_major": 2,
       "version_minor": 0
      },
      "text/plain": [
       "  0%|          | 0/1 [00:00<?, ?it/s]"
      ]
     },
     "metadata": {},
     "output_type": "display_data"
    },
    {
     "data": {
      "application/vnd.jupyter.widget-view+json": {
       "model_id": "751fbe0cbe0b41e5a99195468ffa7a76",
       "version_major": 2,
       "version_minor": 0
      },
      "text/plain": [
       "  0%|          | 0/1 [00:00<?, ?it/s]"
      ]
     },
     "metadata": {},
     "output_type": "display_data"
    },
    {
     "name": "stdout",
     "output_type": "stream",
     "text": [
      "+----+---------+---------+-------------+\n",
      "|    |   Alarm |   María |           p |\n",
      "+====+=========+=========+=============+\n",
      "|  0 |       0 |       0 | 0.00356169  |\n",
      "+----+---------+---------+-------------+\n",
      "|  1 |       0 |       1 | 3.46093e-05 |\n",
      "+----+---------+---------+-------------+\n",
      "|  2 |       1 |       0 | 0.300955    |\n",
      "+----+---------+---------+-------------+\n",
      "|  3 |       1 |       1 | 0.695449    |\n",
      "+----+---------+---------+-------------+\n",
      "   Alarm  María         p\n",
      "0      0      0  0.003562\n",
      "1      0      1  0.000035\n",
      "2      1      0  0.300955\n",
      "3      1      1  0.695449\n"
     ]
    }
   ],
   "source": [
    "q1 = bn.inference.fit(model, variables=['Alarm','María'], evidence={'Robbery':1, 'Juan':1})\n",
    "print(q1.df)"
   ]
  },
  {
   "cell_type": "code",
   "execution_count": 280,
   "metadata": {},
   "outputs": [
    {
     "name": "stdout",
     "output_type": "stream",
     "text": [
      "[bnlearn] >Variable Elimination..\n"
     ]
    },
    {
     "data": {
      "application/vnd.jupyter.widget-view+json": {
       "model_id": "e9f0c07850e24b88844fc000151ffcc1",
       "version_major": 2,
       "version_minor": 0
      },
      "text/plain": [
       "  0%|          | 0/1 [00:00<?, ?it/s]"
      ]
     },
     "metadata": {},
     "output_type": "display_data"
    },
    {
     "data": {
      "application/vnd.jupyter.widget-view+json": {
       "model_id": "0c972216e15b4454a80d2261881f5d3b",
       "version_major": 2,
       "version_minor": 0
      },
      "text/plain": [
       "  0%|          | 0/1 [00:00<?, ?it/s]"
      ]
     },
     "metadata": {},
     "output_type": "display_data"
    },
    {
     "name": "stdout",
     "output_type": "stream",
     "text": [
      "+----+---------+-----------+\n",
      "|    |   Alarm |         p |\n",
      "+====+=========+===========+\n",
      "|  0 |       0 | 0.0035963 |\n",
      "+----+---------+-----------+\n",
      "|  1 |       1 | 0.996404  |\n",
      "+----+---------+-----------+\n",
      "   Alarm         p\n",
      "0      0  0.003596\n",
      "1      1  0.996404\n"
     ]
    }
   ],
   "source": [
    "q2 = bn.inference.fit(model, variables=['Alarm'], evidence={'Robbery':1, 'Juan':1})\n",
    "print(q2.df)"
   ]
  },
  {
   "cell_type": "code",
   "execution_count": 281,
   "metadata": {},
   "outputs": [
    {
     "data": {
      "text/plain": [
       "0.996404"
      ]
     },
     "execution_count": 281,
     "metadata": {},
     "output_type": "execute_result"
    }
   ],
   "source": [
    "0.695449+0.300955 "
   ]
  },
  {
   "cell_type": "markdown",
   "metadata": {},
   "source": [
    "### Almacenamiento y carga del modelo"
   ]
  },
  {
   "cell_type": "code",
   "execution_count": 299,
   "metadata": {},
   "outputs": [
    {
     "name": "stdout",
     "output_type": "stream",
     "text": [
      "[pypickle] Pickle file saved: [/Users/cayetanoguerraartal/Propio/Docencia/cayetanoguerra.github.io/ia/nbpy/bnlearn_model.pkl]\n",
      "[pypickle] Pickle file loaded: [/Users/cayetanoguerraartal/Propio/Docencia/cayetanoguerra.github.io/ia/nbpy/bnlearn_model.pkl]\n"
     ]
    }
   ],
   "source": [
    "# Save model\n",
    "bn.save(model, filepath='bnlearn_model', overwrite=True)\n",
    "\n",
    "# Load model\n",
    "model = bn.load(filepath='bnlearn_model')"
   ]
  },
  {
   "cell_type": "markdown",
   "metadata": {},
   "source": [
    "## Aprendizaje de la estructura\n",
    "\n",
    "Todos los métodos que intentan buscar la mejor estructura del grafo tienen un coste totalmente exponencial. Existen dos tipos de familias de métodos: los métodos basados en puntuación (*score-based*) y los métodos basados en restricciones (*constraint-based*).\n",
    "\n",
    "### Métodos basados en puntuación\n",
    "\n",
    "Métodos basados en la maximización de la verosimilitud de los datos. En otras palabras esto quiere decir que se busca la estructura del grafo que mejor se adapte o explique los datos. Para ello es necesario disponer de una función con la que optimizar. Una de esas funciones puede ser:\n",
    "\n",
    "$$\n",
    "\\text{Score}(G,D) = P(G|D)\n",
    "$$\n",
    "\n",
    "Esto quiere decir, ¿qué probabilidad hay de que, dados unos datos $D$, $G$ sea el grafo que mejor los \"explica\"? Los métodos basados en puntuación intentan maximizar este índice. Podríamos cambiar esta expresión a otra algo más conveniente:\n",
    "\n",
    "$$\n",
    "\\text{Score}(G,D) = P(G|D) = \\frac{P(D|G) \\cdot P(G)}{P(D)}\n",
    "$$\n",
    "\n",
    "$P(D|G)$ nos dice cuál es la probabilidad de obtener ciertos datos $D$ dado un grafo $G$. No tenemos que preocuparnos de $P(G)$, podemos asumir que todos los grafos tienen la misma probabilidad. En cuanto a $P(D)$ es la misma para todos los grafos. Por lo tanto, una función de *score* válida sería:\n",
    "\n",
    "$$\n",
    "\\text{Score}(G,D) = \\prod_{d \\in D} P(d|G)\n",
    "$$\n",
    "\n",
    "Un problema que surge en estos métodos es que los grafos totalmente conectados tendrán un *score* mayor. Es necesario añadir a la expresión anterior un factor de regularización que penalice nuevos arcos entre nodos. \n",
    "\n",
    "\n",
    "\n",
    "$$\n",
    "\\text{Score}(G,D) = \\prod_{d \\in D} P(d|G) - \\phi(\\lvert D \\rvert) \\lVert G \\rVert\n",
    "$$\n",
    "\n",
    "$\\lvert D \\rvert$ corresponde al número de muestras, y $|G|$ es el número de parámetros en el grafo. Por tanto, a medida que $|G|$ crece penaliza la función a maximizar. Como la función también cambia con el número de muestras, el factor de regularización es afectado por esta cantidad.\n",
    "\n",
    "\n",
    "### Métodos basados en restricciones\n",
    "\n",
    "Métodos basados en el aprendizaje de las relaciones de independencia entre las variables."
   ]
  },
  {
   "cell_type": "markdown",
   "metadata": {},
   "source": [
    "## Inferencia aproximada"
   ]
  },
  {
   "cell_type": "markdown",
   "metadata": {},
   "source": [
    "## Redes bayesianas como clasificadores"
   ]
  },
  {
   "cell_type": "code",
   "execution_count": null,
   "metadata": {},
   "outputs": [],
   "source": []
  }
 ],
 "metadata": {
  "kernelspec": {
   "display_name": "Python 3",
   "language": "python",
   "name": "python3"
  },
  "language_info": {
   "codemirror_mode": {
    "name": "ipython",
    "version": 3
   },
   "file_extension": ".py",
   "mimetype": "text/x-python",
   "name": "python",
   "nbconvert_exporter": "python",
   "pygments_lexer": "ipython3",
   "version": "3.7.6"
  }
 },
 "nbformat": 4,
 "nbformat_minor": 2
}
