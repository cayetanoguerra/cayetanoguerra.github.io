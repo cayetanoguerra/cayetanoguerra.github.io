{
 "cells": [
  {
   "cell_type": "markdown",
   "metadata": {},
   "source": [
    "# OneMax Problem\n",
    "\n",
    "En este problema de optimización nos encontramos con un vector de 100 valores binarios, por lo que el número de posibles casos es de $2^{100}$. La tarea consiste en encontrar el vector con mayor número de $1$'s."
   ]
  },
  {
   "cell_type": "markdown",
   "metadata": {},
   "source": [
    "Las principales clases de DEAP y que vamos a utilizar son:\n",
    "\n",
    "- <code>random</code> generador de números aleatorios.\n",
    "- <code>base</code> acceso al *toolbox* y a las funciones de *fitness*.\n",
    "- <code>creator</code> permite crear los tipos (*types*).\n",
    "- <code>tools</code> acceso a los operadores.\n",
    "- <code>algorithms</code> prepara las iteraciones de los algoritmos genéticos."
   ]
  },
  {
   "cell_type": "code",
   "execution_count": 1,
   "metadata": {},
   "outputs": [],
   "source": [
    "import random\n",
    "import numpy\n",
    "from deap import base, creator, tools, algorithms"
   ]
  },
  {
   "cell_type": "code",
   "execution_count": 2,
   "metadata": {},
   "outputs": [],
   "source": [
    "creator.create(\"FitnessMax\", base.Fitness, weights=(1.0,))\n",
    "creator.create(\"Individual\", list, fitness=creator.FitnessMax)"
   ]
  },
  {
   "cell_type": "code",
   "execution_count": 3,
   "metadata": {
    "scrolled": true
   },
   "outputs": [
    {
     "name": "stdout",
     "output_type": "stream",
     "text": [
      "[1, 0, 1, 1, 0]\n",
      "<class 'deap.creator.Individual'>\n",
      "<class 'deap.creator.FitnessMax'>\n"
     ]
    }
   ],
   "source": [
    "ind = creator.Individual([1, 0, 1, 1, 0])\n",
    "\n",
    "print(ind)\n",
    "print(type(ind))\n",
    "print(type(ind.fitness))"
   ]
  },
  {
   "cell_type": "code",
   "execution_count": 4,
   "metadata": {},
   "outputs": [],
   "source": [
    "def evalOneMax(individual):\n",
    "    return sum(individual),"
   ]
  },
  {
   "cell_type": "code",
   "execution_count": 5,
   "metadata": {},
   "outputs": [],
   "source": [
    "toolbox = base.Toolbox()\n",
    "toolbox.register(\"attr_bool\", random.randint, 0, 1)\n",
    "toolbox.register(\"individual\", tools.initRepeat, creator.Individual, toolbox.attr_bool, n=100)\n",
    "toolbox.register(\"population\", tools.initRepeat, list, toolbox.individual)\n",
    "\n",
    "toolbox.register(\"evaluate\", evalOneMax)\n",
    "toolbox.register(\"mate\", tools.cxTwoPoint)\n",
    "toolbox.register(\"mutate\", tools.mutFlipBit, indpb=0.03)\n",
    "toolbox.register(\"select\", tools.selTournament, tournsize=3)\n",
    "\n",
    "bit = toolbox.attr_bool()\n",
    "pop = toolbox.population(n=50)\n",
    "\n",
    "# print(\"bit is of type %s and has value\\n%s\" % (type(bit), bit))\n",
    "# print(\"ind is of type %s and contains %d bits\\n%s\" % (type(ind), len(ind), ind))\n",
    "# print(\"pop is of type %s and contains %d individuals\\n%s\" % (type(pop), len(pop), pop))"
   ]
  },
  {
   "cell_type": "code",
   "execution_count": 6,
   "metadata": {},
   "outputs": [
    {
     "data": {
      "text/plain": [
       "1"
      ]
     },
     "execution_count": 6,
     "metadata": {},
     "output_type": "execute_result"
    }
   ],
   "source": [
    "toolbox.attr_bool()"
   ]
  },
  {
   "cell_type": "code",
   "execution_count": 7,
   "metadata": {},
   "outputs": [
    {
     "name": "stdout",
     "output_type": "stream",
     "text": [
      "[0, 0, 0, 0, 0, 0, 0, 0, 0, 0, 1, 1, 0, 0, 1, 1, 1, 1, 1, 0, 1, 1, 0, 1, 0, 1, 0, 1, 1, 0, 0, 1, 0, 0, 0, 0, 0, 1, 1, 1, 0, 1, 0, 0, 0, 0, 0, 0, 0, 1, 0, 1, 1, 1, 1, 1, 1, 1, 1, 1, 1, 0, 1, 1, 0, 1, 1, 0, 1, 0, 1, 1, 1, 0, 1, 1, 0, 0, 0, 1, 1, 0, 0, 0, 1, 0, 1, 0, 0, 0, 1, 1, 1, 1, 1, 0, 0, 0, 1, 1]\n",
      "[0, 0, 0, 0, 0, 1, 0, 0, 0, 0, 1, 0, 0, 0, 1, 1, 1, 1, 1, 0, 1, 1, 0, 1, 0, 1, 0, 1, 1, 0, 0, 1, 0, 0, 0, 0, 0, 1, 1, 1, 0, 1, 0, 0, 0, 0, 0, 0, 0, 1, 0, 1, 1, 1, 1, 1, 1, 1, 1, 1, 1, 0, 1, 1, 0, 1, 1, 0, 1, 0, 1, 1, 1, 0, 1, 1, 0, 0, 0, 1, 1, 0, 0, 0, 1, 0, 1, 0, 0, 0, 1, 1, 1, 1, 1, 0, 0, 0, 1, 1]\n"
     ]
    }
   ],
   "source": [
    "ind = toolbox.individual()\n",
    "print(ind)\n",
    "toolbox.mutate(ind)\n",
    "print(ind)"
   ]
  },
  {
   "cell_type": "code",
   "execution_count": 8,
   "metadata": {},
   "outputs": [
    {
     "name": "stdout",
     "output_type": "stream",
     "text": [
      "False\n",
      "True\n"
     ]
    }
   ],
   "source": [
    "mutant = toolbox.clone(ind)\n",
    "print(mutant is ind)\n",
    "print(mutant == ind)"
   ]
  },
  {
   "cell_type": "code",
   "execution_count": 9,
   "metadata": {},
   "outputs": [
    {
     "name": "stdout",
     "output_type": "stream",
     "text": [
      "gen\tnevals\tavg  \tmin\tmax\n",
      "0  \t50    \t50.12\t40 \t64 \n",
      "1  \t33    \t53.76\t46 \t61 \n",
      "2  \t33    \t57   \t52 \t62 \n",
      "3  \t35    \t59.04\t50 \t67 \n",
      "4  \t30    \t61.6 \t56 \t68 \n",
      "5  \t29    \t63.2 \t58 \t67 \n",
      "6  \t32    \t64.68\t59 \t68 \n",
      "7  \t36    \t65.26\t59 \t71 \n",
      "8  \t29    \t66.84\t62 \t71 \n",
      "9  \t22    \t68.66\t65 \t72 \n",
      "10 \t27    \t69.8 \t65 \t72 \n",
      "11 \t33    \t70.58\t66 \t75 \n",
      "12 \t24    \t71.66\t68 \t75 \n",
      "13 \t28    \t73.1 \t68 \t75 \n",
      "14 \t26    \t74.2 \t70 \t76 \n",
      "15 \t31    \t74.56\t70 \t78 \n",
      "16 \t36    \t75.46\t71 \t79 \n",
      "17 \t28    \t75.86\t71 \t79 \n",
      "18 \t30    \t77.08\t72 \t79 \n",
      "19 \t32    \t77.26\t72 \t80 \n",
      "20 \t29    \t77.84\t68 \t80 \n",
      "21 \t25    \t78.78\t75 \t81 \n",
      "22 \t30    \t78.92\t74 \t81 \n",
      "23 \t35    \t79.48\t74 \t82 \n",
      "24 \t33    \t80.34\t76 \t83 \n",
      "25 \t36    \t80.88\t77 \t83 \n",
      "26 \t31    \t81.4 \t78 \t85 \n",
      "27 \t25    \t81.8 \t74 \t84 \n",
      "28 \t40    \t82.34\t79 \t85 \n",
      "29 \t36    \t83.04\t76 \t85 \n",
      "30 \t32    \t83.8 \t80 \t85 \n",
      "31 \t26    \t84.3 \t79 \t85 \n",
      "32 \t24    \t84.7 \t82 \t86 \n",
      "33 \t27    \t84.72\t81 \t87 \n",
      "34 \t36    \t84.84\t80 \t87 \n",
      "35 \t31    \t85.56\t81 \t90 \n",
      "36 \t27    \t86.62\t82 \t90 \n",
      "37 \t33    \t87.56\t83 \t91 \n",
      "38 \t25    \t88.68\t85 \t91 \n",
      "39 \t25    \t89.48\t85 \t91 \n",
      "40 \t36    \t89.68\t84 \t92 \n",
      "41 \t29    \t90.34\t85 \t92 \n",
      "42 \t42    \t90.36\t84 \t92 \n",
      "43 \t26    \t90.9 \t87 \t92 \n",
      "44 \t32    \t91.68\t89 \t92 \n",
      "45 \t24    \t91.54\t85 \t92 \n",
      "46 \t38    \t91.38\t88 \t92 \n",
      "47 \t27    \t91.56\t88 \t93 \n",
      "48 \t25    \t91.46\t87 \t93 \n",
      "49 \t35    \t91.7 \t86 \t93 \n",
      "50 \t37    \t91.78\t86 \t93 \n",
      "51 \t26    \t92.44\t89 \t93 \n",
      "52 \t21    \t92.18\t87 \t93 \n",
      "53 \t31    \t92.1 \t87 \t93 \n",
      "54 \t34    \t92.14\t87 \t93 \n",
      "55 \t32    \t92.8 \t89 \t93 \n",
      "56 \t26    \t92.56\t89 \t93 \n",
      "57 \t22    \t92.6 \t85 \t93 \n",
      "58 \t28    \t92.38\t86 \t93 \n",
      "59 \t28    \t92.44\t87 \t93 \n",
      "60 \t27    \t92.2 \t86 \t93 \n",
      "61 \t25    \t92.5 \t86 \t93 \n",
      "62 \t31    \t92.58\t86 \t93 \n",
      "63 \t29    \t92.32\t89 \t93 \n",
      "64 \t31    \t92.46\t87 \t93 \n",
      "65 \t32    \t92.38\t87 \t93 \n",
      "66 \t32    \t92.78\t90 \t93 \n",
      "67 \t37    \t92.38\t86 \t93 \n",
      "68 \t29    \t92.54\t89 \t93 \n",
      "69 \t26    \t92.46\t87 \t94 \n",
      "70 \t33    \t92.5 \t88 \t94 \n",
      "71 \t26    \t93.04\t90 \t94 \n",
      "72 \t36    \t92.72\t88 \t94 \n",
      "73 \t29    \t93.26\t90 \t94 \n",
      "74 \t29    \t93.28\t88 \t94 \n",
      "75 \t31    \t93.56\t87 \t95 \n",
      "76 \t27    \t93.36\t88 \t95 \n",
      "77 \t35    \t93.42\t86 \t95 \n",
      "78 \t30    \t93.72\t88 \t95 \n",
      "79 \t33    \t94.1 \t89 \t95 \n",
      "80 \t34    \t94.68\t91 \t95 \n",
      "81 \t41    \t94.3 \t90 \t95 \n",
      "82 \t22    \t94.52\t89 \t95 \n",
      "83 \t38    \t94.54\t90 \t95 \n",
      "84 \t19    \t94.6 \t91 \t95 \n",
      "85 \t30    \t94.78\t91 \t95 \n",
      "86 \t32    \t94.2 \t88 \t95 \n",
      "87 \t22    \t94.38\t90 \t95 \n",
      "88 \t33    \t94.28\t91 \t95 \n",
      "89 \t25    \t94.66\t92 \t95 \n",
      "90 \t30    \t94.56\t87 \t95 \n",
      "91 \t34    \t94.72\t91 \t95 \n",
      "92 \t37    \t94.38\t90 \t96 \n",
      "93 \t33    \t94.8 \t90 \t96 \n",
      "94 \t37    \t94.7 \t90 \t96 \n",
      "95 \t25    \t95   \t89 \t96 \n",
      "96 \t34    \t94.7 \t88 \t96 \n",
      "97 \t30    \t95.32\t92 \t96 \n",
      "98 \t31    \t94.94\t90 \t96 \n",
      "99 \t35    \t95.68\t91 \t96 \n",
      "100\t28    \t95.56\t92 \t97 \n"
     ]
    }
   ],
   "source": [
    "hof = tools.HallOfFame(4)\n",
    "\n",
    "stats = tools.Statistics(lambda indiv: indiv.fitness.values)\n",
    "stats.register(\"avg\", numpy.mean)\n",
    "stats.register(\"min\", numpy.min)\n",
    "stats.register(\"max\", numpy.max)\n",
    "\n",
    "pop, logbook = algorithms.eaSimple(pop, toolbox, cxpb=0.5, mutpb=0.2, ngen=100, stats=stats, halloffame=hof, verbose=True)"
   ]
  },
  {
   "cell_type": "code",
   "execution_count": 11,
   "metadata": {},
   "outputs": [
    {
     "name": "stdout",
     "output_type": "stream",
     "text": [
      "Best individual is: [1, 1, 1, 1, 1, 1, 1, 1, 1, 1, 1, 1, 1, 1, 1, 1, 1, 1, 1, 1, 1, 1, 1, 1, 1, 1, 0, 1, 1, 1, 1, 1, 1, 1, 1, 1, 1, 1, 1, 1, 1, 1, 1, 1, 1, 1, 1, 1, 1, 1, 1, 1, 1, 1, 1, 1, 1, 1, 1, 1, 1, 1, 1, 0, 1, 1, 1, 1, 1, 1, 1, 1, 1, 1, 1, 1, 1, 1, 1, 1, 1, 1, 1, 1, 1, 1, 1, 1, 1, 1, 1, 1, 1, 0, 1, 1, 1, 1, 1, 1]\n",
      " with fitness: (97.0,)\n"
     ]
    },
    {
     "data": {
      "image/png": "[encoded data removed]",
      "text/plain": [
       "<Figure size 432x288 with 1 Axes>"
      ]
     },
     "metadata": {
      "needs_background": "light"
     },
     "output_type": "display_data"
    }
   ],
   "source": [
    "print(\"Best individual is: %s\\n with fitness: %s\" % (hof[0], hof[0].fitness))\n",
    "\n",
    "import matplotlib.pyplot as plt\n",
    "\n",
    "gen, avg, min_, max_ = logbook.select(\"gen\", \"avg\", \"min\", \"max\")\n",
    "plt.plot(gen, avg, label=\"average\")\n",
    "plt.plot(gen, min_, label=\"minimum\")\n",
    "plt.plot(gen, max_, label=\"maximum\")\n",
    "plt.xlabel(\"Generation\")\n",
    "plt.ylabel(\"Fitness\")\n",
    "plt.legend(loc=\"lower right\")\n",
    "plt.show()"
   ]
  },
  {
   "cell_type": "code",
   "execution_count": null,
   "metadata": {},
   "outputs": [],
   "source": []
  }
 ],
 "metadata": {
  "kernelspec": {
   "display_name": "Python 3",
   "language": "python",
   "name": "python3"
  },
  "language_info": {
   "codemirror_mode": {
    "name": "ipython",
    "version": 3
   },
   "file_extension": ".py",
   "mimetype": "text/x-python",
   "name": "python",
   "nbconvert_exporter": "python",
   "pygments_lexer": "ipython3",
   "version": "3.7.6"
  }
 },
 "nbformat": 4,
 "nbformat_minor": 4
}
