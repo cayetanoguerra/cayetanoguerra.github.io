{
 "cells": [
  {
   "cell_type": "markdown",
   "metadata": {},
   "source": [
    "# Redes neuronales 5\n",
    "\n",
    "Visión\n",
    "\n",
    "### Aproximación por suma de diferencias al cuadrado\n",
    "\n",
    "\n"
   ]
  },
  {
   "cell_type": "markdown",
   "metadata": {},
   "source": [
    "## Capas convolutivas\n",
    "\n",
    "Las capas de red que hemos visto hasta ahora se denominan *fully connected (fc)* o **totalmente conectadas**. Esto significa que todas las salidas de una capa anterior están conectadas a todas y cada una de las entradas de la capa siguiente. Por ejemplo, si hubiera 25 neuronas en la capa anterior, cada neurona de la capa siguiente tendría 25 entradas (y una más para el *bias*). En las **capas convolutivas** esto ya no es así. Cada neurona de una capa convolutiva está conectada solo a un conjunto de salidas de la capa anterior. Además, las capas convolutivas esperan una disposición bidimensional de las entradas, no lineal. La figura muestra una neurona (esfera azul) con nueve entradas conectada a un grupo local de nueve valores. El cubo azul representa su salida.\n",
    "\n",
    "<img src=\"imgs/NeuronaConv.jpg\" width=\"50%\">\n",
    "\n",
    "\n",
    "Cada neurona de una capa convolutiva comparte en mismo conjunto de pesos, por lo que se podría decir que las neuronas de la capa convolutiva se replican de forma matricial a lo largo y ancho de la entrada. En la figura siguiente vemos la conexión de todas las neuronas de la capa convolutiva.\n",
    "\n",
    "<img src=\"imgs/CapaCompleta.jpg\" width=\"40%\">\n",
    "\n",
    "Vamos a echar cuentas, fíjate que hay $15\\times10 = 150$ entradas distintas, cada neurona tiene un **campo receptivo** de $3\\times3=9$ entradas. Si las alineamos a lo largo y ancho de las entradas tenemos que hay $13\\times8=104$ neuronas. ¿Cuántos pesos distintos hay? ¿$104\\times9$? ¡¡Nooo!! Solo $9$. Cada neurona comparte el mismo conjunto de pesos, aunque los valores de las entradas son, obviamente, distintos.\n",
    "\n"
   ]
  },
  {
   "cell_type": "code",
   "execution_count": 109,
   "metadata": {},
   "outputs": [
    {
     "name": "stdout",
     "output_type": "stream",
     "text": [
      "Dimensiones de la imagen: (32, 32)\n",
      "Máximo valor: 1.0\n",
      "Mínimo valor: 0.0\n"
     ]
    },
    {
     "data": {
      "image/png": "[encoded data removed]",
      "text/plain": [
       "<Figure size 1440x720 with 1 Axes>"
      ]
     },
     "metadata": {
      "needs_background": "light"
     },
     "output_type": "display_data"
    }
   ],
   "source": [
    "import matplotlib.pyplot as plt\n",
    "from skimage import io\n",
    "\n",
    "%matplotlib inline\n",
    "\n",
    "plt.rcParams['image.cmap'] = 'gray'\n",
    "image=io.imread(\"imgs/figuras.png\")/255.0 # imread lee las imagenes con los pixeles codificados como enteros \n",
    "# en el rango 0-255. Por eso la convertimos a flotante y en el rango 0-1\n",
    "\n",
    "print(\"Dimensiones de la imagen:\", image.shape)\n",
    "print(\"Máximo valor:\", image.max())\n",
    "print(\"Mínimo valor:\", image.min())\n",
    "\n",
    "plt.figure(figsize=(20,10))\n",
    "plt.imshow(image)\n",
    "\n",
    "ax = plt.gca();\n",
    "ax.set_xticks(np.arange(-.5, 32, 1), minor=True);\n",
    "ax.set_yticks(np.arange(-.5, 32, 1), minor=True);\n",
    "ax.grid(which='minor', color='k', linestyle='-', linewidth=0.2)"
   ]
  },
  {
   "cell_type": "code",
   "execution_count": 112,
   "metadata": {},
   "outputs": [
    {
     "name": "stdout",
     "output_type": "stream",
     "text": [
      "Dimensiones de la imagen: (32, 32)\n",
      "Máximo valor: 3.0\n",
      "Mínimo valor: -3.0\n"
     ]
    },
    {
     "data": {
      "text/plain": [
       "<matplotlib.image.AxesImage at 0x1ce6615a388>"
      ]
     },
     "execution_count": 112,
     "metadata": {},
     "output_type": "execute_result"
    },
    {
     "data": {
      "image/png": "[encoded data removed]",
      "text/plain": [
       "<Figure size 1440x720 with 1 Axes>"
      ]
     },
     "metadata": {
      "needs_background": "light"
     },
     "output_type": "display_data"
    }
   ],
   "source": [
    "import numpy as np\n",
    "\n",
    "# Pesos de la neurona\n",
    "weights = np.array([[-1., 0., 1.],[-1., 0., 1.],[-1., 0., 1.]]) # Detector de bordes verticales\n",
    "#weights = np.array([[-1., -1., -1.],[0., 0., 0.],[1., 1., 1.]]) # Detector de bordes horizontales\n",
    "#weights = np.array([[-2., -1., 0.],[-1., 0., 1.],[0., 1., 2.]]) # Detector de bordes diagonales\n",
    "\n",
    "\n",
    "# Convolución\n",
    "def convolution(image, kernel):\n",
    "    result = np.zeros((image.shape[0],image.shape[1]), dtype=float)\n",
    "    \n",
    "    for j in range(0, image.shape[0]-2):\n",
    "        for i in range(0, image.shape[1]-2):\n",
    "            aux = 0\n",
    "            for m in range(0, weights.shape[0]):\n",
    "                for n in range(0, weights.shape[1]):\n",
    "                    aux += image[j+m][i+n] * weights[m][n] \n",
    "            result[j][i] = aux\n",
    "    return result\n",
    "\n",
    "image_result = convolution(image, weights)\n",
    "\n",
    "print(\"Dimensiones de la imagen:\", image_result.shape)\n",
    "print(\"Máximo valor:\", image_result.max())\n",
    "print(\"Mínimo valor:\", image_result.min())\n",
    "\n",
    "plt.figure(figsize=(20,10))\n",
    "plt.imshow(image_result, vmin=-1,vmax=1)\n",
    "\n",
    "ax = plt.gca();\n",
    "ax.set_xticks(np.arange(-.5, 32, 1), minor=True);\n",
    "ax.set_yticks(np.arange(-.5, 32, 1), minor=True);\n",
    "ax.grid(which='minor', color='k', linestyle='-', linewidth=0.2)\n",
    "\n",
    "plt.imshow(image_result)"
   ]
  },
  {
   "cell_type": "markdown",
   "metadata": {},
   "source": [
    "Podemos hacer un detector de bordes horizontales, verticales, diagonales, detectores de esquinas, puntos, etc. en función del **kernel** que definamos. Y, además, los podríamos ‘empaquetar’ todos."
   ]
  },
  {
   "cell_type": "code",
   "execution_count": null,
   "metadata": {},
   "outputs": [],
   "source": []
  }
 ],
 "metadata": {
  "kernelspec": {
   "display_name": "Python 3",
   "language": "python",
   "name": "python3"
  },
  "language_info": {
   "codemirror_mode": {
    "name": "ipython",
    "version": 3
   },
   "file_extension": ".py",
   "mimetype": "text/x-python",
   "name": "python",
   "nbconvert_exporter": "python",
   "pygments_lexer": "ipython3",
   "version": "3.7.6"
  }
 },
 "nbformat": 4,
 "nbformat_minor": 4
}
