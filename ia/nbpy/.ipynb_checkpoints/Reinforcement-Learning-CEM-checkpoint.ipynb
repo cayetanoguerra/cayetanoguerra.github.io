{
 "cells": [
  {
   "cell_type": "markdown",
   "metadata": {},
   "source": [
    "# Reinforcement Learning (Cross Entropy Method)"
   ]
  },
  {
   "cell_type": "code",
   "execution_count": 1,
   "metadata": {
    "collapsed": false
   },
   "outputs": [
    {
     "name": "stderr",
     "output_type": "stream",
     "text": [
      "[2016-11-09 22:50:19,361] Making new env: CartPole-v0\n"
     ]
    },
    {
     "name": "stdout",
     "output_type": "stream",
     "text": [
      "------------\n",
      "Iteration: 0\n",
      "Mean: [-0.53299452  0.09052049  0.70081454  1.29510344]\n",
      "Standard deviation: [ 0.69507465  0.59871065  0.75250784  0.38402608]\n",
      "# goals: 2\n",
      "------------\n",
      "Iteration: 1\n",
      "Mean: [-0.10779043  0.42452881  1.09879234  1.28563205]\n",
      "Standard deviation: [ 0.21743191  0.30929282  0.46904825  0.38020338]\n",
      "# goals: 26\n",
      "------------\n",
      "Iteration: 2\n",
      "Mean: [-0.05113615  0.50495817  0.92868773  1.38914506]\n",
      "Standard deviation: [ 0.14350177  0.25950902  0.49731967  0.17998688]\n",
      "# goals: 75\n",
      "------------\n",
      "Iteration: 3\n",
      "Mean: [-0.08465308  0.54227182  1.12707836  1.3606253 ]\n",
      "Standard deviation: [ 0.12433505  0.2446073   0.34373701  0.12932216]\n",
      "# goals: 79\n",
      "------------\n",
      "Iteration: 4\n",
      "Mean: [-0.09156605  0.63268063  1.21265991  1.42665057]\n",
      "Standard deviation: [ 0.09566523  0.28232227  0.31665737  0.11925835]\n",
      "# goals: 90\n",
      "------------\n",
      "Iteration: 5\n",
      "Mean: [-0.08976368  0.74669453  1.24283916  1.49503632]\n",
      "Standard deviation: [ 0.10243038  0.18588858  0.2939315   0.07889094]\n",
      "# goals: 95\n",
      "------------\n",
      "Iteration: 6\n",
      "Mean: [-0.0883437   0.84945782  1.22028198  1.48544614]\n",
      "Standard deviation: [ 0.08824192  0.14784879  0.35524001  0.07743616]\n",
      "# goals: 96\n",
      "------------\n",
      "Iteration: 7\n",
      "Mean: [-0.07988641  0.83917948  1.28332749  1.4600229 ]\n",
      "Standard deviation: [ 0.07565456  0.15427248  0.29834093  0.04411658]\n",
      "# goals: 100\n",
      "------------\n",
      "Iteration: 8\n",
      "Mean: [-0.0767752   0.80994908  1.28542771  1.45123627]\n",
      "Standard deviation: [ 0.09420293  0.13230277  0.2705059   0.03673125]\n",
      "# goals: 99\n",
      "------------\n",
      "Iteration: 9\n",
      "Mean: [-0.08676431  0.89721995  1.35750327  1.44414128]\n",
      "Standard deviation: [ 0.06436175  0.15317575  0.23848805  0.02015574]\n",
      "# goals: 99\n"
     ]
    },
    {
     "data": {
      "text/plain": [
       "1500.0"
      ]
     },
     "execution_count": 1,
     "metadata": {},
     "output_type": "execute_result"
    }
   ],
   "source": [
    "import numpy as np\n",
    "import gym\n",
    "\n",
    "env = gym.make('CartPole-v0')\n",
    "\n",
    "\n",
    "mu = [0., 0., 0., 0.]\n",
    "sigma = [1., 1., 1., 1.]"
   ]
  },
  {
   "cell_type": "code",
   "execution_count": null,
   "metadata": {
    "collapsed": true
   },
   "outputs": [],
   "source": []
  },
  {
   "cell_type": "code",
   "execution_count": null,
   "metadata": {
    "collapsed": true
   },
   "outputs": [],
   "source": []
  }
 ],
 "metadata": {
  "kernelspec": {
   "display_name": "Python 2",
   "language": "python",
   "name": "python2"
  },
  "language_info": {
   "codemirror_mode": {
    "name": "ipython",
    "version": 2
   },
   "file_extension": ".py",
   "mimetype": "text/x-python",
   "name": "python",
   "nbconvert_exporter": "python",
   "pygments_lexer": "ipython2",
   "version": "2.7.10"
  }
 },
 "nbformat": 4,
 "nbformat_minor": 1
}
