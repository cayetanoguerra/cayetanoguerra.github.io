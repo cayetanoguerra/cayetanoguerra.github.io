{
 "cells": [
  {
   "cell_type": "code",
   "execution_count": 1,
   "metadata": {},
   "outputs": [],
   "source": [
    "import random\n",
    "import numpy as np\n",
    "from deap import base, creator, tools, algorithms, gp\n",
    "import matplotlib.pyplot as plt"
   ]
  },
  {
   "cell_type": "code",
   "execution_count": 2,
   "metadata": {},
   "outputs": [],
   "source": [
    "class Train:\n",
    "    def __init__(self, wagons, op):\n",
    "        self.wagons = wagons\n",
    "        self.op = op\n",
    "\n",
    "    def __str__(self):\n",
    "        return \"Número de vagones:\" + str(self.wagons) + \"\\n\" + \"Muelle de operaciones:\" + str(self.op)\n",
    "\n",
    "def random_trains_generation(n):\n",
    "    train_list = []\n",
    "    for _ in range(n):\n",
    "        wagons = random.randint(10, 30)  # Cada tren puede arrastrar entre 10 y 30 vagones\n",
    "        op = random.choice([\"op1\", \"op2\", \"op3\"])  # A cada tren se le asigna un tipo de carga\n",
    "        train_list.append(Train(wagons, op))\n",
    "    return train_list\n",
    "\n",
    "\n",
    "incoming_trains = random_trains_generation(7)  # supongamos que entran 7 trenes\n",
    "\n",
    "\n",
    "# Crea una nueva reordenación de los trenes entrantes\n",
    "def create_queue():\n",
    "    aux = incoming_trains[:]\n",
    "    random.shuffle(aux)\n",
    "    return aux\n",
    "\n",
    "\n",
    "class Trains(list):\n",
    "    def __init__(self):\n",
    "        list.extend(self, create_queue())\n",
    "\n",
    "def evaluation(individual):\n",
    "    dock_op_counters = {\"op1\" : 0, \"op2\" : 0, \"op3\" : 0}\n",
    "    time = 0\n",
    "\n",
    "    for train in individual:\n",
    "        next_delay = train.wagons\n",
    "        if dock_op_counters[train.op] == 0:\n",
    "            dock_op_counters[train.op] = next_delay\n",
    "        else:\n",
    "            current_delay = dock_op_counters[train.op]\n",
    "            for k, v in dock_op_counters.items():\n",
    "                dock_op_counters[k] = max(0, v - current_delay)\n",
    "            dock_op_counters[train.op] = next_delay\n",
    "            time += current_delay\n",
    "\n",
    "    time += max(dock_op_counters.values())\n",
    "    return time,\n",
    "\n",
    "def mutate(train_list):\n",
    "    index_1, index_2 = np.random.choice(len(train_list), 2, replace=False)\n",
    "    list_index_2 = train_list[index_2]\n",
    "    train_list[index_2] = train_list[index_1]\n",
    "    train_list[index_1] = list_index_2\n",
    "    return train_list,\n",
    "\n",
    "def crossover(list_1, list_2):\n",
    "    list_a = []\n",
    "\n",
    "    resultado = []\n",
    "\n",
    "    index = np.random.choice(len(list_1))\n",
    "\n",
    "    for _ in range(2):\n",
    "\n",
    "        list_a_set = set(list_a)\n",
    "\n",
    "        list_a_faltantes = []\n",
    "\n",
    "        for a in list_2:\n",
    "            if a not in list_a_set:\n",
    "                list_a_faltantes.append(a)\n",
    "\n",
    "        for a in list_2[index:]:\n",
    "            if a in list_1[0:index]:\n",
    "                list_2[list_2.index(a)] = list_a_faltantes[0]\n",
    "                list_a_faltantes = np.delete(list_a_faltantes, 0)\n",
    "\n",
    "        resultado.append(list_1[0:index] + list_2[index:])\n",
    "\n",
    "        variable_temporal = list_1\n",
    "\n",
    "        list_1 = list_2\n",
    "        list_2 = variable_temporal\n",
    "\n",
    "    return resultado[0], resultado[1]"
   ]
  },
  {
   "cell_type": "code",
   "execution_count": 3,
   "metadata": {},
   "outputs": [],
   "source": [
    "##################### DEAP\n",
    "\n",
    "creator.create(\"FitnessMax\", base.Fitness, weights=(-1.0,))\n",
    "creator.create(\"Individual\", Trains, fitness=creator.FitnessMax)\n",
    "\n",
    "toolbox = base.Toolbox()\n",
    "\n",
    "toolbox.register(\"individual\", creator.Individual)\n",
    "toolbox.register(\"population\", tools.initRepeat, list, toolbox.individual)\n",
    "\n",
    "toolbox.register(\"evaluate\", evaluation)\n",
    "\n",
    "toolbox.register(\"mutate\", tools.mutShuffleIndexes, indpb=0.01)\n",
    "toolbox.register(\"crossover\", tools.cxOrdered)\n",
    "toolbox.register(\"select\", tools.selTournament, tournsize=3)\n",
    "toolbox.register(\"mate\", tools.cxTwoPoint)\n",
    "\n",
    "pop = toolbox.population(n=10)"
   ]
  },
  {
   "cell_type": "code",
   "execution_count": 4,
   "metadata": {},
   "outputs": [
    {
     "name": "stdout",
     "output_type": "stream",
     "text": [
      "gen\tnevals\tavg \tmin\tmax\n",
      "0  \t10    \t83.8\t72 \t99 \n",
      "1  \t10    \t85.2\t73 \t105\n",
      "2  \t3     \t79.2\t73 \t102\n",
      "3  \t7     \t77  \t73 \t91 \n",
      "4  \t7     \t77.9\t73 \t95 \n",
      "5  \t8     \t73.2\t73 \t75 \n",
      "6  \t6     \t73  \t73 \t73 \n",
      "7  \t6     \t78  \t73 \t102\n",
      "8  \t4     \t73  \t73 \t73 \n",
      "9  \t8     \t73  \t73 \t73 \n",
      "10 \t7     \t73  \t73 \t73 \n",
      "11 \t3     \t73  \t73 \t73 \n",
      "12 \t10    \t73  \t73 \t73 \n",
      "13 \t6     \t73  \t73 \t73 \n",
      "14 \t8     \t73  \t73 \t73 \n",
      "15 \t3     \t73  \t73 \t73 \n",
      "16 \t5     \t73  \t73 \t73 \n",
      "17 \t9     \t73  \t73 \t73 \n",
      "18 \t4     \t73  \t73 \t73 \n",
      "19 \t4     \t73  \t73 \t73 \n",
      "20 \t5     \t73  \t73 \t73 \n",
      "21 \t8     \t73  \t73 \t73 \n",
      "22 \t7     \t73  \t73 \t73 \n",
      "23 \t5     \t73  \t73 \t73 \n",
      "24 \t7     \t73  \t73 \t73 \n",
      "25 \t4     \t73  \t73 \t73 \n",
      "26 \t5     \t73  \t73 \t73 \n",
      "27 \t4     \t73  \t73 \t73 \n",
      "28 \t6     \t73  \t73 \t73 \n",
      "29 \t6     \t73  \t73 \t73 \n",
      "30 \t4     \t73  \t73 \t73 \n",
      "31 \t6     \t73  \t73 \t73 \n",
      "32 \t8     \t73  \t73 \t73 \n",
      "33 \t5     \t73  \t73 \t73 \n",
      "34 \t7     \t73  \t73 \t73 \n",
      "35 \t7     \t73  \t73 \t73 \n",
      "36 \t5     \t73  \t73 \t73 \n",
      "37 \t6     \t73  \t73 \t73 \n",
      "38 \t2     \t73  \t73 \t73 \n",
      "39 \t3     \t73  \t73 \t73 \n",
      "40 \t6     \t73  \t73 \t73 \n",
      "41 \t4     \t73  \t73 \t73 \n",
      "42 \t5     \t73  \t73 \t73 \n",
      "43 \t6     \t73  \t73 \t73 \n",
      "44 \t4     \t73  \t73 \t73 \n",
      "45 \t2     \t73  \t73 \t73 \n",
      "46 \t8     \t73  \t73 \t73 \n",
      "47 \t6     \t73  \t73 \t73 \n",
      "48 \t5     \t72.9\t72 \t73 \n",
      "49 \t5     \t72.9\t72 \t73 \n",
      "50 \t10    \t72.5\t72 \t73 \n",
      "51 \t4     \t72  \t72 \t72 \n",
      "52 \t5     \t72  \t72 \t72 \n",
      "53 \t6     \t72  \t72 \t72 \n",
      "54 \t4     \t72  \t72 \t72 \n",
      "55 \t6     \t74.1\t72 \t93 \n",
      "56 \t3     \t72  \t72 \t72 \n",
      "57 \t7     \t72  \t72 \t72 \n",
      "58 \t4     \t72  \t72 \t72 \n",
      "59 \t5     \t72  \t72 \t72 \n",
      "60 \t3     \t72  \t72 \t72 \n",
      "61 \t6     \t72  \t72 \t72 \n",
      "62 \t8     \t72  \t72 \t72 \n",
      "63 \t6     \t72  \t72 \t72 \n",
      "64 \t4     \t72  \t70 \t74 \n",
      "65 \t7     \t71.2\t70 \t72 \n",
      "66 \t5     \t72.5\t70 \t93 \n",
      "67 \t6     \t70  \t70 \t70 \n",
      "68 \t5     \t70  \t70 \t70 \n",
      "69 \t10    \t70  \t70 \t70 \n",
      "70 \t3     \t70  \t70 \t70 \n",
      "71 \t4     \t70  \t70 \t70 \n",
      "72 \t10    \t70  \t70 \t70 \n",
      "73 \t4     \t70  \t70 \t70 \n",
      "74 \t8     \t70  \t70 \t70 \n",
      "75 \t9     \t70  \t70 \t70 \n",
      "76 \t6     \t70  \t70 \t70 \n",
      "77 \t7     \t70  \t70 \t70 \n",
      "78 \t5     \t70  \t70 \t70 \n",
      "79 \t6     \t70  \t70 \t70 \n",
      "80 \t6     \t70  \t70 \t70 \n",
      "81 \t4     \t70  \t70 \t70 \n",
      "82 \t4     \t70  \t70 \t70 \n",
      "83 \t9     \t70  \t70 \t70 \n",
      "84 \t7     \t70  \t70 \t70 \n",
      "85 \t5     \t70  \t70 \t70 \n",
      "86 \t6     \t70  \t70 \t70 \n",
      "87 \t2     \t70  \t70 \t70 \n",
      "88 \t6     \t70  \t70 \t70 \n",
      "89 \t3     \t70  \t70 \t70 \n",
      "90 \t4     \t71.7\t70 \t87 \n",
      "91 \t4     \t70  \t70 \t70 \n",
      "92 \t7     \t70  \t70 \t70 \n",
      "93 \t2     \t70  \t70 \t70 \n",
      "94 \t5     \t70  \t70 \t70 \n",
      "95 \t9     \t70  \t70 \t70 \n",
      "96 \t7     \t70  \t70 \t70 \n",
      "97 \t2     \t70  \t70 \t70 \n",
      "98 \t6     \t70  \t70 \t70 \n",
      "99 \t7     \t70  \t70 \t70 \n",
      "100\t3     \t70  \t70 \t70 \n"
     ]
    }
   ],
   "source": [
    "hof = tools.HallOfFame(4)\n",
    "\n",
    "stats = tools.Statistics(lambda indiv: indiv.fitness.values)\n",
    "stats.register(\"avg\", np.mean)\n",
    "stats.register(\"min\", np.min)\n",
    "stats.register(\"max\", np.max)\n",
    "\n",
    "pop, logbook = algorithms.eaSimple(pop, toolbox, cxpb=0.5, mutpb=0.2, ngen=100, stats=stats, halloffame=hof, verbose=True)"
   ]
  },
  {
   "cell_type": "code",
   "execution_count": 5,
   "metadata": {},
   "outputs": [
    {
     "name": "stdout",
     "output_type": "stream",
     "text": [
      "Best individual is: [<__main__.Train object at 0x10e133ba8>, <__main__.Train object at 0x10e133908>, <__main__.Train object at 0x10e133668>, <__main__.Train object at 0x10e138438>, <__main__.Train object at 0x10e1386d8>, <__main__.Train object at 0x10e131cf8>, <__main__.Train object at 0x10e13b940>]\n",
      " with fitness: (70.0,)\n"
     ]
    },
    {
     "data": {
      "image/png": "[encoded data removed]",
      "text/plain": [
       "<Figure size 432x288 with 1 Axes>"
      ]
     },
     "metadata": {
      "needs_background": "light"
     },
     "output_type": "display_data"
    }
   ],
   "source": [
    "print(\"Best individual is: %s\\n with fitness: %s\" % (hof[0], hof[0].fitness))\n",
    "\n",
    "gen, avg, min_, max_ = logbook.select(\"gen\", \"avg\", \"min\", \"max\")\n",
    "plt.plot(gen, avg, label=\"average\")\n",
    "plt.plot(gen, min_, label=\"minimum\")\n",
    "plt.plot(gen, max_, label=\"maximum\")\n",
    "plt.xlabel(\"Generation\")\n",
    "plt.ylabel(\"Fitness\")\n",
    "plt.legend(loc=\"lower right\")\n",
    "plt.show()"
   ]
  },
  {
   "cell_type": "code",
   "execution_count": 6,
   "metadata": {},
   "outputs": [
    {
     "name": "stdout",
     "output_type": "stream",
     "text": [
      "Número de vagones:30\n",
      "Muelle de operaciones:op2\n",
      "Número de vagones:21\n",
      "Muelle de operaciones:op1\n",
      "Número de vagones:25\n",
      "Muelle de operaciones:op3\n",
      "Número de vagones:27\n",
      "Muelle de operaciones:op1\n",
      "Número de vagones:20\n",
      "Muelle de operaciones:op3\n",
      "Número de vagones:25\n",
      "Muelle de operaciones:op3\n",
      "Número de vagones:14\n",
      "Muelle de operaciones:op1\n"
     ]
    }
   ],
   "source": [
    "for i in pop[0]:\n",
    "    print(i)"
   ]
  },
  {
   "cell_type": "code",
   "execution_count": 58,
   "metadata": {},
   "outputs": [
    {
     "name": "stdout",
     "output_type": "stream",
     "text": [
      "Número de vagones:26\n",
      "Muelle de operaciones:op1\n",
      "Número de vagones:10\n",
      "Muelle de operaciones:op2\n",
      "Número de vagones:23\n",
      "Muelle de operaciones:op3\n",
      "Número de vagones:15\n",
      "Muelle de operaciones:op2\n",
      "Número de vagones:25\n",
      "Muelle de operaciones:op2\n",
      "Número de vagones:12\n",
      "Muelle de operaciones:op1\n",
      "Número de vagones:13\n",
      "Muelle de operaciones:op3\n"
     ]
    }
   ],
   "source": [
    "for i in incoming_trains:\n",
    "    print(i)"
   ]
  },
  {
   "cell_type": "code",
   "execution_count": 46,
   "metadata": {},
   "outputs": [
    {
     "name": "stdout",
     "output_type": "stream",
     "text": [
      "62\n",
      "41 62 23\n"
     ]
    }
   ],
   "source": [
    "cont1 = 0\n",
    "cont2 = 0\n",
    "cont3 = 0\n",
    "for i in incoming_trains:\n",
    "    if i.op == \"op1\":\n",
    "        cont1 += i.wagons\n",
    "\n",
    "    if i.op == \"op2\":\n",
    "        cont2 += i.wagons\n",
    "\n",
    "    if i.op == \"op3\":\n",
    "        cont3 += i.wagons\n",
    "\n",
    "print(max(cont1, cont2, cont3))\n",
    "\n",
    "print(cont1, cont2, cont3)"
   ]
  },
  {
   "cell_type": "code",
   "execution_count": 44,
   "metadata": {},
   "outputs": [
    {
     "name": "stdout",
     "output_type": "stream",
     "text": [
      "7\n"
     ]
    }
   ],
   "source": [
    "print(len(incoming_trains))"
   ]
  },
  {
   "cell_type": "code",
   "execution_count": null,
   "metadata": {},
   "outputs": [],
   "source": []
  }
 ],
 "metadata": {
  "interpreter": {
   "hash": "f2a63bc6316c2b0ce8596a789c569439aceb3c7305e89acdca7a3f90eb30be0e"
  },
  "kernelspec": {
   "display_name": "Python 3",
   "language": "python",
   "name": "python3"
  },
  "language_info": {
   "codemirror_mode": {
    "name": "ipython",
    "version": 3
   },
   "file_extension": ".py",
   "mimetype": "text/x-python",
   "name": "python",
   "nbconvert_exporter": "python",
   "pygments_lexer": "ipython3",
   "version": "3.7.3"
  }
 },
 "nbformat": 4,
 "nbformat_minor": 2
}
