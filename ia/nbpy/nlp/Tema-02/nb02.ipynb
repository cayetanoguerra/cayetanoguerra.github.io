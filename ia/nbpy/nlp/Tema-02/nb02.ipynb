{
 "cells": [
  {
   "cell_type": "markdown",
   "metadata": {},
   "source": [
    "# **Modelos estadísticos del lenguaje**"
   ]
  },
  {
   "cell_type": "markdown",
   "metadata": {},
   "source": [
    "## **Web scraping**\n",
    "\n",
    "El web scraping es una técnica utilizada para extraer información de sitios web. En su forma más básica, implica recuperar una página web y luego extraer datos necesarios de ella. Entre las aplicaciones más comunes del web scraping encontramos:\n",
    "\n",
    "- **Análisis de Datos y Minería de Datos:** Para recopilar grandes conjuntos de datos para análisis posterior.\n",
    "\n",
    "- **SEO (Optimización de Motores de Búsqueda):** Para analizar datos de sitios web, como metadatos, palabras clave, backlinks, etc.\n",
    "\n",
    "- **E-commerce:** Para monitorear precios y disponibilidad de productos en diferentes plataformas.\n",
    "\n",
    "- **Investigación de Mercados:** Para recopilar datos sobre tendencias del mercado, competencia, preferencias de los consumidores, etc.\n",
    "\n",
    "- **Automatización de Tareas:** Para automatizar tareas repetitivas, como la entrada de datos.\n",
    "\n",
    "Una de las librerías más usadas en este ámbito es [Beautiful Soup](https://www.crummy.com/software/BeautifulSoup/bs4/doc/)."
   ]
  },
  {
   "cell_type": "markdown",
   "metadata": {},
   "source": [
    "## **Beautiful Soup**\n",
    "\n",
    "Beautiful Soup es una biblioteca de Python para extraer datos de archivos HTML y XML. Con ella puedes hacer:\n",
    "\n",
    "- Parsing de HTML y XML: Beautiful Soup puede parsear (analizar y estructurar) documentos HTML y XML, lo que facilita la extracción de datos de estos tipos de archivos.\n",
    "\n",
    "- Navegación en el Árbol de Sintaxis: Una vez que un documento ha sido parseado, Beautiful Soup permite navegar y buscar a través del árbol de sintaxis de forma fácil y efectiva, utilizando diversos métodos de búsqueda.\n",
    "\n",
    "- Manipulación de Documentos: Además de permitir la extracción de datos, Beautiful Soup también puede modificar el documento, lo que permite, por ejemplo, cambiar tags, atributos, y contenido de texto.\n",
    "\n",
    "- Extracción de Información: Puedes extraer información específica de un documento, como obtener todos los URLs en una página, o encontrar todos los elementos con una clase específica.\n"
   ]
  },
  {
   "cell_type": "markdown",
   "metadata": {},
   "source": [
    "### Instalación"
   ]
  },
  {
   "cell_type": "code",
   "execution_count": null,
   "metadata": {
    "vscode": {
     "languageId": "shellscript"
    }
   },
   "outputs": [],
   "source": [
    "pip install beautifulsoup4\n",
    "pip install lxml"
   ]
  },
  {
   "cell_type": "markdown",
   "metadata": {},
   "source": [
    "### Extracción de información\n",
    "\n",
    "Vamos a acceder a mi web (http://cayetanoguerra.github.io/ia/) y extraer información de ella. Concretamente, queremos extraer el título y los temas que hay. Sabemos que están bajo los tags `<h1>` y `<h3>` respectivamente."
   ]
  },
  {
   "cell_type": "code",
   "execution_count": 3,
   "metadata": {},
   "outputs": [
    {
     "name": "stdout",
     "output_type": "stream",
     "text": [
      "Inteligencia Artificial\n",
      "\n",
      "Python\n",
      "\n",
      "\n",
      "Búsquedas\n",
      "\n",
      "\n",
      "Redes neuronales\n",
      "\n",
      "\n",
      "Aprendizaje por refuerzo\n",
      "\n",
      "\n",
      "Sistemas basados en reglas\n",
      "\n",
      "\n",
      "Computación evolutiva\n",
      "\n",
      "\n",
      "Redes Bayesianas\n",
      "\n",
      "\n",
      "Planificación\n",
      "\n",
      "\n",
      "Machine Learning\n",
      "\n",
      "\n",
      "Procesamiento del Lenguaje Natural (NLP)\n",
      "\n",
      "\n",
      "Misc.\n",
      "\n"
     ]
    }
   ],
   "source": [
    "from bs4 import BeautifulSoup\n",
    "import requests\n",
    "\n",
    "response = requests.get('http://cayetanoguerra.github.io/ia/')\n",
    "soup = BeautifulSoup(response.content, 'lxml')\n",
    "\n",
    "# Encuentra el primer elemento <h1>\n",
    "h1 = soup.find('h1')\n",
    "print(h1.text)\n",
    "\n",
    "# Encuentra todos los elementos <h3>\n",
    "paragraphs = soup.find_all('h3')\n",
    "for p in paragraphs:\n",
    "    print(p.text)\n"
   ]
  },
  {
   "cell_type": "markdown",
   "metadata": {},
   "source": [
    "Supongamos ahora que queremos sacar todo el texto la página web de un periódico. Para ello, podemos usar el método `get_text()` de la clase `BeautifulSoup`."
   ]
  },
  {
   "cell_type": "code",
   "execution_count": 7,
   "metadata": {},
   "outputs": [
    {
     "name": "stdout",
     "output_type": "stream",
     "text": [
      "Selección española: Carvajal: \"En ningún momento he dicho que Jenni no sea la víctima\" | Marca|Es noticia:|La Vuelta|Mercado de fichajes|La Vuelta horario|Dani Carvajal rueda de prensa|Marc Crosas|Montse Tomé|Brindis Vero Boquete|Semifinales US Open|Carvajal|Evenepoel|Canadá - Serbia TV|Partidos mundial baloncesto hoy|Alcaraz - Zverev TV|Djokovic - Shelton TV|Carta Terelu|Pedro Piqueras|María Teresa Campos|Cuartos final Mundial baloncesto|Invitados el Hormiguero|Vídeo diarrea avión|Precio luz hoy|Resultados fútbol|Calendario F1|Calendario Liga|Bienestar|Fitness|Alimentación|Portada de Marca|Edición seleccionada|ES|Ediciones:|ES (España)|EN (English)|MX (México)|US (USA)|Escoge tu edición de Marca.com favorita|Siempre que entres en Marca.com se cargará esta edición|ES (España)|EN (English)|MX (México)|US (USA)|Confirmar|Suscríbete|Fútbol|Baloncesto|Motor|Polideportivo|Coches|Última hora|Fantasy|Agenda TV|Más|Cerrar|06 de septiembre\n",
      "de 2023|Actualizado a las 13:09 h.|Portada|Volver a:|Fútbol|Selección Española|Noticias|Mundial 2022|EURO 2024|UEFA Nations League|Europeo Sub-21|Palmarés|Más|Cerrar|Futbol/seleccion|Compartir en Facebook|Compartir en Twitter|Enviar por email|España|LaLiga EA Sports|Calendario|Clasificación|Equipos|Liga F|Calendario|Clasificación|LaLiga Hypermotion|Calendario|Clasificación|Equipos|Primera Federación|Segunda Federación|Tercera Federación|Copa del Rey|Copa de la Reina|Más fútbol|Supercopa de España|Supercopa de España femenina|Selección Española|Mundial 2022|UEFA Nations League|Selección Española femenina|EURO 2022|Mundial 2023|Fútbol Sala|Premios MARCA|Internacional|Premier League|Calendario|Clasificación|Equipos|Bundesliga|Calendario|Clasificación|Equipos|Serie A|Calendario|Clasificación|Equipos|Ligue 1|Calendario|Clasificación|Equipos|Primeira Liga de Portugal|Calendario|Clasificación|Equipos|Liga Saudí|Calendario|Clasificación|Champions League|Calendario|Clasificación|Equipos|Champions League femenina|Calendario|Clasificación|Europa League|Calendario|Clasificación|Equipos|Conference League|Calendario|Clasificación|Equipos|Youth League|Calendario|Clasificación|Supercopa de Europa|Mundial de clubes|Calendario|Mundial Femenino 2023|EURO 2024|Copa África|América|Argentina|Calendario|Clasificación|Chile|Calendario|Clasificación|Colombia|Calendario|Clasificación|Estados Unidos|Calendario|Clasificación|México|Calendario|Clasificación|Venezuela|Calendario|Clasificación|Leagues Cup|Calendario|Clasificación|CONMEBOL Libertadores|Calendario|Clasificación|Copa América|Calendario|Más América|Campeonato Brasileiro|Liga Bolivia|Paraguayan Primera División|Primera División del Perú|Serie A de Ecuador|Uruguayan Primera División|Destacamos|Atletismo|Balonmano|Ciclismo|Golf|Tenis|Boxeo|Otros deportes|Ajedrez|Deportes Aventura|Deportes Invierno|eSports|Hípica|Hockey Hierba|Hockey Patines|Juegos Olímpicos|Juegos Olímpicos de Invierno|MMA|Natación|NFL|NHL|Olimpismo|Pádel|Paralímpicos|Rugby|Tenis de mesa|Toros|Triatlón|Turf|UFC|Vela|Voleibol|Waterpolo|SELECCIÓN ESPAÑOLA|Selección española|Carvajal: \"En ningún momento he dicho que Jenni no sea la víctima\"|El lateral compareció en rueda de prensa y repasó la actualidad de la selección|Carvajal en rueda de prensa.|JOSÉ FÉLIX DÍAZ|06/09/2023\n",
      "-\n",
      "13:09|CEST|Compartir en Facebook|Compartir en Twitter|Compartir en Telegram|Compartir en Whatsapp|Enviar por email|18|Mostrar comentarios|Selección.|Así ha sido la rueda de prensa de Carvajal|Entrevista.|Carvajal: \"¿Jenni Hermoso víctima? Hay estamentos legales que lo deben decidir\"|D|ani Carvajal pasó por la sala de prensa. El madridista es uno de los capitanes de la selección y una de las voces autorizadas. \"|Queda bastante claro lo que pienso. Solo defiendo la presunción de inocencia. No puedes culpabilizar a nadie sin sentencia alguna|. El comunicado resultó complicado por poner de acuerdo a 24 personas. Lo hicimos con buena intención. Muy orgulloso del éxito que lograron. Las felicité. El sábado pasado recibieron un homenaje del Bernabéu\".|Respecto a las consecuencias de lo que está pasando.|\"Para lo bueno como para lo malo, la repercusión es muy alta. No voy a opinar a nivel personal. Cada uno puede hacer lo que quiera. No soy nadie para juzgar a nadie. En ningún momento he dicho que Jenni no sea la víctima, he dicho que hay que preservar la presunción de inocencia. No creo que el presidente esté pasando momentos agradables, pero no estoy aquí para juzgar a nadie.\"|No soy nadie para juzgar a nadie. En ningún momento he dicho que Jenni no sea la víctima|Carvajal - Jugador Selección Española|Respecto a Rubiales afirma.|\"La opinión que tengo de Rubiales como presidente tengo una opinión excelente. No soy quien para limpiar o deshacer en la Federación. ¿La respuesta de Rubiales? No la vi. Dijimos que estábamos en desacuerdo con lo hecho por él. Defendemos los valores del deporte\".|Habló del vestuario.|\"Está focalizado en el partido de Georgia, que es vital para la clasificación. Dimos el comunicado para que se hablara de fútbol. Álvaro es el capitán. Ha pasado por muchos clubes. Tiene capacidad de liderazgo. Al final tenemos un alcance social muy grande. Estamos en el foco de mucha gente. No es un tema agradable para nosotros, ojalá solo se hubiese hablado del campeonato que hemos ganado. Sabemos lo que significa el fútbol para España y buscamos mostrar nuestro mejor nivel y a nivel mediático buscar que todo se calme\".|La opinión que tengo de Rubiales como presidente tengo una opinión excelente|Carvajal - Jugador Selección española|Carvajal no valora el adiós de Vilda.|\"No puedo responder. Son decisiones que se toman de manera interna. A muerte con el mister desde el momento que estamos aquí, las otras decisiones no nos competen a nosotros. El mister aclaró su situación. Claro que estamos con él. Nos llevó a ganar la Liga de las Naciones. Cada entrenador tiene sus matices. Nos pide transiciones más rápidas y ser más directos en la fase ofensiva, terminar jugadas\".|El lateral ya es todo un veterano.|\"Satisfacción plena. Cada concentración la afronto al máximo, como si fuera la última. Los jóvenes vienen apretando muy fuerte y esa es una realidad\".|No echa en falta a un nueve en el Real Madrid.|\"Somos los más realizadores. Ya lo dijo Ancelotti que había venido Bellingham y que iba a ser importante. Tenemos un equipo muy completo en todas las líneas y esperamos poder dar muchas alegrías a losaficionados\".|Selección de Fútbol de España|Dani Carvajal|Selección Española|Marc Crosas ataca a Carvajal por su postura en el 'caso Rubiales': \"Más machista y más facha no se puede ser...\"|Selección Española|Carvajal: \"¿Jenni Hermoso víctima? Hay estamentos legales que lo deben decidir\"|Lo + Gaming|\"Rodrigo Hernández balón de oro\": Ibai Llanos y su divertida reacción a la convocatoria de España|Ver enlaces de interés|LaLiga EA Sports|LaLiga Hypermotion|Premier League|Fichajes LaLiga|Resultados LaLiga|Clasificacion Liga|Fichajes Liga|Mercado Fichajes|Limpia arbitral Negreira|Setien|Biris|Jorge Vilda|Jorge Vilda destituido|Sustituto de Vilda|Noticias más leídas|Ver más|Duro comunicado de los Biris contra el fichaje de Ramos:  \"Una falta de respeto a los valores que nos hicieron grandes\"|El Villarreal destituye a Setién|La RFEF destituye a Jorge Vilda|Los duros comentarios de Edmundo Arrocet tras la muerte de María Teresa Campos: \"Tenía que haber pedido perdón\"|Críticas a María Pedraza por sus constantes desnudos en Instagram: \"¿Su talento ahora es mostrar el cuerpo desnudo?\"|18|Comentarios|MickeyDonovan|#1|06/09/2023|13:13 horas|Valiente|atacamas|#2|06/09/2023|13:13 horas|Porque ponen una foto de Abascal en una noticia de Carvajal ?|Ver 18 comentarios|Mostrar comentarios|Volver a la noticia|'Carvajal: \"En ningún momento he dicho que Jenni no sea la víctima\"'|Cargando siguiente contenido|Otras webs de Unidad Editorial|Marca|App Marca|Clasificación LaLiga|Calendario LaLiga|Hemeroteca Marca|Marca Gaming|Marca en Orbyt|Ocio y Moda|Tiramillas|Moda - Telva|Traductor|Programación TV|Marca Entradas|Bienestar|Unidad Editorial|El Mundo|Expansión|CuídatePlus|Diario Médico|Cooking Recetas|Suscripción Marca|Formación y Empleo|Escuela Unidad Editorial|Unidad Editorial|Expansión y Empleo|©|Unidad Editorial Información Deportiva, S.L.U. Todos los derechos reservados.|Política de cookies|Configuración de cookies|Política de privacidad|Términos y condiciones de uso|Certificado por OJD|Contacto|Publicidad|Ayuda|Nuestro equipo|Venta de contenidos|Código ético|Síguenos en|Facebook|Twitter|RSS|España|Liga Endesa|Calendario|Clasificación|Liga Endesa femenina|LEB Oro|LEB Plata|Copa del Rey|Cuadro y resultados|Supercopa Endesa|Cuadro y resultados|Basket FEB|Selección|Europa|Euroliga|Clasificación|Calendario|Eurocup|Resultados y Clasificación|FIBA Champions League|Resultados y Clasificación|Internacional|NBA|Calendario|Clasificaciones|Equipos|Mundial 2023|Coches|Fórmula 1|Calendario|Clasificación de pilotos|Clasificación de constructores|Grandes Premios de Fórmula 1|Bahrein|Arabia Saudí|Australia|Azerbaiyán|Miami|Emilia Romagna|Mónaco|España|Canadá|Austria|Gran Bretaña|Hungría|Bélgica|Países Bajos|Italia|Singapur|Japón|Qatar|Estados Unidos|México|Brasil|Las Vegas|Emiratos Árabes|Rallies|Calendario|Clasificación de pilotos|Clasificación de equipos|Dakar|WEC|Indycar|24 Horas de Daytona|24 Horas de Le Mans|Motos|Moto GP|Calendario|Clasificación de pilotos|Grandes Premios de Moto GP|Portugal|Argentina|Las Américas|España|Francia|Italia|Alemania|Países Bajos|Kazajistán|Gran Bretaña|Austria|Cataluña|San Marino|India|Japón|Indonesia|Australia|Tailandia|Malasia|Qatar|Comunidad Valenciana|Modelos de coches|Modelos|Comparador de coches|Pruebas de coches|Ocio|Vídeos|Coches y motos|Coches|Motos|Tráfico|Tecnología|Industria|Salones del Automóvil|Frankfurt|Shanghái|Ginebra|Los Ángeles|París|Y además|Accesorios|Recomendador/Comparador\n"
     ]
    }
   ],
   "source": [
    "from bs4 import BeautifulSoup\n",
    "import requests\n",
    "\n",
    "response = requests.get('https://www.marca.com/futbol/seleccion/2023/09/06/64f85cf9e2704e573c8b459c.html')\n",
    "\n",
    "soup = BeautifulSoup(response.content, 'lxml')\n",
    "\n",
    "text = soup.get_text(\"|\", strip=True)\n",
    "print(text)"
   ]
  },
  {
   "cell_type": "markdown",
   "metadata": {},
   "source": []
  }
 ],
 "metadata": {
  "kernelspec": {
   "display_name": "env",
   "language": "python",
   "name": "python3"
  },
  "language_info": {
   "codemirror_mode": {
    "name": "ipython",
    "version": 3
   },
   "file_extension": ".py",
   "mimetype": "text/x-python",
   "name": "python",
   "nbconvert_exporter": "python",
   "pygments_lexer": "ipython3",
   "version": "3.10.7"
  },
  "orig_nbformat": 4
 },
 "nbformat": 4,
 "nbformat_minor": 2
}
