{
 "cells": [
  {
   "cell_type": "markdown",
   "metadata": {},
   "source": []
  },
  {
   "cell_type": "markdown",
   "metadata": {},
   "source": [
    "# **Modelos estadísticos del lenguaje**\n",
    "\n",
    "El protocolo **HTTP** (Protocolo de Transferencia de Hipertexto) es un protocolo de comunicación estándar utilizado para la transmisión de información en la World Wide Web. Es un protocolo de solicitud-respuesta que funciona entre un cliente (generalmente un navegador web) y un servidor.\n",
    "\n",
    "1. **Solicitud y Respuesta**:\n",
    "   - **Solicitud (Request)**: Iniciada por el cliente, una solicitud HTTP incluye un método (como GET para recuperar información o POST para enviar datos), una URL, y opcionalmente, otros parámetros como encabezados y un cuerpo de mensaje.\n",
    "   - **Respuesta (Response)**: El servidor procesa la solicitud y devuelve una respuesta, que incluye un código de estado (que indica el éxito o el fallo de la operación) y, dependiendo de la solicitud, el recurso solicitado o un mensaje de error.\n",
    "\n",
    "2. **Métodos HTTP**:\n",
    "   - Los métodos HTTP definen las operaciones que pueden ser realizadas. Los más comunes son GET (para recuperar datos), POST (para enviar datos), PUT (para actualizar datos existentes), DELETE (para eliminar datos), entre otros.\n",
    "\n",
    "3. **Códigos de Estado**:\n",
    "   - Los códigos de estado HTTP son códigos numéricos que indican el resultado de la solicitud. Por ejemplo, 200 indica éxito, 404 indica que el recurso no se encontró, 500 indica un error del servidor, entre otros.\n",
    "\n",
    "4. **Seguridad**:\n",
    "   - HTTPS es una versión segura de HTTP, que utiliza protocolos de cifrado como SSL/TLS para proteger la transmisión de datos entre el cliente y el servidor.\n"
   ]
  },
  {
   "cell_type": "markdown",
   "metadata": {},
   "source": [
    "\n",
    "<img src=\"imgs/client-server.png\">\n",
    "\n",
    "\n",
    "## **HTML**\n",
    "\n",
    "Una página HTML (Lenguaje de Marcado de Hipertexto) es un documento estructurado que utiliza elementos marcados para definir y representar el contenido en un formato legible para navegadores web. Entre sus componentes encontramos:\n",
    "\n",
    "1. **Elementos y Etiquetas**:\n",
    "   - **Elementos**: Un elemento HTML es una unidad individual que representa una parte específica del contenido de una página, pudiendo ser un párrafo, un encabezado, una lista, etc.\n",
    "   - **Etiquetas**: Los elementos están delineados por etiquetas, que marcan el inicio y el fin del elemento. Por ejemplo, `<p>` es la etiqueta de inicio para un párrafo, y `</p>` es la etiqueta de cierre.\n",
    "\n",
    "2. **Atributos**:\n",
    "   - Los elementos pueden tener atributos que proveen información adicional sobre el elemento, como su `id`, `class`, `style`, etc. Por ejemplo, en `<a href=\"http://example.com\">link</a>`, `href` es un atributo que indica la URL a la que apunta el enlace.\n",
    "\n",
    "3. **Contenido**:\n",
    "   - Los elementos pueden contener contenido, que puede ser texto, otros elementos HTML, o una mezcla de ambos. \n",
    "\n",
    "4. **Recursos Externos**:\n",
    "   - Una página HTML puede incluir referencias a recursos externos, como hojas de estilo en cascada (CSS) para controlar la apariencia, o JavaScript para agregar funcionalidad interactiva.\n",
    "\n",
    "5. **Estructura Básica**:\n",
    "   - Una página HTML tiene una estructura básica que incluye elementos como `<html>`, `<head>` (que contiene metadatos y enlaces a recursos externos) y `<body>` (que contiene el contenido principal de la página).\n",
    "<br>\n",
    "\n",
    "\n",
    "\n",
    "\n",
    "### Ejemplo de una Página HTML Básica:"
   ]
  },
  {
   "cell_type": "code",
   "execution_count": null,
   "metadata": {
    "vscode": {
     "languageId": "html"
    }
   },
   "outputs": [],
   "source": [
    "<!DOCTYPE html>\n",
    "<html>\n",
    "<head>\n",
    "    <title>Mi primera página HTML</title>\n",
    "</head>\n",
    "<body>\n",
    "    <h1>Encabezado Principal</h1>\n",
    "    <p>Esto es un párrafo de texto.</p>\n",
    "    <a href=\"http://example.com\">Un enlace a example.com</a>\n",
    "</body>\n",
    "</html>"
   ]
  },
  {
   "cell_type": "markdown",
   "metadata": {},
   "source": [
    "\n",
    "\n",
    "En este ejemplo:\n",
    "- `<!DOCTYPE html>` es una declaración que le dice al navegador que esta es una página HTML5.\n",
    "- `<html>` es el elemento raíz que contiene todos los demás elementos.\n",
    "- `<head>` contiene metadatos y enlaces a recursos externos (en este caso, solo un título).\n",
    "- `<body>` contiene el contenido principal de la página, incluyendo un encabezado (`<h1>`), un párrafo (`<p>`), y un enlace (`<a>`).\n",
    "\n",
    "\n",
    "### DOM\n",
    "\n",
    "El DOM, o Modelo de Objetos del Documento, es una interfaz de programación para documentos web. Representa la estructura lógica de un documento y define la forma en que la estructura puede ser manipulada por los programas. El DOM se estructura como un árbol de nodos, donde cada nodo representa un objeto que corresponde, generalmente, con algún elemento del documento HTML. Los nodos pueden tener hijos, padres y hermanos.\n",
    "\n",
    "\n",
    "### Ejemplo de un árbol DOM básico:\n",
    "\n",
    "```\n",
    " Document\n",
    "    |\n",
    "    |- <html>\n",
    "         |\n",
    "         |- <head>\n",
    "         |    |\n",
    "         |    |- <title>\n",
    "         |         |\n",
    "         |         |- \"Mi primera página HTML\"\n",
    "         |\n",
    "         |- <body>\n",
    "              |\n",
    "              |- <h1>\n",
    "              |    |\n",
    "              |    |- \"Encabezado Principal\"\n",
    "              |\n",
    "              |- <p>\n",
    "              |    |\n",
    "              |    |- \"Esto es un párrafo de texto.\"\n",
    "              |\n",
    "              |- <a>\n",
    "                   |\n",
    "                   |- \"Un enlace a example.com\"\n",
    "                   |\n",
    "                   |- (atributo href con valor \"http://example.com\")\n",
    "```\n",
    "\n",
    "\n",
    "\n",
    "---"
   ]
  },
  {
   "cell_type": "markdown",
   "metadata": {},
   "source": [
    "## **Web scraping**\n",
    "\n",
    "El web scraping es una técnica utilizada para extraer información de sitios web. En su forma más básica, implica recuperar una página web y luego extraer datos necesarios de ella. Entre las aplicaciones más comunes del web scraping encontramos:\n",
    "\n",
    "- **Análisis de Datos y Minería de Datos:** Para recopilar grandes conjuntos de datos para análisis posterior.\n",
    "\n",
    "- **SEO (Optimización de Motores de Búsqueda):** Para analizar datos de sitios web, como metadatos, palabras clave, backlinks, etc.\n",
    "\n",
    "- **E-commerce:** Para monitorear precios y disponibilidad de productos en diferentes plataformas.\n",
    "\n",
    "- **Investigación de Mercados:** Para recopilar datos sobre tendencias del mercado, competencia, preferencias de los consumidores, etc.\n",
    "\n",
    "- **Automatización de Tareas:** Para automatizar tareas repetitivas, como la entrada de datos.\n",
    "\n",
    "Una de las librerías más usadas en este ámbito es [Beautiful Soup](https://www.crummy.com/software/BeautifulSoup/bs4/doc/)."
   ]
  },
  {
   "cell_type": "markdown",
   "metadata": {},
   "source": []
  },
  {
   "cell_type": "markdown",
   "metadata": {},
   "source": []
  },
  {
   "cell_type": "markdown",
   "metadata": {},
   "source": [
    "## **Beautiful Soup**\n",
    "\n",
    "Beautiful Soup es una biblioteca de Python para extraer datos de archivos HTML y XML. Con ella puedes hacer:\n",
    "\n",
    "- Parsing de HTML y XML: Beautiful Soup puede parsear (analizar y estructurar) documentos HTML y XML, lo que facilita la extracción de datos de estos tipos de archivos.\n",
    "\n",
    "- Navegación en el Árbol de Sintaxis: Una vez que un documento ha sido parseado, Beautiful Soup permite navegar y buscar a través del árbol de sintaxis de forma fácil y efectiva, utilizando diversos métodos de búsqueda.\n",
    "\n",
    "- Manipulación de Documentos: Además de permitir la extracción de datos, Beautiful Soup también puede modificar el documento, lo que permite, por ejemplo, cambiar tags, atributos, y contenido de texto.\n",
    "\n",
    "- Extracción de Información: Puedes extraer información específica de un documento, como obtener todos los URLs en una página, o encontrar todos los elementos con una clase específica.\n"
   ]
  },
  {
   "cell_type": "markdown",
   "metadata": {},
   "source": [
    "### Instalación"
   ]
  },
  {
   "cell_type": "code",
   "execution_count": null,
   "metadata": {
    "vscode": {
     "languageId": "shellscript"
    }
   },
   "outputs": [],
   "source": [
    "pip install beautifulsoup4\n",
    "pip install lxml"
   ]
  },
  {
   "cell_type": "markdown",
   "metadata": {},
   "source": [
    "### Extracción de información\n",
    "\n",
    "Vamos a acceder a mi web (http://cayetanoguerra.github.io/ia/) y extraer información de ella. Concretamente, queremos extraer el título y los temas que hay. Sabemos que están bajo los tags `<h1>` y `<h3>` respectivamente."
   ]
  },
  {
   "cell_type": "code",
   "execution_count": 1,
   "metadata": {},
   "outputs": [
    {
     "name": "stdout",
     "output_type": "stream",
     "text": [
      "Inteligencia Artificial\n",
      "\n",
      "Python\n",
      "\n",
      "\n",
      "Búsquedas\n",
      "\n",
      "\n",
      "Redes neuronales\n",
      "\n",
      "\n",
      "Aprendizaje por refuerzo\n",
      "\n",
      "\n",
      "Sistemas basados en reglas\n",
      "\n",
      "\n",
      "Computación evolutiva\n",
      "\n",
      "\n",
      "Redes Bayesianas\n",
      "\n",
      "\n",
      "Planificación\n",
      "\n",
      "\n",
      "Machine Learning\n",
      "\n",
      "\n",
      "Procesamiento del Lenguaje Natural (NLP)\n",
      "\n",
      "\n",
      "Misc.\n",
      "\n"
     ]
    }
   ],
   "source": [
    "from bs4 import BeautifulSoup\n",
    "import requests\n",
    "\n",
    "response = requests.get('http://cayetanoguerra.github.io/ia/')\n",
    "soup = BeautifulSoup(response.content, 'lxml')\n",
    "\n",
    "# Encuentra el primer elemento <h1>\n",
    "h1 = soup.find('h1')\n",
    "print(h1.text)\n",
    "\n",
    "# Encuentra todos los elementos <h3>\n",
    "paragraphs = soup.find_all('h3')\n",
    "for p in paragraphs:\n",
    "    print(p.text)\n"
   ]
  },
  {
   "cell_type": "markdown",
   "metadata": {},
   "source": [
    "Supongamos ahora que queremos sacar todo el texto la página web de un periódico. Para ello, podemos usar el método `get_text()` de la clase `BeautifulSoup`."
   ]
  },
  {
   "cell_type": "code",
   "execution_count": 2,
   "metadata": {},
   "outputs": [
    {
     "name": "stdout",
     "output_type": "stream",
     "text": [
      "Selección española: Carvajal: \"En ningún momento he dicho que Jenni no sea la víctima\" | Marca|Es noticia:|Lista seleccion española femenina|Techo Santiago Bernabéu|Athletic bandera española|Aston Martin|AEMET tormentas|Arturo Pérez-Reverte Rubiales|Garbiñe Muguruza nueva vida|Granada - Girona TV|TardeAR horario|TardeAR colaboradores|Patricia Pardo|Pasapalabra invitados|Hormiguero invitados|Jorge Rey golondrinas|Precio luz hoy|F1 GP Japón horarios|Resultados fútbol|Calendario F1|Calendario Liga|Bienestar|Coches|Portada de Marca|Edición seleccionada|ES|Ediciones:|ES (España)|EN (English)|MX (México)|US (USA)|Escoge tu edición de Marca.com favorita|Siempre que entres en Marca.com se cargará esta edición|ES (España)|EN (English)|MX (México)|US (USA)|Confirmar|Suscríbete|Fútbol|Baloncesto|Motor|Polideportivo|Coches|Última hora|Fantasy|Agenda TV|Más|Cerrar|06 de septiembre\n",
      "de 2023|Actualizado a las 16:41 h.|Portada|Volver a:|Fútbol|Selección Española|Noticias|Mundial 2022|EURO 2024|UEFA Nations League|Europeo Sub-21|Palmarés|Más|Cerrar|Futbol/seleccion|Compartir en Facebook|Compartir en Twitter|Enviar por email|España|LaLiga EA Sports|Calendario|Clasificación|Equipos|Liga F|Calendario|Clasificación|LaLiga Hypermotion|Calendario|Clasificación|Equipos|Primera Federación|Segunda Federación|Tercera Federación|Copa del Rey|Copa de la Reina|Más fútbol|Supercopa de España|Supercopa de España femenina|Selección Española|UEFA Nations League|Selección Española femenina|UEFA Nations League femenina|Mundial 2023|Fútbol Sala|Premios MARCA|Internacional|Premier League|Calendario|Clasificación|Equipos|Bundesliga|Calendario|Clasificación|Equipos|Serie A|Calendario|Clasificación|Equipos|Ligue 1|Calendario|Clasificación|Equipos|Primeira Liga de Portugal|Calendario|Clasificación|Equipos|Liga Saudí|Calendario|Clasificación|Champions League|Calendario|Clasificación|Equipos|Champions League femenina|Calendario|Clasificación|Europa League|Calendario|Clasificación|Equipos|Conference League|Calendario|Clasificación|Equipos|Youth League|Calendario|Clasificación|Supercopa de Europa|Mundial de clubes|Calendario|Mundial 2026|Mundial Femenino 2023|EURO 2024|Copa África|América|Argentina|Calendario|Clasificación|Chile|Calendario|Clasificación|Colombia|Calendario|Clasificación|Estados Unidos|Calendario|Clasificación|México|Calendario|Clasificación|Venezuela|Calendario|Clasificación|Leagues Cup|Calendario|Clasificación|CONMEBOL Libertadores|Calendario|Clasificación|Copa América|Calendario|Más América|Campeonato Brasileiro|Liga Bolivia|Paraguayan Primera División|Primera División del Perú|Serie A de Ecuador|Uruguayan Primera División|Destacamos|Atletismo|Balonmano|Ciclismo|Golf|Tenis|Boxeo|Otros deportes|Ajedrez|Deportes Aventura|Deportes Invierno|eSports|Hípica|Hockey Hierba|Hockey Patines|Juegos Olímpicos|Juegos Olímpicos de Invierno|MMA|Natación|NFL|NHL|Olimpismo|Pádel|Paralímpicos|Rugby|Tenis de mesa|Toros|Triatlón|Turf|UFC|Vela|Voleibol|Waterpolo|SELECCIÓN ESPAÑOLA|Selección española|Carvajal: \"En ningún momento he dicho que Jenni no sea la víctima\"|El lateral compareció en rueda de prensa y repasó la actualidad de la selección|Carvajal: \"Hay que solidarizarse con Jenni, pero no creo que Rubiales lo esté pasando bien\"|JOSÉ FÉLIX DÍAZ|Actualizado|06/09/2023\n",
      "-|13:09|CEST|Compartir en Facebook|Compartir en Twitter|Compartir en Telegram|Compartir en Whatsapp|Enviar por email|552|Mostrar comentarios|Selección.|Así ha sido la rueda de prensa de Carvajal|Entrevista.|Carvajal: \"¿Jenni Hermoso víctima? Hay estamentos legales que lo deben decidir\"|D|ani Carvajal pasó por la sala de prensa. El madridista es uno de los capitanes de la selección y una de las voces autorizadas. \"|Queda bastante claro lo que pienso. Solo defiendo la presunción de inocencia. No puedes culpabilizar a nadie sin sentencia alguna|. El comunicado resultó complicado por poner de acuerdo a 24 personas. Lo hicimos con buena intención. Muy orgulloso del éxito que lograron. Las felicité. El sábado pasado recibieron un homenaje del Bernabéu\".|Respecto a las consecuencias de lo que está pasando.|\"Para lo bueno como para lo malo, la repercusión es muy alta. No voy a opinar a nivel personal. Cada uno puede hacer lo que quiera. No soy nadie para juzgar a nadie. En ningún momento he dicho que Jenni no sea la víctima, he dicho que hay que preservar la presunción de inocencia. No creo que el presidente esté pasando momentos agradables, pero no estoy aquí para juzgar a nadie.\"|No soy nadie para juzgar a nadie. En ningún momento he dicho que Jenni no sea la víctima|Carvajal - Jugador Selección Española|Respecto a Rubiales afirma.|\"La opinión que tengo de Rubiales como presidente tengo una opinión excelente. No soy quien para limpiar o deshacer en la Federación. ¿La respuesta de Rubiales? No la vi. Dijimos que estábamos en desacuerdo con lo hecho por él. Defendemos los valores del deporte\".|Habló del vestuario.|\"Está focalizado en el partido de Georgia, que es vital para la clasificación. Dimos el comunicado para que se hablara de fútbol. Álvaro es el capitán. Ha pasado por muchos clubes. Tiene capacidad de liderazgo. Al final tenemos un alcance social muy grande. Estamos en el foco de mucha gente. No es un tema agradable para nosotros, ojalá solo se hubiese hablado del campeonato que hemos ganado. Sabemos lo que significa el fútbol para España y buscamos mostrar nuestro mejor nivel y a nivel mediático buscar que todo se calme\".|La opinión que tengo de Rubiales como presidente tengo una opinión excelente|Carvajal - Jugador Selección española|Carvajal no valora el adiós de Vilda.|\"No puedo responder. Son decisiones que se toman de manera interna. A muerte con el mister desde el momento que estamos aquí, las otras decisiones no nos competen a nosotros. El mister aclaró su situación. Claro que estamos con él. Nos llevó a ganar la Liga de las Naciones. Cada entrenador tiene sus matices. Nos pide transiciones más rápidas y ser más directos en la fase ofensiva, terminar jugadas\".|El lateral ya es todo un veterano.|\"Satisfacción plena. Cada concentración la afronto al máximo, como si fuera la última. Los jóvenes vienen apretando muy fuerte y esa es una realidad\".|No echa en falta a un nueve en el Real Madrid.|\"Somos los más realizadores. Ya lo dijo Ancelotti que había venido Bellingham y que iba a ser importante. Tenemos un equipo muy completo en todas las líneas y esperamos poder dar muchas alegrías a losaficionados\".|Selección de Fútbol de España|Dani Carvajal|Tertulia|El Corrillo: \"A Carvajal se le critica injustamente, parece que no existe la libertad de expresión en España\"|Selección Española|Carvajal: \"¿Jenni Hermoso víctima? Hay estamentos legales que lo deben decidir\"|Selección Española|Marc Crosas ataca a Carvajal por su postura en el 'caso Rubiales': \"Más machista y más facha no se puede ser...\"|Ver enlaces de interés|LaLiga EA Sports|LaLiga Hypermotion|Premier League|Fichajes LaLiga|Resultados LaLiga|Clasificacion Liga|Convocatoria España|Granada - Girona TV|Andorra - Oviedo horario|Techo Santiago Bernabeu|Selección femenina|Noticias más leídas|Ver más|\"¿Por qué no lo ha hecho antes y nos ha evitado estas dos semanas?\"|Joselu reactiva el plan B|El exfutbolista Koke, en prisión por narcotráfico: \"Tengo mis contactos, pero no soy Pablo Escobar\"|Omar Montes la lía en un concierto de Ana Mena: \"¡Una vergüenza!\"|Paul Pogba da positivo en un control antidopaje|552|Comentarios|MickeyDonovan|#1|06/09/2023|13:13 horas|Valiente|Holt|#14|06/09/2023|13:15 horas|Gracias Carvajal, por luchar por recuperar algo de libertad de expresión, de opinión y de pensamiento ante la dictadura feminista y de extrema izquierda|Ver 552 comentarios|Mostrar comentarios|Volver a la noticia|'Carvajal: \"En ningún momento he dicho que Jenni no sea la víctima\"'|Cargando siguiente contenido|Otras webs de Unidad Editorial|Marca|App Marca|Clasificación LaLiga|Calendario LaLiga|Hemeroteca Marca|Marca Gaming|Marca en Orbyt|Ocio y Moda|Tiramillas|Moda - Telva|Traductor|Programación TV|Marca Entradas|Bienestar|Unidad Editorial|El Mundo|Expansión|CuídatePlus|Diario Médico|Cooking Recetas|Suscripción Marca|Formación y Empleo|Escuela Unidad Editorial|Unidad Editorial|Expansión y Empleo|©|Unidad Editorial Información Deportiva, S.L.U. Todos los derechos reservados.|Política de cookies|Configuración de cookies|Política de privacidad|Términos y condiciones de uso|Certificado por OJD|Contacto|Publicidad|Ayuda|Nuestro equipo|Venta de contenidos|Código ético|Síguenos en|Facebook|Twitter|RSS|España|Liga Endesa|Calendario|Clasificación|Liga Endesa femenina|LEB Oro|LEB Plata|Copa del Rey|Cuadro y resultados|Supercopa Endesa|Cuadro y resultados|Basket FEB|Selección|Europa|Euroliga|Clasificación|Calendario|Eurocup|Resultados y Clasificación|FIBA Champions League|Resultados y Clasificación|Internacional|NBA|Calendario|Clasificaciones|Equipos|Mundial 2023|Coches|Fórmula 1|Calendario|Clasificación de pilotos|Clasificación de constructores|Grandes Premios de Fórmula 1|Bahrein|Arabia Saudí|Australia|Azerbaiyán|Miami|Emilia Romagna|Mónaco|España|Canadá|Austria|Gran Bretaña|Hungría|Bélgica|Países Bajos|Italia|Singapur|Japón|Qatar|Estados Unidos|México|Brasil|Las Vegas|Emiratos Árabes|Rallies|Calendario|Clasificación de pilotos|Clasificación de equipos|Dakar|WEC|Indycar|24 Horas de Daytona|24 Horas de Le Mans|Motos|Moto GP|Calendario|Clasificación de pilotos|Grandes Premios de Moto GP|Portugal|Argentina|Las Américas|España|Francia|Italia|Alemania|Países Bajos|Kazajistán|Gran Bretaña|Austria|Cataluña|San Marino|India|Japón|Indonesia|Australia|Tailandia|Malasia|Qatar|Comunidad Valenciana|Modelos de coches|Modelos|Comparador de coches|Pruebas de coches|Ocio|Vídeos|Coches y motos|Coches|Motos|Tráfico|Tecnología|Industria|Salones del Automóvil|Frankfurt|Shanghái|Ginebra|Los Ángeles|París|Y además|Accesorios|Recomendador/Comparador\n"
     ]
    }
   ],
   "source": [
    "from bs4 import BeautifulSoup\n",
    "import requests\n",
    "\n",
    "response = requests.get('https://www.marca.com/futbol/seleccion/2023/09/06/64f85cf9e2704e573c8b459c.html')\n",
    "\n",
    "soup = BeautifulSoup(response.content, 'lxml')\n",
    "\n",
    "text = soup.get_text(\"|\", strip=True)\n",
    "print(text)"
   ]
  },
  {
   "cell_type": "markdown",
   "metadata": {},
   "source": [
    "<img src=\"imgs/flask-horizontal.jpeg\" width=\"20%\" />\n",
    "\n",
    "\n",
    "Flask es un microframework de Python para desarrollar aplicaciones web. Es muy conocido por su simplicidad y flexibilidad."
   ]
  },
  {
   "cell_type": "code",
   "execution_count": null,
   "metadata": {},
   "outputs": [],
   "source": [
    "from flask import Flask\n",
    "\n",
    "app = Flask(__name__)\n",
    "\n",
    "@app.route('/')\n",
    "def hello_world():\n",
    "    return 'Hello, World!'\n",
    "\n",
    "if __name__ == '__main__':\n",
    "    app.run()"
   ]
  },
  {
   "cell_type": "markdown",
   "metadata": {},
   "source": []
  }
 ],
 "metadata": {
  "kernelspec": {
   "display_name": "env",
   "language": "python",
   "name": "python3"
  },
  "language_info": {
   "codemirror_mode": {
    "name": "ipython",
    "version": 3
   },
   "file_extension": ".py",
   "mimetype": "text/x-python",
   "name": "python",
   "nbconvert_exporter": "python",
   "pygments_lexer": "ipython3",
   "version": "3.10.7"
  },
  "orig_nbformat": 4
 },
 "nbformat": 4,
 "nbformat_minor": 2
}
