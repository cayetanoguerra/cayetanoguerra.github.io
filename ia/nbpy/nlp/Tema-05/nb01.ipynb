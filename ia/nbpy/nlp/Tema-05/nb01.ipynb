{
 "cells": [
  {
   "cell_type": "markdown",
   "metadata": {},
   "source": [
    "<br>\n",
    "<br>\n",
    "\n",
    "# **Modelos del lenguaje basados en redes neuronales artificiales**"
   ]
  },
  {
   "cell_type": "markdown",
   "metadata": {},
   "source": [
    "## **Aprendizaje supervisado en clasificación de texto**"
   ]
  },
  {
   "cell_type": "markdown",
   "metadata": {},
   "source": [
    "### **Representación vectorial del texto**\n",
    "\n",
    "\n",
    ">Dime con quién andas y te diré quién eres.\n",
    "\n",
    "\n",
    "La representación vectorial del texto usando redes neuronales han revolucionado el campo del procesamiento de lenguaje natural en la última década. Estas representaciones, comúnmente conocidas como \"embeddings\", capturan relaciones semánticas y sintácticas entre palabras, frases o incluso documentos completos en un espacio de menor dimensión. Veamos los modelos más destacados."
   ]
  },
  {
   "cell_type": "markdown",
   "metadata": {},
   "source": [
    "### **Word2Vec (Mikolov et al., 2013)**\n",
    "\n",
    "Word2Vec es uno de los modelos más populares para aprender representaciones vectoriales de palabras, y su introducción marcó un antes y un después en la forma en que se abordan muchas tareas de NLP. Fue propuesto por Mikolov et al. en 2013. Se basa en la idea de que el significado o función de una palabra puede inferirse por el contexto en el que aparece frecuentemente. Por lo tanto, palabras con contextos similares tendrán representaciones vectoriales similares. Word2Vec tiene dos arquitecturas principales: Skip-Gram y CBOW (Continuous Bag of Words).\n",
    "\n",
    "\n",
    "#### **Skip-Gram**\n",
    "\n",
    "Dada una palabra objetivo, el modelo Skip-Gram trata de predecir las palabras de su contexto cercano. Por ejemplo, en la frase \"El color azul me gusta más que el rojo\", si \"azul\" es nuestra palabra objetivo y utilizamos un tamaño de ventana de contexto de 2, querríamos predecir las palabras \"El\", \"color\", \"me\" y \"gusta\" a partir de \"azul\". Si en otra frase del dataset apareciera la frase \"El color rojo me gusta más que el azul\", el modelo aprendería que \"azul\" y \"rojo\" son palabras que podrían compartir contextos similares y, por tanto, sus vectores tenderían a tener una representación similar para poder predecir correctamente las palabras de su contexto.\n",
    "\n",
    "<img src=\"imgs/Skip-Gram.svg\">\n",
    "\n",
    "\n",
    "#### **CBOW**\n",
    "\n",
    "Dado un contexto, CBOW trata de predecir la palabra objetivo o central. Por ejemplo, en la frase \"El color azul me gusta más que el rojo\", si tomamos un tamaño de ventana de contexto de 2 alrededor de la palabra \"me\", las palabras de contexto serían \"color\", \"azul\", \"más\" y \"que\", y CBOW intentaría predecir \"rojo\" a partir de estas palabras. A diferencia de Skip-Gram, en CBOW todas las palabras de contexto se suman o promedian, de ahí el nombre \"Bag of Words\" ya que no se considera el orden de las palabras.\n",
    "\n",
    "<img src=\"imgs/CBOW.svg\">\n",
    "\n",
    "\n",
    "\n",
    "\n",
    "##### **Código**\n",
    "https://towardsdatascience.com/word2vec-with-pytorch-implementing-original-paper-2cd7040120b0"
   ]
  },
  {
   "cell_type": "markdown",
   "metadata": {},
   "source": [
    "<img src=\"imgs/torchtext_logo.png\" width=\"25%\">\n",
    "\n",
    "## **PyTorch: TorchText**\n",
    "\n",
    "**TorchText** es una biblioteca complementaria a PyTorch, diseñada específicamente para las tareas de procesamiento de lenguaje natural (NLP). La biblioteca incluye herramientas para cargar, procesar y trabajar con conjuntos de datos de texto, así como para construir vocabularios y manipular secuencias de texto.\n",
    "\n",
    "https://pytorch.org/text/stable/index.html"
   ]
  },
  {
   "cell_type": "code",
   "execution_count": 40,
   "metadata": {},
   "outputs": [
    {
     "name": "stdout",
     "output_type": "stream",
     "text": [
      " \n",
      "\n",
      "--------------------------------------------------\n",
      " = Valkyria Chronicles III = \n",
      "\n",
      "--------------------------------------------------\n",
      " \n",
      "\n",
      "--------------------------------------------------\n",
      " Senjō no Valkyria 3 : <unk> Chronicles ( Japanese : 戦場のヴァルキュリア3 , lit . Valkyria of the Battlefield 3 ) , commonly referred to as Valkyria Chronicles III outside Japan , is a tactical role @-@ playing video game developed by Sega and Media.Vision for the PlayStation Portable . Released in January 2011 in Japan , it is the third game in the Valkyria series . <unk> the same fusion of tactical and real @-@ time gameplay as its predecessors , the story runs parallel to the first game and follows the \" Nameless \" , a penal military unit serving the nation of Gallia during the Second Europan War who perform secret black operations and are pitted against the Imperial unit \" <unk> Raven \" . \n",
      "\n",
      "--------------------------------------------------\n",
      " The game began development in 2010 , carrying over a large portion of the work done on Valkyria Chronicles II . While it retained the standard features of the series , it also underwent multiple adjustments , such as making the game more <unk> for series newcomers . Character designer <unk> Honjou and composer Hitoshi Sakimoto both returned from previous entries , along with Valkyria Chronicles II director Takeshi Ozawa . A large team of writers handled the script . The game 's opening theme was sung by May 'n . \n",
      "\n",
      "--------------------------------------------------\n",
      " It met with positive sales in Japan , and was praised by both Japanese and western critics . After release , it received downloadable content , along with an expanded edition in November of that year . It was also adapted into manga and an original video animation series . Due to low sales of Valkyria Chronicles II , Valkyria Chronicles III was not localized , but a fan translation compatible with the game 's expanded edition was released in 2014 . Media.Vision would return to the franchise with the development of Valkyria : Azure Revolution for the PlayStation 4 . \n",
      "\n",
      "--------------------------------------------------\n",
      " \n",
      "\n",
      "--------------------------------------------------\n",
      " = = Gameplay = = \n",
      "\n",
      "--------------------------------------------------\n",
      " \n",
      "\n",
      "--------------------------------------------------\n",
      " As with previous <unk> Chronicles games , Valkyria Chronicles III is a tactical role @-@ playing game where players take control of a military unit and take part in missions against enemy forces . Stories are told through comic book @-@ like panels with animated character portraits , with characters speaking partially through voiced speech bubbles and partially through <unk> text . The player progresses through a series of linear missions , gradually unlocked as maps that can be freely <unk> through and replayed as they are unlocked . The route to each story location on the map varies depending on an individual player 's approach : when one option is selected , the other is sealed off to the player . Outside missions , the player characters rest in a camp , where units can be customized and character growth occurs . Alongside the main story missions are character @-@ specific sub missions relating to different squad members . After the game 's completion , additional episodes are unlocked , some of them having a higher difficulty than those found in the rest of the game . There are also love simulation elements related to the game 's two main <unk> , although they take a very minor role . \n",
      "\n",
      "--------------------------------------------------\n",
      " The game began development in 2010 , carrying over a large portion of the work done on Valkyria Chronicles II . While it retained the standard features of the series , it also underwent multiple adjustments , such as making the game more <unk> for series newcomers . Character designer <unk> Honjou and composer Hitoshi Sakimoto both returned from previous entries , along with Valkyria Chronicles II director Takeshi Ozawa . A large team of writers handled the script . The game 's opening theme was sung by May 'n . \n",
      "\n",
      " = = Original design = = \n",
      "\n"
     ]
    }
   ],
   "source": [
    "# Read the 10 first lines of WikiText2 dataset in TorchText\n",
    "\n",
    "\n",
    "import torch\n",
    "from torchtext import datasets\n",
    "\n",
    "# Load the dataset\n",
    "train_iter = datasets.WikiText2(split=('train'))\n",
    "\n",
    "# Print the first 10 lines\n",
    "for i, line in enumerate(train_iter):\n",
    "    if i < 10:\n",
    "        print(line)\n",
    "        print(\"-\" * 50)\n",
    "    else:\n",
    "        break\n",
    "\n",
    "# print(train_iter[100])  # Error because the dataset is not a map-style dataset\n",
    "\n",
    "from torchtext.data import to_map_style_dataset\n",
    "\n",
    "# Convert the dataset to map-style dataset\n",
    "train_iter = to_map_style_dataset(train_iter)\n",
    "\n",
    "print(train_iter[4])\n",
    "print(train_iter[1001])"
   ]
  },
  {
   "cell_type": "markdown",
   "metadata": {},
   "source": []
  }
 ],
 "metadata": {
  "kernelspec": {
   "display_name": "env",
   "language": "python",
   "name": "python3"
  },
  "language_info": {
   "codemirror_mode": {
    "name": "ipython",
    "version": 3
   },
   "file_extension": ".py",
   "mimetype": "text/x-python",
   "name": "python",
   "nbconvert_exporter": "python",
   "pygments_lexer": "ipython3",
   "version": "3.10.7"
  },
  "orig_nbformat": 4
 },
 "nbformat": 4,
 "nbformat_minor": 2
}
