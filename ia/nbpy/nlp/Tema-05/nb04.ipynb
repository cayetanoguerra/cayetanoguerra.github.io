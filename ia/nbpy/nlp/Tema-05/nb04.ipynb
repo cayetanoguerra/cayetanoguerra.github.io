{
 "cells": [
  {
   "cell_type": "markdown",
   "metadata": {},
   "source": [
    "<p>\n",
    "<img src=\"../imgs/EII-ULPGC-logo.jpeg\" width=\"430px\" align=\"right\">"
   ]
  },
  {
   "cell_type": "markdown",
   "metadata": {},
   "source": [
    "# **NOTEBOOK 14**\n",
    "---"
   ]
  },
  {
   "cell_type": "markdown",
   "metadata": {},
   "source": [
    "\n",
    "# **Modelos del lenguaje basados en redes neuronales artificiales**"
   ]
  },
  {
   "cell_type": "markdown",
   "metadata": {},
   "source": [
    "## **Modelos seq2seq 1**\n",
    "\n",
    "La arquitectura seq2seq, o secuencia a secuencia, es un tipo de modelo de red neuronal utilizado en el aprendizaje profundo para convertir secuencias de entrada en secuencias de salida. Es especialmente popular para tareas como traducción automática, generación de texto, y reconocimiento de voz. Se forma mediante la unión de dos componentes principales: un **codificador** y un **decodificador**.\n",
    "\n",
    "<p align=\"center\">\n",
    "<img src=\"imgs/seq2seq_.svg\" width=\"80%\">\n",
    "</p>\n",
    "\n",
    "\n",
    "#### **Codificador (Encoder)**\n",
    "\n",
    "El codificador toma la secuencia de entrada y la procesa para generar una representación interna, a menudo en forma de un vector de contexto o una serie de estados ocultos. Aquí está el proceso detallado:\n",
    "\n",
    "1. **Entrada de la secuencia**: El modelo toma una secuencia de entrada (por ejemplo, una frase en inglés si estamos haciendo traducción inglés-español).\n",
    "\n",
    "2. **Embedding de palabras**: Cada palabra o token de la secuencia se transforma en un vector mediante una capa de *embedding*.\n",
    "\n",
    "3. **Procesamiento recurrente**: La representación vectorial de los tokens se pasan a través de capas recurrentes (como LSTM o GRU) para procesar la secuencia. En cada paso temporal, la red actualiza su estado oculto basándose en el token actual y el estado oculto anterior.\n",
    "\n",
    "4. **Captura de contexto**: El último estado oculto de la red (o una combinación de todos los estados ocultos, dependiendo del diseño) se toma como la representación condensada de la secuencia completa. Este vector de contexto captura la información esencial de la entrada.\n",
    "\n",
    "### **Decodificador (Decoder)**\n",
    "\n",
    "El decodificador utiliza la representación generada por el codificador para producir la secuencia de salida.\n",
    "\n",
    "1. **Inicialización**: El decodificador se inicializa con el estado oculto final del codificador. En algunos diseños, el vector de contexto también se usa directamente como parte de la entrada en cada paso del decodificador.\n",
    "\n",
    "2. **Generación de la secuencia de salida**: En cada paso, el decodificador genera un token de la secuencia de salida.\n",
    "\n",
    "   - **Estado oculto**: Se actualiza en cada paso basándose en la entrada actual y el estado oculto anterior.\n",
    "   - **Entrada**: Puede ser el token de salida del paso anterior o un token especial para indicar el inicio de la secuencia.\n",
    "   - **Salida**: Un vector que se transforma en las probabilidades de los diferentes tokens posibles para el siguiente paso de la secuencia. Esto se hace típicamente con una capa softmax.\n",
    "\n",
    "3. **Terminación**: El proceso continúa hasta que se genera un token de final de secuencia o se alcanza una longitud máxima de secuencia."
   ]
  },
  {
   "cell_type": "markdown",
   "metadata": {},
   "source": [
    "### **Implementación**\n",
    "\n",
    "Vamos a implementar un sencillo modelo seq2seq que realice la suma de dos números decimales de, como máximo, 3 cifras. La entrada será una cadena de texto con el formato \"123+456\" y la salida será una cadena de texto con el formato \"0579\".\n",
    "\n",
    "#### **Dataset**"
   ]
  },
  {
   "cell_type": "code",
   "execution_count": 1,
   "metadata": {},
   "outputs": [],
   "source": [
    "import random\n",
    "import string\n",
    "import torch\n",
    "\n",
    "allowed_chars = string.digits + '+'\n",
    "\n",
    "class Generator():\n",
    "    def __init__(self) -> None:\n",
    "        pass\n",
    "\n",
    "    # Método para crear un ejemplo de entrenamiento\n",
    "    def sample(self):\n",
    "        s1 = random.randint(0, 999)\n",
    "        s2 = random.randint(0, 999)\n",
    "        r = s1 + s2\n",
    "        s1_string = str(s1).zfill(3)\n",
    "        s2_string = str(s2).zfill(3)\n",
    "        output = str(r).zfill(4)\n",
    "        input = s1_string + \"+\" + s2_string\n",
    "        return input, output\n",
    "    \n",
    "    # Método para crear un lote de ejemplos de entrenamiento\n",
    "    def batch(self, n):\n",
    "        inputs = []\n",
    "        outputs = []\n",
    "        for _ in range(n):\n",
    "            input, output = self.sample()\n",
    "            inputs.append(input)\n",
    "            outputs.append(output)\n",
    "        return inputs, outputs\n",
    "    \n",
    "    # Método para codificar una cadena de caracteres en un tensor one-hot\n",
    "    def string_to_tensor(self, s):\n",
    "        tensor = torch.zeros(len(s), len(allowed_chars))\n",
    "        for i, char in enumerate(s):\n",
    "            tensor[i, allowed_chars.index(char)] = 1\n",
    "        return tensor\n",
    "\n",
    "    # Método para decodificar un tensor one-hot en una cadena de caracteres\n",
    "    def tensor_to_string(self, tensor):\n",
    "        _, max_idx = tensor.max(1)\n",
    "        return ''.join([allowed_chars[i] for i in max_idx])\n",
    "    \n",
    "    # Método para generar un lote de ejemplos de entrenamiento codificados\n",
    "    def batch_to_tensor(self, n):\n",
    "        seq_in = []\n",
    "        seq_out = []\n",
    "        inputs, outputs = self.batch(n)\n",
    "        # print(inputs, outputs)\n",
    "        for input, output in zip(inputs, outputs):\n",
    "            seq_in.append(self.string_to_tensor(input))\n",
    "            seq_out.append(self.string_to_tensor(output))\n",
    "        return torch.stack(seq_in), torch.stack(seq_out)"
   ]
  },
  {
   "cell_type": "code",
   "execution_count": 20,
   "metadata": {},
   "outputs": [
    {
     "name": "stdout",
     "output_type": "stream",
     "text": [
      "torch.Size([5, 7, 11]) torch.Size([5, 4, 11])\n",
      "Suma: 777+141\n",
      "tensor([[0., 0., 0., 0., 0., 0., 0., 1., 0., 0., 0.],\n",
      "        [0., 0., 0., 0., 0., 0., 0., 1., 0., 0., 0.],\n",
      "        [0., 0., 0., 0., 0., 0., 0., 1., 0., 0., 0.],\n",
      "        [0., 0., 0., 0., 0., 0., 0., 0., 0., 0., 1.],\n",
      "        [0., 1., 0., 0., 0., 0., 0., 0., 0., 0., 0.],\n",
      "        [0., 0., 0., 0., 1., 0., 0., 0., 0., 0., 0.],\n",
      "        [0., 1., 0., 0., 0., 0., 0., 0., 0., 0., 0.]])\n",
      "Resultado: 0918\n",
      "tensor([[1., 0., 0., 0., 0., 0., 0., 0., 0., 0., 0.],\n",
      "        [0., 0., 0., 0., 0., 0., 0., 0., 0., 1., 0.],\n",
      "        [0., 1., 0., 0., 0., 0., 0., 0., 0., 0., 0.],\n",
      "        [0., 0., 0., 0., 0., 0., 0., 0., 1., 0., 0.]])\n",
      "777+141\n"
     ]
    }
   ],
   "source": [
    "sampler = Generator()\n",
    "x, y = sampler.batch_to_tensor(5)\n",
    "print(x.shape, y.shape)\n",
    "print(f\"Suma: {sampler.tensor_to_string(x[0])}\")\n",
    "print(x[0])\n",
    "print(f\"Resultado: {sampler.tensor_to_string(y[0])}\")\n",
    "print(y[0])\n",
    "print(sampler.tensor_to_string(x[0]))"
   ]
  },
  {
   "cell_type": "markdown",
   "metadata": {},
   "source": [
    "#### **Modelo**"
   ]
  },
  {
   "cell_type": "code",
   "execution_count": 3,
   "metadata": {},
   "outputs": [],
   "source": [
    "import torch.nn as nn\n",
    "import torch.optim as optim\n",
    "import torch.nn.functional as F\n",
    "\n",
    "\n",
    "# Definir la arquitectura del modelo seq2seq\n",
    "class Seq2Seq(nn.Module):\n",
    "    def __init__(self, input_size, hidden_size, output_size):\n",
    "        super(Seq2Seq, self).__init__()\n",
    "        self.hidden_size = hidden_size\n",
    "        self.encoder = nn.LSTM(input_size, hidden_size, batch_first=True)\n",
    "        self.decoder = nn.LSTM(hidden_size, hidden_size, batch_first=True)\n",
    "        self.output = nn.Linear(hidden_size, output_size)\n",
    "\n",
    "    def forward(self, input, hidden=None):\n",
    "        _, (hn_enc, cn_enc) = self.encoder(input, hidden)\n",
    "        latent_tensor = hn_enc[0].unsqueeze(1).repeat(1, 4, 1)\n",
    "        out_dec, (_, _) = self.decoder(latent_tensor, (hn_enc, cn_enc))\n",
    "        out = F.softmax(self.output(out_dec), dim=2)\n",
    "        return out\n",
    "    \n",
    "model = Seq2Seq(input_size=len(allowed_chars), hidden_size=128, output_size=len(allowed_chars))"
   ]
  },
  {
   "cell_type": "markdown",
   "metadata": {},
   "source": [
    "#### **Entrenamiento**"
   ]
  },
  {
   "cell_type": "code",
   "execution_count": 4,
   "metadata": {},
   "outputs": [
    {
     "name": "stdout",
     "output_type": "stream",
     "text": [
      "Epoch: 0, Loss: 0.08267240971326828\n",
      "Epoch: 100, Loss: 0.06225312873721123\n",
      "Epoch: 200, Loss: 0.05215279012918472\n",
      "Epoch: 300, Loss: 0.04845123365521431\n",
      "Epoch: 400, Loss: 0.04677223786711693\n",
      "Epoch: 500, Loss: 0.04471767321228981\n",
      "Epoch: 600, Loss: 0.04495870694518089\n",
      "Epoch: 700, Loss: 0.04560577869415283\n",
      "Epoch: 800, Loss: 0.04178232327103615\n",
      "Epoch: 900, Loss: 0.043543741106987\n",
      "Epoch: 1000, Loss: 0.04214690625667572\n",
      "Epoch: 1100, Loss: 0.04115663841366768\n",
      "Epoch: 1200, Loss: 0.04280176758766174\n",
      "Epoch: 1300, Loss: 0.04087892919778824\n",
      "Epoch: 1400, Loss: 0.040798261761665344\n",
      "Epoch: 1500, Loss: 0.04157622158527374\n",
      "Epoch: 1600, Loss: 0.0412483774125576\n",
      "Epoch: 1700, Loss: 0.038582947105169296\n",
      "Epoch: 1800, Loss: 0.04177870601415634\n",
      "Epoch: 1900, Loss: 0.03620728477835655\n",
      "Epoch: 2000, Loss: 0.037381790578365326\n",
      "Epoch: 2100, Loss: 0.03887151926755905\n",
      "Epoch: 2200, Loss: 0.03808820620179176\n",
      "Epoch: 2300, Loss: 0.0413174107670784\n",
      "Epoch: 2400, Loss: 0.03786832466721535\n",
      "Epoch: 2500, Loss: 0.03742634132504463\n",
      "Epoch: 2600, Loss: 0.03671230748295784\n",
      "Epoch: 2700, Loss: 0.03517738729715347\n",
      "Epoch: 2800, Loss: 0.03517001494765282\n",
      "Epoch: 2900, Loss: 0.03432132303714752\n",
      "Epoch: 3000, Loss: 0.034912556409835815\n",
      "Epoch: 3100, Loss: 0.03172162175178528\n",
      "Epoch: 3200, Loss: 0.0317431204020977\n",
      "Epoch: 3300, Loss: 0.031152300536632538\n",
      "Epoch: 3400, Loss: 0.030360788106918335\n",
      "Epoch: 3500, Loss: 0.028252732008695602\n",
      "Epoch: 3600, Loss: 0.02990218810737133\n",
      "Epoch: 3700, Loss: 0.0287717804312706\n",
      "Epoch: 3800, Loss: 0.027970097959041595\n",
      "Epoch: 3900, Loss: 0.02793044038116932\n",
      "Epoch: 4000, Loss: 0.027533026412129402\n",
      "Epoch: 4100, Loss: 0.027061473578214645\n",
      "Epoch: 4200, Loss: 0.023344306275248528\n",
      "Epoch: 4300, Loss: 0.021435586735606194\n",
      "Epoch: 4400, Loss: 0.015533111058175564\n",
      "Epoch: 4500, Loss: 0.01067681610584259\n",
      "Epoch: 4600, Loss: 0.005488632712513208\n",
      "Epoch: 4700, Loss: 0.00256277690641582\n",
      "Epoch: 4800, Loss: 0.0033808862790465355\n",
      "Epoch: 4900, Loss: 0.0023542491253465414\n"
     ]
    },
    {
     "data": {
      "text/plain": [
       "[<matplotlib.lines.Line2D at 0x169f33cd0>]"
      ]
     },
     "execution_count": 4,
     "metadata": {},
     "output_type": "execute_result"
    },
    {
     "data": {
      "image/png": "[encoded data removed]",
      "text/plain": [
       "<Figure size 640x480 with 1 Axes>"
      ]
     },
     "metadata": {},
     "output_type": "display_data"
    }
   ],
   "source": [
    "import matplotlib.pyplot as plt\n",
    "\n",
    "history = []\n",
    "\n",
    "# Bucle de entrenamiento\n",
    "def train(model, optimizer, loss_fn, n_epochs, batch_size):\n",
    "    for epoch in range(n_epochs):\n",
    "        total_loss = 0\n",
    "        \n",
    "        optimizer.zero_grad()\n",
    "        x, y = dg.batch_to_tensor(batch_size)\n",
    "        y_pred = model(x)\n",
    "        loss = loss_fn(y_pred, y)\n",
    "        loss.backward()\n",
    "        optimizer.step()\n",
    "        total_loss += loss.item()\n",
    "        # Print the loss every 10 epochs\n",
    "        if epoch % 100 == 0:\n",
    "            print(\"Epoch: {}, Loss: {}\".format(epoch, total_loss))\n",
    "            history.append(total_loss)\n",
    "\n",
    "# Definir la función de pérdida y el optimizador\n",
    "loss_fn = nn.MSELoss()\n",
    "optimizer = optim.Adam(model.parameters(), lr=0.01)\n",
    "\n",
    "# Entrenar el modelo\n",
    "dg = Generator()\n",
    "train(model, optimizer, loss_fn, 5000, 128)\n",
    "\n",
    "\n",
    "plt.plot(history, label='loss')"
   ]
  },
  {
   "cell_type": "markdown",
   "metadata": {},
   "source": [
    "#### **Evaluación**"
   ]
  },
  {
   "cell_type": "code",
   "execution_count": 5,
   "metadata": {},
   "outputs": [
    {
     "name": "stdout",
     "output_type": "stream",
     "text": [
      " Suma   Resultado  Predicción\n",
      "--------------------------------\n",
      "347+908    1255      1255\n",
      "594+543    1137      1137\n",
      "148+044    0192      0192\n",
      "314+402    0716      0716\n",
      "135+596    0731      0731\n",
      "727+804    1531      1531\n",
      "617+957    1574      1574\n",
      "575+027    0602      0602\n",
      "741+769    1510      1510\n",
      "133+468    0601      0601\n"
     ]
    }
   ],
   "source": [
    "# Evaluar el modelo\n",
    "def evaluate(model, n):\n",
    "    x, y = dg.batch_to_tensor(n)\n",
    "    y_pred = model(x)\n",
    "    print(\" Suma   Resultado  Predicción\")\n",
    "    print(\"--------------------------------\")\n",
    "    for i in range(n):\n",
    "        print(f\"{dg.tensor_to_string(x[i])}  {dg.tensor_to_string(y[i]):>6}    {dg.tensor_to_string(y_pred[i]):>6}\")\n",
    "\n",
    "evaluate(model, 10)"
   ]
  },
  {
   "cell_type": "markdown",
   "metadata": {},
   "source": [
    "Es importante destacar que el modelo no realiza una suma de números siguiendo un procedimiento aritmético, sino que aprende a generar la secuencia de salida correcta mediante un proceso de traducción aprendido a partir de los datos de entrenamiento."
   ]
  },
  {
   "cell_type": "markdown",
   "metadata": {},
   "source": [
    "---\n",
    "\n",
    "### **Ejercicio 1**\n",
    "\n",
    "Modifica el código anterior para que el modelo pueda recibir secuencias de longitud variable. Para ello, usa el generador de datos siguiente. Otra de las cosas que debes tener en cuenta es que el generador devuelve una lista de tensores, esto es así para que puedas usar la función `pad_sequence` para rellenar las secuencias más cortas con ceros. Consulta la referencia de la función para ver cómo se usa. El parámetro `batch_first` es importante para que la función sepa si los datos están en formato `(batch_size, seq_len, input_size)` o `(seq_len, batch_size, input_size)`. Nos interesa que estén en el primer formato.\n",
    "\n",
    "\n",
    "\n",
    "---"
   ]
  },
  {
   "cell_type": "code",
   "execution_count": 4,
   "metadata": {},
   "outputs": [],
   "source": [
    "import random\n",
    "import string\n",
    "import torch\n",
    "\n",
    "allowed_chars = string.digits + '+' + '#'  # <-- Añadimos el caracter # como padding para la salida\n",
    "\n",
    "class Generator2():\n",
    "    def __init__(self) -> None:\n",
    "        pass\n",
    "\n",
    "    # Método para crear un ejemplo de entrenamiento\n",
    "    def sample(self):\n",
    "        s1 = random.randint(0, 9999)\n",
    "        s2 = random.randint(0, 9999)\n",
    "        r = s1 + s2\n",
    "        s1_string = str(s1)\n",
    "        s2_string = str(s2)\n",
    "        output = str(r)\n",
    "        input = s1_string + \"+\" + s2_string\n",
    "        return input, output\n",
    "    \n",
    "    # Método para crear un lote de ejemplos de entrenamiento\n",
    "    def batch(self, n):\n",
    "        inputs = []\n",
    "        outputs = []\n",
    "        for _ in range(n):\n",
    "            input, output = self.sample()\n",
    "            inputs.append(input)\n",
    "            outputs.append(output)\n",
    "        return inputs, outputs\n",
    "    \n",
    "    # Método para codificar una cadena de caracteres en un tensor one-hot\n",
    "    def string_to_tensor(self, s):\n",
    "        tensor = torch.zeros(len(s), len(allowed_chars))\n",
    "        for i, char in enumerate(s):\n",
    "            tensor[i, allowed_chars.index(char)] = 1\n",
    "        return tensor\n",
    "\n",
    "    # Método para decodificar un tensor one-hot en una cadena de caracteres\n",
    "    def tensor_to_string(self, tensor):\n",
    "        _, max_idx = tensor.max(1)\n",
    "        return ''.join([allowed_chars[i] for i in max_idx])\n",
    "    \n",
    "    # Método para generar un lote de ejemplos de entrenamiento codificados\n",
    "    def batch_to_tensor(self, n):\n",
    "        seq_in = []\n",
    "        seq_out = []\n",
    "        inputs, outputs = self.batch(n)\n",
    "        for input, output in zip(inputs, outputs):\n",
    "            seq_in.append(self.string_to_tensor(input))\n",
    "            seq_out.append(self.string_to_tensor(output))\n",
    "        return seq_in, seq_out # <-- Devolvemos dos listas de tensores"
   ]
  },
  {
   "cell_type": "code",
   "execution_count": 63,
   "metadata": {},
   "outputs": [
    {
     "name": "stdout",
     "output_type": "stream",
     "text": [
      "[tensor([[0., 0., 0., 0., 0., 0., 0., 1., 0., 0., 0., 0.],\n",
      "        [1., 0., 0., 0., 0., 0., 0., 0., 0., 0., 0., 0.],\n",
      "        [0., 0., 0., 0., 0., 0., 0., 0., 0., 0., 1., 0.],\n",
      "        [0., 0., 1., 0., 0., 0., 0., 0., 0., 0., 0., 0.],\n",
      "        [0., 0., 0., 1., 0., 0., 0., 0., 0., 0., 0., 0.],\n",
      "        [0., 0., 0., 0., 0., 1., 0., 0., 0., 0., 0., 0.]]), tensor([[0., 0., 0., 0., 0., 0., 0., 0., 0., 1., 0., 0.],\n",
      "        [0., 0., 0., 0., 1., 0., 0., 0., 0., 0., 0., 0.],\n",
      "        [0., 1., 0., 0., 0., 0., 0., 0., 0., 0., 0., 0.],\n",
      "        [0., 0., 0., 0., 0., 0., 1., 0., 0., 0., 0., 0.],\n",
      "        [0., 0., 0., 0., 0., 0., 0., 0., 0., 0., 1., 0.],\n",
      "        [0., 0., 0., 0., 0., 0., 0., 0., 1., 0., 0., 0.],\n",
      "        [0., 0., 0., 0., 0., 0., 1., 0., 0., 0., 0., 0.],\n",
      "        [0., 0., 0., 1., 0., 0., 0., 0., 0., 0., 0., 0.],\n",
      "        [1., 0., 0., 0., 0., 0., 0., 0., 0., 0., 0., 0.]])]\n",
      "--------------------------------------------------\n",
      "[tensor([[0., 0., 0., 1., 0., 0., 0., 0., 0., 0., 0., 0.],\n",
      "        [1., 0., 0., 0., 0., 0., 0., 0., 0., 0., 0., 0.],\n",
      "        [0., 0., 0., 0., 0., 1., 0., 0., 0., 0., 0., 0.]]), tensor([[0., 1., 0., 0., 0., 0., 0., 0., 0., 0., 0., 0.],\n",
      "        [0., 0., 0., 0., 0., 0., 0., 0., 1., 0., 0., 0.],\n",
      "        [1., 0., 0., 0., 0., 0., 0., 0., 0., 0., 0., 0.],\n",
      "        [0., 0., 0., 0., 1., 0., 0., 0., 0., 0., 0., 0.],\n",
      "        [0., 0., 0., 0., 0., 0., 1., 0., 0., 0., 0., 0.]])]\n"
     ]
    }
   ],
   "source": [
    "gen = Generator2()\n",
    "batch_in, batch_out = gen.batch_to_tensor(2)\n",
    "print(batch_in)\n",
    "print(\"-\"*50)\n",
    "print(batch_out)"
   ]
  }
 ],
 "metadata": {
  "kernelspec": {
   "display_name": "Python 3",
   "language": "python",
   "name": "python3"
  },
  "language_info": {
   "codemirror_mode": {
    "name": "ipython",
    "version": 3
   },
   "file_extension": ".py",
   "mimetype": "text/x-python",
   "name": "python",
   "nbconvert_exporter": "python",
   "pygments_lexer": "ipython3",
   "version": "3.10.7"
  }
 },
 "nbformat": 4,
 "nbformat_minor": 2
}
