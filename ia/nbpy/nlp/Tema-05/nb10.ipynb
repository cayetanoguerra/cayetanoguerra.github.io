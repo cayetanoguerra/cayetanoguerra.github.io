{
 "cells": [
  {
   "cell_type": "markdown",
   "metadata": {},
   "source": [
    "<br>\n",
    "<br>\n",
    "\n",
    "# **Modelos del lenguaje basados en redes neuronales artificiales**"
   ]
  },
  {
   "cell_type": "markdown",
   "metadata": {},
   "source": [
    "## **GPT (Generative Pre-Training Transformer)**\n",
    "\n",
    "Consituyen una serie de modelos del lenguaje desarrollados por OpenAI. Estos modelos son conocidos por su capacidad para generar texto, responder preguntas, traducir idiomas, resumir documentos y realizar una variedad de otras tareas lingüísticas. La arquitectura de GPT se basa en el concepto de *Transformer*. "
   ]
  },
  {
   "cell_type": "code",
   "execution_count": 1,
   "metadata": {},
   "outputs": [
    {
     "data": {
      "application/vnd.jupyter.widget-view+json": {
       "model_id": "8896a397f22742d0946660da4279a839",
       "version_major": 2,
       "version_minor": 0
      },
      "text/plain": [
       "Fetching 1 files:   0%|          | 0/1 [00:00<?, ?it/s]"
      ]
     },
     "metadata": {},
     "output_type": "display_data"
    },
    {
     "data": {
      "application/vnd.jupyter.widget-view+json": {
       "model_id": "aa2c049d3c1e4bf1a899fe8b265f2678",
       "version_major": 2,
       "version_minor": 0
      },
      "text/plain": [
       "Fetching 1 files:   0%|          | 0/1 [00:00<?, ?it/s]"
      ]
     },
     "metadata": {},
     "output_type": "display_data"
    }
   ],
   "source": [
    "from ctransformers import AutoModelForCausalLM\n",
    "\n",
    "llm = AutoModelForCausalLM.from_pretrained(\"TheBloke/Mistral-7B-Instruct-v0.1-GGUF\", model_file=\"mistral-7b-instruct-v0.1.Q5_K_M.gguf\", model_type=\"mistral\", gpu_layers=50)"
   ]
  },
  {
   "cell_type": "code",
   "execution_count": 2,
   "metadata": {},
   "outputs": [
    {
     "name": "stdout",
     "output_type": "stream",
     "text": [
      "\n",
      "Answer: 12 manzanas\n"
     ]
    }
   ],
   "source": [
    "print(llm(\"¿Si tengo 15 manzanas y me como 3, cuántas me quedan?\"))"
   ]
  },
  {
   "cell_type": "markdown",
   "metadata": {},
   "source": [
    "<img src=\"imgs/LMStudio.png\" width=\"300\">\n",
    "\n",
    "Descarga e instala LM Studio desde [aquí](https://lmstudio.ai/)."
   ]
  },
  {
   "cell_type": "code",
   "execution_count": 3,
   "metadata": {},
   "outputs": [
    {
     "name": "stdout",
     "output_type": "stream",
     "text": [
      "{\n",
      "  \"role\": \"assistant\",\n",
      "  \"content\": \"Yes, I'm happy to help!\\n\\nFormulating oxides involves combining oxygen atoms with other elements to create compounds. There are several types of oxides that can be formed depending on the element being oxidized and the amount of oxygen added. Here are a few common examples:\\n\\n1. Simple Oxides: These are formed by adding one oxygen atom to an element. For example, carbon (C) combined with oxygen (O2) forms carbon dioxide (CO2), and hydrogen (H) combined with oxygen (O2) forms water (H2O).\\n2. Compound Oxides: These are formed by combining two or more elements with oxygen. For example, the oxide of nitrogen (N2) and oxygen (O2) is called nitrogen dioxide (NO2), and the oxide of sulfur (S) and oxygen (O2) is called sulfur dioxide (SO2).\\n3. Peroxides: These are formed by adding two oxygen atoms to an element, which results in a molecule with one hydrogen bond between the two oxygen atoms. For example, the peroxide of hydrogen (H2O2) and oxygen (O2) is called hydrogen peroxide (H2O2), and the peroxide of manganese (Mn2O4) and oxygen (O2) is called manganese dioxide (Mn2O4).\\n\\nI hope this helps! Let me know if you have any further questions.\"\n",
      "}\n"
     ]
    }
   ],
   "source": [
    "import os\n",
    "import openai\n",
    "\n",
    "openai.api_base = \"http://localhost:1234/v1\" # point to the local server\n",
    "openai.api_key = \"\" # no need for an API key\n",
    "\n",
    "completion = openai.ChatCompletion.create(\n",
    "  model=\"local-model\", # this field is currently unused\n",
    "  messages=[\n",
    "    {\"role\": \"system\", \"content\": \"You are an assistant helping a student with their homework\"},\n",
    "    {\"role\": \"assistant\", \"content\": \"Hi, how can I help you today?\"},\n",
    "    {\"role\": \"user\", \"content\": \"I need help with my chemistry homework. Can you help me?\"},\n",
    "    {\"role\": \"assistant\", \"content\": \"Of course! What specific topic or problem are you working on? Please provide more details so I can better assist you.\"},\n",
    "    {\"role\": \"user\", \"content\": \"Do you know how to formulate oxides?\"},\n",
    "  ]\n",
    ")\n",
    "\n",
    "print(completion.choices[0].message)"
   ]
  },
  {
   "cell_type": "markdown",
   "metadata": {},
   "source": []
  },
  {
   "cell_type": "code",
   "execution_count": 4,
   "metadata": {},
   "outputs": [
    {
     "name": "stdout",
     "output_type": "stream",
     "text": [
      "Yes, I'm happy to help!\n",
      "\n",
      "Formulating oxides involves combining oxygen atoms with other elements to create compounds. There are several types of oxides that can be formed depending on the element being oxidized and the amount of oxygen added. Here are a few common examples:\n",
      "\n",
      "1. Simple Oxides: These are formed by adding one oxygen atom to an element. For example, carbon (C) combined with oxygen (O2) forms carbon dioxide (CO2), and hydrogen (H) combined with oxygen (O2) forms water (H2O).\n",
      "2. Compound Oxides: These are formed by combining two or more elements with oxygen. For example, the oxide of nitrogen (N2) and oxygen (O2) is called nitrogen dioxide (NO2), and the oxide of sulfur (S) and oxygen (O2) is called sulfur dioxide (SO2).\n",
      "3. Peroxides: These are formed by adding two oxygen atoms to an element, which results in a molecule with one hydrogen bond between the two oxygen atoms. For example, the peroxide of hydrogen (H2O2) and oxygen (O2) is called hydrogen peroxide (H2O2), and the peroxide of manganese (Mn2O4) and oxygen (O2) is called manganese dioxide (Mn2O4).\n",
      "\n",
      "I hope this helps! Let me know if you have any further questions.\n"
     ]
    }
   ],
   "source": [
    "print(completion.choices[0].message[\"content\"])"
   ]
  }
 ],
 "metadata": {
  "kernelspec": {
   "display_name": "Python 3",
   "language": "python",
   "name": "python3"
  },
  "language_info": {
   "codemirror_mode": {
    "name": "ipython",
    "version": 3
   },
   "file_extension": ".py",
   "mimetype": "text/x-python",
   "name": "python",
   "nbconvert_exporter": "python",
   "pygments_lexer": "ipython3",
   "version": "3.10.7"
  }
 },
 "nbformat": 4,
 "nbformat_minor": 2
}
