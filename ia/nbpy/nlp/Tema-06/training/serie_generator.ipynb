{
 "cells": [
  {
   "cell_type": "markdown",
   "metadata": {},
   "source": [
    "## **Generador de secuencias de números que suman una cantidad determinada**"
   ]
  },
  {
   "cell_type": "code",
   "execution_count": 25,
   "metadata": {},
   "outputs": [
    {
     "name": "stdout",
     "output_type": "stream",
     "text": [
      "21 es igual a siete más cuatro más uno más nueve\n"
     ]
    }
   ],
   "source": [
    "import random\n",
    "\n",
    "# Paso 1: Generar un número aleatorio entre 10 y 50\n",
    "numero_aleatorio = random.randint(10, 50)\n",
    "\n",
    "# Diccionario para convertir números a palabras\n",
    "numeros_a_palabras = {\n",
    "    1: \"uno\", 2: \"dos\", 3: \"tres\", 4: \"cuatro\", 5: \"cinco\", \n",
    "    6: \"seis\", 7: \"siete\", 8: \"ocho\", 9: \"nueve\"\n",
    "}\n",
    "\n",
    "# Paso 2 y 3: Generar una serie de números cuya suma sea el número aleatorio\n",
    "def generar_serie_objetivo(objetivo):\n",
    "    serie = []\n",
    "    suma_actual = 0\n",
    "    \n",
    "    while suma_actual < objetivo:\n",
    "        numero = random.randint(1, min(9, objetivo - suma_actual))\n",
    "        serie.append(numero)\n",
    "        suma_actual += numero\n",
    "    \n",
    "    return serie\n",
    "\n",
    "serie_aleatoria = generar_serie_objetivo(numero_aleatorio)\n",
    "\n",
    "# Paso 4 y 5: Convertir los números de la serie a palabras y unirlos con \"más\"\n",
    "serie_en_palabras = \" más \".join(numeros_a_palabras[numero] for numero in serie_aleatoria)\n",
    "\n",
    "\n",
    "# Imprimir el resultado\n",
    "print(f\"{numero_aleatorio} es igual a {serie_en_palabras}\")\n",
    "\n",
    "def generate_lots_of_strings(n=10):\n",
    "    list_of_strings = []\n",
    "    for _ in range(n):\n",
    "        # Crea un número aleatorio entre 10 y 50 y múltiplo de tres\n",
    "        numero_aleatorio = random.randint(10, 50)\n",
    "        while numero_aleatorio % 3 != 0:\n",
    "            numero_aleatorio = random.randint(10, 50)\n",
    "        serie_aleatoria = generar_serie_objetivo(numero_aleatorio)\n",
    "        serie_en_palabras = \" más \".join(numeros_a_palabras[numero] for numero in serie_aleatoria)\n",
    "        s = '{\"text\": \"<s>[INST] %d es igual a [/INST] %s </s>\"}' % (numero_aleatorio, serie_en_palabras)\n",
    "        list_of_strings.append(s)\n",
    "        \n",
    "    # Save the list of strings to a file\n",
    "    with open(\"./data/list_of_strings.jsonl\", \"w\") as file:\n",
    "        file.write(\"\\n\".join(list_of_strings))\n",
    "\n",
    "generate_lots_of_strings(150)\n"
   ]
  },
  {
   "cell_type": "markdown",
   "metadata": {},
   "source": [
    "## **Verificador de secuencias de números que suman una cantidad determinada**"
   ]
  },
  {
   "cell_type": "code",
   "execution_count": 23,
   "metadata": {},
   "outputs": [
    {
     "name": "stdout",
     "output_type": "stream",
     "text": [
      "0\n"
     ]
    }
   ],
   "source": [
    "def comprobar_suma(cadena):\n",
    "    # Diccionario para convertir números en texto a números en entero\n",
    "    texto_a_numero = {\n",
    "        \"uno\": 1,\n",
    "        \"dos\": 2,\n",
    "        \"tres\": 3,\n",
    "        \"cuatro\": 4,\n",
    "        \"cinco\": 5,\n",
    "        \"seis\": 6,\n",
    "        \"siete\": 7,\n",
    "        \"ocho\": 8,\n",
    "        \"nueve\": 9\n",
    "    }\n",
    "    \n",
    "    # Extraer el número inicial en decimal\n",
    "    numero_inicial = int(cadena.split()[0])\n",
    "    \n",
    "    # Extraer los números en texto y sumarlos\n",
    "    palabras = cadena.split()[3:]  # Ignorar \"es igual a\"\n",
    "    suma_numeros = sum(texto_a_numero[palabra] for palabra in palabras if palabra in texto_a_numero)\n",
    "    \n",
    "    # Calcular la diferencia\n",
    "    diferencia = numero_inicial - suma_numeros\n",
    "    \n",
    "    # Devolver 0 si la suma es exacta, o la diferencia si no lo es\n",
    "    return abs(diferencia)\n",
    "\n",
    "# Ejemplo de uso\n",
    "cadena = \"11 es igual a [/INST] uno más siete más uno más dos \"\n",
    "resultado = comprobar_suma(cadena)\n",
    "print(resultado)  # Debería imprimir 0 si la suma es correcta\n"
   ]
  },
  {
   "cell_type": "code",
   "execution_count": null,
   "metadata": {},
   "outputs": [],
   "source": []
  }
 ],
 "metadata": {
  "kernelspec": {
   "display_name": "env",
   "language": "python",
   "name": "python3"
  },
  "language_info": {
   "codemirror_mode": {
    "name": "ipython",
    "version": 3
   },
   "file_extension": ".py",
   "mimetype": "text/x-python",
   "name": "python",
   "nbconvert_exporter": "python",
   "pygments_lexer": "ipython3",
   "version": "3.12.3"
  }
 },
 "nbformat": 4,
 "nbformat_minor": 2
}
