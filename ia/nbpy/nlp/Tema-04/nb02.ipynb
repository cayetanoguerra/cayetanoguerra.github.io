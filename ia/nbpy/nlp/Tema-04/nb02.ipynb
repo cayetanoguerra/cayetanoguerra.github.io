{
 "cells": [
  {
   "cell_type": "markdown",
   "metadata": {},
   "source": [
    "<p>\n",
    "<img src=\"../imgs/EII-ULPGC-logo.jpeg\" width=\"430px\" align=\"right\">"
   ]
  },
  {
   "cell_type": "markdown",
   "metadata": {},
   "source": [
    "# **NOTEBOOK 8**\n",
    "---"
   ]
  },
  {
   "cell_type": "markdown",
   "metadata": {},
   "source": [
    "# **Estrategias de clasificación**"
   ]
  },
  {
   "cell_type": "markdown",
   "metadata": {},
   "source": [
    "## **Aprendizaje supervisado en clasificación de texto**"
   ]
  },
  {
   "cell_type": "markdown",
   "metadata": {},
   "source": [
    "### **Clasificación mediante regresión logística**\n",
    "\n",
    "La regresión logística es un método estadístico utilizado para modelar la relación entre una variable dependiente binaria y una o más variables independientes. \n",
    "\n",
    "1. **Modelo**:\n",
    "   - La regresión logística modela la probabilidad $P(Y=1)$ de que la variable dependiente $Y$ sea 1 (generalmente representando la \"clase positiva\" en clasificación).\n",
    "   - Se utiliza la función logística (o función sigmoide) $ \\sigma(z) = \\frac{1}{1 + e^{-z}} $ para transformar cualquier valor en el rango (0, 1), siendo $z$ la combinación lineal de variables independientes, es decir, $ z = \\beta_0 + \\beta_1X_1 + \\beta_2X_2 + \\dots $.\n",
    "\n",
    "2. **Estimación de parámetros**:\n",
    "   - Los coeficientes $\\beta$ se estiman utilizando el método de máxima verosimilitud. La idea es encontrar los valores de $\\beta$ que maximizan la probabilidad (verosimilitud) de observar la muestra dada. Esto se puede hacer usando algoritmos de optimización como el método del gradiente, el método de Newton-Raphson, entre otros.\n",
    "\n",
    "3. **Predicción**:\n",
    "   - Una vez entrenado el modelo y estimados los coeficientes, se puede predecir la probabilidad $P(Y=1)$ para nuevos datos.\n",
    "   - Para tomar una decisión de clasificación, se establece un umbral (comúnmente 0.5). Si $P(Y=1)$ es mayor que el umbral, se clasifica como 1, de lo contrario, se clasifica como 0."
   ]
  },
  {
   "cell_type": "markdown",
   "metadata": {},
   "source": [
    "### **Ejemplo de clasificación con regresión logística**\n",
    "\n",
    "Supongamos que tenemos unos estudiantes y queremos predecir si van a aprobar o suspender un examen en función de las horas de estudio. La variable dependiente $Y$ es binaria (1 si aprueba, 0 si suspende) y la variable independiente $X$ es el número de horas de estudio."
   ]
  },
  {
   "cell_type": "code",
   "execution_count": 1,
   "metadata": {},
   "outputs": [
    {
     "data": {
      "text/plain": [
       "(0.875, array([[0.94328925]]), array([-4.22682999]))"
      ]
     },
     "execution_count": 1,
     "metadata": {},
     "output_type": "execute_result"
    }
   ],
   "source": [
    "import numpy as np\n",
    "import pandas as pd\n",
    "from sklearn.linear_model import LogisticRegression\n",
    "from sklearn.metrics import accuracy_score\n",
    "\n",
    "# Creamos un conjunto de datos sencillo\n",
    "data = {\n",
    "    'Hours_Studied': [1.1, 1.9, 3.3, 4.1, 4.3, 6, 7.9, 10.1],  # Horas estudiadas\n",
    "    'Passed': [0, 0, 0, 1, 0, 1, 1, 1]  # Aprobó (1) o no (0)\n",
    "}\n",
    "\n",
    "'''\n",
    "data = {\n",
    "    'Hours_Studied': [1.1, 1.9, 3.3, 4.1, 4.3, 6, 7.9, 10.1],  # Horas estudiadas\n",
    "    'Passed': [0, 0, 0, 0, 1, 1, 1, 1]  # Aprobó (1) o no (0)\n",
    "}\n",
    "'''\n",
    "\n",
    "df = pd.DataFrame(data)\n",
    "\n",
    "# Separamos los datos en características (X) y etiqueta (y)\n",
    "X = df[['Hours_Studied']]  # Características (necesita ser bidimensional para sklearn)\n",
    "y = df['Passed']           # Etiqueta\n",
    "\n",
    "# Creamos y entrenamos el modelo de regresión logística\n",
    "model = LogisticRegression()\n",
    "# model = LogisticRegression(max_iter=5000, C=100)  \n",
    "model.fit(X, y)\n",
    "\n",
    "# Realizamos las predicciones sobre el mismo conjunto de datos\n",
    "predictions = model.predict(X)\n",
    "\n",
    "# Calculamos la precisión\n",
    "accuracy = accuracy_score(y, predictions)\n",
    "\n",
    "# Mostramos los coeficientes y la precisión\n",
    "coef = model.coef_\n",
    "intercept = model.intercept_\n",
    "accuracy, coef, intercept\n"
   ]
  },
  {
   "cell_type": "markdown",
   "metadata": {},
   "source": [
    "Y si ahora hacemos predcciones para unas horas de estudio de 2, 4, 6 y 8 horas, ¿qué resultados obtendríamos?"
   ]
  },
  {
   "cell_type": "code",
   "execution_count": 2,
   "metadata": {},
   "outputs": [
    {
     "data": {
      "text/plain": [
       "array([0, 0, 1])"
      ]
     },
     "execution_count": 2,
     "metadata": {},
     "output_type": "execute_result"
    }
   ],
   "source": [
    "X_new = pd.DataFrame([[2], [4.3], [6]], columns=['Hours_Studied'])\n",
    "predictions = model.predict(X_new)\n",
    "predictions"
   ]
  },
  {
   "cell_type": "code",
   "execution_count": 3,
   "metadata": {},
   "outputs": [
    {
     "data": {
      "image/png": "[encoded data removed]",
      "text/plain": [
       "<Figure size 640x480 with 1 Axes>"
      ]
     },
     "metadata": {},
     "output_type": "display_data"
    }
   ],
   "source": [
    "# Plot the decision boundary\n",
    "import matplotlib.pyplot as plt\n",
    "\n",
    "# Plot the data points with colors depending on the label\n",
    "plt.scatter(X, y, c=y, cmap='bwr')\n",
    "\n",
    "plt.grid(True)\n",
    "plt.gca().set_facecolor('aliceblue')\n",
    "\n",
    "# Plot the decision boundary\n",
    "x_values = np.array([0, 10])\n",
    "y_values = (coef * x_values + intercept)\n",
    "plt.plot(x_values, y_values[0], color='black')\n",
    "\n",
    "# Plot the logistic function\n",
    "x_values = np.linspace(0, 10, 100)\n",
    "y_values = 1 / (1 + np.exp(-(coef * x_values + intercept)))\n",
    "plt.plot(x_values, y_values[0], color='green')\n",
    "\n",
    "plt.xlim(0, 10)\n",
    "plt.ylim(-1, 2)\n",
    "\n",
    "# Show the plot\n",
    "plt.show()\n"
   ]
  },
  {
   "cell_type": "markdown",
   "metadata": {},
   "source": [
    "### **Ejemplo de clasificación de textos con regresión logística**"
   ]
  },
  {
   "cell_type": "code",
   "execution_count": 7,
   "metadata": {},
   "outputs": [],
   "source": [
    "# Dataset de ejemplo\n",
    "documents = [\n",
    "    \"La película fue emocionante y llena de acción.\",\n",
    "    \"Ese libro tiene una trama intrigante.\",\n",
    "    \"Los actores hicieron un trabajo excelente.\",\n",
    "    \"El autor describe paisajes con gran detalle.\",\n",
    "    \"El cine de autor siempre me ha fascinado.\",\n",
    "    \"La novela estaba llena de giros inesperados.\",\n",
    "    \"El guion de esa película fue escrito por un famoso novelista.\",\n",
    "    \"Los personajes del libro eran muy realistas.\",\n",
    "    \"Esa película está basada en un libro aclamado.\",\n",
    "    \"El libro estaba basado en emocionantes paisajes.\",\n",
    "    \"El guion fue aclamado por su trama intrigante.\",\n",
    "    \"El cine muestra películas emocionantes de acción.\"\n",
    "]\n",
    "\n",
    "labels = [0, 1, 0, 1, 0, 1, 0, 1, 0, 1, 0, 0]  # 1: Positivo, 0: Negativo\n"
   ]
  },
  {
   "cell_type": "markdown",
   "metadata": {},
   "source": [
    "Vamos a realizar la tokenización y conteo de palabras para construir la representación vectorial de los documentos. Para ello, vamos a utilizar la clase `CountVectorizer` de `scikit-learn`. Además, nos permite realizar el filtrado de palabras vacías (stop words)."
   ]
  },
  {
   "cell_type": "code",
   "execution_count": 8,
   "metadata": {},
   "outputs": [],
   "source": [
    "from sklearn.feature_extraction.text import CountVectorizer\n",
    "from nltk.corpus import stopwords\n",
    "\n",
    "vectorizer = CountVectorizer(stop_words=stopwords.words('spanish'))\n",
    "X = vectorizer.fit_transform(documents)"
   ]
  },
  {
   "cell_type": "markdown",
   "metadata": {},
   "source": [
    "La matriz que almacena las frecuencias de aparición de las palabras contiene muchos ceros, debido a que la mayoría de las palabras no aparecen en un documento dado. Por lo tanto, la matriz es muy dispersa. Para reducir la cantidad de ceros, scikit-learn utiliza una matriz dispersa para almacenar la matriz de frecuencia de términos. Una matriz dispersa es una matriz que tiene muy pocos valores distintos de cero. Básicamente, lo que hace es almacenar solo los valores distintos de cero. Esto reduce el uso de memoria y acelera los cálculos.\n",
    "\n",
    "Si quisiéramos ver la matriz podríamos hacer:"
   ]
  },
  {
   "cell_type": "code",
   "execution_count": 9,
   "metadata": {},
   "outputs": [
    {
     "name": "stdout",
     "output_type": "stream",
     "text": [
      "[[1 0 0 0 0 0 0 0 0 1 0 0 0 0 0 0 0 0 0 0 0 0 1 0 0 0 0 1 0 0 0 0 0 0]\n",
      " [0 0 0 0 0 0 0 0 0 0 0 0 0 0 0 0 0 0 0 0 1 1 0 0 0 0 0 0 0 0 0 0 0 1]\n",
      " [0 0 1 0 0 0 0 0 0 0 0 0 1 0 0 0 0 0 1 0 0 0 0 0 0 0 0 0 0 0 0 0 1 0]\n",
      " [0 0 0 1 0 0 0 1 1 0 0 0 0 0 0 0 1 0 0 0 0 0 0 0 0 0 1 0 0 0 0 0 0 0]\n",
      " [0 0 0 1 0 0 1 0 0 0 0 0 0 0 1 0 0 0 0 0 0 0 0 0 0 0 0 0 0 0 0 1 0 0]\n",
      " [0 0 0 0 0 0 0 0 0 0 0 0 0 0 0 1 0 0 0 1 0 0 1 0 1 0 0 0 0 0 0 0 0 0]\n",
      " [0 0 0 0 0 0 0 0 0 0 0 1 0 1 0 0 0 1 0 0 0 0 0 0 0 1 0 1 0 0 0 0 0 0]\n",
      " [0 0 0 0 0 0 0 0 0 0 0 0 0 0 0 0 0 0 0 0 0 1 0 0 0 0 0 0 0 1 1 0 0 0]\n",
      " [0 1 0 0 1 0 0 0 0 0 0 0 0 0 0 0 0 0 0 0 0 1 0 0 0 0 0 1 0 0 0 0 0 0]\n",
      " [0 0 0 0 0 1 0 0 0 0 1 0 0 0 0 0 0 0 0 0 0 1 0 0 0 0 1 0 0 0 0 0 0 0]\n",
      " [0 1 0 0 0 0 0 0 0 0 0 0 0 0 0 0 0 1 0 0 1 0 0 0 0 0 0 0 0 0 0 0 0 1]\n",
      " [1 0 0 0 0 0 1 0 0 0 1 0 0 0 0 0 0 0 0 0 0 0 0 1 0 0 0 0 1 0 0 0 0 0]]\n"
     ]
    }
   ],
   "source": [
    "print(X.toarray())"
   ]
  },
  {
   "cell_type": "markdown",
   "metadata": {},
   "source": [
    "Y solo los valores distintos de cero:"
   ]
  },
  {
   "cell_type": "code",
   "execution_count": 10,
   "metadata": {},
   "outputs": [
    {
     "name": "stdout",
     "output_type": "stream",
     "text": [
      "  (0, 27)\t1\n",
      "  (0, 9)\t1\n",
      "  (0, 22)\t1\n",
      "  (0, 0)\t1\n",
      "  (1, 21)\t1\n",
      "  (1, 33)\t1\n",
      "  (1, 20)\t1\n",
      "  (2, 2)\t1\n",
      "  (2, 18)\t1\n",
      "  (2, 32)\t1\n",
      "  (2, 12)\t1\n",
      "  (3, 3)\t1\n",
      "  (3, 7)\t1\n",
      "  (3, 26)\t1\n",
      "  (3, 16)\t1\n",
      "  (3, 8)\t1\n",
      "  (4, 3)\t1\n",
      "  (4, 6)\t1\n",
      "  (4, 31)\t1\n",
      "  (4, 14)\t1\n",
      "  (5, 22)\t1\n",
      "  (5, 24)\t1\n",
      "  (5, 15)\t1\n",
      "  (5, 19)\t1\n",
      "  (6, 27)\t1\n",
      "  (6, 17)\t1\n",
      "  (6, 11)\t1\n",
      "  (6, 13)\t1\n",
      "  (6, 25)\t1\n",
      "  (7, 21)\t1\n",
      "  (7, 29)\t1\n",
      "  (7, 30)\t1\n",
      "  (8, 27)\t1\n",
      "  (8, 21)\t1\n",
      "  (8, 4)\t1\n",
      "  (8, 1)\t1\n",
      "  (9, 21)\t1\n",
      "  (9, 26)\t1\n",
      "  (9, 5)\t1\n",
      "  (9, 10)\t1\n",
      "  (10, 33)\t1\n",
      "  (10, 20)\t1\n",
      "  (10, 17)\t1\n",
      "  (10, 1)\t1\n",
      "  (11, 0)\t1\n",
      "  (11, 6)\t1\n",
      "  (11, 10)\t1\n",
      "  (11, 23)\t1\n",
      "  (11, 28)\t1\n"
     ]
    }
   ],
   "source": [
    "print(X)"
   ]
  },
  {
   "cell_type": "markdown",
   "metadata": {},
   "source": [
    "Si quisiéramos ver el vocabulario que se ha generado, podemos hacerlo así:"
   ]
  },
  {
   "cell_type": "code",
   "execution_count": 11,
   "metadata": {},
   "outputs": [
    {
     "name": "stdout",
     "output_type": "stream",
     "text": [
      "{'película': 27, 'emocionante': 9, 'llena': 22, 'acción': 0, 'libro': 21, 'trama': 33, 'intrigante': 20, 'actores': 2, 'hicieron': 18, 'trabajo': 32, 'excelente': 12, 'autor': 3, 'describe': 7, 'paisajes': 26, 'gran': 16, 'detalle': 8, 'cine': 6, 'siempre': 31, 'fascinado': 14, 'novela': 24, 'giros': 15, 'inesperados': 19, 'guion': 17, 'escrito': 11, 'famoso': 13, 'novelista': 25, 'personajes': 29, 'realistas': 30, 'basada': 4, 'aclamado': 1, 'basado': 5, 'emocionantes': 10, 'muestra': 23, 'películas': 28}\n",
      "--------------------\n",
      "['acción' 'aclamado' 'actores' 'autor' 'basada' 'basado' 'cine' 'describe'\n",
      " 'detalle' 'emocionante' 'emocionantes' 'escrito' 'excelente' 'famoso'\n",
      " 'fascinado' 'giros' 'gran' 'guion' 'hicieron' 'inesperados' 'intrigante'\n",
      " 'libro' 'llena' 'muestra' 'novela' 'novelista' 'paisajes' 'película'\n",
      " 'películas' 'personajes' 'realistas' 'siempre' 'trabajo' 'trama']\n"
     ]
    }
   ],
   "source": [
    "vocabulario = vectorizer.vocabulary_\n",
    "print(vocabulario)\n",
    "print(\"--------------------\")\n",
    "print(vectorizer.get_feature_names_out())"
   ]
  },
  {
   "cell_type": "markdown",
   "metadata": {},
   "source": [
    "Vemos en el siguiente código las palabas que hay en cada documento y su frecuencia."
   ]
  },
  {
   "cell_type": "code",
   "execution_count": 422,
   "metadata": {},
   "outputs": [
    {
     "name": "stdout",
     "output_type": "stream",
     "text": [
      "  Documento  Palabra         Frecuencia\n",
      "-----------  ------------  ------------\n",
      "          0  película                 1\n",
      "          0  emocionante              1\n",
      "          0  llena                    1\n",
      "          0  acción                   1\n",
      "          1  libro                    1\n",
      "          1  trama                    1\n",
      "          1  intrigante               1\n",
      "          2  actores                  1\n",
      "          2  hicieron                 1\n",
      "          2  trabajo                  1\n",
      "          2  excelente                1\n",
      "          3  autor                    1\n",
      "          3  describe                 1\n",
      "          3  paisajes                 1\n",
      "          3  gran                     1\n",
      "          3  detalle                  1\n",
      "          4  autor                    1\n",
      "          4  cine                     1\n",
      "          4  siempre                  1\n",
      "          4  fascinado                1\n",
      "          5  llena                    1\n",
      "          5  novela                   1\n",
      "          5  giros                    1\n",
      "          5  inesperados              1\n",
      "          6  película                 1\n",
      "          6  guion                    1\n",
      "          6  escrito                  1\n",
      "          6  famoso                   1\n",
      "          6  novelista                1\n",
      "          7  libro                    1\n",
      "          7  personajes               1\n",
      "          7  realistas                1\n",
      "          8  película                 1\n",
      "          8  libro                    1\n",
      "          8  basada                   1\n",
      "          8  aclamado                 1\n",
      "          9  libro                    1\n",
      "          9  paisajes                 1\n",
      "          9  basado                   1\n",
      "          9  emocionantes             1\n",
      "         10  trama                    1\n",
      "         10  intrigante               1\n",
      "         10  guion                    1\n",
      "         10  aclamado                 1\n",
      "         11  acción                   1\n",
      "         11  cine                     1\n",
      "         11  emocionantes             1\n",
      "         11  muestra                  1\n",
      "         11  películas                1\n"
     ]
    }
   ],
   "source": [
    "from tabulate import tabulate\n",
    "\n",
    "vocabulario = vectorizer.get_feature_names_out()\n",
    "\n",
    "table = []\n",
    "\n",
    "for i in range(X.shape[0]):\n",
    "    fila = X.getrow(i)\n",
    "    palabras_indices = fila.indices\n",
    "    frecuencias = fila.data\n",
    "\n",
    "    for idx, freq in zip(palabras_indices, frecuencias):\n",
    "        table.append([i, vocabulario[idx], freq])\n",
    "\n",
    "print(tabulate(table, headers=['Documento', 'Palabra', 'Frecuencia']))"
   ]
  },
  {
   "cell_type": "code",
   "execution_count": 13,
   "metadata": {},
   "outputs": [],
   "source": [
    "from sklearn.model_selection import train_test_split\n",
    "\n",
    "X_train, X_test, y_train, y_test = train_test_split(X, labels, test_size=0.2, random_state=42)"
   ]
  },
  {
   "cell_type": "markdown",
   "metadata": {},
   "source": [
    "Entrenamos del modelo de regresión logística con los datos de entrenamiento."
   ]
  },
  {
   "cell_type": "code",
   "execution_count": 14,
   "metadata": {},
   "outputs": [
    {
     "data": {
      "text/html": [
       "<style>#sk-container-id-1 {color: black;}#sk-container-id-1 pre{padding: 0;}#sk-container-id-1 div.sk-toggleable {background-color: white;}#sk-container-id-1 label.sk-toggleable__label {cursor: pointer;display: block;width: 100%;margin-bottom: 0;padding: 0.3em;box-sizing: border-box;text-align: center;}#sk-container-id-1 label.sk-toggleable__label-arrow:before {content: \"▸\";float: left;margin-right: 0.25em;color: #696969;}#sk-container-id-1 label.sk-toggleable__label-arrow:hover:before {color: black;}#sk-container-id-1 div.sk-estimator:hover label.sk-toggleable__label-arrow:before {color: black;}#sk-container-id-1 div.sk-toggleable__content {max-height: 0;max-width: 0;overflow: hidden;text-align: left;background-color: #f0f8ff;}#sk-container-id-1 div.sk-toggleable__content pre {margin: 0.2em;color: black;border-radius: 0.25em;background-color: #f0f8ff;}#sk-container-id-1 input.sk-toggleable__control:checked~div.sk-toggleable__content {max-height: 200px;max-width: 100%;overflow: auto;}#sk-container-id-1 input.sk-toggleable__control:checked~label.sk-toggleable__label-arrow:before {content: \"▾\";}#sk-container-id-1 div.sk-estimator input.sk-toggleable__control:checked~label.sk-toggleable__label {background-color: #d4ebff;}#sk-container-id-1 div.sk-label input.sk-toggleable__control:checked~label.sk-toggleable__label {background-color: #d4ebff;}#sk-container-id-1 input.sk-hidden--visually {border: 0;clip: rect(1px 1px 1px 1px);clip: rect(1px, 1px, 1px, 1px);height: 1px;margin: -1px;overflow: hidden;padding: 0;position: absolute;width: 1px;}#sk-container-id-1 div.sk-estimator {font-family: monospace;background-color: #f0f8ff;border: 1px dotted black;border-radius: 0.25em;box-sizing: border-box;margin-bottom: 0.5em;}#sk-container-id-1 div.sk-estimator:hover {background-color: #d4ebff;}#sk-container-id-1 div.sk-parallel-item::after {content: \"\";width: 100%;border-bottom: 1px solid gray;flex-grow: 1;}#sk-container-id-1 div.sk-label:hover label.sk-toggleable__label {background-color: #d4ebff;}#sk-container-id-1 div.sk-serial::before {content: \"\";position: absolute;border-left: 1px solid gray;box-sizing: border-box;top: 0;bottom: 0;left: 50%;z-index: 0;}#sk-container-id-1 div.sk-serial {display: flex;flex-direction: column;align-items: center;background-color: white;padding-right: 0.2em;padding-left: 0.2em;position: relative;}#sk-container-id-1 div.sk-item {position: relative;z-index: 1;}#sk-container-id-1 div.sk-parallel {display: flex;align-items: stretch;justify-content: center;background-color: white;position: relative;}#sk-container-id-1 div.sk-item::before, #sk-container-id-1 div.sk-parallel-item::before {content: \"\";position: absolute;border-left: 1px solid gray;box-sizing: border-box;top: 0;bottom: 0;left: 50%;z-index: -1;}#sk-container-id-1 div.sk-parallel-item {display: flex;flex-direction: column;z-index: 1;position: relative;background-color: white;}#sk-container-id-1 div.sk-parallel-item:first-child::after {align-self: flex-end;width: 50%;}#sk-container-id-1 div.sk-parallel-item:last-child::after {align-self: flex-start;width: 50%;}#sk-container-id-1 div.sk-parallel-item:only-child::after {width: 0;}#sk-container-id-1 div.sk-dashed-wrapped {border: 1px dashed gray;margin: 0 0.4em 0.5em 0.4em;box-sizing: border-box;padding-bottom: 0.4em;background-color: white;}#sk-container-id-1 div.sk-label label {font-family: monospace;font-weight: bold;display: inline-block;line-height: 1.2em;}#sk-container-id-1 div.sk-label-container {text-align: center;}#sk-container-id-1 div.sk-container {/* jupyter's `normalize.less` sets `[hidden] { display: none; }` but bootstrap.min.css set `[hidden] { display: none !important; }` so we also need the `!important` here to be able to override the default hidden behavior on the sphinx rendered scikit-learn.org. See: https://github.com/scikit-learn/scikit-learn/issues/21755 */display: inline-block !important;position: relative;}#sk-container-id-1 div.sk-text-repr-fallback {display: none;}</style><div id=\"sk-container-id-1\" class=\"sk-top-container\"><div class=\"sk-text-repr-fallback\"><pre>LogisticRegression()</pre><b>In a Jupyter environment, please rerun this cell to show the HTML representation or trust the notebook. <br />On GitHub, the HTML representation is unable to render, please try loading this page with nbviewer.org.</b></div><div class=\"sk-container\" hidden><div class=\"sk-item\"><div class=\"sk-estimator sk-toggleable\"><input class=\"sk-toggleable__control sk-hidden--visually\" id=\"sk-estimator-id-1\" type=\"checkbox\" checked><label for=\"sk-estimator-id-1\" class=\"sk-toggleable__label sk-toggleable__label-arrow\">LogisticRegression</label><div class=\"sk-toggleable__content\"><pre>LogisticRegression()</pre></div></div></div></div></div>"
      ],
      "text/plain": [
       "LogisticRegression()"
      ]
     },
     "execution_count": 14,
     "metadata": {},
     "output_type": "execute_result"
    }
   ],
   "source": [
    "from sklearn.linear_model import LogisticRegression\n",
    "\n",
    "clf = LogisticRegression()\n",
    "clf.fit(X_train, y_train)"
   ]
  },
  {
   "cell_type": "markdown",
   "metadata": {},
   "source": [
    "Comprobamos la exactitud del modelo con el conjunto de test."
   ]
  },
  {
   "cell_type": "code",
   "execution_count": 15,
   "metadata": {},
   "outputs": [
    {
     "name": "stdout",
     "output_type": "stream",
     "text": [
      "Predicciones: [0 1 0]\n",
      "Probabilidades de las predicciones:\n",
      "[[0.50582455 0.49417545]\n",
      " [0.43805942 0.56194058]\n",
      " [0.63766643 0.36233357]]\n",
      "Etiquetas reales: [0, 1, 0]\n",
      "Exactitud del modelo: 100.00%\n"
     ]
    }
   ],
   "source": [
    "from sklearn.metrics import accuracy_score\n",
    "\n",
    "predicciones = clf.predict(X_test)\n",
    "predicciones_proba = clf.predict_proba(X_test)\n",
    "\n",
    "print(f\"Predicciones: {predicciones}\")\n",
    "print(\"Probabilidades de las predicciones:\") \n",
    "print(predicciones_proba)\n",
    "print(f\"Etiquetas reales: {y_test}\")\n",
    "\n",
    "exactitud = accuracy_score(y_test, predicciones)\n",
    "print(f\"Exactitud del modelo: {exactitud * 100:.2f}%\")"
   ]
  },
  {
   "cell_type": "markdown",
   "metadata": {},
   "source": [
    "## **Regresión lineal en Pytorch**"
   ]
  },
  {
   "cell_type": "code",
   "execution_count": 426,
   "metadata": {},
   "outputs": [],
   "source": [
    "import torch\n",
    "import torch.nn as nn\n",
    "import torch.optim as optim\n",
    "\n",
    "torch.manual_seed(666)\n",
    "\n",
    "# Definición del modelo\n",
    "class LogisticRegression(nn.Module):\n",
    "    def __init__(self, input_dim):\n",
    "        super(LogisticRegression, self).__init__()\n",
    "        self.linear = nn.Linear(input_dim, 1)\n",
    "    \n",
    "    def forward(self, x):\n",
    "        return torch.sigmoid(self.linear(x))\n"
   ]
  },
  {
   "cell_type": "code",
   "execution_count": 427,
   "metadata": {},
   "outputs": [
    {
     "name": "stdout",
     "output_type": "stream",
     "text": [
      "Epoch [10/100], Loss: 0.5634\n",
      "Epoch [20/100], Loss: 0.4874\n",
      "Epoch [30/100], Loss: 0.4272\n",
      "Epoch [40/100], Loss: 0.3787\n",
      "Epoch [50/100], Loss: 0.3390\n",
      "Epoch [60/100], Loss: 0.3061\n",
      "Epoch [70/100], Loss: 0.2785\n",
      "Epoch [80/100], Loss: 0.2550\n",
      "Epoch [90/100], Loss: 0.2349\n",
      "Epoch [100/100], Loss: 0.2174\n"
     ]
    }
   ],
   "source": [
    "# Suponiendo X_train y y_train son tus datos de entrenamiento\n",
    "X_train_tensor = torch.tensor(X_train.toarray(), dtype=torch.float32)\n",
    "y_train_tensor = torch.tensor(y_train, dtype=torch.float32)\n",
    "\n",
    "# Parámetros\n",
    "input_dim = X_train.toarray().shape[1]\n",
    "learning_rate = 0.1\n",
    "epochs = 100\n",
    "\n",
    "# Modelo, función de pérdida y optimizador\n",
    "model = LogisticRegression(input_dim)\n",
    "criterion = nn.BCELoss()  # Binary Cross Entropy Loss\n",
    "# criterion = nn.MSELoss()  # Mean Squared Error Loss\n",
    "optimizer = optim.SGD(model.parameters(), lr=learning_rate)\n",
    "\n",
    "# Entrenamiento\n",
    "for epoch in range(epochs):\n",
    "    # Forward pass\n",
    "    outputs = model(X_train_tensor)\n",
    "    loss = criterion(outputs.squeeze(), y_train_tensor)\n",
    "    \n",
    "    # Backward pass and optimization\n",
    "    optimizer.zero_grad()\n",
    "    loss.backward()\n",
    "    optimizer.step()\n",
    "    \n",
    "    # Imprimir la pérdida cada 10 épocas\n",
    "    if (epoch+1) % 10 == 0:\n",
    "        print(f'Epoch [{epoch+1}/{epochs}], Loss: {loss.item():.4f}')\n"
   ]
  },
  {
   "cell_type": "code",
   "execution_count": 428,
   "metadata": {},
   "outputs": [
    {
     "name": "stdout",
     "output_type": "stream",
     "text": [
      "Labels:  tensor([0., 1., 0.])\n",
      "Predicted:  tensor([0.4965, 0.5640, 0.2773])\n",
      "Accuracy: 100.00%\n"
     ]
    }
   ],
   "source": [
    "# Suponiendo X_test y y_test son tus datos de prueba\n",
    "X_test_tensor = torch.tensor(X_test.toarray(), dtype=torch.float32)\n",
    "y_test_tensor = torch.tensor(y_test, dtype=torch.float32)\n",
    "\n",
    "print(\"Labels: \", y_test_tensor)\n",
    "# Evaluar el modelo\n",
    "with torch.no_grad():\n",
    "    test_outputs = model(X_test_tensor)\n",
    "    print(\"Predicted: \", test_outputs.squeeze())\n",
    "    predicted = test_outputs.round()  # Clasifica como 1 si la salida > 0.5, de lo contrario 0\n",
    "    accuracy = (predicted.squeeze() == y_test_tensor).sum().item() / y_test_tensor.size(0)\n",
    "    print(f'Accuracy: {accuracy * 100:.2f}%')\n"
   ]
  },
  {
   "cell_type": "markdown",
   "metadata": {},
   "source": []
  },
  {
   "cell_type": "code",
   "execution_count": 10,
   "metadata": {},
   "outputs": [
    {
     "name": "stderr",
     "output_type": "stream",
     "text": [
      "/Library/Frameworks/Python.framework/Versions/3.10/lib/python3.10/site-packages/sklearn/base.py:450: UserWarning:\n",
      "\n",
      "X does not have valid feature names, but LogisticRegression was fitted with feature names\n",
      "\n"
     ]
    },
    {
     "data": {
      "application/vnd.plotly.v1+json": {
       "config": {
        "plotlyServerURL": "https://plot.ly"
       },
       "data": [
        {
         "hovertemplate": "x1=%{x}<br>x2=%{y}<br>y=%{marker.color}<extra></extra>",
         "legendgroup": "",
         "marker": {
          "color": [
           0,
           0,
           0,
           0,
           0,
           1,
           1,
           1,
           1,
           1
          ],
          "coloraxis": "coloraxis",
          "symbol": "circle"
         },
         "mode": "markers",
         "name": "",
         "scene": "scene",
         "showlegend": false,
         "type": "scatter3d",
         "x": [
          5,
          7,
          8,
          6,
          5,
          3,
          4,
          2,
          1,
          3
         ],
         "y": [
          5,
          6,
          7,
          8,
          5,
          3,
          2,
          1,
          4,
          2
         ],
         "z": [
          0,
          0,
          0,
          0,
          0,
          1,
          1,
          1,
          1,
          1
         ]
        },
        {
         "colorscale": [
          [
           0,
           "#440154"
          ],
          [
           0.1111111111111111,
           "#482878"
          ],
          [
           0.2222222222222222,
           "#3e4989"
          ],
          [
           0.3333333333333333,
           "#31688e"
          ],
          [
           0.4444444444444444,
           "#26828e"
          ],
          [
           0.5555555555555556,
           "#1f9e89"
          ],
          [
           0.6666666666666666,
           "#35b779"
          ],
          [
           0.7777777777777778,
           "#6ece58"
          ],
          [
           0.8888888888888888,
           "#b5de2b"
          ],
          [
           1,
           "#fde725"
          ]
         ],
         "opacity": 0.5,
         "type": "surface",
         "x": [
          [
           -5,
           -4,
           -3,
           -2,
           -1,
           0,
           1,
           2,
           3,
           4,
           5,
           6,
           7,
           8,
           9,
           10,
           11,
           12,
           13,
           14
          ],
          [
           -5,
           -4,
           -3,
           -2,
           -1,
           0,
           1,
           2,
           3,
           4,
           5,
           6,
           7,
           8,
           9,
           10,
           11,
           12,
           13,
           14
          ],
          [
           -5,
           -4,
           -3,
           -2,
           -1,
           0,
           1,
           2,
           3,
           4,
           5,
           6,
           7,
           8,
           9,
           10,
           11,
           12,
           13,
           14
          ],
          [
           -5,
           -4,
           -3,
           -2,
           -1,
           0,
           1,
           2,
           3,
           4,
           5,
           6,
           7,
           8,
           9,
           10,
           11,
           12,
           13,
           14
          ],
          [
           -5,
           -4,
           -3,
           -2,
           -1,
           0,
           1,
           2,
           3,
           4,
           5,
           6,
           7,
           8,
           9,
           10,
           11,
           12,
           13,
           14
          ],
          [
           -5,
           -4,
           -3,
           -2,
           -1,
           0,
           1,
           2,
           3,
           4,
           5,
           6,
           7,
           8,
           9,
           10,
           11,
           12,
           13,
           14
          ],
          [
           -5,
           -4,
           -3,
           -2,
           -1,
           0,
           1,
           2,
           3,
           4,
           5,
           6,
           7,
           8,
           9,
           10,
           11,
           12,
           13,
           14
          ],
          [
           -5,
           -4,
           -3,
           -2,
           -1,
           0,
           1,
           2,
           3,
           4,
           5,
           6,
           7,
           8,
           9,
           10,
           11,
           12,
           13,
           14
          ],
          [
           -5,
           -4,
           -3,
           -2,
           -1,
           0,
           1,
           2,
           3,
           4,
           5,
           6,
           7,
           8,
           9,
           10,
           11,
           12,
           13,
           14
          ],
          [
           -5,
           -4,
           -3,
           -2,
           -1,
           0,
           1,
           2,
           3,
           4,
           5,
           6,
           7,
           8,
           9,
           10,
           11,
           12,
           13,
           14
          ],
          [
           -5,
           -4,
           -3,
           -2,
           -1,
           0,
           1,
           2,
           3,
           4,
           5,
           6,
           7,
           8,
           9,
           10,
           11,
           12,
           13,
           14
          ],
          [
           -5,
           -4,
           -3,
           -2,
           -1,
           0,
           1,
           2,
           3,
           4,
           5,
           6,
           7,
           8,
           9,
           10,
           11,
           12,
           13,
           14
          ],
          [
           -5,
           -4,
           -3,
           -2,
           -1,
           0,
           1,
           2,
           3,
           4,
           5,
           6,
           7,
           8,
           9,
           10,
           11,
           12,
           13,
           14
          ],
          [
           -5,
           -4,
           -3,
           -2,
           -1,
           0,
           1,
           2,
           3,
           4,
           5,
           6,
           7,
           8,
           9,
           10,
           11,
           12,
           13,
           14
          ],
          [
           -5,
           -4,
           -3,
           -2,
           -1,
           0,
           1,
           2,
           3,
           4,
           5,
           6,
           7,
           8,
           9,
           10,
           11,
           12,
           13,
           14
          ],
          [
           -5,
           -4,
           -3,
           -2,
           -1,
           0,
           1,
           2,
           3,
           4,
           5,
           6,
           7,
           8,
           9,
           10,
           11,
           12,
           13,
           14
          ],
          [
           -5,
           -4,
           -3,
           -2,
           -1,
           0,
           1,
           2,
           3,
           4,
           5,
           6,
           7,
           8,
           9,
           10,
           11,
           12,
           13,
           14
          ],
          [
           -5,
           -4,
           -3,
           -2,
           -1,
           0,
           1,
           2,
           3,
           4,
           5,
           6,
           7,
           8,
           9,
           10,
           11,
           12,
           13,
           14
          ],
          [
           -5,
           -4,
           -3,
           -2,
           -1,
           0,
           1,
           2,
           3,
           4,
           5,
           6,
           7,
           8,
           9,
           10,
           11,
           12,
           13,
           14
          ],
          [
           -5,
           -4,
           -3,
           -2,
           -1,
           0,
           1,
           2,
           3,
           4,
           5,
           6,
           7,
           8,
           9,
           10,
           11,
           12,
           13,
           14
          ]
         ],
         "y": [
          [
           -5,
           -5,
           -5,
           -5,
           -5,
           -5,
           -5,
           -5,
           -5,
           -5,
           -5,
           -5,
           -5,
           -5,
           -5,
           -5,
           -5,
           -5,
           -5,
           -5
          ],
          [
           -4,
           -4,
           -4,
           -4,
           -4,
           -4,
           -4,
           -4,
           -4,
           -4,
           -4,
           -4,
           -4,
           -4,
           -4,
           -4,
           -4,
           -4,
           -4,
           -4
          ],
          [
           -3,
           -3,
           -3,
           -3,
           -3,
           -3,
           -3,
           -3,
           -3,
           -3,
           -3,
           -3,
           -3,
           -3,
           -3,
           -3,
           -3,
           -3,
           -3,
           -3
          ],
          [
           -2,
           -2,
           -2,
           -2,
           -2,
           -2,
           -2,
           -2,
           -2,
           -2,
           -2,
           -2,
           -2,
           -2,
           -2,
           -2,
           -2,
           -2,
           -2,
           -2
          ],
          [
           -1,
           -1,
           -1,
           -1,
           -1,
           -1,
           -1,
           -1,
           -1,
           -1,
           -1,
           -1,
           -1,
           -1,
           -1,
           -1,
           -1,
           -1,
           -1,
           -1
          ],
          [
           0,
           0,
           0,
           0,
           0,
           0,
           0,
           0,
           0,
           0,
           0,
           0,
           0,
           0,
           0,
           0,
           0,
           0,
           0,
           0
          ],
          [
           1,
           1,
           1,
           1,
           1,
           1,
           1,
           1,
           1,
           1,
           1,
           1,
           1,
           1,
           1,
           1,
           1,
           1,
           1,
           1
          ],
          [
           2,
           2,
           2,
           2,
           2,
           2,
           2,
           2,
           2,
           2,
           2,
           2,
           2,
           2,
           2,
           2,
           2,
           2,
           2,
           2
          ],
          [
           3,
           3,
           3,
           3,
           3,
           3,
           3,
           3,
           3,
           3,
           3,
           3,
           3,
           3,
           3,
           3,
           3,
           3,
           3,
           3
          ],
          [
           4,
           4,
           4,
           4,
           4,
           4,
           4,
           4,
           4,
           4,
           4,
           4,
           4,
           4,
           4,
           4,
           4,
           4,
           4,
           4
          ],
          [
           5,
           5,
           5,
           5,
           5,
           5,
           5,
           5,
           5,
           5,
           5,
           5,
           5,
           5,
           5,
           5,
           5,
           5,
           5,
           5
          ],
          [
           6,
           6,
           6,
           6,
           6,
           6,
           6,
           6,
           6,
           6,
           6,
           6,
           6,
           6,
           6,
           6,
           6,
           6,
           6,
           6
          ],
          [
           7,
           7,
           7,
           7,
           7,
           7,
           7,
           7,
           7,
           7,
           7,
           7,
           7,
           7,
           7,
           7,
           7,
           7,
           7,
           7
          ],
          [
           8,
           8,
           8,
           8,
           8,
           8,
           8,
           8,
           8,
           8,
           8,
           8,
           8,
           8,
           8,
           8,
           8,
           8,
           8,
           8
          ],
          [
           9,
           9,
           9,
           9,
           9,
           9,
           9,
           9,
           9,
           9,
           9,
           9,
           9,
           9,
           9,
           9,
           9,
           9,
           9,
           9
          ],
          [
           10,
           10,
           10,
           10,
           10,
           10,
           10,
           10,
           10,
           10,
           10,
           10,
           10,
           10,
           10,
           10,
           10,
           10,
           10,
           10
          ],
          [
           11,
           11,
           11,
           11,
           11,
           11,
           11,
           11,
           11,
           11,
           11,
           11,
           11,
           11,
           11,
           11,
           11,
           11,
           11,
           11
          ],
          [
           12,
           12,
           12,
           12,
           12,
           12,
           12,
           12,
           12,
           12,
           12,
           12,
           12,
           12,
           12,
           12,
           12,
           12,
           12,
           12
          ],
          [
           13,
           13,
           13,
           13,
           13,
           13,
           13,
           13,
           13,
           13,
           13,
           13,
           13,
           13,
           13,
           13,
           13,
           13,
           13,
           13
          ],
          [
           14,
           14,
           14,
           14,
           14,
           14,
           14,
           14,
           14,
           14,
           14,
           14,
           14,
           14,
           14,
           14,
           14,
           14,
           14,
           14
          ]
         ],
         "z": [
          [
           0.9999998669741951,
           0.9999996974255899,
           0.9999993117782378,
           0.9999984346033721,
           0.9999964394269437,
           0.9999919013187947,
           0.9999815792972462,
           0.9999581020888061,
           0.9999047060005899,
           0.9997832749145508,
           0.9995071830815688,
           0.9988797646371529,
           0.9974555963624734,
           0.994231322619503,
           0.9869745973117409,
           0.97085683274418,
           0.9360863192419527,
           0.8655752776073651,
           0.7389668631596705,
           0.5544881153589358
          ],
          [
           0.9999996673676673,
           0.9999992434099056,
           0.9999982790961511,
           0.999996085718755,
           0.999991096797858,
           0.9999797494100723,
           0.9999539401155888,
           0.9998952404262931,
           0.9997617504372774,
           0.9994582528602124,
           0.9987686167839369,
           0.9972035405407198,
           0.9936618907123778,
           0.9856991502018057,
           0.9680542183783931,
           0.9301803942917539,
           0.8541688463076801,
           0.7202889099239927,
           0.5309879523574843,
           0.3323282681827669
          ],
          [
           0.9999991682498307,
           0.9999981081408007,
           0.9999956968732604,
           0.9999902123567981,
           0.9999777377484804,
           0.9999493647293058,
           0.9998848347426728,
           0.9997380887743141,
           0.9994044674077035,
           0.998646455972679,
           0.9969265922930564,
           0.993036643288484,
           0.984300797919104,
           0.9649918032873565,
           0.923773174066797,
           0.8419712435959198,
           0.700815574533057,
           0.5073495463171248,
           0.3116570148659425,
           0.16601071273186485
          ],
          [
           0.9999979202027055,
           0.999995269399958,
           0.9999892400566106,
           0.999975526256497,
           0.9999443348695791,
           0.9998733956017958,
           0.9997120778392296,
           0.9993453455540781,
           0.9985121941084596,
           0.9966223092899683,
           0.9923501907520144,
           0.9827681036069409,
           0.9616474470111186,
           0.9168305472052192,
           0.8289577048862338,
           0.6805877117627597,
           0.4836782335340377,
           0.2917097760169859,
           0.15330919581709565,
           0.07373634592744932
          ],
          [
           0.9999947994616096,
           0.9999881711696911,
           0.9999730950847922,
           0.9999388053988055,
           0.9998608203914762,
           0.9996834845232578,
           0.9992803585694887,
           0.9983646362387971,
           0.996288012891582,
           0.9915966398992536,
           0.9810886491195373,
           0.9579975083045847,
           0.9093176683312435,
           0.8151078411777395,
           0.6596564062010425,
           0.46007993761294413,
           0.2725337564912676,
           0.14141469305646198,
           0.06752316072245745,
           0.030853729296884316
          ],
          [
           0.9999869961015075,
           0.999970422412598,
           0.9999327266974848,
           0.9998469963168328,
           0.9996520526166053,
           0.9992089254894787,
           0.9982024701944356,
           0.9959207659730138,
           0.9907695503403199,
           0.9792489678430398,
           0.9540168215814677,
           0.9011992687653946,
           0.8004065313472082,
           0.638082858393795,
           0.43665928062750003,
           0.25416595661595665,
           0.13030100669587907,
           0.0617985826633895,
           0.02814413569455732,
           0.012571735558986545
          ],
          [
           0.9999674842519486,
           0.9999260442194234,
           0.9998317993909986,
           0.9996175005252771,
           0.9991304079862353,
           0.9980242552540021,
           0.9955173488129471,
           0.9898618878788392,
           0.9772344765389598,
           0.9496786912675321,
           0.892440035004202,
           0.784844831249901,
           0.6159379922484137,
           0.41351774330243646,
           0.23663340339010464,
           0.1199387268859669,
           0.056529909169947795,
           0.025666198359604552,
           0.011448711455618292,
           0.005065885296459756
          ],
          [
           0.9999186980028422,
           0.9998150933260382,
           0.9995795187635244,
           0.999044104742868,
           0.9978284097464637,
           0.9950742329068639,
           0.9888659747971915,
           0.9750294071095904,
           0.9449549084076885,
           0.8830050599179784,
           0.7684208723354528,
           0.5933017722157841,
           0.39075194225219523,
           0.219953592404211,
           0.11029600571799089,
           0.05168567383768528,
           0.023401176608703313,
           0.010424947153622785,
           0.004610222929245762,
           0.002032118085732241
          ],
          [
           0.9997967283142588,
           0.9995377672001319,
           0.9989492452839391,
           0.9976131974989888,
           0.9945875525632577,
           0.9877734370360268,
           0.9726167394252594,
           0.9398157944107695,
           0.8728603701950792,
           0.7511407174221191,
           0.570262232262665,
           0.3684520849006162,
           0.2041351016921508,
           0.10133926118493994,
           0.04723577376409201,
           0.02133166500934629,
           0.009491850678284305,
           0.004195373306057558,
           0.0018488276109951628,
           0.0008136735633740221
          ],
          [
           0.9994918720347021,
           0.998844983211356,
           0.9973767130313116,
           0.9940530741398352,
           0.9865751483097249,
           0.9699781366327728,
           0.9342302773358045,
           0.861973531554914,
           0.7330191369896983,
           0.546914233433659,
           0.3467006517396171,
           0.1891783368068599,
           0.09303380546041749,
           0.04315155663537384,
           0.019441529747313648,
           0.00864154271334517,
           0.0038177106346958946,
           0.0016820414794087878,
           0.0007402013276822956,
           0.0003255619624695821
          ],
          [
           0.9987303887903318,
           0.9971168653910896,
           0.9934661627776715,
           0.9852611712666297,
           0.9670938846859293,
           0.9281660065919293,
           0.8503143305952409,
           0.7140802663637764,
           0.523357981817614,
           0.32557134207804167,
           0.1750763669322097,
           0.08534439543805915,
           0.03940587356956833,
           0.01771584203036273,
           0.007866802861436532,
           0.0034739261220925874,
           0.0015302783634805893,
           0.0006733589393823188,
           0.00029615164886471763,
           0.00013022364833327655
          ],
          [
           0.9968313605181112,
           0.9928217464952032,
           0.9838206958868267,
           0.9639428382044243,
           0.9215895122990027,
           0.8378555287950804,
           0.6943581030016078,
           0.4996973527699281,
           0.3051283045781881,
           0.16181581434262604,
           0.07823570633332573,
           0.03597310326629824,
           0.01614081003869139,
           0.007161019003968034,
           0.00316100114257212,
           0.0013921890627665097,
           0.0006125489180466642,
           0.00026939746082224565,
           0.00011845753455650943,
           0.000052082898380619876
          ],
          [
           0.9921142775116347,
           0.9822419754137804,
           0.9605023751773106,
           0.9144664157855057,
           0.8245736801685319,
           0.6738968042421843,
           0.47603807908186796,
           0.2854256589022147,
           0.1493777634748955,
           0.07167273134353701,
           0.032829152505076856,
           0.014703710640985756,
           0.00651813976359847,
           0.0028761825233756836,
           0.0012665448616528397,
           0.0005572274950524404,
           0.0002450596399288026,
           0.00010775441137754414,
           0.000047376711136988104,
           0.000020829558510127625
          ],
          [
           0.9805122602424923,
           0.9567483634798464,
           0.9067616977217414,
           0.8104499994204876,
           0.6527507497309654,
           0.45248586934692075,
           0.2665073008146903,
           0.13773866075893823,
           0.06562111194870313,
           0.029951437497675072,
           0.013392821843220147,
           0.005932630028025937,
           0.002616959807793808,
           0.00115222688823826,
           0.0005068998079944362,
           0.00022292004854474606,
           0.00009801826439151984,
           0.00004309575452601482,
           0.00001894735547231389,
           0.000008330227081565797
          ],
          [
           0.952655142663626,
           0.8984400301270169,
           0.7954712623297053,
           0.6309843394753412,
           0.4291445272404956,
           0.248406971019799,
           0.1268711816875119,
           0.060047404491839394,
           0.027318850062043536,
           0.01219735672259965,
           0.005399429459944696,
           0.0023810443602907076,
           0.001048216392552333,
           0.00046111552108706136,
           0.00020278022377820222,
           0.00008916174826367335,
           0.000039201609717705496,
           0.000017235229357326656,
           0.000007577481554835529,
           0.000003331427437889044
          ],
          [
           0.889466177868417,
           0.7796307147007397,
           0.6086715080882821,
           0.406114142370525,
           0.23114855848049617,
           0.11674504698569521,
           0.054919289288226786,
           0.024911712064705896,
           0.011107399417568062,
           0.0049139138928121886,
           0.0021663501830761324,
           0.0009535858682560374,
           0.0004194648344810912,
           0.0001844596059805357,
           0.00008110540459399312,
           0.00003565932840918942,
           0.000015677812424814694,
           0.000006892756013253135,
           0.000003030387804772914,
           0.000001332301673582363
          ],
          [
           0.7629289608991816,
           0.5858949479032762,
           0.3834894187784298,
           0.2147466022960314,
           0.10732777485662125,
           0.05020572876425403,
           0.022711721088382004,
           0.010113843592999177,
           0.004471859494003116,
           0.0019709763193721036,
           0.0008674909475953112,
           0.0003815748485277166,
           0.00016779392622176797,
           0.00007377695024559679,
           0.000032437119412243536,
           0.000014261125439073726,
           0.000006269904080235975,
           0.000002756551108711075,
           0.0000012119099364539966,
           5.32812331389543e-7
          ],
          [
           0.5627450476575334,
           0.3613581985155993,
           0.1992069524386583,
           0.09858536090977908,
           0.045877081098853176,
           0.02070188982998466,
           0.009208333673974924,
           0.004069409564669581,
           0.0017931907248800707,
           0.0007891630047033629,
           0.0003471062518899815,
           0.00015263373856944082,
           0.0000671106298061947,
           0.00002950606352786806,
           0.000012972452230066385,
           0.000005703334760026328,
           0.0000025074592152668023,
           0.0000011023972327141146,
           4.846653913523408e-7,
           2.1308150392029767e-7
          ],
          [
           0.33980022581036384,
           0.1845275485626533,
           0.0904828813873381,
           0.04190517560658267,
           0.018866481325412264,
           0.008383209038536225,
           0.003703043838052741,
           0.0016314154954765005,
           0.0007179024073644594,
           0.0003157503050446151,
           0.000138843084242829,
           0.00006104662641772959,
           0.000026839854157669943,
           0.000011800225584133276,
           0.000005187962256409794,
           0.0000022808761117601484,
           0.0000010027804955747807,
           4.408691892323891e-7,
           1.93826646681328e-7,
           8.521521730391766e-8
          ],
          [
           0.17069927731415208,
           0.08298501863041936,
           0.0382633557234893,
           0.017190941733253275,
           0.007631451276328943,
           0.0033695501341527686,
           0.0014842133457936462,
           0.0006530723620594079,
           0.00028722609315010776,
           0.00012629827585561708,
           0.00005553052572498253,
           0.000024414561331245324,
           0.000010733923441542018,
           0.0000047191603251341866,
           0.0000020747678363039195,
           9.1216549117926e-7,
           4.0103057637945494e-7,
           1.7631173146034039e-7,
           7.751484442109023e-8,
           3.4079132019283e-8
          ]
         ]
        }
       ],
       "layout": {
        "coloraxis": {
         "colorbar": {
          "title": {
           "text": "y"
          }
         },
         "colorscale": [
          [
           0,
           "#0d0887"
          ],
          [
           0.1111111111111111,
           "#46039f"
          ],
          [
           0.2222222222222222,
           "#7201a8"
          ],
          [
           0.3333333333333333,
           "#9c179e"
          ],
          [
           0.4444444444444444,
           "#bd3786"
          ],
          [
           0.5555555555555556,
           "#d8576b"
          ],
          [
           0.6666666666666666,
           "#ed7953"
          ],
          [
           0.7777777777777778,
           "#fb9f3a"
          ],
          [
           0.8888888888888888,
           "#fdca26"
          ],
          [
           1,
           "#f0f921"
          ]
         ]
        },
        "height": 600,
        "legend": {
         "tracegroupgap": 0
        },
        "scene": {
         "domain": {
          "x": [
           0,
           1
          ],
          "y": [
           0,
           1
          ]
         },
         "xaxis": {
          "title": {
           "text": "x1"
          }
         },
         "yaxis": {
          "title": {
           "text": "x2"
          }
         },
         "zaxis": {
          "title": {
           "text": "y"
          }
         }
        },
        "template": {
         "data": {
          "bar": [
           {
            "error_x": {
             "color": "#2a3f5f"
            },
            "error_y": {
             "color": "#2a3f5f"
            },
            "marker": {
             "line": {
              "color": "#E5ECF6",
              "width": 0.5
             },
             "pattern": {
              "fillmode": "overlay",
              "size": 10,
              "solidity": 0.2
             }
            },
            "type": "bar"
           }
          ],
          "barpolar": [
           {
            "marker": {
             "line": {
              "color": "#E5ECF6",
              "width": 0.5
             },
             "pattern": {
              "fillmode": "overlay",
              "size": 10,
              "solidity": 0.2
             }
            },
            "type": "barpolar"
           }
          ],
          "carpet": [
           {
            "aaxis": {
             "endlinecolor": "#2a3f5f",
             "gridcolor": "white",
             "linecolor": "white",
             "minorgridcolor": "white",
             "startlinecolor": "#2a3f5f"
            },
            "baxis": {
             "endlinecolor": "#2a3f5f",
             "gridcolor": "white",
             "linecolor": "white",
             "minorgridcolor": "white",
             "startlinecolor": "#2a3f5f"
            },
            "type": "carpet"
           }
          ],
          "choropleth": [
           {
            "colorbar": {
             "outlinewidth": 0,
             "ticks": ""
            },
            "type": "choropleth"
           }
          ],
          "contour": [
           {
            "colorbar": {
             "outlinewidth": 0,
             "ticks": ""
            },
            "colorscale": [
             [
              0,
              "#0d0887"
             ],
             [
              0.1111111111111111,
              "#46039f"
             ],
             [
              0.2222222222222222,
              "#7201a8"
             ],
             [
              0.3333333333333333,
              "#9c179e"
             ],
             [
              0.4444444444444444,
              "#bd3786"
             ],
             [
              0.5555555555555556,
              "#d8576b"
             ],
             [
              0.6666666666666666,
              "#ed7953"
             ],
             [
              0.7777777777777778,
              "#fb9f3a"
             ],
             [
              0.8888888888888888,
              "#fdca26"
             ],
             [
              1,
              "#f0f921"
             ]
            ],
            "type": "contour"
           }
          ],
          "contourcarpet": [
           {
            "colorbar": {
             "outlinewidth": 0,
             "ticks": ""
            },
            "type": "contourcarpet"
           }
          ],
          "heatmap": [
           {
            "colorbar": {
             "outlinewidth": 0,
             "ticks": ""
            },
            "colorscale": [
             [
              0,
              "#0d0887"
             ],
             [
              0.1111111111111111,
              "#46039f"
             ],
             [
              0.2222222222222222,
              "#7201a8"
             ],
             [
              0.3333333333333333,
              "#9c179e"
             ],
             [
              0.4444444444444444,
              "#bd3786"
             ],
             [
              0.5555555555555556,
              "#d8576b"
             ],
             [
              0.6666666666666666,
              "#ed7953"
             ],
             [
              0.7777777777777778,
              "#fb9f3a"
             ],
             [
              0.8888888888888888,
              "#fdca26"
             ],
             [
              1,
              "#f0f921"
             ]
            ],
            "type": "heatmap"
           }
          ],
          "heatmapgl": [
           {
            "colorbar": {
             "outlinewidth": 0,
             "ticks": ""
            },
            "colorscale": [
             [
              0,
              "#0d0887"
             ],
             [
              0.1111111111111111,
              "#46039f"
             ],
             [
              0.2222222222222222,
              "#7201a8"
             ],
             [
              0.3333333333333333,
              "#9c179e"
             ],
             [
              0.4444444444444444,
              "#bd3786"
             ],
             [
              0.5555555555555556,
              "#d8576b"
             ],
             [
              0.6666666666666666,
              "#ed7953"
             ],
             [
              0.7777777777777778,
              "#fb9f3a"
             ],
             [
              0.8888888888888888,
              "#fdca26"
             ],
             [
              1,
              "#f0f921"
             ]
            ],
            "type": "heatmapgl"
           }
          ],
          "histogram": [
           {
            "marker": {
             "pattern": {
              "fillmode": "overlay",
              "size": 10,
              "solidity": 0.2
             }
            },
            "type": "histogram"
           }
          ],
          "histogram2d": [
           {
            "colorbar": {
             "outlinewidth": 0,
             "ticks": ""
            },
            "colorscale": [
             [
              0,
              "#0d0887"
             ],
             [
              0.1111111111111111,
              "#46039f"
             ],
             [
              0.2222222222222222,
              "#7201a8"
             ],
             [
              0.3333333333333333,
              "#9c179e"
             ],
             [
              0.4444444444444444,
              "#bd3786"
             ],
             [
              0.5555555555555556,
              "#d8576b"
             ],
             [
              0.6666666666666666,
              "#ed7953"
             ],
             [
              0.7777777777777778,
              "#fb9f3a"
             ],
             [
              0.8888888888888888,
              "#fdca26"
             ],
             [
              1,
              "#f0f921"
             ]
            ],
            "type": "histogram2d"
           }
          ],
          "histogram2dcontour": [
           {
            "colorbar": {
             "outlinewidth": 0,
             "ticks": ""
            },
            "colorscale": [
             [
              0,
              "#0d0887"
             ],
             [
              0.1111111111111111,
              "#46039f"
             ],
             [
              0.2222222222222222,
              "#7201a8"
             ],
             [
              0.3333333333333333,
              "#9c179e"
             ],
             [
              0.4444444444444444,
              "#bd3786"
             ],
             [
              0.5555555555555556,
              "#d8576b"
             ],
             [
              0.6666666666666666,
              "#ed7953"
             ],
             [
              0.7777777777777778,
              "#fb9f3a"
             ],
             [
              0.8888888888888888,
              "#fdca26"
             ],
             [
              1,
              "#f0f921"
             ]
            ],
            "type": "histogram2dcontour"
           }
          ],
          "mesh3d": [
           {
            "colorbar": {
             "outlinewidth": 0,
             "ticks": ""
            },
            "type": "mesh3d"
           }
          ],
          "parcoords": [
           {
            "line": {
             "colorbar": {
              "outlinewidth": 0,
              "ticks": ""
             }
            },
            "type": "parcoords"
           }
          ],
          "pie": [
           {
            "automargin": true,
            "type": "pie"
           }
          ],
          "scatter": [
           {
            "fillpattern": {
             "fillmode": "overlay",
             "size": 10,
             "solidity": 0.2
            },
            "type": "scatter"
           }
          ],
          "scatter3d": [
           {
            "line": {
             "colorbar": {
              "outlinewidth": 0,
              "ticks": ""
             }
            },
            "marker": {
             "colorbar": {
              "outlinewidth": 0,
              "ticks": ""
             }
            },
            "type": "scatter3d"
           }
          ],
          "scattercarpet": [
           {
            "marker": {
             "colorbar": {
              "outlinewidth": 0,
              "ticks": ""
             }
            },
            "type": "scattercarpet"
           }
          ],
          "scattergeo": [
           {
            "marker": {
             "colorbar": {
              "outlinewidth": 0,
              "ticks": ""
             }
            },
            "type": "scattergeo"
           }
          ],
          "scattergl": [
           {
            "marker": {
             "colorbar": {
              "outlinewidth": 0,
              "ticks": ""
             }
            },
            "type": "scattergl"
           }
          ],
          "scattermapbox": [
           {
            "marker": {
             "colorbar": {
              "outlinewidth": 0,
              "ticks": ""
             }
            },
            "type": "scattermapbox"
           }
          ],
          "scatterpolar": [
           {
            "marker": {
             "colorbar": {
              "outlinewidth": 0,
              "ticks": ""
             }
            },
            "type": "scatterpolar"
           }
          ],
          "scatterpolargl": [
           {
            "marker": {
             "colorbar": {
              "outlinewidth": 0,
              "ticks": ""
             }
            },
            "type": "scatterpolargl"
           }
          ],
          "scatterternary": [
           {
            "marker": {
             "colorbar": {
              "outlinewidth": 0,
              "ticks": ""
             }
            },
            "type": "scatterternary"
           }
          ],
          "surface": [
           {
            "colorbar": {
             "outlinewidth": 0,
             "ticks": ""
            },
            "colorscale": [
             [
              0,
              "#0d0887"
             ],
             [
              0.1111111111111111,
              "#46039f"
             ],
             [
              0.2222222222222222,
              "#7201a8"
             ],
             [
              0.3333333333333333,
              "#9c179e"
             ],
             [
              0.4444444444444444,
              "#bd3786"
             ],
             [
              0.5555555555555556,
              "#d8576b"
             ],
             [
              0.6666666666666666,
              "#ed7953"
             ],
             [
              0.7777777777777778,
              "#fb9f3a"
             ],
             [
              0.8888888888888888,
              "#fdca26"
             ],
             [
              1,
              "#f0f921"
             ]
            ],
            "type": "surface"
           }
          ],
          "table": [
           {
            "cells": {
             "fill": {
              "color": "#EBF0F8"
             },
             "line": {
              "color": "white"
             }
            },
            "header": {
             "fill": {
              "color": "#C8D4E3"
             },
             "line": {
              "color": "white"
             }
            },
            "type": "table"
           }
          ]
         },
         "layout": {
          "annotationdefaults": {
           "arrowcolor": "#2a3f5f",
           "arrowhead": 0,
           "arrowwidth": 1
          },
          "autotypenumbers": "strict",
          "coloraxis": {
           "colorbar": {
            "outlinewidth": 0,
            "ticks": ""
           }
          },
          "colorscale": {
           "diverging": [
            [
             0,
             "#8e0152"
            ],
            [
             0.1,
             "#c51b7d"
            ],
            [
             0.2,
             "#de77ae"
            ],
            [
             0.3,
             "#f1b6da"
            ],
            [
             0.4,
             "#fde0ef"
            ],
            [
             0.5,
             "#f7f7f7"
            ],
            [
             0.6,
             "#e6f5d0"
            ],
            [
             0.7,
             "#b8e186"
            ],
            [
             0.8,
             "#7fbc41"
            ],
            [
             0.9,
             "#4d9221"
            ],
            [
             1,
             "#276419"
            ]
           ],
           "sequential": [
            [
             0,
             "#0d0887"
            ],
            [
             0.1111111111111111,
             "#46039f"
            ],
            [
             0.2222222222222222,
             "#7201a8"
            ],
            [
             0.3333333333333333,
             "#9c179e"
            ],
            [
             0.4444444444444444,
             "#bd3786"
            ],
            [
             0.5555555555555556,
             "#d8576b"
            ],
            [
             0.6666666666666666,
             "#ed7953"
            ],
            [
             0.7777777777777778,
             "#fb9f3a"
            ],
            [
             0.8888888888888888,
             "#fdca26"
            ],
            [
             1,
             "#f0f921"
            ]
           ],
           "sequentialminus": [
            [
             0,
             "#0d0887"
            ],
            [
             0.1111111111111111,
             "#46039f"
            ],
            [
             0.2222222222222222,
             "#7201a8"
            ],
            [
             0.3333333333333333,
             "#9c179e"
            ],
            [
             0.4444444444444444,
             "#bd3786"
            ],
            [
             0.5555555555555556,
             "#d8576b"
            ],
            [
             0.6666666666666666,
             "#ed7953"
            ],
            [
             0.7777777777777778,
             "#fb9f3a"
            ],
            [
             0.8888888888888888,
             "#fdca26"
            ],
            [
             1,
             "#f0f921"
            ]
           ]
          },
          "colorway": [
           "#636efa",
           "#EF553B",
           "#00cc96",
           "#ab63fa",
           "#FFA15A",
           "#19d3f3",
           "#FF6692",
           "#B6E880",
           "#FF97FF",
           "#FECB52"
          ],
          "font": {
           "color": "#2a3f5f"
          },
          "geo": {
           "bgcolor": "white",
           "lakecolor": "white",
           "landcolor": "#E5ECF6",
           "showlakes": true,
           "showland": true,
           "subunitcolor": "white"
          },
          "hoverlabel": {
           "align": "left"
          },
          "hovermode": "closest",
          "mapbox": {
           "style": "light"
          },
          "paper_bgcolor": "white",
          "plot_bgcolor": "#E5ECF6",
          "polar": {
           "angularaxis": {
            "gridcolor": "white",
            "linecolor": "white",
            "ticks": ""
           },
           "bgcolor": "#E5ECF6",
           "radialaxis": {
            "gridcolor": "white",
            "linecolor": "white",
            "ticks": ""
           }
          },
          "scene": {
           "xaxis": {
            "backgroundcolor": "#E5ECF6",
            "gridcolor": "white",
            "gridwidth": 2,
            "linecolor": "white",
            "showbackground": true,
            "ticks": "",
            "zerolinecolor": "white"
           },
           "yaxis": {
            "backgroundcolor": "#E5ECF6",
            "gridcolor": "white",
            "gridwidth": 2,
            "linecolor": "white",
            "showbackground": true,
            "ticks": "",
            "zerolinecolor": "white"
           },
           "zaxis": {
            "backgroundcolor": "#E5ECF6",
            "gridcolor": "white",
            "gridwidth": 2,
            "linecolor": "white",
            "showbackground": true,
            "ticks": "",
            "zerolinecolor": "white"
           }
          },
          "shapedefaults": {
           "line": {
            "color": "#2a3f5f"
           }
          },
          "ternary": {
           "aaxis": {
            "gridcolor": "white",
            "linecolor": "white",
            "ticks": ""
           },
           "baxis": {
            "gridcolor": "white",
            "linecolor": "white",
            "ticks": ""
           },
           "bgcolor": "#E5ECF6",
           "caxis": {
            "gridcolor": "white",
            "linecolor": "white",
            "ticks": ""
           }
          },
          "title": {
           "x": 0.05
          },
          "xaxis": {
           "automargin": true,
           "gridcolor": "white",
           "linecolor": "white",
           "ticks": "",
           "title": {
            "standoff": 15
           },
           "zerolinecolor": "white",
           "zerolinewidth": 2
          },
          "yaxis": {
           "automargin": true,
           "gridcolor": "white",
           "linecolor": "white",
           "ticks": "",
           "title": {
            "standoff": 15
           },
           "zerolinecolor": "white",
           "zerolinewidth": 2
          }
         }
        },
        "title": {
         "text": "Regresión Logística en 3D"
        },
        "width": 800
       }
      }
     },
     "metadata": {},
     "output_type": "display_data"
    }
   ],
   "source": [
    "import plotly.express as px\n",
    "import pandas as pd\n",
    "import plotly.graph_objects as go\n",
    "import numpy as np\n",
    "import plotly.io as pio\n",
    "from sklearn.linear_model import LogisticRegression\n",
    "\n",
    "# Ejemplo de regresión logística con visualización en 3D\n",
    "\n",
    "# Datos de ejemplo, observaciones con dos características\n",
    "data = {\n",
    "    \"x1\": [5, 7, 8, 6, 5, 3 , 4, 2, 1, 3],\n",
    "    \"x2\": [5, 6, 7, 8, 5, 3, 2, 1, 4, 2],\n",
    "    \"y\": [0, 0, 0, 0, 0, 1, 1, 1, 1, 1]\n",
    "}\n",
    "\n",
    "df = pd.DataFrame(data)\n",
    "\n",
    "# Regresión logística\n",
    "model = LogisticRegression()\n",
    "X = df[[\"x1\", \"x2\"]]\n",
    "y = df[\"y\"]\n",
    "model.fit(X, y)\n",
    "\n",
    "# Visualización en 3D de los datos y la frontera de decisión\n",
    "fig = px.scatter_3d(df, x='x1', y='x2', z='y', color='y', title='Regresión Logística en 3D', width=800, height=600)\n",
    "import numpy as np\n",
    "xx, yy = np.meshgrid(range(-5, 15), range(-5, 15))\n",
    "zz = model.predict_proba(np.c_[xx.ravel(), yy.ravel()])[:, 1]\n",
    "zz = zz.reshape(xx.shape)\n",
    "fig.add_trace(go.Surface(x=xx, y=yy, z=zz, colorscale='Viridis', opacity=0.5))\n",
    "fig.show()"
   ]
  },
  {
   "cell_type": "code",
   "execution_count": null,
   "metadata": {},
   "outputs": [],
   "source": []
  }
 ],
 "metadata": {
  "kernelspec": {
   "display_name": "Python 3",
   "language": "python",
   "name": "python3"
  },
  "language_info": {
   "codemirror_mode": {
    "name": "ipython",
    "version": 3
   },
   "file_extension": ".py",
   "mimetype": "text/x-python",
   "name": "python",
   "nbconvert_exporter": "python",
   "pygments_lexer": "ipython3",
   "version": "3.10.7"
  },
  "orig_nbformat": 4
 },
 "nbformat": 4,
 "nbformat_minor": 2
}
