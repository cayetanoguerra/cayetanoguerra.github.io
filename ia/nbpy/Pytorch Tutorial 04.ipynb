{
 "cells": [
  {
   "cell_type": "markdown",
   "metadata": {},
   "source": [
    "# Tutorial de Pytorch 4: MNIST\n",
    "\n",
    "https://pytorch.org/tutorials/beginner/nn_tutorial.html"
   ]
  },
  {
   "cell_type": "markdown",
   "metadata": {},
   "source": [
    "### **Dataset**"
   ]
  },
  {
   "cell_type": "code",
   "execution_count": 6,
   "metadata": {},
   "outputs": [],
   "source": [
    "import torch\n",
    "import torch.nn as nn\n",
    "import torch.optim as optim\n",
    "import torchvision\n",
    "import torchvision.transforms as transforms\n",
    "\n",
    "# Parámetros\n",
    "batch_size = 64\n",
    "num_epochs = 5\n",
    "learning_rate = 0.001\n",
    "device = torch.device(\"cuda\" if torch.cuda.is_available() else \"cpu\")\n",
    "\n",
    "# Transformación para el dataset\n",
    "transform = transforms.Compose([transforms.ToTensor(), transforms.Normalize((0.5,), (0.5,))])\n",
    "\n",
    "# Cargar el dataset MNIST\n",
    "train_dataset = torchvision.datasets.MNIST(root='./data', train=True, transform=transform, download=True)\n",
    "train_loader = torch.utils.data.DataLoader(dataset=train_dataset, batch_size=batch_size, shuffle=True)\n",
    "\n",
    "test_dataset = torchvision.datasets.MNIST(root='./data', train=False, transform=transform)\n",
    "test_loader = torch.utils.data.DataLoader(dataset=test_dataset, batch_size=batch_size, shuffle=False)"
   ]
  },
  {
   "cell_type": "markdown",
   "metadata": {},
   "source": [
    "Vamos a visualizar una de las imágenes del dataset MNIST."
   ]
  },
  {
   "cell_type": "code",
   "execution_count": 7,
   "metadata": {},
   "outputs": [
    {
     "name": "stdout",
     "output_type": "stream",
     "text": [
      "Tensor (mini-batch) proveniente del DataLoader:  torch.Size([64, 1, 28, 28])\n",
      "Tamaño de la imagen: torch.Size([1, 28, 28])\n",
      "Etiqueta: tensor(7)\n"
     ]
    },
    {
     "data": {
      "image/png": "[encoded data removed]",
      "text/plain": [
       "<Figure size 640x480 with 1 Axes>"
      ]
     },
     "metadata": {},
     "output_type": "display_data"
    }
   ],
   "source": [
    "from matplotlib import pyplot\n",
    "import numpy as np\n",
    "\n",
    "print(\"Tensor (mini-batch) proveniente del DataLoader: \", next(iter(train_loader))[0].shape)\n",
    "\n",
    "image, label = next(iter(train_loader))\n",
    "\n",
    "pyplot.imshow(image[0].reshape((28, 28)), cmap=\"gray\")\n",
    "print(\"Tamaño de la imagen:\", image[0].shape)\n",
    "print(\"Etiqueta:\", label[0])"
   ]
  },
  {
   "cell_type": "markdown",
   "metadata": {},
   "source": [
    "### **Modelo**\n",
    "\n",
    "Compondremos el modelo como una simple red neuronal feedforward con una sola capa oculta:\n",
    "\n",
    "**Herencia de nn.Module**:\n",
    "\n",
    "La clase Model hereda de nn.Module, que es la clase base para todos los módulos de redes neuronales en PyTorch. Esto proporciona funcionalidades como la gestión de parámetros y utilidades para el entrenamiento y la inferencia.\n",
    "\n",
    "\n",
    "**Constructor __init__**:\n",
    "\n",
    "Aquí es donde se definen las capas y operaciones que componen la red neuronal.\n",
    "\n",
    "- self.fc1 = nn.Linear(input_size, hidden_size): Esta es la primera capa totalmente conectada (o \"dense\") que transforma la entrada de tamaño input_size a un vector de tamaño hidden_size.\n",
    "\n",
    "- self.relu = nn.ReLU(): Esta es la función de activación ReLU (Rectified Linear Unit). Se utiliza para añadir no linealidad al modelo.\n",
    "\n",
    "- self.fc2 = nn.Linear(hidden_size, num_classes): Esta es la segunda capa totalmente conectada que transforma el vector de tamaño hidden_size (salida de la capa oculta) a un vector de tamaño num_classes (probabilidades de las clases en la tarea de clasificación).\n",
    "\n",
    "**Método forward**:\n",
    "\n",
    "Este método define cómo se deben procesar las entradas (x) a través de las capas y operaciones definidas en el constructor.\n",
    "\n",
    "- out = self.fc1(x): La entrada x se pasa a través de la primera capa totalmente conectada.\n",
    "\n",
    "- out = self.relu(out): Luego, la salida de la primera capa pasa por la función de activación ReLU.\n",
    "\n",
    "- out = self.fc2(out): Finalmente, la salida activada se pasa a través de la segunda capa totalmente conectada.\n",
    "    \n",
    "Al final del método forward, se devuelve la salida de la segunda capa totalmente conectada."
   ]
  },
  {
   "cell_type": "code",
   "execution_count": 8,
   "metadata": {},
   "outputs": [],
   "source": [
    "# Definición de la red neuronal\n",
    "class Model(nn.Module):\n",
    "    def __init__(self, input_size, hidden_size, num_classes):\n",
    "        super(Model, self).__init__()\n",
    "        self.fc1 = nn.Linear(input_size, hidden_size)\n",
    "        self.relu = nn.ReLU()\n",
    "        self.fc2 = nn.Linear(hidden_size, num_classes)\n",
    "\n",
    "    def forward(self, x):\n",
    "        out = self.fc1(x)\n",
    "        out = self.relu(out)\n",
    "        out = self.fc2(out)\n",
    "        return out"
   ]
  },
  {
   "cell_type": "markdown",
   "metadata": {},
   "source": [
    "### **Entrenamiento**"
   ]
  },
  {
   "cell_type": "code",
   "execution_count": 9,
   "metadata": {},
   "outputs": [
    {
     "name": "stdout",
     "output_type": "stream",
     "text": [
      "Epoch [1/5], Step [100/938], Loss: 0.6474\n",
      "Epoch [1/5], Step [200/938], Loss: 0.3294\n",
      "Epoch [1/5], Step [300/938], Loss: 0.3347\n",
      "Epoch [1/5], Step [400/938], Loss: 0.4023\n",
      "Epoch [1/5], Step [500/938], Loss: 0.2950\n",
      "Epoch [1/5], Step [600/938], Loss: 0.2578\n",
      "Epoch [1/5], Step [700/938], Loss: 0.3363\n",
      "Epoch [1/5], Step [800/938], Loss: 0.2230\n",
      "Epoch [1/5], Step [900/938], Loss: 0.3976\n",
      "Epoch [2/5], Step [100/938], Loss: 0.2263\n",
      "Epoch [2/5], Step [200/938], Loss: 0.3251\n",
      "Epoch [2/5], Step [300/938], Loss: 0.2840\n",
      "Epoch [2/5], Step [400/938], Loss: 0.2660\n",
      "Epoch [2/5], Step [500/938], Loss: 0.3651\n",
      "Epoch [2/5], Step [600/938], Loss: 0.3809\n",
      "Epoch [2/5], Step [700/938], Loss: 0.2726\n",
      "Epoch [2/5], Step [800/938], Loss: 0.2008\n",
      "Epoch [2/5], Step [900/938], Loss: 0.3138\n",
      "Epoch [3/5], Step [100/938], Loss: 0.3711\n",
      "Epoch [3/5], Step [200/938], Loss: 0.3098\n",
      "Epoch [3/5], Step [300/938], Loss: 0.3544\n",
      "Epoch [3/5], Step [400/938], Loss: 0.2417\n",
      "Epoch [3/5], Step [500/938], Loss: 0.1082\n",
      "Epoch [3/5], Step [600/938], Loss: 0.2050\n",
      "Epoch [3/5], Step [700/938], Loss: 0.3000\n",
      "Epoch [3/5], Step [800/938], Loss: 0.2500\n",
      "Epoch [3/5], Step [900/938], Loss: 0.1087\n",
      "Epoch [4/5], Step [100/938], Loss: 0.3259\n",
      "Epoch [4/5], Step [200/938], Loss: 0.2629\n",
      "Epoch [4/5], Step [300/938], Loss: 0.1895\n",
      "Epoch [4/5], Step [400/938], Loss: 0.1460\n",
      "Epoch [4/5], Step [500/938], Loss: 0.1108\n",
      "Epoch [4/5], Step [600/938], Loss: 0.2382\n",
      "Epoch [4/5], Step [700/938], Loss: 0.1172\n",
      "Epoch [4/5], Step [800/938], Loss: 0.1914\n",
      "Epoch [4/5], Step [900/938], Loss: 0.0312\n",
      "Epoch [5/5], Step [100/938], Loss: 0.3349\n",
      "Epoch [5/5], Step [200/938], Loss: 0.1017\n",
      "Epoch [5/5], Step [300/938], Loss: 0.1241\n",
      "Epoch [5/5], Step [400/938], Loss: 0.2252\n",
      "Epoch [5/5], Step [500/938], Loss: 0.1533\n",
      "Epoch [5/5], Step [600/938], Loss: 0.2207\n",
      "Epoch [5/5], Step [700/938], Loss: 0.2126\n",
      "Epoch [5/5], Step [800/938], Loss: 0.2397\n",
      "Epoch [5/5], Step [900/938], Loss: 0.2161\n"
     ]
    }
   ],
   "source": [
    "\n",
    "# Instanciación del modelo, función de pérdida y optimizador\n",
    "model = Model(28*28, 50, 10).to(device)\n",
    "criterion = nn.CrossEntropyLoss()\n",
    "optimizer = optim.Adam(model.parameters(), lr=learning_rate)\n",
    "\n",
    "# Entrenamiento\n",
    "for epoch in range(num_epochs):\n",
    "    for i, (images, labels) in enumerate(train_loader):\n",
    "        images = images.reshape(-1, 28*28).to(device)\n",
    "        labels = labels.to(device)\n",
    "\n",
    "        # Forward pass\n",
    "        outputs = model(images)\n",
    "        loss = criterion(outputs, labels)\n",
    "\n",
    "        # Backward pass and optimize\n",
    "        optimizer.zero_grad()\n",
    "        loss.backward()\n",
    "        optimizer.step()\n",
    "\n",
    "        if (i+1) % 100 == 0:\n",
    "            print(f'Epoch [{epoch+1}/{num_epochs}], Step [{i+1}/{len(train_loader)}], Loss: {loss.item():.4f}')"
   ]
  },
  {
   "cell_type": "markdown",
   "metadata": {},
   "source": [
    "### **Evaluación**"
   ]
  },
  {
   "cell_type": "code",
   "execution_count": 10,
   "metadata": {},
   "outputs": [
    {
     "name": "stdout",
     "output_type": "stream",
     "text": [
      "Accuracy of the model on the test images: 95.60%\n"
     ]
    }
   ],
   "source": [
    "# Test del modelo\n",
    "model.eval()\n",
    "with torch.no_grad():\n",
    "    correct = 0\n",
    "    total = 0\n",
    "    for images, labels in test_loader:\n",
    "        images = images.reshape(-1, 28*28).to(device)\n",
    "        labels = labels.to(device)\n",
    "        outputs = model(images)\n",
    "        _, predicted = torch.max(outputs.data, 1)\n",
    "        total += labels.size(0)\n",
    "        correct += (predicted == labels).sum().item()\n",
    "\n",
    "    print(f'Accuracy of the model on the test images: {100 * correct / total:.2f}%')"
   ]
  }
 ],
 "metadata": {
  "kernelspec": {
   "display_name": "Python 3",
   "language": "python",
   "name": "python3"
  },
  "language_info": {
   "codemirror_mode": {
    "name": "ipython",
    "version": 3
   },
   "file_extension": ".py",
   "mimetype": "text/x-python",
   "name": "python",
   "nbconvert_exporter": "python",
   "pygments_lexer": "ipython3",
   "version": "3.10.7"
  }
 },
 "nbformat": 4,
 "nbformat_minor": 2
}
