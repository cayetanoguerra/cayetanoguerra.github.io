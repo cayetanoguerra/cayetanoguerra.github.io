{
 "cells": [
  {
   "cell_type": "markdown",
   "id": "4259c45e",
   "metadata": {},
   "source": [
    "# Clips & Python\n",
    "\n",
    "Es posible utilizar Clips como un motor de inferencia desde Python. En este caso, Python suministraría a Clips los datos y hechos de entrada necesarios para procesar una salida. Una de las librerías que permite hacer eso es [clipspy](https://pypi.org/project/clipspy/)."
   ]
  },
  {
   "cell_type": "code",
   "execution_count": 1,
   "id": "b9476964",
   "metadata": {},
   "outputs": [
    {
     "name": "stderr",
     "output_type": "stream",
     "text": [
      "[BLOAD2] File ../sbr/demo-python-clips.clp is not a binary construct file.\n",
      "Hola Mundo!!\n"
     ]
    },
    {
     "data": {
      "text/plain": [
       "1"
      ]
     },
     "execution_count": 1,
     "metadata": {},
     "output_type": "execute_result"
    }
   ],
   "source": [
    "import clips\n",
    "\n",
    "# Para que Clips pueda mostrar mensajes en Jupyter es necesario redirigir la salida.\n",
    "# Esto lo conseguimos mediante \"logging\". \n",
    "import logging\n",
    "\n",
    "logging.basicConfig(level=10, format='%(message)s')\n",
    "\n",
    "env = clips.Environment()\n",
    "\n",
    "router = clips.LoggingRouter()\n",
    "router.add_to_environment(env)\n",
    "\n",
    "env.load('../sbr/demo-python-clips.clp')\n",
    "\n",
    "fact = env.assert_string('(cielo azul)')\n",
    "\n",
    "env.run()"
   ]
  },
  {
   "cell_type": "markdown",
   "id": "f0302bb3",
   "metadata": {},
   "source": [
    "## Interacción con el motor de inferencia\n",
    "\n",
    "A lo largo del tiempo nuevos hechos (eventos) van teniendo lugar. Es necesario informar a Clips de las cosas que van cambiando."
   ]
  },
  {
   "cell_type": "code",
   "execution_count": 22,
   "id": "b26294d2",
   "metadata": {},
   "outputs": [
    {
     "name": "stderr",
     "output_type": "stream",
     "text": [
      "[BLOAD2] File ../sbr/main.clp is not a binary construct file.\n",
      "Encender aire acondicionado de: Sala de Juntas\n",
      "Apagar la luz de: Almacén\n",
      "Encender la luz de: Administración\n",
      "Encender la luz de: Sala de Juntas\n"
     ]
    },
    {
     "data": {
      "text/plain": [
       "6"
      ]
     },
     "execution_count": 22,
     "metadata": {},
     "output_type": "execute_result"
    }
   ],
   "source": [
    "import clips\n",
    "import logging\n",
    "\n",
    "logging.basicConfig(level=10, format='%(message)s')\n",
    "\n",
    "env = clips.Environment()\n",
    "\n",
    "router = clips.LoggingRouter()\n",
    "router.add_to_environment(env)\n",
    "\n",
    "env.load('../sbr/main.clp')\n",
    "env.reset()\n",
    "\n",
    "env.run()\n"
   ]
  },
  {
   "cell_type": "code",
   "execution_count": 3,
   "id": "4e9ce4ba",
   "metadata": {},
   "outputs": [
    {
     "name": "stderr",
     "output_type": "stream",
     "text": [
      "Encender la luz de: Almacén\n"
     ]
    },
    {
     "name": "stdout",
     "output_type": "stream",
     "text": [
      "(deftemplate MAIN::person\n",
      "   (slot id_card (type STRING))\n",
      "   (slot name (type STRING))\n",
      "   (slot surname (type STRING))\n",
      "   (slot location)\n",
      "   (slot cellphone (type STRING)))\n",
      "(person (id_card \"44678678\") (name \"Ana\") (surname \"Peña\") (location \"Almacén\") (cellphone ))\n"
     ]
    },
    {
     "data": {
      "text/plain": [
       "1"
      ]
     },
     "execution_count": 3,
     "metadata": {},
     "output_type": "execute_result"
    }
   ],
   "source": [
    "template = env.find_template('person')\n",
    "\n",
    "print(template)\n",
    "\n",
    "fact = template.new_fact()\n",
    "\n",
    "fact[\"id_card\"]=\"44678678\"\n",
    "fact[\"name\"]=\"Ana\"\n",
    "fact[\"surname\"]=\"Peña\"\n",
    "fact[\"location\"]=\"Almacén\"\n",
    "    \n",
    "print(fact)\n",
    "\n",
    "fact.assertit()\n",
    "\n",
    "env.run()"
   ]
  },
  {
   "cell_type": "code",
   "execution_count": 4,
   "id": "ace0fc5f",
   "metadata": {},
   "outputs": [
    {
     "name": "stderr",
     "output_type": "stream",
     "text": [
      "Apagar la luz de: Almacén\n"
     ]
    },
    {
     "data": {
      "text/plain": [
       "1"
      ]
     },
     "execution_count": 4,
     "metadata": {},
     "output_type": "execute_result"
    }
   ],
   "source": [
    "fact.retract()\n",
    "\n",
    "env.run()"
   ]
  },
  {
   "cell_type": "code",
   "execution_count": 5,
   "id": "29e3aeb7",
   "metadata": {},
   "outputs": [
    {
     "name": "stdout",
     "output_type": "stream",
     "text": [
      "(initial-fact)\n",
      "(person (id_card \"42888777R\") (name \"Juan\") (surname \"Pérez\") (location \"Sala de Juntas\") (cellphone \"619123456\"))\n",
      "(person (id_card \"44555666L\") (name \"Laura\") (surname \"Martínez\") (location \"Sala de Juntas\") (cellphone \"616778899\"))\n",
      "(person (id_card \"43999000L\") (name \"Antonio\") (surname \"Hernández\") (location \"Administración\") (cellphone \"\"))\n",
      "(person (id_card \"45333444K\") (name \"Luis\") (surname \"Sosa\") (location nil) (cellphone \"\"))\n",
      "(location (name \"Sala de Juntas\") (description \"\") (telephone \"928458899\"))\n",
      "(location (name \"Administración\") (description \"\") (telephone \"928111222\"))\n",
      "(location (name \"Almacén\") (description \"\") (telephone \"928000888\"))\n",
      "(temperature 28)\n",
      "(raining no)\n"
     ]
    }
   ],
   "source": [
    "for fact in env.facts():\n",
    "    print(fact)"
   ]
  },
  {
   "cell_type": "markdown",
   "id": "1bac058a",
   "metadata": {},
   "source": [
    "## Funciones"
   ]
  },
  {
   "cell_type": "code",
   "execution_count": 6,
   "id": "adeb5221",
   "metadata": {},
   "outputs": [
    {
     "data": {
      "text/plain": [
       "'TRUE'"
      ]
     },
     "execution_count": 6,
     "metadata": {},
     "output_type": "execute_result"
    }
   ],
   "source": [
    "import clips\n",
    "import logging\n",
    "\n",
    "logging.basicConfig(level=10, format='%(message)s')\n",
    "\n",
    "env = clips.Environment()\n",
    "\n",
    "router = clips.LoggingRouter()\n",
    "router.add_to_environment(env)\n",
    "\n",
    "def suma(a, b):\n",
    "    return a+b\n",
    "\n",
    "env.define_function(suma)\n",
    "\n",
    "env.eval('(> 10 (suma 5 4))')"
   ]
  },
  {
   "cell_type": "markdown",
   "id": "99f7c2ed",
   "metadata": {},
   "source": [
    "## Restricciones"
   ]
  },
  {
   "cell_type": "code",
   "execution_count": 36,
   "id": "b93108cc",
   "metadata": {},
   "outputs": [
    {
     "name": "stderr",
     "output_type": "stream",
     "text": [
      "[BLOAD2] File ../sbr/restricciones.clp is not a binary construct file.\n",
      "4\n",
      "No cruce\n",
      "Cruce con precaución\n"
     ]
    },
    {
     "data": {
      "text/plain": [
       "3"
      ]
     },
     "execution_count": 36,
     "metadata": {},
     "output_type": "execute_result"
    }
   ],
   "source": [
    "import clips\n",
    "import logging\n",
    "\n",
    "logging.basicConfig(level=10, format='%(message)s')\n",
    "\n",
    "env = clips.Environment()\n",
    "\n",
    "router = clips.LoggingRouter()\n",
    "router.add_to_environment(env)\n",
    "\n",
    "env.load('../sbr/restricciones.clp')\n",
    "\n",
    "env.assert_string('(luz amarilla)') # Ejemplo 1\n",
    "env.assert_string('(valor 4)')  # Ejemplo 2\n",
    "\n",
    "env.run()"
   ]
  },
  {
   "cell_type": "code",
   "execution_count": null,
   "id": "85e430b6",
   "metadata": {},
   "outputs": [],
   "source": []
  },
  {
   "cell_type": "code",
   "execution_count": null,
   "id": "c9a562ff",
   "metadata": {},
   "outputs": [],
   "source": []
  },
  {
   "cell_type": "code",
   "execution_count": null,
   "id": "52c7e315",
   "metadata": {},
   "outputs": [],
   "source": []
  }
 ],
 "metadata": {
  "kernelspec": {
   "display_name": "Python 3",
   "language": "python",
   "name": "python3"
  },
  "language_info": {
   "codemirror_mode": {
    "name": "ipython",
    "version": 3
   },
   "file_extension": ".py",
   "mimetype": "text/x-python",
   "name": "python",
   "nbconvert_exporter": "python",
   "pygments_lexer": "ipython3",
   "version": "3.7.3"
  }
 },
 "nbformat": 4,
 "nbformat_minor": 5
}
