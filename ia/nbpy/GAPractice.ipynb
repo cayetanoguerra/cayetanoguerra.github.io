{
 "cells": [
  {
   "cell_type": "markdown",
   "metadata": {},
   "source": [
    "# Práctica sobre algoritmos genéticos\n",
    "\n",
    "<img src=\"imgs/tren.jpg\">\n",
    "\n",
    "\n",
    "Un área ferroviaria de carga/descarga con una única vía de entrada y otra salida se compone de tres muelles de carga/descarga: Op1, Op2 y Op3, correspondientes a contenedores, carbón y gas. Por tanto, cada tren que llega se dirige a un muelle en función de su carga. Un tren tarda en cargar o descargar un tiempo proporcional al número de vagones que arrastra. Cada día llegan secuencialmente n trenes. Si los trenes son de cargas distintas, pueden entrar en paralelo a los muelles. Cuando dos trenes con el mismo tipo de carga se encuentran seguidos, el segundo debe esperar por el primero, así como todos los demás que se encuentren por detrás.\n",
    "\n",
    "\n",
    "Se nos plantea resolver, mediante un algoritmo genético, el problema de la ordenación en la entrada de los trenes para minimizar el tiempo de paso del conjunto de trenes.\n",
    "\n",
    "\n",
    "<img src=\"imgs/docks.jpg\" width=\"70%\">"
   ]
  },
  {
   "cell_type": "code",
   "execution_count": 16,
   "metadata": {},
   "outputs": [],
   "source": [
    "import random\n",
    "import numpy\n",
    "from deap import base, creator, tools, algorithms"
   ]
  },
  {
   "cell_type": "markdown",
   "metadata": {},
   "source": [
    "## Trenes\n",
    "\n",
    "En el siguiente código, <code>random_trains_generation</code> genera los trenes que llegarán en un día. Cada ordenación diferente de este conjunto corresponderá con un **individuo** en nuestro eaquema de algoritmo genético."
   ]
  },
  {
   "cell_type": "code",
   "execution_count": 1,
   "metadata": {},
   "outputs": [],
   "source": [
    "import random\n",
    "from deap import base, creator, tools\n",
    "\n",
    "class Train:\n",
    "    def __init__(self, wagons, op, licence_plate):\n",
    "        self.wagons = wagons\n",
    "        self.op = op\n",
    "        self.licence_plate = licence_plate\n",
    "\n",
    "    def __str__(self):\n",
    "        return \"Número de vagones:\" + str(self.wagons) \n",
    "        + \"\\n\" + \"Muelle de operaciones:\" + str(self.op)\n",
    "        + \"\\n\" + \"Matrícula:\" + str(self.licence_plate)\n",
    "\n",
    "\n",
    "def random_trains_generation(n):\n",
    "\n",
    "    train_list = []\n",
    "    \n",
    "    for i in range(n):\n",
    "        wagons = random.randint(10, 30)  # Cada tren puede arrastrar entre 10 y 30 vagones\n",
    "        op = random.choice([\"op1\", \"op2\", \"op3\"])  # A cada tren se le asigna un tipo de carga\n",
    "        train_list.append(Train(wagons, op, i))\n",
    "\n",
    "    print(len(train_list))\n",
    "    return train_list\n"
   ]
  },
  {
   "cell_type": "code",
   "execution_count": 2,
   "metadata": {},
   "outputs": [
    {
     "name": "stdout",
     "output_type": "stream",
     "text": [
      "25\n",
      "Número de vagones:29\n"
     ]
    }
   ],
   "source": [
    "trains = random_trains_generation(25)\n",
    "    \n",
    "print(trains[7])"
   ]
  },
  {
   "cell_type": "code",
   "execution_count": null,
   "metadata": {},
   "outputs": [],
   "source": []
  }
 ],
 "metadata": {
  "kernelspec": {
   "display_name": "Python 3",
   "language": "python",
   "name": "python3"
  },
  "language_info": {
   "codemirror_mode": {
    "name": "ipython",
    "version": 3
   },
   "file_extension": ".py",
   "mimetype": "text/x-python",
   "name": "python",
   "nbconvert_exporter": "python",
   "pygments_lexer": "ipython3",
   "version": "3.7.3"
  }
 },
 "nbformat": 4,
 "nbformat_minor": 4
}
