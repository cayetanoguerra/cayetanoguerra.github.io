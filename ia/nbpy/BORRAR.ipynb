{
 "cells": [
  {
   "cell_type": "markdown",
   "metadata": {},
   "source": [
    "# Otro ejemplo"
   ]
  },
  {
   "cell_type": "code",
   "execution_count": null,
   "metadata": {},
   "outputs": [],
   "source": [
    "import random\n",
    "import numpy\n",
    "from deap import base, creator, tools, algorithms\n",
    "\n",
    "creator.create(\"FitnessMax\", base.Fitness, weights=(-1.0, -1.0, 1.0, 1.0))  # Precio, peso, volumen, presión \n",
    "creator.create(\"Individual\", list, fitness=creator.FitnessMax)"
   ]
  },
  {
   "cell_type": "markdown",
   "metadata": {},
   "source": [
    "### Individuo\n",
    "\n",
    "- Radio del cilindro (mm)\n",
    "- Altura del cilindro (mm)\n",
    "- Grosor (mm)\n",
    "- Densidad (gr/cm3)\n",
    "\n",
    "Condiciones:\n",
    "La altura siempre debe ser mayor o igual que el radio\n",
    "el radio siempre debe ser, como mínimo, 10 veces mayor que el espesor"
   ]
  },
  {
   "cell_type": "code",
   "execution_count": null,
   "metadata": {},
   "outputs": [],
   "source": [
    "ind = creator.Individual([14.7, 39.65, 0.96, 7.5])\n",
    "\n",
    "print(ind)\n",
    "print(type(ind))\n",
    "print(type(ind.fitness))"
   ]
  },
  {
   "cell_type": "code",
   "execution_count": null,
   "metadata": {},
   "outputs": [],
   "source": [
    "def evalOneMax(individual):\n",
    "    return individual[0] + individual[1] - (individual[2]*individual[3]),"
   ]
  },
  {
   "cell_type": "code",
   "execution_count": null,
   "metadata": {},
   "outputs": [],
   "source": [
    "def rand():\n",
    "    return random.random() * 10"
   ]
  },
  {
   "cell_type": "code",
   "execution_count": null,
   "metadata": {},
   "outputs": [],
   "source": [
    "toolbox = base.Toolbox()\n",
    "toolbox.register(\"attr_float\", rand)\n",
    "toolbox.register(\"individual\", tools.initRepeat, creator.Individual, toolbox.attr_float, n=4)\n",
    "toolbox.register(\"population\", tools.initRepeat, list, toolbox.individual)\n",
    "\n",
    "toolbox.register(\"evaluate\", evalOneMax)\n",
    "toolbox.register(\"mate\", tools.cxTwoPoint)\n",
    "toolbox.register(\"mutate\", tools.mutGaussian, mu=0, sigma=1, indpb=0.5)\n",
    "toolbox.register(\"select\", tools.selTournament, tournsize=3)\n",
    "\n",
    "bit = toolbox.attr_float()\n",
    "pop = toolbox.population(n=50)"
   ]
  },
  {
   "cell_type": "code",
   "execution_count": null,
   "metadata": {},
   "outputs": [],
   "source": [
    "indi = tools.initRepeat(list, rand, n=5)\n",
    "print(indi)\n",
    "toolbox.mutate(indi)\n",
    "print(\"--------------------\")\n",
    "print(indi)"
   ]
  },
  {
   "cell_type": "code",
   "execution_count": null,
   "metadata": {},
   "outputs": [],
   "source": [
    "indi1 = tools.initRepeat(list, rand, n=5)\n",
    "indi2 = tools.initRepeat(list, rand, n=5)\n",
    "\n",
    "print(indi1)\n",
    "print(indi2)\n",
    "print(\"--------------------------\")\n",
    "\n",
    "toolbox.mate(indi1, indi2)\n",
    "\n",
    "print(indi1)\n",
    "print(indi2)"
   ]
  },
  {
   "cell_type": "code",
   "execution_count": null,
   "metadata": {},
   "outputs": [],
   "source": [
    "def checkBounds(min, max):\n",
    "    def decorator(func):\n",
    "        def wrapper(*args):\n",
    "            offspring = func(*args)\n",
    "            for child in offspring:\n",
    "                for e in child:\n",
    "                    if e > max:\n",
    "                        e = max\n",
    "                    elif e < min:\n",
    "                        e = min\n",
    "            return offspring\n",
    "        return wrapper\n",
    "    return decorator\n",
    "\n",
    "\n",
    "toolbox.register(\"mutate2\", tools.mutGaussian, mu=0, sigma=2, indpb=0.5)\n",
    "toolbox.decorate(\"mutate2\", checkBounds(1., 2.))"
   ]
  },
  {
   "cell_type": "code",
   "execution_count": null,
   "metadata": {},
   "outputs": [],
   "source": [
    "indi = tools.initRepeat(list, rand, n=5)\n",
    "print(indi)\n",
    "toolbox.mutate2(indi)\n",
    "print(\"--------------------\")\n",
    "print(indi)"
   ]
  }
 ],
 "metadata": {
  "kernelspec": {
   "display_name": "Python 3",
   "language": "python",
   "name": "python3"
  },
  "language_info": {
   "codemirror_mode": {
    "name": "ipython",
    "version": 3
   },
   "file_extension": ".py",
   "mimetype": "text/x-python",
   "name": "python",
   "nbconvert_exporter": "python",
   "pygments_lexer": "ipython3",
   "version": "3.7.6"
  }
 },
 "nbformat": 4,
 "nbformat_minor": 4
}
