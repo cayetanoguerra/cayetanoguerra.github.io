{
 "cells": [
  {
   "cell_type": "markdown",
   "metadata": {},
   "source": [
    "# t-SNE\n",
    "t-Distributed Stochastic Neighbor Embedding (t-SNE)\n",
    "\n",
    "Buen vídeo básico de introducción al t-SNE\n",
    "https://www.youtube.com/watch?v=NEaUSP4YerM\n",
    "\n",
    "https://towardsdatascience.com/an-introduction-to-t-sne-with-python-example-5a3a293108d1\n",
    "\n"
   ]
  },
  {
   "cell_type": "markdown",
   "metadata": {},
   "source": [
    "##  t-SNE\n",
    "\n",
    "Para probar el método, vamos a crear un *dataset* formado por **tres grupos** de puntos generados con distintas localizaciones y varianzas."
   ]
  },
  {
   "cell_type": "code",
   "execution_count": 1,
   "metadata": {},
   "outputs": [],
   "source": [
    "import numpy as np\n",
    "import pandas as pd\n",
    "\n",
    "C1 = np.random.normal(loc=0., scale=1., size=(10,3))\n",
    "I1 = np.ones(10, dtype=int)\n",
    "\n",
    "#C2 = np.random.normal(loc=2., scale=0.1, size=(10,3))\n",
    "C2 = np.random.normal(loc=5., scale=1., size=(10,3))\n",
    "I2 = np.ones(10, dtype=int)*2\n",
    "\n",
    "#C3 = np.random.normal(loc=5, scale=2, size=(10,3))\n",
    "C3 = np.random.normal(loc=10, scale=1., size=(10,3))\n",
    "I3 = np.ones(10, dtype=int)*3\n",
    "\n",
    "\n",
    "df1 = pd.DataFrame(data=C1, columns=[\"x\", \"y\", \"z\"])\n",
    "df1I = pd.DataFrame(data=I1, columns=[\"class\"])\n",
    "\n",
    "df2 = pd.DataFrame(data=C2, columns=[\"x\", \"y\", \"z\"])\n",
    "df2I = pd.DataFrame(data=I2, columns=[\"class\"])\n",
    "\n",
    "df3 = pd.DataFrame(data=C3, columns=[\"x\", \"y\", \"z\"])\n",
    "df3I = pd.DataFrame(data=I3, columns=[\"class\"])\n",
    "\n",
    "\n",
    "result1 = pd.concat([df1, df1I], axis = 1, ignore_index=True, sort=False)\n",
    "result2 = pd.concat([df2, df2I], axis = 1, ignore_index=True, sort=False)\n",
    "result3 = pd.concat([df3, df3I], axis = 1, ignore_index=True, sort=False)\n",
    "\n",
    "df = pd.concat([result1, result2, result3])\n",
    "df.columns = [\"x\",\"y\", \"z\",\"class\"]\n",
    "df = df.reset_index(drop=True)"
   ]
  },
  {
   "cell_type": "markdown",
   "metadata": {},
   "source": [
    "Veamos los puntos de forma tabulada.\n"
   ]
  },
  {
   "cell_type": "code",
   "execution_count": 2,
   "metadata": {},
   "outputs": [
    {
     "data": {
      "text/html": [
       "<div>\n",
       "<style scoped>\n",
       "    .dataframe tbody tr th:only-of-type {\n",
       "        vertical-align: middle;\n",
       "    }\n",
       "\n",
       "    .dataframe tbody tr th {\n",
       "        vertical-align: top;\n",
       "    }\n",
       "\n",
       "    .dataframe thead th {\n",
       "        text-align: right;\n",
       "    }\n",
       "</style>\n",
       "<table border=\"1\" class=\"dataframe\">\n",
       "  <thead>\n",
       "    <tr style=\"text-align: right;\">\n",
       "      <th></th>\n",
       "      <th>x</th>\n",
       "      <th>y</th>\n",
       "      <th>z</th>\n",
       "      <th>class</th>\n",
       "    </tr>\n",
       "  </thead>\n",
       "  <tbody>\n",
       "    <tr>\n",
       "      <th>0</th>\n",
       "      <td>0.166524</td>\n",
       "      <td>0.476437</td>\n",
       "      <td>-0.748905</td>\n",
       "      <td>1</td>\n",
       "    </tr>\n",
       "    <tr>\n",
       "      <th>1</th>\n",
       "      <td>-0.260890</td>\n",
       "      <td>-1.210117</td>\n",
       "      <td>1.111706</td>\n",
       "      <td>1</td>\n",
       "    </tr>\n",
       "    <tr>\n",
       "      <th>2</th>\n",
       "      <td>1.483352</td>\n",
       "      <td>0.980338</td>\n",
       "      <td>2.013879</td>\n",
       "      <td>1</td>\n",
       "    </tr>\n",
       "    <tr>\n",
       "      <th>3</th>\n",
       "      <td>-0.008549</td>\n",
       "      <td>0.257644</td>\n",
       "      <td>-1.536449</td>\n",
       "      <td>1</td>\n",
       "    </tr>\n",
       "    <tr>\n",
       "      <th>4</th>\n",
       "      <td>-1.467212</td>\n",
       "      <td>-0.370246</td>\n",
       "      <td>0.176544</td>\n",
       "      <td>1</td>\n",
       "    </tr>\n",
       "    <tr>\n",
       "      <th>5</th>\n",
       "      <td>-0.035987</td>\n",
       "      <td>0.426323</td>\n",
       "      <td>-1.165189</td>\n",
       "      <td>1</td>\n",
       "    </tr>\n",
       "    <tr>\n",
       "      <th>6</th>\n",
       "      <td>-1.098647</td>\n",
       "      <td>0.331815</td>\n",
       "      <td>1.964918</td>\n",
       "      <td>1</td>\n",
       "    </tr>\n",
       "    <tr>\n",
       "      <th>7</th>\n",
       "      <td>-0.272549</td>\n",
       "      <td>-0.040916</td>\n",
       "      <td>-0.370012</td>\n",
       "      <td>1</td>\n",
       "    </tr>\n",
       "    <tr>\n",
       "      <th>8</th>\n",
       "      <td>2.678083</td>\n",
       "      <td>0.933871</td>\n",
       "      <td>-0.728749</td>\n",
       "      <td>1</td>\n",
       "    </tr>\n",
       "    <tr>\n",
       "      <th>9</th>\n",
       "      <td>1.314680</td>\n",
       "      <td>0.550044</td>\n",
       "      <td>-1.232873</td>\n",
       "      <td>1</td>\n",
       "    </tr>\n",
       "    <tr>\n",
       "      <th>10</th>\n",
       "      <td>5.063146</td>\n",
       "      <td>4.676758</td>\n",
       "      <td>6.091572</td>\n",
       "      <td>2</td>\n",
       "    </tr>\n",
       "    <tr>\n",
       "      <th>11</th>\n",
       "      <td>4.005999</td>\n",
       "      <td>4.868296</td>\n",
       "      <td>5.885338</td>\n",
       "      <td>2</td>\n",
       "    </tr>\n",
       "    <tr>\n",
       "      <th>12</th>\n",
       "      <td>4.395932</td>\n",
       "      <td>5.603112</td>\n",
       "      <td>5.080207</td>\n",
       "      <td>2</td>\n",
       "    </tr>\n",
       "    <tr>\n",
       "      <th>13</th>\n",
       "      <td>5.908465</td>\n",
       "      <td>5.186550</td>\n",
       "      <td>6.903519</td>\n",
       "      <td>2</td>\n",
       "    </tr>\n",
       "    <tr>\n",
       "      <th>14</th>\n",
       "      <td>3.197914</td>\n",
       "      <td>5.841706</td>\n",
       "      <td>4.253857</td>\n",
       "      <td>2</td>\n",
       "    </tr>\n",
       "    <tr>\n",
       "      <th>15</th>\n",
       "      <td>5.017807</td>\n",
       "      <td>4.312943</td>\n",
       "      <td>3.940999</td>\n",
       "      <td>2</td>\n",
       "    </tr>\n",
       "    <tr>\n",
       "      <th>16</th>\n",
       "      <td>3.890963</td>\n",
       "      <td>6.252370</td>\n",
       "      <td>5.864753</td>\n",
       "      <td>2</td>\n",
       "    </tr>\n",
       "    <tr>\n",
       "      <th>17</th>\n",
       "      <td>4.683445</td>\n",
       "      <td>5.941964</td>\n",
       "      <td>4.850334</td>\n",
       "      <td>2</td>\n",
       "    </tr>\n",
       "    <tr>\n",
       "      <th>18</th>\n",
       "      <td>4.606564</td>\n",
       "      <td>6.254284</td>\n",
       "      <td>4.996100</td>\n",
       "      <td>2</td>\n",
       "    </tr>\n",
       "    <tr>\n",
       "      <th>19</th>\n",
       "      <td>3.944945</td>\n",
       "      <td>4.605639</td>\n",
       "      <td>5.809857</td>\n",
       "      <td>2</td>\n",
       "    </tr>\n",
       "    <tr>\n",
       "      <th>20</th>\n",
       "      <td>10.027336</td>\n",
       "      <td>11.041746</td>\n",
       "      <td>10.127516</td>\n",
       "      <td>3</td>\n",
       "    </tr>\n",
       "    <tr>\n",
       "      <th>21</th>\n",
       "      <td>8.923284</td>\n",
       "      <td>9.785343</td>\n",
       "      <td>11.444244</td>\n",
       "      <td>3</td>\n",
       "    </tr>\n",
       "    <tr>\n",
       "      <th>22</th>\n",
       "      <td>8.983430</td>\n",
       "      <td>9.807272</td>\n",
       "      <td>9.374686</td>\n",
       "      <td>3</td>\n",
       "    </tr>\n",
       "    <tr>\n",
       "      <th>23</th>\n",
       "      <td>8.087111</td>\n",
       "      <td>8.450916</td>\n",
       "      <td>8.720797</td>\n",
       "      <td>3</td>\n",
       "    </tr>\n",
       "    <tr>\n",
       "      <th>24</th>\n",
       "      <td>9.362836</td>\n",
       "      <td>9.986216</td>\n",
       "      <td>8.472149</td>\n",
       "      <td>3</td>\n",
       "    </tr>\n",
       "    <tr>\n",
       "      <th>25</th>\n",
       "      <td>10.091924</td>\n",
       "      <td>9.338093</td>\n",
       "      <td>9.719824</td>\n",
       "      <td>3</td>\n",
       "    </tr>\n",
       "    <tr>\n",
       "      <th>26</th>\n",
       "      <td>8.936871</td>\n",
       "      <td>11.359872</td>\n",
       "      <td>10.348214</td>\n",
       "      <td>3</td>\n",
       "    </tr>\n",
       "    <tr>\n",
       "      <th>27</th>\n",
       "      <td>10.474326</td>\n",
       "      <td>11.126252</td>\n",
       "      <td>10.260523</td>\n",
       "      <td>3</td>\n",
       "    </tr>\n",
       "    <tr>\n",
       "      <th>28</th>\n",
       "      <td>9.603450</td>\n",
       "      <td>9.553276</td>\n",
       "      <td>10.102165</td>\n",
       "      <td>3</td>\n",
       "    </tr>\n",
       "    <tr>\n",
       "      <th>29</th>\n",
       "      <td>8.888365</td>\n",
       "      <td>10.522096</td>\n",
       "      <td>8.616896</td>\n",
       "      <td>3</td>\n",
       "    </tr>\n",
       "  </tbody>\n",
       "</table>\n",
       "</div>"
      ],
      "text/plain": [
       "            x          y          z  class\n",
       "0    0.166524   0.476437  -0.748905      1\n",
       "1   -0.260890  -1.210117   1.111706      1\n",
       "2    1.483352   0.980338   2.013879      1\n",
       "3   -0.008549   0.257644  -1.536449      1\n",
       "4   -1.467212  -0.370246   0.176544      1\n",
       "5   -0.035987   0.426323  -1.165189      1\n",
       "6   -1.098647   0.331815   1.964918      1\n",
       "7   -0.272549  -0.040916  -0.370012      1\n",
       "8    2.678083   0.933871  -0.728749      1\n",
       "9    1.314680   0.550044  -1.232873      1\n",
       "10   5.063146   4.676758   6.091572      2\n",
       "11   4.005999   4.868296   5.885338      2\n",
       "12   4.395932   5.603112   5.080207      2\n",
       "13   5.908465   5.186550   6.903519      2\n",
       "14   3.197914   5.841706   4.253857      2\n",
       "15   5.017807   4.312943   3.940999      2\n",
       "16   3.890963   6.252370   5.864753      2\n",
       "17   4.683445   5.941964   4.850334      2\n",
       "18   4.606564   6.254284   4.996100      2\n",
       "19   3.944945   4.605639   5.809857      2\n",
       "20  10.027336  11.041746  10.127516      3\n",
       "21   8.923284   9.785343  11.444244      3\n",
       "22   8.983430   9.807272   9.374686      3\n",
       "23   8.087111   8.450916   8.720797      3\n",
       "24   9.362836   9.986216   8.472149      3\n",
       "25  10.091924   9.338093   9.719824      3\n",
       "26   8.936871  11.359872  10.348214      3\n",
       "27  10.474326  11.126252  10.260523      3\n",
       "28   9.603450   9.553276  10.102165      3\n",
       "29   8.888365  10.522096   8.616896      3"
      ]
     },
     "execution_count": 2,
     "metadata": {},
     "output_type": "execute_result"
    }
   ],
   "source": [
    "df"
   ]
  },
  {
   "cell_type": "markdown",
   "metadata": {},
   "source": [
    "Visualicemos el conjunto de puntos tridimensional:"
   ]
  },
  {
   "cell_type": "code",
   "execution_count": 3,
   "metadata": {},
   "outputs": [
    {
     "data": {
      "application/vnd.plotly.v1+json": {
       "config": {
        "plotlyServerURL": "https://plot.ly"
       },
       "data": [
        {
         "hovertemplate": "x=%{x}<br>y=%{y}<br>z=%{z}<br>class=%{marker.color}<extra></extra>",
         "legendgroup": "",
         "marker": {
          "color": [
           1,
           1,
           1,
           1,
           1,
           1,
           1,
           1,
           1,
           1,
           2,
           2,
           2,
           2,
           2,
           2,
           2,
           2,
           2,
           2,
           3,
           3,
           3,
           3,
           3,
           3,
           3,
           3,
           3,
           3
          ],
          "coloraxis": "coloraxis",
          "symbol": "circle"
         },
         "mode": "markers",
         "name": "",
         "scene": "scene",
         "showlegend": false,
         "type": "scatter3d",
         "x": [
          0.16652387860594758,
          -0.2608902434900928,
          1.4833522103358787,
          -0.008548760941757093,
          -1.467212117592112,
          -0.035987419038858624,
          -1.0986468724542815,
          -0.27254906589155536,
          2.6780828615015526,
          1.314679873948648,
          5.063146457999919,
          4.005999023153667,
          4.395931525547244,
          5.908464521261992,
          3.197913550742225,
          5.017806505615179,
          3.8909630949581415,
          4.68344477271979,
          4.606563558924565,
          3.944945027057519,
          10.027336481659844,
          8.923283518957852,
          8.983429621610297,
          8.087111128317403,
          9.362836403915992,
          10.0919242396883,
          8.936870804633388,
          10.474325691966218,
          9.603450358829694,
          8.888365219084601
         ],
         "y": [
          0.47643696816216474,
          -1.2101174281954465,
          0.9803381406887859,
          0.25764429693980434,
          -0.37024550624264857,
          0.4263227608204415,
          0.3318153065945438,
          -0.04091643582434642,
          0.9338712494216883,
          0.5500438046695192,
          4.676758180214114,
          4.868296235190066,
          5.603111579632022,
          5.186550223472885,
          5.841705933699554,
          4.312943432524012,
          6.252369616239119,
          5.9419638058706035,
          6.254284165853262,
          4.60563945734466,
          11.041746128763123,
          9.785343358518299,
          9.807272168058752,
          8.450916279420028,
          9.986215983783971,
          9.338092675744338,
          11.359871604702864,
          11.126252079860826,
          9.553276450052175,
          10.522096449203058
         ],
         "z": [
          -0.7489053903863396,
          1.1117060813673876,
          2.0138793770895447,
          -1.5364487888214402,
          0.17654384340294887,
          -1.1651890204296973,
          1.9649181300846736,
          -0.37001183949357996,
          -0.7287489917100213,
          -1.2328729880675007,
          6.091572216324824,
          5.8853377305408365,
          5.08020663887382,
          6.903518990728926,
          4.253856657603545,
          3.9409992911168352,
          5.864753136280636,
          4.850334278164901,
          4.996100431451521,
          5.809857390611062,
          10.127515927580278,
          11.44424406907958,
          9.374685579952175,
          8.72079709249733,
          8.47214893915191,
          9.719824426152183,
          10.348214473858453,
          10.260523482005432,
          10.102165144764712,
          8.61689641753462
         ]
        }
       ],
       "layout": {
        "coloraxis": {
         "colorbar": {
          "title": {
           "text": "class"
          }
         },
         "colorscale": [
          [
           0,
           "#0d0887"
          ],
          [
           0.1111111111111111,
           "#46039f"
          ],
          [
           0.2222222222222222,
           "#7201a8"
          ],
          [
           0.3333333333333333,
           "#9c179e"
          ],
          [
           0.4444444444444444,
           "#bd3786"
          ],
          [
           0.5555555555555556,
           "#d8576b"
          ],
          [
           0.6666666666666666,
           "#ed7953"
          ],
          [
           0.7777777777777778,
           "#fb9f3a"
          ],
          [
           0.8888888888888888,
           "#fdca26"
          ],
          [
           1,
           "#f0f921"
          ]
         ]
        },
        "legend": {
         "tracegroupgap": 0
        },
        "margin": {
         "t": 60
        },
        "scene": {
         "domain": {
          "x": [
           0,
           1
          ],
          "y": [
           0,
           1
          ]
         },
         "xaxis": {
          "title": {
           "text": "x"
          }
         },
         "yaxis": {
          "title": {
           "text": "y"
          }
         },
         "zaxis": {
          "title": {
           "text": "z"
          }
         }
        },
        "template": {
         "data": {
          "bar": [
           {
            "error_x": {
             "color": "#2a3f5f"
            },
            "error_y": {
             "color": "#2a3f5f"
            },
            "marker": {
             "line": {
              "color": "#E5ECF6",
              "width": 0.5
             },
             "pattern": {
              "fillmode": "overlay",
              "size": 10,
              "solidity": 0.2
             }
            },
            "type": "bar"
           }
          ],
          "barpolar": [
           {
            "marker": {
             "line": {
              "color": "#E5ECF6",
              "width": 0.5
             },
             "pattern": {
              "fillmode": "overlay",
              "size": 10,
              "solidity": 0.2
             }
            },
            "type": "barpolar"
           }
          ],
          "carpet": [
           {
            "aaxis": {
             "endlinecolor": "#2a3f5f",
             "gridcolor": "white",
             "linecolor": "white",
             "minorgridcolor": "white",
             "startlinecolor": "#2a3f5f"
            },
            "baxis": {
             "endlinecolor": "#2a3f5f",
             "gridcolor": "white",
             "linecolor": "white",
             "minorgridcolor": "white",
             "startlinecolor": "#2a3f5f"
            },
            "type": "carpet"
           }
          ],
          "choropleth": [
           {
            "colorbar": {
             "outlinewidth": 0,
             "ticks": ""
            },
            "type": "choropleth"
           }
          ],
          "contour": [
           {
            "colorbar": {
             "outlinewidth": 0,
             "ticks": ""
            },
            "colorscale": [
             [
              0,
              "#0d0887"
             ],
             [
              0.1111111111111111,
              "#46039f"
             ],
             [
              0.2222222222222222,
              "#7201a8"
             ],
             [
              0.3333333333333333,
              "#9c179e"
             ],
             [
              0.4444444444444444,
              "#bd3786"
             ],
             [
              0.5555555555555556,
              "#d8576b"
             ],
             [
              0.6666666666666666,
              "#ed7953"
             ],
             [
              0.7777777777777778,
              "#fb9f3a"
             ],
             [
              0.8888888888888888,
              "#fdca26"
             ],
             [
              1,
              "#f0f921"
             ]
            ],
            "type": "contour"
           }
          ],
          "contourcarpet": [
           {
            "colorbar": {
             "outlinewidth": 0,
             "ticks": ""
            },
            "type": "contourcarpet"
           }
          ],
          "heatmap": [
           {
            "colorbar": {
             "outlinewidth": 0,
             "ticks": ""
            },
            "colorscale": [
             [
              0,
              "#0d0887"
             ],
             [
              0.1111111111111111,
              "#46039f"
             ],
             [
              0.2222222222222222,
              "#7201a8"
             ],
             [
              0.3333333333333333,
              "#9c179e"
             ],
             [
              0.4444444444444444,
              "#bd3786"
             ],
             [
              0.5555555555555556,
              "#d8576b"
             ],
             [
              0.6666666666666666,
              "#ed7953"
             ],
             [
              0.7777777777777778,
              "#fb9f3a"
             ],
             [
              0.8888888888888888,
              "#fdca26"
             ],
             [
              1,
              "#f0f921"
             ]
            ],
            "type": "heatmap"
           }
          ],
          "heatmapgl": [
           {
            "colorbar": {
             "outlinewidth": 0,
             "ticks": ""
            },
            "colorscale": [
             [
              0,
              "#0d0887"
             ],
             [
              0.1111111111111111,
              "#46039f"
             ],
             [
              0.2222222222222222,
              "#7201a8"
             ],
             [
              0.3333333333333333,
              "#9c179e"
             ],
             [
              0.4444444444444444,
              "#bd3786"
             ],
             [
              0.5555555555555556,
              "#d8576b"
             ],
             [
              0.6666666666666666,
              "#ed7953"
             ],
             [
              0.7777777777777778,
              "#fb9f3a"
             ],
             [
              0.8888888888888888,
              "#fdca26"
             ],
             [
              1,
              "#f0f921"
             ]
            ],
            "type": "heatmapgl"
           }
          ],
          "histogram": [
           {
            "marker": {
             "pattern": {
              "fillmode": "overlay",
              "size": 10,
              "solidity": 0.2
             }
            },
            "type": "histogram"
           }
          ],
          "histogram2d": [
           {
            "colorbar": {
             "outlinewidth": 0,
             "ticks": ""
            },
            "colorscale": [
             [
              0,
              "#0d0887"
             ],
             [
              0.1111111111111111,
              "#46039f"
             ],
             [
              0.2222222222222222,
              "#7201a8"
             ],
             [
              0.3333333333333333,
              "#9c179e"
             ],
             [
              0.4444444444444444,
              "#bd3786"
             ],
             [
              0.5555555555555556,
              "#d8576b"
             ],
             [
              0.6666666666666666,
              "#ed7953"
             ],
             [
              0.7777777777777778,
              "#fb9f3a"
             ],
             [
              0.8888888888888888,
              "#fdca26"
             ],
             [
              1,
              "#f0f921"
             ]
            ],
            "type": "histogram2d"
           }
          ],
          "histogram2dcontour": [
           {
            "colorbar": {
             "outlinewidth": 0,
             "ticks": ""
            },
            "colorscale": [
             [
              0,
              "#0d0887"
             ],
             [
              0.1111111111111111,
              "#46039f"
             ],
             [
              0.2222222222222222,
              "#7201a8"
             ],
             [
              0.3333333333333333,
              "#9c179e"
             ],
             [
              0.4444444444444444,
              "#bd3786"
             ],
             [
              0.5555555555555556,
              "#d8576b"
             ],
             [
              0.6666666666666666,
              "#ed7953"
             ],
             [
              0.7777777777777778,
              "#fb9f3a"
             ],
             [
              0.8888888888888888,
              "#fdca26"
             ],
             [
              1,
              "#f0f921"
             ]
            ],
            "type": "histogram2dcontour"
           }
          ],
          "mesh3d": [
           {
            "colorbar": {
             "outlinewidth": 0,
             "ticks": ""
            },
            "type": "mesh3d"
           }
          ],
          "parcoords": [
           {
            "line": {
             "colorbar": {
              "outlinewidth": 0,
              "ticks": ""
             }
            },
            "type": "parcoords"
           }
          ],
          "pie": [
           {
            "automargin": true,
            "type": "pie"
           }
          ],
          "scatter": [
           {
            "fillpattern": {
             "fillmode": "overlay",
             "size": 10,
             "solidity": 0.2
            },
            "type": "scatter"
           }
          ],
          "scatter3d": [
           {
            "line": {
             "colorbar": {
              "outlinewidth": 0,
              "ticks": ""
             }
            },
            "marker": {
             "colorbar": {
              "outlinewidth": 0,
              "ticks": ""
             }
            },
            "type": "scatter3d"
           }
          ],
          "scattercarpet": [
           {
            "marker": {
             "colorbar": {
              "outlinewidth": 0,
              "ticks": ""
             }
            },
            "type": "scattercarpet"
           }
          ],
          "scattergeo": [
           {
            "marker": {
             "colorbar": {
              "outlinewidth": 0,
              "ticks": ""
             }
            },
            "type": "scattergeo"
           }
          ],
          "scattergl": [
           {
            "marker": {
             "colorbar": {
              "outlinewidth": 0,
              "ticks": ""
             }
            },
            "type": "scattergl"
           }
          ],
          "scattermapbox": [
           {
            "marker": {
             "colorbar": {
              "outlinewidth": 0,
              "ticks": ""
             }
            },
            "type": "scattermapbox"
           }
          ],
          "scatterpolar": [
           {
            "marker": {
             "colorbar": {
              "outlinewidth": 0,
              "ticks": ""
             }
            },
            "type": "scatterpolar"
           }
          ],
          "scatterpolargl": [
           {
            "marker": {
             "colorbar": {
              "outlinewidth": 0,
              "ticks": ""
             }
            },
            "type": "scatterpolargl"
           }
          ],
          "scatterternary": [
           {
            "marker": {
             "colorbar": {
              "outlinewidth": 0,
              "ticks": ""
             }
            },
            "type": "scatterternary"
           }
          ],
          "surface": [
           {
            "colorbar": {
             "outlinewidth": 0,
             "ticks": ""
            },
            "colorscale": [
             [
              0,
              "#0d0887"
             ],
             [
              0.1111111111111111,
              "#46039f"
             ],
             [
              0.2222222222222222,
              "#7201a8"
             ],
             [
              0.3333333333333333,
              "#9c179e"
             ],
             [
              0.4444444444444444,
              "#bd3786"
             ],
             [
              0.5555555555555556,
              "#d8576b"
             ],
             [
              0.6666666666666666,
              "#ed7953"
             ],
             [
              0.7777777777777778,
              "#fb9f3a"
             ],
             [
              0.8888888888888888,
              "#fdca26"
             ],
             [
              1,
              "#f0f921"
             ]
            ],
            "type": "surface"
           }
          ],
          "table": [
           {
            "cells": {
             "fill": {
              "color": "#EBF0F8"
             },
             "line": {
              "color": "white"
             }
            },
            "header": {
             "fill": {
              "color": "#C8D4E3"
             },
             "line": {
              "color": "white"
             }
            },
            "type": "table"
           }
          ]
         },
         "layout": {
          "annotationdefaults": {
           "arrowcolor": "#2a3f5f",
           "arrowhead": 0,
           "arrowwidth": 1
          },
          "autotypenumbers": "strict",
          "coloraxis": {
           "colorbar": {
            "outlinewidth": 0,
            "ticks": ""
           }
          },
          "colorscale": {
           "diverging": [
            [
             0,
             "#8e0152"
            ],
            [
             0.1,
             "#c51b7d"
            ],
            [
             0.2,
             "#de77ae"
            ],
            [
             0.3,
             "#f1b6da"
            ],
            [
             0.4,
             "#fde0ef"
            ],
            [
             0.5,
             "#f7f7f7"
            ],
            [
             0.6,
             "#e6f5d0"
            ],
            [
             0.7,
             "#b8e186"
            ],
            [
             0.8,
             "#7fbc41"
            ],
            [
             0.9,
             "#4d9221"
            ],
            [
             1,
             "#276419"
            ]
           ],
           "sequential": [
            [
             0,
             "#0d0887"
            ],
            [
             0.1111111111111111,
             "#46039f"
            ],
            [
             0.2222222222222222,
             "#7201a8"
            ],
            [
             0.3333333333333333,
             "#9c179e"
            ],
            [
             0.4444444444444444,
             "#bd3786"
            ],
            [
             0.5555555555555556,
             "#d8576b"
            ],
            [
             0.6666666666666666,
             "#ed7953"
            ],
            [
             0.7777777777777778,
             "#fb9f3a"
            ],
            [
             0.8888888888888888,
             "#fdca26"
            ],
            [
             1,
             "#f0f921"
            ]
           ],
           "sequentialminus": [
            [
             0,
             "#0d0887"
            ],
            [
             0.1111111111111111,
             "#46039f"
            ],
            [
             0.2222222222222222,
             "#7201a8"
            ],
            [
             0.3333333333333333,
             "#9c179e"
            ],
            [
             0.4444444444444444,
             "#bd3786"
            ],
            [
             0.5555555555555556,
             "#d8576b"
            ],
            [
             0.6666666666666666,
             "#ed7953"
            ],
            [
             0.7777777777777778,
             "#fb9f3a"
            ],
            [
             0.8888888888888888,
             "#fdca26"
            ],
            [
             1,
             "#f0f921"
            ]
           ]
          },
          "colorway": [
           "#636efa",
           "#EF553B",
           "#00cc96",
           "#ab63fa",
           "#FFA15A",
           "#19d3f3",
           "#FF6692",
           "#B6E880",
           "#FF97FF",
           "#FECB52"
          ],
          "font": {
           "color": "#2a3f5f"
          },
          "geo": {
           "bgcolor": "white",
           "lakecolor": "white",
           "landcolor": "#E5ECF6",
           "showlakes": true,
           "showland": true,
           "subunitcolor": "white"
          },
          "hoverlabel": {
           "align": "left"
          },
          "hovermode": "closest",
          "mapbox": {
           "style": "light"
          },
          "paper_bgcolor": "white",
          "plot_bgcolor": "#E5ECF6",
          "polar": {
           "angularaxis": {
            "gridcolor": "white",
            "linecolor": "white",
            "ticks": ""
           },
           "bgcolor": "#E5ECF6",
           "radialaxis": {
            "gridcolor": "white",
            "linecolor": "white",
            "ticks": ""
           }
          },
          "scene": {
           "xaxis": {
            "backgroundcolor": "#E5ECF6",
            "gridcolor": "white",
            "gridwidth": 2,
            "linecolor": "white",
            "showbackground": true,
            "ticks": "",
            "zerolinecolor": "white"
           },
           "yaxis": {
            "backgroundcolor": "#E5ECF6",
            "gridcolor": "white",
            "gridwidth": 2,
            "linecolor": "white",
            "showbackground": true,
            "ticks": "",
            "zerolinecolor": "white"
           },
           "zaxis": {
            "backgroundcolor": "#E5ECF6",
            "gridcolor": "white",
            "gridwidth": 2,
            "linecolor": "white",
            "showbackground": true,
            "ticks": "",
            "zerolinecolor": "white"
           }
          },
          "shapedefaults": {
           "line": {
            "color": "#2a3f5f"
           }
          },
          "ternary": {
           "aaxis": {
            "gridcolor": "white",
            "linecolor": "white",
            "ticks": ""
           },
           "baxis": {
            "gridcolor": "white",
            "linecolor": "white",
            "ticks": ""
           },
           "bgcolor": "#E5ECF6",
           "caxis": {
            "gridcolor": "white",
            "linecolor": "white",
            "ticks": ""
           }
          },
          "title": {
           "x": 0.05
          },
          "xaxis": {
           "automargin": true,
           "gridcolor": "white",
           "linecolor": "white",
           "ticks": "",
           "title": {
            "standoff": 15
           },
           "zerolinecolor": "white",
           "zerolinewidth": 2
          },
          "yaxis": {
           "automargin": true,
           "gridcolor": "white",
           "linecolor": "white",
           "ticks": "",
           "title": {
            "standoff": 15
           },
           "zerolinecolor": "white",
           "zerolinewidth": 2
          }
         }
        }
       }
      }
     },
     "metadata": {},
     "output_type": "display_data"
    }
   ],
   "source": [
    "import plotly.express as px\n",
    "import matplotlib.pyplot as plt\n",
    "\n",
    "fig = px.scatter_3d(df, x=\"x\", y=\"y\", z=\"z\", color=\"class\")\n",
    "fig.show()"
   ]
  },
  {
   "cell_type": "markdown",
   "metadata": {},
   "source": [
    "<code>Q_points</code> será nuestro conjunto de puntos tridimensionales y <code>P_points</code> será nuestro conjunto de puntos bidimensionales con los que intentaremos visualizar el primer conjunto."
   ]
  },
  {
   "cell_type": "code",
   "execution_count": 4,
   "metadata": {},
   "outputs": [],
   "source": [
    "Q_points = df.values[:,0:3]  # Tomamos las coordenadas de los puntos, no la clase\n",
    "P_points = np.random.uniform(0, 10, size=(30,2))  # Generamos puntos al azar"
   ]
  },
  {
   "cell_type": "markdown",
   "metadata": {},
   "source": [
    "Si visualizamos el conjunto de puntos bidimensional, veremos que está totalmente desordenado (está generado al azar)."
   ]
  },
  {
   "cell_type": "code",
   "execution_count": 5,
   "metadata": {},
   "outputs": [
    {
     "data": {
      "text/plain": [
       "<matplotlib.collections.PathCollection at 0x12fbf7370>"
      ]
     },
     "execution_count": 5,
     "metadata": {},
     "output_type": "execute_result"
    },
    {
     "data": {
      "image/png": "[encoded data removed]",
      "text/plain": [
       "<Figure size 640x480 with 1 Axes>"
      ]
     },
     "metadata": {},
     "output_type": "display_data"
    }
   ],
   "source": [
    "import matplotlib.pyplot as plt\n",
    "\n",
    "P_index = np.concatenate((np.ones(10, dtype=int), np.ones(10, dtype=int)*2, np.ones(10, dtype=int)*3))\n",
    "plt.scatter(P_points[:,0], P_points[:,1], c=P_index)"
   ]
  },
  {
   "cell_type": "markdown",
   "metadata": {},
   "source": [
    "Antes de seguir vamos a echarle un vistazo a las matrices de distancia."
   ]
  },
  {
   "cell_type": "code",
   "execution_count": 6,
   "metadata": {},
   "outputs": [
    {
     "data": {
      "text/plain": [
       "<matplotlib.image.AxesImage at 0x12fd423b0>"
      ]
     },
     "execution_count": 6,
     "metadata": {},
     "output_type": "execute_result"
    },
    {
     "data": {
      "image/png": "[encoded data removed]",
      "text/plain": [
       "<Figure size 480x480 with 1 Axes>"
      ]
     },
     "metadata": {},
     "output_type": "display_data"
    },
    {
     "data": {
      "image/png": "[encoded data removed]",
      "text/plain": [
       "<Figure size 480x480 with 1 Axes>"
      ]
     },
     "metadata": {},
     "output_type": "display_data"
    }
   ],
   "source": [
    "PM = np.zeros((30,30))\n",
    "QM = np.zeros((30,30))\n",
    "\n",
    "def distance(p1, p2):\n",
    "    return np.sqrt(np.sum((p1 - p2)**2))\n",
    "\n",
    "for i, p in enumerate(P_points):\n",
    "    PM[i] = [distance(p, j) for j in P_points]\n",
    "    \n",
    "for i, q in enumerate(Q_points):\n",
    "    QM[i] = [distance(q, j) for j in Q_points]\n",
    "      \n",
    "plt.matshow(PM, cmap=plt.cm.Blues)  # Representamos la matriz P\n",
    "plt.matshow(QM, cmap=plt.cm.Blues)  # Representamos la matriz Q"
   ]
  },
  {
   "cell_type": "markdown",
   "metadata": {},
   "source": [
    "Ahora nos hace falta definir una función para calcular la distancia entre puntos, otra para obtener la **función de distribución de probabilidad** y una última para calcular la divergencia de **Kullback-Leibler**."
   ]
  },
  {
   "cell_type": "code",
   "execution_count": 7,
   "metadata": {},
   "outputs": [],
   "source": [
    "import torch\n",
    "import math\n",
    "\n",
    "device = 'cuda' if torch.cuda.is_available() else 'cpu'\n",
    "\n",
    "distT_torch = torch.distributions.studentT.StudentT(df=1, loc=0, scale=1)\n",
    "\n",
    "def distance(p1, p2):\n",
    "    return torch.sqrt(torch.sum((p1 - p2)**2) + 1e-6)\n",
    "    \n",
    "def pdf(x):\n",
    "    return torch.exp(distT_torch.log_prob(x))\n",
    "\n",
    "def KL(p, q):\n",
    "    return torch.where(q > 0.1e-8, p * torch.log(p/q), torch.tensor([0.], dtype=torch.double, device=device)).sum()\n",
    "    "
   ]
  },
  {
   "cell_type": "markdown",
   "metadata": {},
   "source": [
    "Pasamos los puntos creados en Numpy a tensores de PyTorch <code>P</code> y <code>Q</code>. Los puntos <code>P</code> son los que tenemos que \"mover\", por eso requieren gradiente."
   ]
  },
  {
   "cell_type": "code",
   "execution_count": 8,
   "metadata": {},
   "outputs": [],
   "source": [
    "device = 'cuda' if torch.cuda.is_available() else 'cpu'\n",
    "device = 'cpu'\n",
    "\n",
    "P = torch.tensor(P_points, requires_grad=True, dtype=torch.float, device=device)\n",
    "Q = torch.tensor(Q_points, dtype=torch.float, device=device)"
   ]
  },
  {
   "cell_type": "code",
   "execution_count": 9,
   "metadata": {},
   "outputs": [
    {
     "name": "stdout",
     "output_type": "stream",
     "text": [
      "Epoch: 0 loss: 39.479583740234375\n",
      "Epoch: 10 loss: 15.956965446472168\n",
      "Epoch: 20 loss: 13.391416549682617\n",
      "Epoch: 30 loss: 12.188273429870605\n",
      "Epoch: 40 loss: 10.87851333618164\n",
      "Epoch: 50 loss: 10.16821575164795\n",
      "Epoch: 60 loss: 9.989543914794922\n",
      "Epoch: 70 loss: 9.744491577148438\n",
      "Epoch: 80 loss: 9.489737510681152\n",
      "Epoch: 90 loss: 8.615865707397461\n",
      "Epoch: 100 loss: 8.053683280944824\n",
      "Epoch: 110 loss: 7.864839553833008\n",
      "Epoch: 120 loss: 7.308864593505859\n",
      "Epoch: 130 loss: 6.854788780212402\n",
      "Epoch: 140 loss: 5.771241188049316\n",
      "Epoch: 150 loss: 4.689131736755371\n",
      "Epoch: 160 loss: 4.214322566986084\n",
      "Epoch: 170 loss: 4.072487831115723\n",
      "Epoch: 180 loss: 4.051445007324219\n",
      "Epoch: 190 loss: 4.03515625\n",
      "Epoch: 200 loss: 4.021659851074219\n",
      "Epoch: 210 loss: 4.013899803161621\n",
      "Epoch: 220 loss: 3.9985787868499756\n",
      "Epoch: 230 loss: 3.986757516860962\n",
      "Epoch: 240 loss: 3.977696180343628\n",
      "Epoch: 250 loss: 3.969468593597412\n",
      "Epoch: 260 loss: 3.959566116333008\n",
      "Epoch: 270 loss: 3.9487476348876953\n",
      "Epoch: 280 loss: 3.9359965324401855\n",
      "Epoch: 290 loss: 3.919861078262329\n",
      "Epoch: 300 loss: 3.9039435386657715\n",
      "Epoch: 310 loss: 3.8863189220428467\n",
      "Epoch: 320 loss: 3.8603057861328125\n",
      "Epoch: 330 loss: 3.8084962368011475\n",
      "Epoch: 340 loss: 3.7537732124328613\n",
      "Epoch: 350 loss: 3.695063591003418\n",
      "Epoch: 360 loss: 3.590381383895874\n",
      "Epoch: 370 loss: 3.4406182765960693\n",
      "Epoch: 380 loss: 3.263678789138794\n",
      "Epoch: 390 loss: 2.823730707168579\n",
      "Epoch: 400 loss: 2.2120273113250732\n",
      "Epoch: 410 loss: 0.6396467685699463\n",
      "Epoch: 420 loss: 0.5637612342834473\n",
      "Epoch: 430 loss: 0.5009985566139221\n",
      "Epoch: 440 loss: 0.4680554270744324\n",
      "Epoch: 450 loss: 0.4548220932483673\n",
      "Epoch: 460 loss: 0.43580907583236694\n",
      "Epoch: 470 loss: 0.436868280172348\n",
      "Epoch: 480 loss: 0.4374592900276184\n",
      "Epoch: 490 loss: 0.4361301362514496\n"
     ]
    }
   ],
   "source": [
    "optimizer = torch.optim.RMSprop([P], lr=0.1)\n",
    "\n",
    "epochs = 500\n",
    "\n",
    "for k in range(epochs):\n",
    "    \n",
    "    PM = torch.tensor(np.zeros((len(P_points), len(P_points))), dtype=float, device=device)\n",
    "    QM = torch.tensor(np.zeros((len(P_points), len(P_points))), dtype=float, device=device)\n",
    "    \n",
    "    for i, q_row in enumerate(Q):\n",
    "        for j, q_column in enumerate(Q):\n",
    "            QM[i, j] = distance(q_row, q_column)\n",
    "    \n",
    "    QD = pdf(QM)\n",
    "    QD = torch.div(QD.t(), torch.sum(QD, dim=1)).t()\n",
    "        \n",
    "    for i, p in enumerate(P):\n",
    "        for j, q in enumerate(P):\n",
    "            PM[i, j] = distance(p, q)\n",
    "\n",
    "    PD = pdf(PM)\n",
    "    PD = torch.div(PD.t(), torch.sum(PD, dim=1)).t()\n",
    "        \n",
    "    loss = torch.tensor([0.], device=device)\n",
    "    for pd, qd in zip(PD, QD):\n",
    "        loss += KL(pd, qd)\n",
    "    \n",
    "    if k%10 == 0:\n",
    "        print(\"Epoch:\", k, \"loss:\", loss.item())\n",
    "    \n",
    "\n",
    "    loss.backward()   \n",
    "    optimizer.step()    \n",
    "    optimizer.zero_grad()"
   ]
  },
  {
   "cell_type": "markdown",
   "metadata": {},
   "source": [
    "Visualizamos el resultado:"
   ]
  },
  {
   "cell_type": "code",
   "execution_count": 10,
   "metadata": {},
   "outputs": [
    {
     "data": {
      "image/png": "[encoded data removed]",
      "text/plain": [
       "<Figure size 640x480 with 1 Axes>"
      ]
     },
     "metadata": {},
     "output_type": "display_data"
    },
    {
     "data": {
      "text/plain": [
       "<matplotlib.collections.PathCollection at 0x177981f90>"
      ]
     },
     "execution_count": 10,
     "metadata": {},
     "output_type": "execute_result"
    },
    {
     "data": {
      "image/png": "[encoded data removed]",
      "text/plain": [
       "<Figure size 640x480 with 1 Axes>"
      ]
     },
     "metadata": {},
     "output_type": "display_data"
    }
   ],
   "source": [
    "import matplotlib.pyplot as plt\n",
    "\n",
    "final_points = P.cpu().detach().numpy()\n",
    "P_index = np.concatenate((np.ones(10, dtype=int), np.ones(10, dtype=int)*2, np.ones(10, dtype=int)*3))\n",
    "\n",
    "\n",
    "plt.scatter(P_points[:,0], P_points[:,1], c=P_index)\n",
    "plt.show()\n",
    "\n",
    "plt.scatter(final_points[:,0], final_points[:,1], c=P_index)"
   ]
  },
  {
   "cell_type": "markdown",
   "metadata": {},
   "source": [
    "## Ejercicios\n",
    "\n",
    "1. Crea el conjunto tridimensional anterior con tres clases con el mismo centro y dispersión. De esa forma, las clases serán no separables. Mira a ver qué ocurre con su visualización con t-SNE.\n",
    "\n",
    "2. Calcula la visualización t-SNE usando el conjunto de datos IRIS."
   ]
  },
  {
   "cell_type": "code",
   "execution_count": null,
   "metadata": {},
   "outputs": [],
   "source": []
  }
 ],
 "metadata": {
  "kernelspec": {
   "display_name": "Python 3.10.7 64-bit",
   "language": "python",
   "name": "python3"
  },
  "language_info": {
   "codemirror_mode": {
    "name": "ipython",
    "version": 3
   },
   "file_extension": ".py",
   "mimetype": "text/x-python",
   "name": "python",
   "nbconvert_exporter": "python",
   "pygments_lexer": "ipython3",
   "version": "3.10.7"
  },
  "vscode": {
   "interpreter": {
    "hash": "aee8b7b246df8f9039afb4144a1f6fd8d2ca17a180786b69acc140d282b71a49"
   }
  }
 },
 "nbformat": 4,
 "nbformat_minor": 4
}
