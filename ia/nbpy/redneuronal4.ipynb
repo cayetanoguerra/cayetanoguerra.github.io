{
 "cells": [
  {
   "cell_type": "markdown",
   "metadata": {},
   "source": [
    "# Redes neuronales 4\n",
    "---\n",
    "\n",
    "La derivación es el aspecto algorítmicamente más costoso en la utilización de clasificadores basados en redes neuronales. Calcular las decenas, centenares o centenares de miles de derivadas parciales sería una tarea abrumadora si la tuviéramos que resolver a mano cada vez que construimos una red neuronal. Afortunadamente contamos con herramientas que hacen eficientemente esa labor por nosotros. **Keras** es una de ellas. \n",
    "\n",
    "## Keras\n",
    "\n",
    "[Keras](https://keras.io/) es una API escrita en Python que nos permite de una forma rápida y cómoda configurar y entrenar redes neuronales.\n",
    "\n",
    "<img src=\"imgs/keras-logo.png\" width=\"30%\">\n",
    "\n",
    "Hay otra cosa que Keras hace por nosotros y que es sumamente importante: trasladar el cálculo a la GPU en lugar de hacerlo en la CPU. Todo el cálculo que realiza la red para generar una salida es computacionalmente muy alto. Son muchísimas las multiplicaciones y sumas que se llevan a cabo. Pero, afortunadamente, la inmensa mayoría de estas operaciones son paralelizables. Y, de la misma forma que los juegos actuales utilizan la GPU para poder mover rápidamente una inmensa cantidad de puntos, vértices y polígonos, esta misma arquitectura de computación paralela se adapta perfectamente a las necesidades de cálculo de las redes neuronales.\n",
    "\n",
    "Por supuesto, cuando las redes y sus conjuntos de datos son pequeños no es indispensable disponer de GPU en el ordenador. Pero en cuanto el modelo o los datos crecen el tiempo de cómputo se vuelve crucial.\n",
    "\n",
    "Keras, a su vez, se apoya sobre otras herramientas como [Tensorflow](https://www.tensorflow.org/) y [CUDA](https://developer.nvidia.com/cuda-zone) (si disponemos de GPU).\n",
    "\n",
    "### Instalación\n",
    "\n",
    "Visita [https://keras.io/#installation](https://keras.io/#installation) para instalar Keras. Antes debes [instalar Tensorflow](https://www.tensorflow.org/install). Y si quieres disponer de un espacio con todo ya instalado y con acceso a GPU puedes usar [Google Colab](https://colab.research.google.com/notebooks/intro.ipynb#recent=true).\n",
    "\n",
    "\n",
    "**Modo rápido:** Si quieres, puedes realizar una instalación limpia de Keras mediante un entorno virtual (recomendable). \n",
    "\n",
    "Instala virtualenv\n",
    "\n",
    "<code>pip install virtualenv</code>\n",
    "\n",
    "Crea el entorno virtual\n",
    "\n",
    "<code>virtualenv nombre_de_tu_entorno -p python3</code>\n",
    "\n",
    "Activa el entorno virtual\n",
    "\n",
    "<code>nombre_de_tu_entorno\\Scripts\\activate.bat</code>\n",
    "\n",
    "Dentro del entorno, instala Tensorflow:\n",
    "\n",
    "<code>pip install tensorflow</code>\n",
    "\n",
    "y luego, Keras:\n",
    "\n",
    "<code>pip install keras</code>\n",
    "\n",
    "Con esto tendrás una instalación de Keras para realizar las prácticas, pero sin GPU. Si tu ordenador no tiene GPU, entonces será la opción adecuada. Recuerda que todo esto también lo puedes hacer desde el Pycharm en el momento de crear un proyecto nuevo. "
   ]
  },
  {
   "cell_type": "markdown",
   "metadata": {},
   "source": [
    "### Modelo\n",
    "\n",
    "La estructura principal de Keras es el **modelo**, lo cual es una forma de organizar y conectar capas de neuronas. El tipo de modelo más simple es el **modelo secuencial**, que es una pila lineal de capas. Para arquitecturas más complejas, es necesario utilizar la **API funcional** de Keras, que permite crear capas con conexiones arbitrarias."
   ]
  },
  {
   "cell_type": "code",
   "execution_count": 2,
   "metadata": {},
   "outputs": [],
   "source": [
    "from keras.models import Sequential\n",
    "\n",
    "model = Sequential()  # Creamos nuestro modelo"
   ]
  },
  {
   "cell_type": "markdown",
   "metadata": {},
   "source": [
    "Ahora apilaremos capas con <code>.add()</code>. Keras denomina a las capas neuronales básicas como **densas** <code>Dense</code>, lo que significa que todas las entradas son conectadas a todas las neuronas. Como observamos en la figura siguiente, todas las $n$ entradas se conectan a todas las $m$ neuronas. Veremos más adelante que esto no siempre es así. Hay capas denominadas **convolutivas** que no siguen este patrón de conexión, sino que parte de las entradas se conectan solo a algunas neuronas de la capa. Pero, por ahora, eso es otra historia.\n",
    "\n",
    "<img src=\"imgs/densa.svg\" width=\"30%\">\n",
    "\n",
    "Fíjate que en la instanciación de la primera capa densa tenemos que especificar el número de entradas <code>input_dim=4</code>, pero en la siguiente capa no. Keras sabe que son $5$ entradas puesto que en la capa anterior hay $5$ neuronas <code>units=5</code>"
   ]
  },
  {
   "cell_type": "code",
   "execution_count": 3,
   "metadata": {},
   "outputs": [],
   "source": [
    "from keras.layers import Dense\n",
    "\n",
    "model.add(Dense(units=5, activation='sigmoid', input_dim=4))  # Son 4 entradas conectadas a 5 neuronas\n",
    "model.add(Dense(units=3, activation='softmax'))  # Son 5 entradas conectadas a 3 neuronas"
   ]
  },
  {
   "cell_type": "markdown",
   "metadata": {},
   "source": [
    "### Configuración del entrenamiento\n",
    "\n",
    "Una vez configurado el modelo, especificaremos el proceso de aprendizaje. La **función de error** o **pérdida** (**loss**) que utilizaremos es <code>loss='mse'</code>, lo que significa *mean squared error* o error cuadrático medio. Es parecida a la suma de todos los errores que ya hemos visto pero dividido por el número de muestras sobre las que calculamos el error. Existen otras funciones de error que ya veremos más adelante. En cuando al optimizador, usaremos el clásico descenso por el gradiente <code>optimizer=keras.optimizers.SGD(lr=1)</code> (stochastic gradient descent) al que le aplicamos un *learning rate* o **tasa de aprendizaje** de $1$. \n",
    "\n",
    "\\- Lo de *descenso por el gradiente*, vale. Pero, ¿lo de *estocástico* qué significa? \n",
    "\n",
    "En este contexto, **estocástico** significa que no vamos a calcular el error sobre todo el conjunto de muestras en cada iteración sino sobre un subconjunto **aleatorio** de ellos. Ese subconjunto corresponde al *mini-batch* que ya hemos visto.\n",
    "\n",
    "Durante el proceso de entrenamiento vamos progresivamente descendiendo por la función de error hasta llegar a algún mínimo. Para verificar que vamos avanzando adecuadamente es conveniente ir comprobando cómo el valor de la función de error va bajando (*loss*). Sin embargo, *loss* es un valor que no indica nada en sí, solo que si baja es buena señal. Pero, lo que realmente nos va diciendo cuánto vamos mejorando es el *accuracy* (precisión) <code>metrics=['accuracy']</code>. Este valor se calcula introduciendo las muestras en la red y comprobando qué porcentaje de ellas ha clasificado correctamente."
   ]
  },
  {
   "cell_type": "code",
   "execution_count": 4,
   "metadata": {},
   "outputs": [],
   "source": [
    "import keras \n",
    "\n",
    "model.compile(loss='mse',\n",
    "              optimizer=keras.optimizers.SGD(lr=1),\n",
    "              metrics=['accuracy'])"
   ]
  },
  {
   "cell_type": "markdown",
   "metadata": {},
   "source": [
    "### Preparación de los datos. Entrenamiento y test\n",
    "\n",
    "Una vez completamente definido el modelo y cómo lo vamos a entrenar es necesario preparar los datos sobre los que vamos a trabajar. Esta vez vamos a dividir nuestro conjunto de muestras en dos subconjuntos: uno  para **entrenar** (*train*) y otro para **verificar** (*test*). Cuando entrenamos una red neuronal con un conjunto de muestras, ¿cómo podemos estar seguros de que esa red es capaz de clasificar correctamente nuevas muestras que nunca haya visto antes? Dicho de otro modo, ¿cómo podemos saber si la red puede **generalizar**?\n",
    "\n",
    "Cuando de pequeños aprendemos a sumar, lo hacemos practicando con muchos ejercicios. Cuando dominamos la técnica somos capaces de realizar cualquier suma. No nos hemos aprendido de memoria el resultado de todos los ejemplos con lo que hemos aprendido. A eso se llama generalizar.\n",
    "\n",
    "Para saber si una red ha aprendido correctamente hacemos esta división. Vamos a entrenar la red con el **conjunto de entrenamiento**. Y una vez entrenada comprobaremos cuántas muestras del **conjunto de test** es capaz de clasificar correctamente. Si el porcentaje de aciertos es satisfactorio concluimos que la red está correctamente entrenada.\n"
   ]
  },
  {
   "cell_type": "code",
   "execution_count": 5,
   "metadata": {},
   "outputs": [],
   "source": [
    "import numpy as np\n",
    "\n",
    "data = np.genfromtxt('data/iris.data', delimiter=\",\")  # Cargamos el dataset iris\n",
    "np.random.shuffle(data)  # Desordenamos el dataset para conseguir minibatchs con suficiente variación de muestras\n",
    "\n",
    "def one_hot(x, n):\n",
    "    if type(x) == list:\n",
    "        x = np.array(x)\n",
    "    x = x.flatten()\n",
    "    o_h = np.zeros((len(x), n))\n",
    "    o_h[np.arange(len(x)), x] = 1\n",
    "    return o_h\n",
    "\n",
    "x_data = data[:, 0:4].astype('f4')  # Muestras\n",
    "y_data = one_hot(data[:, 4].astype(int), 3)  # Etiquetas en formato one-hot\n",
    "\n",
    "# Tomamos el 80% (120) de las muestras para entrenar y el 20% (30) para testear\n",
    "x_train = x_data[:120]\n",
    "x_test = x_data[120:]\n",
    "y_train = y_data[:120]\n",
    "y_test = y_data[120:]\n"
   ]
  },
  {
   "cell_type": "markdown",
   "metadata": {},
   "source": [
    "### Entrenamiento\n",
    "\n",
    "Procedemos a hacer el entrenamiento de la red. Para ello solo tenemos que invocar al método <code>fit</code> del modelo y especificarle que queremos entrenar $200$ épocas y que use un tamaño de lote de $15$."
   ]
  },
  {
   "cell_type": "code",
   "execution_count": 6,
   "metadata": {},
   "outputs": [
    {
     "name": "stdout",
     "output_type": "stream",
     "text": [
      "Epoch 1/100\n",
      "120/120 [==============================] - 1s 11ms/step - loss: 0.2200 - accuracy: 0.3750\n",
      "Epoch 2/100\n",
      "120/120 [==============================] - 0s 142us/step - loss: 0.1934 - accuracy: 0.6667\n",
      "Epoch 3/100\n",
      "120/120 [==============================] - 0s 133us/step - loss: 0.1675 - accuracy: 0.6833\n",
      "Epoch 4/100\n",
      "120/120 [==============================] - 0s 133us/step - loss: 0.1503 - accuracy: 0.6833\n",
      "Epoch 5/100\n",
      "120/120 [==============================] - 0s 133us/step - loss: 0.1375 - accuracy: 0.6917\n",
      "Epoch 6/100\n",
      "120/120 [==============================] - 0s 125us/step - loss: 0.1305 - accuracy: 0.6750\n",
      "Epoch 7/100\n",
      "120/120 [==============================] - 0s 133us/step - loss: 0.1207 - accuracy: 0.6833\n",
      "Epoch 8/100\n",
      "120/120 [==============================] - 0s 125us/step - loss: 0.1167 - accuracy: 0.7667\n",
      "Epoch 9/100\n",
      "120/120 [==============================] - 0s 133us/step - loss: 0.1094 - accuracy: 0.8250\n",
      "Epoch 10/100\n",
      "120/120 [==============================] - 0s 133us/step - loss: 0.1047 - accuracy: 0.8667\n",
      "Epoch 11/100\n",
      "120/120 [==============================] - 0s 125us/step - loss: 0.0995 - accuracy: 0.8250\n",
      "Epoch 12/100\n",
      "120/120 [==============================] - 0s 125us/step - loss: 0.0977 - accuracy: 0.8667\n",
      "Epoch 13/100\n",
      "120/120 [==============================] - 0s 117us/step - loss: 0.0990 - accuracy: 0.8500\n",
      "Epoch 14/100\n",
      "120/120 [==============================] - 0s 125us/step - loss: 0.0913 - accuracy: 0.8833\n",
      "Epoch 15/100\n",
      "120/120 [==============================] - 0s 125us/step - loss: 0.0889 - accuracy: 0.8750\n",
      "Epoch 16/100\n",
      "120/120 [==============================] - 0s 125us/step - loss: 0.0845 - accuracy: 0.9000\n",
      "Epoch 17/100\n",
      "120/120 [==============================] - 0s 125us/step - loss: 0.0806 - accuracy: 0.9083\n",
      "Epoch 18/100\n",
      "120/120 [==============================] - 0s 108us/step - loss: 0.0817 - accuracy: 0.8833\n",
      "Epoch 19/100\n",
      "120/120 [==============================] - 0s 125us/step - loss: 0.0850 - accuracy: 0.8583\n",
      "Epoch 20/100\n",
      "120/120 [==============================] - 0s 108us/step - loss: 0.0715 - accuracy: 0.9333\n",
      "Epoch 21/100\n",
      "120/120 [==============================] - 0s 117us/step - loss: 0.0795 - accuracy: 0.9083\n",
      "Epoch 22/100\n",
      "120/120 [==============================] - 0s 108us/step - loss: 0.0684 - accuracy: 0.9250\n",
      "Epoch 23/100\n",
      "120/120 [==============================] - 0s 117us/step - loss: 0.0713 - accuracy: 0.8750\n",
      "Epoch 24/100\n",
      "120/120 [==============================] - 0s 117us/step - loss: 0.0586 - accuracy: 0.9750\n",
      "Epoch 25/100\n",
      "120/120 [==============================] - 0s 108us/step - loss: 0.0815 - accuracy: 0.8583\n",
      "Epoch 26/100\n",
      "120/120 [==============================] - 0s 108us/step - loss: 0.0768 - accuracy: 0.8917\n",
      "Epoch 27/100\n",
      "120/120 [==============================] - 0s 108us/step - loss: 0.0864 - accuracy: 0.8083\n",
      "Epoch 28/100\n",
      "120/120 [==============================] - 0s 117us/step - loss: 0.0669 - accuracy: 0.9083\n",
      "Epoch 29/100\n",
      "120/120 [==============================] - 0s 117us/step - loss: 0.0704 - accuracy: 0.8833\n",
      "Epoch 30/100\n",
      "120/120 [==============================] - 0s 108us/step - loss: 0.1073 - accuracy: 0.7417\n",
      "Epoch 31/100\n",
      "120/120 [==============================] - 0s 117us/step - loss: 0.0591 - accuracy: 0.9000\n",
      "Epoch 32/100\n",
      "120/120 [==============================] - 0s 108us/step - loss: 0.0581 - accuracy: 0.9083\n",
      "Epoch 33/100\n",
      "120/120 [==============================] - 0s 117us/step - loss: 0.0612 - accuracy: 0.8750\n",
      "Epoch 34/100\n",
      "120/120 [==============================] - 0s 117us/step - loss: 0.0461 - accuracy: 0.9500\n",
      "Epoch 35/100\n",
      "120/120 [==============================] - 0s 108us/step - loss: 0.0425 - accuracy: 0.9417\n",
      "Epoch 36/100\n",
      "120/120 [==============================] - 0s 108us/step - loss: 0.0438 - accuracy: 0.9333\n",
      "Epoch 37/100\n",
      "120/120 [==============================] - ETA: 0s - loss: 0.0226 - accuracy: 1.00 - 0s 117us/step - loss: 0.0539 - accuracy: 0.9250\n",
      "Epoch 38/100\n",
      "120/120 [==============================] - 0s 108us/step - loss: 0.0680 - accuracy: 0.8583\n",
      "Epoch 39/100\n",
      "120/120 [==============================] - 0s 108us/step - loss: 0.0377 - accuracy: 0.9500\n",
      "Epoch 40/100\n",
      "120/120 [==============================] - 0s 108us/step - loss: 0.0594 - accuracy: 0.8750\n",
      "Epoch 41/100\n",
      "120/120 [==============================] - 0s 117us/step - loss: 0.0552 - accuracy: 0.8917\n",
      "Epoch 42/100\n",
      "120/120 [==============================] - 0s 108us/step - loss: 0.0441 - accuracy: 0.9417\n",
      "Epoch 43/100\n",
      "120/120 [==============================] - 0s 117us/step - loss: 0.0311 - accuracy: 0.9833\n",
      "Epoch 44/100\n",
      "120/120 [==============================] - 0s 100us/step - loss: 0.0341 - accuracy: 0.9917\n",
      "Epoch 45/100\n",
      "120/120 [==============================] - 0s 108us/step - loss: 0.0276 - accuracy: 0.9917\n",
      "Epoch 46/100\n",
      "120/120 [==============================] - 0s 108us/step - loss: 0.0322 - accuracy: 0.9667\n",
      "Epoch 47/100\n",
      "120/120 [==============================] - 0s 108us/step - loss: 0.0321 - accuracy: 0.9583\n",
      "Epoch 48/100\n",
      "120/120 [==============================] - 0s 117us/step - loss: 0.0401 - accuracy: 0.9417\n",
      "Epoch 49/100\n",
      "120/120 [==============================] - 0s 117us/step - loss: 0.0562 - accuracy: 0.9083\n",
      "Epoch 50/100\n",
      "120/120 [==============================] - 0s 117us/step - loss: 0.0385 - accuracy: 0.9250\n",
      "Epoch 51/100\n",
      "120/120 [==============================] - 0s 108us/step - loss: 0.0591 - accuracy: 0.9000\n",
      "Epoch 52/100\n",
      "120/120 [==============================] - 0s 108us/step - loss: 0.0422 - accuracy: 0.9083\n",
      "Epoch 53/100\n",
      "120/120 [==============================] - 0s 108us/step - loss: 0.0360 - accuracy: 0.9417\n",
      "Epoch 54/100\n",
      "120/120 [==============================] - 0s 117us/step - loss: 0.0290 - accuracy: 0.9500\n",
      "Epoch 55/100\n",
      "120/120 [==============================] - 0s 116us/step - loss: 0.0259 - accuracy: 0.9750\n",
      "Epoch 56/100\n",
      "120/120 [==============================] - 0s 108us/step - loss: 0.0340 - accuracy: 0.9500\n",
      "Epoch 57/100\n",
      "120/120 [==============================] - 0s 108us/step - loss: 0.0471 - accuracy: 0.9000\n",
      "Epoch 58/100\n",
      "120/120 [==============================] - 0s 100us/step - loss: 0.0213 - accuracy: 0.9750\n",
      "Epoch 59/100\n",
      "120/120 [==============================] - 0s 100us/step - loss: 0.0280 - accuracy: 0.9667\n",
      "Epoch 60/100\n",
      "120/120 [==============================] - 0s 100us/step - loss: 0.0192 - accuracy: 0.9917\n",
      "Epoch 61/100\n",
      "120/120 [==============================] - 0s 100us/step - loss: 0.0208 - accuracy: 0.9917\n",
      "Epoch 62/100\n",
      "120/120 [==============================] - 0s 108us/step - loss: 0.0389 - accuracy: 0.9167\n",
      "Epoch 63/100\n",
      "120/120 [==============================] - 0s 100us/step - loss: 0.0226 - accuracy: 0.9833\n",
      "Epoch 64/100\n",
      "120/120 [==============================] - 0s 108us/step - loss: 0.0201 - accuracy: 0.9917\n",
      "Epoch 65/100\n",
      "120/120 [==============================] - 0s 108us/step - loss: 0.0321 - accuracy: 0.9500\n",
      "Epoch 66/100\n",
      "120/120 [==============================] - 0s 108us/step - loss: 0.0271 - accuracy: 0.9583\n",
      "Epoch 67/100\n",
      "120/120 [==============================] - 0s 117us/step - loss: 0.0308 - accuracy: 0.9500\n",
      "Epoch 68/100\n",
      "120/120 [==============================] - 0s 125us/step - loss: 0.0334 - accuracy: 0.9167\n",
      "Epoch 69/100\n",
      "120/120 [==============================] - 0s 125us/step - loss: 0.0207 - accuracy: 0.9833\n",
      "Epoch 70/100\n",
      "120/120 [==============================] - 0s 125us/step - loss: 0.0152 - accuracy: 1.0000\n",
      "Epoch 71/100\n",
      "120/120 [==============================] - 0s 133us/step - loss: 0.0481 - accuracy: 0.8833\n",
      "Epoch 72/100\n",
      "120/120 [==============================] - 0s 183us/step - loss: 0.0191 - accuracy: 0.9833\n",
      "Epoch 73/100\n",
      "120/120 [==============================] - 0s 175us/step - loss: 0.0168 - accuracy: 0.9833\n",
      "Epoch 74/100\n",
      "120/120 [==============================] - 0s 142us/step - loss: 0.0644 - accuracy: 0.8667\n",
      "Epoch 75/100\n",
      "120/120 [==============================] - 0s 158us/step - loss: 0.0395 - accuracy: 0.9250\n",
      "Epoch 76/100\n",
      "120/120 [==============================] - 0s 117us/step - loss: 0.0215 - accuracy: 0.9750\n",
      "Epoch 77/100\n",
      "120/120 [==============================] - 0s 108us/step - loss: 0.0209 - accuracy: 0.9750\n",
      "Epoch 78/100\n",
      "120/120 [==============================] - 0s 117us/step - loss: 0.0370 - accuracy: 0.9167\n",
      "Epoch 79/100\n",
      "120/120 [==============================] - 0s 117us/step - loss: 0.0199 - accuracy: 0.9667\n",
      "Epoch 80/100\n",
      "120/120 [==============================] - 0s 117us/step - loss: 0.0348 - accuracy: 0.9333\n",
      "Epoch 81/100\n",
      "120/120 [==============================] - 0s 117us/step - loss: 0.0313 - accuracy: 0.9500\n",
      "Epoch 82/100\n",
      "120/120 [==============================] - 0s 117us/step - loss: 0.0424 - accuracy: 0.9250\n",
      "Epoch 83/100\n",
      "120/120 [==============================] - 0s 117us/step - loss: 0.0190 - accuracy: 0.9833\n",
      "Epoch 84/100\n",
      "120/120 [==============================] - 0s 117us/step - loss: 0.0185 - accuracy: 0.9667\n",
      "Epoch 85/100\n",
      "120/120 [==============================] - 0s 108us/step - loss: 0.0183 - accuracy: 0.9583\n",
      "Epoch 86/100\n",
      "120/120 [==============================] - 0s 108us/step - loss: 0.0254 - accuracy: 0.9500\n",
      "Epoch 87/100\n",
      "120/120 [==============================] - 0s 108us/step - loss: 0.0198 - accuracy: 0.9667\n",
      "Epoch 88/100\n",
      "120/120 [==============================] - 0s 125us/step - loss: 0.0334 - accuracy: 0.9250\n",
      "Epoch 89/100\n",
      "120/120 [==============================] - 0s 125us/step - loss: 0.0128 - accuracy: 1.0000\n",
      "Epoch 90/100\n",
      "120/120 [==============================] - 0s 117us/step - loss: 0.0165 - accuracy: 0.9750\n",
      "Epoch 91/100\n",
      "120/120 [==============================] - 0s 117us/step - loss: 0.0140 - accuracy: 0.9833\n",
      "Epoch 92/100\n",
      "120/120 [==============================] - 0s 108us/step - loss: 0.0382 - accuracy: 0.9333\n",
      "Epoch 93/100\n",
      "120/120 [==============================] - 0s 125us/step - loss: 0.0204 - accuracy: 0.9583\n",
      "Epoch 94/100\n",
      "120/120 [==============================] - 0s 117us/step - loss: 0.0188 - accuracy: 0.9833\n",
      "Epoch 95/100\n",
      "120/120 [==============================] - 0s 108us/step - loss: 0.0268 - accuracy: 0.9500\n",
      "Epoch 96/100\n",
      "120/120 [==============================] - 0s 117us/step - loss: 0.0172 - accuracy: 0.9750\n",
      "Epoch 97/100\n",
      "120/120 [==============================] - 0s 108us/step - loss: 0.0136 - accuracy: 0.9917\n",
      "Epoch 98/100\n",
      "120/120 [==============================] - 0s 117us/step - loss: 0.0131 - accuracy: 0.9833\n",
      "Epoch 99/100\n",
      "120/120 [==============================] - 0s 108us/step - loss: 0.0152 - accuracy: 0.9750\n",
      "Epoch 100/100\n",
      "120/120 [==============================] - 0s 108us/step - loss: 0.0424 - accuracy: 0.9083\n"
     ]
    }
   ],
   "source": [
    "history = model.fit(x_train, y_train, epochs=100, batch_size=15)"
   ]
  },
  {
   "cell_type": "markdown",
   "metadata": {},
   "source": [
    "### Visualización\n",
    "\n",
    "El objeto <code>history</code> que nos devuelve el método <code>fit</code> contiene la información acerca del progreso del entrenamiento. Vemos cómo el valor de *loss* va decreciendo mientras el *accuracy* va aproximándose a $1$, lo que representa casi el 100% de las muestras de entramiento bien clasificadas."
   ]
  },
  {
   "cell_type": "code",
   "execution_count": 7,
   "metadata": {},
   "outputs": [
    {
     "data": {
      "image/png": "[encoded data removed]",
      "text/plain": [
       "<Figure size 432x288 with 1 Axes>"
      ]
     },
     "metadata": {
      "needs_background": "light"
     },
     "output_type": "display_data"
    }
   ],
   "source": [
    "from matplotlib import pyplot as plt \n",
    "\n",
    "plt.plot(history.history['loss'], label='Loss')\n",
    "plt.plot(history.history['accuracy'], label='accuracy')\n",
    "\n",
    "plt.title('Entrenamiento IRIS')\n",
    "plt.xlabel('Épocas')\n",
    "plt.legend(loc=\"upper left\")\n",
    "\n",
    "plt.show()"
   ]
  },
  {
   "cell_type": "markdown",
   "metadata": {},
   "source": [
    "### Test\n",
    "\n",
    "Durante el entrenamiento *accuracy* nos indica el porcentaje de aciertos sobre el mismo conjunto de entrenamiento. Pero nos interesa conocer el porcentaje de acierto sobre un conjunto no visto antes por la red. Para ello utilizamos el conjunto de test. Sobre este conjunto vemos que el valor de *loss* es $0.0215$ y el *accuracy* (que es el importante) es del $96.7\\%$."
   ]
  },
  {
   "cell_type": "code",
   "execution_count": 36,
   "metadata": {},
   "outputs": [
    {
     "name": "stdout",
     "output_type": "stream",
     "text": [
      "['loss', 'accuracy']\n",
      "\r",
      "30/30 [==============================] - 0s 400us/step\n"
     ]
    },
    {
     "data": {
      "text/plain": [
       "[0.014211722649633884, 0.9666666388511658]"
      ]
     },
     "execution_count": 36,
     "metadata": {},
     "output_type": "execute_result"
    }
   ],
   "source": [
    "print(model.metrics_names)\n",
    "model.evaluate(x_test, y_test, verbose=1)"
   ]
  },
  {
   "cell_type": "markdown",
   "metadata": {},
   "source": [
    "### Producción\n",
    "\n",
    "Una vez entrenada y testeada la red, podemos ponerla en producción. Keras tiene funciones para guardar tanto el modelo como los pesos ya entrenados. Si queremos hacer una clasifiación invocaremos el método <code>predict</code> del modelo.\n",
    "\n",
    "Vamos a ver qué resultados nos ofrece la red si introducimos el conjunto de test."
   ]
  },
  {
   "cell_type": "code",
   "execution_count": 37,
   "metadata": {},
   "outputs": [
    {
     "name": "stdout",
     "output_type": "stream",
     "text": [
      "[0.023 0.961 0.016] -> [0. 1. 0.]\n",
      "[0.021 0.944 0.035] -> [0. 1. 0.]\n",
      "[0.009 0.351 0.64 ] -> [0. 1. 0.] ✘\n",
      "[0.969 0.028 0.003] -> [1. 0. 0.]\n",
      "[0.978 0.019 0.003] -> [1. 0. 0.]\n",
      "[0.007 0.273 0.719] -> [0. 0. 1.]\n",
      "[0.022 0.938 0.04 ] -> [0. 1. 0.]\n",
      "[0.002 0.08  0.918] -> [0. 0. 1.]\n",
      "[0.024 0.959 0.016] -> [0. 1. 0.]\n",
      "[0.002 0.077 0.921] -> [0. 0. 1.]\n",
      "[0.002 0.077 0.921] -> [0. 0. 1.]\n",
      "[0.974 0.023 0.003] -> [1. 0. 0.]\n",
      "[0.021 0.957 0.022] -> [0. 1. 0.]\n",
      "[0.028 0.954 0.017] -> [0. 1. 0.]\n",
      "[0.984 0.013 0.003] -> [1. 0. 0.]\n",
      "[0.974 0.023 0.003] -> [1. 0. 0.]\n",
      "[0.021 0.888 0.091] -> [0. 1. 0.]\n",
      "[0.982 0.015 0.003] -> [1. 0. 0.]\n",
      "[0.022 0.956 0.022] -> [0. 1. 0.]\n",
      "[0.021 0.961 0.018] -> [0. 1. 0.]\n",
      "[0.003 0.097 0.901] -> [0. 0. 1.]\n",
      "[0.03  0.954 0.016] -> [0. 1. 0.]\n",
      "[0.977 0.02  0.003] -> [1. 0. 0.]\n",
      "[0.962 0.035 0.004] -> [1. 0. 0.]\n",
      "[0.003 0.1   0.897] -> [0. 0. 1.]\n",
      "[0.002 0.07  0.928] -> [0. 0. 1.]\n",
      "[0.002 0.068 0.93 ] -> [0. 0. 1.]\n",
      "[0.002 0.073 0.925] -> [0. 0. 1.]\n",
      "[0.002 0.077 0.921] -> [0. 0. 1.]\n",
      "[0.018 0.753 0.229] -> [0. 1. 0.]\n"
     ]
    }
   ],
   "source": [
    "predictions = model.predict(x_test)\n",
    "for p, l in zip(np.round(predictions, 3), y_test):\n",
    "    if np.argmax(p) == np.argmax(l):\n",
    "        print(p, \"->\", l)\n",
    "    else:\n",
    "        print(p, \"->\", l, \"✘\")"
   ]
  },
  {
   "cell_type": "markdown",
   "metadata": {},
   "source": [
    "## Ejercicios\n",
    "\n",
    "- Instala Keras (o usa Google Colab) y crea una proyecto en PyCharm (o Anaconda o Jupyter) para que ejecutes todo el código que se muestra en esta clase.\n",
    "\n",
    "\n",
    "- Varía algunos hiperparámetros (learning rate, tamaño del mini-lote, número de neuronas en la capa oculta, número de épocas) y observa qué ocurre."
   ]
  },
  {
   "cell_type": "code",
   "execution_count": null,
   "metadata": {},
   "outputs": [],
   "source": []
  }
 ],
 "metadata": {
  "kernelspec": {
   "display_name": "Python 3",
   "language": "python",
   "name": "python3"
  },
  "language_info": {
   "codemirror_mode": {
    "name": "ipython",
    "version": 3
   },
   "file_extension": ".py",
   "mimetype": "text/x-python",
   "name": "python",
   "nbconvert_exporter": "python",
   "pygments_lexer": "ipython3",
   "version": "3.7.6"
  }
 },
 "nbformat": 4,
 "nbformat_minor": 4
}
