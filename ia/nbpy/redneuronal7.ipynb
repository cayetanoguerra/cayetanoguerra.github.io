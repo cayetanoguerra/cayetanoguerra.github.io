{
 "cells": [
  {
   "cell_type": "markdown",
   "metadata": {},
   "source": [
    "# Redes neuronales 7\n",
    "---\n",
    "\n",
    "El conjunto MNIST es un *dataset* pequeño. Es decir, nos puede caber, sin ningún problema, en la memoria del ordenador. Pero, ¿qué pasa cuando tenemos un conjunto de imágenes grande, tanto en el tamaño de la imagen como en el número de estas? Lo cual es lo normal en cualquier problema real en que nos encontremos. Ya no nos cabe entero en la memoria, tendremos que ir procesándolo poco a poco.\n",
    "\n",
    "\n",
    "Para esto, Keras dispone de la clase **ImageDataGenerator**. Los métodos de esta clase nos permitirán ir creando, en tiempo de ejecución, *batches*, tanto de entrenamiento como de validación, y procesar las imágenes para adaptarlas al tamaño y formato requerido por la red. \n",
    "\n",
    "\n",
    "Para ello necesitamos tener todas las imágenes del *dataset* en una carpeta. A su vez, dentro de esta carpeta habrá tantas carpetas como clases distintas tengamos, y cada una de estas carpetas contendrá solo imágenes de la misma clase.\n",
    "\n",
    "\n",
    "Vamos a usar como ejemplo el *dataset* [Sign-Language](./data/Sign-Language.zip). Este *dataset* está formado por diez clases, cada una de ellas con imágenes en lengua de signos representando los dígitos del 0 al 9.\n",
    "\n",
    "<img src=\"imgs/digits.jpg\" width=\"30%\">\n",
    "\n",
    "Importamos la clase **ImageDataGenerator**."
   ]
  },
  {
   "cell_type": "code",
   "execution_count": null,
   "metadata": {
    "collapsed": true
   },
   "outputs": [],
   "source": [
    "from keras.preprocessing.image import ImageDataGenerator"
   ]
  },
  {
   "cell_type": "markdown",
   "metadata": {},
   "source": [
    "Ahora instanciamos la clase **ImageDataGenerator**. Por ahora, el único parámetro que vamos a definir será **rescale**. Las imágenes que tenemos en nuestro *dataset* están almacenadas en tres canales: rojo, verde y azul. Cada canal tiene un valor, de tipo entero, comprendido en un rango de 0 a 255. Lo primero que necesitamos hacer es re-escalarlo a un rango de valores de tipo flotante entre 0 y 1. Eso es lo que hace <code>rescale=1./255</code>."
   ]
  },
  {
   "cell_type": "code",
   "execution_count": null,
   "metadata": {
    "collapsed": true
   },
   "outputs": [],
   "source": [
    "train_datagen = ImageDataGenerator(\n",
    "        rescale=1./255)"
   ]
  },
  {
   "cell_type": "markdown",
   "metadata": {},
   "source": [
    "Una vez tenemos la clase instanciada en el objeto <code>train_datagen</code>, invocamos a su método <code>flow_from_directory</code> [(doc)](https://keras.io/preprocessing/image/#flow_from_directory). Aquí especificamos la carpeta donde están las imágenes, el tamaño que queremos que tengan todas, el tamaño del *batch* y el tipo de clasificación que se va a hacer: **binaria** o **categórica**. Binaria significa que solo hay dos clases, categórica que hay más de dos."
   ]
  },
  {
   "cell_type": "code",
   "execution_count": null,
   "metadata": {
    "collapsed": true
   },
   "outputs": [],
   "source": [
    "train_generator = train_datagen.flow_from_directory(\n",
    "        \"/path/to/the/images\",\n",
    "        target_size=(150, 150),\n",
    "        batch_size=20,\n",
    "        class_mode='categorical')"
   ]
  },
  {
   "cell_type": "markdown",
   "metadata": {},
   "source": [
    "Otra diferencia con respecto al código que vimos para realizar la clasificación del conjunto MNIST es que, en aquel, usamos el método <code>.fit()</code>, ahora utilizaremos <code>.fit_generator()</code>. Básicamente, invocamos a <code>fit</code> cuando nuestro *dataset* cabe entero en RAM, y usamos <code>fit_generator</code> cuando no cabe.\n",
    "\n",
    "Veamos ahora todo el código junto."
   ]
  },
  {
   "cell_type": "code",
   "execution_count": 5,
   "metadata": {},
   "outputs": [
    {
     "name": "stdout",
     "output_type": "stream",
     "text": [
      "Found 2062 images belonging to 10 classes.\n",
      "Epoch 1/15\n",
      "104/104 [==============================] - 3s 25ms/step - loss: 2.2430 - accuracy: 0.2250\n",
      "Epoch 2/15\n",
      "104/104 [==============================] - 3s 25ms/step - loss: 1.4052 - accuracy: 0.5412\n",
      "Epoch 3/15\n",
      "104/104 [==============================] - 3s 26ms/step - loss: 0.8913 - accuracy: 0.6853\n",
      "Epoch 4/15\n",
      "104/104 [==============================] - 3s 25ms/step - loss: 0.7212 - accuracy: 0.7444\n",
      "Epoch 5/15\n",
      "104/104 [==============================] - 3s 25ms/step - loss: 0.6002 - accuracy: 0.7939\n",
      "Epoch 6/15\n",
      "104/104 [==============================] - 3s 25ms/step - loss: 0.4741 - accuracy: 0.8337\n",
      "Epoch 7/15\n",
      "104/104 [==============================] - 3s 25ms/step - loss: 0.4069 - accuracy: 0.8579\n",
      "Epoch 8/15\n",
      "104/104 [==============================] - 3s 25ms/step - loss: 0.3443 - accuracy: 0.8710\n",
      "Epoch 9/15\n",
      "104/104 [==============================] - 3s 25ms/step - loss: 0.2918 - accuracy: 0.8957\n",
      "Epoch 10/15\n",
      "104/104 [==============================] - 3s 25ms/step - loss: 0.2338 - accuracy: 0.9258\n",
      "Epoch 11/15\n",
      "104/104 [==============================] - 3s 25ms/step - loss: 0.2462 - accuracy: 0.9151\n",
      "Epoch 12/15\n",
      "104/104 [==============================] - 3s 25ms/step - loss: 0.1749 - accuracy: 0.9379 0s - loss: 0.1710 - ac\n",
      "Epoch 13/15\n",
      "104/104 [==============================] - 3s 25ms/step - loss: 0.1829 - accuracy: 0.9277\n",
      "Epoch 14/15\n",
      "104/104 [==============================] - 3s 25ms/step - loss: 0.1778 - accuracy: 0.9408\n",
      "Epoch 15/15\n",
      "104/104 [==============================] - 3s 25ms/step - loss: 0.1520 - accuracy: 0.9496\n"
     ]
    },
    {
     "data": {
      "text/plain": [
       "<keras.callbacks.callbacks.History at 0x214062cde88>"
      ]
     },
     "execution_count": 5,
     "metadata": {},
     "output_type": "execute_result"
    }
   ],
   "source": [
    "from keras.preprocessing.image import ImageDataGenerator\n",
    "from keras.models import Sequential\n",
    "from keras.layers import Dense, Dropout\n",
    "from keras.optimizers import RMSprop\n",
    "from keras.layers import Dense, Dropout, Flatten\n",
    "from keras.layers import Conv2D, MaxPooling2D\n",
    "from keras import backend as K\n",
    "import keras\n",
    "from time import time\n",
    "\n",
    "\n",
    "# DATA SOURCE --------------------------------------------------\n",
    "\n",
    "batch_size = 20\n",
    "\n",
    "train_data_dir = './data/Sign-Language'\n",
    "\n",
    "train_datagen = ImageDataGenerator(\n",
    "        rescale=1./255)\n",
    "\n",
    "train_generator = train_datagen.flow_from_directory(\n",
    "        train_data_dir,\n",
    "        target_size=(150, 150),\n",
    "        batch_size=batch_size,\n",
    "        class_mode='categorical')\n",
    "\n",
    "# MODEL --------------------------------------------------\n",
    "\n",
    "model = Sequential()\n",
    "model.add(Conv2D(32, kernel_size=(3, 3),\n",
    "                 activation='relu',\n",
    "                 input_shape=(150, 150, 3)))\n",
    "model.add(MaxPooling2D(pool_size=(2, 2)))\n",
    "model.add(Conv2D(64, (3, 3), activation='relu'))\n",
    "model.add(MaxPooling2D(pool_size=(2, 2)))\n",
    "model.add(Dropout(0.25))\n",
    "model.add(Flatten())\n",
    "model.add(Dense(128, activation='relu'))\n",
    "\n",
    "model.add(Dropout(0.5))\n",
    "model.add(Dense(10, activation='softmax'))\n",
    "\n",
    "model.compile(loss=keras.losses.categorical_crossentropy,\n",
    "              optimizer=keras.optimizers.Adadelta(),\n",
    "              metrics=['accuracy'])\n",
    "\n",
    "# TRAINING --------------------------------------------------\n",
    "\n",
    "epochs = 15\n",
    "\n",
    "model.fit_generator(\n",
    "        train_generator,\n",
    "        epochs=epochs\n",
    ")"
   ]
  },
  {
   "cell_type": "markdown",
   "metadata": {},
   "source": [
    "## Mejorando el proceso\n",
    "\n",
    "Son varias las mejoras que podemos hacer al entrenamiento y conseguir un mayor rendimiento. Uno de los elementos críticos para obtener buenos resultados es tener un *dataset* grande. Desafortunadamente, eso es difícil o costoso en muchos casos. Sin embargo, podemos agrandar nuestro *dataset* de forma artificial mediante la técnica del **data augmentation**.\n",
    "\n",
    "### Data augmentation\n",
    "\n",
    "Supongamos que queremos hacer un clasificador de perros y gatos. Tenemos unas cuantas imágenes de perros y otras tantas de gatos. Cuantas más imágenes tengamos, nuestro clasificador tendrá la oportunidad de disponer de más características que le permitan discernir entre ambas especies animales.\n",
    "\n",
    "Una manera de aumentar ese conjunto es aplicar una serie de ligeras transformaciones aleatorias a las imágenes para obtener, desde el punto de vista del clasificador, otras nuevas. Por ejemplo, al invertir horizontalmente una imagen de un perro obtenemos un conjunto nuevo de características. Es verdad que no son más que versiones invertidas de características ya existentes, pero, aun así, no dejan de ser nuevas. De esta forma, podemos invertir, ampliar, rotar o cambiar el brillo de las imágenes para obtener otras nuevas. Esto lo conseguimos definiendo los correspondientes parámetros en la inicialización de la clase <code>ImageDataGenerator</code> [(doc)](https://keras.io/preprocessing/image/#imagedatagenerator-class).\n",
    "\n",
    "\n",
    "<img src=\"imgs/perro.jpg\" width=\"80%\">"
   ]
  },
  {
   "cell_type": "markdown",
   "metadata": {},
   "source": [
    "### Conjunto de validación\n",
    "\n",
    "Es importante contar con un conjunto de validación que nos permita ver si nuestro modelo está incurriendo en sobreajuste (*overfitting*). En conjuntos pequeños, en los que utilizamos el método <code>fit</code>, podemos establecer un valor al parámetro <code>validation_split</code> de la clase <code>ImageDataGenerator</code> y automáticamente tendremos un conjunto de validación. Sin embargo, cuando nuestro *dataset* es grande y utilizamos el método <code>fit_generator</code> tenemos que separar nuestro conjunto de validación a mano (esto quiere decir que nos hagamos un *script* que lo separe, no que vayamos con el ratón seleccionando imagen por imagen.)\n",
    "\n",
    "Una vez tenemos nuestro conjunto de validación separado, debemos crearnos otra instancia de la clase <code>ImageDataGenerator</code> para procesar las imágenes de validación y alimentar al modelo."
   ]
  },
  {
   "cell_type": "markdown",
   "metadata": {},
   "source": [
    "### Cuándo parar el entrenamiento: early stopping\n",
    "\n",
    "Hasta ahora hemos definido *a priori* el número de épocas con las que queremos que el modelo entrene. Pero, ¿cómo podemos saber si son pocas o muchas épocas? Si son pocas nos quedaremos por debajo del rendimiento máximo de la red. Si son demasiadas podemos incurrir en sobreajuste. Por tanto, deberíamos parar en el momento en el que el valor de *val_accuracy* deje de subir y empiece a bajar. \n",
    "\n",
    "Para hacer esto contamos con la clase <code>EarlyStopping</code>. Básicamente, es un *callback* que añadimos al método <code>fit_generator</code> para que cuando detecte la condición de parada se detenga el entrenamiento.\n",
    "\n",
    "Podemos tener en cuenta más cosas. Por ejemplo, es muy posible que se nos dé el caso en el que el valor *val_accuracy* descienda momentáneamente para luego seguir subiendo mucho más. Sería un error detener el entrenamiento en ese momento. Para evitarlo usamos el parámetro <code>patience</code>, el cual espera durante un número determinado de épocas con empeoramiento antes de parar. \n",
    "\n",
    "Otro parámetro importante es <code>restore_best_weights</code>. Cuando hemos dejado atrás el conjunto de pesos que nos proporcionaba el mejor resultado, si especificamos a *True* su valor, recuperaremos ese conjunto. \n"
   ]
  },
  {
   "cell_type": "markdown",
   "metadata": {},
   "source": [
    "### Guardando el modelo\n",
    "\n",
    "Entrenar un modelo puede llevarnos minutos, horas o varios días. Por tanto, una vez entrenado querremos guardarlo para poderlo cargar de nuevo y usar cuando queramos. Es posible guardar solo los pesos, solo la arquitectura o los pesos y la arquitectura juntos. [(doc)](https://keras.io/getting-started/faq/#how-can-i-save-a-keras-model)\n",
    "\n",
    "#### Guardando y cargando los pesos\n",
    "Para guardar únicamente los pesos utilizaremos el método <code>save_weights</code>. Para cargarlos utilizaremos <code>load_weights</code>\n",
    "\n",
    "#### Guardando y cargando el modelo\n",
    "Para guardar y cargar únicamente el modelo usaremos <code>model.to_json()</code> y <code>model_from_json()</code>\n",
    "\n",
    "#### Guardándolo y cargándolo todo\n",
    "Para guardar y cargar todo haremos <code>model.save()</code> y <code>load_model()</code>. Aquí es importante destacar que también se guarda la configuración del entrenamiento, así que es posible seguir reentrenándolo.\n"
   ]
  },
  {
   "cell_type": "markdown",
   "metadata": {},
   "source": [
    "## Código"
   ]
  },
  {
   "cell_type": "code",
   "execution_count": 68,
   "metadata": {},
   "outputs": [
    {
     "name": "stdout",
     "output_type": "stream",
     "text": [
      "Found 2062 images belonging to 10 classes.\n",
      "Found 2062 images belonging to 10 classes.\n",
      "Epoch 1/200\n",
      "104/104 [==============================] - 13s 126ms/step - loss: 2.3524 - accuracy: 0.1625 - val_loss: 2.0167 - val_accuracy: 0.4350\n",
      "Epoch 2/200\n",
      "104/104 [==============================] - 12s 116ms/step - loss: 1.7256 - accuracy: 0.4020 - val_loss: 1.5147 - val_accuracy: 0.7270\n",
      "Epoch 3/200\n",
      "104/104 [==============================] - 11s 110ms/step - loss: 1.3372 - accuracy: 0.5373 - val_loss: 1.1056 - val_accuracy: 0.7837\n",
      "Epoch 4/200\n",
      "104/104 [==============================] - 11s 108ms/step - loss: 1.1078 - accuracy: 0.6091 - val_loss: 1.3830 - val_accuracy: 0.8012\n",
      "Epoch 5/200\n",
      "104/104 [==============================] - 15s 149ms/step - loss: 1.0012 - accuracy: 0.6537 - val_loss: 1.0898 - val_accuracy: 0.8385\n",
      "Epoch 6/200\n",
      "104/104 [==============================] - 12s 119ms/step - loss: 0.8882 - accuracy: 0.6712 - val_loss: 0.1318 - val_accuracy: 0.8749\n",
      "Epoch 7/200\n",
      "104/104 [==============================] - 12s 120ms/step - loss: 0.8229 - accuracy: 0.7056 - val_loss: 0.2300 - val_accuracy: 0.9006\n",
      "Epoch 8/200\n",
      "104/104 [==============================] - 13s 123ms/step - loss: 0.7545 - accuracy: 0.7318 - val_loss: 0.1171 - val_accuracy: 0.9248\n",
      "Epoch 9/200\n",
      "104/104 [==============================] - 12s 115ms/step - loss: 0.7219 - accuracy: 0.7430 - val_loss: 0.0056 - val_accuracy: 0.9316\n",
      "Epoch 10/200\n",
      "104/104 [==============================] - 12s 115ms/step - loss: 0.6433 - accuracy: 0.7755 - val_loss: 0.0010 - val_accuracy: 0.9481\n",
      "Epoch 11/200\n",
      "104/104 [==============================] - 12s 115ms/step - loss: 0.6407 - accuracy: 0.7614 - val_loss: 0.1801 - val_accuracy: 0.9520\n",
      "Epoch 12/200\n",
      "104/104 [==============================] - 12s 116ms/step - loss: 0.5988 - accuracy: 0.7881 - val_loss: 0.1775 - val_accuracy: 0.9442\n",
      "Epoch 13/200\n",
      "104/104 [==============================] - 12s 113ms/step - loss: 0.5810 - accuracy: 0.7939 - val_loss: 0.1802 - val_accuracy: 0.9355\n",
      "Epoch 14/200\n",
      "104/104 [==============================] - 12s 113ms/step - loss: 0.5210 - accuracy: 0.8089 - val_loss: 0.0038 - val_accuracy: 0.9544\n",
      "Epoch 15/200\n",
      "104/104 [==============================] - 12s 114ms/step - loss: 0.5244 - accuracy: 0.8104 - val_loss: 0.0690 - val_accuracy: 0.9631\n",
      "Epoch 16/200\n",
      "104/104 [==============================] - 12s 113ms/step - loss: 0.5440 - accuracy: 0.8109 - val_loss: 0.0139 - val_accuracy: 0.9636\n",
      "Epoch 17/200\n",
      "104/104 [==============================] - 12s 114ms/step - loss: 0.5123 - accuracy: 0.8307 - val_loss: 0.0022 - val_accuracy: 0.9685\n",
      "Epoch 18/200\n",
      "104/104 [==============================] - 11s 107ms/step - loss: 0.4767 - accuracy: 0.8361 - val_loss: 0.0023 - val_accuracy: 0.9743\n",
      "Epoch 19/200\n",
      "104/104 [==============================] - 11s 106ms/step - loss: 0.4788 - accuracy: 0.8317 - val_loss: 0.0198 - val_accuracy: 0.9564\n",
      "Epoch 20/200\n",
      "104/104 [==============================] - 11s 106ms/step - loss: 0.4354 - accuracy: 0.8458 - val_loss: 4.1961e-05 - val_accuracy: 0.9685\n",
      "Epoch 21/200\n",
      "104/104 [==============================] - 11s 107ms/step - loss: 0.4646 - accuracy: 0.8477 - val_loss: 0.0291 - val_accuracy: 0.9694\n",
      "Restoring model weights from the end of the best epoch\n",
      "Epoch 00021: early stopping\n"
     ]
    }
   ],
   "source": [
    "from keras.preprocessing.image import ImageDataGenerator\n",
    "from keras.models import Sequential\n",
    "from keras.layers import Dense, Dropout\n",
    "from keras.optimizers import RMSprop\n",
    "from keras.layers import Dense, Dropout, Flatten\n",
    "from keras.layers import Conv2D, MaxPooling2D\n",
    "from keras import backend as K\n",
    "from keras.callbacks import EarlyStopping\n",
    "import keras\n",
    "from time import time\n",
    "\n",
    "\n",
    "# DATA SOURCE --------------------------------------------------\n",
    "\n",
    "batch_size = 20\n",
    "\n",
    "train_data_dir = './data/Sign-Language/training'\n",
    "validation_data_dir = './data/Sign-Language/validation'\n",
    "\n",
    "train_datagen = ImageDataGenerator(\n",
    "        rescale=1./255,\n",
    "        rotation_range=15,\n",
    "        zoom_range=0.1\n",
    ")\n",
    "\n",
    "validation_datagen = ImageDataGenerator(\n",
    "        rescale=1./255\n",
    ")\n",
    "\n",
    "train_generator = train_datagen.flow_from_directory(\n",
    "        train_data_dir,\n",
    "        target_size=(150, 150),\n",
    "        batch_size=batch_size,\n",
    "        class_mode='categorical')\n",
    "\n",
    "validation_generator = validation_datagen.flow_from_directory(\n",
    "        validation_data_dir,\n",
    "        target_size=(150, 150),\n",
    "        batch_size=batch_size,\n",
    "        class_mode='categorical')\n",
    "\n",
    "\n",
    "# MODEL --------------------------------------------------\n",
    "\n",
    "model = Sequential()\n",
    "model.add(Conv2D(32, kernel_size=(3, 3),\n",
    "                 activation='relu',\n",
    "                 input_shape=(150, 150, 3)))\n",
    "model.add(MaxPooling2D(pool_size=(2, 2)))\n",
    "model.add(Conv2D(64, (3, 3), activation='relu'))\n",
    "model.add(MaxPooling2D(pool_size=(2, 2)))\n",
    "model.add(Dropout(0.25))\n",
    "model.add(Flatten())\n",
    "model.add(Dense(128, activation='relu'))\n",
    "\n",
    "model.add(Dropout(0.5))\n",
    "model.add(Dense(10, activation='softmax'))\n",
    "\n",
    "model.compile(loss=keras.losses.categorical_crossentropy,\n",
    "              optimizer=keras.optimizers.Adadelta(),\n",
    "              metrics=['accuracy'])\n",
    "\n",
    "\n",
    "# TRAINING --------------------------------------------------\n",
    "\n",
    "epochs = 200\n",
    "\n",
    "es = EarlyStopping(monitor='val_accuracy', mode='max', verbose=1, patience=3, restore_best_weights=True)\n",
    "\n",
    "model.fit_generator(\n",
    "        train_generator,\n",
    "        epochs=epochs,\n",
    "        validation_data = validation_generator,\n",
    "        callbacks = [es]\n",
    ")\n",
    "\n",
    "# SAVING --------------------------------------------------\n",
    "\n",
    "model.save(\"mimodelo.h5\")"
   ]
  },
  {
   "cell_type": "code",
   "execution_count": 69,
   "metadata": {},
   "outputs": [
    {
     "name": "stdout",
     "output_type": "stream",
     "text": [
      "(150, 150, 3)\n"
     ]
    },
    {
     "data": {
      "text/plain": [
       "array([[0., 0., 0., 0., 0., 1., 0., 0., 0., 0.]], dtype=float32)"
      ]
     },
     "execution_count": 69,
     "metadata": {},
     "output_type": "execute_result"
    },
    {
     "data": {
      "image/png": "[encoded data removed]",
      "text/plain": [
       "<Figure size 432x288 with 1 Axes>"
      ]
     },
     "metadata": {
      "needs_background": "light"
     },
     "output_type": "display_data"
    }
   ],
   "source": [
    "# PRODUCTION ----------------------------------------------\n",
    "\n",
    "from matplotlib.pyplot import imshow\n",
    "import numpy as np\n",
    "from PIL import Image\n",
    "import keras\n",
    "\n",
    "model = keras.models.load_model(\"mimodelo.h5\")\n",
    "\n",
    "%matplotlib inline\n",
    "pil_im = Image.open('./data/Sign-Language/5/IMG_1123.jpg', 'r')\n",
    "im = np.asarray(pil_im.resize((150, 150)))\n",
    "imshow(im)\n",
    "print(im.shape) # La imagen es un array de dimensión: 150x150x3\n",
    "\n",
    "# El método `predict` hace la predicción de un lote de entradas, no solo una. \n",
    "# En el caso de que tengamos solo una entrada deberemos añadirle una dimensión más \n",
    "# al array numpy para que la entrada tenga la dimensión: 1x150x150x3\n",
    "\n",
    "im = im.reshape(1,150,150,3)\n",
    "model.predict(im)"
   ]
  },
  {
   "cell_type": "markdown",
   "metadata": {},
   "source": [
    "# Práctica\n",
    "\n",
    "Se pide desarrollar una red neuronal para la clasificación de un conjunto de imágenes. Este conjunto puede ser creado por el propio alumno haciendo fotos de diferentes objetos en diferentes localizaciones y condiciones. Por ejemplo, libros, cubiertos de cocina, monedas, prendas de ropa… rollos de papel higiénico o lo que se tercie. El número recomendable de clases distintas será entre 4 y 7. Cada clase deberá tener un mínimo de 20 imágenes (cuantas más, mejor) para el conjunto de entrenamiento y 5 para el conjunto de validación. Una vez creado el *dataset* haremos lo siguiente:\n",
    "\n",
    "-\tEntrenar la red y visualizar gráficamente el progreso del *accuracy* tanto del conjunto de entrenamiento como del conjunto de validación. Para ello, se puede hacer uso del objeto <code>history</code> que devuelve el método <code>fit_generator</code> del modelo.\n",
    "\n",
    "\n",
    "-\tHacer *data augmentation* sobre el conjunto de entrenamiento.\n",
    "\n",
    "\n",
    "-\tProbar con distintas configuraciones de hiperparámetros para escoger la que mejor resultados ofrezca.\n",
    "\n",
    "\n",
    "-\t*Categorical cross entropy* es una función de pérdida similar a la ya estudiada suma de diferencias al cuadrado. Explica cómo y por qué funciona esta función de pérdida.\n"
   ]
  },
  {
   "cell_type": "code",
   "execution_count": null,
   "metadata": {
    "collapsed": true
   },
   "outputs": [],
   "source": []
  }
 ],
 "metadata": {
  "kernelspec": {
   "display_name": "Python 3",
   "language": "python",
   "name": "python3"
  },
  "language_info": {
   "codemirror_mode": {
    "name": "ipython",
    "version": 3
   },
   "file_extension": ".py",
   "mimetype": "text/x-python",
   "name": "python",
   "nbconvert_exporter": "python",
   "pygments_lexer": "ipython3",
   "version": "3.7.6"
  }
 },
 "nbformat": 4,
 "nbformat_minor": 4
}
