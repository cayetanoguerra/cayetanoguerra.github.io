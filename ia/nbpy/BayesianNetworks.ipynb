{
 "cells": [
  {
   "cell_type": "markdown",
   "metadata": {},
   "source": [
    "# Redes Bayesianas"
   ]
  },
  {
   "cell_type": "markdown",
   "metadata": {},
   "source": [
    "Supongamos una situación en la que tenemos tres variables: **Caries**, **Dolor** y **Huecos**. Por nuestro propio conocimiento, podemos inferir que la caries es la causante del dolor y/o de los huecos en los dientes. Por ese motivo representaremos la red bayesiana con tres nodos, donde el nodo **Caries** es padre de los nodos **Dolor** y **Huecos**. Representaremos en sus respectivas tablas sus valores probabilísticos."
   ]
  },
  {
   "cell_type": "markdown",
   "metadata": {},
   "source": [
    "<img src=\"imgs/red_bayesiana.JPG\" width=70%>"
   ]
  },
  {
   "cell_type": "markdown",
   "metadata": {},
   "source": [
    "Utilizaremos la librería [*pomegranate*](https://pomegranate.readthedocs.io/en/latest/index.html) para crear la red y hacer inferencia sobre ella."
   ]
  },
  {
   "cell_type": "code",
   "execution_count": 29,
   "metadata": {},
   "outputs": [
    {
     "name": "stdout",
     "output_type": "stream",
     "text": [
      "Populating the interactive namespace from numpy and matplotlib\n"
     ]
    }
   ],
   "source": [
    "%matplotlib inline\n",
    "from pomegranate import *\n",
    "\n",
    "caries = DiscreteDistribution({'Yes': 0.8, 'No': 0.2})\n",
    "\n",
    "dolor = ConditionalProbabilityTable(\n",
    "        [['Yes', 'True', 0.6],\n",
    "         ['Yes', 'False', 0.4],\n",
    "         ['No', 'True', 0.1],\n",
    "         ['No', 'False', 0.9]],\n",
    "         [caries])\n",
    "\n",
    "huecos = ConditionalProbabilityTable(\n",
    "        [['Yes', 'True', 0.9],\n",
    "         ['Yes', 'False', 0.1],\n",
    "         ['No', 'True', 0.2],\n",
    "         ['No', 'False', 0.8]],\n",
    "         [caries])\n",
    "\n",
    "s1 = Node(caries, name=\"caries\")\n",
    "s2 = Node(dolor, name=\"dolor\")\n",
    "s3 = Node(huecos, name=\"huecos\")\n",
    "\n",
    "model = BayesianNetwork(\"Dentista\")\n",
    "model.add_states(s1, s2, s3)\n",
    "model.add_edge(s1, s2)\n",
    "model.add_edge(s1, s3)\n",
    "\n",
    "model.bake()\n",
    "# model.plot()"
   ]
  },
  {
   "cell_type": "markdown",
   "metadata": {},
   "source": [
    "Calcularemos ahora qué probabilidad de padecer caries tenemos si nos duele una muela."
   ]
  },
  {
   "cell_type": "code",
   "execution_count": 30,
   "metadata": {},
   "outputs": [
    {
     "name": "stdout",
     "output_type": "stream",
     "text": [
      "caries\n",
      "Estado [{'Yes': 0.9908256880733944, 'No': 0.00917431192660559}]\n"
     ]
    }
   ],
   "source": [
    "\n",
    "# observations = { }\n",
    "# observations = { 'caries' : 'Yes'}\n",
    "observations = { 'dolor' : 'True', 'huecos': 'True'}\n",
    "\n",
    "beliefs = model.predict_proba(observations)\n",
    "\n",
    "for state, belief in zip( model.states, beliefs ):\n",
    "    if type(belief) is not str:\n",
    "        print(state.name)\n",
    "        print(\"Estado\", belief.parameters)"
   ]
  },
  {
   "cell_type": "markdown",
   "metadata": {},
   "source": [
    "#### Ejercicio 1\n",
    "\n",
    "Calcula a mano y mediante la librería los siguientes casos:\n",
    "\n",
    "- Probabilidad de padecer caries tenemos si tenemos huecos.\n",
    "- Probabilidad de padecer caries.\n",
    "- Probabilidad de no padecer caries tenemos si tenemos huecos y dolor.\n",
    "- Probabilidad de tener huecos.\n",
    "\n",
    "Verifica que lo que calculas a mano coincide con las respuestas de la librería.\n",
    "\n",
    "#### Ejercicio 2\n",
    "\n",
    "Implementa mediante la librería la siguiente red:\n",
    "\n",
    "<img src=\"imgs/red_bayesiana_ejemplo_2.JPG\" width=70%>\n",
    "\n",
    "Calcula los valores de las diferentes variables si se produce un robo."
   ]
  },
  {
   "cell_type": "code",
   "execution_count": 79,
   "metadata": {},
   "outputs": [
    {
     "name": "stdout",
     "output_type": "stream",
     "text": [
      "Populating the interactive namespace from numpy and matplotlib\n"
     ]
    }
   ],
   "source": [
    "%matplotlib inline\n",
    "from pomegranate import *\n",
    "\n",
    "robo = DiscreteDistribution({'Yes_robo': 0.001, 'No_robo': 0.999})\n",
    "terremoto = DiscreteDistribution({'Yes_terremoto': 0.002, 'No_terremoto': 0.998})\n",
    "\n",
    "alarma = ConditionalProbabilityTable(\n",
    "        [['Yes_robo', 'Yes_terremoto', 'Salta_alarma', 0.95],\n",
    "         ['Yes_robo', 'Yes_terremoto', 'No_salta_alarma', 0.05],\n",
    "         ['Yes_robo', 'No_terremoto', 'Salta_alarma', 0.94],\n",
    "         ['Yes_robo', 'No_terremoto', 'No_salta_alarma', 0.06],\n",
    "         ['No_robo', 'Yes_terremoto', 'Salta_alarma', 0.29],\n",
    "         ['No_robo', 'Yes_terremoto', 'No_salta_alarma', 0.71],\n",
    "         ['No_robo', 'No_terremoto', 'Salta_alarma', 0.001],\n",
    "         ['No_robo', 'No_terremoto', 'No_salta_alarma', 0.999]],\n",
    "         [robo, terremoto])\n",
    "\n",
    "juan = ConditionalProbabilityTable(\n",
    "        [['Salta_alarma','Juan_llama', 0.90],\n",
    "         ['Salta_alarma','Juan_no_llama', 0.10],\n",
    "         ['No_salta_alarma','Juan_llama', 0.05],\n",
    "         ['No_salta_alarma','Juan_no_llama', 0.95]],\n",
    "         [alarma])\n",
    "\n",
    "maria = ConditionalProbabilityTable(\n",
    "        [['Salta_alarma','Maria_llama', 0.70],\n",
    "         ['Salta_alarma','Maria_no_llama', 0.30],\n",
    "         ['No_salta_alarma','Maria_llama', 0.01],\n",
    "         ['No_salta_alarma','Maria_no_llama', 0.99]],\n",
    "         [alarma])\n",
    "\n",
    "s1 = Node(robo, name=\"Robo\")\n",
    "s2 = Node(terremoto, name=\"Terremoto\")\n",
    "s3 = Node(alarma, name=\"Alarma\")\n",
    "s4 = Node(juan, name=\"Juan\")\n",
    "s5 = Node(maria, name=\"Maria\")\n",
    "\n",
    "\n",
    "model = BayesianNetwork(\"Avisos\")\n",
    "model.add_states(s1, s2, s3, s4, s5)\n",
    "model.add_edge(s1, s3)\n",
    "model.add_edge(s2, s3)\n",
    "model.add_edge(s3, s4)\n",
    "model.add_edge(s3, s5)\n",
    "\n",
    "model.bake()\n",
    "#model.plot()"
   ]
  },
  {
   "cell_type": "code",
   "execution_count": 88,
   "metadata": {},
   "outputs": [
    {
     "name": "stdout",
     "output_type": "stream",
     "text": [
      "Terremoto\n",
      "Estado [{'Yes_terremoto': 0.0020199831098792823, 'No_terremoto': 0.9979800168901206}]\n",
      "Alarma\n",
      "Estado [{'No_salta_alarma': 0.003532320318674678, 'Salta_alarma': 0.9964676796813253}]\n",
      "Maria\n",
      "Estado [{'Maria_llama': 0.6975626989801145, 'Maria_no_llama': 0.30243730101988553}]\n"
     ]
    }
   ],
   "source": [
    "# observations = {}\n",
    "observations = {'Robo':'Yes_robo', 'Juan':'Juan_llama'}\n",
    "# observations = {'Robo':'Yes_robo', 'Juan':'Juan_llama', 'Terremoto':'Yes_terremoto','Maria':'Maria_llama'}\n",
    "# observations = {'Juan':'Juan_llama', 'Maria':'Maria_llama'}\n",
    "# observations = {'Alarma' : 'Salta_alarma', 'Juan':'Juan_llama', 'Maria':'Maria_llama'}\n",
    "# observations = {'Alarma' : 'Salta_alarma', 'Juan':'Juan_llama'}\n",
    "\n",
    "beliefs = model.predict_proba(observations)\n",
    "\n",
    "for state, belief in zip( model.states, beliefs ):\n",
    "    if type(belief) is not str:\n",
    "        print(state.name)\n",
    "        print(\"Estado\", belief.parameters)"
   ]
  },
  {
   "cell_type": "markdown",
   "metadata": {},
   "source": [
    "## Redes bayesianas a partir de datos\n",
    "\n",
    "En un caso normal no contaremos con el DAG (directed acyclid graph) ni con las CPT (conditional probabilisty tables). Tendremos que construir todo eso a partir de los datos que podamos recoger.\n",
    "\n",
    "El siguiente *script* nos generará un *dataframe* con 100.000 muestras con el que reconstruiremos el ejemplo anterior."
   ]
  },
  {
   "cell_type": "code",
   "execution_count": 81,
   "metadata": {},
   "outputs": [
    {
     "data": {
      "text/html": [
       "<div>\n",
       "<style scoped>\n",
       "    .dataframe tbody tr th:only-of-type {\n",
       "        vertical-align: middle;\n",
       "    }\n",
       "\n",
       "    .dataframe tbody tr th {\n",
       "        vertical-align: top;\n",
       "    }\n",
       "\n",
       "    .dataframe thead th {\n",
       "        text-align: right;\n",
       "    }\n",
       "</style>\n",
       "<table border=\"1\" class=\"dataframe\">\n",
       "  <thead>\n",
       "    <tr style=\"text-align: right;\">\n",
       "      <th></th>\n",
       "      <th>E</th>\n",
       "      <th>R</th>\n",
       "      <th>A</th>\n",
       "      <th>J</th>\n",
       "      <th>M</th>\n",
       "    </tr>\n",
       "  </thead>\n",
       "  <tbody>\n",
       "    <tr>\n",
       "      <th>0</th>\n",
       "      <td>0</td>\n",
       "      <td>0</td>\n",
       "      <td>0</td>\n",
       "      <td>1</td>\n",
       "      <td>0</td>\n",
       "    </tr>\n",
       "    <tr>\n",
       "      <th>1</th>\n",
       "      <td>0</td>\n",
       "      <td>0</td>\n",
       "      <td>0</td>\n",
       "      <td>0</td>\n",
       "      <td>0</td>\n",
       "    </tr>\n",
       "    <tr>\n",
       "      <th>2</th>\n",
       "      <td>0</td>\n",
       "      <td>0</td>\n",
       "      <td>0</td>\n",
       "      <td>0</td>\n",
       "      <td>0</td>\n",
       "    </tr>\n",
       "    <tr>\n",
       "      <th>3</th>\n",
       "      <td>0</td>\n",
       "      <td>0</td>\n",
       "      <td>0</td>\n",
       "      <td>0</td>\n",
       "      <td>0</td>\n",
       "    </tr>\n",
       "    <tr>\n",
       "      <th>4</th>\n",
       "      <td>0</td>\n",
       "      <td>0</td>\n",
       "      <td>0</td>\n",
       "      <td>1</td>\n",
       "      <td>0</td>\n",
       "    </tr>\n",
       "    <tr>\n",
       "      <th>...</th>\n",
       "      <td>...</td>\n",
       "      <td>...</td>\n",
       "      <td>...</td>\n",
       "      <td>...</td>\n",
       "      <td>...</td>\n",
       "    </tr>\n",
       "    <tr>\n",
       "      <th>99995</th>\n",
       "      <td>0</td>\n",
       "      <td>0</td>\n",
       "      <td>0</td>\n",
       "      <td>0</td>\n",
       "      <td>0</td>\n",
       "    </tr>\n",
       "    <tr>\n",
       "      <th>99996</th>\n",
       "      <td>0</td>\n",
       "      <td>0</td>\n",
       "      <td>0</td>\n",
       "      <td>0</td>\n",
       "      <td>0</td>\n",
       "    </tr>\n",
       "    <tr>\n",
       "      <th>99997</th>\n",
       "      <td>0</td>\n",
       "      <td>0</td>\n",
       "      <td>0</td>\n",
       "      <td>0</td>\n",
       "      <td>0</td>\n",
       "    </tr>\n",
       "    <tr>\n",
       "      <th>99998</th>\n",
       "      <td>0</td>\n",
       "      <td>0</td>\n",
       "      <td>0</td>\n",
       "      <td>0</td>\n",
       "      <td>0</td>\n",
       "    </tr>\n",
       "    <tr>\n",
       "      <th>99999</th>\n",
       "      <td>0</td>\n",
       "      <td>0</td>\n",
       "      <td>0</td>\n",
       "      <td>0</td>\n",
       "      <td>0</td>\n",
       "    </tr>\n",
       "  </tbody>\n",
       "</table>\n",
       "<p>100000 rows × 5 columns</p>\n",
       "</div>"
      ],
      "text/plain": [
       "       E  R  A  J  M\n",
       "0      0  0  0  1  0\n",
       "1      0  0  0  0  0\n",
       "2      0  0  0  0  0\n",
       "3      0  0  0  0  0\n",
       "4      0  0  0  1  0\n",
       "...   .. .. .. .. ..\n",
       "99995  0  0  0  0  0\n",
       "99996  0  0  0  0  0\n",
       "99997  0  0  0  0  0\n",
       "99998  0  0  0  0  0\n",
       "99999  0  0  0  0  0\n",
       "\n",
       "[100000 rows x 5 columns]"
      ]
     },
     "execution_count": 81,
     "metadata": {},
     "output_type": "execute_result"
    }
   ],
   "source": [
    "import numpy as np\n",
    "import pandas as pd\n",
    "\n",
    "np.random.seed(666)\n",
    "\n",
    "earthquake = np.random.choice(2, 100000, p=[0.998, 0.002])\n",
    "robbery = np.random.choice(2, 100000, p=[0.999, 0.001])\n",
    "\n",
    "alarm = []\n",
    "\n",
    "for e,r in zip(earthquake, robbery):\n",
    "    if e==0 and r==0:\n",
    "        a = np.random.choice(2, p=[0.999, 0.001])\n",
    "    if e==0 and r==1:\n",
    "        a = np.random.choice(2, p=[0.06, 0.94])\n",
    "    if e==1 and r==0:\n",
    "        a = np.random.choice(2, p=[0.71, 0.29])\n",
    "    if e==1 and r==1:\n",
    "        a = np.random.choice(2, p=[0.05, 0.95])\n",
    "    alarm.append(a)\n",
    "        \n",
    "juan = []\n",
    "maria = []\n",
    "        \n",
    "for a in alarm:\n",
    "    if a==0:\n",
    "        j = np.random.choice(2, p=[0.95, 0.05])\n",
    "        m = np.random.choice(2, p=[0.99, 0.01])\n",
    "    if a==1:\n",
    "        j = np.random.choice(2, p=[0.10, 0.90])\n",
    "        m = np.random.choice(2, p=[0.30, 0.70])\n",
    "    juan.append(j)\n",
    "    maria.append(m)\n",
    "\n",
    "aux = np.stack((np.array(earthquake), np.array(robbery), np.array(alarm), np.array(juan), np.array(maria)), axis=0)\n",
    "samples = np.transpose(aux)\n",
    "\n",
    "#df = pd.DataFrame(data=samples, columns=[\"Earthquake\", \"Robbery\", \"Alarm\", \"Juan\", \"María\"])\n",
    "df = pd.DataFrame(data=samples, columns=[\"E\", \"R\", \"A\", \"J\", \"M\"])\n",
    "\n",
    "df"
   ]
  },
  {
   "cell_type": "markdown",
   "metadata": {},
   "source": [
    "Fíjate que si no contáramos con suficientes datos las probabilidades que calculáramos podrían no ser muy precisas."
   ]
  },
  {
   "cell_type": "code",
   "execution_count": 109,
   "metadata": {},
   "outputs": [
    {
     "name": "stdout",
     "output_type": "stream",
     "text": [
      "Porcentaje de veces que hay un robo: 0.001\n"
     ]
    }
   ],
   "source": [
    "print(\"Porcentaje de veces que hay un robo:\", np.round( sum(df['R'])/df.shape[0],4) )"
   ]
  },
  {
   "cell_type": "code",
   "execution_count": 110,
   "metadata": {},
   "outputs": [
    {
     "name": "stdout",
     "output_type": "stream",
     "text": [
      "Porcentaje de veces que hay un terremoto: 0.002\n"
     ]
    }
   ],
   "source": [
    "print(\"Porcentaje de veces que hay un terremoto:\", np.round( sum(df['E'])/df.shape[0],4) )"
   ]
  },
  {
   "cell_type": "code",
   "execution_count": 111,
   "metadata": {},
   "outputs": [
    {
     "name": "stdout",
     "output_type": "stream",
     "text": [
      "Porcentaje de veces que suena la alarma y Juan llama: 0.91\n"
     ]
    }
   ],
   "source": [
    "print(\"Porcentaje de veces que suena la alarma y Juan llama:\", np.round( sum(df['A'] * df['J']) / sum(df['A']),2) )"
   ]
  },
  {
   "cell_type": "code",
   "execution_count": 112,
   "metadata": {},
   "outputs": [
    {
     "name": "stdout",
     "output_type": "stream",
     "text": [
      "Porcentaje de veces que suena la alarma y María llama: 0.7\n"
     ]
    }
   ],
   "source": [
    "print(\"Porcentaje de veces que suena la alarma y María llama:\", np.round( sum(df['A'] * df['M']) / sum(df['A']),2) )"
   ]
  },
  {
   "cell_type": "markdown",
   "metadata": {},
   "source": [
    "### Creación del DAG\n",
    "\n",
    "Una vez obtenido el *dataset*, el siguiente paso será crear el DAG. Utilizaremos la librería [bnlearn](https://erdogant.github.io/bnlearn/pages/html/index.html). Para ello haremos:"
   ]
  },
  {
   "cell_type": "code",
   "execution_count": 83,
   "metadata": {},
   "outputs": [
    {
     "name": "stdout",
     "output_type": "stream",
     "text": [
      "[bnlearn] >Computing best DAG using [ex]\n",
      "[bnlearn] >Set scoring type at [bic]\n"
     ]
    }
   ],
   "source": [
    "import bnlearn as bn\n",
    "\n",
    "DAG = bn.structure_learning.fit(df, methodtype='ex', scoretype='bic')"
   ]
  },
  {
   "cell_type": "code",
   "execution_count": 84,
   "metadata": {},
   "outputs": [
    {
     "name": "stdout",
     "output_type": "stream",
     "text": [
      "target      A      E      J      M      R\n",
      "source                                   \n",
      "A       False  False   True   True  False\n",
      "E        True  False  False  False  False\n",
      "J       False  False  False  False  False\n",
      "M       False  False  False  False  False\n",
      "R        True  False  False  False  False\n"
     ]
    }
   ],
   "source": [
    "# print adjacency matrix\n",
    "print(DAG['adjmat'])"
   ]
  },
  {
   "cell_type": "code",
   "execution_count": 85,
   "metadata": {},
   "outputs": [
    {
     "name": "stdout",
     "output_type": "stream",
     "text": [
      "[bnlearn]> Set node properties.\n",
      "[bnlearn]> Set edge properties.\n",
      "[bnlearn] >Plot based on Bayesian model\n"
     ]
    },
    {
     "data": {
      "image/png": "[encoded data removed]",
      "text/plain": [
       "<Figure size 1080x576 with 1 Axes>"
      ]
     },
     "metadata": {},
     "output_type": "display_data"
    },
    {
     "data": {
      "text/plain": [
       "{'pos': {'A': array([-0.43358995, -0.83724467]),\n",
       "  'E': array([-0.16194989,  1.        ]),\n",
       "  'J': array([ 0.90291224, -0.55822437]),\n",
       "  'M': array([-0.94019281,  0.12562049]),\n",
       "  'R': array([0.6328204 , 0.26984856])},\n",
       " 'G': <networkx.classes.digraph.DiGraph at 0x10d67bf98>,\n",
       " 'node_properties': {'A': {'node_color': '#1f456e', 'node_size': 800},\n",
       "  'E': {'node_color': '#1f456e', 'node_size': 800},\n",
       "  'J': {'node_color': '#1f456e', 'node_size': 800},\n",
       "  'M': {'node_color': '#1f456e', 'node_size': 800},\n",
       "  'R': {'node_color': '#1f456e', 'node_size': 800}},\n",
       " 'edge_properties': {('A', 'J'): {'color': '#000000', 'weight': 1},\n",
       "  ('A', 'M'): {'color': '#000000', 'weight': 1},\n",
       "  ('E', 'A'): {'color': '#000000', 'weight': 1},\n",
       "  ('R', 'A'): {'color': '#000000', 'weight': 1}}}"
      ]
     },
     "execution_count": 85,
     "metadata": {},
     "output_type": "execute_result"
    }
   ],
   "source": [
    "# bn.plot(DAG, interactive=True, params_interactive={'notebook':True})\n",
    "bn.plot(DAG)"
   ]
  },
  {
   "cell_type": "markdown",
   "metadata": {},
   "source": [
    "### Aprendizaje de los parámetros\n",
    "\n",
    "A partir del grafo y de los datos es posible crear las tablas de probabilidad condicionada."
   ]
  },
  {
   "cell_type": "code",
   "execution_count": 86,
   "metadata": {},
   "outputs": [
    {
     "name": "stdout",
     "output_type": "stream",
     "text": [
      "[bnlearn] >Parameter learning> Computing parameters using [maximumlikelihood]\n",
      "[bnlearn] >Conversion of adjmat to BayesianModel.\n",
      "[bnlearn] >CPD of A:\n",
      "+------+-----------------------+--------+--------------------+------+\n",
      "| E    | E(0)                  | E(0)   | E(1)               | E(1) |\n",
      "+------+-----------------------+--------+--------------------+------+\n",
      "| R    | R(0)                  | R(1)   | R(0)               | R(1) |\n",
      "+------+-----------------------+--------+--------------------+------+\n",
      "| A(0) | 0.999027159305171     | 0.0625 | 0.7076923076923077 | 0.0  |\n",
      "+------+-----------------------+--------+--------------------+------+\n",
      "| A(1) | 0.0009728406948289004 | 0.9375 | 0.2923076923076923 | 1.0  |\n",
      "+------+-----------------------+--------+--------------------+------+\n",
      "[bnlearn] >CPD of J:\n",
      "+------+----------------------+---------------------+\n",
      "| A    | A(0)                 | A(1)                |\n",
      "+------+----------------------+---------------------+\n",
      "| J(0) | 0.9506190165906471   | 0.08979591836734693 |\n",
      "+------+----------------------+---------------------+\n",
      "| J(1) | 0.049380983409352916 | 0.9102040816326531  |\n",
      "+------+----------------------+---------------------+\n",
      "[bnlearn] >CPD of M:\n",
      "+------+----------------------+--------------------+\n",
      "| A    | A(0)                 | A(1)               |\n",
      "+------+----------------------+--------------------+\n",
      "| M(0) | 0.9903764222344744   | 0.3020408163265306 |\n",
      "+------+----------------------+--------------------+\n",
      "| M(1) | 0.009623577765525538 | 0.6979591836734694 |\n",
      "+------+----------------------+--------------------+\n",
      "[bnlearn] >CPD of E:\n",
      "+------+---------+\n",
      "| E(0) | 0.99804 |\n",
      "+------+---------+\n",
      "| E(1) | 0.00196 |\n",
      "+------+---------+\n",
      "[bnlearn] >CPD of R:\n",
      "+------+---------+\n",
      "| R(0) | 0.99903 |\n",
      "+------+---------+\n",
      "| R(1) | 0.00097 |\n",
      "+------+---------+\n"
     ]
    }
   ],
   "source": [
    "model = bn.parameter_learning.fit(DAG, df, methodtype='maximumlikelihood')"
   ]
  },
  {
   "cell_type": "markdown",
   "metadata": {},
   "source": [
    "### Inferencia"
   ]
  },
  {
   "cell_type": "code",
   "execution_count": 107,
   "metadata": {},
   "outputs": [
    {
     "name": "stdout",
     "output_type": "stream",
     "text": [
      "[bnlearn] >Variable Elimination..\n"
     ]
    },
    {
     "data": {
      "application/vnd.jupyter.widget-view+json": {
       "model_id": "e37e5cbffbb448eebfced25366c6b3df",
       "version_major": 2,
       "version_minor": 0
      },
      "text/plain": [
       "0it [00:00, ?it/s]"
      ]
     },
     "metadata": {},
     "output_type": "display_data"
    },
    {
     "data": {
      "application/vnd.jupyter.widget-view+json": {
       "model_id": "91280ed4a2314b458edaf2b8aeccf219",
       "version_major": 2,
       "version_minor": 0
      },
      "text/plain": [
       "0it [00:00, ?it/s]"
      ]
     },
     "metadata": {},
     "output_type": "display_data"
    },
    {
     "name": "stdout",
     "output_type": "stream",
     "text": [
      "+----+-----+----------+\n",
      "|    |   A |        p |\n",
      "+====+=====+==========+\n",
      "|  0 |   0 | 0.707692 |\n",
      "+----+-----+----------+\n",
      "|  1 |   1 | 0.292308 |\n",
      "+----+-----+----------+\n",
      "   A         p\n",
      "0  0  0.707692\n",
      "1  1  0.292308\n"
     ]
    }
   ],
   "source": [
    "# q1 = bn.inference.fit(model, variables=['A','M'], evidence={'R':1, 'J':1})\n",
    "q1 = bn.inference.fit(model, variables=['A'], evidence={'R':0, 'E':1})\n",
    "print(q1.df)"
   ]
  },
  {
   "cell_type": "code",
   "execution_count": 108,
   "metadata": {},
   "outputs": [
    {
     "name": "stdout",
     "output_type": "stream",
     "text": [
      "[bnlearn] >Variable Elimination..\n"
     ]
    },
    {
     "data": {
      "application/vnd.jupyter.widget-view+json": {
       "model_id": "11680f6f0f864e5a9fbc6adaaad8583d",
       "version_major": 2,
       "version_minor": 0
      },
      "text/plain": [
       "  0%|          | 0/1 [00:00<?, ?it/s]"
      ]
     },
     "metadata": {},
     "output_type": "display_data"
    },
    {
     "data": {
      "application/vnd.jupyter.widget-view+json": {
       "model_id": "c153312fe18d45dea6050e330ba9b1be",
       "version_major": 2,
       "version_minor": 0
      },
      "text/plain": [
       "  0%|          | 0/1 [00:00<?, ?it/s]"
      ]
     },
     "metadata": {},
     "output_type": "display_data"
    },
    {
     "name": "stdout",
     "output_type": "stream",
     "text": [
      "+----+-----+-----------+\n",
      "|    |   A |         p |\n",
      "+====+=====+===========+\n",
      "|  0 |   0 | 0.0035963 |\n",
      "+----+-----+-----------+\n",
      "|  1 |   1 | 0.996404  |\n",
      "+----+-----+-----------+\n",
      "   A         p\n",
      "0  0  0.003596\n",
      "1  1  0.996404\n"
     ]
    }
   ],
   "source": [
    "q2 = bn.inference.fit(model, variables=['A'], evidence={'R':1, 'J':1})\n",
    "print(q2.df)"
   ]
  },
  {
   "cell_type": "code",
   "execution_count": 281,
   "metadata": {},
   "outputs": [
    {
     "data": {
      "text/plain": [
       "0.996404"
      ]
     },
     "execution_count": 281,
     "metadata": {},
     "output_type": "execute_result"
    }
   ],
   "source": [
    "0.695449+0.300955 "
   ]
  },
  {
   "cell_type": "markdown",
   "metadata": {},
   "source": [
    "### Almacenamiento y carga del modelo\n",
    "\n",
    "Cuando tenemos gran cantidad de datos y muchas variables, el proceso de encontrar el DAG y calcular las CPT puede ser muy costoso. En ese caso, es necesario contar con funciones para almacenar y recuperar nuestra red bayesiana."
   ]
  },
  {
   "cell_type": "code",
   "execution_count": 299,
   "metadata": {},
   "outputs": [
    {
     "name": "stdout",
     "output_type": "stream",
     "text": [
      "[pypickle] Pickle file saved: [/Users/cayetanoguerraartal/Propio/Docencia/cayetanoguerra.github.io/ia/nbpy/bnlearn_model.pkl]\n",
      "[pypickle] Pickle file loaded: [/Users/cayetanoguerraartal/Propio/Docencia/cayetanoguerra.github.io/ia/nbpy/bnlearn_model.pkl]\n"
     ]
    }
   ],
   "source": [
    "# Save model\n",
    "bn.save(model, filepath='bnlearn_model', overwrite=True)\n",
    "\n",
    "# Load model\n",
    "model = bn.load(filepath='bnlearn_model')"
   ]
  },
  {
   "cell_type": "markdown",
   "metadata": {},
   "source": [
    "### Ejercicios\n",
    "\n",
    "1) Calcula las CPTs de las variables *Earthquake* y *Alarm* y comprueba que obtienes los mismos valores que los dados por la librería <code>bn.parameter_learning.fit</code>."
   ]
  },
  {
   "cell_type": "code",
   "execution_count": 106,
   "metadata": {},
   "outputs": [
    {
     "name": "stdout",
     "output_type": "stream",
     "text": [
      "0.99903\n"
     ]
    }
   ],
   "source": [
    "print(np.round( sum((1-df['R']))/df.shape[0],7) )"
   ]
  },
  {
   "cell_type": "markdown",
   "metadata": {},
   "source": [
    "2) Utilizando el dataset \"asia\", que ya viene incluido en la librería, realiza las siguientes tareas:\n",
    "- Crear su correspondiente DAG. Prueba otros valores para el parámetro <code>methodtype</code>, como **hc**.\n",
    "- Calcular las CPT.\n",
    "- Hacer las inferencias:\n",
    "    - ¿Qué probabilidad hay de tener disnea siendo fumador?\n",
    "    - ¿Qué probabilidad hay de tener una radiografía positiva siendo fumador habiendo visitado Asia?\n",
    "    \n",
    "La figura siguiente muestra el grafo original. Comprueba que el DAG calculado coincide con éste.\n",
    "\n",
    "<img src=\"imgs/ASIA_BN.jpeg\" width=40%/>"
   ]
  },
  {
   "cell_type": "code",
   "execution_count": 116,
   "metadata": {},
   "outputs": [
    {
     "name": "stdout",
     "output_type": "stream",
     "text": [
      "[bnlearn] >Extracting files..\n"
     ]
    },
    {
     "data": {
      "application/vnd.jupyter.widget-view+json": {
       "model_id": "3dc06fea76de4ee08807da76d2856178",
       "version_major": 2,
       "version_minor": 0
      },
      "text/plain": [
       "  0%|          | 0/8 [00:00<?, ?it/s]"
      ]
     },
     "metadata": {},
     "output_type": "display_data"
    },
    {
     "name": "stdout",
     "output_type": "stream",
     "text": [
      "      asia  tub  smoke  lung  bronc  either  xray  dysp\n",
      "0        1    1      0     1      0       1     1     0\n",
      "1        1    1      0     1      0       1     1     1\n",
      "2        1    1      0     1      1       1     1     1\n",
      "3        1    1      1     1      0       1     1     0\n",
      "4        1    1      0     0      0       0     0     0\n",
      "...    ...  ...    ...   ...    ...     ...   ...   ...\n",
      "9995     1    1      1     1      1       1     1     1\n",
      "9996     1    1      1     1      1       1     1     1\n",
      "9997     1    1      1     1      1       1     0     1\n",
      "9998     1    1      0     1      1       1     1     1\n",
      "9999     1    0      0     1      1       0     0     0\n",
      "\n",
      "[10000 rows x 8 columns]\n"
     ]
    }
   ],
   "source": [
    "import bnlearn as bn\n",
    "df_asia = bn.import_example('asia', n=10000)\n",
    "print(df_asia)"
   ]
  },
  {
   "cell_type": "markdown",
   "metadata": {},
   "source": [
    "## Referencias\n",
    "\n",
    "https://towardsdatascience.com/a-step-by-step-guide-in-detecting-causal-relationships-using-bayesian-structure-learning-in-python-c20c6b31cee5"
   ]
  }
 ],
 "metadata": {
  "kernelspec": {
   "display_name": "Python 3",
   "language": "python",
   "name": "python3"
  },
  "language_info": {
   "codemirror_mode": {
    "name": "ipython",
    "version": 3
   },
   "file_extension": ".py",
   "mimetype": "text/x-python",
   "name": "python",
   "nbconvert_exporter": "python",
   "pygments_lexer": "ipython3",
   "version": "3.7.3"
  }
 },
 "nbformat": 4,
 "nbformat_minor": 2
}
