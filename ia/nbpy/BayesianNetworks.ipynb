{
 "cells": [
  {
   "cell_type": "markdown",
   "metadata": {},
   "source": [
    "# Redes Bayesianas"
   ]
  },
  {
   "cell_type": "markdown",
   "metadata": {},
   "source": [
    "Supongamos una situación en la que tenemos tres variables: **Caries**, **Dolor** y **Huecos**. Por nuestro propio conocimiento, podemos inferir que la caries es la causante del dolor y/o de los huecos en los dientes. Por ese motivo representaremos la red bayesiana con tres nodos, donde el nodo **Caries** es padre de los nodos **Dolor** y **Huecos**. Representaremos en sus respectivas tablas sus valores probabilísticos."
   ]
  },
  {
   "cell_type": "markdown",
   "metadata": {},
   "source": [
    "<img src=\"imgs/red_bayesiana.JPG\" width=70%>"
   ]
  },
  {
   "cell_type": "markdown",
   "metadata": {},
   "source": [
    "Utilizaremos la librería *pomegranate* para crear la red y hacer inferencia sobre ella."
   ]
  },
  {
   "cell_type": "code",
   "execution_count": 23,
   "metadata": {},
   "outputs": [
    {
     "name": "stdout",
     "output_type": "stream",
     "text": [
      "Populating the interactive namespace from numpy and matplotlib\n"
     ]
    }
   ],
   "source": [
    "%pylab inline\n",
    "from pomegranate import *\n",
    "\n",
    "caries = DiscreteDistribution({'Yes': 0.8, 'No': 0.2})\n",
    "\n",
    "dolor = ConditionalProbabilityTable(\n",
    "        [['Yes', 'True', 0.6],\n",
    "         ['Yes', 'False', 0.4],\n",
    "         ['No', 'True', 0.1],\n",
    "         ['No', 'False', 0.9]],\n",
    "         [caries])\n",
    "\n",
    "huecos = ConditionalProbabilityTable(\n",
    "        [['Yes', 'True', 0.9],\n",
    "         ['Yes', 'False', 0.1],\n",
    "         ['No', 'True', 0.2],\n",
    "         ['No', 'False', 0.8]],\n",
    "         [caries])\n",
    "\n",
    "s1 = Node(caries, name=\"caries\")\n",
    "s2 = Node(dolor, name=\"dolor\")\n",
    "s3 = Node(huecos, name=\"huecos\")\n",
    "\n",
    "model = BayesianNetwork(\"Dentista\")\n",
    "model.add_states(s1, s2, s3)\n",
    "model.add_edge(s1, s2)\n",
    "model.add_edge(s1, s3)\n",
    "\n",
    "model.bake()\n",
    "# model.plot()"
   ]
  },
  {
   "cell_type": "markdown",
   "metadata": {},
   "source": [
    "Calcularemos ahora qué probabilidad de padecer caries tenemos si nos duele una muela."
   ]
  },
  {
   "cell_type": "code",
   "execution_count": 24,
   "metadata": {},
   "outputs": [
    {
     "name": "stdout",
     "output_type": "stream",
     "text": [
      "caries\n",
      "Estado [{'Yes': 0.9599999999999996, 'No': 0.04000000000000032}]\n",
      "huecos\n",
      "Estado [{'True': 0.8719999999999998, 'False': 0.12800000000000028}]\n"
     ]
    }
   ],
   "source": [
    "observations = { 'dolor' : 'True'}\n",
    "\n",
    "beliefs = model.predict_proba(observations)\n",
    "\n",
    "for state, belief in zip( model.states, beliefs ):\n",
    "    if type(belief) is not str:\n",
    "        print(state.name)\n",
    "        print(\"Estado\", belief.parameters)"
   ]
  },
  {
   "cell_type": "markdown",
   "metadata": {},
   "source": [
    "#### Ejercicio 1\n",
    "\n",
    "Calcula a mano y mediante la librería los siguientes casos:\n",
    "\n",
    "- Probabilidad de padecer caries tenemos si tenemos huecos.\n",
    "- Probabilidad de padecer caries.\n",
    "- Probabilidad de no padecer caries tenemos si tenemos huecos y dolor.\n",
    "- Probabilidad de tener huecos.\n",
    "\n",
    "Verifica que lo que calculas a mano coincide con las respuestas de la librería.\n",
    "\n",
    "#### Ejercicio 2\n",
    "\n",
    "Implementa mediante la librería la siguiente red:\n",
    "\n",
    "<img src=\"imgs/red_bayesiana_ejemplo_2.JPG\" width=70%>\n",
    "\n",
    "Calcula los valores de las diferentes variables si se produce un robo."
   ]
  },
  {
   "cell_type": "code",
   "execution_count": 19,
   "metadata": {},
   "outputs": [
    {
     "name": "stdout",
     "output_type": "stream",
     "text": [
      "Populating the interactive namespace from numpy and matplotlib\n"
     ]
    }
   ],
   "source": [
    "%pylab inline\n",
    "from pomegranate import *\n",
    "\n",
    "robo = DiscreteDistribution({'Yes_robo': 0.001, 'No_robo': 0.999})\n",
    "terremoto = DiscreteDistribution({'Yes_terremoto': 0.002, 'No_terremoto': 0.998})\n",
    "\n",
    "alarma = ConditionalProbabilityTable(\n",
    "        [['Yes_robo', 'Yes_terremoto', 'Salta_alarma', 0.95],\n",
    "         ['Yes_robo', 'Yes_terremoto', 'No_salta_alarma', 0.05],\n",
    "         ['Yes_robo', 'No_terremoto', 'Salta_alarma', 0.94],\n",
    "         ['Yes_robo', 'No_terremoto', 'No_salta_alarma', 0.06],\n",
    "         ['No_robo', 'Yes_terremoto', 'Salta_alarma', 0.29],\n",
    "         ['No_robo', 'Yes_terremoto', 'No_salta_alarma', 0.71],\n",
    "         ['No_robo', 'No_terremoto', 'Salta_alarma', 0.001],\n",
    "         ['No_robo', 'No_terremoto', 'No_salta_alarma', 0.999]],\n",
    "         [robo, terremoto])\n",
    "\n",
    "juan = ConditionalProbabilityTable(\n",
    "        [['Salta_alarma','Juan_llama', 0.90],\n",
    "         ['No_salta_alarma','Juan_llama', 0.10],\n",
    "         ['Salta_alarma','Juan_no_llama', 0.05],\n",
    "         ['No_salta_alarma','Juan_no_llama', 0.95]],\n",
    "         [alarma])\n",
    "\n",
    "maria = ConditionalProbabilityTable(\n",
    "        [['Salta_alarma','Maria_llama', 0.70],\n",
    "         ['No_salta_alarma','Maria_llama', 0.30],\n",
    "         ['Salta_alarma','Maria_no_llama', 0.01],\n",
    "         ['No_salta_alarma','Maria_no_llama', 0.99]],\n",
    "         [alarma])\n",
    "\n",
    "s1 = Node(robo, name=\"Robo\")\n",
    "s2 = Node(terremoto, name=\"Terremoto\")\n",
    "s3 = Node(alarma, name=\"Alarma\")\n",
    "s4 = Node(juan, name=\"Juan\")\n",
    "s5 = Node(maria, name=\"Maria\")\n",
    "\n",
    "\n",
    "model = BayesianNetwork(\"Avisos\")\n",
    "model.add_states(s1, s2, s3, s4, s5)\n",
    "model.add_edge(s1, s3)\n",
    "model.add_edge(s2, s3)\n",
    "model.add_edge(s3, s4)\n",
    "model.add_edge(s3, s5)\n",
    "\n",
    "model.bake()\n",
    "#model.plot()"
   ]
  },
  {
   "cell_type": "code",
   "execution_count": 22,
   "metadata": {},
   "outputs": [
    {
     "name": "stdout",
     "output_type": "stream",
     "text": [
      "Terremoto\n",
      "Estado [{'Yes_terremoto': 0.0020000000000004424, 'No_terremoto': 0.9979999999999996}]\n",
      "Alarma\n",
      "Estado [{'No_salta_alarma': 0.6675702316412025, 'Salta_alarma': 0.3324297683587975}]\n",
      "Juan\n",
      "Estado [{'Juan_no_llama': 0.6214884179398719, 'Juan_llama': 0.37851158206012825}]\n",
      "Maria\n",
      "Estado [{'Maria_no_llama': 0.5170034499753573, 'Maria_llama': 0.4829965500246427}]\n"
     ]
    }
   ],
   "source": [
    "observations = {'Robo':'True'}\n",
    "\n",
    "beliefs = model.predict_proba(observations)\n",
    "\n",
    "for state, belief in zip( model.states, beliefs ):\n",
    "    if type(belief) is not str:\n",
    "        print(state.name)\n",
    "        print(\"Estado\", belief.parameters)"
   ]
  },
  {
   "cell_type": "code",
   "execution_count": null,
   "metadata": {},
   "outputs": [],
   "source": []
  }
 ],
 "metadata": {
  "kernelspec": {
   "display_name": "Python 3",
   "language": "python",
   "name": "python3"
  },
  "language_info": {
   "codemirror_mode": {
    "name": "ipython",
    "version": 3
   },
   "file_extension": ".py",
   "mimetype": "text/x-python",
   "name": "python",
   "nbconvert_exporter": "python",
   "pygments_lexer": "ipython3",
   "version": "3.7.6"
  }
 },
 "nbformat": 4,
 "nbformat_minor": 2
}
