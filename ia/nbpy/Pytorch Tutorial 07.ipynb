{
 "cells": [
  {
   "cell_type": "markdown",
   "metadata": {},
   "source": [
    "# Tutorial de Pytorch 7: Operaciones con tensores\n",
    "\n",
    "### **Producto escalar**\n",
    "\n",
    "El producto escalar de dos vectores es la suma de los productos de sus componentes. Por ejemplo, el producto escalar de los vectores $a$ y $b$ es:\n",
    "\n",
    "\n",
    "$$a \\cdot b = a_1 b_1 + a_2 b_2 + a_3 b_3$$\n",
    "\n",
    "\n",
    "Si tenemos dos vectores en PyTorch, podemos calcular su producto escalar usando la función torch.dot()."
   ]
  },
  {
   "cell_type": "code",
   "execution_count": 5,
   "metadata": {},
   "outputs": [
    {
     "name": "stdout",
     "output_type": "stream",
     "text": [
      "Producto escalar: 32\n"
     ]
    }
   ],
   "source": [
    "import torch\n",
    "\n",
    "a = torch.tensor([1, 2, 3])\n",
    "b = torch.tensor([4, 5, 6])\n",
    "c = torch.dot(a, b)\n",
    "\n",
    "# 1*4 + 2*5 + 3*6 = 32\n",
    "print(\"Producto escalar:\", c.item())"
   ]
  },
  {
   "cell_type": "markdown",
   "metadata": {},
   "source": [
    "Si tenemos un grupo de vectores almacenados en una matriz, podemos calcular el producto escalar de todos los vectores en la matriz con un vector dado."
   ]
  },
  {
   "cell_type": "code",
   "execution_count": 17,
   "metadata": {},
   "outputs": [
    {
     "name": "stdout",
     "output_type": "stream",
     "text": [
      "Producto matricial:\n",
      " tensor([ 50, 122])\n"
     ]
    }
   ],
   "source": [
    "A = torch.tensor([[1, 2, 3], [4, 5, 6]])\n",
    "b = torch.tensor([7, 8, 9])\n",
    "C = torch.matmul(A, b)\n",
    "\n",
    "# 1*7 + 2*8 + 3*9 = 50\n",
    "# 4*7 + 5*8 + 6*9 = 122\n",
    "\n",
    "print(\"Producto matricial:\\n\", C)"
   ]
  },
  {
   "cell_type": "markdown",
   "metadata": {},
   "source": [
    "Si ahora tenemos un tensor correspondiente a un batch de matrices de $2 \\times 3 \\times 2$ (batch, secuencia, embedding) y un batch de vectores de $2 \\times 2$, podemos calcular el producto escalar de cada matriz con su vector correspondiente en el batch. La figura siguiente muestras los tres primeros casos. La matriz amarilla de $2 \\times 3$ correspondería al resultado."
   ]
  },
  {
   "cell_type": "markdown",
   "metadata": {},
   "source": [
    "<img src=\"imgs/producto_escalar.svg\" width=\"80%\">"
   ]
  },
  {
   "cell_type": "code",
   "execution_count": 21,
   "metadata": {},
   "outputs": [
    {
     "name": "stdout",
     "output_type": "stream",
     "text": [
      "tensor([[[ 1,  2],\n",
      "         [ 3,  4],\n",
      "         [ 5,  6]],\n",
      "\n",
      "        [[ 7,  8],\n",
      "         [ 9, 10],\n",
      "         [11, 12]]])\n",
      "tensor([[1, 2],\n",
      "        [3, 4]])\n"
     ]
    }
   ],
   "source": [
    "import torch\n",
    "\n",
    "A = torch.arange(1, 13)  # vector de 12 elementos\n",
    "A = A.view(2, 3, 2)  # vector reconvertido en una matriz de 2x3x2\n",
    "\n",
    "B = torch.arange(1, 5)\n",
    "B = B.view(2, 2)\n",
    "\n",
    "print(A)\n",
    "print(B)"
   ]
  },
  {
   "cell_type": "markdown",
   "metadata": {},
   "source": [
    "Para hacer el producto escalar de un batch de matrices con un batch de vectores, podemos usar la función torch.bmm() (batch matrix multiplication)."
   ]
  },
  {
   "cell_type": "code",
   "execution_count": 27,
   "metadata": {},
   "outputs": [
    {
     "name": "stdout",
     "output_type": "stream",
     "text": [
      "tensor([[ 5, 11, 17],\n",
      "        [53, 67, 81]])\n"
     ]
    }
   ],
   "source": [
    "C = torch.bmm(A, B.unsqueeze(1).transpose(1, 2))\n",
    "print(C.squeeze())"
   ]
  },
  {
   "cell_type": "markdown",
   "metadata": {},
   "source": [
    "Veamos que los resultados son correctos:"
   ]
  },
  {
   "cell_type": "code",
   "execution_count": 31,
   "metadata": {},
   "outputs": [
    {
     "name": "stdout",
     "output_type": "stream",
     "text": [
      "5 11 17\n",
      "53 67 81\n"
     ]
    }
   ],
   "source": [
    "print(1*1+2*2, 1*3+2*4, 1*5+2*6)\n",
    "print(3*7+4*8, 3*9+4*10, 3*11+4*12)"
   ]
  },
  {
   "cell_type": "markdown",
   "metadata": {},
   "source": [
    "## **Atención Q, K, V**"
   ]
  },
  {
   "cell_type": "code",
   "execution_count": 94,
   "metadata": {},
   "outputs": [
    {
     "name": "stdout",
     "output_type": "stream",
     "text": [
      "torch.Size([4, 3])\n",
      "torch.Size([4, 3])\n",
      "torch.Size([4, 3])\n",
      "Score:\n",
      " tensor([[0.0000, 0.0000, 0.0000, 0.0000],\n",
      "        [0.3000, 0.6000, 0.9000, 1.2000],\n",
      "        [0.0600, 0.1200, 0.1800, 0.2400],\n",
      "        [0.0900, 0.1800, 0.2700, 0.3600]])\n",
      "Score: torch.Size([4, 4])\n",
      "V: torch.Size([4, 3])\n",
      "tensor([[0.2500, 0.5000, 0.5000],\n",
      "        [0.1892, 0.5432, 0.5857],\n",
      "        [0.2372, 0.5087, 0.5173],\n",
      "        [0.2309, 0.5130, 0.5260]])\n"
     ]
    }
   ],
   "source": [
    "import torch\n",
    "\n",
    "Q = torch.tensor([[0.0, 0.0, 0.0], [1, 1, 1], [0.2, 0.2, 0.2], [0.3, 0.3, 0.3]])\n",
    "K = torch.tensor([[0.1, 0.1, 0.1], [0.2, 0.2, 0.2], [0.3, 0.3, 0.3], [0.4, 0.4, 0.4]])\n",
    "V = torch.tensor([[1., 0., 0.], [0., 1., 0.], [0., 0., 1.], [0., 1., 1.]])\n",
    "\n",
    "print(Q.shape)\n",
    "print(K.shape)\n",
    "print(V.shape)\n",
    "\n",
    "score = Q @ K.transpose(0, 1)\n",
    "\n",
    "print(\"Score:\\n\", score)\n",
    "\n",
    "score = score / torch.sqrt(torch.tensor(K.shape[1]).float())\n",
    "score = torch.softmax(score, dim=1)\n",
    "\n",
    "print(\"Score:\", score.shape)\n",
    "print(\"V:\", V.shape)\n",
    "\n",
    "attn = score @ V  \n",
    "\n",
    "print(attn)\n"
   ]
  },
  {
   "cell_type": "code",
   "execution_count": null,
   "metadata": {},
   "outputs": [],
   "source": []
  }
 ],
 "metadata": {
  "kernelspec": {
   "display_name": "env",
   "language": "python",
   "name": "python3"
  },
  "language_info": {
   "codemirror_mode": {
    "name": "ipython",
    "version": 3
   },
   "file_extension": ".py",
   "mimetype": "text/x-python",
   "name": "python",
   "nbconvert_exporter": "python",
   "pygments_lexer": "ipython3",
   "version": "3.10.7"
  }
 },
 "nbformat": 4,
 "nbformat_minor": 2
}
