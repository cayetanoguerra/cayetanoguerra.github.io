{
 "cells": [
  {
   "cell_type": "markdown",
   "metadata": {},
   "source": [
    "<p>\n",
    "<img src=\"./imgs/EII-ULPGC-logo.jpeg\" width=\"430px\" align=\"right\">"
   ]
  },
  {
   "cell_type": "markdown",
   "metadata": {},
   "source": [
    "# **Template Matching**\n",
    "https://docs.opencv.org/4.x/de/da9/tutorial_template_matching.html\n",
    "\n",
    "El **template matching** (búsqueda por plantilla) es una técnica clásica de visión por computador para **localizar en una imagen grande** (imagen “escena”) una **pequeña imagen patrón** (la “plantilla”) comparando cómo de bien encaja la plantilla en cada posición de la escena. La medida de similitud puede ser tan simple como la suma de diferencias o más sofisticada como la correlación cruzada normalizada.\n",
    "\n",
    "## **¿Cómo funciona?**\n",
    "\n",
    "1. Se \"desliza\" la plantilla por la imagen escena.\n",
    "2. En cada posición se calcula una **medida de similitud** entre la plantilla y la ventana de imagen del mismo tamaño.\n",
    "3. Se obtiene un **mapa de respuesta**; los **mínimos** indican dónde la plantilla se parece más a la escena.\n",
    "\n",
    "## **Pros y contras**\n",
    "\n",
    "**Ventajas**\n",
    "\n",
    "* Muy sencillo de entender e implementar.\n",
    "* Eficiente si el tamaño es moderado o si se usa FFT/pirámides.\n",
    "* Funciona bien cuando el objeto aparece **con la misma apariencia** (textura/iluminación) y cambios limitados.\n",
    "\n",
    "**Limitaciones**\n",
    "\n",
    "* Sensible a **cambios de escala, rotación, oclusiones y deformaciones** (a menos que se trate explícitamente).\n",
    "* Menos robusto ante **cambios de iluminación** (si no se normaliza).\n",
    "* Puede dar **falsos positivos** en escenas con texturas repetitivas.\n"
   ]
  },
  {
   "cell_type": "code",
   "execution_count": 1,
   "metadata": {},
   "outputs": [
    {
     "name": "stderr",
     "output_type": "stream",
     "text": [
      "2025-09-25 19:26:05.836 Python[1457:129723787] WARNING: AVCaptureDeviceTypeExternal is deprecated for Continuity Cameras. Please use AVCaptureDeviceTypeContinuityCamera and add NSCameraUseContinuityCameraDeviceType to your Info.plist.\n"
     ]
    },
    {
     "ename": "KeyboardInterrupt",
     "evalue": "",
     "output_type": "error",
     "traceback": [
      "\u001b[0;31m---------------------------------------------------------------------------\u001b[0m",
      "\u001b[0;31mKeyboardInterrupt\u001b[0m                         Traceback (most recent call last)",
      "Cell \u001b[0;32mIn [1], line 53\u001b[0m\n\u001b[1;32m     49\u001b[0m plt\u001b[38;5;241m.\u001b[39mimshow(template)\n\u001b[1;32m     51\u001b[0m \u001b[38;5;28;01mwhile\u001b[39;00m(\u001b[38;5;241m1\u001b[39m):\n\u001b[1;32m     52\u001b[0m     \u001b[38;5;66;03m# Take each frame\u001b[39;00m\n\u001b[0;32m---> 53\u001b[0m     _, frame \u001b[38;5;241m=\u001b[39m \u001b[43mcap\u001b[49m\u001b[38;5;241;43m.\u001b[39;49m\u001b[43mread\u001b[49m\u001b[43m(\u001b[49m\u001b[43m)\u001b[49m\n\u001b[1;32m     54\u001b[0m     frame \u001b[38;5;241m=\u001b[39m cv2\u001b[38;5;241m.\u001b[39mresize(frame, (\u001b[38;5;241m400\u001b[39m, \u001b[38;5;241m300\u001b[39m))\n\u001b[1;32m     55\u001b[0m     \u001b[38;5;66;03m# Search for the template\u001b[39;00m\n",
      "\u001b[0;31mKeyboardInterrupt\u001b[0m: "
     ]
    },
    {
     "data": {
      "image/png": "[encoded data removed]",
      "text/plain": [
       "<Figure size 640x480 with 1 Axes>"
      ]
     },
     "metadata": {},
     "output_type": "display_data"
    }
   ],
   "source": [
    "import numpy as np\n",
    "import cv2\n",
    "import matplotlib.pyplot as plt\n",
    "%matplotlib inline\n",
    "\n",
    "\n",
    "# Function serach for the best match\n",
    "def find_matching(image, template):\n",
    "    # Convert to grayscale\n",
    "    image_gray = cv2.cvtColor(image, cv2.COLOR_BGR2GRAY)\n",
    "    template_gray = cv2.cvtColor(template, cv2.COLOR_BGR2GRAY)\n",
    "    # Find the width and height of template in the image\n",
    "    w, h = template_gray.shape[::-1]\n",
    "    # Apply template Matching\n",
    "    res = cv2.matchTemplate(image_gray, template_gray, cv2.TM_CCOEFF_NORMED)\n",
    "\n",
    "    # Get the best match position\n",
    "    min_val, max_val, min_loc, max_loc = cv2.minMaxLoc(res)\n",
    "    # Get the top-left position\n",
    "    top_left = max_loc\n",
    "    # Get the bottom-right position\n",
    "    bottom_right = (top_left[0] + w, top_left[1] + h)\n",
    "    # Draw a rectangle around the matched region.\n",
    "    cv2.rectangle(image, top_left, bottom_right, (0, 255, 0), 2)\n",
    "    return image\n",
    "    \n",
    "    \n",
    "# Function gets a ROI from the center of the image\n",
    "def get_roi(image, roi_size):\n",
    "    # Get the image size\n",
    "    height, width = image.shape[:2]\n",
    "    # Get the ROI size\n",
    "    roi_height, roi_width = roi_size\n",
    "    # Calculate the ROI position\n",
    "    x = int((width - roi_width)/2)\n",
    "    y = int((height - roi_height)/2)\n",
    "    # Get the ROI from the image\n",
    "    roi = image[y:y+roi_height, x:x+roi_width]\n",
    "    return roi\n",
    "\n",
    "\n",
    "cap = cv2.VideoCapture(1)\n",
    "\n",
    "_, frame = cap.read()\n",
    "frame = cv2.resize(frame, (400, 300))\n",
    "template = get_roi(frame, (50, 50))\n",
    "\n",
    "# Show the template\n",
    "plt.imshow(template)\n",
    "\n",
    "while(1):\n",
    "    # Take each frame\n",
    "    _, frame = cap.read()\n",
    "    frame = cv2.resize(frame, (400, 300))\n",
    "    # Search for the template\n",
    "    frame = find_matching(frame, template)\n",
    "    # Show the image\n",
    "    cv2.imshow('Imagen',frame)\n",
    "    \n",
    "    k = cv2.waitKey(5) & 0xFF\n",
    "    if k == 27:\n",
    "        break\n",
    "\n"
   ]
  }
 ],
 "metadata": {
  "kernelspec": {
   "display_name": "Python 3",
   "language": "python",
   "name": "python3"
  },
  "language_info": {
   "codemirror_mode": {
    "name": "ipython",
    "version": 3
   },
   "file_extension": ".py",
   "mimetype": "text/x-python",
   "name": "python",
   "nbconvert_exporter": "python",
   "pygments_lexer": "ipython3",
   "version": "3.10.7"
  },
  "orig_nbformat": 4
 },
 "nbformat": 4,
 "nbformat_minor": 2
}
