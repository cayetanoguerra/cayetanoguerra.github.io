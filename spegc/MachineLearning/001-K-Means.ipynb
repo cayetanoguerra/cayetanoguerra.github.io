{
 "cells": [
  {
   "cell_type": "markdown",
   "metadata": {},
   "source": [
    "<img src=\"imgs/logo-spegc.svg\" width=30%>\n",
    "\n",
    "# K-Means\n",
    "\n",
    "El algoritmo de clustering (agrupamiento) denominado **K-means** corresponde al tipo de aprendizaje no supervisado que se utiliza cuando tenemos datos no etiquetados (es decir, datos sin categorías o grupos definidos). El objetivo de este algoritmo es buscar agrupamientos en los datos, siendo **k** el número predefinido de grupos buscados. El algoritmo funciona iterativamente asignando cada muestra o punto del conjunto a uno de los K grupos. Las muestras se agrupan según la similitud de sus características. Los resultados del algoritmo de agrupamiento K-means son:\n",
    "\n",
    "1. Los centroides de los clusters K, que se pueden usar para etiquetar nuevos datos\n",
    "\n",
    "2. Etiquetas para los datos de entrenamiento (cada muestra se asigna a un solo grupo)\n",
    "\n",
    "### Algoritmo\n",
    "\n",
    "El algoritmo de agrupación de Κ-means utiliza un refinamiento iterativo para producir el resultado final. Las entradas del algoritmo corresponde al número de clústeres **K** junto con el conjunto de datos. El conjunto de datos es una colección de características de cada muestra. El algoritmo comienza con estimaciones iniciales para los Κ centroides, que pueden ser generados aleatoriamente o seleccionados aleatoriamente a partir del conjunto de datos. Una vez hecha la inicialización, el algoritmo itera entre estos dos pasos:\n",
    "\n",
    "#### Paso de asignación de datos:\n",
    "\n",
    "Cada centroide define uno de los clusters. En este paso, cada muestra se asigna a su centroide más cercano, en función de la distancia euclídea. Más formalmente, si $c_i$ es la colección de centroides del conjunto C, entonces cada muesta $x$ se asigna a un clúster mediante la siguiente expresión:\n",
    "\n",
    "$$ \\underset {c_i \\in C} {\\arg \\min} \\; dist (c_i, x)^2 $$\n",
    "\n",
    "donde $dist(·)$ es la distancia euclídea estándar (L2).\n",
    "\n",
    "#### Paso de actualización del centroide:\n",
    "\n",
    "En este paso, los centroides se vuelven a calcular. Esto se hace tomando la media de todas las muestras asignadas al clúster de ese centroide.\n",
    "\n",
    "$$ c_i = \\frac{1}{| S_i |} \\sum_ {x_i \\in S_i} x_i $$\n",
    "\n",
    "El algoritmo itera entre los pasos uno y dos hasta que se cumple algún criterio de detención (es decir, ninguna muestra cambia de clúster, la suma de las distancias se reduce al mínimo o se alcanza un número máximo de iteraciones).\n",
    "\n",
    "Se garantiza que este algoritmo converge a un resultado. Sin embargo, el resultado puede ser un óptimo local (es decir, no necesariamente el mejor resultado posible), lo que significa que la evaluación de más de una ejecución del algoritmo con centroides iniciales aleatorios puede proporcionar un mejor resultado."
   ]
  },
  {
   "cell_type": "code",
   "execution_count": 1,
   "metadata": {
    "collapsed": true
   },
   "outputs": [],
   "source": [
    "from sklearn.cluster import KMeans\n",
    "import numpy as np\n",
    "import pandas as pd\n",
    "\n",
    "data = pd.DataFrame({\n",
    "    'x': [12, 20, 28, 18, 29, 33, 24, 45, 45, 52, 51, 52, 55, 53, 55, 61, 64, 69, 72],\n",
    "    'y': [39, 36, 30, 52, 54, 46, 55, 59, 63, 70, 66, 63, 58, 23, 14, 8, 19, 7, 24]\n",
    "})"
   ]
  },
  {
   "cell_type": "code",
   "execution_count": 2,
   "metadata": {},
   "outputs": [
    {
     "data": {
      "image/png": "[encoded data removed]",
      "text/plain": [
       "<matplotlib.figure.Figure at 0x1067a1550>"
      ]
     },
     "metadata": {},
     "output_type": "display_data"
    }
   ],
   "source": [
    "import matplotlib.pyplot as plt\n",
    "%matplotlib inline\n",
    "\n",
    "plt.scatter(data['x'], data['y'], c=\"b\")\n",
    "plt.xlim(0, 80)\n",
    "plt.ylim(0, 80)\n",
    "\n",
    "plt.show()"
   ]
  },
  {
   "cell_type": "code",
   "execution_count": 11,
   "metadata": {},
   "outputs": [
    {
     "data": {
      "image/png": "[encoded data removed]",
      "text/plain": [
       "<matplotlib.figure.Figure at 0x10c1a0358>"
      ]
     },
     "metadata": {},
     "output_type": "display_data"
    }
   ],
   "source": [
    "kmeans = KMeans(n_clusters=3, random_state=0).fit(data)\n",
    "cx, cy = kmeans.cluster_centers_.T\n",
    "\n",
    "colmap = {0: 'r', 1: 'g', 2: 'b', 3: 'y', 4: 'm'}\n",
    "for i, j, k in zip(data['x'], data['y'], kmeans.labels_):\n",
    "    plt.scatter(i, j, color=colmap[k])\n",
    "\n",
    "plt.scatter(cx, cy, c=\"k\", marker='x')\n",
    "plt.xlim(0, 80)\n",
    "plt.ylim(0, 80)\n",
    "\n",
    "for c, (i, j) in enumerate(zip(data['x'], data['y'])):\n",
    "    plt.annotate(kmeans.labels_[c], (i+1, j))\n",
    "\n",
    "plt.show()"
   ]
  },
  {
   "cell_type": "code",
   "execution_count": 12,
   "metadata": {},
   "outputs": [
    {
     "name": "stdout",
     "output_type": "stream",
     "text": [
      "Predicción:\n",
      "[2 1 0]\n"
     ]
    }
   ],
   "source": [
    "samples_to_predict = [[20, 45], [65, 15], [70, 79]]\n",
    "print(\"Predicción:\")\n",
    "print(kmeans.predict(samples_to_predict))\n",
    "\n",
    "cluster_centers = kmeans.cluster_centers_"
   ]
  },
  {
   "cell_type": "markdown",
   "metadata": {},
   "source": [
    "### ¿Cómo determinar un k adecuado?\n",
    "\n",
    "La mejor agruapción se dará cuando el número de clusters sea igual al número de muestras, pero, obviamente, eso no tiene mucho sentido. Tampoco lo será el tener un solo grupo. Por lo tanto, deberemos ver cuántas agrupaciones podrían resultar adecuadas empezando por dos y terminando antes de llegar a tener el mismo número de grupos que de muestras. Para encontrar ese número $k$ \"adecuado\" debemos formular matemáticamente ese grado de adecuación. Una expresión intuituva podría ser, dado un $k$ determinado:\n",
    "\n",
    "$$ E = \\sum_ {i} \\sqrt{(\\mathbf{x}_i - \\mathbf{c}_i)^2} $$\n",
    "\n",
    "Donde $\\mathbf{c}_i$ sería el centroide correspondiente de cada muestra. Ahora deberemos ir variando $k$ desde $2$ en adelente y obtendremos una gráfica como la de siguiente figura. Observaremos una figura semejante a un codo, ese codo  corresponderá a un posible $k$ adecuado."
   ]
  },
  {
   "cell_type": "code",
   "execution_count": 13,
   "metadata": {},
   "outputs": [
    {
     "data": {
      "image/png": "[encoded data removed]",
      "text/plain": [
       "<matplotlib.figure.Figure at 0x10c19a7b8>"
      ]
     },
     "metadata": {},
     "output_type": "display_data"
    }
   ],
   "source": [
    "dist = lambda x1, y1, x2, y2 : np.sqrt((x1-x2)**2 + (y1-y2)**2)\n",
    "\n",
    "max_k = 10\n",
    "min_k = 1\n",
    "\n",
    "s = np.zeros(max_k)\n",
    "\n",
    "for k in range(min_k, max_k):\n",
    "    kmeans = KMeans(n_clusters=k, random_state=0).fit(data)\n",
    "    cx, cy = kmeans.cluster_centers_.T\n",
    "    for i, j, l in zip(data['x'], data['y'], kmeans.labels_):\n",
    "        s[k] += dist(i,j,cx[l],cy[l])\n",
    "\n",
    "plt.plot(range(min_k, max_k), s[min_k:])\n",
    "plt.show()"
   ]
  },
  {
   "cell_type": "markdown",
   "metadata": {
    "collapsed": true
   },
   "source": [
    "------------------------------\n",
    "## Ejercicios\n",
    "\n",
    "### Dataset Iris\n",
    "\n",
    "El propósito de este ejercicio es agrupar en tres clusters los datos del dataset iris.\n",
    "\n",
    "<img src=\"images/iris-machinelearning.png\" width=60%>"
   ]
  },
  {
   "cell_type": "code",
   "execution_count": 14,
   "metadata": {},
   "outputs": [
    {
     "name": "stdout",
     "output_type": "stream",
     "text": [
      "Número de muestras correctamente agrupadas: 134\n"
     ]
    }
   ],
   "source": [
    "from sklearn import datasets\n",
    "iris = datasets.load_iris()\n",
    "\n",
    "data = iris['data']\n",
    "labels = iris['target']\n",
    "\n",
    "km = KMeans(n_clusters=3, random_state=0).fit(data)\n",
    "\n",
    "prediction = km.predict(data)\n",
    "\n",
    "# Hacemos coincidir los números de las etiquetas con los clusters\n",
    "prediction[prediction==1] = 666\n",
    "prediction[prediction==0] = 1\n",
    "prediction[prediction==666] = 0\n",
    "\n",
    "#print(labels)\n",
    "#print(prediction)\n",
    "\n",
    "print(\"Número de muestras correctamente agrupadas:\", sum(prediction==labels))"
   ]
  },
  {
   "cell_type": "markdown",
   "metadata": {},
   "source": [
    "#### Matriz de confusión"
   ]
  },
  {
   "cell_type": "code",
   "execution_count": 15,
   "metadata": {},
   "outputs": [
    {
     "name": "stdout",
     "output_type": "stream",
     "text": [
      "[[50  0  0]\n",
      " [ 0 48 14]\n",
      " [ 0  2 36]]\n"
     ]
    }
   ],
   "source": [
    "confusion_matrix = np.zeros((3,3), dtype=np.int)\n",
    "\n",
    "for p, l in zip(prediction, labels):\n",
    "    confusion_matrix[p][l] += 1\n",
    "    \n",
    "print(confusion_matrix)"
   ]
  },
  {
   "cell_type": "markdown",
   "metadata": {},
   "source": [
    "### Dataset Digits"
   ]
  },
  {
   "cell_type": "code",
   "execution_count": 16,
   "metadata": {},
   "outputs": [
    {
     "name": "stdout",
     "output_type": "stream",
     "text": [
      "Number of digits: 1797\n"
     ]
    },
    {
     "data": {
      "image/png": "[encoded data removed]",
      "text/plain": [
       "<matplotlib.figure.Figure at 0x10c7ace48>"
      ]
     },
     "metadata": {},
     "output_type": "display_data"
    }
   ],
   "source": [
    "from sklearn.cluster import KMeans\n",
    "from sklearn.datasets import load_digits\n",
    "\n",
    "digits = load_digits()\n",
    "\n",
    "print(\"Number of digits:\", len(digits.data))\n",
    "\n",
    "images_and_labels = list(zip(digits.images, digits.target))\n",
    "for index, (image, label) in enumerate(images_and_labels[:4]):\n",
    "    plt.subplot(2, 4, index + 1)\n",
    "    plt.axis('off')\n",
    "    plt.imshow(image, cmap=plt.cm.gray_r, interpolation='nearest')\n",
    "    plt.title('Label: %i' % label)"
   ]
  },
  {
   "cell_type": "code",
   "execution_count": 17,
   "metadata": {
    "collapsed": true
   },
   "outputs": [],
   "source": [
    "data = digits.data\n",
    "labels = digits.target\n",
    "\n",
    "km = KMeans(n_clusters=10, random_state=0).fit(data)\n",
    "predictions = km.predict(data)"
   ]
  },
  {
   "cell_type": "code",
   "execution_count": 18,
   "metadata": {},
   "outputs": [
    {
     "name": "stdout",
     "output_type": "stream",
     "text": [
      "0 178\n",
      "1 182\n",
      "2 177\n",
      "3 183\n",
      "4 181\n",
      "5 182\n",
      "6 181\n",
      "7 179\n",
      "8 174\n",
      "9 180\n",
      "0 {'len': 166, 'moda': 4, 'rep': 163}\n",
      "1 {'len': 176, 'moda': 3, 'rep': 154}\n",
      "2 {'len': 149, 'moda': 5, 'rep': 136}\n",
      "3 {'len': 250, 'moda': 9, 'rep': 139}\n",
      "4 {'len': 206, 'moda': 7, 'rep': 177}\n",
      "5 {'len': 179, 'moda': 0, 'rep': 177}\n",
      "6 {'len': 90, 'moda': 1, 'rep': 55}\n",
      "7 {'len': 224, 'moda': 8, 'rep': 100}\n",
      "8 {'len': 175, 'moda': 2, 'rep': 148}\n",
      "9 {'len': 182, 'moda': 6, 'rep': 177}\n"
     ]
    }
   ],
   "source": [
    "import scipy.stats\n",
    "\n",
    "d = {}\n",
    "for p, l in zip(predictions, labels):\n",
    "    if p in d:\n",
    "        d[p].append(l)\n",
    "    else:\n",
    "        d[p] = [l]\n",
    "    \n",
    "for i in range(10):\n",
    "    print(i, list(labels).count(i))\n",
    "\n",
    "dig = []\n",
    "\n",
    "for i in range(10):\n",
    "    v = {}\n",
    "    v[\"len\"] = len(d[i])\n",
    "    v[\"moda\"] = scipy.stats.mode(d[i]).mode[0]\n",
    "    v[\"rep\"] = d[i].count(v[\"moda\"])\n",
    "    dig.append(v[\"moda\"])\n",
    "    print(i, v)"
   ]
  },
  {
   "cell_type": "markdown",
   "metadata": {},
   "source": [
    "#### Matriz de confusión"
   ]
  },
  {
   "cell_type": "code",
   "execution_count": 19,
   "metadata": {},
   "outputs": [
    {
     "name": "stdout",
     "output_type": "stream",
     "text": [
      "[[177   0   1   0   0   0   1   0   0   0]\n",
      " [  0  55   2   0   7   0   1   0   5  20]\n",
      " [  0  24 148   0   0   0   0   0   3   0]\n",
      " [  0   1  13 154   0   0   0   0   2   6]\n",
      " [  1   0   0   0 163   2   0   0   0   0]\n",
      " [  0   1   0   2   0 136   0   0   4   6]\n",
      " [  0   2   0   0   0   1 177   0   2   0]\n",
      " [  0   0   3   7   7   0   0 177   5   7]\n",
      " [  0  99   8   7   4   0   2   2 100   2]\n",
      " [  0   0   2  13   0  43   0   0  53 139]]\n"
     ]
    }
   ],
   "source": [
    "confusion_matrix = np.zeros((10,10), dtype=np.int)\n",
    "\n",
    "for p, l in zip(predictions, labels):\n",
    "    p = dig[p]\n",
    "    confusion_matrix[p][l] += 1\n",
    "    \n",
    "\n",
    "print(confusion_matrix)"
   ]
  },
  {
   "cell_type": "code",
   "execution_count": null,
   "metadata": {
    "collapsed": true
   },
   "outputs": [],
   "source": []
  }
 ],
 "metadata": {
  "kernelspec": {
   "display_name": "Python 3",
   "language": "python",
   "name": "python3"
  },
  "language_info": {
   "codemirror_mode": {
    "name": "ipython",
    "version": 3
   },
   "file_extension": ".py",
   "mimetype": "text/x-python",
   "name": "python",
   "nbconvert_exporter": "python",
   "pygments_lexer": "ipython3",
   "version": "3.6.5"
  }
 },
 "nbformat": 4,
 "nbformat_minor": 2
}
