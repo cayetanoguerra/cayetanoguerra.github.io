{
 "cells": [
  {
   "cell_type": "markdown",
   "metadata": {},
   "source": [
    "# Reinforcement Learning (Cross Entropy Method)"
   ]
  },
  {
   "cell_type": "markdown",
   "metadata": {},
   "source": [
    "En esta práctica construiremos un sistema basado en aprendizaje por refuerzo para controlar el equilibrio de un péndulo invertido sobre una plataforma móvil, como muestra la animación inferior. Usaremos el framework de experimentación en RL <a href=\"https://gym.openai.com/\">OpenAI Gym</a>, concretamente el entorno <a href=\"https://gym.openai.com/envs/CartPole-v0\">Cart-pole-V0</a>. Y todo ello lo haremos con una simple neurona.\n",
    "\n",
    "OpenAI Gym nos proporciona todo lo necesario para empezar: observación del estado del entorno, las acciones posibles a realizar y una representación gráfica de cómo va yendo el conjunto péndulo-plataforma.\n",
    "\n",
    "<img src=\"imgs/cartpole.gif\" width=\"50%\">\n",
    "\n",
    "Las observaciones que tenemos son: la posición de la plataforma, la velocidad de la plataforma, el ángulo del péndulo y la velocidad de rotación. Y las acciones son mover la plataforma a la derecha o a la izquierda."
   ]
  },
  {
   "cell_type": "code",
   "execution_count": 1,
   "metadata": {},
   "outputs": [
    {
     "name": "stderr",
     "output_type": "stream",
     "text": [
      "[2018-11-23 12:17:53,390] Making new env: CartPole-v0\n"
     ]
    }
   ],
   "source": [
    "import numpy as np\n",
    "import gym\n",
    "\n",
    "env = gym.make('CartPole-v0')"
   ]
  },
  {
   "cell_type": "markdown",
   "metadata": {},
   "source": [
    "Empezaremos ejecutando algunos ejemplos de interacción con el entorno elegiendo acciones al azar. Puedes descomentar la impresión de las observaciones para ver los datos."
   ]
  },
  {
   "cell_type": "code",
   "execution_count": null,
   "metadata": {},
   "outputs": [],
   "source": [
    "def run_random(env):\n",
    "    for _ in range(20):\n",
    "        observation = env.reset()\n",
    "        for t in range(100):\n",
    "            env.render()\n",
    "            #print(observation)\n",
    "            action = env.action_space.sample()\n",
    "            observation, reward, done, info = env.step(action)\n",
    "            #if done:\n",
    "            #    print(\"Episode finished after {} timesteps\".format(t+1))\n",
    "            #    break\n",
    "run_random(env)"
   ]
  },
  {
   "cell_type": "markdown",
   "metadata": {},
   "source": [
    "Para controlar la plataforma utilizaremos una simple neurona que tendrá como entradas las observaciones y como salida la acción a aplicar: 0 para empujar en una dirección y 1 para la otra dirección. \n",
    "\n",
    "$$r = \\sum_{i=1}^{4}observation_{i} \\cdot w_i$$\n",
    "\n",
    "Si $r<0$ entonces la salida de la neurona será $0$ y si $r\\ge0$ la salida será $1$.\n",
    "\n",
    "<img src=\"imgs/neuron.svg\" width=\"60%\">\n",
    "\n",
    "Nuestro problema ahora es determinar el conjunto de pesos $W$ de la neurona que consigan mantener el péndulo en equilibrio. Y aquí es donde entra en juego el método de entropía cruzada (CEM). *A priori* no tenemos ningún criterio para establecer unos valores iniciales a los pesos, así que podemos asignarlos al azar. Lanzamos unos, por ejemplo, 100 episodios con  pesos aleatorios en cada episodio. Unos pesos funcionarán mejor que otros. Es decir, harán que el péndulo aguante más pasos en equilibiro antes de caerse. De esos 100 conjuntos de pesos escogemos los 10 mejores conjuntos. Con ellos generaremos una <a href=\"https://es.wikipedia.org/wiki/Distribuci%C3%B3n_normal\">distribución gaussiana de probabilidad</a>.\n",
    "\n",
    "$$ \\mu = E[X] = \\frac{\\sum_{i=1}^{10}{x_i}}{10} $$\n",
    "\n",
    "<br>\n",
    "\n",
    "$$ \\sigma = \\sqrt{E[X - \\mu]^2} = \\sqrt{\\frac{\\sum_{i=1}^{10}{(x_i - \\mu)^2}}{10}} $$\n",
    "\n",
    "<br>\n",
    "\n",
    "$$ f(x) = \\frac{1}{\\sqrt{2\\pi\\sigma^2}} \\cdot e^{\\frac{-(x-\\mu)^2}{2\\sigma^2}}$$\n",
    "\n",
    "A partir de esta función generaremos una nueva lista de conjuntos de pesos $(x_1, x_2, \\dots x_{100}) \\sim N(\\mu, \\sigma)$. La diferencia es que ahora este nuevo conjunto estará compuesto por mejores soluciones que la lista anterior. Si repetimos esta operación un número de veces llegaremos a buenas soluciones que logren el objetivo buscado."
   ]
  },
  {
   "cell_type": "code",
   "execution_count": 3,
   "metadata": {},
   "outputs": [],
   "source": [
    "mu = [0., 0., 0., 0.]  # first means\n",
    "sigma = [1., 1., 1., 1.]  # first standard deviations\n",
    "episodies = 100\n",
    "iterations = 10"
   ]
  },
  {
   "cell_type": "markdown",
   "metadata": {},
   "source": [
    "Definimos la función que ejecutará cada episodio (desde el momento inicial hasta que llegamos a los `max_reward` pasos o hasta que el péndulo se nos caiga.)"
   ]
  },
  {
   "cell_type": "code",
   "execution_count": 4,
   "metadata": {
    "collapsed": true
   },
   "outputs": [],
   "source": [
    "def run_episode(env, weights, render=False, max_reward=200):\n",
    "    observation = env.reset()\n",
    "    totalreward = 0\n",
    "    for _ in range(max_reward):\n",
    "        if render:\n",
    "            env.render()\n",
    "        action = 0 if np.matmul(weights, observation) < 0 else 1  # this line is our agent (just one neuron!!)\n",
    "        observation, reward, done, info = env.step(action)\n",
    "        totalreward += reward\n",
    "        if done:\n",
    "            break\n",
    "    return totalreward"
   ]
  },
  {
   "cell_type": "markdown",
   "metadata": {},
   "source": [
    "Comenzamos las iteraciones del método de entropía cruzada. "
   ]
  },
  {
   "cell_type": "code",
   "execution_count": 5,
   "metadata": {},
   "outputs": [
    {
     "name": "stdout",
     "output_type": "stream",
     "text": [
      "------------\n",
      "('Iteration:', 0)\n",
      "('Mean:', array([ 0.22622696,  0.00262583,  0.62822957,  1.38080648]))\n",
      "('Standard deviation:', array([ 0.81368334,  0.63275975,  0.661636  ,  0.74218545]))\n",
      "('# goals:', 2)\n",
      "------------\n",
      "('Iteration:', 1)\n",
      "('Mean:', array([-0.03691883,  0.52496577,  0.583289  ,  1.65092701]))\n",
      "('Standard deviation:', array([ 0.15015612,  0.42542505,  0.3516454 ,  0.58044865]))\n",
      "('# goals:', 13)\n",
      "------------\n",
      "('Iteration:', 2)\n",
      "('Mean:', array([-0.09060018,  0.53560059,  0.8367906 ,  1.64534895]))\n",
      "('Standard deviation:', array([ 0.0955591 ,  0.34067951,  0.28141821,  0.57870654]))\n",
      "('# goals:', 62)\n",
      "------------\n",
      "('Iteration:', 3)\n",
      "('Mean:', array([-0.07337055,  0.53950002,  0.8171924 ,  1.42793988]))\n",
      "('Standard deviation:', array([ 0.06921299,  0.25670751,  0.22083462,  0.49368293]))\n",
      "('# goals:', 84)\n",
      "------------\n",
      "('Iteration:', 4)\n",
      "('Mean:', array([-0.06388024,  0.58374714,  0.79253672,  1.43311962]))\n",
      "('Standard deviation:', array([ 0.03696111,  0.20729629,  0.26922627,  0.69427696]))\n",
      "('# goals:', 89)\n",
      "------------\n",
      "('Iteration:', 5)\n",
      "('Mean:', array([-0.06190401,  0.46004342,  0.78312469,  1.62482836]))\n",
      "('Standard deviation:', array([ 0.03700035,  0.14549583,  0.19796951,  0.49868682]))\n",
      "('# goals:', 91)\n",
      "------------\n",
      "('Iteration:', 6)\n",
      "('Mean:', array([-0.05834037,  0.45933008,  0.66873752,  1.63974957]))\n",
      "('Standard deviation:', array([ 0.02149736,  0.09969143,  0.15140689,  0.59540285]))\n",
      "('# goals:', 96)\n",
      "------------\n",
      "('Iteration:', 7)\n",
      "('Mean:', array([-0.05349134,  0.44265006,  0.64416096,  1.73031597]))\n",
      "('Standard deviation:', array([ 0.01293845,  0.10355204,  0.14329609,  0.47802284]))\n",
      "('# goals:', 97)\n",
      "------------\n",
      "('Iteration:', 8)\n",
      "('Mean:', array([-0.04922199,  0.41861959,  0.70431292,  1.75064128]))\n",
      "('Standard deviation:', array([ 0.0112381 ,  0.11446842,  0.11549831,  0.37623739]))\n",
      "('# goals:', 99)\n",
      "------------\n",
      "('Iteration:', 9)\n",
      "('Mean:', array([-0.05171857,  0.40809734,  0.73386009,  1.68006158]))\n",
      "('Standard deviation:', array([ 0.01074446,  0.08867074,  0.08029104,  0.38536994]))\n",
      "('# goals:', 97)\n"
     ]
    }
   ],
   "source": [
    "for iteration in range(iterations):\n",
    "\n",
    "    weights = []\n",
    "    for m, s in zip(mu, sigma):\n",
    "        weights.append(np.random.normal(m, s, episodies))\n",
    "    weights = np.transpose(weights)\n",
    "\n",
    "    rewards = []\n",
    "    number_of_goals = 0\n",
    "\n",
    "    for w in weights:\n",
    "        r = run_episode(env, w, max_reward=500)\n",
    "        rewards.append(r)\n",
    "        if r == 500:\n",
    "            number_of_goals += 1\n",
    "\n",
    "    # We combine in a list parameteres+rewards and sort it by rewards.\n",
    "    # To do that we use a lambda function\n",
    "    l = sorted(zip(weights, rewards), key=lambda pair: pair[1])\n",
    "    # We get the last ten (they will be those with the higher reward), but\n",
    "    # only first component (parameters) is needed. \n",
    "    l = list(zip(*l[-10:])[0])\n",
    "\n",
    "    mu = np.mean(l, 0)\n",
    "    sigma = np.std(l, 0)\n",
    "\n",
    "    print(\"------------\")\n",
    "    print(\"Iteration:\", iteration)\n",
    "    print(\"Mean:\", mu)\n",
    "    print(\"Standard deviation:\", sigma)\n",
    "    print(\"# goals:\", number_of_goals)"
   ]
  },
  {
   "cell_type": "markdown",
   "metadata": {},
   "source": [
    "Ejecutamos un episodio con 1500 pasos a ver qué tal va."
   ]
  },
  {
   "cell_type": "code",
   "execution_count": 6,
   "metadata": {},
   "outputs": [
    {
     "data": {
      "text/plain": [
       "1399.0"
      ]
     },
     "execution_count": 6,
     "metadata": {},
     "output_type": "execute_result"
    }
   ],
   "source": [
    "run_episode(env, mu, render=True, max_reward=1500)"
   ]
  },
  {
   "cell_type": "code",
   "execution_count": null,
   "metadata": {
    "collapsed": true
   },
   "outputs": [],
   "source": []
  }
 ],
 "metadata": {
  "kernelspec": {
   "display_name": "Python 2",
   "language": "python",
   "name": "python2"
  },
  "language_info": {
   "codemirror_mode": {
    "name": "ipython",
    "version": 2
   },
   "file_extension": ".py",
   "mimetype": "text/x-python",
   "name": "python",
   "nbconvert_exporter": "python",
   "pygments_lexer": "ipython2",
   "version": "2.7.10"
  }
 },
 "nbformat": 4,
 "nbformat_minor": 1
}
