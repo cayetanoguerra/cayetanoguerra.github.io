{
 "cells": [
  {
   "cell_type": "markdown",
   "metadata": {},
   "source": [
    "<img src=\"imgs/logo-spegc.svg\" width=30%>\n",
    "\n",
    "# Redes Neuronales\n",
    "\n",
    "Una red neuronal es un clasificador. Su funcionamiento se basa en la combinación de hiperplanos que acotan regiones de activación del espacio de muestras.\n",
    "\n",
    "<img src=\"images/red.svg\" width=30%>\n",
    "\n",
    "### Mini-batch\n",
    "\n",
    "En cada ciclo de actualización de los pesos de la red no es necesario calcular el gradiente de descenso para cada muestra. Basta con escoger un lote variado de muestras (mini-batch) y calcular el gradiente resultante de éste. \n",
    "\n",
    "### Loss\n",
    "\n",
    "La pérdida o *loss* es el valor o error resultante de comparar las predicciones de la red con las etiquetas de las muestras.\n",
    "\n",
    "### One-hot\n",
    "\n",
    "Cuando se clasifica en más de dos categorías es necesario que la red tenga tantas neuronas en la capa de salida como clases haya. Por tanto, la activación de cada una de estas neuronas de salida corresponderá con una clase. Por ejemplo, si la red tiene cuatro salidas y se activa la tercera, el vector resultante podría ser algo como: [0.002,0.008,0.95,0.04]. Como normalmente las etiquetas de las muestras están en un formato numérico entero (0,1,2,3...), no podremos realizar la comparación de las salidas con las etiquetas. Así que transformamos la etiqueta en un vector de todo ceros excepto el lugar correspondiente a la etiqueta, el cual tendrá un valor de 1. Por ejemplo: $2\\rightarrow [0,0,1,0]$. (Recordemos que las etiquetas comienzan en 0). Esta función de transformación se denomina **One-hot**.\n",
    "\n",
    "### Época\n",
    "\n",
    "Cada vez que entrenamos una red con todos los lotes o *mini-batches* de nuestro dataset de entrenamiento decimos que hemos completado una **época**. Durante el proceso de entrenamiento de una red se suelen completar múltiples épocas.\n",
    "\n",
    "### Softmax\n",
    "\n",
    "La función softmax es parecida a la sigmoide, ésta también convierte un valor entre menos infinito y más infinito en un valor entre cero y uno. La diferencia está en que la función softmax no trabaja sobre un valor sino sobre un vector. De esta forma, convierte todas las componentes de un vector en valores entre cero y uno, pero, además, garantiza que la suma de todos estos valores sea uno. La función softmax se emplea en la capa de salida de una red, y convierte de esta forma sus salidas en una distribución de probabilidades.\n",
    "\n",
    "$$ Softmax(\\textbf{v})_i = \\frac{e^{v_i}}{\\sum_{j=1}^{n} e^{v_j}} $$\n"
   ]
  },
  {
   "cell_type": "markdown",
   "metadata": {},
   "source": [
    "## Ejemplo"
   ]
  },
  {
   "cell_type": "code",
   "execution_count": 1,
   "metadata": {},
   "outputs": [
    {
     "name": "stdout",
     "output_type": "stream",
     "text": [
      "Epoch:  0\n",
      "100.0241785155582\n",
      "Epoch:  50\n",
      "18.96970400644156\n",
      "Epoch:  100\n",
      "13.170055295126776\n",
      "Epoch:  150\n",
      "10.078138508157224\n",
      "Epoch:  200\n",
      "11.287388269558202\n",
      "Epoch:  250\n",
      "9.072072838793838\n",
      "Epoch:  300\n",
      "9.549119750582014\n",
      "Epoch:  350\n",
      "7.616170034709143\n",
      "Epoch:  400\n",
      "7.397081174278847\n",
      "Epoch:  450\n",
      "7.324136739990396\n",
      "Epoch:  500\n",
      "7.080802811213137\n",
      "Epoch:  550\n",
      "6.827754198271204\n",
      "Epoch:  600\n",
      "6.596711911850958\n",
      "Epoch:  650\n",
      "6.395546377461482\n",
      "Epoch:  700\n",
      "6.224170093838008\n",
      "Epoch:  750\n",
      "6.078200099412709\n",
      "Epoch:  800\n",
      "5.952458904913701\n",
      "Epoch:  850\n",
      "5.842759085558164\n",
      "[0. 0. 1.]\n",
      "[3.62718395e-05 2.16039372e-02 9.82853189e-01]\n",
      "[0. 0. 1.]\n",
      "[3.71374500e-05 2.20796788e-02 9.82401566e-01]\n",
      "[0. 1. 0.]\n",
      "[0.00851308 0.99211851 0.00759403]\n",
      "[1. 0. 0.]\n",
      "[9.89908901e-01 9.17519090e-03 9.03354235e-04]\n",
      "[1. 0. 0.]\n",
      "[9.89130249e-01 1.00110080e-02 9.03670496e-04]\n",
      "[0. 0. 1.]\n",
      "[4.45555152e-05 2.61783913e-02 9.78484860e-01]\n",
      "[0. 1. 0.]\n",
      "[0.01368775 0.99671645 0.00318108]\n",
      "[0. 1. 0.]\n",
      "[0.02365453 0.99421009 0.00276636]\n",
      "[1. 0. 0.]\n",
      "[9.86929938e-01 1.24338605e-02 9.09989199e-04]\n",
      "[0. 0. 1.]\n",
      "[4.45555152e-05 2.61783913e-02 9.78484860e-01]\n",
      "[0. 1. 0.]\n",
      "[0.00953003 0.99375113 0.00611546]\n",
      "[0. 1. 0.]\n",
      "[0.00336224 0.95723266 0.04192381]\n",
      "[0. 1. 0.]\n",
      "[0.00838601 0.99239477 0.00763407]\n",
      "[0. 1. 0.]\n",
      "[0.00850375 0.99251087 0.0074481 ]\n",
      "[0. 1. 0.]\n",
      "[0.01379221 0.99655885 0.00324113]\n"
     ]
    }
   ],
   "source": [
    "import numpy as np\n",
    "from NN4Teaching import nn4t\n",
    "\n",
    "data = np.genfromtxt('data/iris.data', delimiter=\",\")\n",
    "np.random.shuffle(data)\n",
    "x_data = data[:, 0:4].astype('f4')\n",
    "y_data = nn4t.one_hot(data[:, 4].astype(int), 3)\n",
    "\n",
    "net = nn4t.Net(layers=[4, 5, 3])\n",
    "\n",
    "for i in range(900):\n",
    "    net.train(x_data, y_data)\n",
    "    \n",
    "    if i%50 == 0:\n",
    "        print(\"Epoch: \", i)\n",
    "        print(net.loss(x_data, y_data))\n",
    "\n",
    "for x, y in zip(x_data[:15], y_data[:15]):\n",
    "    print(y)\n",
    "    print(net.output(x))"
   ]
  },
  {
   "cell_type": "markdown",
   "metadata": {},
   "source": [
    "### Ejercicios\n",
    "\n",
    "- Entrena la red mediante mini-batchs.\n",
    "- Crea un gráfico del loss.\n",
    "- Finaliza el entrenamiento cuando la curva del loss se estabilice.\n",
    "- Divide el dataset en entrenamiento y test.\n",
    "- Calcula la precisión final de la red."
   ]
  },
  {
   "cell_type": "markdown",
   "metadata": {},
   "source": [
    "<img src=\"imgs/keras-logo.png\" width=30%>\n",
    "\n",
    "## Keras\n",
    "https://keras.io/\n",
    "\n",
    "Keras es una API de redes neuronales de alto nivel, escrita en Python y capaz de ejecutarse sobre TensorFlow, CNTK o Theano. Fue desarrollado con la idea de permitir la experimentación rápida, poder pasar de la idea al resultado en el menor tiempo posible."
   ]
  },
  {
   "cell_type": "markdown",
   "metadata": {},
   "source": [
    "Veamos cómo montar una red en Keras para clasificar el dataset Iris. En primer lugar importamos la librería y el dataset. La función `LabelBinarizer` nos convertirá las etiquetas numéricas enteras a codificación one-hot."
   ]
  },
  {
   "cell_type": "code",
   "execution_count": 9,
   "metadata": {
    "collapsed": true
   },
   "outputs": [],
   "source": [
    "import numpy as np\n",
    "from sklearn.datasets import load_iris\n",
    "from sklearn.model_selection import train_test_split\n",
    "from sklearn.preprocessing import LabelBinarizer\n",
    "\n",
    "#load the iris dataset\n",
    "iris = load_iris()\n",
    "\n",
    "X = iris.data\n",
    "encoder = LabelBinarizer()\n",
    "y = encoder.fit_transform(iris.target)  # We transform to one-hot\n",
    "X_train, X_test, y_train, y_test = train_test_split(X, y, test_size=0.25)"
   ]
  },
  {
   "cell_type": "markdown",
   "metadata": {},
   "source": [
    "Creamos la red con la capa de entrada correspondiente a los cuatro valores de cada muestra. Una capa oculta de cinco neuronas y una capa de salida de tres neuronas. Aplicamos la función de activación **sigmoide** para la capa oculta y, dado que tenemos más de dos clases, **softmax** para la salida. Utilizamos *Stochastic Gradient Descent* como método optimizador con un **learning rate** de 0.01."
   ]
  },
  {
   "cell_type": "code",
   "execution_count": 11,
   "metadata": {
    "collapsed": true
   },
   "outputs": [],
   "source": [
    "from keras.models import Sequential #Sequential Models\n",
    "from keras.layers import Dense #Dense Fully Connected Layer Type\n",
    "from keras.optimizers import SGD #Stochastic Gradient Descent Optimizer\n",
    "\n",
    "def create_network():\n",
    "    model = Sequential()\n",
    "    model.add(Dense(5, input_shape=(4,), activation='sigmoid'))\n",
    "    model.add(Dense(3, activation='softmax'))\n",
    "        \n",
    "    #stochastic gradient descent\n",
    "    sgd = SGD(lr=0.01)\n",
    "    model.compile(loss='categorical_crossentropy', optimizer=sgd, metrics=['accuracy'])\n",
    "    return model"
   ]
  },
  {
   "cell_type": "markdown",
   "metadata": {},
   "source": [
    "Entrenamos realizando 500 épocas sobre el conjunto de entrenamiento. Utilizamos un tamaño del lote (`batch_size`) de 10. Esto quiere decir que actualizamos todos los pesos de nuetra red utilizando solo 10 muestas."
   ]
  },
  {
   "cell_type": "code",
   "execution_count": null,
   "metadata": {},
   "outputs": [],
   "source": [
    "neural_network = create_network()\n",
    "neural_network.fit(X_train, y_train, epochs=500, batch_size=10)"
   ]
  },
  {
   "cell_type": "markdown",
   "metadata": {},
   "source": [
    "Echemos un vistazo a los resultados."
   ]
  },
  {
   "cell_type": "code",
   "execution_count": 13,
   "metadata": {},
   "outputs": [
    {
     "name": "stdout",
     "output_type": "stream",
     "text": [
      "['loss', 'acc']\n",
      "38/38 [==============================] - 0s 948us/step\n"
     ]
    },
    {
     "data": {
      "text/plain": [
       "[0.20326391568309382, 1.0]"
      ]
     },
     "execution_count": 13,
     "metadata": {},
     "output_type": "execute_result"
    }
   ],
   "source": [
    "print(neural_network.metrics_names)\n",
    "neural_network.evaluate(X_test, y_test, verbose=1)"
   ]
  },
  {
   "cell_type": "code",
   "execution_count": 14,
   "metadata": {},
   "outputs": [
    {
     "name": "stdout",
     "output_type": "stream",
     "text": [
      "[0.05179366 0.7378154  0.210391  ] -> [0 1 0]\n",
      "[0.9341109  0.06442137 0.00146782] -> [1 0 0]\n",
      "[0.9381783  0.06046955 0.00135211] -> [1 0 0]\n",
      "[0.0105612  0.35811108 0.63132775] -> [0 0 1]\n",
      "[0.00727583 0.285715   0.7070092 ] -> [0 0 1]\n",
      "[0.9398889  0.0588021  0.00130903] -> [1 0 0]\n",
      "[0.08640046 0.80808187 0.10551766] -> [0 1 0]\n",
      "[0.93938214 0.05929988 0.00131804] -> [1 0 0]\n",
      "[0.00629416 0.2608005  0.7329053 ] -> [0 0 1]\n",
      "[0.93938214 0.05929988 0.00131804] -> [1 0 0]\n",
      "[0.95363325 0.04539875 0.00096797] -> [1 0 0]\n",
      "[0.00795827 0.30947852 0.68256325] -> [0 0 1]\n",
      "[0.01081503 0.3722383  0.6169466 ] -> [0 0 1]\n",
      "[0.03380301 0.64731145 0.3188856 ] -> [0 1 0]\n",
      "[0.10818747 0.7796943  0.11211824] -> [0 1 0]\n",
      "[0.9416797  0.05707126 0.00124911] -> [1 0 0]\n",
      "[0.04211864 0.69072473 0.26715663] -> [0 1 0]\n",
      "[0.9534569  0.04556115 0.00098188] -> [1 0 0]\n",
      "[0.02265538 0.5371734  0.44017118] -> [0 1 0]\n",
      "[0.9418448  0.05687665 0.00127851] -> [1 0 0]\n",
      "[0.16318765 0.7778622  0.05895017] -> [0 1 0]\n",
      "[0.22207181 0.72331935 0.0546088 ] -> [0 1 0]\n",
      "[0.93775547 0.06086103 0.00138355] -> [1 0 0]\n",
      "[0.00204258 0.11141565 0.8865418 ] -> [0 0 1]\n",
      "[9.5533103e-01 4.3743413e-02 9.2558580e-04] -> [1 0 0]\n",
      "[0.9443598  0.05444563 0.00119468] -> [1 0 0]\n",
      "[0.07102966 0.8137628  0.11520746] -> [0 1 0]\n",
      "[0.06429695 0.8030155  0.13268751] -> [0 1 0]\n",
      "[0.11116883 0.77267224 0.1161589 ] -> [0 1 0]\n",
      "[0.9521968  0.04680408 0.00099916] -> [1 0 0]\n",
      "[0.03835646 0.7206235  0.24102005] -> [0 1 0]\n",
      "[0.04860492 0.7709948  0.18040039] -> [0 1 0]\n",
      "[0.00134875 0.08073238 0.91791886] -> [0 0 1]\n",
      "[0.00364682 0.17578898 0.8205642 ] -> [0 0 1]\n",
      "[0.93691707 0.06169254 0.00139043] -> [1 0 0]\n",
      "[0.94858444 0.05033455 0.00108107] -> [1 0 0]\n",
      "[0.0404829  0.6836743  0.27584285] -> [0 1 0]\n",
      "[0.95049274 0.04846725 0.00103996] -> [1 0 0]\n"
     ]
    }
   ],
   "source": [
    "predictions = neural_network.predict(X_test)\n",
    "for p, l in zip(predictions, y_test):\n",
    "    print(p,\"->\", l)"
   ]
  },
  {
   "cell_type": "markdown",
   "metadata": {},
   "source": [
    "Una vez creado y entrenado nuestro modelo querremos guardarlo para usarlo en producción."
   ]
  },
  {
   "cell_type": "code",
   "execution_count": 8,
   "metadata": {
    "collapsed": true
   },
   "outputs": [],
   "source": [
    "from keras.models import load_model\n",
    "\n",
    "neural_network.save(\"mimodelo.h5\")"
   ]
  },
  {
   "cell_type": "markdown",
   "metadata": {},
   "source": [
    "Supongamos que apagamos nuestro ordenador (`del neural_network`). Si queremos cargarlo de nuevo haremos:"
   ]
  },
  {
   "cell_type": "code",
   "execution_count": null,
   "metadata": {
    "collapsed": true
   },
   "outputs": [],
   "source": [
    "del neural_network  # deletes the existing model\n",
    "\n",
    "# we return a compiled model\n",
    "# identical to the previous one\n",
    "model = load_model('mimodelo.h5')\n",
    "print(model.metrics_names)\n",
    "model.evaluate(X_test, y_test, verbose=1)"
   ]
  },
  {
   "cell_type": "markdown",
   "metadata": {},
   "source": [
    "### Ejercicios\n",
    "- Crea una red para clasificar el conjunto MNIST"
   ]
  },
  {
   "cell_type": "markdown",
   "metadata": {},
   "source": [
    "# Redes Neuronales Recurrentes"
   ]
  },
  {
   "cell_type": "code",
   "execution_count": null,
   "metadata": {},
   "outputs": [],
   "source": [
    "import numpy as np\n",
    "import sampledata\n",
    "\n",
    "batch_size = 10\n",
    "number_of_neurons = 5\n",
    "digits = 8\n",
    "\n",
    "data, label = sampledata.create_data(500)\n",
    "print(data.shape)\n",
    "print(label.shape)\n",
    "label = label.reshape((500, 8, 1))\n",
    "print(label.shape)\n",
    "\n",
    "# Model ------------------------------------------------\n",
    "from keras.models import Sequential\n",
    "from keras.layers import Dense\n",
    "from keras.layers import SimpleRNN, TimeDistributed\n",
    "from keras import optimizers\n",
    "\n",
    "model = Sequential()\n",
    "model.add(SimpleRNN(number_of_neurons, input_shape=(data.shape[1:]), activation='sigmoid', return_sequences=True, use_bias=True))\n",
    "model.add(TimeDistributed(Dense(1, activation='sigmoid')))\n",
    "\n",
    "sgd = optimizers.SGD(lr=1.)\n",
    "model.compile(loss='mean_squared_error', optimizer=sgd, metrics=['accuracy'])\n",
    "print(model.summary())\n",
    "\n",
    "# train RNN\n",
    "model.fit(data, label, epochs=100, batch_size=batch_size, verbose=1)"
   ]
  },
  {
   "cell_type": "markdown",
   "metadata": {},
   "source": [
    "Veamos qué tal ha aprendido a sumar nuestra RNN."
   ]
  },
  {
   "cell_type": "code",
   "execution_count": 4,
   "metadata": {},
   "outputs": [
    {
     "name": "stdout",
     "output_type": "stream",
     "text": [
      "data:\n",
      "  [0. 1. 0. 1. 1. 1. 1. 1.]\n",
      "+ [0. 0. 1. 0. 0. 1. 1. 0.]\n",
      "------------------------------\n",
      "  [1. 0. 0. 0. 0. 1. 0. 1.] result\n",
      "  [1. 0. 0. 0. 0. 1. 0. 1.] label\n",
      "\n",
      "\n",
      "data:\n",
      "  [0. 1. 0. 1. 1. 0. 0. 0.]\n",
      "+ [0. 0. 1. 1. 0. 1. 1. 0.]\n",
      "------------------------------\n",
      "  [1. 0. 0. 0. 1. 1. 1. 0.] result\n",
      "  [1. 0. 0. 0. 1. 1. 1. 0.] label\n",
      "\n",
      "\n",
      "Precisión: 100.0%\n",
      "------------------------------\n"
     ]
    }
   ],
   "source": [
    "# Test ----------------------------------------------------\n",
    "\n",
    "data, label = sampledata.create_data(100)\n",
    "label = label.reshape((100, 8, 1))\n",
    "\n",
    "error = model.evaluate(data, label, verbose=2)\n",
    "\n",
    "data, label = sampledata.create_data(2)\n",
    "predicted = np.round(model.predict(data))\n",
    "\n",
    "for d, l, r in zip(data, label, predicted.reshape(2, 8)):\n",
    "    print(\"data:\")\n",
    "    print(\" \", np.transpose(d)[0][::-1])\n",
    "    print(\"+\", np.transpose(d)[1][::-1])\n",
    "    print(\"------------------------------\")\n",
    "    print(\" \", r[::-1], \"result\")\n",
    "    print(\" \", l[::-1], \"label\")\n",
    "    print()\n",
    "    print()\n",
    "\n",
    "print(\"Precisión: \"+ str(error[1]*100) + \"%\")\n",
    "print(\"------------------------------\")\n",
    "\n",
    "\n"
   ]
  },
  {
   "cell_type": "markdown",
   "metadata": {
    "collapsed": true
   },
   "source": [
    "## Ajuste a una curva"
   ]
  },
  {
   "cell_type": "code",
   "execution_count": 1,
   "metadata": {
    "collapsed": true
   },
   "outputs": [],
   "source": [
    "from NN4Teaching import nn4t\n",
    "import numpy as np\n",
    "import matplotlib.pyplot as plt\n",
    "%matplotlib inline\n",
    "\n",
    "x = np.arange(0.0, 10.0, 0.1)\n",
    "secuencia = (np.sin(x-1)*0.5+0.1*np.sin(5*x)+1.5)*0.2 # Nuestra secuencia de valores\n"
   ]
  },
  {
   "cell_type": "code",
   "execution_count": 2,
   "metadata": {},
   "outputs": [
    {
     "data": {
      "image/png": "[encoded data removed]",
      "text/plain": [
       "<matplotlib.figure.Figure at 0x10ec1d748>"
      ]
     },
     "metadata": {},
     "output_type": "display_data"
    },
    {
     "name": "stdout",
     "output_type": "stream",
     "text": [
      "[0.2158529  0.23125582 0.24509381 0.25552813 0.2617217  0.26402689\n",
      " 0.26388057 0.26343231 0.26499702 0.27046606]\n",
      "[0.28082151450673726]\n",
      "----------------------\n",
      "[0.23125582 0.24509381 0.25552813 0.2617217  0.26402689 0.26388057\n",
      " 0.26343231 0.26499702 0.27046606 0.28082151]\n",
      "[0.295872535153275]\n",
      "----------------------\n",
      "[0.24509381 0.25552813 0.2617217  0.26402689 0.26388057 0.26343231\n",
      " 0.26499702 0.27046606 0.28082151 0.29587254]\n",
      "[0.3142786231155277]\n"
     ]
    }
   ],
   "source": [
    "plt.plot(x, secuencia)\n",
    "plt.xlabel('x')\n",
    "plt.ylabel('valores')\n",
    "plt.title('Secuencia de valores')\n",
    "plt.grid(True)\n",
    "plt.show()\n",
    "\n",
    "longitud_muestra = 10 #Elegido arbitrariamente\n",
    "\n",
    "muestras_vector = []\n",
    "etiquetas_vector = []\n",
    "for i in range(len(secuencia)-longitud_muestra):\n",
    "    muestras_vector.append(secuencia[i:i+longitud_muestra])\n",
    "    etiquetas_vector.append([secuencia[i+longitud_muestra]])\n",
    "    \n",
    "    \n",
    "    \n",
    "print(muestras_vector[0])\n",
    "print(etiquetas_vector[0])\n",
    "print(\"----------------------\")\n",
    "print(muestras_vector[1])\n",
    "print(etiquetas_vector[1])\n",
    "print(\"----------------------\")\n",
    "print(muestras_vector[2])\n",
    "print(etiquetas_vector[2])"
   ]
  },
  {
   "cell_type": "code",
   "execution_count": 3,
   "metadata": {},
   "outputs": [
    {
     "name": "stdout",
     "output_type": "stream",
     "text": [
      "Epoch:  0\n",
      "0.40896674193232857\n",
      "Epoch:  500\n",
      "0.033473701542416225\n",
      "Epoch:  1000\n",
      "0.014661295598602783\n",
      "Epoch:  1500\n",
      "0.004771790610453958\n",
      "Epoch:  2000\n",
      "0.001005698905204102\n",
      "Epoch:  2500\n",
      "0.00014481396307928593\n",
      "Epoch:  3000\n",
      "1.6486625550970057e-05\n",
      "Epoch:  3500\n",
      "1.6729068556061936e-06\n",
      "Epoch:  4000\n",
      "1.6164746217917844e-07\n",
      "Epoch:  4500\n",
      "1.532520844219181e-08\n"
     ]
    }
   ],
   "source": [
    "net = nn4t.Net(layers=[longitud_muestra, 5, 1])\n",
    "\n",
    "for i in range(5000):\n",
    "    net.train(muestras_vector, etiquetas_vector)\n",
    "    \n",
    "    if i%500 == 0:\n",
    "        print(\"Epoch: \", i)\n",
    "        print(net.loss(muestras_vector, etiquetas_vector))"
   ]
  },
  {
   "cell_type": "code",
   "execution_count": 4,
   "metadata": {},
   "outputs": [
    {
     "data": {
      "image/png": "[encoded data removed]",
      "text/plain": [
       "<matplotlib.figure.Figure at 0x10ec24630>"
      ]
     },
     "metadata": {},
     "output_type": "display_data"
    }
   ],
   "source": [
    "resultados = []\n",
    "\n",
    "for i in range(longitud_muestra):\n",
    "    resultados.append(muestras_vector[0][i])\n",
    "        \n",
    "for i in range(len(secuencia)-longitud_muestra):\n",
    "    resultados.append(net.output(resultados[i:i+longitud_muestra])[0])\n",
    "   \n",
    "etiquetas_vector = ([[0]]*longitud_muestra) + etiquetas_vector\n",
    "\n",
    "plt.plot(resultados, 'r-', etiquetas_vector, 'g-')\n",
    "plt.xlabel('Longitud de muestra')\n",
    "plt.ylabel('Valores')\n",
    "plt.title('Resultados')\n",
    "plt.grid(True)\n",
    "plt.show()"
   ]
  },
  {
   "cell_type": "markdown",
   "metadata": {},
   "source": [
    "## Ejercicios\n",
    "\n",
    "- Realizar la predicción de las <a href=\"./data/solar_spots.csv\">manchas solares</a>\n",
    "- Medir el error medio y desviación típica"
   ]
  },
  {
   "cell_type": "markdown",
   "metadata": {
    "collapsed": true
   },
   "source": [
    "## Autoencoder"
   ]
  },
  {
   "cell_type": "code",
   "execution_count": 13,
   "metadata": {},
   "outputs": [],
   "source": [
    "import numpy as np\n",
    "import keras\n",
    "from keras.datasets import mnist\n",
    "from keras.models import Model, Sequential\n",
    "from keras.layers import Dense #Dense Fully Connected Layer Type\n",
    "from keras.optimizers import SGD #Stochastic Gradient Descent Optimizer\n",
    "\n",
    "(x_train, _), (_, _) = mnist.load_data()\n",
    "\n",
    "max_value = float(x_train.max())\n",
    "x_train = x_train.astype('float32') / max_value\n",
    "\n",
    "x_train = x_train.reshape((len(x_train), -1))"
   ]
  },
  {
   "cell_type": "code",
   "execution_count": 75,
   "metadata": {
    "collapsed": true
   },
   "outputs": [],
   "source": [
    "def create_network():\n",
    "    model = Sequential()\n",
    "    model.add(Dense(50, input_shape=(784,), activation='relu'))\n",
    "    model.add(Dense(784, activation='sigmoid'))\n",
    "        \n",
    "    #stochastic gradient descent\n",
    "    ##sgd = SGD(lr=0.1)\n",
    "    model.compile(optimizer='adam', loss='mean_squared_error')\n",
    "    return model"
   ]
  },
  {
   "cell_type": "code",
   "execution_count": 76,
   "metadata": {},
   "outputs": [
    {
     "name": "stdout",
     "output_type": "stream",
     "text": [
      "Epoch 1/20\n",
      "30000/30000 [==============================] - 2s 65us/step - loss: 0.0832\n",
      "Epoch 2/20\n",
      "30000/30000 [==============================] - 1s 44us/step - loss: 0.0416\n",
      "Epoch 3/20\n",
      "30000/30000 [==============================] - 1s 44us/step - loss: 0.0323\n",
      "Epoch 4/20\n",
      "30000/30000 [==============================] - 1s 45us/step - loss: 0.0263\n",
      "Epoch 5/20\n",
      "30000/30000 [==============================] - 1s 42us/step - loss: 0.0222\n",
      "Epoch 6/20\n",
      "30000/30000 [==============================] - 1s 41us/step - loss: 0.0192\n",
      "Epoch 7/20\n",
      "30000/30000 [==============================] - 1s 42us/step - loss: 0.0168\n",
      "Epoch 8/20\n",
      "30000/30000 [==============================] - 1s 42us/step - loss: 0.0150\n",
      "Epoch 9/20\n",
      "30000/30000 [==============================] - 1s 43us/step - loss: 0.0135\n",
      "Epoch 10/20\n",
      "30000/30000 [==============================] - 1s 44us/step - loss: 0.0122\n",
      "Epoch 11/20\n",
      "30000/30000 [==============================] - 1s 43us/step - loss: 0.0111\n",
      "Epoch 12/20\n",
      "30000/30000 [==============================] - 1s 43us/step - loss: 0.0103\n",
      "Epoch 13/20\n",
      "30000/30000 [==============================] - 1s 43us/step - loss: 0.0095\n",
      "Epoch 14/20\n",
      "30000/30000 [==============================] - 1s 44us/step - loss: 0.0089\n",
      "Epoch 15/20\n",
      "30000/30000 [==============================] - 1s 43us/step - loss: 0.0083\n",
      "Epoch 16/20\n",
      "30000/30000 [==============================] - 1s 44us/step - loss: 0.0079\n",
      "Epoch 17/20\n",
      "30000/30000 [==============================] - 1s 43us/step - loss: 0.0075\n",
      "Epoch 18/20\n",
      "30000/30000 [==============================] - 2s 51us/step - loss: 0.0072\n",
      "Epoch 19/20\n",
      "30000/30000 [==============================] - 1s 45us/step - loss: 0.0070\n",
      "Epoch 20/20\n",
      "30000/30000 [==============================] - 1s 45us/step - loss: 0.0068\n"
     ]
    },
    {
     "data": {
      "text/plain": [
       "<keras.callbacks.History at 0x115f5ee10>"
      ]
     },
     "execution_count": 76,
     "metadata": {},
     "output_type": "execute_result"
    }
   ],
   "source": [
    "neural_network = create_network()\n",
    "neural_network.fit(x_train[:30000], x_train[:30000], epochs=20, batch_size=256)"
   ]
  },
  {
   "cell_type": "code",
   "execution_count": 81,
   "metadata": {},
   "outputs": [
    {
     "data": {
      "image/png": "[encoded data removed]",
      "text/plain": [
       "<matplotlib.figure.Figure at 0x115fc8208>"
      ]
     },
     "metadata": {},
     "output_type": "display_data"
    },
    {
     "data": {
      "image/png": "[encoded data removed]",
      "text/plain": [
       "<matplotlib.figure.Figure at 0x1272f9240>"
      ]
     },
     "metadata": {},
     "output_type": "display_data"
    }
   ],
   "source": [
    "import matplotlib.pyplot as plt\n",
    "\n",
    "rets = neural_network.predict(x_train[:10])\n",
    "\n",
    "plt.figure(figsize=(10,4))\n",
    "for i, ret in enumerate(rets):\n",
    "    plt.subplot(1, 10, i+1)\n",
    "    plt.imshow(rets[i].reshape((28, 28)), cmap='gray')\n",
    "plt.title(\"Reconstruidas\")\n",
    "plt.show()\n",
    "\n",
    "plt.figure(figsize=(10,4))\n",
    "for i, ret in enumerate(x_train[:10]):\n",
    "    plt.subplot(1, 10, i+1)\n",
    "    plt.imshow(ret.reshape((28, 28)), cmap='gray')\n",
    "plt.title(\"Originales\")\n",
    "plt.show()\n"
   ]
  },
  {
   "cell_type": "code",
   "execution_count": null,
   "metadata": {
    "collapsed": true
   },
   "outputs": [],
   "source": []
  }
 ],
 "metadata": {
  "kernelspec": {
   "display_name": "Python 3",
   "language": "python",
   "name": "python3"
  },
  "language_info": {
   "codemirror_mode": {
    "name": "ipython",
    "version": 3
   },
   "file_extension": ".py",
   "mimetype": "text/x-python",
   "name": "python",
   "nbconvert_exporter": "python",
   "pygments_lexer": "ipython3",
   "version": "3.6.5"
  }
 },
 "nbformat": 4,
 "nbformat_minor": 2
}
