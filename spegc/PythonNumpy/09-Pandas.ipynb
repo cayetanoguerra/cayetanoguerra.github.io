{
 "cells": [
  {
   "cell_type": "markdown",
   "metadata": {},
   "source": [
    "<img src=\"logo-spegc.svg\" width=30%>\n",
    "\n",
    "# Pandas\n",
    "\n",
    "Según la Wikipedia, el nombre **Pandas** deriva del término \"panel data\", un término econométrico para conjuntos de datos estructurados multidimensionales. Pandas cuenta con tres estructuras principales de datos:\n",
    "\n",
    "- Series\n",
    "- Dataframes\n",
    "- Paneles\n",
    "\n",
    "Para conjuntos de datos unidimensionales, bidimensionales y tridimensionales respectivamente.\n",
    "\n",
    "<table>\n",
    "<tbody><tr>\n",
    "<th style=\"text-align:center;\">Estructura de datos</th>\n",
    "<th style=\"text-align:center;\">Dimensiones</th>\n",
    "<th style=\"text-align:center;\">Descripción</th>\n",
    "</tr>\n",
    "<tr>\n",
    "<td style=\"text-align:center;\">Series</td>\n",
    "<td style=\"text-align:center;\">1</td>\n",
    "<td style=\"text-align:center;\">Array homogéneo unidimensional de tamaño inalterable</td>\n",
    "</tr> \n",
    "<tr>\n",
    "<td style=\"text-align:center;\">Data Frames</td>\n",
    "<td style=\"text-align:center;\">2</td>\n",
    "<td style=\"text-align:center;\">Estructura tabular mutable y heterogénea</td>\n",
    "</tr>\n",
    "<tr>\n",
    "<td style=\"text-align:center;\">Panel</td>\n",
    "<td style=\"text-align:center;\">3</td>\n",
    "<td style=\"text-align:center;\">Estructura tridimensional mutable y heterogénea</td>\n",
    "</tr>\n",
    "</tbody></table>\n",
    "\n",
    "### Mutabilidad\n",
    "\n",
    "Todas las estructuras de datos de Pandas son de valor mutable (se pueden cambiar) y, excepto las series, todas son de tamaño mutable. La serie es de tamaño inmutable.\n",
    "\n",
    "El **DataFrame** es ampliamente utilizado y una de las estructuras de datos más importantes. El **panel** se usa mucho menos.\n",
    "\n",
    "Pandas puede leer datos de múltipes medios, como archivos CSV o bases de datos SQL, por ejemplo.\n",
    "\n",
    "## DataFrames\n",
    "\n",
    "El **dataframe** es una estructura de datos bidimensional compuesta por columnas y registros. Cada registro es un fila del dataframe y normalmente corresponde con cada muestra que tengamos de un conjunto de datos. A su vez, cada muestra está compuesta por diferentes propiedades o campos, que corresponden a las diferentes columnas del dataframe.\n",
    "\n",
    "Además de los datos, también es posible especificar el índice y los nombres de las columnas en el DataFrame. El índice referencia a las filas, mientras que los nombres de columnas indican la columna del dataframe a la que nos referimos.\n",
    "\n",
    "<img src=\"images/dataframe.png\">\n",
    "\n",
    "\n",
    "## Cargando datos con Pandas\n",
    "\n",
    "Cuando se usa Pandas para el análisis de datos, estos generalmente se leerán de tres maneras diferentes:\n",
    "\n",
    "- Convirtiendo una lista de Python, diccionario o matriz Numpy en un frame de datos de Pandas.\n",
    "\n",
    "- Abriendo un archivo local, generalmente un archivo CSV, un fichero Excel, etc.\n",
    "\n",
    "- Abriendo un archivo o base de datos remota como CSV o JSON de un sitio web a través de una URL o leyendo tablas de bases de datos SQL."
   ]
  },
  {
   "cell_type": "markdown",
   "metadata": {},
   "source": [
    "## Creación del dataframe\n",
    "### A partir de listas"
   ]
  },
  {
   "cell_type": "code",
   "execution_count": 105,
   "metadata": {},
   "outputs": [
    {
     "name": "stdout",
     "output_type": "stream",
     "text": [
      "   0\n",
      "0  1\n",
      "1  2\n",
      "2  3\n",
      "3  4\n",
      "4  5\n"
     ]
    }
   ],
   "source": [
    "import pandas as pd\n",
    "\n",
    "data = [1,2,3,4,5]\n",
    "df = pd.DataFrame(data)\n",
    "print(df)"
   ]
  },
  {
   "cell_type": "code",
   "execution_count": 101,
   "metadata": {},
   "outputs": [
    {
     "name": "stdout",
     "output_type": "stream",
     "text": [
      "  Nombre  nota 1  nota 2\n",
      "0    Ana     9.0     5.0\n",
      "1  Laura     7.0     8.0\n",
      "2  Pedro     5.0     6.0\n"
     ]
    }
   ],
   "source": [
    "import pandas as pd\n",
    "\n",
    "data = [['Ana',9, 5],['Laura', 7, 8],['Pedro', 5, 6]]\n",
    "df = pd.DataFrame(data,columns=['Nombre','nota 1', 'nota 2'], dtype=float)\n",
    "print(df)"
   ]
  },
  {
   "cell_type": "markdown",
   "metadata": {},
   "source": [
    "### A partir de diccionarios"
   ]
  },
  {
   "cell_type": "code",
   "execution_count": 108,
   "metadata": {},
   "outputs": [
    {
     "name": "stdout",
     "output_type": "stream",
     "text": [
      "    Nombre  edad\n",
      "0    Pedro    28\n",
      "1     Juan    22\n",
      "2  Leticia    21\n",
      "3      Ana    19\n"
     ]
    }
   ],
   "source": [
    "import pandas as pd\n",
    "\n",
    "data = {'Nombre':['Pedro', 'Juan', 'Leticia', 'Ana'],'edad':[28, 22, 21, 19]}\n",
    "df = pd.DataFrame(data)\n",
    "print(df)"
   ]
  },
  {
   "cell_type": "code",
   "execution_count": 1,
   "metadata": {},
   "outputs": [
    {
     "name": "stdout",
     "output_type": "stream",
     "text": [
      "      Name  Age\n",
      "id1    Tom   28\n",
      "id2   Jack   34\n",
      "id3  Steve   29\n",
      "id4  Ricky   42\n"
     ]
    }
   ],
   "source": [
    "import pandas as pd\n",
    "data = {'Name':['Tom', 'Jack', 'Steve', 'Ricky'],'Age':[28,34,29,42]}\n",
    "df = pd.DataFrame(data, index=['id1','id2','id3','id4'])\n",
    "print(df)"
   ]
  },
  {
   "cell_type": "markdown",
   "metadata": {},
   "source": [
    "### A partir de Excel"
   ]
  },
  {
   "cell_type": "code",
   "execution_count": 28,
   "metadata": {},
   "outputs": [
    {
     "name": "stdout",
     "output_type": "stream",
     "text": [
      "Column headings:\n",
      "Index(['Alumno', 'nota 1', 'nota 2'], dtype='object')\n"
     ]
    }
   ],
   "source": [
    "import pandas as pd\n",
    "import numpy as np\n",
    "\n",
    "df = pd.read_excel('notas.xlsx', sheet_name=\"Hoja1\")\n",
    "\n",
    "print(\"Column headings:\")\n",
    "print(df.columns)"
   ]
  },
  {
   "cell_type": "code",
   "execution_count": 29,
   "metadata": {},
   "outputs": [
    {
     "name": "stdout",
     "output_type": "stream",
     "text": [
      "0    Montesdeoca, Ana\n",
      "1         Pérez, Juan\n",
      "2       Suárez, Pedro\n",
      "3     Trujillo, Laura\n",
      "4        Zamora, Luis\n",
      "Name: Alumno, dtype: object\n"
     ]
    }
   ],
   "source": [
    "print(df['Alumno'])"
   ]
  },
  {
   "cell_type": "code",
   "execution_count": 30,
   "metadata": {},
   "outputs": [
    {
     "name": "stdout",
     "output_type": "stream",
     "text": [
      "6\n",
      "8\n",
      "3\n",
      "9\n",
      "5\n"
     ]
    }
   ],
   "source": [
    "for i in df.index:\n",
    "    print(df['nota 1'][i])"
   ]
  },
  {
   "cell_type": "code",
   "execution_count": 31,
   "metadata": {},
   "outputs": [
    {
     "name": "stdout",
     "output_type": "stream",
     "text": [
      "0    Montesdeoca, Ana\n",
      "1         Pérez, Juan\n",
      "2       Suárez, Pedro\n",
      "3     Trujillo, Laura\n",
      "4        Zamora, Luis\n",
      "Name: Alumno, dtype: object\n"
     ]
    }
   ],
   "source": [
    "import pandas as pd\n",
    " \n",
    "df = pd.read_excel('notas.xlsx', sheetname='Hoja1')\n",
    " \n",
    "alumno = df['Alumno']\n",
    "nota1 = df['nota 1']\n",
    "nota2 = df['nota 2']\n",
    "\n",
    "print(alumno)"
   ]
  },
  {
   "cell_type": "code",
   "execution_count": 32,
   "metadata": {},
   "outputs": [
    {
     "name": "stdout",
     "output_type": "stream",
     "text": [
      "0    6.5\n",
      "1    6.5\n",
      "2    3.5\n",
      "3    9.5\n",
      "4    5.5\n",
      "dtype: float64\n"
     ]
    }
   ],
   "source": [
    "media = (nota1+nota2)/2\n",
    "print(media)"
   ]
  },
  {
   "cell_type": "markdown",
   "metadata": {},
   "source": [
    "### Información sobre el dataframe"
   ]
  },
  {
   "cell_type": "code",
   "execution_count": 35,
   "metadata": {},
   "outputs": [
    {
     "name": "stdout",
     "output_type": "stream",
     "text": [
      "   0  1  2\n",
      "0  1  2  3\n",
      "1  4  5  6\n",
      "-----------\n",
      "RangeIndex(start=0, stop=2, step=1)\n",
      "-----------\n",
      "(2, 3)\n",
      "2\n"
     ]
    }
   ],
   "source": [
    "df = pd.DataFrame(np.array([[1, 2, 3], [4, 5, 6]]))\n",
    "\n",
    "print(df)\n",
    "print(\"-----------\")\n",
    "print(df.index)\n",
    "print(\"-----------\")\n",
    "\n",
    "# Use the `shape` property\n",
    "print(df.shape)\n",
    "\n",
    "# Or use the `len()` function with the `index` property\n",
    "print(len(df.index))"
   ]
  },
  {
   "cell_type": "markdown",
   "metadata": {},
   "source": [
    "También se puede usar <code>df[0].count()</code> para conocer la altura del dataframe, pero esto excluirá los valores tipo <code>NA</code> (si los hay). Es por eso que llamar a <code>.count()</code> no siempre es la mejor opción."
   ]
  },
  {
   "cell_type": "code",
   "execution_count": 38,
   "metadata": {},
   "outputs": [
    {
     "data": {
      "text/plain": [
       "[0, 1, 2]"
      ]
     },
     "execution_count": 38,
     "metadata": {},
     "output_type": "execute_result"
    }
   ],
   "source": [
    "list(df.columns.values)"
   ]
  },
  {
   "cell_type": "markdown",
   "metadata": {},
   "source": [
    "### Series"
   ]
  },
  {
   "cell_type": "code",
   "execution_count": 115,
   "metadata": {},
   "outputs": [
    {
     "name": "stdout",
     "output_type": "stream",
     "text": [
      "   one  two\n",
      "a  1.0    1\n",
      "b  2.0    2\n",
      "c  3.0    3\n",
      "d  NaN    4\n"
     ]
    }
   ],
   "source": [
    "import pandas as pd\n",
    "\n",
    "d = {'one' : pd.Series([1, 2, 3], index=['a', 'b', 'c']),\n",
    "      'two' : pd.Series([1, 2, 3, 4], index=['a', 'b', 'c', 'd'])}\n",
    "\n",
    "df = pd.DataFrame(d)\n",
    "print(df)"
   ]
  },
  {
   "cell_type": "markdown",
   "metadata": {},
   "source": [
    "## Operaciones básicas\n",
    "\n",
    "### Selección de columnas"
   ]
  },
  {
   "cell_type": "code",
   "execution_count": 117,
   "metadata": {},
   "outputs": [
    {
     "name": "stdout",
     "output_type": "stream",
     "text": [
      "a    1.0\n",
      "b    2.0\n",
      "c    3.0\n",
      "d    NaN\n",
      "Name: one, dtype: float64\n"
     ]
    }
   ],
   "source": [
    "import pandas as pd\n",
    "\n",
    "d = {'one' : pd.Series([1, 2, 3], index=['a', 'b', 'c']),\n",
    "      'two' : pd.Series([1, 2, 3, 4], index=['a', 'b', 'c', 'd'])}\n",
    "\n",
    "df = pd.DataFrame(d)\n",
    "print(df['one'])"
   ]
  },
  {
   "cell_type": "markdown",
   "metadata": {},
   "source": [
    "### Selección de celdas\n",
    "\n",
    "Se puede acceder a los valores de un dataframe referenciándolos por su etiqueta o por su posición en el índice o columna."
   ]
  },
  {
   "cell_type": "code",
   "execution_count": 42,
   "metadata": {},
   "outputs": [
    {
     "name": "stdout",
     "output_type": "stream",
     "text": [
      "   A  B   C\n",
      "0  1  5   9\n",
      "1  2  6  10\n",
      "2  3  7  11\n",
      "3  4  8  12\n",
      "----------------\n",
      "0    1\n",
      "1    2\n",
      "2    3\n",
      "3    4\n",
      "Name: A, dtype: int64\n",
      "----------------\n",
      "1\n",
      "----------------\n",
      "1\n",
      "----------------\n",
      "1\n",
      "----------------\n",
      "1\n"
     ]
    }
   ],
   "source": [
    "import pandas as pd\n",
    "\n",
    "df = pd.DataFrame({'A':[1,2,3,4],'B':[5,6,7,8],'C':[9,10,11,12]})\n",
    "print(df)\n",
    "print(\"----------------\")\n",
    "print(df['A'])\n",
    "print(\"----------------\")\n",
    "# Using `iloc[]`\n",
    "print(df.iloc[0][0])\n",
    "print(\"----------------\")\n",
    "# Using `loc[]`\n",
    "print(df.loc[0]['A'])\n",
    "print(\"----------------\")\n",
    "# Using `at[]`\n",
    "print(df.at[0,'A'])\n",
    "print(\"----------------\")\n",
    "# Using `iat[]`\n",
    "print(df.iat[0,0])"
   ]
  },
  {
   "cell_type": "markdown",
   "metadata": {},
   "source": [
    "#### .loc[ ]\n",
    "\n",
    "Funciona con las etiquetas del índice. Esto significa que si se proporciona <code>.loc['Juan']</code>, buscará los valores del dataframe que tengan un índice etiquetado como \"Juan\". Adviértase que se si se busca <code>loc[2]</code> buscará una entrada cuya etiqueta sea \"2\". Este \"2\" no corresponde a la tercera entrada (recuérdese que se comienza en el 0), sino a la etiqueta \"2\" que puede estar, por ejemplo, en la decimoquinta fila."
   ]
  },
  {
   "cell_type": "code",
   "execution_count": 63,
   "metadata": {},
   "outputs": [
    {
     "name": "stdout",
     "output_type": "stream",
     "text": [
      "   A  B   C\n",
      "a  1  5   9\n",
      "b  2  6  10\n",
      "b  3  7  11\n",
      "d  4  8  12\n",
      "   A  B   C\n",
      "b  2  6  10\n",
      "b  3  7  11\n",
      "-----------------\n",
      "   A  B   C\n",
      "3  1  5   9\n",
      "7  2  6  10\n",
      "5  3  7  11\n",
      "4  4  8  12\n",
      "A     2\n",
      "B     6\n",
      "C    10\n",
      "Name: 7, dtype: int64\n"
     ]
    }
   ],
   "source": [
    "import pandas as pd\n",
    "\n",
    "df = pd.DataFrame({'A':[1,2,3,4],'B':[5,6,7,8],'C':[9,10,11,12]}, index=['a','b','b','d'])\n",
    "print(df)\n",
    "print(df.loc['b'])\n",
    "\n",
    "print(\"-----------------\")\n",
    "\n",
    "df = pd.DataFrame({'A':[1,2,3,4],'B':[5,6,7,8],'C':[9,10,11,12]}, index=[3,7,5,4])\n",
    "print(df)\n",
    "print(df.loc[7])"
   ]
  },
  {
   "cell_type": "markdown",
   "metadata": {},
   "source": [
    "#### .iloc[ ]\n",
    "\n",
    "Trabaja con las posiciones del índice. Esto significa que si se escribe <code>iloc[2]</code>, se buscará los valores del dataframe que estén en la posición tercera del índice."
   ]
  },
  {
   "cell_type": "code",
   "execution_count": 64,
   "metadata": {},
   "outputs": [
    {
     "name": "stdout",
     "output_type": "stream",
     "text": [
      "   A  B   C\n",
      "3  1  5   9\n",
      "2  2  6  10\n",
      "2  3  7  11\n",
      "8  4  8  12\n",
      "A     3\n",
      "B     7\n",
      "C    11\n",
      "Name: 2, dtype: int64\n"
     ]
    }
   ],
   "source": [
    "import pandas as pd\n",
    "\n",
    "df = pd.DataFrame({'A':[1,2,3,4],'B':[5,6,7,8],'C':[9,10,11,12]}, index=[3,2,2,8])\n",
    "print(df)\n",
    "print(df.iloc[2])"
   ]
  },
  {
   "cell_type": "markdown",
   "metadata": {},
   "source": [
    "#### .ix[ ]\n",
    "\n",
    "Es un caso más complejo: cuando el índice está basado en números enteros, pasa una etiqueta a <code>.ix[]</code>. Por tanto, <code>ix[2]</code> significa que está buscando en su dataframe valores que tengan un índice etiquetado como 2. ¡Esto es como .loc []! Sin embargo, si su índice no se basa en enteros, ix funcionará con posiciones, al igual que <code>.iloc[]</code>."
   ]
  },
  {
   "cell_type": "markdown",
   "metadata": {},
   "source": [
    "## Índices\n",
    "\n",
    "Cuando crea un dataframe es posible definir la entrada del argumento <code>index</code> para asegurarse de que tiene el índice que se desea. Cuando no se especifica esto, el dataframe tendrá, de manera predeterminada, un índice numérico que comienza con 0 y continúa hasta la última fila del dataframe.\n",
    "\n",
    "Sin embargo, incluso cuando el índice se especifica automáticamente, aún es posible reutilizar una de sus columnas y convertirla en el índice. Puede hacerse fácilmente llamando a <code>set_index()</code> en el dataframe."
   ]
  },
  {
   "cell_type": "code",
   "execution_count": 51,
   "metadata": {},
   "outputs": [
    {
     "name": "stdout",
     "output_type": "stream",
     "text": [
      "    A  B   C\n",
      "C           \n",
      "9   1  5   9\n",
      "10  2  6  10\n",
      "11  3  7  11\n",
      "12  4  8  12\n",
      "Int64Index([9, 10, 11, 12], dtype='int64', name='C')\n"
     ]
    }
   ],
   "source": [
    "import pandas as pd\n",
    "\n",
    "df = pd.DataFrame({'A':[1,2,3,4],'B':[5,6,7,8],'C':[9,10,11,12]}, index=['a','b','c','d'])\n",
    "df.set_index('C', inplace=True, drop=False)\n",
    "print(df)\n",
    "print(df.index)"
   ]
  },
  {
   "cell_type": "markdown",
   "metadata": {},
   "source": [
    "### Adición de columnas"
   ]
  },
  {
   "cell_type": "code",
   "execution_count": 134,
   "metadata": {},
   "outputs": [
    {
     "name": "stdout",
     "output_type": "stream",
     "text": [
      "   one  two\n",
      "a  1.0    1\n",
      "b  2.0    2\n",
      "c  3.0    3\n",
      "d  NaN    4\n",
      "Adding a new column by passing as Series:\n",
      "   one  two  three\n",
      "a  1.0    1   10.0\n",
      "b  2.0    2   20.0\n",
      "c  3.0    3    NaN\n",
      "d  NaN    4   30.0\n",
      "Adding a new column using the existing columns in DataFrame:\n",
      "   one  two  three  four\n",
      "a  1.0    1   10.0  11.0\n",
      "b  2.0    2   20.0  22.0\n",
      "c  3.0    3    NaN   NaN\n",
      "d  NaN    4   30.0   NaN\n"
     ]
    }
   ],
   "source": [
    "import pandas as pd\n",
    "\n",
    "d = {'one' : pd.Series([1, 2, 3], index=['a', 'b', 'c']),\n",
    "      'two' : pd.Series([1, 2, 3, 4], index=['a', 'b', 'c', 'd'])}\n",
    "\n",
    "df = pd.DataFrame(d)\n",
    "print(df)\n",
    "\n",
    "# Adding a new column to an existing DataFrame object with column label by passing new series\n",
    "\n",
    "print(\"Adding a new column by passing as Series:\")\n",
    "df['three']=pd.Series([10,20,30],index=['a','b','d'])\n",
    "print(df)\n",
    "\n",
    "print(\"Adding a new column using the existing columns in DataFrame:\")\n",
    "df['four']=df['one']+df['three']\n",
    "\n",
    "print(df)"
   ]
  },
  {
   "cell_type": "markdown",
   "metadata": {},
   "source": [
    "### Eliminación de columnas"
   ]
  },
  {
   "cell_type": "code",
   "execution_count": 130,
   "metadata": {},
   "outputs": [
    {
     "name": "stdout",
     "output_type": "stream",
     "text": [
      "Our dataframe is:\n",
      "   one  three  two\n",
      "a  1.0   10.0    1\n",
      "b  2.0   20.0    2\n",
      "c  3.0   30.0    3\n",
      "d  NaN    NaN    4\n",
      "Deleting the first column using DEL function:\n",
      "   three  two\n",
      "a   10.0    1\n",
      "b   20.0    2\n",
      "c   30.0    3\n",
      "d    NaN    4\n",
      "Deleting another column using POP function:\n",
      "   three\n",
      "a   10.0\n",
      "b   20.0\n",
      "c   30.0\n",
      "d    NaN\n"
     ]
    }
   ],
   "source": [
    "# Using the previous DataFrame, we will delete a column\n",
    "# using del function\n",
    "import pandas as pd\n",
    "\n",
    "d = {'one' : pd.Series([1, 2, 3], index=['a', 'b', 'c']), \n",
    "     'two' : pd.Series([1, 2, 3, 4], index=['a', 'b', 'c', 'd']), \n",
    "     'three' : pd.Series([10,20,30], index=['a','b','c'])}\n",
    "\n",
    "df = pd.DataFrame(d)\n",
    "print (\"Our dataframe is:\")\n",
    "print(df)\n",
    "\n",
    "# using del function\n",
    "print (\"Deleting the first column using DEL function:\")\n",
    "del df['one']\n",
    "print(df)\n",
    "\n",
    "# using pop function\n",
    "print (\"Deleting another column using POP function:\")\n",
    "df.pop('two')\n",
    "print(df)"
   ]
  },
  {
   "cell_type": "markdown",
   "metadata": {},
   "source": [
    "### Selección por etiquetas"
   ]
  },
  {
   "cell_type": "code",
   "execution_count": 139,
   "metadata": {},
   "outputs": [
    {
     "name": "stdout",
     "output_type": "stream",
     "text": [
      "   one  two\n",
      "a  1.0    1\n",
      "b  2.0    2\n",
      "c  3.0    3\n",
      "d  NaN    4\n",
      "-------------\n",
      "one    2.0\n",
      "two    2.0\n",
      "Name: b, dtype: float64\n"
     ]
    }
   ],
   "source": [
    "import pandas as pd\n",
    "\n",
    "d = {'one' : pd.Series([1, 2, 3], index=['a', 'b', 'c']), \n",
    "     'two' : pd.Series([1, 2, 3, 4], index=['a', 'b', 'c', 'd'])}\n",
    "\n",
    "df = pd.DataFrame(d)\n",
    "print(df)\n",
    "print(\"-------------\")\n",
    "print(df.loc['b'])"
   ]
  },
  {
   "cell_type": "markdown",
   "metadata": {},
   "source": [
    "### Selección por localización entera"
   ]
  },
  {
   "cell_type": "code",
   "execution_count": 142,
   "metadata": {},
   "outputs": [
    {
     "name": "stdout",
     "output_type": "stream",
     "text": [
      "one    3.0\n",
      "two    3.0\n",
      "Name: c, dtype: float64\n",
      "   one  two\n",
      "c  3.0    3\n",
      "d  NaN    4\n"
     ]
    }
   ],
   "source": [
    "import pandas as pd\n",
    "\n",
    "d = {'one' : pd.Series([1, 2, 3], index=['a', 'b', 'c']),\n",
    "     'two' : pd.Series([1, 2, 3, 4], index=['a', 'b', 'c', 'd'])}\n",
    "\n",
    "df = pd.DataFrame(d)\n",
    "print(df.iloc[2])\n",
    "print(df.iloc[2:4])  # Slicing"
   ]
  },
  {
   "cell_type": "markdown",
   "metadata": {},
   "source": [
    "### Adición de filas en dataframes"
   ]
  },
  {
   "cell_type": "code",
   "execution_count": 3,
   "metadata": {},
   "outputs": [
    {
     "name": "stdout",
     "output_type": "stream",
     "text": [
      "   a  b\n",
      "0  1  2\n",
      "1  3  4\n",
      "----------------\n",
      "   a  b\n",
      "0  1  2\n",
      "1  3  4\n",
      "0  5  6\n",
      "1  7  8\n"
     ]
    }
   ],
   "source": [
    "import pandas as pd\n",
    "\n",
    "df1 = pd.DataFrame([[1, 2], [3, 4]], columns = ['a','b'])\n",
    "df2 = pd.DataFrame([[5, 6], [7, 8]], columns = ['a','b'])\n",
    "\n",
    "print(df1)\n",
    "print(\"----------------\")\n",
    "\n",
    "df1 = df1.append(df2)\n",
    "print(df1)"
   ]
  },
  {
   "cell_type": "markdown",
   "metadata": {},
   "source": [
    "## Guardando datos de Pandas en Excel"
   ]
  },
  {
   "cell_type": "code",
   "execution_count": 95,
   "metadata": {
    "collapsed": true
   },
   "outputs": [],
   "source": [
    "import pandas as pd\n",
    "from pandas import ExcelWriter\n",
    "from pandas import ExcelFile\n",
    "import numpy as np\n",
    " \n",
    "df = pd.DataFrame({'a':[1,3,5,7,4,5,6,4,7,8,9],\n",
    "                   'b':[3,5,6,2,4,6,7,8,7,8,9]})\n",
    " \n",
    "writer = ExcelWriter('notas2.xlsx')\n",
    "df.to_excel(writer,'Hoja1',index=False)\n",
    "writer.save()"
   ]
  },
  {
   "cell_type": "code",
   "execution_count": 97,
   "metadata": {},
   "outputs": [
    {
     "name": "stdout",
     "output_type": "stream",
     "text": [
      "   A  B  C  D\n",
      "0  1  2  3  0\n",
      "1  4  5  6  1\n",
      "2  7  8  9  2\n"
     ]
    }
   ],
   "source": [
    "df = pd.DataFrame(data=np.array([[1, 2, 3], [4, 5, 6], [7, 8, 9]]), columns=['A', 'B', 'C'])\n",
    "\n",
    "# Use '.index'\n",
    "df['D'] = df.index\n",
    "\n",
    "# Print 'df'\n",
    "print(df)"
   ]
  },
  {
   "cell_type": "markdown",
   "metadata": {},
   "source": [
    "## Ejercicios\n",
    "\n",
    "Leer el fichero \"Poblacion_Paises.txt\" y \n",
    "\n",
    "1. Listar todos los países de mayor a menor por número de habitantes en 2007\n",
    "2. Crear un dataframe con las siguientes columnas: País, Continente, Año 2002, Población 2002, Año 2007, Población 2007\n",
    "3. Listar todos los continentes por número de habitantes en 2007\n",
    "4. Listar todos los países en orden de crecimiento en el intervalo de 2002 a 2007"
   ]
  },
  {
   "cell_type": "code",
   "execution_count": 197,
   "metadata": {},
   "outputs": [
    {
     "data": {
      "text/html": [
       "<div>\n",
       "<style scoped>\n",
       "    .dataframe tbody tr th:only-of-type {\n",
       "        vertical-align: middle;\n",
       "    }\n",
       "\n",
       "    .dataframe tbody tr th {\n",
       "        vertical-align: top;\n",
       "    }\n",
       "\n",
       "    .dataframe thead th {\n",
       "        text-align: right;\n",
       "    }\n",
       "</style>\n",
       "<table border=\"1\" class=\"dataframe\">\n",
       "  <thead>\n",
       "    <tr style=\"text-align: right;\">\n",
       "      <th></th>\n",
       "      <th>País</th>\n",
       "      <th>Continente</th>\n",
       "      <th>Año</th>\n",
       "      <th>Población</th>\n",
       "    </tr>\n",
       "  </thead>\n",
       "  <tbody>\n",
       "    <tr>\n",
       "      <th>1</th>\n",
       "      <td>Afghanistan</td>\n",
       "      <td>Asia</td>\n",
       "      <td>2002</td>\n",
       "      <td>25268405</td>\n",
       "    </tr>\n",
       "    <tr>\n",
       "      <th>2</th>\n",
       "      <td>Afghanistan</td>\n",
       "      <td>Asia</td>\n",
       "      <td>2007</td>\n",
       "      <td>31889923</td>\n",
       "    </tr>\n",
       "    <tr>\n",
       "      <th>3</th>\n",
       "      <td>Albania</td>\n",
       "      <td>Europe</td>\n",
       "      <td>2002</td>\n",
       "      <td>3508512</td>\n",
       "    </tr>\n",
       "    <tr>\n",
       "      <th>4</th>\n",
       "      <td>Albania</td>\n",
       "      <td>Europe</td>\n",
       "      <td>2007</td>\n",
       "      <td>3600523</td>\n",
       "    </tr>\n",
       "    <tr>\n",
       "      <th>5</th>\n",
       "      <td>Algeria</td>\n",
       "      <td>Africa</td>\n",
       "      <td>2002</td>\n",
       "      <td>31287142</td>\n",
       "    </tr>\n",
       "    <tr>\n",
       "      <th>6</th>\n",
       "      <td>Algeria</td>\n",
       "      <td>Africa</td>\n",
       "      <td>2007</td>\n",
       "      <td>33333216</td>\n",
       "    </tr>\n",
       "    <tr>\n",
       "      <th>7</th>\n",
       "      <td>Angola</td>\n",
       "      <td>Africa</td>\n",
       "      <td>2002</td>\n",
       "      <td>10866106</td>\n",
       "    </tr>\n",
       "    <tr>\n",
       "      <th>8</th>\n",
       "      <td>Angola</td>\n",
       "      <td>Africa</td>\n",
       "      <td>2007</td>\n",
       "      <td>12420476</td>\n",
       "    </tr>\n",
       "    <tr>\n",
       "      <th>9</th>\n",
       "      <td>Argentina</td>\n",
       "      <td>Americas</td>\n",
       "      <td>2002</td>\n",
       "      <td>38331121</td>\n",
       "    </tr>\n",
       "    <tr>\n",
       "      <th>10</th>\n",
       "      <td>Argentina</td>\n",
       "      <td>Americas</td>\n",
       "      <td>2007</td>\n",
       "      <td>40301927</td>\n",
       "    </tr>\n",
       "  </tbody>\n",
       "</table>\n",
       "</div>"
      ],
      "text/plain": [
       "           País Continente   Año  Población\n",
       "1   Afghanistan       Asia  2002   25268405\n",
       "2   Afghanistan       Asia  2007   31889923\n",
       "3       Albania     Europe  2002    3508512\n",
       "4       Albania     Europe  2007    3600523\n",
       "5       Algeria     Africa  2002   31287142\n",
       "6       Algeria     Africa  2007   33333216\n",
       "7        Angola     Africa  2002   10866106\n",
       "8        Angola     Africa  2007   12420476\n",
       "9     Argentina   Americas  2002   38331121\n",
       "10    Argentina   Americas  2007   40301927"
      ]
     },
     "execution_count": 197,
     "metadata": {},
     "output_type": "execute_result"
    }
   ],
   "source": [
    "import pandas as pd \n",
    "import numpy as np\n",
    "\n",
    "df = pd.read_csv(\"data/Poblacion_Paises.txt\", encoding = \"utf-8\") \n",
    "df.head(10)"
   ]
  },
  {
   "cell_type": "markdown",
   "metadata": {},
   "source": [
    "1) Listar todos los países de mayor a menor por número de habitantes en 2007"
   ]
  },
  {
   "cell_type": "code",
   "execution_count": 151,
   "metadata": {},
   "outputs": [
    {
     "data": {
      "text/html": [
       "<div>\n",
       "<style scoped>\n",
       "    .dataframe tbody tr th:only-of-type {\n",
       "        vertical-align: middle;\n",
       "    }\n",
       "\n",
       "    .dataframe tbody tr th {\n",
       "        vertical-align: top;\n",
       "    }\n",
       "\n",
       "    .dataframe thead th {\n",
       "        text-align: right;\n",
       "    }\n",
       "</style>\n",
       "<table border=\"1\" class=\"dataframe\">\n",
       "  <thead>\n",
       "    <tr style=\"text-align: right;\">\n",
       "      <th></th>\n",
       "      <th>País</th>\n",
       "      <th>Continente</th>\n",
       "      <th>Año</th>\n",
       "      <th>Población</th>\n",
       "    </tr>\n",
       "  </thead>\n",
       "  <tbody>\n",
       "    <tr>\n",
       "      <th>217</th>\n",
       "      <td>Sao Tome and Principe</td>\n",
       "      <td>Africa</td>\n",
       "      <td>2002</td>\n",
       "      <td>170372</td>\n",
       "    </tr>\n",
       "    <tr>\n",
       "      <th>115</th>\n",
       "      <td>Iceland</td>\n",
       "      <td>Europe</td>\n",
       "      <td>2002</td>\n",
       "      <td>288030</td>\n",
       "    </tr>\n",
       "    <tr>\n",
       "      <th>71</th>\n",
       "      <td>Djibouti</td>\n",
       "      <td>Africa</td>\n",
       "      <td>2002</td>\n",
       "      <td>447416</td>\n",
       "    </tr>\n",
       "    <tr>\n",
       "      <th>81</th>\n",
       "      <td>Equatorial Guinea</td>\n",
       "      <td>Africa</td>\n",
       "      <td>2002</td>\n",
       "      <td>495627</td>\n",
       "    </tr>\n",
       "    <tr>\n",
       "      <th>53</th>\n",
       "      <td>Comoros</td>\n",
       "      <td>Africa</td>\n",
       "      <td>2002</td>\n",
       "      <td>614382</td>\n",
       "    </tr>\n",
       "    <tr>\n",
       "      <th>...</th>\n",
       "      <td>...</td>\n",
       "      <td>...</td>\n",
       "      <td>...</td>\n",
       "      <td>...</td>\n",
       "    </tr>\n",
       "    <tr>\n",
       "      <th>29</th>\n",
       "      <td>Brazil</td>\n",
       "      <td>Americas</td>\n",
       "      <td>2002</td>\n",
       "      <td>179914212</td>\n",
       "    </tr>\n",
       "    <tr>\n",
       "      <th>119</th>\n",
       "      <td>Indonesia</td>\n",
       "      <td>Asia</td>\n",
       "      <td>2002</td>\n",
       "      <td>211060000</td>\n",
       "    </tr>\n",
       "    <tr>\n",
       "      <th>269</th>\n",
       "      <td>United States</td>\n",
       "      <td>Americas</td>\n",
       "      <td>2002</td>\n",
       "      <td>287675526</td>\n",
       "    </tr>\n",
       "    <tr>\n",
       "      <th>117</th>\n",
       "      <td>India</td>\n",
       "      <td>Asia</td>\n",
       "      <td>2002</td>\n",
       "      <td>1034172547</td>\n",
       "    </tr>\n",
       "    <tr>\n",
       "      <th>49</th>\n",
       "      <td>China</td>\n",
       "      <td>Asia</td>\n",
       "      <td>2002</td>\n",
       "      <td>1280400000</td>\n",
       "    </tr>\n",
       "  </tbody>\n",
       "</table>\n",
       "<p>142 rows × 4 columns</p>\n",
       "</div>"
      ],
      "text/plain": [
       "                      País Continente   Año   Población\n",
       "217  Sao Tome and Principe     Africa  2002      170372\n",
       "115                Iceland     Europe  2002      288030\n",
       "71                Djibouti     Africa  2002      447416\n",
       "81       Equatorial Guinea     Africa  2002      495627\n",
       "53                 Comoros     Africa  2002      614382\n",
       "..                     ...        ...   ...         ...\n",
       "29                  Brazil   Americas  2002   179914212\n",
       "119              Indonesia       Asia  2002   211060000\n",
       "269          United States   Americas  2002   287675526\n",
       "117                  India       Asia  2002  1034172547\n",
       "49                   China       Asia  2002  1280400000\n",
       "\n",
       "[142 rows x 4 columns]"
      ]
     },
     "execution_count": 151,
     "metadata": {},
     "output_type": "execute_result"
    }
   ],
   "source": [
    "df[df['Año']==2002].sort_values(by=['Población'])"
   ]
  },
  {
   "cell_type": "markdown",
   "metadata": {},
   "source": [
    "2) Crear un dataframe con las siguientes columnas: País, Continente, Año 2002, Población 2002, Año 2007, Población 2007"
   ]
  },
  {
   "cell_type": "code",
   "execution_count": 125,
   "metadata": {},
   "outputs": [
    {
     "data": {
      "text/html": [
       "<div>\n",
       "<style scoped>\n",
       "    .dataframe tbody tr th:only-of-type {\n",
       "        vertical-align: middle;\n",
       "    }\n",
       "\n",
       "    .dataframe tbody tr th {\n",
       "        vertical-align: top;\n",
       "    }\n",
       "\n",
       "    .dataframe thead th {\n",
       "        text-align: right;\n",
       "    }\n",
       "</style>\n",
       "<table border=\"1\" class=\"dataframe\">\n",
       "  <thead>\n",
       "    <tr style=\"text-align: right;\">\n",
       "      <th></th>\n",
       "      <th>País</th>\n",
       "      <th>Continente</th>\n",
       "      <th>Año 2002</th>\n",
       "      <th>Población 2002</th>\n",
       "      <th>Año 2007</th>\n",
       "      <th>Población 2007</th>\n",
       "    </tr>\n",
       "  </thead>\n",
       "  <tbody>\n",
       "    <tr>\n",
       "      <th>0</th>\n",
       "      <td>Afghanistan</td>\n",
       "      <td>Asia</td>\n",
       "      <td>2002</td>\n",
       "      <td>25268405</td>\n",
       "      <td>2007</td>\n",
       "      <td>31889923</td>\n",
       "    </tr>\n",
       "    <tr>\n",
       "      <th>1</th>\n",
       "      <td>Albania</td>\n",
       "      <td>Europe</td>\n",
       "      <td>2002</td>\n",
       "      <td>3508512</td>\n",
       "      <td>2007</td>\n",
       "      <td>3600523</td>\n",
       "    </tr>\n",
       "    <tr>\n",
       "      <th>2</th>\n",
       "      <td>Algeria</td>\n",
       "      <td>Africa</td>\n",
       "      <td>2002</td>\n",
       "      <td>31287142</td>\n",
       "      <td>2007</td>\n",
       "      <td>33333216</td>\n",
       "    </tr>\n",
       "    <tr>\n",
       "      <th>3</th>\n",
       "      <td>Angola</td>\n",
       "      <td>Africa</td>\n",
       "      <td>2002</td>\n",
       "      <td>10866106</td>\n",
       "      <td>2007</td>\n",
       "      <td>12420476</td>\n",
       "    </tr>\n",
       "    <tr>\n",
       "      <th>4</th>\n",
       "      <td>Argentina</td>\n",
       "      <td>Americas</td>\n",
       "      <td>2002</td>\n",
       "      <td>38331121</td>\n",
       "      <td>2007</td>\n",
       "      <td>40301927</td>\n",
       "    </tr>\n",
       "    <tr>\n",
       "      <th>...</th>\n",
       "      <td>...</td>\n",
       "      <td>...</td>\n",
       "      <td>...</td>\n",
       "      <td>...</td>\n",
       "      <td>...</td>\n",
       "      <td>...</td>\n",
       "    </tr>\n",
       "    <tr>\n",
       "      <th>137</th>\n",
       "      <td>Vietnam</td>\n",
       "      <td>Asia</td>\n",
       "      <td>2002</td>\n",
       "      <td>80908147</td>\n",
       "      <td>2007</td>\n",
       "      <td>85262356</td>\n",
       "    </tr>\n",
       "    <tr>\n",
       "      <th>138</th>\n",
       "      <td>West Bank and Gaza</td>\n",
       "      <td>Asia</td>\n",
       "      <td>2002</td>\n",
       "      <td>3389578</td>\n",
       "      <td>2007</td>\n",
       "      <td>4018332</td>\n",
       "    </tr>\n",
       "    <tr>\n",
       "      <th>139</th>\n",
       "      <td>Yemen, Rep.</td>\n",
       "      <td>Asia</td>\n",
       "      <td>2002</td>\n",
       "      <td>18701257</td>\n",
       "      <td>2007</td>\n",
       "      <td>22211743</td>\n",
       "    </tr>\n",
       "    <tr>\n",
       "      <th>140</th>\n",
       "      <td>Zambia</td>\n",
       "      <td>Africa</td>\n",
       "      <td>2002</td>\n",
       "      <td>10595811</td>\n",
       "      <td>2007</td>\n",
       "      <td>11746035</td>\n",
       "    </tr>\n",
       "    <tr>\n",
       "      <th>141</th>\n",
       "      <td>Zimbabwe</td>\n",
       "      <td>Africa</td>\n",
       "      <td>2002</td>\n",
       "      <td>11926563</td>\n",
       "      <td>2007</td>\n",
       "      <td>12311143</td>\n",
       "    </tr>\n",
       "  </tbody>\n",
       "</table>\n",
       "<p>142 rows × 6 columns</p>\n",
       "</div>"
      ],
      "text/plain": [
       "                   País Continente  Año 2002  Población 2002  Año 2007  \\\n",
       "0           Afghanistan       Asia      2002        25268405      2007   \n",
       "1               Albania     Europe      2002         3508512      2007   \n",
       "2               Algeria     Africa      2002        31287142      2007   \n",
       "3                Angola     Africa      2002        10866106      2007   \n",
       "4             Argentina   Americas      2002        38331121      2007   \n",
       "..                  ...        ...       ...             ...       ...   \n",
       "137             Vietnam       Asia      2002        80908147      2007   \n",
       "138  West Bank and Gaza       Asia      2002         3389578      2007   \n",
       "139         Yemen, Rep.       Asia      2002        18701257      2007   \n",
       "140              Zambia     Africa      2002        10595811      2007   \n",
       "141            Zimbabwe     Africa      2002        11926563      2007   \n",
       "\n",
       "     Población 2007  \n",
       "0          31889923  \n",
       "1           3600523  \n",
       "2          33333216  \n",
       "3          12420476  \n",
       "4          40301927  \n",
       "..              ...  \n",
       "137        85262356  \n",
       "138         4018332  \n",
       "139        22211743  \n",
       "140        11746035  \n",
       "141        12311143  \n",
       "\n",
       "[142 rows x 6 columns]"
      ]
     },
     "execution_count": 125,
     "metadata": {},
     "output_type": "execute_result"
    }
   ],
   "source": [
    "df_2002 = df[df['Año']==2002]\n",
    "df_2007 = df[df['Año']==2007]\n",
    "df_ext = pd.concat([df_2002.reset_index(drop=True), df_2007.reset_index(drop=True)], axis=1, ignore_index=True)\n",
    "df_ext.drop(columns=[4,5], inplace=True)\n",
    "df_ext.columns = ['País','Continente','Año 2002','Población 2002','Año 2007','Población 2007']\n",
    "df_ext"
   ]
  },
  {
   "cell_type": "markdown",
   "metadata": {},
   "source": [
    "3) Listar todos los continentes por número de habitantes en 2007"
   ]
  },
  {
   "cell_type": "code",
   "execution_count": 132,
   "metadata": {},
   "outputs": [
    {
     "data": {
      "text/html": [
       "<div>\n",
       "<style scoped>\n",
       "    .dataframe tbody tr th:only-of-type {\n",
       "        vertical-align: middle;\n",
       "    }\n",
       "\n",
       "    .dataframe tbody tr th {\n",
       "        vertical-align: top;\n",
       "    }\n",
       "\n",
       "    .dataframe thead th {\n",
       "        text-align: right;\n",
       "    }\n",
       "</style>\n",
       "<table border=\"1\" class=\"dataframe\">\n",
       "  <thead>\n",
       "    <tr style=\"text-align: right;\">\n",
       "      <th></th>\n",
       "      <th>Población</th>\n",
       "    </tr>\n",
       "    <tr>\n",
       "      <th>Continente</th>\n",
       "      <th></th>\n",
       "    </tr>\n",
       "  </thead>\n",
       "  <tbody>\n",
       "    <tr>\n",
       "      <th>Africa</th>\n",
       "      <td>833723916</td>\n",
       "    </tr>\n",
       "    <tr>\n",
       "      <th>Americas</th>\n",
       "      <td>849772762</td>\n",
       "    </tr>\n",
       "    <tr>\n",
       "      <th>Asia</th>\n",
       "      <td>3601802203</td>\n",
       "    </tr>\n",
       "    <tr>\n",
       "      <th>Europe</th>\n",
       "      <td>578223869</td>\n",
       "    </tr>\n",
       "    <tr>\n",
       "      <th>Oceania</th>\n",
       "      <td>23454829</td>\n",
       "    </tr>\n",
       "  </tbody>\n",
       "</table>\n",
       "</div>"
      ],
      "text/plain": [
       "             Población\n",
       "Continente            \n",
       "Africa       833723916\n",
       "Americas     849772762\n",
       "Asia        3601802203\n",
       "Europe       578223869\n",
       "Oceania       23454829"
      ]
     },
     "execution_count": 132,
     "metadata": {},
     "output_type": "execute_result"
    }
   ],
   "source": [
    "result = df[df['Año']==2002].groupby('Continente').sum().drop(columns=['Año'])\n",
    "result"
   ]
  },
  {
   "cell_type": "markdown",
   "metadata": {},
   "source": [
    "4) Listar todos los países en orden de crecimiento en el intervalo de 2002 a 2007"
   ]
  },
  {
   "cell_type": "code",
   "execution_count": 146,
   "metadata": {},
   "outputs": [
    {
     "data": {
      "text/html": [
       "<div>\n",
       "<style scoped>\n",
       "    .dataframe tbody tr th:only-of-type {\n",
       "        vertical-align: middle;\n",
       "    }\n",
       "\n",
       "    .dataframe tbody tr th {\n",
       "        vertical-align: top;\n",
       "    }\n",
       "\n",
       "    .dataframe thead th {\n",
       "        text-align: right;\n",
       "    }\n",
       "</style>\n",
       "<table border=\"1\" class=\"dataframe\">\n",
       "  <thead>\n",
       "    <tr style=\"text-align: right;\">\n",
       "      <th></th>\n",
       "      <th>País</th>\n",
       "      <th>Continente</th>\n",
       "      <th>Año 2002</th>\n",
       "      <th>Población 2002</th>\n",
       "      <th>Año 2007</th>\n",
       "      <th>Población 2007</th>\n",
       "      <th>Crecimiento</th>\n",
       "    </tr>\n",
       "  </thead>\n",
       "  <tbody>\n",
       "    <tr>\n",
       "      <th>58</th>\n",
       "      <td>India</td>\n",
       "      <td>Asia</td>\n",
       "      <td>2002</td>\n",
       "      <td>1034172547</td>\n",
       "      <td>2007</td>\n",
       "      <td>1110396331</td>\n",
       "      <td>76223784</td>\n",
       "    </tr>\n",
       "    <tr>\n",
       "      <th>24</th>\n",
       "      <td>China</td>\n",
       "      <td>Asia</td>\n",
       "      <td>2002</td>\n",
       "      <td>1280400000</td>\n",
       "      <td>2007</td>\n",
       "      <td>1318683096</td>\n",
       "      <td>38283096</td>\n",
       "    </tr>\n",
       "    <tr>\n",
       "      <th>97</th>\n",
       "      <td>Pakistan</td>\n",
       "      <td>Asia</td>\n",
       "      <td>2002</td>\n",
       "      <td>153403524</td>\n",
       "      <td>2007</td>\n",
       "      <td>169270617</td>\n",
       "      <td>15867093</td>\n",
       "    </tr>\n",
       "    <tr>\n",
       "      <th>94</th>\n",
       "      <td>Nigeria</td>\n",
       "      <td>Africa</td>\n",
       "      <td>2002</td>\n",
       "      <td>119901274</td>\n",
       "      <td>2007</td>\n",
       "      <td>135031164</td>\n",
       "      <td>15129890</td>\n",
       "    </tr>\n",
       "    <tr>\n",
       "      <th>8</th>\n",
       "      <td>Bangladesh</td>\n",
       "      <td>Asia</td>\n",
       "      <td>2002</td>\n",
       "      <td>135656790</td>\n",
       "      <td>2007</td>\n",
       "      <td>150448339</td>\n",
       "      <td>14791549</td>\n",
       "    </tr>\n",
       "    <tr>\n",
       "      <th>...</th>\n",
       "      <td>...</td>\n",
       "      <td>...</td>\n",
       "      <td>...</td>\n",
       "      <td>...</td>\n",
       "      <td>...</td>\n",
       "      <td>...</td>\n",
       "      <td>...</td>\n",
       "    </tr>\n",
       "    <tr>\n",
       "      <th>102</th>\n",
       "      <td>Poland</td>\n",
       "      <td>Europe</td>\n",
       "      <td>2002</td>\n",
       "      <td>38625976</td>\n",
       "      <td>2007</td>\n",
       "      <td>38518241</td>\n",
       "      <td>-107735</td>\n",
       "    </tr>\n",
       "    <tr>\n",
       "      <th>56</th>\n",
       "      <td>Hungary</td>\n",
       "      <td>Europe</td>\n",
       "      <td>2002</td>\n",
       "      <td>10083313</td>\n",
       "      <td>2007</td>\n",
       "      <td>9956108</td>\n",
       "      <td>-127205</td>\n",
       "    </tr>\n",
       "    <tr>\n",
       "      <th>106</th>\n",
       "      <td>Romania</td>\n",
       "      <td>Europe</td>\n",
       "      <td>2002</td>\n",
       "      <td>22404337</td>\n",
       "      <td>2007</td>\n",
       "      <td>22276056</td>\n",
       "      <td>-128281</td>\n",
       "    </tr>\n",
       "    <tr>\n",
       "      <th>15</th>\n",
       "      <td>Bulgaria</td>\n",
       "      <td>Europe</td>\n",
       "      <td>2002</td>\n",
       "      <td>7661799</td>\n",
       "      <td>2007</td>\n",
       "      <td>7322858</td>\n",
       "      <td>-338941</td>\n",
       "    </tr>\n",
       "    <tr>\n",
       "      <th>117</th>\n",
       "      <td>South Africa</td>\n",
       "      <td>Africa</td>\n",
       "      <td>2002</td>\n",
       "      <td>44433622</td>\n",
       "      <td>2007</td>\n",
       "      <td>43997828</td>\n",
       "      <td>-435794</td>\n",
       "    </tr>\n",
       "  </tbody>\n",
       "</table>\n",
       "<p>142 rows × 7 columns</p>\n",
       "</div>"
      ],
      "text/plain": [
       "             País Continente  Año 2002  Población 2002  Año 2007  \\\n",
       "58          India       Asia      2002      1034172547      2007   \n",
       "24          China       Asia      2002      1280400000      2007   \n",
       "97       Pakistan       Asia      2002       153403524      2007   \n",
       "94        Nigeria     Africa      2002       119901274      2007   \n",
       "8      Bangladesh       Asia      2002       135656790      2007   \n",
       "..            ...        ...       ...             ...       ...   \n",
       "102        Poland     Europe      2002        38625976      2007   \n",
       "56        Hungary     Europe      2002        10083313      2007   \n",
       "106       Romania     Europe      2002        22404337      2007   \n",
       "15       Bulgaria     Europe      2002         7661799      2007   \n",
       "117  South Africa     Africa      2002        44433622      2007   \n",
       "\n",
       "     Población 2007  Crecimiento  \n",
       "58       1110396331     76223784  \n",
       "24       1318683096     38283096  \n",
       "97        169270617     15867093  \n",
       "94        135031164     15129890  \n",
       "8         150448339     14791549  \n",
       "..              ...          ...  \n",
       "102        38518241      -107735  \n",
       "56          9956108      -127205  \n",
       "106        22276056      -128281  \n",
       "15          7322858      -338941  \n",
       "117        43997828      -435794  \n",
       "\n",
       "[142 rows x 7 columns]"
      ]
     },
     "execution_count": 146,
     "metadata": {},
     "output_type": "execute_result"
    }
   ],
   "source": [
    "df_ext['Crecimiento'] = df_ext['Población 2007']-df_ext['Población 2002']\n",
    "df_ext.sort_values(by=['Crecimiento'], ascending=False)"
   ]
  },
  {
   "cell_type": "markdown",
   "metadata": {
    "collapsed": true
   },
   "source": [
    "## Estadística descriptiva\n",
    "\n",
    "<table border=\"1\">\n",
    "<colgroup>\n",
    "<col width=\"20%\">\n",
    "<col width=\"80%\">\n",
    "</colgroup>\n",
    "<thead valign=\"bottom\">\n",
    "<tr class=\"row-odd\"><th class=\"head\">Function</th>\n",
    "<th class=\"head\">Description</th>\n",
    "</tr>\n",
    "</thead>\n",
    "<tbody valign=\"top\">\n",
    "<tr class=\"row-even\"><td><code class=\"docutils literal notranslate\"><span class=\"pre\">count</span></code></td>\n",
    "<td>Number of non-NA observations</td>\n",
    "</tr>\n",
    "<tr class=\"row-odd\"><td><code class=\"docutils literal notranslate\"><span class=\"pre\">sum</span></code></td>\n",
    "<td>Sum of values</td>\n",
    "</tr>\n",
    "<tr class=\"row-even\"><td><code class=\"docutils literal notranslate\"><span class=\"pre\">mean</span></code></td>\n",
    "<td>Mean of values</td>\n",
    "</tr>\n",
    "<tr class=\"row-odd\"><td><code class=\"docutils literal notranslate\"><span class=\"pre\">mad</span></code></td>\n",
    "<td>Mean absolute deviation</td>\n",
    "</tr>\n",
    "<tr class=\"row-even\"><td><code class=\"docutils literal notranslate\"><span class=\"pre\">median</span></code></td>\n",
    "<td>Arithmetic median of values</td>\n",
    "</tr>\n",
    "<tr class=\"row-odd\"><td><code class=\"docutils literal notranslate\"><span class=\"pre\">min</span></code></td>\n",
    "<td>Minimum</td>\n",
    "</tr>\n",
    "<tr class=\"row-even\"><td><code class=\"docutils literal notranslate\"><span class=\"pre\">max</span></code></td>\n",
    "<td>Maximum</td>\n",
    "</tr>\n",
    "<tr class=\"row-odd\"><td><code class=\"docutils literal notranslate\"><span class=\"pre\">mode</span></code></td>\n",
    "<td>Mode</td>\n",
    "</tr>\n",
    "<tr class=\"row-even\"><td><code class=\"docutils literal notranslate\"><span class=\"pre\">abs</span></code></td>\n",
    "<td>Absolute Value</td>\n",
    "</tr>\n",
    "<tr class=\"row-odd\"><td><code class=\"docutils literal notranslate\"><span class=\"pre\">prod</span></code></td>\n",
    "<td>Product of values</td>\n",
    "</tr>\n",
    "<tr class=\"row-even\"><td><code class=\"docutils literal notranslate\"><span class=\"pre\">std</span></code></td>\n",
    "<td>Bessel-corrected sample standard deviation</td>\n",
    "</tr>\n",
    "<tr class=\"row-odd\"><td><code class=\"docutils literal notranslate\"><span class=\"pre\">var</span></code></td>\n",
    "<td>Unbiased variance</td>\n",
    "</tr>\n",
    "<tr class=\"row-even\"><td><code class=\"docutils literal notranslate\"><span class=\"pre\">sem</span></code></td>\n",
    "<td>Standard error of the mean</td>\n",
    "</tr>\n",
    "<tr class=\"row-odd\"><td><code class=\"docutils literal notranslate\"><span class=\"pre\">skew</span></code></td>\n",
    "<td>Sample skewness (3rd moment)</td>\n",
    "</tr>\n",
    "<tr class=\"row-even\"><td><code class=\"docutils literal notranslate\"><span class=\"pre\">kurt</span></code></td>\n",
    "<td>Sample kurtosis (4th moment)</td>\n",
    "</tr>\n",
    "<tr class=\"row-odd\"><td><code class=\"docutils literal notranslate\"><span class=\"pre\">quantile</span></code></td>\n",
    "<td>Sample quantile (value at %)</td>\n",
    "</tr>\n",
    "<tr class=\"row-even\"><td><code class=\"docutils literal notranslate\"><span class=\"pre\">cumsum</span></code></td>\n",
    "<td>Cumulative sum</td>\n",
    "</tr>\n",
    "<tr class=\"row-odd\"><td><code class=\"docutils literal notranslate\"><span class=\"pre\">cumprod</span></code></td>\n",
    "<td>Cumulative product</td>\n",
    "</tr>\n",
    "<tr class=\"row-even\"><td><code class=\"docutils literal notranslate\"><span class=\"pre\">cummax</span></code></td>\n",
    "<td>Cumulative maximum</td>\n",
    "</tr>\n",
    "<tr class=\"row-odd\"><td><code class=\"docutils literal notranslate\"><span class=\"pre\">cummin</span></code></td>\n",
    "<td>Cumulative minimum</td>\n",
    "</tr>\n",
    "</tbody>\n",
    "</table>"
   ]
  },
  {
   "cell_type": "markdown",
   "metadata": {},
   "source": [
    "## Datos categóricos\n",
    "\n",
    "Los **datos categóricos** son un tipo de datos de Pandas que corresponden a variables categóricas en las estadísticas. Una variable categórica posee un número limitado, y generalmente fijo, de valores posibles (categorías; niveles en R). Género, clase social, tipo de sangre, país... son ejemplos de variables categóricas. A diferencia de las **variables categóricas** estadísticas, los datos categóricos pueden tener un orden (por ejemplo, \"totalmente de acuerdo\" frente a \"de acuerdo\" o \"primera observación\" frente a \"segunda observación\"), pero las operaciones numéricas (sumas, divisiones...) no son posibles. Todos los valores de datos categóricos están en categorías o <code>np.nan</code>. El orden se define por el orden de las categorías, no por el orden léxico de los valores. Internamente, la estructura de datos consta de una matriz de categorías y una matriz de códigos enteros que apuntan al valor real en la matriz de categorías. El tipo de datos categórico es útil en los siguientes casos: Una variable de cadena que consta de solo unos pocos valores diferentes. La conversión de dicha variable de cadena en una variable categórica ahorrará algo de memoria. El orden léxico de una variable no es el mismo que el orden lógico (\"uno\", \"dos\", \"tres\"). Al convertir a una categoría y especificar un orden en las categorías, la ordenación y min/max utilizarán el orden lógico en lugar del orden léxico."
   ]
  },
  {
   "cell_type": "code",
   "execution_count": 167,
   "metadata": {},
   "outputs": [
    {
     "name": "stdout",
     "output_type": "stream",
     "text": [
      "Index(['a', 'b', 'c'], dtype='object')\n",
      "True\n",
      "   A  B\n",
      "0  a  a\n",
      "1  b  b\n",
      "2  c  c\n",
      "3  a  a\n"
     ]
    }
   ],
   "source": [
    "df = pd.DataFrame({\"A\": [\"a\", \"b\", \"c\", \"a\"]})\n",
    "df[\"B\"] = df[\"A\"].astype('category')\n",
    "df[\"B\"] = df[\"B\"].cat.set_categories([\"a\", \"b\", \"c\"], ordered=True)\n",
    "df\n",
    "print(df[\"B\"].cat.categories)\n",
    "print(df[\"B\"].cat.ordered)\n",
    "print(df)"
   ]
  },
  {
   "cell_type": "code",
   "execution_count": null,
   "metadata": {
    "collapsed": true
   },
   "outputs": [],
   "source": []
  }
 ],
 "metadata": {
  "kernelspec": {
   "display_name": "Python 3",
   "language": "python",
   "name": "python3"
  },
  "language_info": {
   "codemirror_mode": {
    "name": "ipython",
    "version": 3
   },
   "file_extension": ".py",
   "mimetype": "text/x-python",
   "name": "python",
   "nbconvert_exporter": "python",
   "pygments_lexer": "ipython3",
   "version": "3.7.3"
  }
 },
 "nbformat": 4,
 "nbformat_minor": 2
}
