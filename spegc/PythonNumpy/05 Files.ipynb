{
 "cells": [
  {
   "cell_type": "markdown",
   "metadata": {},
   "source": [
    "<img src=\"logo-spegc.svg\" width=30%>\n",
    "\n",
    "# Ficheros"
   ]
  },
  {
   "cell_type": "code",
   "execution_count": null,
   "metadata": {},
   "outputs": [],
   "source": [
    "text_file = open('Cien años de soledad.txt','r')\n",
    "text = text_file.read()\n",
    "text = \" \".join(text.split())\n",
    "text = text.lower().replace(\",\",\"\")\n",
    "text = text.replace(\".\",\"\")\n",
    "text = text.replace(\":\",\"\")\n",
    "text = text.replace(\"-\",\"\")\n",
    "text = text.replace(\"»\",\"\")\n",
    "\n",
    "words = text.split()\n",
    "words = set(words)\n",
    "2\n",
    "print(words)"
   ]
  },
  {
   "cell_type": "code",
   "execution_count": null,
   "metadata": {
    "collapsed": true
   },
   "outputs": [],
   "source": []
  }
 ],
 "metadata": {
  "kernelspec": {
   "display_name": "Python 3",
   "language": "python",
   "name": "python3"
  },
  "language_info": {
   "codemirror_mode": {
    "name": "ipython",
    "version": 3
   },
   "file_extension": ".py",
   "mimetype": "text/x-python",
   "name": "python",
   "nbconvert_exporter": "python",
   "pygments_lexer": "ipython3",
   "version": "3.6.5"
  }
 },
 "nbformat": 4,
 "nbformat_minor": 2
}
