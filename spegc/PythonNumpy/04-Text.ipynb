{
 "cells": [
  {
   "cell_type": "markdown",
   "metadata": {},
   "source": [
    "<img src=\"logo-spegc.svg\" width=30%>\n",
    "\n",
    "# Texto"
   ]
  },
  {
   "cell_type": "code",
   "execution_count": 12,
   "metadata": {},
   "outputs": [
    {
     "name": "stdout",
     "output_type": "stream",
     "text": [
      "En un lugar de La Mancha, de cuyo nombre no quiero acordarme\n"
     ]
    }
   ],
   "source": [
    "s =  \"En un lugar de La Mancha, de cuyo nombre no quiero acordarme\"\n",
    "print(s)"
   ]
  },
  {
   "cell_type": "markdown",
   "metadata": {},
   "source": [
    "## Funciones sobre cadenas de caracteres\n",
    "\n",
    "- **capitalize():** Convierte el primer carácter a mayúsculas\n",
    "- **casefold():** Convierte la cadena en minúsculas\n",
    "- **center():** Devuelve una cadena centrada\n",
    "- **count():** Devuelve el número de veces que ocurre un valor específico en una cadena\n",
    "- **encode():** Devuelve una versión codificada de la cadena\n",
    "- **endswith():** Devuelve verdadero si la cadena termina con el valor especificado\n",
    "- **expandtabs():** Establece el tamaño de la pestaña de la cadena\n",
    "- **find():** Busca en la cadena un valor específico y devuelve la posición donde se encontró\n",
    "- **format():** Formatea valores especificados en una cadena\n",
    "- **format_map():** Formatea valores especificados en una cadena\n",
    "- **index():** Busca en la cadena un valor específico y devuelve la posición donde se encontró\n",
    "- **isalnum():** Devuelve True si todos los caracteres de la cadena son alfanuméricos\n",
    "- **isalpha():** Devuelve True si todos los caracteres de la cadena están en el alfabeto\n",
    "- **isdecimal():** Devuelve True si todos los caracteres de la cadena son decimales\n",
    "- **isdigit():** Devuelve True si todos los caracteres de la cadena son dígitos\n",
    "- **isidentifier():** Devuelve True si la cadena es un identificador\n",
    "- **islower():** Devuelve True si todos los caracteres de la cadena están en minúscula\n",
    "- **isnumeric():** Devuelve True si todos los caracteres de la cadena son numéricos\n",
    "- **isprintable():** Devuelve True si todos los caracteres de la cadena son imprimibles\n",
    "- **isspace():** Devuelve True si todos los caracteres de la cadena son espacios en blanco\n",
    "- **istitle():** Devuelve True si la cadena sigue las reglas de un título\n",
    "- **isupper():** Devuelve True si todos los caracteres de la cadena son mayúsculas\n",
    "- **join():** une los elementos de un iterable al final de la cadena\n",
    "- **ljust():** Devuelve una versión justificada a la izquierda de la cadena\n",
    "- **lower():** Convierte una cadena en minúsculas\n",
    "- **lstrip():** Devuelve una versión recortada a la izquierda de la cadena\n",
    "- **maketrans():** Devuelve una tabla de traducción para usar en las traducciones\n",
    "- **partition():** Devuelve una tupla donde la cadena se divide en tres partes\n",
    "- **replace():** Devuelve una cadena donde un valor especificado se reemplaza con un valor específico\n",
    "- **rfind():** Busca en la cadena un valor específico y devuelve la última posición donde se encontró\n",
    "- **rindex():** Busca en la cadena un valor específico y devuelve la última posición donde se encontró\n",
    "- **rpartition():** Devuelve una tupla donde la cadena se divide en tres partes\n",
    "- **rsplit():** Divide la cadena en el separador especificado y devuelve una lista\n",
    "- **rstrip():** Devuelve una versión de recortada a la derecha de la cadena\n",
    "- **split():** Divide la cadena en el separador especificado y devuelve una lista\n",
    "- **splitlines():** Divide la cadena en los saltos de línea y devuelve una lista\n",
    "- **startswith():** Devuelve verdadero si la cadena comienza con el valor especificado\n",
    "- **swapcase():** Las minúsculas se convierten en mayúsculas y viceversa\n",
    "- **title():** Convierte el primer carácter de cada palabra a mayúsculas\n",
    "- **translate():** Devuelve una cadena traducida\n",
    "- **upper():** Convierte una cadena en mayúsculas\n",
    "- **zfill():** Rellena la cadena con un número especificado de valores 0 al principio"
   ]
  },
  {
   "cell_type": "code",
   "execution_count": 11,
   "metadata": {},
   "outputs": [
    {
     "name": "stdout",
     "output_type": "stream",
     "text": [
      "['En', 'un', 'lugar', 'de', 'La', 'Mancha,', 'de', 'cuyo', 'nombre', 'no', 'quiero', 'acordarme']\n"
     ]
    }
   ],
   "source": [
    "print(s.split())"
   ]
  },
  {
   "cell_type": "code",
   "execution_count": 9,
   "metadata": {},
   "outputs": [
    {
     "name": "stdout",
     "output_type": "stream",
     "text": [
      "en un lugar de la mancha de cuyo nombre no quiero acordarme\n",
      "['en', 'un', 'lugar', 'de', 'la', 'mancha', 'de', 'cuyo', 'nombre', 'no', 'quiero', 'acordarme']\n"
     ]
    }
   ],
   "source": [
    "s = s.lower().replace(\",\", \"\")\n",
    "print(s)\n",
    "print(s.split())"
   ]
  },
  {
   "cell_type": "markdown",
   "metadata": {
    "collapsed": true
   },
   "source": [
    "-----------------\n",
    "\n",
    "## <span style=\"color:orange\">Ejercicios</spam>\n",
    "\n",
    "- Selecciona el texto inferior y crea un diccionario cuya clave sea cada palabra diferente del texto y cuyo valor sea el número de veces que aparece esa palabra en el texto.\n",
    "\n",
    "\n",
    "\n",
    "-----------------"
   ]
  },
  {
   "cell_type": "markdown",
   "metadata": {},
   "source": [
    "## La cápsula de Cádiz que levita a 1.200 km/h\n",
    "\n",
    "\n",
    "Una caseta en la feria de El Puerto de Santa María y hombres enchaquetados. Entre ellos, uno. Está acompañado por otros, todos sentados en sillas de enea alrededor de una mesa redonda pintada de color verde. El hombre coge una servilleta y dibuja a bolígrafo, y comienza a preguntar a los demás, elevando la voz para doblegar el ruido. Quiere saber si lo que ha esbozado en celulosa puede ser realidad con materiales compuestos como la fibra de carbono: los que le acompañan son expertos. El hombre es el director de operaciones de Hyperloop TT. Se trata del origen de lo que se ha presentado días atrás y que ha dado la vuelta al mundo: la primera cápsula a tamaño real para el Hyperloop, donde la tecnología española, andaluza y gaditana ha jugado un papel fundamental para que el consorcio estadounidense Hyperloop TT destaque en la pugna por ser los primeros en poner a funcionar el tren que levita a 1.200 km/h. El sueño de Elon Musk más cerca de ser real.\n",
    "\n",
    "La quietud es absoluta, es de noche y está oscuro. Visitamos la fábrica de El Puerto de Santa María en la que duerme la Quintero One. La primera cápsula del mundo a tamaño real del hyperloop se ha construido en Cádiz, y ha costado dos millones de euros. Es un hito de la ingeniería que ha puesto a este lugar del sur en el mapa mundi. Airtificial es la empresa que ha obrado un milagro... o más bien dos: es una excelente noticia para una provincia que carga con la fama en lugar de cardar la lana.\n",
    "\n",
    "Se encienden las luces. Impresiona. A simple vista, la cápsula parece fría, pero es muy cálida al tacto. Está hecha con un compuesto creado en exclusiva, el HyperloppTTs VibraniumTM. Mide 32 metros de largo desde el morro a la cola. En su interior el espacio se reduce a la mitad: 15 metros. Pesa cinco toneladas. En transporte especial llegará a Toulouse (Francia) donde equiparán el interior, integrarán los imanes, los tubos... y se harán las pruebas dinámicas de la cápsula, las primeras con un máquina a escala real. Transportará entre 30 y 40 pasajeros, que viajarán a más de 1.200 kilómetros por hora, primero en Abu Dabi y luego en China, según los contratos ya firmados por la compañía norteamericana. ¿Y cómo circulará? Dentro de un tubo, como ideó Musk. Pero el sistema dinámico ha cambiado: la cápsula, según ha anunciado Hyperloop TT, circulará mediante levitación magnética pasiva, generada por la propia velocidad. En la parte inferior de la cápsula habrá unos imanes que generarán un campo magnético contrario al que generan unas bobinas instaladas en una vía.\n",
    "\n",
    "En parada, la máquina no levita y descansa sobre esa vía. El movimiento se generará, como lo hacen los coches eléctricos, gracias a unas baterías instaladas en la cápsula, que darán vida a unos motores lineales. Con el movimiento y con la velocidad los imanes inyectarán voltaje sobre las bobinas y harán que la Quintero One se eleve... y levite. Ocio y negocio no sólo no están reñidos: es un mix que funciona. El encuentro que dio origen a esta cápsula futurista tuvo lugar dentro de los actos que organiza cada año esta multinacional de origen andaluz, antes llamada Carbures y ahora Airtificial. Por descontado, en esa caseta sobre todo se habla de business. A ella acuden clientes y directivos de las empresas con las que trabajan, como Airbus o Boeing, para las que fabrican piezas de materiales compuestos como el carbono. Un material duro y resistente que en los aparatos supone un ahorro del 85% de consumo energético.\n",
    "\n",
    "«A partir de ahí empezamos a intercambiar con ellos correos electrónicos para concretar, y comenzamos a evaluar técnicamente el proyecto», explica Rafael Contreras, presidente y fundador de esta tecnológica española de ingeniería aeronáutica, automoción, obra civil, e inteligencia artificial, robótica colaborativa y estructuras compuestas sensorizadas. Por supuesto ellos también evaluaron la solvencia de la empresa norteamericana antes de aceptar definitivamente el encargo. «Teníamos que asegurarnos del puesto que ocupaba Hyperloop TT en la carrera del hyperloop», explica. Querían trabajar para un player one, un caballo ganador. Intuían que, construyendo la cápsula, desde España podían ser capaces de darle un impulso mundial.Lo siguiente fue el análisis real de los ingenieros. El diseño definitivo vino de Paul Priestman, un prestigioso diseñador industrial que encabeza el estudio internacional PriestmanGoode. Con su idea del Hyperloop TT se alzó en 2017 con el golden award de la London Design Award. Con el boceto final, desde España comenzaron a interactuar y a sugerir mejoras. El precioso dibujo encerraba un enigma geométrico: la zona de la cola es contraria a la cabeza. «El reto técnico fue fabricar ofreciendo estabilidad invertida», explica Javier Moreno, general manager de la división aeroespacial y de sistemas de una compañía que fabrica materiales compuestos... en piezas. «Para Airbus u otras compañías fabricamos piezas, y ellos las ensamblan. En este caso nosotros hemos fabricado las piezas y también las hemos montado». Siguiendo los estrictos estándares de seguridad exigidos en el sector. Contreras resume: «Como no sabíamos que era imposible, lo hicimos».Los ingenieros de Airtificial llegaron a un punto en el que dejaron de contar la cantidad de parámetros que calculaban con los potentes softwares especializados con los que trabajan. Han sido necesarias 21.000 horas de ingeniería aeronáutica y 5.000 horas para montar 82 paneles de fibra de carbono y 7.200 metros cuadrados de fibra. Todo ello va ensamblado con 75.000 remaches. Hay instalados 72 sensores, que detectarán e indicarán los cambios que afecten a la seguridad y también los que sirvan para mejorar la experiencia de usuario. «La sensórica fue una de nuestras sugerencias, aceptaron, y la incorporamos: podría decirse que, con ella, la cápsula tiene vida propia», subraya Rafael Contreras.\n",
    "\n",
    "El nombre, Quintero One, es en homenaje a uno de los fundadores de la plataforma de inversores tecnológicos californianos que alumbró Hyperloop TT: Andrew Quintero. Murió en 2014, en un fatal accidente en la playa de Waikiki.En la compañía están satisfechos. «Ha sido titánico». No hay descanso y tienen que seguir trabajando con Hyperloop TT. Ganaron el contrato internacional, por 2,8 millones de euros, frente a otras cuatro compañías para construir el prototipo del tubo sobre el que circulará. ¿La diferencia? Las cuatro presentaron estructuras de acero. La española, de composite: 700 metros, repartidos en 12 segmentos de largo por cuatro de diámetro y de un grosor de 32 milímetros. Dotado además con sensores inteligentes. En el siglo XX hubo una carrera, la espacial, entre Estados Unidos y Rusia. En el XXI se libra entre empresas. Cuando funcione el hyperloop se sabrá quién gana. Es un proyecto abierto, ideado por Elon Musk. En 2013 lo presentó e inmediatamente hizo el hardware libre para que lo desarrollara quien quisiera, o mejor dicho, quien pudiera económicamente. Regaló las 57 páginas de los White Papers que estudian todavía empresas y universidades. Cinco jóvenes ingenieros valencianos fueron seleccionados por Elon Musk y desarrollan ideas en Xpace, un laboratorio de ingeniería en EEUU que también trabaja en prototipos del hyperloop, fabricados por Tesla. Hoy tan sólo dos consorcios empresariales norteamericanos tienen la suficiente solvencia económica para llevarlo a cabo. Son Virgin Hyperloop One e Hyperloop TT. Con la cápsula, Airtificial ha impulsado a ésta última. «Aquí estamos». Por los plazos de entrega, los trabajadores de Airtificial en Jerez, donde se han construido los paneles y los de El Puerto de Santa María, donde se ha ensamblado, no han tenido vacaciones este verano. No les ha importado. «Hemos sido conscientes de la relevancia mundial de este encargo. Todos hemos sabido desde el minuto uno que este proyecto era brutal, un hito histórico de ingeniería y todos hemos dicho \"yo quiero formar parte de esto\"», ultima Contreras."
   ]
  },
  {
   "cell_type": "code",
   "execution_count": null,
   "metadata": {
    "collapsed": true
   },
   "outputs": [],
   "source": []
  }
 ],
 "metadata": {
  "kernelspec": {
   "display_name": "Python 3",
   "language": "python",
   "name": "python3"
  },
  "language_info": {
   "codemirror_mode": {
    "name": "ipython",
    "version": 3
   },
   "file_extension": ".py",
   "mimetype": "text/x-python",
   "name": "python",
   "nbconvert_exporter": "python",
   "pygments_lexer": "ipython3",
   "version": "3.6.5"
  }
 },
 "nbformat": 4,
 "nbformat_minor": 2
}
