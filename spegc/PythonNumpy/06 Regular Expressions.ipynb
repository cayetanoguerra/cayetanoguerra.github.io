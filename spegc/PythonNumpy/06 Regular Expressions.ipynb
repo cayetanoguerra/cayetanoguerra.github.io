{
 "cells": [
  {
   "cell_type": "markdown",
   "metadata": {},
   "source": [
    "<img src=\"logo-spegc.svg\" width=30%>\n",
    "\n",
    "# Expresiones Regulares (regex)\n",
    "\n",
    "https://docs.python.org/3/howto/regex.html"
   ]
  },
  {
   "cell_type": "code",
   "execution_count": 13,
   "metadata": {},
   "outputs": [
    {
     "data": {
      "text/plain": [
       "True"
      ]
     },
     "execution_count": 13,
     "metadata": {},
     "output_type": "execute_result"
    }
   ],
   "source": [
    "s = \"Donde digo digo, digo diego.\"\n",
    "\"digo\" in s"
   ]
  },
  {
   "cell_type": "code",
   "execution_count": 17,
   "metadata": {},
   "outputs": [
    {
     "name": "stdout",
     "output_type": "stream",
     "text": [
      "['digo', 'digo', 'digo']\n"
     ]
    }
   ],
   "source": [
    "import re\n",
    "x = re.findall(\"digo\", s)\n",
    "print(x)"
   ]
  },
  {
   "cell_type": "markdown",
   "metadata": {},
   "source": [
    "## [ ]\n",
    "Se utilizan para especificar el conjunto de caracteres que se desea combinar. Los caracteres se pueden enumerar individualmente, o se puede indicar un rango de caracteres dando dos caracteres y separándolos por un '-'. Por ejemplo, [abc] coincidirá con cualquiera de los caracteres a, b o c; esto es lo mismo que [a-c], que usa un rango para expresar el mismo conjunto de caracteres. Si quisiera hacer coincidir solo letras minúsculas, su RE sería [a-z]."
   ]
  },
  {
   "cell_type": "code",
   "execution_count": 37,
   "metadata": {},
   "outputs": [
    {
     "name": "stdout",
     "output_type": "stream",
     "text": [
      "['a', 'a', 'a', 'a', 'z']\n",
      "['r', 'o', 'j', 'o', 'v', 'e', 'r', 'd', 'e', 'a', 'm', 'a', 'r', 'i', 'l', 'l', 'o', 'g', 'r', 'i', 's', 'b', 'l', 'a', 'n', 'c', 'o', 'a', 'z', 'u', 'l']\n",
      "['r', 'o', 'j', 'o', ' ', 'v', 'e', 'r', 'd', 'e', ' ', 'm', 'r', 'i', 'l', 'l', 'o', ' ', 'g', 'r', 'i', 's', ' ', 'b', 'l', 'n', 'c', 'o', ' ', 'u', 'l']\n",
      "[' ', ' ', ' ', ' ', ' ']\n"
     ]
    }
   ],
   "source": [
    "import re\n",
    "\n",
    "s =\"rojo verde amarillo gris blanco azul\"\n",
    "\n",
    "x = re.findall(\"[az]\", s)\n",
    "print(x)\n",
    "x = re.findall(\"[a-z]\", s)\n",
    "print(x)\n",
    "x = re.findall(\"[^az]\", s) # Podemo invertir la selección usando ^\n",
    "print(x)\n",
    "x = re.findall(\"[^a-z]\", s)\n",
    "print(x)"
   ]
  },
  {
   "cell_type": "markdown",
   "metadata": {},
   "source": [
    "##  Secuencias especiales\n",
    "\n",
    "- **\\d** Coincide con cualquier dígito decimal; esto es equivalente a la clase [0-9].\n",
    "- **\\D** Coincide con cualquier carácter que no sea un dígito; esto es equivalente a la clase [^ 0-9]. \n",
    "- **\\s** Coincide con cualquier carácter de espacio en blanco; esto es equivalente a la clase [\\t\\n\\r\\f\\v].\n",
    "- **\\S** Coincide con cualquier carácter que no sea espacio en blanco; esto es equivalente a la clase [^\\t\\n\\r\\f\\v]. \n",
    "- **\\w** Coincide con cualquier carácter alfanumérico; esto es equivalente a la clase [a-zA-Z0-9].\n",
    "- **\\W** Coincide con cualquier carácter no alfanumérico; esto es equivalente a la clase [^a-zA-Z0-9]."
   ]
  },
  {
   "cell_type": "code",
   "execution_count": 68,
   "metadata": {},
   "outputs": [
    {
     "name": "stdout",
     "output_type": "stream",
     "text": [
      "['rojo', 'roja', 'roji']\n"
     ]
    }
   ],
   "source": [
    "import re\n",
    "\n",
    "s =\"rojo roja rojizo azul\"\n",
    "\n",
    "x = re.findall(\"rojo\", s)\n",
    "x = re.findall(\"roj\\w\", s)\n",
    "print(x)"
   ]
  },
  {
   "cell_type": "markdown",
   "metadata": {},
   "source": [
    "## Repeticiones"
   ]
  },
  {
   "cell_type": "code",
   "execution_count": 73,
   "metadata": {},
   "outputs": [
    {
     "name": "stdout",
     "output_type": "stream",
     "text": [
      "['rojo', 'roja', 'roji']\n",
      "['rojo', 'rjo']\n",
      "['rojo', 'rjo', 'roooojo']\n",
      "['rojo', 'roooojo']\n",
      "['rojo', 'roja', 'rojizo']\n"
     ]
    }
   ],
   "source": [
    "import re\n",
    "\n",
    "s =\"rojo roja rojizo azul raja rejo rjo roooojo\"\n",
    "\n",
    "x = re.findall(\"roj.\", s) # . sustituye cualquier carácter\n",
    "print(x)\n",
    "\n",
    "x = re.findall(\"ro?jo\", s) # . sustituye cualquier carácter\n",
    "print(x)\n",
    "\n",
    "x = re.findall(\"ro*jo\", s) # . sustituye cualquier carácter\n",
    "print(x)\n",
    "\n",
    "x = re.findall(\"ro+jo\", s) # . sustituye cualquier carácter\n",
    "print(x)\n",
    "\n",
    "x = re.findall(\"roj[\\w]+\", s) # . sustituye cualquier carácter\n",
    "print(x)"
   ]
  },
  {
   "cell_type": "code",
   "execution_count": 105,
   "metadata": {},
   "outputs": [
    {
     "name": "stdout",
     "output_type": "stream",
     "text": [
      "['rojar', 'rojo', 'Rojo', 'roja', 'Rojizo']\n",
      "['rojar', 'rojo', 'Rojo', 'roja', 'Rojizo']\n",
      "[' rojo', ' Rojo', ' roja', ' Rojizo']\n",
      "['rojo', 'Rojo', 'roja', 'Rojizo', 'encarnado', 'encarnadas']\n"
     ]
    }
   ],
   "source": [
    "import re\n",
    "\n",
    "s =\"arrojar rojo Rojo roja Rojizo azul encarnado encarnadas\"\n",
    "\n",
    "x = re.findall(r\"[rR]oj\\w*\", s)\n",
    "print(x)\n",
    "\n",
    "x = re.findall(r\"roj\\w*\", s,  re.IGNORECASE)\n",
    "print(x)\n",
    "\n",
    "x = re.findall(r\"\\sroj\\w*\", s,  re.IGNORECASE)\n",
    "print(x)\n",
    "\n",
    "x = re.findall(r\"\\broj\\w*|encarnad\\w*\", s,  re.IGNORECASE)\n",
    "print(x)"
   ]
  },
  {
   "cell_type": "code",
   "execution_count": 97,
   "metadata": {},
   "outputs": [
    {
     "name": "stdout",
     "output_type": "stream",
     "text": [
      "['45.3']\n"
     ]
    }
   ],
   "source": [
    "import re\n",
    "\n",
    "s = u\"Precio: 45.3€\"\n",
    "\n",
    "x = re.findall(r\"\\d+\\.\\d*\", s)\n",
    "print(x)"
   ]
  }
 ],
 "metadata": {
  "kernelspec": {
   "display_name": "Python 3",
   "language": "python",
   "name": "python3"
  },
  "language_info": {
   "codemirror_mode": {
    "name": "ipython",
    "version": 3
   },
   "file_extension": ".py",
   "mimetype": "text/x-python",
   "name": "python",
   "nbconvert_exporter": "python",
   "pygments_lexer": "ipython3",
   "version": "3.6.5"
  }
 },
 "nbformat": 4,
 "nbformat_minor": 2
}
