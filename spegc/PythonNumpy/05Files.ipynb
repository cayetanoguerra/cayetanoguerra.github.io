{
 "cells": [
  {
   "cell_type": "markdown",
   "metadata": {},
   "source": [
    "<img src=\"logo-spegc.svg\" width=30%>\n",
    "\n",
    "# Ficheros"
   ]
  },
  {
   "cell_type": "code",
   "execution_count": 4,
   "metadata": {},
   "outputs": [
    {
     "name": "stdout",
     "output_type": "stream",
     "text": [
      "Esto es un texto de ejemplo.\n",
      "\n"
     ]
    }
   ],
   "source": [
    "f  = open(\"fichero.txt\")\n",
    "data = f.read() \n",
    "print(data)\n",
    "f.close()"
   ]
  },
  {
   "cell_type": "markdown",
   "metadata": {},
   "source": [
    "## with\n",
    "\n",
    "También se puede trabajar con objetos de archivo utilizando la instrucción <code>with</code>. Está diseñado para proporcionar un manejo de la sintaxis y las excepciones mucho más limpio cuando se trabaja con código. Es una buena práctica usar la declaración <code>with</code> cuando corresponda."
   ]
  },
  {
   "cell_type": "code",
   "execution_count": null,
   "metadata": {},
   "outputs": [],
   "source": [
    "with open(\"fichero.txt\") as f:  \n",
    "    data = f.readline()\n",
    "    print(data)\n",
    "    data = f.readline()\n",
    "    print(data)\n",
    "#data = f.readline()\n",
    "#print(data)"
   ]
  },
  {
   "cell_type": "code",
   "execution_count": null,
   "metadata": {},
   "outputs": [],
   "source": [
    "# Reading all the file\n",
    "f = open(\"fichero.txt\")\n",
    "data = f.read()\n",
    "print(data)\n",
    "f.close()\n",
    "\n",
    "print(\"--------------------------------\")\n",
    "\n",
    "#Iterating across the file\n",
    "f = open(\"fichero.txt\")\n",
    "data = \"\"\n",
    "for line in f.readlines():\n",
    "    data += line\n",
    "    print(data)\n",
    "f.close()\n",
    "\n",
    "print(\"--------------------------------\")\n",
    "    \n",
    "# Or we can read only a chunk\n",
    "f = open(\"fichero.txt\")\n",
    "block = f.read(5)\n",
    "data = block\n",
    "while len(block) != 0:    \n",
    "    block = f.read(5)    \n",
    "    data += block\n",
    "    print(block)\n",
    "print(data)\n",
    "f.close()\n"
   ]
  },
  {
   "cell_type": "markdown",
   "metadata": {},
   "source": [
    "<code>with</code> es realmente un *manejador de contexto*."
   ]
  },
  {
   "cell_type": "code",
   "execution_count": 28,
   "metadata": {},
   "outputs": [
    {
     "name": "stdout",
     "output_type": "stream",
     "text": [
      "Esto es un texto de ejemplo.\n",
      "\n",
      "Esta es una segunda línea.\n",
      "\n",
      "Y, por último, una tercera.\n",
      "\n",
      "\n"
     ]
    }
   ],
   "source": [
    "class controlled_execution:\n",
    "    \n",
    "    def __init__(self, filename):\n",
    "        self.filename = filename\n",
    "    \n",
    "    def __enter__(self):\n",
    "        f = open(self.filename)\n",
    "        return f\n",
    "    \n",
    "    def __exit__(self, type, value, traceback):\n",
    "        f.close()\n",
    "\n",
    "        \n",
    "with controlled_execution(\"fichero.txt\") as f:\n",
    "    while len(data) != 0:\n",
    "        data = f.readline()\n",
    "        print(data)\n"
   ]
  },
  {
   "cell_type": "markdown",
   "metadata": {},
   "source": [
    "## Manejo de ficheros y texto"
   ]
  },
  {
   "cell_type": "code",
   "execution_count": null,
   "metadata": {},
   "outputs": [],
   "source": [
    "with open('Cien años de soledad.txt','r') as f:\n",
    "    text = f.read()\n",
    "    \n",
    "text = \" \".join(text.split())\n",
    "text = text.lower().replace(\",\",\"\")\n",
    "text = text.replace(\".\",\"\")\n",
    "text = text.replace(\":\",\"\")\n",
    "text = text.replace(\"-\",\"\")\n",
    "text = text.replace(\"»\",\"\")\n",
    "\n",
    "words = text.split()\n",
    "words = set(words)\n",
    "\n",
    "print(words)\n"
   ]
  },
  {
   "cell_type": "code",
   "execution_count": null,
   "metadata": {
    "collapsed": true
   },
   "outputs": [],
   "source": []
  }
 ],
 "metadata": {
  "kernelspec": {
   "display_name": "Python 3",
   "language": "python",
   "name": "python3"
  },
  "language_info": {
   "codemirror_mode": {
    "name": "ipython",
    "version": 3
   },
   "file_extension": ".py",
   "mimetype": "text/x-python",
   "name": "python",
   "nbconvert_exporter": "python",
   "pygments_lexer": "ipython3",
   "version": "3.6.5"
  }
 },
 "nbformat": 4,
 "nbformat_minor": 2
}
