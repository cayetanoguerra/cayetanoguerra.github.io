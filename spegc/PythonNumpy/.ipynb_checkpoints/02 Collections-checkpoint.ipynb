{
 "cells": [
  {
   "cell_type": "markdown",
   "metadata": {},
   "source": [
    "# Collections"
   ]
  },
  {
   "cell_type": "markdown",
   "metadata": {},
   "source": [
    "## List"
   ]
  },
  {
   "cell_type": "markdown",
   "metadata": {},
   "source": [
    "https://docs.python.org/3/tutorial/datastructures.html#looping-techniques\n",
    "\n",
    "- **list.append(x)** Añade un item al final de la lista.\n",
    "- **list.extend(iterable)** Extiende la lista añadiendo items desde un iterable.\n",
    "- **list.insert(i, x)** Inserta un item en una posición dada.\n",
    "- **list.remove(x)** Elimina el primer item de la lista con el valor \"x\".\n",
    "- **list.pop([i])** Extrae y devuelve el item en la posición dada.\n",
    "- **list.clear()** Elimina todos los items de la lista.\n",
    "- **list.index(x[, start[, end]])** Devuelve el índice de la primera ocurrencia del valor \"x\".\n",
    "- **list.count(x)** Devuelve el número de veces que \"x\" aparece en la lista.\n",
    "- **list.sort(key=None, reverse=False)** Ordena los elementos de la lista.\n",
    "- **list.reverse()** Invierte la lista.\n",
    "- **list.copy()** Devuelve una copia de la lista."
   ]
  },
  {
   "cell_type": "code",
   "execution_count": 6,
   "metadata": {},
   "outputs": [
    {
     "name": "stdout",
     "output_type": "stream",
     "text": [
      "[1, 2, 3, 4, 5, 6, 7, 8, 9, 10]\n",
      "[1, 2, 3, 4, 5, 6, 7, 8, 9, 10, 11, 12, 13]\n",
      "[4, 1, 2, 3, 4, 5, 6, 7, 8, 9, 10, 11, 12, 13]\n",
      "0\n",
      "[1, 2, 3, 4, 4, 5, 6, 7, 8, 9, 10, 11, 12, 13]\n"
     ]
    }
   ],
   "source": [
    "l=[1, 2, 3, 4, 5, 6, 7, 8, 9]\n",
    "l.append(10)\n",
    "print(l)\n",
    "l.extend([11, 12, 13])\n",
    "print(l)\n",
    "l.insert(0, 4)\n",
    "print(l)\n",
    "print(l.index(4))\n",
    "l.sort()\n",
    "print(l)"
   ]
  },
  {
   "cell_type": "markdown",
   "metadata": {},
   "source": [
    "## Del\n",
    "\n",
    "Hay una manera de eliminar un elemento de una lista dado su índice en lugar de su valor: la instrucción **del**. Esto difiere del método **pop()**, que devuelve un valor. La declaración **del** también se puede usar para eliminar sectores de una lista o borrar toda la lista."
   ]
  },
  {
   "cell_type": "code",
   "execution_count": 14,
   "metadata": {},
   "outputs": [
    {
     "name": "stdout",
     "output_type": "stream",
     "text": [
      "[2, 3, 4, 5, 6, 7, 8]\n",
      "[2, 3, 6, 7, 8]\n"
     ]
    }
   ],
   "source": [
    "l = [1, 2, 3, 4, 5, 6, 7, 8]\n",
    "del l[0]\n",
    "print(l)\n",
    "del l[2:4]\n",
    "print(l)\n",
    "del l"
   ]
  },
  {
   "cell_type": "markdown",
   "metadata": {},
   "source": [
    "## Usando listas como pilas"
   ]
  },
  {
   "cell_type": "code",
   "execution_count": 7,
   "metadata": {},
   "outputs": [
    {
     "name": "stdout",
     "output_type": "stream",
     "text": [
      "[2, 3, 4, 5]\n",
      "5 [2, 3, 4]\n"
     ]
    }
   ],
   "source": [
    "stack = [2, 3, 4]\n",
    "stack.append(5)\n",
    "print(stack)\n",
    "t = stack.pop()\n",
    "print(t, stack)"
   ]
  },
  {
   "cell_type": "markdown",
   "metadata": {},
   "source": [
    "## Deque: Usando listas como colas\n",
    "\n",
    "También es posible usar una lista como cola, donde el primer elemento agregado es el primer elemento recuperado (\"primero en entrar, primero en salir\"). Sin embargo, las listas no son eficientes para este propósito. Si bien las inserciones y extracciones al final de la lista son rápidas, hacer inserciones o extracciones desde el comienzo de una lista es lento, porque todos los otros elementos deben desplazarse un lugar.\n",
    "\n",
    "Para implementar una cola, se debe usar **collections.deque** que está diseñado para permitir inserciones y extracciones rápidas desde ambos extremos."
   ]
  },
  {
   "cell_type": "code",
   "execution_count": 10,
   "metadata": {},
   "outputs": [
    {
     "name": "stdout",
     "output_type": "stream",
     "text": [
      "deque(['Eric', 'John', 'Michael', 'Terry', 'Graham'])\n",
      "deque(['John', 'Michael', 'Terry', 'Graham'])\n",
      "deque(['Michael', 'Terry', 'Graham'])\n"
     ]
    }
   ],
   "source": [
    "from collections import deque\n",
    "queue = deque([\"Eric\", \"John\", \"Michael\"])\n",
    "queue.append(\"Terry\")           # Terry arrives\n",
    "queue.append(\"Graham\")          # Graham arrives\n",
    "print(queue)\n",
    "queue.popleft()                 # The first to arrive now leaves\n",
    "print(queue)\n",
    "queue.popleft()                 # The second to arrive now leaves\n",
    "print(queue)                           # Remaining queue in order of arrival"
   ]
  },
  {
   "cell_type": "markdown",
   "metadata": {},
   "source": [
    "## OrderedDict\n",
    "\n",
    "Los diccionarios ordenados son como los diccionarios regulares, pero recuerdan el orden en que se insertaron los elementos. Al iterar sobre un diccionario ordenado, los elementos se devuelven en el orden en que se agregaron sus claves por primera vez."
   ]
  },
  {
   "cell_type": "code",
   "execution_count": 3,
   "metadata": {},
   "outputs": [
    {
     "data": {
      "text/plain": [
       "OrderedDict([('pear', 1), ('apple', 4), ('orange', 2), ('banana', 3)])"
      ]
     },
     "execution_count": 3,
     "metadata": {},
     "output_type": "execute_result"
    }
   ],
   "source": [
    "from collections import *\n",
    "\n",
    "# regular unsorted dictionary\n",
    "d = {'banana': 3, 'apple': 4, 'pear': 1, 'orange': 2}\n",
    "\n",
    "# dictionary sorted by key\n",
    "OrderedDict(sorted(d.items(), key=lambda t: t[0]))\n",
    "OrderedDict([('apple', 4), ('banana', 3), ('orange', 2), ('pear', 1)])\n",
    "\n",
    "# dictionary sorted by value\n",
    "OrderedDict(sorted(d.items(), key=lambda t: t[1]))\n",
    "OrderedDict([('pear', 1), ('orange', 2), ('banana', 3), ('apple', 4)])\n",
    "\n",
    "# dictionary sorted by length of the key string\n",
    "OrderedDict(sorted(d.items(), key=lambda t: len(t[0])))\n",
    "OrderedDict([('pear', 1), ('apple', 4), ('orange', 2), ('banana', 3)])"
   ]
  },
  {
   "cell_type": "markdown",
   "metadata": {
    "collapsed": true
   },
   "source": [
    "## Set\n",
    "\n",
    "Los conjuntos (sets) son listas sin duplicados. Por ejemplo, si quisiéramos extraer de una cadena de texto todas las palabras distintas, podríamos hacer lo siguiente:"
   ]
  },
  {
   "cell_type": "code",
   "execution_count": 12,
   "metadata": {},
   "outputs": [
    {
     "name": "stdout",
     "output_type": "stream",
     "text": [
      "['tanto', 'monta', 'monta', 'tanto']\n",
      "{'monta', 'tanto'}\n",
      "tanto\n"
     ]
    }
   ],
   "source": [
    "texto = \"tanto monta monta tanto\".split()\n",
    "print(texto)\n",
    "print(set(texto))"
   ]
  },
  {
   "cell_type": "markdown",
   "metadata": {},
   "source": [
    "Además, podemos operar sobre los conjuntos creando uniones, intersecciones o diferencias."
   ]
  },
  {
   "cell_type": "code",
   "execution_count": 16,
   "metadata": {},
   "outputs": [
    {
     "name": "stdout",
     "output_type": "stream",
     "text": [
      "{1, 2, 3, 4, 5, 6, 7}\n",
      "{3, 4, 5}\n",
      "{1, 2}\n"
     ]
    }
   ],
   "source": [
    "s1 = set([1,2,3,4,5])\n",
    "s2 = set([3,4,5,6,7])\n",
    "print(s1.union(s2))\n",
    "print(s1.intersection(s2))\n",
    "print(s1.difference(s2))"
   ]
  },
  {
   "cell_type": "code",
   "execution_count": null,
   "metadata": {
    "collapsed": true
   },
   "outputs": [],
   "source": []
  }
 ],
 "metadata": {
  "kernelspec": {
   "display_name": "Python 3",
   "language": "python",
   "name": "python3"
  },
  "language_info": {
   "codemirror_mode": {
    "name": "ipython",
    "version": 3
   },
   "file_extension": ".py",
   "mimetype": "text/x-python",
   "name": "python",
   "nbconvert_exporter": "python",
   "pygments_lexer": "ipython3",
   "version": "3.6.5"
  }
 },
 "nbformat": 4,
 "nbformat_minor": 2
}
