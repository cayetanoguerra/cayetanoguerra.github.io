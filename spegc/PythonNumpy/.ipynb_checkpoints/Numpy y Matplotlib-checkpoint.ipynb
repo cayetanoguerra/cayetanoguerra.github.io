{
 "cells": [
  {
   "cell_type": "markdown",
   "metadata": {},
   "source": [
    "# Numpy y Matplotlib\n",
    "\n",
    "**Matplotlib** es una biblioteca para la generación de gráficas en Python.\n"
   ]
  },
  {
   "cell_type": "code",
   "execution_count": 3,
   "metadata": {},
   "outputs": [
    {
     "name": "stdout",
     "output_type": "stream",
     "text": [
      "[ 1  2  3  4  5  6  7  8  9 10]\n",
      "[  4   7  12  19  28  39  52  67  84 103]\n"
     ]
    },
    {
     "data": {
      "image/png": "[encoded data removed]",
      "text/plain": [
       "<matplotlib.figure.Figure at 0x105674400>"
      ]
     },
     "metadata": {},
     "output_type": "display_data"
    }
   ],
   "source": [
    "import numpy as np \n",
    "from matplotlib import pyplot as plt \n",
    "\n",
    "x = np.arange(1,11)\n",
    "print(x)\n",
    "y = x ** 2 + 3 \n",
    "print(y)\n",
    "plt.title(\"Matplotlib demo\") \n",
    "plt.xlabel(\"x axis caption\") \n",
    "plt.ylabel(\"y axis caption\") \n",
    "plt.plot(x,y) \n",
    "plt.show()"
   ]
  },
  {
   "cell_type": "markdown",
   "metadata": {},
   "source": [
    "<table>\n",
    "<tbody><tr>\n",
    "<th style=\"text-align:center;width:10%\">Number</th>\n",
    "<th style=\"text-align:center;\">Character &amp; Description</th>\n",
    "</tr>\n",
    "<tr>\n",
    "<td class=\"ts\">1</td>\n",
    "<td><p><b>'-'</b></p>\n",
    "<p>Solid line style</p></td>\n",
    "</tr>\n",
    "<tr>\n",
    "<td class=\"ts\">2</td>\n",
    "<td><p><b>'--'</b></p>\n",
    "<p>Dashed line style</p></td>\n",
    "</tr>\n",
    "<tr>\n",
    "<td class=\"ts\">3</td>\n",
    "<td><p><b>'-.'</b></p>\n",
    "<p>Dash-dot line style</p></td>\n",
    "</tr>\n",
    "<tr>\n",
    "<td class=\"ts\">4</td>\n",
    "<td><p><b>':'</b></p>\n",
    "<p>Dotted line style</p></td>\n",
    "</tr>\n",
    "<tr>\n",
    "<td class=\"ts\">5</td>\n",
    "<td><p><b>'.'</b></p>\n",
    "<p>Point marker</p></td>\n",
    "</tr>\n",
    "<tr>\n",
    "<td class=\"ts\">6</td>\n",
    "<td><p><b>','</b></p>\n",
    "<p>Pixel marker</p></td>\n",
    "</tr>\n",
    "<tr>\n",
    "<td class=\"ts\">7</td>\n",
    "<td><p><b>'o'</b></p>\n",
    "<p>Circle marker</p></td>\n",
    "</tr>\n",
    "<tr>\n",
    "<td class=\"ts\">8</td>\n",
    "<td><p><b>'v'</b></p>\n",
    "<p>Triangle_down marker</p></td>\n",
    "</tr>\n",
    "<tr>\n",
    "<td class=\"ts\">9</td>\n",
    "<td><p><b>'^'</b></p>\n",
    "<p>Triangle_up marker</p></td>\n",
    "</tr>\n",
    "<tr>\n",
    "<td class=\"ts\">10</td>\n",
    "<td><p><b>'&lt;'</b></p>\n",
    "<p>Triangle_left marker</p></td>\n",
    "</tr>\n",
    "<tr>\n",
    "<td class=\"ts\">11</td>\n",
    "<td><p><b>'&gt;'</b></p>\n",
    "<p>Triangle_right marker</p></td>\n",
    "</tr>\n",
    "<tr>\n",
    "<td class=\"ts\">12</td>\n",
    "<td><p><b>'1'</b></p>\n",
    "<p>Tri_down marker</p></td>\n",
    "</tr>\n",
    "<tr>\n",
    "<td class=\"ts\">13</td>\n",
    "<td><p><b>'2'</b></p>\n",
    "<p>Tri_up marker</p></td>\n",
    "</tr>\n",
    "<tr>\n",
    "<td class=\"ts\">14</td>\n",
    "<td><p><b>'3'</b></p>\n",
    "<p>Tri_left marker</p></td>\n",
    "</tr>\n",
    "<tr>\n",
    "<td class=\"ts\">15</td>\n",
    "<td><p><b>'4'</b></p>\n",
    "<p>Tri_right marker</p></td>\n",
    "</tr>\n",
    "<tr>\n",
    "<td class=\"ts\">16</td>\n",
    "<td><p><b>'s'</b></p>\n",
    "<p>Square marker</p></td>\n",
    "</tr>\n",
    "<tr>\n",
    "<td class=\"ts\">17</td>\n",
    "<td><p><b>'p'</b></p>\n",
    "<p>Pentagon marker</p></td>\n",
    "</tr>\n",
    "<tr>\n",
    "<td class=\"ts\">18</td>\n",
    "<td><p><b>'*'</b></p>\n",
    "<p>Star marker</p></td>\n",
    "</tr>\n",
    "<tr>\n",
    "<td class=\"ts\">19</td>\n",
    "<td><p><b>'h'</b></p>\n",
    "<p>Hexagon1 marker</p></td>\n",
    "</tr>\n",
    "<tr>\n",
    "<td class=\"ts\">20</td>\n",
    "<td><p><b>'H'</b></p>\n",
    "<p>Hexagon2 marker</p></td>\n",
    "</tr>\n",
    "<tr>\n",
    "<td class=\"ts\">21</td>\n",
    "<td><p><b>'+'</b></p>\n",
    "<p>Plus marker</p></td>\n",
    "</tr>\n",
    "<tr>\n",
    "<td class=\"ts\">22</td>\n",
    "<td><p><b>'x'</b></p>\n",
    "<p>X marker</p></td>\n",
    "</tr>\n",
    "<tr>\n",
    "<td class=\"ts\">23</td>\n",
    "<td><p><b>'D'</b></p>\n",
    "<p>Diamond marker</p></td>\n",
    "</tr>\n",
    "<tr>\n",
    "<td class=\"ts\">24</td>\n",
    "<td><p><b>'d'</b></p>\n",
    "<p>Thin_diamond marker</p></td>\n",
    "</tr>\n",
    "<tr>\n",
    "<td class=\"ts\">25</td>\n",
    "<td><p><b>'|'</b></p>\n",
    "<p>Vline marker</p></td>\n",
    "</tr>\n",
    "<tr>\n",
    "<td class=\"ts\">26</td>\n",
    "<td><p><b>'_'</b></p>\n",
    "<p>Hline marker</p></td>\n",
    "</tr>\n",
    "</tbody></table>"
   ]
  },
  {
   "cell_type": "markdown",
   "metadata": {},
   "source": [
    "<table style=\"text-align:center\">\n",
    "<tbody><tr>\n",
    "<th style=\"text-align:center;\">Character</th>\n",
    "<th style=\"text-align:center;\">Color</th>\n",
    "</tr>\n",
    "<tr>\n",
    "<td>'b'</td>\n",
    "<td>Blue</td>\n",
    "</tr>\n",
    "<tr>\n",
    "<td>'g'</td>\n",
    "<td>Green</td>\n",
    "</tr>\n",
    "<tr>\n",
    "<td>'r'</td>\n",
    "<td>Red</td>\n",
    "</tr>\n",
    "<tr>\n",
    "<td>'c'</td>\n",
    "<td>Cyan</td>\n",
    "</tr>\n",
    "<tr>\n",
    "<td>'m'</td>\n",
    "<td>Magenta</td>\n",
    "</tr>\n",
    "<tr>\n",
    "<td>'y'</td>\n",
    "<td>Yellow</td>\n",
    "</tr>\n",
    "<tr>\n",
    "<td>'k'</td>\n",
    "<td>Black</td>\n",
    "</tr>\n",
    "<tr>\n",
    "<td>'w'</td>\n",
    "<td>White</td>\n",
    "</tr>\n",
    "</tbody></table>"
   ]
  },
  {
   "cell_type": "code",
   "execution_count": 12,
   "metadata": {},
   "outputs": [
    {
     "data": {
      "image/png": "[encoded data removed]",
      "text/plain": [
       "<matplotlib.figure.Figure at 0x1103c1940>"
      ]
     },
     "metadata": {},
     "output_type": "display_data"
    }
   ],
   "source": [
    "import numpy as np \n",
    "from matplotlib import pyplot as plt \n",
    "\n",
    "x = np.arange(1,11)\n",
    "y = x ** 2 + 3 \n",
    "plt.title(\"Matplotlib demo\") \n",
    "plt.xlabel(\"x axis caption\") \n",
    "plt.ylabel(\"y axis caption\") \n",
    "plt.plot(x,y,\"xg\")  \n",
    "plt.show()"
   ]
  },
  {
   "cell_type": "code",
   "execution_count": 13,
   "metadata": {},
   "outputs": [
    {
     "data": {
      "image/png": "[encoded data removed]",
      "text/plain": [
       "<matplotlib.figure.Figure at 0x11036f6d8>"
      ]
     },
     "metadata": {},
     "output_type": "display_data"
    }
   ],
   "source": [
    "import numpy as np \n",
    "from matplotlib import pyplot as plt \n",
    "\n",
    "# Compute the x and y coordinates for points on a sine curve \n",
    "x = np.arange(0, 3 * np.pi, 0.1) \n",
    "y = np.sin(x) \n",
    "plt.title(\"sine wave form\") \n",
    "\n",
    "# Plot the points using matplotlib \n",
    "plt.plot(x, y) \n",
    "plt.show() "
   ]
  },
  {
   "cell_type": "markdown",
   "metadata": {},
   "source": [
    "## Subplot()\n",
    "\n",
    "La función de **subplot()** le permite crear diferentes gráficas en la misma figura."
   ]
  },
  {
   "cell_type": "code",
   "execution_count": 14,
   "metadata": {},
   "outputs": [
    {
     "data": {
      "image/png": "[encoded data removed]",
      "text/plain": [
       "<matplotlib.figure.Figure at 0x110329550>"
      ]
     },
     "metadata": {},
     "output_type": "display_data"
    }
   ],
   "source": [
    "import numpy as np \n",
    "from matplotlib import pyplot as plt \n",
    "\n",
    "# Compute the x and y coordinates for points on sine and cosine curves \n",
    "x = np.arange(0, 3 * np.pi, 0.1) \n",
    "y_sin = np.sin(x) \n",
    "y_cos = np.cos(x)  \n",
    "   \n",
    "# Set up a subplot grid that has height 2 and width 1, \n",
    "# and set the first such subplot as active. \n",
    "plt.subplot(2, 1, 1)\n",
    "   \n",
    "# Make the first plot \n",
    "plt.plot(x, y_sin) \n",
    "plt.title('Sine')  \n",
    "   \n",
    "# Set the second subplot as active, and make the second plot. \n",
    "plt.subplot(2, 1, 2) \n",
    "plt.plot(x, y_cos) \n",
    "plt.title('Cosine')  \n",
    "   \n",
    "# Show the figure. \n",
    "plt.show()"
   ]
  },
  {
   "cell_type": "markdown",
   "metadata": {},
   "source": [
    "## Bar()\n",
    "\n",
    "Diagramas de barras"
   ]
  },
  {
   "cell_type": "code",
   "execution_count": 16,
   "metadata": {},
   "outputs": [
    {
     "data": {
      "image/png": "[encoded data removed]",
      "text/plain": [
       "<matplotlib.figure.Figure at 0x10f838a20>"
      ]
     },
     "metadata": {},
     "output_type": "display_data"
    }
   ],
   "source": [
    "import numpy as np \n",
    "from matplotlib import pyplot as plt \n",
    "\n",
    "x1 = [5,8,10] \n",
    "y1 = [12,16,6]  \n",
    "\n",
    "x2 = [6,9,11] \n",
    "y2 = [6,15,7] \n",
    "\n",
    "plt.bar(x1, y1, align = 'center') \n",
    "plt.bar(x2, y2, color = 'g', align = 'center') \n",
    "plt.title('Bar graph') \n",
    "plt.ylabel('Y axis') \n",
    "plt.xlabel('X axis')  \n",
    "\n",
    "plt.show()"
   ]
  },
  {
   "cell_type": "code",
   "execution_count": null,
   "metadata": {
    "collapsed": true
   },
   "outputs": [],
   "source": []
  }
 ],
 "metadata": {
  "kernelspec": {
   "display_name": "Python 3",
   "language": "python",
   "name": "python3"
  },
  "language_info": {
   "codemirror_mode": {
    "name": "ipython",
    "version": 3
   },
   "file_extension": ".py",
   "mimetype": "text/x-python",
   "name": "python",
   "nbconvert_exporter": "python",
   "pygments_lexer": "ipython3",
   "version": "3.6.5"
  }
 },
 "nbformat": 4,
 "nbformat_minor": 2
}
