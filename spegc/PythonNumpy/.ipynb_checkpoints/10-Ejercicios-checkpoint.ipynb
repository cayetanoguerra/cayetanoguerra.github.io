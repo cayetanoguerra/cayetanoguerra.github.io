{
 "cells": [
  {
   "cell_type": "markdown",
   "metadata": {},
   "source": [
    "<img src=\"logo-spegc.svg\" width=30%>\n",
    "\n",
    "# Ejercicios prácticos"
   ]
  },
  {
   "cell_type": "markdown",
   "metadata": {},
   "source": [
    "## Regresión lineal\n",
    "\n",
    "En un problema de regresión lineal intentamos buscar la recta $y=mx+b$ que mejor se adapte a unos puntos o muestras ($X$ e $Y$). Esto lo hacemos minimizando una función de error $E$ que definimos como el sumatorio del cuadrado de la distancia entre el valor ($y$) real de la muestra y el dado por la recta ($mx+b$).\n",
    "\n",
    "$$ E = \\sum_{i=1}^{m}{(mX + b - Y)^2} $$\n",
    "\n",
    "Si buscamos el mínimo de esta función mediante el método de descenso por el gradiente, deberemos calcular la derivada parcial de cada parámetro ($m$ y $b$) implicado en la función de la recta.\n",
    "\n",
    "$$ \\frac{\\partial E}{\\partial m} =  \\sum_{i=1}^{m}{2(mX + b - Y)X } $$\n",
    "\n",
    "$$ \\frac{\\partial E}{\\partial b} =  \\sum_{i=1}^{m}{2(mX + b - Y) } $$\n",
    "\n",
    "De esta forma, actualizamos los parámetros $m$ y $b$ de la siguiente forma:\n",
    "\n",
    "$$m \\leftarrow m - \\lambda \\frac{\\partial E}{\\partial m}$$\n",
    "\n",
    "$$b \\leftarrow b - \\lambda \\frac{\\partial E}{\\partial b}$$"
   ]
  },
  {
   "cell_type": "code",
   "execution_count": 2,
   "metadata": {},
   "outputs": [
    {
     "data": {
      "image/png": "[encoded data removed]",
      "text/plain": [
       "<matplotlib.figure.Figure at 0x10f766358>"
      ]
     },
     "metadata": {},
     "output_type": "display_data"
    }
   ],
   "source": [
    "import numpy as np\n",
    "import matplotlib.pyplot as plt\n",
    "\n",
    "numberOfSamples = 30\n",
    "\n",
    "mu, sigma = 0, 1 # mean and standard deviation\n",
    "noise = np.random.normal(mu, sigma, numberOfSamples)\n",
    "\n",
    "X = np.random.rand(numberOfSamples)*5\n",
    "Y = 2*X + 1 + noise\n",
    " \n",
    "plt.axis([0, 5, 0, 12])\n",
    "plt.plot(X,Y,'bo')\n",
    "plt.show()"
   ]
  },
  {
   "cell_type": "markdown",
   "metadata": {},
   "source": [
    "### Tarea\n",
    "\n",
    "Desarrolla el código necesario para calcular los parámetros $m$ y $b$.\n",
    "\n",
    "\n",
    "--------------------------"
   ]
  },
  {
   "cell_type": "markdown",
   "metadata": {},
   "source": [
    "## Indexación TF-IDF\n",
    "\n",
    "**TF-IDF** es una medida numérica que expresa cuán relevante es una palabra para un documento en una colección. Esta medida se utiliza a menudo como un factor de ponderación en la recuperación de información y la minería de texto. El valor tf-idf aumenta proporcionalmente al número de veces que una palabra aparece en el documento, pero es compensada por la frecuencia de la palabra en la colección de documentos, lo que permite manejar el hecho de que algunas palabras son generalmente más comunes que otras."
   ]
  },
  {
   "cell_type": "code",
   "execution_count": 7,
   "metadata": {},
   "outputs": [
    {
     "name": "stdout",
     "output_type": "stream",
     "text": [
      "articles/file03.txt\n",
      "articles/file02.txt\n",
      "articles/file01.txt\n"
     ]
    }
   ],
   "source": [
    "import fnmatch\n",
    "import os\n",
    "\n",
    "\n",
    "def doc_reader(file_name):\n",
    "    with open(file_name) as f:\n",
    "        text = f.read().decode('utf8')\n",
    "    return text\n",
    "\n",
    "\n",
    "def docs_generator(path):\n",
    "    for root, dirnames, filenames in os.walk(path):\n",
    "        for filename in fnmatch.filter(filenames, '*.txt'):\n",
    "            yield(os.path.join(root, filename))\n",
    "            \n",
    "for doc in docs_generator(\"articles\"):\n",
    "    print(doc)\n",
    "    \n"
   ]
  },
  {
   "cell_type": "markdown",
   "metadata": {},
   "source": [
    "### Tarea\n",
    "\n",
    "Desarrolla una indexador TF-IDF."
   ]
  },
  {
   "cell_type": "code",
   "execution_count": null,
   "metadata": {
    "collapsed": true
   },
   "outputs": [],
   "source": []
  }
 ],
 "metadata": {
  "kernelspec": {
   "display_name": "Python 3",
   "language": "python",
   "name": "python3"
  },
  "language_info": {
   "codemirror_mode": {
    "name": "ipython",
    "version": 3
   },
   "file_extension": ".py",
   "mimetype": "text/x-python",
   "name": "python",
   "nbconvert_exporter": "python",
   "pygments_lexer": "ipython3",
   "version": "3.6.7"
  }
 },
 "nbformat": 4,
 "nbformat_minor": 2
}
