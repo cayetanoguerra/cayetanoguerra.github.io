{
 "cells": [
  {
   "cell_type": "markdown",
   "metadata": {},
   "source": [
    "# Tensorflow"
   ]
  },
  {
   "cell_type": "code",
   "execution_count": null,
   "metadata": {},
   "outputs": [],
   "source": [
    "import tensorflow as tf\n",
    "import numpy as np\n",
    "import matplotlib.pyplot as plt\n",
    "\n",
    "\n",
    "# Translate a list of labels into an array of 0's and one 1.\n",
    "# i.e.: 4 -> [0,0,0,0,1,0,0,0,0,0] \n",
    "def one_hot(x, n):\n",
    "    if type(x) == list:\n",
    "        x = np.array(x)\n",
    "    x = x.flatten()\n",
    "    o_h = np.zeros((len(x), n))\n",
    "    o_h[np.arange(len(x)), x] = 1\n",
    "    return o_h\n",
    "\n",
    "\n",
    "data = np.genfromtxt('iris.data', delimiter=\",\")\n",
    "np.random.shuffle(data)\n",
    "x_data = data[:,0:4].astype('f4')\n",
    "y_data = one_hot(data[:,4].astype(int), 3)\n",
    "\n",
    "\n",
    "print(\"\\nSome samples...\")\n",
    "for i in range(10):\n",
    "    print(x_data[i], \" -> \", y_data[i])\n",
    "\n",
    "    \n",
    "x = tf.placeholder(\"float\", [None, 4])\n",
    "y_ = tf.placeholder(\"float\", [None, 3])\n",
    "\n",
    "\n",
    "W = tf.Variable(np.float32(np.random.rand(4, 3))*0.1)\n",
    "b = tf.Variable(np.float32(np.random.rand(3))*0.1)\n",
    "\n",
    "y = tf.nn.softmax(tf.matmul(x, W) + b)\n",
    "\n",
    "\n",
    "cross_entropy = tf.reduce_sum(tf.square(y_ - y))\n",
    "#cross_entropy = -tf.reduce_sum(y_*tf.log(y))\n",
    "\n",
    "train = tf.train.GradientDescentOptimizer(0.01).minimize(cross_entropy)\n",
    "\n",
    "init = tf.initialize_all_variables()\n",
    "\n",
    "sess = tf.Session()\n",
    "sess.run(init)\n",
    "\n",
    "print(\"----------------------\")\n",
    "print(\"   Start training...  \")\n",
    "print(\"----------------------\")\n",
    "\n",
    "batch_size = 20\n",
    "\n",
    "for step in range(1000):\n",
    "    for jj in range(int(len(x_data) / batch_size)):\n",
    "        batch_xs = x_data[jj*batch_size : jj*batch_size+batch_size]\n",
    "        batch_ys = y_data[jj*batch_size : jj*batch_size+batch_size]\n",
    "\n",
    "        sess.run(train, feed_dict={x: batch_xs, y_: batch_ys})\n",
    "        \n",
    "    if step % 100 == 0:\n",
    "        print(\"Iteration #:\", step, \"Error: \", sess.run(cross_entropy, feed_dict={x: batch_xs, y_: batch_ys}))\n",
    "        result = sess.run(y, feed_dict={x: batch_xs})\n",
    "        for b, r in zip(batch_ys, result):\n",
    "            print(b, \"-->\", r)\n",
    "        print(\"----------------------------------------------------------------------------------\")\n",
    "\n",
    "            "
   ]
  },
  {
   "cell_type": "code",
   "execution_count": null,
   "metadata": {
    "collapsed": true
   },
   "outputs": [],
   "source": []
  }
 ],
 "metadata": {
  "kernelspec": {
   "display_name": "Python 3",
   "language": "python",
   "name": "python3"
  },
  "language_info": {
   "codemirror_mode": {
    "name": "ipython",
    "version": 3
   },
   "file_extension": ".py",
   "mimetype": "text/x-python",
   "name": "python",
   "nbconvert_exporter": "python",
   "pygments_lexer": "ipython3",
   "version": "3.6.5"
  }
 },
 "nbformat": 4,
 "nbformat_minor": 2
}
