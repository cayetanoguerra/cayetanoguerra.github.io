{
 "cells": [
  {
   "cell_type": "markdown",
   "metadata": {},
   "source": [
    "# LSTM\n",
    "http://colah.github.io/posts/2015-08-Understanding-LSTMs/\n",
    "\n",
    "<img src=\"images/RNN-unrolled.png\" width=\"60%\">\n",
    "\n",
    "<img src=\"images/RNN-shorttermdepdencies.png\" width=\"60%\">\n",
    "\n",
    "<img src=\"images/RNN-longtermdependencies.png\" width=\"60%\">\n",
    "\n",
    "<img src=\"images/LSTM3-SimpleRNN.png\" width=\"60%\">\n",
    "\n",
    "<img src=\"images/LSTM3-chain.png\" width=\"60%\">\n",
    "\n",
    "<img src=\"images/LSTM2-notation.png\" width=\"60%\">\n",
    "\n",
    "<img src=\"images/LSTM3-C-line.png\" width=\"60%\">\n",
    "\n",
    "<img src=\"images/LSTM3-focus-C.png\" width=\"60%\">\n",
    "\n",
    "<img src=\"images/LSTM3-focus-f.png\" width=\"60%\">\n",
    "\n",
    "<img src=\"images/LSTM3-focus-i.png\" width=\"60%\">\n",
    "\n",
    "<img src=\"images/LSTM3-focus-o.png\" width=\"60%\">"
   ]
  },
  {
   "cell_type": "code",
   "execution_count": null,
   "metadata": {
    "collapsed": true
   },
   "outputs": [],
   "source": []
  }
 ],
 "metadata": {
  "kernelspec": {
   "display_name": "Python 3",
   "language": "python",
   "name": "python3"
  },
  "language_info": {
   "codemirror_mode": {
    "name": "ipython",
    "version": 3
   },
   "file_extension": ".py",
   "mimetype": "text/x-python",
   "name": "python",
   "nbconvert_exporter": "python",
   "pygments_lexer": "ipython3",
   "version": "3.6.5"
  }
 },
 "nbformat": 4,
 "nbformat_minor": 2
}
