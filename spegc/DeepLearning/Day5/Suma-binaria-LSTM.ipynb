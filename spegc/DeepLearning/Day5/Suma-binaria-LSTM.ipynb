{
 "cells": [
  {
   "cell_type": "markdown",
   "metadata": {},
   "source": [
    "# Suma binaria LSTM\n",
    "\n",
    "Esta red usa una LSTM para aprender cómo sumar dígitos binarios, de una forma \"parecida\" a como sumaría una persona. Es decir, la entrada estaría compuesta por la sucesión temporal de columnas de dos dígitos binarios y su acarreo."
   ]
  },
  {
   "cell_type": "code",
   "execution_count": 6,
   "metadata": {},
   "outputs": [
    {
     "name": "stdout",
     "output_type": "stream",
     "text": [
      "_________________________________________________________________\n",
      "Layer (type)                 Output Shape              Param #   \n",
      "=================================================================\n",
      "lstm_6 (LSTM)                (None, 8, 5)              160       \n",
      "_________________________________________________________________\n",
      "time_distributed_5 (TimeDist (None, 8, 1)              6         \n",
      "=================================================================\n",
      "Total params: 166\n",
      "Trainable params: 166\n",
      "Non-trainable params: 0\n",
      "_________________________________________________________________\n",
      "None\n",
      "Epoch 1/4\n",
      "5000/5000 [==============================] - 6s 1ms/step - loss: 0.2477 - acc: 0.5201\n",
      "Epoch 2/4\n",
      "5000/5000 [==============================] - 5s 989us/step - loss: 0.1444 - acc: 0.8055\n",
      "Epoch 3/4\n",
      "5000/5000 [==============================] - 5s 1ms/step - loss: 0.0085 - acc: 0.9999\n",
      "Epoch 4/4\n",
      "5000/5000 [==============================] - 5s 1ms/step - loss: 9.5557e-04 - acc: 1.0000\n",
      "data:\n",
      "  [0. 1. 0. 0. 1. 1. 0. 0.]\n",
      "+ [0. 0. 0. 1. 1. 1. 0. 0.]\n",
      "------------------------------\n",
      "  [0. 1. 1. 0. 1. 0. 0. 0.] result\n",
      "  [0. 1. 1. 0. 1. 0. 0. 0.] label\n",
      "\n",
      "\n",
      "data:\n",
      "  [0. 1. 0. 0. 0. 1. 1. 0.]\n",
      "+ [0. 1. 1. 1. 1. 1. 0. 1.]\n",
      "------------------------------\n",
      "  [1. 1. 0. 0. 0. 0. 1. 1.] result\n",
      "  [1. 1. 0. 0. 0. 0. 1. 1.] label\n",
      "\n",
      "\n",
      "data:\n",
      "  [0. 0. 1. 1. 0. 1. 0. 0.]\n",
      "+ [0. 0. 0. 0. 0. 0. 0. 0.]\n",
      "------------------------------\n",
      "  [0. 0. 1. 1. 0. 1. 0. 0.] result\n",
      "  [0. 0. 1. 1. 0. 1. 0. 0.] label\n",
      "\n",
      "\n"
     ]
    }
   ],
   "source": [
    "from keras.models import Sequential\n",
    "from keras.layers import Dense\n",
    "from keras.layers import LSTM\n",
    "from keras.layers import TimeDistributed\n",
    "from keras import optimizers\n",
    "import sampledata\n",
    "import numpy as np\n",
    "\n",
    "\n",
    "batch_size = 10\n",
    "digits = num_steps = 8\n",
    "inputs = 2\n",
    "num_hidden = 5\n",
    "n_epoch = 4\n",
    "\n",
    "X = np.zeros(shape=(10, 8, 2))\n",
    "\n",
    "model = Sequential()\n",
    "model.add(LSTM(5, input_shape=(num_steps, 2), return_sequences=True))\n",
    "model.add(TimeDistributed(Dense(1, activation='sigmoid')))\n",
    "\n",
    "sgd = optimizers.SGD(lr=2)\n",
    "model.compile(loss='mean_squared_error', optimizer=sgd, metrics=['accuracy'])\n",
    "\n",
    "print(model.summary())\n",
    "\n",
    "\n",
    "#train LSTM\n",
    "data, label = sampledata.create_data(5000)\n",
    "data = data.reshape(5000, 8, 2)\n",
    "label = label.reshape(5000, 8, 1)\n",
    "model.fit(x=data, y=label, epochs=n_epoch, batch_size=batch_size, verbose=1)\n",
    "\n",
    "# Test ----------------------------------------------------\n",
    "\n",
    "data, label = sampledata.create_data(3)\n",
    "p = model.predict(x=data.reshape(3, 8, 2))\n",
    "\n",
    "for d, l, r in zip(data, label, p):\n",
    "    print(\"data:\")\n",
    "    print(\" \", np.transpose(d)[0][::-1])\n",
    "    print(\"+\", np.transpose(d)[1][::-1])\n",
    "    print(\"------------------------------\")\n",
    "    print(\" \", np.round(r[::-1])[:, 0], \"result\")\n",
    "    print(\" \", l[::-1], \"label\")\n",
    "    print()\n",
    "    print()\n",
    "\n"
   ]
  },
  {
   "cell_type": "code",
   "execution_count": null,
   "metadata": {
    "collapsed": true
   },
   "outputs": [],
   "source": []
  }
 ],
 "metadata": {
  "kernelspec": {
   "display_name": "Python 3",
   "language": "python",
   "name": "python3"
  },
  "language_info": {
   "codemirror_mode": {
    "name": "ipython",
    "version": 3
   },
   "file_extension": ".py",
   "mimetype": "text/x-python",
   "name": "python",
   "nbconvert_exporter": "python",
   "pygments_lexer": "ipython3",
   "version": "3.6.5"
  }
 },
 "nbformat": 4,
 "nbformat_minor": 2
}
