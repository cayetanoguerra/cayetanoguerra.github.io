{
 "cells": [
  {
   "cell_type": "markdown",
   "metadata": {},
   "source": []
  },
  {
   "cell_type": "markdown",
   "metadata": {},
   "source": [
    "<img src=\"../imgs/Adevinta-ULPGC-logo.jpg\" width=\"530px\" align=\"right\">"
   ]
  },
  {
   "cell_type": "markdown",
   "metadata": {},
   "source": [
    "# **Bases de datos vectoriales**\n",
    "\n",
    "Las bases de datos vectoriales son sistemas de gestión de bases de datos diseñados específicamente para almacenar, indexar y realizar búsquedas en vectores de alta dimensión. Estos vectores suelen representar datos complejos como imágenes, videos, texto y datos de audio en forma de embeddings, que son representaciones numéricas densas obtenidas mediante técnicas de aprendizaje profundo o algoritmos de procesamiento de señales. La capacidad de trabajar con este tipo de datos las hace especialmente útiles en el campo del aprendizaje automático y el procesamiento de lenguaje natural (NLP), entre otros.\n",
    "\n",
    "Las características principales de las bases de datos vectoriales incluyen:\n",
    "\n",
    "### **Almacenamiento Eficiente**\n",
    "Pueden almacenar grandes cantidades de vectores de manera eficiente, aprovechando técnicas de compresión y estructuras de datos especializadas.\n",
    "\n",
    "### **Indexación y Búsqueda Rápida**\n",
    "Utilizan algoritmos de indexación avanzados para facilitar búsquedas rápidas y eficientes en espacios de alta dimensión. Esto permite realizar consultas como búsquedas de similitud (\"los más similares a\") o búsquedas por proximidad, donde el objetivo es encontrar elementos similares a un vector de consulta en la base de datos."
   ]
  },
  {
   "cell_type": "markdown",
   "metadata": {},
   "source": [
    "<img src=\"imgs/chroma-logo.png\" width=\"100px\">  \n",
    "\n",
    "## **Chroma**\n",
    "\n",
    "https://docs.trychroma.com/\n",
    "\n",
    "Chroma es una base de datos de *embeddings* de código abierto que facilita la construcción de aplicaciones al hacer que el conocimiento, los hechos y las habilidades sean conectables a los LLMs.\n",
    "\n",
    "Chroma proporciona las herramientas para:\n",
    "\n",
    "- Almacenar embeddings y sus metadatos\n",
    "- Incrustar documentos y consultas\n",
    "- Buscar embeddings\n",
    "\n",
    "Chroma prioriza:\n",
    "\n",
    "- La simplicidad y la productividad del desarrollador\n",
    "- Análisis por encima de la búsqueda\n",
    "- Rapidez\n",
    "\n",
    "Chroma consta de un SDK para un cliente de Python, SDK de cliente de JavaScript/TypeScript y una aplicación de servidor.\n",
    "Chroma está licenciado bajo Apache 2.0\n",
    "\n",
    "<img src=\"imgs/hrm4.svg\" width=\"700px\">\n"
   ]
  },
  {
   "cell_type": "markdown",
   "metadata": {},
   "source": [
    "Intalación de Chroma"
   ]
  },
  {
   "cell_type": "code",
   "execution_count": null,
   "metadata": {},
   "outputs": [],
   "source": [
    "!pip install chromadb"
   ]
  },
  {
   "cell_type": "markdown",
   "metadata": {},
   "source": [
    "Creamos un cliente de Chroma"
   ]
  },
  {
   "cell_type": "code",
   "execution_count": 1,
   "metadata": {},
   "outputs": [],
   "source": [
    "import chromadb\n",
    "chroma_client = chromadb.Client()"
   ]
  },
  {
   "cell_type": "code",
   "execution_count": 2,
   "metadata": {},
   "outputs": [],
   "source": [
    "collection = chroma_client.create_collection(name=\"memory\")"
   ]
  },
  {
   "cell_type": "code",
   "execution_count": 3,
   "metadata": {},
   "outputs": [],
   "source": [
    "collection.add(\n",
    "    documents=[\n",
    "        \"El cumpleaños de mi hermano es el 5 de mayo\",\n",
    "        \"peras, manzanas, uvas, plátanos, fresas\",\n",
    "        \"amarillo, azul, rojo, verde, negro, blanco\",\n",
    "        ],\n",
    "    ids=[\"id1\", \"id2\", \"id3\"]\n",
    ")"
   ]
  },
  {
   "cell_type": "code",
   "execution_count": 4,
   "metadata": {},
   "outputs": [],
   "source": [
    "results = collection.query(\n",
    "    # query_texts=[\"¿Recuérdame lo que necesito comprar?\",],\n",
    "    # query_texts=[\"¿Cuándo es el cumpleaños de mi hermano?\",],\n",
    "    query_texts=[\"naranjas\",],\n",
    "    n_results=3\n",
    ")"
   ]
  },
  {
   "cell_type": "code",
   "execution_count": 5,
   "metadata": {},
   "outputs": [
    {
     "data": {
      "text/plain": [
       "{'ids': [['id3', 'id2', 'id1']],\n",
       " 'distances': [[1.2155519723892212, 1.2788119316101074, 1.5140050649642944]],\n",
       " 'metadatas': [[None, None, None]],\n",
       " 'embeddings': None,\n",
       " 'documents': [['amarillo, azul, rojo, verde, negro, blanco',\n",
       "   'peras, manzanas, uvas, plátanos, fresas',\n",
       "   'El cumpleaños de mi hermano es el 5 de mayo']],\n",
       " 'uris': None,\n",
       " 'data': None}"
      ]
     },
     "execution_count": 5,
     "metadata": {},
     "output_type": "execute_result"
    }
   ],
   "source": [
    "results"
   ]
  },
  {
   "cell_type": "markdown",
   "metadata": {},
   "source": [
    "### **Chroma Persistente**\n",
    "\n",
    "Podemos configurar el cliente para que sea persistente, es decir, que los datos se mantengan en la base de datos incluso después de cerrar el cliente.\n"
   ]
  },
  {
   "cell_type": "code",
   "execution_count": 2,
   "metadata": {},
   "outputs": [],
   "source": [
    "import chromadb\n",
    "client = chromadb.PersistentClient(path=\"./memory\")"
   ]
  },
  {
   "cell_type": "code",
   "execution_count": 3,
   "metadata": {},
   "outputs": [],
   "source": [
    "# make a new collection\n",
    "collection = client.create_collection(\"interactions\")"
   ]
  },
  {
   "cell_type": "code",
   "execution_count": 4,
   "metadata": {},
   "outputs": [
    {
     "data": {
      "text/plain": [
       "[Collection(name=interactions)]"
      ]
     },
     "execution_count": 4,
     "metadata": {},
     "output_type": "execute_result"
    }
   ],
   "source": [
    "# list all collections\n",
    "client.list_collections()"
   ]
  },
  {
   "cell_type": "code",
   "execution_count": 35,
   "metadata": {},
   "outputs": [],
   "source": [
    "client.delete_collection(\"interactions\")"
   ]
  },
  {
   "cell_type": "code",
   "execution_count": 5,
   "metadata": {},
   "outputs": [],
   "source": [
    "collection.add(\n",
    "    documents=[\n",
    "        \"La casa que busca el cliente de Tarragona la quiere en Barcelona\",\n",
    "        \"El precio máximo que busca el cliente de Tarragona es de 300.000 euros\",\n",
    "        \"Anabel Díaz busca una casa con 3 habitaciones\",\n",
    "        \"Pasar presupuesto al cliente de Tarragona\"\n",
    "        ],\n",
    "    metadatas=[\n",
    "        {\"seller\": \"juan\", \"timestamp\": \"2021-10-10\"},\n",
    "        {\"seller\": \"juan\", \"timestamp\": \"2021-10-21\"},\n",
    "        {\"seller\": \"laura\", \"timestamp\": \"2021-10-07\"},\n",
    "        {\"seller\": \"antonio\", \"timestamp\": \"2021-09-03\"}\n",
    "    ],\n",
    "    ids=[\"id01\", \"id02\", \"id03\", \"id04\"]\n",
    ")"
   ]
  },
  {
   "cell_type": "code",
   "execution_count": 6,
   "metadata": {},
   "outputs": [
    {
     "data": {
      "text/plain": [
       "{'ids': [['id02', 'id01', 'id04']],\n",
       " 'distances': [[0.4318939457459855, 0.4465060700453689, 0.530094619305671]],\n",
       " 'metadatas': [[{'seller': 'juan', 'timestamp': '2021-10-21'},\n",
       "   {'seller': 'juan', 'timestamp': '2021-10-10'},\n",
       "   {'seller': 'antonio', 'timestamp': '2021-09-03'}]],\n",
       " 'embeddings': None,\n",
       " 'documents': [['El precio máximo que busca el cliente de Tarragona es de 300.000 euros',\n",
       "   'La casa que busca el cliente de Tarragona la quiere en Barcelona',\n",
       "   'Pasar presupuesto al cliente de Tarragona']],\n",
       " 'uris': None,\n",
       " 'data': None}"
      ]
     },
     "execution_count": 6,
     "metadata": {},
     "output_type": "execute_result"
    }
   ],
   "source": [
    "results = collection.query(\n",
    "    query_texts=[\"¿Qué busca el cliente de Tarragona?\",],\n",
    "    n_results=3\n",
    ")\n",
    "\n",
    "results"
   ]
  },
  {
   "cell_type": "code",
   "execution_count": 41,
   "metadata": {},
   "outputs": [
    {
     "data": {
      "text/plain": [
       "{'ids': [['id02', 'id01']],\n",
       " 'distances': [[0.4318939457459855, 0.4465060700453689]],\n",
       " 'metadatas': [[{'seller': 'juan', 'timestamp': '2021-10-21'},\n",
       "   {'seller': 'juan', 'timestamp': '2021-10-10'}]],\n",
       " 'embeddings': None,\n",
       " 'documents': [['El precio máximo que busca el cliente de Tarragona es de 300.000 euros',\n",
       "   'La casa que busca el cliente de Tarragona la quiere en Barcelona']],\n",
       " 'uris': None,\n",
       " 'data': None}"
      ]
     },
     "execution_count": 41,
     "metadata": {},
     "output_type": "execute_result"
    }
   ],
   "source": [
    "results = collection.query(\n",
    "    query_texts=[\"¿Qué busca el cliente de Tarragona?\",],\n",
    "    n_results=3,\n",
    "    where={\"seller\": \"juan\"}\n",
    ")\n",
    "\n",
    "results"
   ]
  }
 ],
 "metadata": {
  "kernelspec": {
   "display_name": "env",
   "language": "python",
   "name": "python3"
  },
  "language_info": {
   "codemirror_mode": {
    "name": "ipython",
    "version": 3
   },
   "file_extension": ".py",
   "mimetype": "text/x-python",
   "name": "python",
   "nbconvert_exporter": "python",
   "pygments_lexer": "ipython3",
   "version": "3.10.7"
  }
 },
 "nbformat": 4,
 "nbformat_minor": 2
}
