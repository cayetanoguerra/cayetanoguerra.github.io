{
 "cells": [
  {
   "cell_type": "markdown",
   "metadata": {},
   "source": [
    "<img src=\"../imgs/Adevinta-ULPGC-logo.jpg\" width=\"530px\" align=\"right\">"
   ]
  },
  {
   "cell_type": "markdown",
   "metadata": {},
   "source": [
    "# **Modelos del lenguaje basados en redes neuronales artificiales**"
   ]
  },
  {
   "cell_type": "markdown",
   "metadata": {},
   "source": [
    "## **Modelos seq2seq 1**\n",
    "\n",
    "La arquitectura seq2seq, o secuencia a secuencia, es un tipo de modelo de red neuronal utilizado en el aprendizaje profundo para convertir secuencias de entrada en secuencias de salida. Es especialmente popular para tareas como traducción automática, generación de texto, y reconocimiento de voz. Se forma mediante la unión de dos componentes principales: un **codificador** y un **decodificador**.\n",
    "\n",
    "<p align=\"center\">\n",
    "<img src=\"./imgs/seq2seq_.svg\" width=\"80%\">\n",
    "</p>\n",
    "\n",
    "\n",
    "#### **Codificador (Encoder)**\n",
    "\n",
    "El codificador toma la secuencia de entrada y la procesa para generar una representación interna, a menudo en forma de un vector de contexto o una serie de estados ocultos. Aquí está el proceso detallado:\n",
    "\n",
    "1. **Entrada de la secuencia**: El modelo toma una secuencia de entrada (por ejemplo, una frase en inglés si estamos haciendo traducción inglés-español).\n",
    "\n",
    "2. **Embedding de palabras**: Cada palabra o token de la secuencia se transforma en un vector mediante una capa de embebido (embedding).\n",
    "\n",
    "3. **Procesamiento recurrente**: Los vectores embebidos se pasan a través de capas recurrentes (como LSTM o GRU) para procesar la secuencia. En cada paso temporal, la red actualiza su estado oculto basándose en el token actual y el estado oculto anterior.\n",
    "\n",
    "4. **Captura de contexto**: El último estado oculto de la red (o una combinación de todos los estados ocultos, dependiendo del diseño) se toma como la representación condensada de la secuencia completa. Este vector de contexto captura la información esencial de la entrada.\n",
    "\n",
    "### **Decodificador (Decoder)**\n",
    "\n",
    "El decodificador utiliza la representación generada por el codificador para producir la secuencia de salida.\n",
    "\n",
    "1. **Inicialización**: El decodificador se inicializa con el estado oculto final del codificador. En algunos diseños, el vector de contexto también se usa directamente como parte de la entrada en cada paso del decodificador.\n",
    "\n",
    "2. **Generación de la secuencia de salida**: En cada paso, el decodificador genera un token de la secuencia de salida.\n",
    "\n",
    "   - **Estado oculto**: Se actualiza en cada paso basándose en la entrada actual y el estado oculto anterior.\n",
    "   - **Entrada**: Puede ser el token de salida del paso anterior o un token especial para indicar el inicio de la secuencia.\n",
    "   - **Salida**: Un vector que se transforma en las probabilidades de los diferentes tokens posibles para el siguiente paso de la secuencia. Esto se hace típicamente con una capa softmax.\n",
    "\n",
    "3. **Terminación**: El proceso continúa hasta que se genera un token de final de secuencia o se alcanza una longitud máxima de secuencia."
   ]
  },
  {
   "cell_type": "markdown",
   "metadata": {},
   "source": [
    "### **Implementación**\n",
    "\n",
    "Vamos a implementar un sencillo modelo seq2seq que realice la suma de dos números decimales de, como máximo, 3 cifras. La entrada será una cadena de texto con el formato \"123+456\" y la salida será una cadena de texto con el formato \"0579\".\n",
    "\n",
    "#### **Dataset**"
   ]
  },
  {
   "cell_type": "code",
   "execution_count": 1,
   "metadata": {},
   "outputs": [],
   "source": [
    "import random\n",
    "import string\n",
    "import torch\n",
    "\n",
    "allowed_chars = string.digits + '+'\n",
    "\n",
    "class Generator():\n",
    "    def __init__(self) -> None:\n",
    "        pass\n",
    "\n",
    "    # Método para crear un ejemplo de entrenamiento\n",
    "    def sample(self):\n",
    "        s1 = random.randint(0, 999)\n",
    "        s2 = random.randint(0, 999)\n",
    "        r = s1 + s2\n",
    "        s1_string = str(s1).zfill(4)\n",
    "        s2_string = str(s2).zfill(4)\n",
    "        output = str(r).zfill(4)\n",
    "        input = s1_string + \"+\" + s2_string\n",
    "        return input, output\n",
    "    \n",
    "    # Método para crear un lote de ejemplos de entrenamiento\n",
    "    def batch(self, n):\n",
    "        inputs = []\n",
    "        outputs = []\n",
    "        for _ in range(n):\n",
    "            input, output = self.sample()\n",
    "            inputs.append(input)\n",
    "            outputs.append(output)\n",
    "        return inputs, outputs\n",
    "    \n",
    "    # Método para codificar una cadena de caracteres en un tensor one-hot\n",
    "    def string_to_tensor(self, s):\n",
    "        tensor = torch.zeros(len(s), len(allowed_chars))\n",
    "        for i, char in enumerate(s):\n",
    "            tensor[i, allowed_chars.index(char)] = 1\n",
    "        return tensor\n",
    "\n",
    "    # Método para decodificar un tensor one-hot en una cadena de caracteres\n",
    "    def tensor_to_string(self, tensor):\n",
    "        _, max_idx = tensor.max(1)\n",
    "        return ''.join([allowed_chars[i] for i in max_idx])\n",
    "    \n",
    "    # Método para generar un lote de ejemplos de entrenamiento codificados\n",
    "    def batch_to_tensor(self, n):\n",
    "        seq_in = []\n",
    "        seq_out = []\n",
    "        inputs, outputs = self.batch(n)\n",
    "        for input, output in zip(inputs, outputs):\n",
    "            seq_in.append(self.string_to_tensor(input))\n",
    "            seq_out.append(self.string_to_tensor(output))\n",
    "        return torch.stack(seq_in), torch.stack(seq_out)"
   ]
  },
  {
   "cell_type": "markdown",
   "metadata": {},
   "source": [
    "#### **Modelo**"
   ]
  },
  {
   "cell_type": "code",
   "execution_count": 6,
   "metadata": {},
   "outputs": [],
   "source": [
    "import torch.nn as nn\n",
    "import torch.optim as optim\n",
    "import torch.nn.functional as F\n",
    "\n",
    "\n",
    "# Definir la arquitectura del modelo seq2seq\n",
    "class Seq2Seq(nn.Module):\n",
    "    def __init__(self, input_size, hidden_size, output_size):\n",
    "        super(Seq2Seq, self).__init__()\n",
    "        self.hidden_size = hidden_size\n",
    "        self.encoder = nn.LSTM(input_size, hidden_size, batch_first=True)\n",
    "        self.decoder = nn.LSTM(hidden_size, hidden_size, batch_first=True)\n",
    "        self.output = nn.Linear(hidden_size, output_size)\n",
    "\n",
    "    def forward(self, input):\n",
    "        _, (hn_enc, cn_enc) = self.encoder(input)\n",
    "        latent_tensor = hn_enc[0].unsqueeze(1).repeat(1, 4, 1)  # Repeat 4 times for the output sequence length. Encoder hidden state is the latent tensor.\n",
    "        out_dec, (_, _) = self.decoder(latent_tensor, (hn_enc, cn_enc))\n",
    "        out = F.softmax(self.output(out_dec), dim=2)\n",
    "        return out\n",
    "    \n",
    "model = Seq2Seq(input_size=len(allowed_chars), hidden_size=128, output_size=len(allowed_chars))"
   ]
  },
  {
   "cell_type": "markdown",
   "metadata": {},
   "source": [
    "#### **Entrenamiento**"
   ]
  },
  {
   "cell_type": "code",
   "execution_count": 7,
   "metadata": {},
   "outputs": [
    {
     "name": "stdout",
     "output_type": "stream",
     "text": [
      "Epoch: 0, Loss: 0.08278626948595047\n",
      "Epoch: 500, Loss: 0.04535852372646332\n",
      "Epoch: 1000, Loss: 0.044752832502126694\n",
      "Epoch: 1500, Loss: 0.04373709857463837\n",
      "Epoch: 2000, Loss: 0.04096261039376259\n",
      "Epoch: 2500, Loss: 0.03856367617845535\n",
      "Epoch: 3000, Loss: 0.03128708153963089\n",
      "Epoch: 3500, Loss: 0.02588800899684429\n",
      "Epoch: 4000, Loss: 0.026218490675091743\n",
      "Epoch: 4500, Loss: 0.025685178115963936\n",
      "Epoch: 5000, Loss: 0.022701745852828026\n",
      "Epoch: 5500, Loss: 0.02175910584628582\n",
      "Epoch: 6000, Loss: 0.022094344720244408\n",
      "Epoch: 6500, Loss: 0.02124878764152527\n",
      "Epoch: 7000, Loss: 0.0180223286151886\n",
      "Epoch: 7500, Loss: 0.014288426376879215\n",
      "Epoch: 8000, Loss: 0.003746818518266082\n",
      "Epoch: 8500, Loss: 0.0006115555297583342\n",
      "Epoch: 9000, Loss: 0.0008122030412778258\n",
      "Epoch: 9500, Loss: 0.00013642640260513872\n"
     ]
    },
    {
     "data": {
      "text/plain": [
       "[<matplotlib.lines.Line2D at 0x28e290730>]"
      ]
     },
     "execution_count": 7,
     "metadata": {},
     "output_type": "execute_result"
    },
    {
     "data": {
      "image/png": "[encoded data removed]",
      "text/plain": [
       "<Figure size 640x480 with 1 Axes>"
      ]
     },
     "metadata": {},
     "output_type": "display_data"
    }
   ],
   "source": [
    "import matplotlib.pyplot as plt\n",
    "\n",
    "history = []\n",
    "\n",
    "# Bucle de entrenamiento\n",
    "def train(model, optimizer, loss_fn, n_epochs, batch_size):\n",
    "    for epoch in range(n_epochs):\n",
    "        total_loss = 0\n",
    "        \n",
    "        optimizer.zero_grad()\n",
    "        x, y = dg.batch_to_tensor(batch_size)\n",
    "        y_pred = model(x)\n",
    "        loss = loss_fn(y_pred, y)\n",
    "        loss.backward()\n",
    "        optimizer.step()\n",
    "        total_loss += loss.item()\n",
    "        # Print the loss every 10 epochs\n",
    "        if epoch % 500 == 0:\n",
    "            print(\"Epoch: {}, Loss: {}\".format(epoch, total_loss))\n",
    "            history.append(total_loss)\n",
    "\n",
    "# Definir la función de pérdida y el optimizador\n",
    "loss_fn = nn.MSELoss()\n",
    "optimizer = optim.Adam(model.parameters(), lr=0.01)\n",
    "\n",
    "# Entrenar el modelo\n",
    "dg = Generator()\n",
    "train(model, optimizer, loss_fn, 10000, 128)\n",
    "\n",
    "\n",
    "plt.plot(history, label='loss')"
   ]
  },
  {
   "cell_type": "markdown",
   "metadata": {},
   "source": [
    "#### **Evaluación**"
   ]
  },
  {
   "cell_type": "code",
   "execution_count": 4,
   "metadata": {},
   "outputs": [
    {
     "name": "stdout",
     "output_type": "stream",
     "text": [
      "0828+0598 1423 1426\n",
      "0100+0894 0996 0994\n",
      "0077+0596 0670 0673\n",
      "0449+0372 0820 0821\n",
      "0616+0335 0954 0951\n",
      "0383+0077 0469 0460\n",
      "0251+0693 0944 0944\n",
      "0087+0201 0286 0288\n",
      "0271+0604 0876 0875\n",
      "0885+0774 1668 1659\n"
     ]
    }
   ],
   "source": [
    "# Evaluar el modelo\n",
    "def evaluate(model, n):\n",
    "    x, y = dg.batch_to_tensor(n)\n",
    "    y_pred = model(x)\n",
    "    for i in range(n):\n",
    "        print(dg.tensor_to_string(x[i]), dg.tensor_to_string(y_pred[i]), dg.tensor_to_string(y[i]))\n",
    "\n",
    "evaluate(model, 10)"
   ]
  },
  {
   "cell_type": "markdown",
   "metadata": {},
   "source": [
    "Es importante destacar que el modelo no realiza una suma de números siguiendo un procedimiento aritmético, sino que aprende a generar la secuencia de salida correcta mediante un proceso de traducción aprendido a partir de los datos de entrenamiento."
   ]
  },
  {
   "cell_type": "markdown",
   "metadata": {},
   "source": [
    "---\n",
    "\n",
    "### Ejercicio 1\n",
    "\n",
    "Modifica el modelo seq2seq anterior para que acepte cualquier longitud de sumandos y resultados. Fíjate en la línea 17:\n",
    "\n",
    "`latent_tensor = hn_enc[0].unsqueeze(1).repeat(1, 4, 1)  # Repeat 4 times for the output sequence length. Encoder hidden state is the latent tensor.`\n",
    "\n",
    "El número 4 indica la longitud de la secuencia de salida. Modifica este número para que se ajuste a la longitud máxima de la secuencia de salida.\n",
    "\n",
    "### Ejercicio 2\n",
    "\n",
    "Tenemos un dataset que contiene pares de secuencias de texto, donde la primera secuencia es un número entero en notación decimal y la segunda secuencia es el número en texto en inglés. Por ejemplo:\n",
    "\n",
    "372409679, \"three hundred seventy two million four hundred nine thousand six hundred seventy nine\"\n",
    "\n",
    "Crea un modelo seq2seq que traduzca números enteros en notación decimal a texto en inglés. El modelo debe ser capaz de traducir números de hasta 9 cifras.\n",
    "\n",
    "A continuación se proporciona el código para cargar el dataset, crear el vocabulario y preparar el DataLoader.\n",
    "\n",
    "---"
   ]
  },
  {
   "cell_type": "markdown",
   "metadata": {},
   "source": [
    "<div style=\"background-color:#e3fcff; padding: 15px; box-shadow: 0px 0px 10px rgba(0,0,0,0.2);\">\n",
    "\n",
    "##### **Nota**\n",
    "\n",
    "Consulta la documentación de la clase `Dataset`de PyTorch en el siguiente enlace: [torch.utils.data.Dataset](https://pytorch.org/docs/stable/data.html#torch.utils.data.Dataset)\n",
    "\n",
    "Esta clase es una clase abstracta que representa un conjunto de datos. Su función principal es implementar dos métodos: `__len__` y `__getitem__`.\n",
    "\n",
    "</div>"
   ]
  },
  {
   "cell_type": "code",
   "execution_count": 5,
   "metadata": {},
   "outputs": [
    {
     "name": "stdout",
     "output_type": "stream",
     "text": [
      "['hundred', 'million', 'thousand', 'six', 'eight', 'three', 'seven', 'one', 'four', 'nine', 'five', 'two', 'twenty', 'ninety', 'thirty', 'forty', 'eighty', 'seventy', 'fifty', 'sixty', 'seventeen', 'fourteen', 'nineteen', 'sixteen', 'thirteen', 'twelve', 'fifteen', 'eighteen', 'ten', 'eleven']\n",
      "{'eleven': 29, 'eighteen': 27, 'fifteen': 26, 'ninety': 13, 'nineteen': 22, 'fourteen': 21, 'seventeen': 20, 'fifty': 18, 'seventy': 17, 'two': 11, 'thousand': 2, 'four': 8, 'thirteen': 24, 'hundred': 0, 'one': 7, 'seven': 6, 'ten': 28, 'nine': 9, 'three': 5, 'sixteen': 23, 'thirty': 14, 'six': 3, 'twelve': 25, 'million': 1, 'sixty': 19, 'twenty': 12, 'eight': 4, 'five': 10, 'eighty': 16, 'forty': 15}\n",
      "7\n",
      "30\n",
      "('372409679', ['three', 'hundred', 'seventy', 'two', 'million', 'four', 'hundred', 'nine', 'thousand', 'six', 'hundred', 'seventy', 'nine'])\n",
      "-------------------\n",
      "('947607438', ['nine', 'hundred', 'forty', 'seven', 'million', 'six', 'hundred', 'seven', 'thousand', 'four', 'hundred', 'thirty', 'eight'])\n",
      "('8452266', ['eight', 'million', 'four', 'hundred', 'fifty', 'two', 'thousand', 'two', 'hundred', 'sixty', 'six'])\n",
      "('735745711', ['seven', 'hundred', 'thirty', 'five', 'million', 'seven', 'hundred', 'forty', 'five', 'thousand', 'seven', 'hundred', 'eleven'])\n",
      "('292050616', ['two', 'hundred', 'ninety', 'two', 'million', 'fifty', 'thousand', 'six', 'hundred', 'sixteen'])\n"
     ]
    }
   ],
   "source": [
    "# Clase para generar ejemplos de entrenamiento a partir de las clases que provee Torchtext\n",
    "from torch.utils.data import Dataset, DataLoader\n",
    "from torchtext.vocab import vocab\n",
    "from collections import Counter, OrderedDict\n",
    "\n",
    "\n",
    "class NumbersAndText(Dataset):\n",
    "    def __init__(self, file):\n",
    "        self.file = file\n",
    "        with open(file, 'r') as f:\n",
    "            self.data = f.readlines()\n",
    "\n",
    "    def __len__(self):\n",
    "        return len(self.data)\n",
    "    \n",
    "    def __getitem__(self, idx):\n",
    "        line = self.data[idx].split(\", \")\n",
    "        label = line[1][1:-3].split()\n",
    "        words = line[0]\n",
    "        return words, label\n",
    "    \n",
    "    \n",
    "def create_vocab(file):\n",
    "    with open(file, 'r') as f:\n",
    "        data = f.readlines()\n",
    "        tokens = []\n",
    "        for line in data:\n",
    "            line = line.split(\", \")\n",
    "            label = line[1][1:-3]\n",
    "            words = label.split()\n",
    "            tokens.extend(words)\n",
    "\n",
    "        counter = Counter(tokens)\n",
    "        sorted_by_freq_tuples = sorted(counter.items(), key=lambda x: x[1], reverse=True)\n",
    "        ordered_dict = OrderedDict(sorted_by_freq_tuples)\n",
    "        v = vocab(ordered_dict)\n",
    "        return v\n",
    "\n",
    "    \n",
    "    \n",
    "voc = create_vocab('data/numbers.txt')\n",
    "print(voc.get_itos())\n",
    "print(voc.get_stoi())\n",
    "print(voc['one'])\n",
    "print(len(voc))\n",
    "\n",
    "ds = NumbersAndText('data/numbers.txt')\n",
    "print(ds[0])\n",
    "print(\"-------------------\")\n",
    "data_loader = DataLoader(ds, batch_size=4, shuffle=True, collate_fn=lambda x: x)\n",
    "L = next(iter(data_loader))\n",
    "for i in L:\n",
    "    print(i)"
   ]
  },
  {
   "cell_type": "code",
   "execution_count": null,
   "metadata": {},
   "outputs": [],
   "source": []
  }
 ],
 "metadata": {
  "kernelspec": {
   "display_name": "env",
   "language": "python",
   "name": "python3"
  },
  "language_info": {
   "codemirror_mode": {
    "name": "ipython",
    "version": 3
   },
   "file_extension": ".py",
   "mimetype": "text/x-python",
   "name": "python",
   "nbconvert_exporter": "python",
   "pygments_lexer": "ipython3",
   "version": "3.10.7"
  }
 },
 "nbformat": 4,
 "nbformat_minor": 2
}
