{
 "cells": [
  {
   "cell_type": "markdown",
   "metadata": {},
   "source": [
    "<img src=\"../imgs/Adevinta-ULPGC-logo.jpg\" width=\"530px\" align=\"right\">"
   ]
  },
  {
   "cell_type": "markdown",
   "metadata": {},
   "source": [
    "# **Tutorial de Pytorch 2: Autograd**\n"
   ]
  },
  {
   "cell_type": "markdown",
   "metadata": {},
   "source": [
    "## Autograd: Derivación automática\n",
    "\n",
    "La **derivación automática** es la pieza clave del proceso de aprendizaje de cualquier red neuronal. Con PyTorch podemos construir cualquier función (modelo) que necesitemos basada en operaciones sobre tensores. Además del modelo añadiremos una **función de pérdida** por la que podremos descender por el gradiente con el fin de aproximarnos a algún mínimo. PyTorch nos ofrece la posibilidad de generar automáticamente estos gradientes (vectores de descenso).\n",
    "\n",
    "https://pytorch.org/tutorials/beginner/blitz/autograd_tutorial.html"
   ]
  },
  {
   "cell_type": "markdown",
   "metadata": {},
   "source": [
    "Vamos a derivar una función sencilla como:\n",
    "\n",
    "$$ y = x^2 + 3x^3$$ \n",
    "\n",
    "Sabemos que su derivada es:\n",
    "\n",
    "$$ y' = 2x + 9x^2$$\n",
    "\n",
    "Si queremos saber cuál es el valor de la derivada en $x=2$, podemos calcularlo. Su valor es $y'(2) = 40$. Vamos a implementarlo en PyTorch:"
   ]
  },
  {
   "cell_type": "code",
   "execution_count": 2,
   "metadata": {},
   "outputs": [
    {
     "name": "stdout",
     "output_type": "stream",
     "text": [
      "tensor([40.], dtype=torch.float64)\n"
     ]
    }
   ],
   "source": [
    "import torch\n",
    "import numpy as np\n",
    "\n",
    "x = torch.from_numpy(np.array([2.]))  # Creamos un tensor con un solo valor (2.0)\n",
    "x.requires_grad_(True)  # Especificamos que 'x' es una variable sobre la que queremos derivar\n",
    "\n",
    "y = x**2 + 3*x**3  # Creamos la expresión\n",
    "\n",
    "y.backward()  # Solicitamos a PyTorch que derive \n",
    "\n",
    "print(x.grad)  # Imprimimos la derivada o gradiente sobre 'x'"
   ]
  },
  {
   "cell_type": "markdown",
   "metadata": {},
   "source": [
    "¿Qué pasa si tenemos una función de más de una variable? Como por ejemplo:\n",
    "\n",
    "$$ z = 4x^2 + 2y^3 + y$$\n",
    "\n",
    "Ocurre que pasamos de **derivar** a **derivar parcialmente**. Esto significa que debemos derivar primero con respecto a $x$ y luego con respecto a $y$.\n",
    "\n",
    "$$ \\frac{\\partial{z}}{\\partial{x}} = 8x $$\n",
    "\n",
    "$$ \\frac{\\partial{z}}{\\partial{y}} = 6y^2 + 1 $$"
   ]
  },
  {
   "cell_type": "code",
   "execution_count": 3,
   "metadata": {},
   "outputs": [
    {
     "name": "stdout",
     "output_type": "stream",
     "text": [
      "tensor([16.], device='cuda:0')\n",
      "tensor([55.], device='cuda:0')\n"
     ]
    }
   ],
   "source": [
    "device = 'cuda' if torch.cuda.is_available() else 'cpu'\n",
    "\n",
    "x = torch.from_numpy(np.array([2])).float().to(device)\n",
    "y = torch.from_numpy(np.array([3])).float().to(device)\n",
    "x.requires_grad_(True)\n",
    "y.requires_grad_(True)\n",
    "\n",
    "z = (4*x**2 + 2*y**3 + y)\n",
    "\n",
    "z.backward()\n",
    "\n",
    "print(x.grad)\n",
    "print(y.grad)"
   ]
  },
  {
   "cell_type": "markdown",
   "metadata": {},
   "source": [
    "Vamos un paso más allá y veamos cómo podríamos tener un número arbitrario de variables a derivar y cómo lo podríamos representar de manera matricial."
   ]
  },
  {
   "cell_type": "code",
   "execution_count": 9,
   "metadata": {},
   "outputs": [
    {
     "name": "stdout",
     "output_type": "stream",
     "text": [
      "tensor([[ 4.,  6.],\n",
      "        [ 8., 10.]], device='cuda:0')\n"
     ]
    }
   ],
   "source": [
    "device = 'cuda' if torch.cuda.is_available() else 'cpu'\n",
    "\n",
    "X = torch.from_numpy(np.array([[2,3],[4,5]])).float().to(device)\n",
    "\n",
    "X.requires_grad_(True)\n",
    "\n",
    "Y = torch.sum(X**2)  # La potenciación actúa sobre cada elemento de la matriz\n",
    "\n",
    "Y.backward()\n",
    "\n",
    "print(X.grad)"
   ]
  },
  {
   "cell_type": "markdown",
   "metadata": {},
   "source": [
    "Lo anterior expresa que tenemos una matriz de variables de $2\\times2$, elevamos cada celda al cuadrado y sumamos todo. Escrito de otra forma:\n",
    "$$ X = \\left( \\begin{array}{cc} a & b \\\\ c & d \\end{array} \\right) $$\n",
    "\n",
    "$$ Y = a^2 + b^2 + c^2 + d^2 $$\n",
    "\n",
    "$$ Y' = \\left( \\begin{array}{cc} \\frac{\\partial Y}{\\partial a} & \\frac{\\partial Y}{\\partial b} \\\\ \\frac{\\partial Y}{\\partial c} & \\frac{\\partial Y}{\\partial d} \\end{array} \\right) = \\left( \\begin{array}{cc} 2a & 2b \\\\ 2c & 2d \\end{array} \\right)$$"
   ]
  },
  {
   "cell_type": "markdown",
   "metadata": {},
   "source": [
    "## Grafo de computación dinámico"
   ]
  },
  {
   "cell_type": "code",
   "execution_count": 5,
   "metadata": {},
   "outputs": [
    {
     "name": "stdout",
     "output_type": "stream",
     "text": [
      "tensor([40.], dtype=torch.float64)\n"
     ]
    },
    {
     "data": {
      "image/svg+xml": [
       "<?xml version=\"1.0\" encoding=\"UTF-8\" standalone=\"no\"?>\r\n",
       "<!DOCTYPE svg PUBLIC \"-//W3C//DTD SVG 1.1//EN\"\r\n",
       " \"http://www.w3.org/Graphics/SVG/1.1/DTD/svg11.dtd\">\r\n",
       "<!-- Generated by graphviz version 2.44.1 (20200629.0846)\r\n",
       " -->\r\n",
       "<!-- Pages: 1 -->\r\n",
       "<svg width=\"206pt\" height=\"214pt\"\r\n",
       " viewBox=\"0.00 0.00 205.50 214.00\" xmlns=\"http://www.w3.org/2000/svg\" xmlns:xlink=\"http://www.w3.org/1999/xlink\">\r\n",
       "<g id=\"graph0\" class=\"graph\" transform=\"scale(1 1) rotate(0) translate(4 210)\">\r\n",
       "<polygon fill=\"white\" stroke=\"transparent\" points=\"-4,4 -4,-210 201.5,-210 201.5,4 -4,4\"/>\r\n",
       "<!-- 1608505361416 -->\r\n",
       "<g id=\"node1\" class=\"node\">\r\n",
       "<title>1608505361416</title>\r\n",
       "<polygon fill=\"#caff70\" stroke=\"black\" points=\"144.5,-21 54.5,-21 54.5,0 144.5,0 144.5,-21\"/>\r\n",
       "<text text-anchor=\"middle\" x=\"99.5\" y=\"-7.4\" font-family=\"Times New Roman,serif\" font-size=\"12.00\">AddBackward0</text>\r\n",
       "</g>\r\n",
       "<!-- 1608505361672 -->\r\n",
       "<g id=\"node2\" class=\"node\">\r\n",
       "<title>1608505361672</title>\r\n",
       "<polygon fill=\"lightgrey\" stroke=\"black\" points=\"91,-78 0,-78 0,-57 91,-57 91,-78\"/>\r\n",
       "<text text-anchor=\"middle\" x=\"45.5\" y=\"-64.4\" font-family=\"Times New Roman,serif\" font-size=\"12.00\">PowBackward0</text>\r\n",
       "</g>\r\n",
       "<!-- 1608505361672&#45;&gt;1608505361416 -->\r\n",
       "<g id=\"edge1\" class=\"edge\">\r\n",
       "<title>1608505361672&#45;&gt;1608505361416</title>\r\n",
       "<path fill=\"none\" stroke=\"black\" d=\"M54.91,-56.92C62.55,-49.13 73.54,-37.94 82.69,-28.62\"/>\r\n",
       "<polygon fill=\"black\" stroke=\"black\" points=\"85.33,-30.93 89.84,-21.34 80.33,-26.02 85.33,-30.93\"/>\r\n",
       "</g>\r\n",
       "<!-- 1608505385288 -->\r\n",
       "<g id=\"node3\" class=\"node\">\r\n",
       "<title>1608505385288</title>\r\n",
       "<polygon fill=\"lightblue\" stroke=\"black\" points=\"126.5,-206 72.5,-206 72.5,-171 126.5,-171 126.5,-206\"/>\r\n",
       "<text text-anchor=\"middle\" x=\"99.5\" y=\"-178.4\" font-family=\"Times New Roman,serif\" font-size=\"12.00\"> (1)</text>\r\n",
       "</g>\r\n",
       "<!-- 1608505385288&#45;&gt;1608505361672 -->\r\n",
       "<g id=\"edge2\" class=\"edge\">\r\n",
       "<title>1608505385288&#45;&gt;1608505361672</title>\r\n",
       "<path fill=\"none\" stroke=\"black\" d=\"M91.99,-170.95C82.05,-149.04 64.54,-110.46 54.08,-87.42\"/>\r\n",
       "<polygon fill=\"black\" stroke=\"black\" points=\"57.27,-85.97 49.95,-78.31 50.9,-88.86 57.27,-85.97\"/>\r\n",
       "</g>\r\n",
       "<!-- 1608505385928 -->\r\n",
       "<g id=\"node5\" class=\"node\">\r\n",
       "<title>1608505385928</title>\r\n",
       "<polygon fill=\"lightgrey\" stroke=\"black\" points=\"190,-135 99,-135 99,-114 190,-114 190,-135\"/>\r\n",
       "<text text-anchor=\"middle\" x=\"144.5\" y=\"-121.4\" font-family=\"Times New Roman,serif\" font-size=\"12.00\">PowBackward0</text>\r\n",
       "</g>\r\n",
       "<!-- 1608505385288&#45;&gt;1608505385928 -->\r\n",
       "<g id=\"edge5\" class=\"edge\">\r\n",
       "<title>1608505385288&#45;&gt;1608505385928</title>\r\n",
       "<path fill=\"none\" stroke=\"black\" d=\"M111.56,-170.89C117.74,-162.37 125.28,-151.98 131.58,-143.3\"/>\r\n",
       "<polygon fill=\"black\" stroke=\"black\" points=\"134.55,-145.17 137.59,-135.02 128.89,-141.05 134.55,-145.17\"/>\r\n",
       "</g>\r\n",
       "<!-- 1608505361608 -->\r\n",
       "<g id=\"node4\" class=\"node\">\r\n",
       "<title>1608505361608</title>\r\n",
       "<polygon fill=\"lightgrey\" stroke=\"black\" points=\"197.5,-78 109.5,-78 109.5,-57 197.5,-57 197.5,-78\"/>\r\n",
       "<text text-anchor=\"middle\" x=\"153.5\" y=\"-64.4\" font-family=\"Times New Roman,serif\" font-size=\"12.00\">MulBackward0</text>\r\n",
       "</g>\r\n",
       "<!-- 1608505361608&#45;&gt;1608505361416 -->\r\n",
       "<g id=\"edge3\" class=\"edge\">\r\n",
       "<title>1608505361608&#45;&gt;1608505361416</title>\r\n",
       "<path fill=\"none\" stroke=\"black\" d=\"M144.09,-56.92C136.45,-49.13 125.46,-37.94 116.31,-28.62\"/>\r\n",
       "<polygon fill=\"black\" stroke=\"black\" points=\"118.67,-26.02 109.16,-21.34 113.67,-30.93 118.67,-26.02\"/>\r\n",
       "</g>\r\n",
       "<!-- 1608505385928&#45;&gt;1608505361608 -->\r\n",
       "<g id=\"edge4\" class=\"edge\">\r\n",
       "<title>1608505385928&#45;&gt;1608505361608</title>\r\n",
       "<path fill=\"none\" stroke=\"black\" d=\"M146.07,-113.92C147.22,-106.91 148.81,-97.14 150.23,-88.47\"/>\r\n",
       "<polygon fill=\"black\" stroke=\"black\" points=\"153.73,-88.77 151.89,-78.34 146.82,-87.64 153.73,-88.77\"/>\r\n",
       "</g>\r\n",
       "</g>\r\n",
       "</svg>\r\n"
      ],
      "text/plain": [
       "<graphviz.dot.Digraph at 0x17682640b08>"
      ]
     },
     "execution_count": 5,
     "metadata": {},
     "output_type": "execute_result"
    }
   ],
   "source": [
    "import os\n",
    "os.environ['PATH'] += os.pathsep + \"C:\\\\Program Files\\\\Graphviz 2.44.1\\\\bin\"\n",
    "\n",
    "import torch\n",
    "import torchviz\n",
    "import numpy as np\n",
    "\n",
    "x = torch.from_numpy(np.array([2.]))  # Creamos un tensor con un solo valor (2.0)\n",
    "x.requires_grad_(True)  # Especificamos que 'x' es una variable sobre la que queremos derivar\n",
    "\n",
    "y = x**2 + 3*x**3  # Creamos la expresión\n",
    "\n",
    "y.backward()  # Solicitamos a PyTorch que derive \n",
    "\n",
    "print(x.grad)  # Imprimimos la derivada o gradiente sobre 'x'\n",
    "\n",
    "torchviz.make_dot(y)"
   ]
  },
  {
   "cell_type": "markdown",
   "metadata": {},
   "source": [
    "Veamos qué significa esto:\n",
    "\n",
    "- **Cajas azules:** son los tensores que usamos como parámetros.\n",
    "- **Cajas grises:** operaciones relativas a la computación del gradiente o sus dependencias.\n",
    "- **Cajas verdes:** corresponde al punto de partida sobre el que se calcula el gradiente."
   ]
  },
  {
   "cell_type": "code",
   "execution_count": 6,
   "metadata": {},
   "outputs": [
    {
     "data": {
      "image/svg+xml": [
       "<?xml version=\"1.0\" encoding=\"UTF-8\" standalone=\"no\"?>\r\n",
       "<!DOCTYPE svg PUBLIC \"-//W3C//DTD SVG 1.1//EN\"\r\n",
       " \"http://www.w3.org/Graphics/SVG/1.1/DTD/svg11.dtd\">\r\n",
       "<!-- Generated by graphviz version 2.44.1 (20200629.0846)\r\n",
       " -->\r\n",
       "<!-- Pages: 1 -->\r\n",
       "<svg width=\"245pt\" height=\"271pt\"\r\n",
       " viewBox=\"0.00 0.00 244.50 271.00\" xmlns=\"http://www.w3.org/2000/svg\" xmlns:xlink=\"http://www.w3.org/1999/xlink\">\r\n",
       "<g id=\"graph0\" class=\"graph\" transform=\"scale(1 1) rotate(0) translate(4 267)\">\r\n",
       "<polygon fill=\"white\" stroke=\"transparent\" points=\"-4,4 -4,-267 240.5,-267 240.5,4 -4,4\"/>\r\n",
       "<!-- 1608505397960 -->\r\n",
       "<g id=\"node1\" class=\"node\">\r\n",
       "<title>1608505397960</title>\r\n",
       "<polygon fill=\"#caff70\" stroke=\"black\" points=\"236.5,-21 146.5,-21 146.5,0 236.5,0 236.5,-21\"/>\r\n",
       "<text text-anchor=\"middle\" x=\"191.5\" y=\"-7.4\" font-family=\"Times New Roman,serif\" font-size=\"12.00\">AddBackward0</text>\r\n",
       "</g>\r\n",
       "<!-- 1608505516744 -->\r\n",
       "<g id=\"node2\" class=\"node\">\r\n",
       "<title>1608505516744</title>\r\n",
       "<polygon fill=\"lightgrey\" stroke=\"black\" points=\"199.5,-78 109.5,-78 109.5,-57 199.5,-57 199.5,-78\"/>\r\n",
       "<text text-anchor=\"middle\" x=\"154.5\" y=\"-64.4\" font-family=\"Times New Roman,serif\" font-size=\"12.00\">AddBackward0</text>\r\n",
       "</g>\r\n",
       "<!-- 1608505516744&#45;&gt;1608505397960 -->\r\n",
       "<g id=\"edge1\" class=\"edge\">\r\n",
       "<title>1608505516744&#45;&gt;1608505397960</title>\r\n",
       "<path fill=\"none\" stroke=\"black\" d=\"M160.94,-56.92C165.98,-49.44 173.11,-38.83 179.23,-29.74\"/>\r\n",
       "<polygon fill=\"black\" stroke=\"black\" points=\"182.2,-31.59 184.88,-21.34 176.39,-27.68 182.2,-31.59\"/>\r\n",
       "</g>\r\n",
       "<!-- 1608505518280 -->\r\n",
       "<g id=\"node3\" class=\"node\">\r\n",
       "<title>1608505518280</title>\r\n",
       "<polygon fill=\"lightgrey\" stroke=\"black\" points=\"91.5,-135 3.5,-135 3.5,-114 91.5,-114 91.5,-135\"/>\r\n",
       "<text text-anchor=\"middle\" x=\"47.5\" y=\"-121.4\" font-family=\"Times New Roman,serif\" font-size=\"12.00\">MulBackward0</text>\r\n",
       "</g>\r\n",
       "<!-- 1608505518280&#45;&gt;1608505516744 -->\r\n",
       "<g id=\"edge2\" class=\"edge\">\r\n",
       "<title>1608505518280&#45;&gt;1608505516744</title>\r\n",
       "<path fill=\"none\" stroke=\"black\" d=\"M66.14,-113.92C82.84,-105.34 107.56,-92.63 126.61,-82.84\"/>\r\n",
       "<polygon fill=\"black\" stroke=\"black\" points=\"128.42,-85.84 135.72,-78.16 125.22,-79.61 128.42,-85.84\"/>\r\n",
       "</g>\r\n",
       "<!-- 1608505518472 -->\r\n",
       "<g id=\"node4\" class=\"node\">\r\n",
       "<title>1608505518472</title>\r\n",
       "<polygon fill=\"lightgrey\" stroke=\"black\" points=\"91,-192 0,-192 0,-171 91,-171 91,-192\"/>\r\n",
       "<text text-anchor=\"middle\" x=\"45.5\" y=\"-178.4\" font-family=\"Times New Roman,serif\" font-size=\"12.00\">PowBackward0</text>\r\n",
       "</g>\r\n",
       "<!-- 1608505518472&#45;&gt;1608505518280 -->\r\n",
       "<g id=\"edge3\" class=\"edge\">\r\n",
       "<title>1608505518472&#45;&gt;1608505518280</title>\r\n",
       "<path fill=\"none\" stroke=\"black\" d=\"M45.85,-170.92C46.1,-163.91 46.46,-154.14 46.77,-145.47\"/>\r\n",
       "<polygon fill=\"black\" stroke=\"black\" points=\"50.28,-145.46 47.14,-135.34 43.28,-145.21 50.28,-145.46\"/>\r\n",
       "</g>\r\n",
       "<!-- 1608505518664 -->\r\n",
       "<g id=\"node5\" class=\"node\">\r\n",
       "<title>1608505518664</title>\r\n",
       "<polygon fill=\"lightblue\" stroke=\"black\" points=\"72.5,-263 18.5,-263 18.5,-228 72.5,-228 72.5,-263\"/>\r\n",
       "<text text-anchor=\"middle\" x=\"45.5\" y=\"-235.4\" font-family=\"Times New Roman,serif\" font-size=\"12.00\"> (1)</text>\r\n",
       "</g>\r\n",
       "<!-- 1608505518664&#45;&gt;1608505518472 -->\r\n",
       "<g id=\"edge4\" class=\"edge\">\r\n",
       "<title>1608505518664&#45;&gt;1608505518472</title>\r\n",
       "<path fill=\"none\" stroke=\"black\" d=\"M45.5,-227.89C45.5,-219.99 45.5,-210.5 45.5,-202.25\"/>\r\n",
       "<polygon fill=\"black\" stroke=\"black\" points=\"49,-202.02 45.5,-192.02 42,-202.02 49,-202.02\"/>\r\n",
       "</g>\r\n",
       "<!-- 1608505518344 -->\r\n",
       "<g id=\"node6\" class=\"node\">\r\n",
       "<title>1608505518344</title>\r\n",
       "<polygon fill=\"lightgrey\" stroke=\"black\" points=\"198.5,-135 110.5,-135 110.5,-114 198.5,-114 198.5,-135\"/>\r\n",
       "<text text-anchor=\"middle\" x=\"154.5\" y=\"-121.4\" font-family=\"Times New Roman,serif\" font-size=\"12.00\">MulBackward0</text>\r\n",
       "</g>\r\n",
       "<!-- 1608505518344&#45;&gt;1608505516744 -->\r\n",
       "<g id=\"edge5\" class=\"edge\">\r\n",
       "<title>1608505518344&#45;&gt;1608505516744</title>\r\n",
       "<path fill=\"none\" stroke=\"black\" d=\"M154.5,-113.92C154.5,-106.91 154.5,-97.14 154.5,-88.47\"/>\r\n",
       "<polygon fill=\"black\" stroke=\"black\" points=\"158,-88.34 154.5,-78.34 151,-88.34 158,-88.34\"/>\r\n",
       "</g>\r\n",
       "<!-- 1608505518536 -->\r\n",
       "<g id=\"node7\" class=\"node\">\r\n",
       "<title>1608505518536</title>\r\n",
       "<polygon fill=\"lightgrey\" stroke=\"black\" points=\"200,-192 109,-192 109,-171 200,-171 200,-192\"/>\r\n",
       "<text text-anchor=\"middle\" x=\"154.5\" y=\"-178.4\" font-family=\"Times New Roman,serif\" font-size=\"12.00\">PowBackward0</text>\r\n",
       "</g>\r\n",
       "<!-- 1608505518536&#45;&gt;1608505518344 -->\r\n",
       "<g id=\"edge6\" class=\"edge\">\r\n",
       "<title>1608505518536&#45;&gt;1608505518344</title>\r\n",
       "<path fill=\"none\" stroke=\"black\" d=\"M154.5,-170.92C154.5,-163.91 154.5,-154.14 154.5,-145.47\"/>\r\n",
       "<polygon fill=\"black\" stroke=\"black\" points=\"158,-145.34 154.5,-135.34 151,-145.34 158,-145.34\"/>\r\n",
       "</g>\r\n",
       "<!-- 1608505518152 -->\r\n",
       "<g id=\"node8\" class=\"node\">\r\n",
       "<title>1608505518152</title>\r\n",
       "<polygon fill=\"lightblue\" stroke=\"black\" points=\"218.5,-263 164.5,-263 164.5,-228 218.5,-228 218.5,-263\"/>\r\n",
       "<text text-anchor=\"middle\" x=\"191.5\" y=\"-235.4\" font-family=\"Times New Roman,serif\" font-size=\"12.00\"> (1)</text>\r\n",
       "</g>\r\n",
       "<!-- 1608505518152&#45;&gt;1608505397960 -->\r\n",
       "<g id=\"edge8\" class=\"edge\">\r\n",
       "<title>1608505518152&#45;&gt;1608505397960</title>\r\n",
       "<path fill=\"none\" stroke=\"black\" d=\"M198.39,-227.81C202.2,-217.65 206.56,-204.3 208.5,-192 217.86,-132.73 219.17,-116.04 208.5,-57 206.89,-48.11 203.66,-38.7 200.44,-30.76\"/>\r\n",
       "<polygon fill=\"black\" stroke=\"black\" points=\"203.54,-29.11 196.35,-21.33 197.11,-31.89 203.54,-29.11\"/>\r\n",
       "</g>\r\n",
       "<!-- 1608505518152&#45;&gt;1608505518536 -->\r\n",
       "<g id=\"edge7\" class=\"edge\">\r\n",
       "<title>1608505518152&#45;&gt;1608505518536</title>\r\n",
       "<path fill=\"none\" stroke=\"black\" d=\"M181.58,-227.89C176.61,-219.55 170.57,-209.42 165.45,-200.85\"/>\r\n",
       "<polygon fill=\"black\" stroke=\"black\" points=\"168.31,-198.81 160.18,-192.02 162.3,-202.4 168.31,-198.81\"/>\r\n",
       "</g>\r\n",
       "</g>\r\n",
       "</svg>\r\n"
      ],
      "text/plain": [
       "<graphviz.dot.Digraph at 0x17682666748>"
      ]
     },
     "execution_count": 6,
     "metadata": {},
     "output_type": "execute_result"
    }
   ],
   "source": [
    "x = torch.from_numpy(np.array([2.]))\n",
    "y = torch.from_numpy(np.array([3.]))\n",
    "x.requires_grad_(True)\n",
    "y.requires_grad_(True)\n",
    "\n",
    "z = (4*x**2 + 2*y**3 + y)\n",
    "\n",
    "z.backward()\n",
    "\n",
    "torchviz.make_dot(z)"
   ]
  },
  {
   "cell_type": "code",
   "execution_count": 7,
   "metadata": {},
   "outputs": [
    {
     "name": "stdout",
     "output_type": "stream",
     "text": [
      "tensor([[ 4.,  6.],\n",
      "        [ 8., 10.],\n",
      "        [12., 14.]])\n"
     ]
    },
    {
     "data": {
      "image/svg+xml": [
       "<?xml version=\"1.0\" encoding=\"UTF-8\" standalone=\"no\"?>\r\n",
       "<!DOCTYPE svg PUBLIC \"-//W3C//DTD SVG 1.1//EN\"\r\n",
       " \"http://www.w3.org/Graphics/SVG/1.1/DTD/svg11.dtd\">\r\n",
       "<!-- Generated by graphviz version 2.44.1 (20200629.0846)\r\n",
       " -->\r\n",
       "<!-- Pages: 1 -->\r\n",
       "<svg width=\"99pt\" height=\"157pt\"\r\n",
       " viewBox=\"0.00 0.00 99.00 157.00\" xmlns=\"http://www.w3.org/2000/svg\" xmlns:xlink=\"http://www.w3.org/1999/xlink\">\r\n",
       "<g id=\"graph0\" class=\"graph\" transform=\"scale(1 1) rotate(0) translate(4 153)\">\r\n",
       "<polygon fill=\"white\" stroke=\"transparent\" points=\"-4,4 -4,-153 95,-153 95,4 -4,4\"/>\r\n",
       "<!-- 1610226471816 -->\r\n",
       "<g id=\"node1\" class=\"node\">\r\n",
       "<title>1610226471816</title>\r\n",
       "<polygon fill=\"#caff70\" stroke=\"black\" points=\"90.5,-21 0.5,-21 0.5,0 90.5,0 90.5,-21\"/>\r\n",
       "<text text-anchor=\"middle\" x=\"45.5\" y=\"-7.4\" font-family=\"Times New Roman,serif\" font-size=\"12.00\">SumBackward0</text>\r\n",
       "</g>\r\n",
       "<!-- 1608505341128 -->\r\n",
       "<g id=\"node2\" class=\"node\">\r\n",
       "<title>1608505341128</title>\r\n",
       "<polygon fill=\"lightgrey\" stroke=\"black\" points=\"91,-78 0,-78 0,-57 91,-57 91,-78\"/>\r\n",
       "<text text-anchor=\"middle\" x=\"45.5\" y=\"-64.4\" font-family=\"Times New Roman,serif\" font-size=\"12.00\">PowBackward0</text>\r\n",
       "</g>\r\n",
       "<!-- 1608505341128&#45;&gt;1610226471816 -->\r\n",
       "<g id=\"edge1\" class=\"edge\">\r\n",
       "<title>1608505341128&#45;&gt;1610226471816</title>\r\n",
       "<path fill=\"none\" stroke=\"black\" d=\"M45.5,-56.92C45.5,-49.91 45.5,-40.14 45.5,-31.47\"/>\r\n",
       "<polygon fill=\"black\" stroke=\"black\" points=\"49,-31.34 45.5,-21.34 42,-31.34 49,-31.34\"/>\r\n",
       "</g>\r\n",
       "<!-- 1608505518728 -->\r\n",
       "<g id=\"node3\" class=\"node\">\r\n",
       "<title>1608505518728</title>\r\n",
       "<polygon fill=\"lightblue\" stroke=\"black\" points=\"72.5,-149 18.5,-149 18.5,-114 72.5,-114 72.5,-149\"/>\r\n",
       "<text text-anchor=\"middle\" x=\"45.5\" y=\"-121.4\" font-family=\"Times New Roman,serif\" font-size=\"12.00\"> (3, 2)</text>\r\n",
       "</g>\r\n",
       "<!-- 1608505518728&#45;&gt;1608505341128 -->\r\n",
       "<g id=\"edge2\" class=\"edge\">\r\n",
       "<title>1608505518728&#45;&gt;1608505341128</title>\r\n",
       "<path fill=\"none\" stroke=\"black\" d=\"M45.5,-113.89C45.5,-105.99 45.5,-96.5 45.5,-88.25\"/>\r\n",
       "<polygon fill=\"black\" stroke=\"black\" points=\"49,-88.02 45.5,-78.02 42,-88.02 49,-88.02\"/>\r\n",
       "</g>\r\n",
       "</g>\r\n",
       "</svg>\r\n"
      ],
      "text/plain": [
       "<graphviz.dot.Digraph at 0x17682666688>"
      ]
     },
     "execution_count": 7,
     "metadata": {},
     "output_type": "execute_result"
    }
   ],
   "source": [
    "X = torch.from_numpy(np.array([[2,3],[4,5],[6,7]])).float()\n",
    "\n",
    "X.requires_grad_(True)\n",
    "\n",
    "Y = torch.sum(X**2)  # La potenciación actúa sobre cada elemento de la matriz\n",
    "\n",
    "Y.backward()\n",
    "\n",
    "print(X.grad)\n",
    "\n",
    "torchviz.make_dot(Y)"
   ]
  },
  {
   "cell_type": "markdown",
   "metadata": {},
   "source": [
    "#### Instalación en Windows.\n",
    "- Instalar GraphViz (graphviz-install-2.44.1-win64.exe)\n",
    "- ¿pip install graphviz\n",
    "- pip install torchviz?\n",
    "- Ejecuta en una terminal en modo administrador: dot -c"
   ]
  },
  {
   "cell_type": "code",
   "execution_count": null,
   "metadata": {},
   "outputs": [],
   "source": []
  }
 ],
 "metadata": {
  "kernelspec": {
   "display_name": "Python 3",
   "language": "python",
   "name": "python3"
  },
  "language_info": {
   "codemirror_mode": {
    "name": "ipython",
    "version": 3
   },
   "file_extension": ".py",
   "mimetype": "text/x-python",
   "name": "python",
   "nbconvert_exporter": "python",
   "pygments_lexer": "ipython3",
   "version": "3.7.6"
  }
 },
 "nbformat": 4,
 "nbformat_minor": 4
}
