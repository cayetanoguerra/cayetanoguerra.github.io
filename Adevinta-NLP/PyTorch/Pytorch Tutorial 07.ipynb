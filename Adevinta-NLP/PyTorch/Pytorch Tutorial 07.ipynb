{
 "cells": [
  {
   "cell_type": "markdown",
   "metadata": {},
   "source": [
    "<img src=\"../imgs/Adevinta-ULPGC-logo.jpg\" width=\"530px\" align=\"right\">"
   ]
  },
  {
   "cell_type": "markdown",
   "metadata": {},
   "source": [
    "# **Tutorial de Pytorch 7:  clasificador dataset MNIST**\n",
    "\n",
    "En este notebook debes crear un clasificador para el dataset MNIST. Este dataset está compuesto por imágenes de dígitos escritos a mano. Cada imagen tiene un tamaño de 28x28 píxeles y está etiquetada con el dígito que representa. El dataset se divide en dos partes: un conjunto de entrenamiento con 60.000 imágenes y un conjunto de test con 10.000 imágenes.\n"
   ]
  },
  {
   "cell_type": "code",
   "execution_count": 6,
   "metadata": {},
   "outputs": [
    {
     "name": "stdout",
     "output_type": "stream",
     "text": [
      "Máximo valor de la imagen: tensor(1.)\n",
      "Mínimo valor de la imagen: tensor(-1.)\n"
     ]
    }
   ],
   "source": [
    "import torch\n",
    "from torchvision import datasets, transforms\n",
    "from torch.utils.data import DataLoader\n",
    "\n",
    "# Definimos las transformaciones para normalizar los datos\n",
    "# Las imágenes originales están en escala de grises con valores entre 0.0 y 1.0\n",
    "transform = transforms.Compose([\n",
    "    transforms.ToTensor(),  # Convertimos imágenes a Tensores\n",
    "    transforms.Normalize((0.5,), (0.5,))  # Normalizamos con media 0.5 y desviación estándar 0.5\n",
    "])\n",
    "\n",
    "# Cargamos el dataset MNIST\n",
    "train_data = datasets.MNIST(root='./data', train=True, download=True, transform=transform)\n",
    "test_data = datasets.MNIST(root='./data', train=False, download=True, transform=transform)\n",
    "\n",
    "print(\"Máximo valor de la imagen:\", train_data[0][0].squeeze().max())\n",
    "print(\"Mínimo valor de la imagen:\",train_data[0][0].squeeze().min())\n",
    "\n",
    "# DataLoader para los conjuntos de entrenamiento y prueba\n",
    "train_loader = DataLoader(train_data, batch_size=64, shuffle=True)\n",
    "test_loader = DataLoader(test_data, batch_size=64, shuffle=False)\n"
   ]
  },
  {
   "cell_type": "markdown",
   "metadata": {},
   "source": [
    "La normalización de las imágenes se realiza restando la media y dividiendo por la desviación estándar.\n",
    "\n",
    "$$\n",
    "\\text{imagen} = \\frac{\\text{imagen} - \\text{media}}{\\text{desviación estándar}}\n",
    "$$\n",
    "\n",
    "Así que si los valores de las imágenes están entre 0 y 1, cuando el valor sea 0 (mínimo) se convertirá en -1 y cuando sea 1 (máximo) se convertirá en 1."
   ]
  },
  {
   "cell_type": "code",
   "execution_count": 10,
   "metadata": {},
   "outputs": [
    {
     "name": "stdout",
     "output_type": "stream",
     "text": [
      "1.0 -1.0\n",
      "1.0 0.0\n"
     ]
    },
    {
     "data": {
      "image/png": "[encoded data removed]",
      "text/plain": [
       "<Figure size 640x480 with 1 Axes>"
      ]
     },
     "metadata": {},
     "output_type": "display_data"
    }
   ],
   "source": [
    "# Vamos a visualizar una imagen del dataset\n",
    "import matplotlib.pyplot as plt\n",
    "import numpy as np\n",
    "\n",
    "# Obtenemos una imagen del dataset\n",
    "dataiter = iter(train_loader)\n",
    "images, labels = next(dataiter)\n",
    "\n",
    "# Convertimos la imagen a numpy y \"desaplanamos\"/redimensionamos si es necesario\n",
    "# Además, deshacemos la normalización aplicada previamente\n",
    "image = images[0].numpy().squeeze()  # Eliminamos dimensiones de tamaño 1\n",
    "\n",
    "print(image.max(), image.min())\n",
    "image = (image * 0.5) + 0.5  # Deshacemos la normalización\n",
    "print(image.max(), image.min())\n",
    "\n",
    "# Visualizamos la imagen\n",
    "plt.imshow(image, cmap='gray')\n",
    "plt.show()\n"
   ]
  },
  {
   "cell_type": "markdown",
   "metadata": {},
   "source": [
    "A partir de ahora trabajaremos con minilotes, no con el dataset completo. En este caso, el tamaño del minilote será de 64 imágenes."
   ]
  },
  {
   "cell_type": "code",
   "execution_count": 11,
   "metadata": {},
   "outputs": [
    {
     "name": "stdout",
     "output_type": "stream",
     "text": [
      "Tamaño del batch de imágenes: torch.Size([64, 1, 28, 28])\n",
      "Tamaño del batch de etiquetas: torch.Size([64])\n"
     ]
    }
   ],
   "source": [
    "for images, labels in train_loader:\n",
    "    print(\"Tamaño del batch de imágenes:\", images.shape)\n",
    "    print(\"Tamaño del batch de etiquetas:\", labels.shape)\n",
    "    break"
   ]
  },
  {
   "cell_type": "code",
   "execution_count": null,
   "metadata": {},
   "outputs": [],
   "source": []
  }
 ],
 "metadata": {
  "kernelspec": {
   "display_name": "env",
   "language": "python",
   "name": "python3"
  },
  "language_info": {
   "codemirror_mode": {
    "name": "ipython",
    "version": 3
   },
   "file_extension": ".py",
   "mimetype": "text/x-python",
   "name": "python",
   "nbconvert_exporter": "python",
   "pygments_lexer": "ipython3",
   "version": "3.10.7"
  }
 },
 "nbformat": 4,
 "nbformat_minor": 2
}
