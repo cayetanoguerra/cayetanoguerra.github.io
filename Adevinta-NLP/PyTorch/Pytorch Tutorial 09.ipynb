{
 "cells": [
  {
   "cell_type": "markdown",
   "metadata": {},
   "source": [
    "<img src=\"../imgs/Adevinta-ULPGC-logo.jpg\" width=\"530px\" align=\"right\">"
   ]
  },
  {
   "cell_type": "markdown",
   "metadata": {},
   "source": [
    "# **Tutorial de Pytorch 9:  clasificador de imágenes**\n",
    "\n",
    "Vamos a desarrollar un clasificador de imágenes utilizando una red neuronal convolutiva (CNN) en Pytorch que clasifique imágenes de correspondientes a diferentes estancias de una casas, en es caso: baños, cocinas, dormitorios, salones y comedores.\n"
   ]
  },
  {
   "cell_type": "markdown",
   "metadata": {},
   "source": [
    "Comenzamos importando las librerías necesarias y preparando las imágenes del dataset. Separaremos las imágenes en dos conjuntos: uno de entrenamiento (80%) y otro de validación (20%). Para ello, utilizaremos la librería `random_split` de Pytorch.\n"
   ]
  },
  {
   "cell_type": "code",
   "execution_count": 2,
   "metadata": {},
   "outputs": [],
   "source": [
    "import torch\n",
    "import torchvision\n",
    "import torchvision.transforms as transforms\n",
    "from torch.utils.data import DataLoader, random_split\n",
    "from torchvision.datasets import ImageFolder\n",
    "from torch import nn\n",
    "import torch.optim as optim\n",
    "\n",
    "# Transformaciones para las imágenes\n",
    "transform = transforms.Compose([\n",
    "    transforms.Resize((224, 224)),  # Redimensionar las imágenes a 224x224\n",
    "    transforms.ToTensor(),  # Convertir las imágenes a tensores\n",
    "    transforms.Normalize(mean=[0.485, 0.456, 0.406], std=[0.229, 0.224, 0.225])  # Normalizar\n",
    "])\n",
    "\n",
    "# Cargar el dataset completo\n",
    "full_dataset = ImageFolder(root='data/house_rooms', transform=transform)\n",
    "\n",
    "from torch.utils.data import random_split\n",
    "\n",
    "# Tamaños para entrenamiento y validación\n",
    "train_size = int(0.8 * len(full_dataset))\n",
    "val_size = len(full_dataset) - train_size\n",
    "\n",
    "# Dividir el dataset\n",
    "train_dataset, val_dataset = random_split(full_dataset, [train_size, val_size])"
   ]
  },
  {
   "cell_type": "markdown",
   "metadata": {},
   "source": [
    "Quizá te haya llamado la atención los valores que hemos puesto en la normalización de las imágenes. Estos valores son la media y la desviación estándar de las imágenes del dataset ImageNet, que es un dataset muy grande y muy utilizado en el mundo del deep learning. Estos valores son los que se suelen utilizar para normalizar imágenes en tareas de clasificación de imágenes."
   ]
  },
  {
   "cell_type": "code",
   "execution_count": 3,
   "metadata": {},
   "outputs": [],
   "source": [
    "train_loader = DataLoader(train_dataset, batch_size=32, shuffle=True)\n",
    "val_loader = DataLoader(val_dataset, batch_size=32)"
   ]
  },
  {
   "cell_type": "markdown",
   "metadata": {},
   "source": [
    "Para crear nuestro modelo no vamos a instanciar explícitamente cada capa de la red neuronal, sino que vamos a utilizar la clase `nn.Sequential` de Pytorch. Esta clase nos permite crear una red neuronal secuencial, es decir, una red neuronal en la que las capas se van aplicando una detrás de otra. En nuestro caso, vamos a crear una red neuronal con dos capas convolutivas, dos capas de pooling y dos capas completamente conectadas."
   ]
  },
  {
   "cell_type": "code",
   "execution_count": 17,
   "metadata": {},
   "outputs": [],
   "source": [
    "model = nn.Sequential(\n",
    "    nn.Conv2d(3, 16, 3, padding=1),  # Capa convolutiva\n",
    "    nn.ReLU(),\n",
    "    nn.MaxPool2d(2, 2),\n",
    "    nn.Conv2d(16, 32, 3, padding=1),  # Otra capa convolutiva\n",
    "    nn.ReLU(),\n",
    "    nn.MaxPool2d(2, 2),\n",
    "    nn.Flatten(),  # Aplanamos los tensores para la capa completamente conectada\n",
    "    nn.Linear(32 * 56 * 56, 512),  # Ajustamos el tamaño según el tamaño de la imagen después de las capas convolutivas y de pooling\n",
    "    nn.ReLU(),\n",
    "    nn.Linear(512, 5)  # 5 categorías\n",
    ")"
   ]
  },
  {
   "cell_type": "code",
   "execution_count": 18,
   "metadata": {},
   "outputs": [],
   "source": [
    "criterion = nn.CrossEntropyLoss()\n",
    "optimizer = optim.Adam(model.parameters(), lr=0.001)"
   ]
  },
  {
   "cell_type": "markdown",
   "metadata": {},
   "source": [
    "Creamos el bucle de entrenamiento y validación de la red neuronal. En cada iteración del bucle de entrenamiento, vamos a calcular el error de la red neuronal y vamos a actualizar los pesos de la red neuronal utilizando el algoritmo de optimización `Adam`. En cada iteración del bucle de validación, vamos a calcular el error y la precisión de la red neuronal en el conjunto de validación."
   ]
  },
  {
   "cell_type": "code",
   "execution_count": 19,
   "metadata": {},
   "outputs": [
    {
     "name": "stdout",
     "output_type": "stream",
     "text": [
      "Época 1, Pérdida de Entrenamiento: 2.22\n",
      "Época 1, Pérdida de Validación: 1.424\n",
      "Época 1, Precisión de Validación: 37.714%\n",
      "--------------------------------------------------\n",
      "Época 2, Pérdida de Entrenamiento: 1.297\n",
      "Época 2, Pérdida de Validación: 1.328\n",
      "Época 2, Precisión de Validación: 44.381%\n",
      "--------------------------------------------------\n",
      "Época 3, Pérdida de Entrenamiento: 0.778\n",
      "Época 3, Pérdida de Validación: 1.379\n",
      "Época 3, Precisión de Validación: 47.333%\n",
      "--------------------------------------------------\n",
      "Época 4, Pérdida de Entrenamiento: 0.188\n",
      "Época 4, Pérdida de Validación: 1.895\n",
      "Época 4, Precisión de Validación: 42.667%\n",
      "--------------------------------------------------\n",
      "Época 5, Pérdida de Entrenamiento: 0.062\n",
      "Época 5, Pérdida de Validación: 1.879\n",
      "Época 5, Precisión de Validación: 44.952%\n",
      "--------------------------------------------------\n"
     ]
    }
   ],
   "source": [
    "num_epochs = 5\n",
    "\n",
    "for epoch in range(num_epochs):\n",
    "    model.train()  # Ponemos el modelo en modo de entrenamiento\n",
    "    running_loss = 0.0\n",
    "    for images, labels in train_loader:\n",
    "        optimizer.zero_grad()\n",
    "        outputs = model(images)\n",
    "        loss = criterion(outputs, labels)\n",
    "        loss.backward()\n",
    "        optimizer.step()\n",
    "        \n",
    "        running_loss += loss.item()\n",
    "\n",
    "    print(f\"Época {epoch+1}, Pérdida de Entrenamiento: {round(running_loss/len(train_loader),3)}\")\n",
    "    \n",
    "    # Evaluación con el conjunto de validación\n",
    "    model.eval()  # Ponemos el modelo en modo de evaluación\n",
    "    val_loss = 0.0\n",
    "    correct = 0\n",
    "    total = 0\n",
    "    with torch.no_grad():  # Desactivamos el cálculo de gradientes para la evaluación\n",
    "        for images, labels in val_loader:\n",
    "            outputs = model(images)\n",
    "            loss = criterion(outputs, labels)\n",
    "            val_loss += loss.item()\n",
    "            _, predicted = torch.max(outputs.data, 1)\n",
    "            total += labels.size(0)\n",
    "            correct += (predicted == labels).sum().item()\n",
    "    \n",
    "    print(f\"Época {epoch+1}, Pérdida de Validación: {round(val_loss/len(val_loader),3)}\")\n",
    "    print(f\"Época {epoch+1}, Precisión de Validación: {round(100 * correct / total,3)}%\")\n",
    "    print(\"--------------------------------------------------\")\n"
   ]
  },
  {
   "cell_type": "markdown",
   "metadata": {},
   "source": []
  }
 ],
 "metadata": {
  "kernelspec": {
   "display_name": "env",
   "language": "python",
   "name": "python3"
  },
  "language_info": {
   "codemirror_mode": {
    "name": "ipython",
    "version": 3
   },
   "file_extension": ".py",
   "mimetype": "text/x-python",
   "name": "python",
   "nbconvert_exporter": "python",
   "pygments_lexer": "ipython3",
   "version": "3.10.7"
  }
 },
 "nbformat": 4,
 "nbformat_minor": 2
}
