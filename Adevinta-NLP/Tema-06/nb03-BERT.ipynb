{
 "cells": [
  {
   "cell_type": "markdown",
   "metadata": {},
   "source": [
    "<img src=\"../imgs/Adevinta-ULPGC-logo.jpg\" width=\"530px\" align=\"right\">"
   ]
  },
  {
   "cell_type": "markdown",
   "metadata": {},
   "source": [
    "# **Bidirectional Encoder Representations from Transformers (BERT)**"
   ]
  },
  {
   "cell_type": "markdown",
   "metadata": {},
   "source": [
    "## **BERT (Bidirectional Encoder Representations from Transformers)**\n",
    "\n",
    "https://arxiv.org/pdf/1810.04805.pdf\n",
    "\n",
    "\n",
    "Desarrollado por Google en 2018, marcó un hito significativo en el campo del NLP. Este modelo se basa en la arquitectura Transformer, introducida en 2017 por Vaswani et al., y es conocido por su capacidad de entender el contexto de las palabras en el texto de una manera más sofisticada que los modelos anteriores. A diferencia de los enfoques anteriores que procesaban el texto de manera secuencial (de izquierda a derecha o viceversa), BERT analiza el texto en ambas direcciones simultáneamente. Esta bidireccionalidad permite a BERT capturar el contexto completo de una palabra, mirando tanto el texto anterior como el siguiente. Esto lo hace particularmente eficaz para entender el significado y la intención detrás de las palabras en oraciones complejas.\n",
    "\n",
    "BERT se preentrena en un corpus masivo de texto no etiquetado y utiliza dos estrategias principales:\n",
    "\n",
    "- **Masked Language Model (MLM):** donde se ocultan aleatoriamente palabras del texto y el modelo aprende a predecirlas.\n",
    "\n",
    "- **Next Sentence Prediction (NSP):** donde el modelo aprende a predecir si una oración es la continuación lógica de otra.\n",
    "\n",
    "<div align=\"center\">\n",
    "    <img src=\"./imgs/BERT_MODEL.svg\" width=\"750px\">\n",
    "</div>\n",
    "\n",
    "### **1. Masked Language Model (MLM)**\n",
    "\n",
    "1. **Enmascaramiento de Tokens**:\n",
    "   - Alrededor del 15% de los tokens en cada secuencia de entrada se seleccionan al azar para ser enmascarados.\n",
    "   - Estos tokens seleccionados se reemplazan con un token especial `[MASK]`.\n",
    "\n",
    "2. **Diversificación en el Enmascaramiento**:\n",
    "   - No todos los tokens seleccionados se enmascaran de la misma manera:\n",
    "     - Un 80% de las veces, el token seleccionado se reemplaza realmente por `[MASK]`.\n",
    "     - Un 10% de las veces, no se utiliza el token `[MASK]` sino que se reemplaza con un token aleatorio.\n",
    "     - En el 10% restante, el token se deja sin cambios. Esto se hace con fines de evaluación para ver si el modelo aprende a confirmar la idoneidad de las palabras actuales en su contexto original.\n",
    "\n",
    "     Al diversificar el enmascaramiento, se asegura que el modelo no se sobreajuste a los tokens [MASK] y que aprenda a utilizar el contexto para predecir palabras, lo cual es más representativo de cómo se utilizará el modelo en aplicaciones del mundo real.\n",
    "\n",
    "     Al dejar algunos tokens seleccionados sin cambios, BERT aprende a predecir la idoneidad de las palabras actuales en su contexto original.\n",
    "\n",
    "     La sustitución con tokens aleatorios ayuda a que el modelo sea robusto frente a entradas inesperadas o ruidosas, mejorando su capacidad para manejar errores o variaciones en los datos de entrada.\n",
    "\n",
    "3. **Predicción de Tokens Enmascarados**:\n",
    "   - El objetivo del modelo durante el entrenamiento es predecir los tokens originales de aquellos que han sido enmascarados o alterados.\n",
    "   - Esto enseña a BERT a entender el contexto y la relación entre las palabras en una secuencia.\n",
    "\n",
    "### **2. Next Sentence Prediction (NSP)**\n",
    "\n",
    "1. **Entendimiento de Relaciones entre Oraciones**:\n",
    "   - NSP es una tarea de clasificación binaria para predecir si una oración B es la continuación lógica de una oración A.\n",
    "\n",
    "2. **Preparación de Datos de Entrenamiento**:\n",
    "   - Durante el preentrenamiento, se toman pares de oraciones de un corpus de texto.\n",
    "   - En aproximadamente el 50% de los casos, la oración B es de hecho la oración que sigue naturalmente a la oración A.\n",
    "   - En el otro 50%, la oración B es una oración aleatoria del corpus, no relacionada con la oración A.\n",
    "\n",
    "3. **Uso del Token `[CLS]`**:\n",
    "   - Para cada par de oraciones, el token `[CLS]` se añade al principio, y un token `[SEP]` se utiliza para separar las dos oraciones.\n",
    "   - El modelo utiliza la representación del token `[CLS]` para hacer la predicción.\n",
    "\n",
    "### Importancia del Preentrenamiento\n",
    "\n",
    "1. **Aprendizaje de Contexto y Relaciones**:\n",
    "   - MLM y NSP juntos enseñan a BERT a entender tanto el contexto a nivel de palabra (a través de MLM) como las relaciones entre oraciones completas (a través de NSP).\n",
    "\n",
    "\n",
    "2. **Aplicabilidad en Tareas de NLP**:\n",
    "   - Una vez preentrenado, BERT puede ser afinado con un conjunto de datos más pequeño para tareas específicas de NLP, como la clasificación de texto, la respuesta a preguntas y el reconocimiento de entidades nombradas.\n"
   ]
  },
  {
   "cell_type": "markdown",
   "metadata": {},
   "source": [
    "### **BERT - 🤗 Hugging Face**\n",
    "\n",
    "Vamos a crear un modelo BERT con la librería HuggingFace que nos permita utilizar modelos preentrenados y re-entrenarlos para las tareas que queramos. En este caso, vamos a realizar la clasificación de noticias en tres categorías: deportes, cultura y política."
   ]
  },
  {
   "cell_type": "markdown",
   "metadata": {},
   "source": [
    "#### **Modelo**"
   ]
  },
  {
   "cell_type": "code",
   "execution_count": 1,
   "metadata": {},
   "outputs": [
    {
     "data": {
      "application/vnd.jupyter.widget-view+json": {
       "model_id": "0a03d7c9c8e24ed889fd7c8c9ecac45c",
       "version_major": 2,
       "version_minor": 0
      },
      "text/plain": [
       "tokenizer_config.json:   0%|          | 0.00/49.0 [00:00<?, ?B/s]"
      ]
     },
     "metadata": {},
     "output_type": "display_data"
    },
    {
     "name": "stderr",
     "output_type": "stream",
     "text": [
      "Some weights of BertForSequenceClassification were not initialized from the model checkpoint at bert-base-multilingual-cased and are newly initialized: ['classifier.bias', 'classifier.weight']\n",
      "You should probably TRAIN this model on a down-stream task to be able to use it for predictions and inference.\n"
     ]
    }
   ],
   "source": [
    "from transformers import AutoTokenizer, AutoModelForSequenceClassification\n",
    "\n",
    "tokenizer = AutoTokenizer.from_pretrained('bert-base-multilingual-cased')\n",
    "\n",
    "model = AutoModelForSequenceClassification.from_pretrained(\"bert-base-multilingual-cased\", num_labels=3)"
   ]
  },
  {
   "cell_type": "markdown",
   "metadata": {},
   "source": [
    "Revisa el modelo que acabamos de crear. Comprueba que los elementos que lo componen y su estructura corresponden con lo que hemos visto en la teoría. ¿A qué corresponde el *pooler*?"
   ]
  },
  {
   "cell_type": "code",
   "execution_count": 2,
   "metadata": {},
   "outputs": [
    {
     "data": {
      "text/plain": [
       "BertForSequenceClassification(\n",
       "  (bert): BertModel(\n",
       "    (embeddings): BertEmbeddings(\n",
       "      (word_embeddings): Embedding(119547, 768, padding_idx=0)\n",
       "      (position_embeddings): Embedding(512, 768)\n",
       "      (token_type_embeddings): Embedding(2, 768)\n",
       "      (LayerNorm): LayerNorm((768,), eps=1e-12, elementwise_affine=True)\n",
       "      (dropout): Dropout(p=0.1, inplace=False)\n",
       "    )\n",
       "    (encoder): BertEncoder(\n",
       "      (layer): ModuleList(\n",
       "        (0-11): 12 x BertLayer(\n",
       "          (attention): BertAttention(\n",
       "            (self): BertSelfAttention(\n",
       "              (query): Linear(in_features=768, out_features=768, bias=True)\n",
       "              (key): Linear(in_features=768, out_features=768, bias=True)\n",
       "              (value): Linear(in_features=768, out_features=768, bias=True)\n",
       "              (dropout): Dropout(p=0.1, inplace=False)\n",
       "            )\n",
       "            (output): BertSelfOutput(\n",
       "              (dense): Linear(in_features=768, out_features=768, bias=True)\n",
       "              (LayerNorm): LayerNorm((768,), eps=1e-12, elementwise_affine=True)\n",
       "              (dropout): Dropout(p=0.1, inplace=False)\n",
       "            )\n",
       "          )\n",
       "          (intermediate): BertIntermediate(\n",
       "            (dense): Linear(in_features=768, out_features=3072, bias=True)\n",
       "            (intermediate_act_fn): GELUActivation()\n",
       "          )\n",
       "          (output): BertOutput(\n",
       "            (dense): Linear(in_features=3072, out_features=768, bias=True)\n",
       "            (LayerNorm): LayerNorm((768,), eps=1e-12, elementwise_affine=True)\n",
       "            (dropout): Dropout(p=0.1, inplace=False)\n",
       "          )\n",
       "        )\n",
       "      )\n",
       "    )\n",
       "    (pooler): BertPooler(\n",
       "      (dense): Linear(in_features=768, out_features=768, bias=True)\n",
       "      (activation): Tanh()\n",
       "    )\n",
       "  )\n",
       "  (dropout): Dropout(p=0.1, inplace=False)\n",
       "  (classifier): Linear(in_features=768, out_features=3, bias=True)\n",
       ")"
      ]
     },
     "execution_count": 2,
     "metadata": {},
     "output_type": "execute_result"
    }
   ],
   "source": [
    "model"
   ]
  },
  {
   "cell_type": "markdown",
   "metadata": {},
   "source": [
    "#### **BertPooler**\n",
    "\n",
    "El BertPooler es un componente específico diseñado para procesar la salida del token especial [CLS] al final de todas las capas o bloques *transformers*. El objetivo principal del BertPooler es condensar la información de toda la secuencia de entrada en una sola representación fija que puede ser utilizada para tareas de clasificación u otras tareas de nivel superior.\n",
    "\n",
    "La operación típica dentro del BertPooler es una transformación lineal seguida de una función de activación, generalmente una función tanh. En tareas de clasificación, como determinar el sentimiento de una reseña o clasificar un documento según su contenido, la salida del BertPooler se utiliza para hacer predicciones finales. La representación condensada proporciona una vista global del texto que es esencial para este tipo de tareas.\n"
   ]
  },
  {
   "cell_type": "markdown",
   "metadata": {},
   "source": [
    "#### **Tokenizador**\n",
    "\n",
    "El tokenizador de BERT es una herramienta crucial en la preparación de datos para el entrenamiento o la inferencia con el modelo BERT. El tokenizador devuelve un diccionario con los tokens codificados y las máscaras de atención necesarias para el modelo.\n",
    "\n",
    "- `input_ids`: los tokens codificados.\n",
    "- `token_type_ids`: identificador de tipo de token que se utiliza para distinguir entre las dos oraciones en la tarea de NSP.\n",
    "- `attention_mask`: máscara de atención que indica a BERT qué tokens deben ser atendidos y cuáles no. Es decir, qué tokens son reales y cuáles son relleno [PAD]."
   ]
  },
  {
   "cell_type": "code",
   "execution_count": 3,
   "metadata": {},
   "outputs": [
    {
     "name": "stdout",
     "output_type": "stream",
     "text": [
      "dict_keys(['input_ids', 'token_type_ids', 'attention_mask'])\n",
      "tensor([[31178,   117, 15127, 17835, 10124, 21610, 10112]])\n",
      "tensor([[0, 0, 0, 0, 0, 0, 0]])\n",
      "tensor([[1, 1, 1, 1, 1, 1, 1]])\n"
     ]
    }
   ],
   "source": [
    "result = tokenizer.encode_plus(\"Hello, my dog is cute\", add_special_tokens=False, return_tensors=\"pt\")\n",
    "\n",
    "print(result.keys())\n",
    "print(result['input_ids'])\n",
    "print(result['token_type_ids'])\n",
    "print(result['attention_mask'])"
   ]
  },
  {
   "cell_type": "code",
   "execution_count": 4,
   "metadata": {},
   "outputs": [
    {
     "name": "stdout",
     "output_type": "stream",
     "text": [
      "dict_keys(['input_ids', 'token_type_ids', 'attention_mask'])\n",
      "tensor([[  101, 31178,   117, 15127, 17835, 10124, 21610, 10112,   102]])\n",
      "tensor([[0, 0, 0, 0, 0, 0, 0, 0, 0]])\n",
      "tensor([[1, 1, 1, 1, 1, 1, 1, 1, 1]])\n"
     ]
    }
   ],
   "source": [
    "result = tokenizer.encode_plus(\"Hello, my dog is cute\", add_special_tokens=True, return_tensors=\"pt\")\n",
    "print(result.keys())\n",
    "print(result['input_ids'])\n",
    "print(result['token_type_ids'])\n",
    "print(result['attention_mask'])"
   ]
  },
  {
   "cell_type": "code",
   "execution_count": 4,
   "metadata": {},
   "outputs": [
    {
     "name": "stdout",
     "output_type": "stream",
     "text": [
      "[CLS] Hello, my dog is cute [SEP]\n"
     ]
    }
   ],
   "source": [
    "result = tokenizer.decode([101, 31178,   117, 15127, 17835, 10124, 21610, 10112, 102])\n",
    "print(result)"
   ]
  },
  {
   "cell_type": "code",
   "execution_count": 6,
   "metadata": {},
   "outputs": [
    {
     "name": "stdout",
     "output_type": "stream",
     "text": [
      "dict_keys(['input_ids', 'token_type_ids', 'attention_mask'])\n",
      "tensor([[  101, 31178,   117, 15127, 17835, 10124, 21610, 10112,   119,   102,\n",
      "         12689, 15127, 41163, 16683,   119,   102]])\n",
      "tensor([[0, 0, 0, 0, 0, 0, 0, 0, 0, 0, 1, 1, 1, 1, 1, 1]])\n",
      "tensor([[1, 1, 1, 1, 1, 1, 1, 1, 1, 1, 1, 1, 1, 1, 1, 1]])\n"
     ]
    }
   ],
   "source": [
    "result = tokenizer.encode_plus(\"Hello, my dog is cute.\",\"And my cat too.\", add_special_tokens=True, return_tensors=\"pt\")\n",
    "print(result.keys())\n",
    "print(result['input_ids'])\n",
    "print(result['token_type_ids'])\n",
    "print(result['attention_mask'])"
   ]
  },
  {
   "cell_type": "code",
   "execution_count": 9,
   "metadata": {},
   "outputs": [
    {
     "name": "stdout",
     "output_type": "stream",
     "text": [
      "[CLS] Hello, my dog is cute. [SEP] And my cat too. [SEP]\n"
     ]
    }
   ],
   "source": [
    "result = tokenizer.decode([101, 31178,   117, 15127, 17835, 10124, 21610, 10112,   119,   102,\n",
    "         12689, 15127, 41163, 16683,   119,   102])\n",
    "print(result)"
   ]
  },
  {
   "cell_type": "code",
   "execution_count": 6,
   "metadata": {},
   "outputs": [],
   "source": [
    "import torch\n",
    "from torch.utils.data import Dataset\n",
    "\n",
    "class TextClassificationDataset(Dataset):\n",
    "    def __init__(self, filename, tokenizer, max_length=256):\n",
    "        self.tokenizer = tokenizer\n",
    "        self.sentences = []\n",
    "        self.labels = []\n",
    "        self.max_length = max_length\n",
    "\n",
    "        with open(filename, 'r', encoding='utf-8') as file:\n",
    "            for line in file:\n",
    "                start = line.find('\"')\n",
    "                end = line.find('\"', start + 1)\n",
    "                sentence = line[start + 1:end].strip()\n",
    "                label = int(line[end + 1:].strip()[-1])\n",
    "\n",
    "                # Crear los tokens para alimentar a BERT de HuggingFace\n",
    "                tokens = self.tokenizer.encode_plus(sentence, add_special_tokens=True, max_length=self.max_length, truncation=True, padding='max_length', return_tensors='pt')\n",
    "                self.sentences.append(tokens)\n",
    "                self.labels.append(label)\n",
    "\n",
    "    def __len__(self):\n",
    "        return len(self.sentences)\n",
    "\n",
    "    def __getitem__(self, idx):\n",
    "        item = {key: val for key, val in self.sentences[idx].items()}\n",
    "        item['labels'] = torch.tensor(self.labels[idx])\n",
    "        item['input_ids'] = item['input_ids'].squeeze()\n",
    "        item['attention_mask'] = item['attention_mask'].squeeze()\n",
    "        item['token_type_ids'] = item['token_type_ids'].squeeze()\n",
    "        \n",
    "        return item\n",
    "            \n",
    "\n",
    "# Creamos el conjunto de datos\n",
    "dataset = TextClassificationDataset('data/dataset_clas_texto.txt', tokenizer)\n",
    "\n",
    "# Separamos el conjunto de datos en entrenamiento y validación\n",
    "train_size = int(0.8 * len(dataset))\n",
    "val_size = len(dataset) - train_size\n",
    "train_dataset, val_dataset = torch.utils.data.random_split(dataset, [train_size, val_size])"
   ]
  },
  {
   "cell_type": "markdown",
   "metadata": {},
   "source": [
    "#### **Entrenamiento**\n",
    "\n",
    "Usaremos el objeto *Trainer* de la librería *transformers* para entrenar nuestro modelo. Para ello, necesitamos el modelo, el tokenizador, los datos de entrenamiento y los datos de validación. Todos los parámetros que necesitamos para el entrenamiento están definidos en el objeto *TrainingArguments*."
   ]
  },
  {
   "cell_type": "code",
   "execution_count": 7,
   "metadata": {},
   "outputs": [],
   "source": [
    "from transformers import Trainer, TrainingArguments\n",
    "\n",
    "training_args = TrainingArguments(\n",
    "    output_dir=\"test_trainer\",\n",
    "    num_train_epochs=3,\n",
    "    logging_steps=1,\n",
    "    logging_strategy='steps'\n",
    ")\n",
    "\n",
    "trainer = Trainer(\n",
    "    model=model,\n",
    "    tokenizer=tokenizer,\n",
    "    args=training_args,\n",
    "    train_dataset=train_dataset,\n",
    "    eval_dataset=val_dataset\n",
    ")"
   ]
  },
  {
   "cell_type": "code",
   "execution_count": 8,
   "metadata": {},
   "outputs": [
    {
     "name": "stderr",
     "output_type": "stream",
     "text": [
      "huggingface/tokenizers: The current process just got forked, after parallelism has already been used. Disabling parallelism to avoid deadlocks...\n",
      "To disable this warning, you can either:\n",
      "\t- Avoid using `tokenizers` before the fork if possible\n",
      "\t- Explicitly set the environment variable TOKENIZERS_PARALLELISM=(true | false)\n"
     ]
    },
    {
     "data": {
      "application/vnd.jupyter.widget-view+json": {
       "model_id": "3c306705b9bf425899034ed090e173e2",
       "version_major": 2,
       "version_minor": 0
      },
      "text/plain": [
       "  0%|          | 0/30 [00:00<?, ?it/s]"
      ]
     },
     "metadata": {},
     "output_type": "display_data"
    },
    {
     "name": "stderr",
     "output_type": "stream",
     "text": [
      "You're using a BertTokenizerFast tokenizer. Please note that with a fast tokenizer, using the `__call__` method is faster than using a method to encode the text followed by a call to the `pad` method to get a padded encoding.\n"
     ]
    },
    {
     "name": "stdout",
     "output_type": "stream",
     "text": [
      "{'loss': 1.1429, 'learning_rate': 4.8333333333333334e-05, 'epoch': 0.1}\n",
      "{'loss': 1.0467, 'learning_rate': 4.666666666666667e-05, 'epoch': 0.2}\n",
      "{'loss': 0.7933, 'learning_rate': 4.5e-05, 'epoch': 0.3}\n",
      "{'loss': 1.2766, 'learning_rate': 4.3333333333333334e-05, 'epoch': 0.4}\n",
      "{'loss': 0.9082, 'learning_rate': 4.166666666666667e-05, 'epoch': 0.5}\n",
      "{'loss': 0.641, 'learning_rate': 4e-05, 'epoch': 0.6}\n",
      "{'loss': 0.5573, 'learning_rate': 3.8333333333333334e-05, 'epoch': 0.7}\n",
      "{'loss': 0.4203, 'learning_rate': 3.6666666666666666e-05, 'epoch': 0.8}\n",
      "{'loss': 0.4596, 'learning_rate': 3.5e-05, 'epoch': 0.9}\n",
      "{'loss': 0.4265, 'learning_rate': 3.3333333333333335e-05, 'epoch': 1.0}\n",
      "{'loss': 0.3439, 'learning_rate': 3.1666666666666666e-05, 'epoch': 1.1}\n",
      "{'loss': 0.3159, 'learning_rate': 3e-05, 'epoch': 1.2}\n",
      "{'loss': 0.1833, 'learning_rate': 2.8333333333333335e-05, 'epoch': 1.3}\n",
      "{'loss': 0.1578, 'learning_rate': 2.6666666666666667e-05, 'epoch': 1.4}\n",
      "{'loss': 0.3174, 'learning_rate': 2.5e-05, 'epoch': 1.5}\n",
      "{'loss': 0.1195, 'learning_rate': 2.3333333333333336e-05, 'epoch': 1.6}\n",
      "{'loss': 0.1169, 'learning_rate': 2.1666666666666667e-05, 'epoch': 1.7}\n",
      "{'loss': 0.0985, 'learning_rate': 2e-05, 'epoch': 1.8}\n",
      "{'loss': 0.1015, 'learning_rate': 1.8333333333333333e-05, 'epoch': 1.9}\n",
      "{'loss': 0.0841, 'learning_rate': 1.6666666666666667e-05, 'epoch': 2.0}\n",
      "{'loss': 0.0716, 'learning_rate': 1.5e-05, 'epoch': 2.1}\n",
      "{'loss': 0.0569, 'learning_rate': 1.3333333333333333e-05, 'epoch': 2.2}\n",
      "{'loss': 0.0653, 'learning_rate': 1.1666666666666668e-05, 'epoch': 2.3}\n",
      "{'loss': 0.0501, 'learning_rate': 1e-05, 'epoch': 2.4}\n",
      "{'loss': 0.0442, 'learning_rate': 8.333333333333334e-06, 'epoch': 2.5}\n",
      "{'loss': 0.0476, 'learning_rate': 6.666666666666667e-06, 'epoch': 2.6}\n",
      "{'loss': 0.0427, 'learning_rate': 5e-06, 'epoch': 2.7}\n",
      "{'loss': 0.0418, 'learning_rate': 3.3333333333333333e-06, 'epoch': 2.8}\n",
      "{'loss': 0.037, 'learning_rate': 1.6666666666666667e-06, 'epoch': 2.9}\n",
      "{'loss': 0.0391, 'learning_rate': 0.0, 'epoch': 3.0}\n",
      "{'train_runtime': 22.9298, 'train_samples_per_second': 10.467, 'train_steps_per_second': 1.308, 'train_loss': 0.33358038067817686, 'epoch': 3.0}\n"
     ]
    },
    {
     "data": {
      "text/plain": [
       "TrainOutput(global_step=30, training_loss=0.33358038067817686, metrics={'train_runtime': 22.9298, 'train_samples_per_second': 10.467, 'train_steps_per_second': 1.308, 'train_loss': 0.33358038067817686, 'epoch': 3.0})"
      ]
     },
     "execution_count": 8,
     "metadata": {},
     "output_type": "execute_result"
    }
   ],
   "source": [
    "trainer.train()"
   ]
  },
  {
   "cell_type": "code",
   "execution_count": 9,
   "metadata": {},
   "outputs": [
    {
     "data": {
      "image/png": "[encoded data removed]",
      "text/plain": [
       "<Figure size 640x480 with 1 Axes>"
      ]
     },
     "metadata": {},
     "output_type": "display_data"
    }
   ],
   "source": [
    "import os\n",
    "import matplotlib.pyplot as plt\n",
    "import json\n",
    "\n",
    "def plot_training_loss(log_dir):\n",
    "    history = trainer.state.log_history\n",
    "    training_loss = [log['loss'] for log in history if 'loss' in log]\n",
    "\n",
    "    plt.plot(training_loss, label='Training Loss')\n",
    "    plt.xlabel('Steps')\n",
    "    plt.ylabel('Loss')\n",
    "    plt.title('Training Loss Over Time')\n",
    "    plt.legend()\n",
    "    plt.show()\n",
    "\n",
    "plot_training_loss('./logs')"
   ]
  },
  {
   "cell_type": "markdown",
   "metadata": {},
   "source": [
    "#### **Inferencia**\n",
    "\n",
    "Vamos a probar nuestro modelo con algunas noticias de ejemplo."
   ]
  },
  {
   "cell_type": "code",
   "execution_count": 10,
   "metadata": {},
   "outputs": [],
   "source": [
    "sentences = []\n",
    "labels = []\n",
    "\n",
    "with open('data/dataset_clas_texto_test.txt', 'r', encoding='utf-8') as file:\n",
    "            for line in file:\n",
    "                start = line.find('\"')\n",
    "                end = line.find('\"', start + 1)\n",
    "                sentence = line[start + 1:end].strip()\n",
    "                label = int(line[end + 1:].strip()[-1])\n",
    "                sentences.append(sentence)\n",
    "                labels.append(label)                "
   ]
  },
  {
   "cell_type": "code",
   "execution_count": 11,
   "metadata": {},
   "outputs": [],
   "source": [
    "clases = {\n",
    "    0: 'Deportes',\n",
    "    1: 'Cultura',\n",
    "    2: 'Política'\n",
    "}\n",
    "\n",
    "device = torch.device(\"cpu\")\n",
    "model = model.to(device)"
   ]
  },
  {
   "cell_type": "code",
   "execution_count": 12,
   "metadata": {},
   "outputs": [
    {
     "name": "stdout",
     "output_type": "stream",
     "text": [
      "La selección de fútbol sub-21 se corona campeona en el torneo europeo juvenil. -> Deportes, Deportes\n",
      "Gran inauguración de la exposición de arte contemporáneo dedicada a los nuevos talentos iberoamericanos. -> Cultura, Cultura\n",
      "El congreso debate una nueva ley de reforma educativa centrada en la tecnología y la innovación. -> Política, Política\n",
      "La ciclista nacional se lleva el oro en el campeonato mundial de ciclismo en pista. -> Deportes, Deportes\n",
      "El festival de teatro de calle este año se enfoca en obras que exploran temas de sostenibilidad. -> Cultura, Cultura\n",
      "El gobierno lanza un plan de ayuda económica para el sector de las artes afectado por la pandemia. -> Política, Política\n",
      "El equipo de baloncesto universitario gana el campeonato nacional después de una temporada invicta. -> Deportes, Deportes\n",
      "Se inaugura el festival anual de cine documental, con énfasis en temas ambientales y sociales. -> Cultura, Cultura\n",
      "Anuncian nuevos subsidios para proyectos de investigación en energías limpias. -> Política, Política\n",
      "El joven boxeador gana el título mundial en su categoría con una victoria por K.O. -> Deportes, Deportes\n",
      "La nueva exposición en el museo de historia natural explora la biodiversidad del Amazonas. -> Cultura, Cultura\n",
      "Aprueban una nueva legislación para fortalecer la privacidad y seguridad en internet. -> Política, Política\n",
      "El equipo de rugby femenino celebra su primera victoria en el torneo internacional. -> Deportes, Deportes\n",
      "Anuncian los ganadores del premio nacional de literatura, con una notable diversidad de géneros. -> Cultura, Cultura\n",
      "El parlamento discute una nueva reforma en el sistema de salud pública. -> Política, Política\n",
      "El nadador establece un nuevo récord nacional en los 200 metros estilo espalda. -> Deportes, Deportes\n",
      "Se celebra el 50º aniversario de la orquesta sinfónica nacional con un concierto especial. -> Cultura, Cultura\n",
      "El gobierno introduce un nuevo plan de becas para estudiantes en áreas de ciencia y tecnología. -> Política, Política\n",
      "Victoria sorpresiva del equipo de hockey sobre césped en el campeonato internacional. -> Deportes, Deportes\n",
      "El festival de música barroca de este año incluye una serie de masterclasses y conferencias. -> Cultura, Cultura\n",
      "--------------------------------------------------\n",
      "Aciertos: 20, Total: 20, Accuracy: 1.0\n"
     ]
    }
   ],
   "source": [
    "aciertos = 0\n",
    "for sentence, label in zip(sentences, labels):\n",
    "    tokens = tokenizer.encode_plus(sentence, add_special_tokens=True, max_length=256, truncation=True, padding='max_length', return_tensors='pt')\n",
    "    tokens.to(device)\n",
    "    outputs = model(**tokens)\n",
    "    y_pred = torch.argmax(outputs.logits).item()\n",
    "    y = label\n",
    "    if y_pred == y:\n",
    "        aciertos += 1\n",
    "    print(f\"{sentence} -> {clases[y]}, {clases[y_pred]}\")\n",
    "\n",
    "print(\"-\"*50)  \n",
    "print(f\"Aciertos: {aciertos}, Total: {len(sentences)}, Accuracy: {aciertos / len(sentences)}\")"
   ]
  },
  {
   "cell_type": "markdown",
   "metadata": {},
   "source": [
    "---\n",
    "\n",
    "### Ejercicio 1\n",
    "\n",
    "Utiliza el dataset AG_NEWS que contiene noticias de diferentes categorías. Entrena un modelo BERT para clasificar las noticias en las categorías de deportes, cultura y política. Utiliza el modelo preentrenado `bert-base-uncased` y ajusta los hiperparámetros del modelo para obtener el mejor rendimiento posible.\n",
    "\n",
    "---"
   ]
  },
  {
   "cell_type": "markdown",
   "metadata": {},
   "source": [
    "## **DistilBERT**\n",
    "\n",
    "**DistilBERT** es una versión más ligera y optimizada de BERT diseñada para ser más rápida y consumir menos recursos, facilitando su implementación en entornos con restricciones computacionales, como dispositivos móviles o en aplicaciones que requieren tiempos de respuesta rápidos. Fue desarrollado por Hugging Face.\n",
    "\n",
    "### **Principales Características de DistilBERT:**\n",
    "\n",
    "1. **Reducción del Tamaño**: DistilBERT es un modelo más pequeño comparado con los modelos BERT originales. Por ejemplo, DistilBERT tiene aproximadamente un 40% menos de parámetros que BERT base y corre aproximadamente un 60% más rápido, lo que significa que utiliza menos memoria y potencia de computación.\n",
    "\n",
    "2. **Proceso de Destilación**: La principal técnica detrás de DistilBERT es la \"destilación de conocimiento\", un método de transferencia de conocimiento de un modelo grande y potente (un \"maestro\") a un modelo más pequeño (un \"estudiante\"). Durante el entrenamiento, el modelo DistilBERT (estudiante) aprende a imitar el comportamiento del modelo BERT completo (maestro) tratando de reproducir sus salidas en un conjunto de entrenamiento.\n",
    "\n",
    "3. **Mantenimiento del Rendimiento**: A pesar de su tamaño reducido, DistilBERT logra retener una gran parte del rendimiento de BERT. Por ejemplo, en tareas de comprensión de texto y clasificación, DistilBERT puede alcanzar hasta el 97% de la eficacia del BERT base, lo que lo hace muy efectivo dada la reducción en tamaño y complejidad."
   ]
  },
  {
   "cell_type": "markdown",
   "metadata": {},
   "source": [
    "#### **Ejemplo**\n",
    "\n",
    "DistilBERT, al igual que BERT y otros modelos de transformers, está disponible a través de la biblioteca de Hugging Face Transformers, lo que facilita su uso. Vamos a ver cómo cargar y utilizar DistilBERT para una tarea de clasificación de sentimientos:"
   ]
  },
  {
   "cell_type": "code",
   "execution_count": 12,
   "metadata": {},
   "outputs": [
    {
     "data": {
      "application/vnd.jupyter.widget-view+json": {
       "model_id": "caf4540659c3462dab1ea4d24dbe0207",
       "version_major": 2,
       "version_minor": 0
      },
      "text/plain": [
       "tokenizer_config.json:   0%|          | 0.00/29.0 [00:00<?, ?B/s]"
      ]
     },
     "metadata": {},
     "output_type": "display_data"
    },
    {
     "data": {
      "application/vnd.jupyter.widget-view+json": {
       "model_id": "dad8b17dbe9144a7b5aa0a0172a93ba0",
       "version_major": 2,
       "version_minor": 0
      },
      "text/plain": [
       "vocab.txt:   0%|          | 0.00/996k [00:00<?, ?B/s]"
      ]
     },
     "metadata": {},
     "output_type": "display_data"
    },
    {
     "data": {
      "application/vnd.jupyter.widget-view+json": {
       "model_id": "cf4f2b444d4a43b6aff3bd56c5e8ae9e",
       "version_major": 2,
       "version_minor": 0
      },
      "text/plain": [
       "tokenizer.json:   0%|          | 0.00/1.96M [00:00<?, ?B/s]"
      ]
     },
     "metadata": {},
     "output_type": "display_data"
    },
    {
     "data": {
      "application/vnd.jupyter.widget-view+json": {
       "model_id": "91f465bb10ca44da8d714906833b2778",
       "version_major": 2,
       "version_minor": 0
      },
      "text/plain": [
       "config.json:   0%|          | 0.00/466 [00:00<?, ?B/s]"
      ]
     },
     "metadata": {},
     "output_type": "display_data"
    },
    {
     "data": {
      "application/vnd.jupyter.widget-view+json": {
       "model_id": "f624e90836864c7585053483552f0114",
       "version_major": 2,
       "version_minor": 0
      },
      "text/plain": [
       "model.safetensors:   0%|          | 0.00/542M [00:00<?, ?B/s]"
      ]
     },
     "metadata": {},
     "output_type": "display_data"
    },
    {
     "name": "stderr",
     "output_type": "stream",
     "text": [
      "Some weights of DistilBertForSequenceClassification were not initialized from the model checkpoint at distilbert-base-multilingual-cased and are newly initialized: ['classifier.bias', 'classifier.weight', 'pre_classifier.bias', 'pre_classifier.weight']\n",
      "You should probably TRAIN this model on a down-stream task to be able to use it for predictions and inference.\n"
     ]
    },
    {
     "name": "stdout",
     "output_type": "stream",
     "text": [
      "[{'label': 'LABEL_0', 'score': 0.5096655488014221}]\n"
     ]
    }
   ],
   "source": [
    "from transformers import DistilBertTokenizer, DistilBertForSequenceClassification\n",
    "from transformers import pipeline\n",
    "\n",
    "# Cargar el tokenizer y el modelo\n",
    "tokenizer = DistilBertTokenizer.from_pretrained('distilbert-base-multilingual-cased')\n",
    "model = DistilBertForSequenceClassification.from_pretrained('distilbert-base-multilingual-cased')\n",
    "\n",
    "# Crear un pipeline de clasificación\n",
    "nlp = pipeline(\"sentiment-analysis\", model=model, tokenizer=tokenizer)\n",
    "\n",
    "# Usar el modelo para hacer predicciones\n",
    "result = nlp(\"Me encanta recibir clases de NLP\")\n",
    "print(result)"
   ]
  },
  {
   "cell_type": "markdown",
   "metadata": {},
   "source": [
    "Parece no funcionar bien. ¿Por qué dice: *\"Some weights of DistilBertForSequenceClassification were not initialized from the model checkpoint at distilbert-base-multilingual-cased and are newly initialized: ['classifier.bias', 'classifier.weight', 'pre_classifier.bias', 'pre_classifier.weight']\n",
    "You should probably TRAIN this model on a down-stream task to be able to use it for predictions and inference.\"*?"
   ]
  },
  {
   "cell_type": "markdown",
   "metadata": {},
   "source": [
    "---\n",
    "### Ejercicio 2\n",
    "\n",
    "Utiliza **DistilBERT** para clasificar las noticias del dataset AG_NEWS como en el ejercicio anterior. Ajusta los hiperparámetros del modelo para obtener el mejor rendimiento posible. Compara los resultados con BERT.\n",
    "\n",
    "---"
   ]
  },
  {
   "cell_type": "markdown",
   "metadata": {},
   "source": []
  }
 ],
 "metadata": {
  "kernelspec": {
   "display_name": "Python 3",
   "language": "python",
   "name": "python3"
  },
  "language_info": {
   "codemirror_mode": {
    "name": "ipython",
    "version": 3
   },
   "file_extension": ".py",
   "mimetype": "text/x-python",
   "name": "python",
   "nbconvert_exporter": "python",
   "pygments_lexer": "ipython3",
   "version": "3.10.7"
  }
 },
 "nbformat": 4,
 "nbformat_minor": 2
}
