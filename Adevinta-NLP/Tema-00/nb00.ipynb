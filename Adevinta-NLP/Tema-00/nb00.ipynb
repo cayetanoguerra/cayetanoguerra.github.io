{
 "cells": [
  {
   "cell_type": "markdown",
   "metadata": {},
   "source": [
    "<img src=\"../imgs/Adevinta-ULPGC-logo.jpg\" width=\"530px\" align=\"right\">"
   ]
  },
  {
   "cell_type": "markdown",
   "metadata": {},
   "source": [
    "# **NOTEBOOK 0**"
   ]
  },
  {
   "cell_type": "markdown",
   "metadata": {},
   "source": [
    "## **Generadores: `yield`**\n",
    "\n",
    "La declaración `yield` en Python es un componente esencial de los generadores, proporcionando una manera elegante y eficiente de crear iteradores sin la necesidad de implementar los métodos __iter__() y __next__() manualmente. `yield` permite a la función generar una secuencia de valores a lo largo del tiempo, pausando su ejecución entre cada valor, lo cual es útil para trabajar con secuencias de datos grandes sin necesidad de almacenar toda la secuencia en memoria a la vez.\n",
    "\n",
    "#### **¿Qué es un Generador?**\n",
    "Un generador es un tipo especial de iterador. La principal diferencia entre un generador y una función normal es que un generador produce una secuencia de resultados para el código que lo llama, en lugar de un único valor. Esto se logra mediante el uso de `yield` en lugar de `return`.\n",
    "\n",
    "Cuando una función contiene al menos una declaración `yield`, se convierte en un generador. Por ejemplo:"
   ]
  },
  {
   "cell_type": "code",
   "execution_count": 7,
   "metadata": {},
   "outputs": [],
   "source": [
    "def contador(max):\n",
    "    n = 0\n",
    "    while n < max:\n",
    "        yield n\n",
    "        n += 1"
   ]
  },
  {
   "cell_type": "markdown",
   "metadata": {},
   "source": [
    "Cuando llamas a contador, no ejecuta su cuerpo inmediatamente. En su lugar, devuelve un objeto generador:"
   ]
  },
  {
   "cell_type": "code",
   "execution_count": 8,
   "metadata": {},
   "outputs": [],
   "source": [
    "gen = contador(3)"
   ]
  },
  {
   "cell_type": "markdown",
   "metadata": {},
   "source": [
    "Para obtener valores del generador, puedes usar el método `next()` o un bucle for:"
   ]
  },
  {
   "cell_type": "code",
   "execution_count": 9,
   "metadata": {},
   "outputs": [
    {
     "name": "stdout",
     "output_type": "stream",
     "text": [
      "0\n",
      "1\n",
      "2\n"
     ]
    }
   ],
   "source": [
    "print(next(gen))  # Salida: 0\n",
    "print(next(gen))  # Salida: 1\n",
    "print(next(gen))  # Salida: 2\n",
    "# La siguiente llamada a next(gen) lanzaría StopIteration, indicando que no hay más valores.\n"
   ]
  },
  {
   "cell_type": "code",
   "execution_count": 10,
   "metadata": {},
   "outputs": [
    {
     "name": "stdout",
     "output_type": "stream",
     "text": [
      "0\n",
      "1\n",
      "2\n"
     ]
    }
   ],
   "source": [
    "gen = contador(3)\n",
    "for n in gen:\n",
    "    print(n)"
   ]
  },
  {
   "cell_type": "code",
   "execution_count": 11,
   "metadata": {},
   "outputs": [
    {
     "data": {
      "text/plain": [
       "[0, 1, 2]"
      ]
     },
     "execution_count": 11,
     "metadata": {},
     "output_type": "execute_result"
    }
   ],
   "source": [
    "list(contador(3))  # Salida: [0, 1, 2]"
   ]
  },
  {
   "cell_type": "markdown",
   "metadata": {},
   "source": [
    "##### **Corrutinas**\n",
    "\n",
    "Las corrutinas son generadores que pueden recibir valores y devolverlos, lo que las hace ideales para la programación asíncrona. Sin embargo, con la introducción de asyncio y las palabras clave async y await, Python proporciona una forma más directa y clara de escribir corutinas para programación asíncrona, manejo de concurrencia, operaciones de E/S sin bloqueo, etc."
   ]
  },
  {
   "cell_type": "code",
   "execution_count": 2,
   "metadata": {},
   "outputs": [
    {
     "name": "stdout",
     "output_type": "stream",
     "text": [
      "Inicio de la corutina\n",
      "Corutina recibió: Hola Mundo\n",
      "42\n"
     ]
    }
   ],
   "source": [
    "def corutina_simple():\n",
    "    print('Inicio de la corutina')\n",
    "    valor_recibido = yield\n",
    "    print(f'Corutina recibió: {valor_recibido}')\n",
    "    yield 42\n",
    "    print(\"Fin de la corutina\")\n",
    "\n",
    "# Inicializar la corutina\n",
    "coro = corutina_simple()\n",
    "\n",
    "# Iniciar la corutina hasta el primer yield\n",
    "next(coro)\n",
    "\n",
    "# Enviar un valor a la corutina, el control de la función se reanuda después del yield\n",
    "a = coro.send('Hola Mundo')\n",
    "\n",
    "print(a)\n",
    "\n",
    "# next(coro)  # Esto generaría un StopIteration, ya que la corutina ha finalizado\n",
    "\n",
    "# Cerrar la corutina\n",
    "coro.close()"
   ]
  },
  {
   "cell_type": "markdown",
   "metadata": {},
   "source": [
    "## **Iteradores: `__iter()__` y `__next()__`**\n",
    "\n",
    "Los iteradores son una de las abstracciones fundamentales en Python, permitiendo a los programadores recorrer colecciones de elementos uno a la vez. Esta funcionalidad es esencial para trabajar con estructuras de datos en bucles, comprensiones de listas, y más. \n",
    "\n",
    "Un iterador en Python es cualquier objeto que implementa los métodos __iter__() y __next__(). El método __iter__() devuelve el objeto iterador mismo y se utiliza para inicializar el iterador. El método __next__() devuelve el siguiente elemento en la secuencia y lanza la excepción StopIteration cuando no quedan más elementos.\n",
    "\n",
    "Python utiliza el protocolo de iterador en muchas partes del lenguaje. Por ejemplo, cuando usas un bucle for para recorrer una lista, internamente Python está utilizando el iterador de esa lista para acceder a sus elementos de uno en uno."
   ]
  },
  {
   "cell_type": "code",
   "execution_count": 12,
   "metadata": {},
   "outputs": [
    {
     "name": "stdout",
     "output_type": "stream",
     "text": [
      "1\n",
      "2\n",
      "3\n",
      "4\n"
     ]
    }
   ],
   "source": [
    "mi_lista = [1, 2, 3, 4]\n",
    "for elemento in mi_lista:\n",
    "    print(elemento)"
   ]
  },
  {
   "cell_type": "code",
   "execution_count": null,
   "metadata": {},
   "outputs": [],
   "source": [
    "L=[1,2,3,4]\n",
    "\n",
    "\n",
    "next(L)"
   ]
  },
  {
   "cell_type": "markdown",
   "metadata": {},
   "source": [
    "En este caso, \"mi_lista\" es una colección iterable y el bucle \"for\" automáticamente maneja la creación y el avance del iterador sobre esta lista.\n",
    "\n",
    "Si queremos crear nuestros propios iteradores, necesitamos definir una clase que implemente los métodos `__iter__()` y `__next__()`."
   ]
  },
  {
   "cell_type": "code",
   "execution_count": 11,
   "metadata": {},
   "outputs": [
    {
     "name": "stdout",
     "output_type": "stream",
     "text": [
      "1\n",
      "2\n",
      "3\n",
      "4\n",
      "-------------------\n",
      "1\n",
      "2\n",
      "3\n"
     ]
    }
   ],
   "source": [
    "class Contador:\n",
    "    def __init__(self, bajo=0, alto=5):\n",
    "        self.actual = bajo\n",
    "        self.alto = alto\n",
    "    \n",
    "    def __iter__(self):\n",
    "        return self\n",
    "\n",
    "    def __next__(self):\n",
    "        if self.actual < self.alto:\n",
    "            num = self.actual\n",
    "            self.actual += 1\n",
    "            return num\n",
    "        raise StopIteration\n",
    "    \n",
    "\n",
    "contador = Contador(1, 5)\n",
    "\n",
    "for i in contador:\n",
    "    print(i)\n",
    "\n",
    "contador_map = list(Contador(1, 5))  # Salida: [1, 2, 3, 4]\n",
    "\n",
    "print(\"-------------------\")\n",
    "\n",
    "contador = Contador(1, 5)\n",
    "print(next(contador))  # Salida: 1\n",
    "print(next(contador))  # Salida: 2\n",
    "print(next(contador))  # Salida: 3\n"
   ]
  },
  {
   "cell_type": "markdown",
   "metadata": {},
   "source": [
    "## **Manejadores de contexto: `with`**\n",
    "\n",
    "La declaración `with` en Python es utilizado para envolver la ejecución de bloques de código con métodos definidos por context managers. Los context managers son objetos de Python que proveen funcionalidades adicionales antes y después de que un bloque de código sea ejecutado, usualmente para gestionar recursos como archivos, conexiones a bases de datos, o bloqueos de threads de manera segura y eficiente. Utilizar `with` ayuda a hacer el código más limpio y legible, y asegura que los recursos sean manejados correctamente incluso si ocurre una excepción dentro del bloque de código.\n",
    "\n",
    "#### **¿Cómo Funciona el `with`?**\n",
    "\n",
    "Cuando se ejecuta un bloque de código dentro de un statement `with`, Python invoca dos métodos especiales del context manager asociado: `__enter__()` y `__exit__()`. El método `__enter__()` se ejecuta antes de iniciar el bloque de código dentro de `with`, y `__exit__()` se ejecuta al final del bloque, incluso si ocurre una excepción.\n",
    "\n",
    "La sintaxis básica es:\n",
    "\n",
    "```python\n",
    "with expression as variable:\n",
    "    # Código a ejecutar\n",
    "```\n",
    "\n",
    "Donde:\n",
    "- `expression` es una expresión que resulta en un objeto que actúa como context manager.\n",
    "- `variable` (opcional) es la variable que recibe el valor retornado por el método `__enter__()` del context manager. No todos los context managers retornan un valor.\n",
    "\n",
    "#### **Ejemplo Básico: Manejo de Archivos**\n",
    "\n",
    "El uso más común de `with` es para abrir archivos. Esto asegura que el archivo se cierre automáticamente al final del bloque `with`, incluso si ocurren errores mientras el archivo está abierto.\n",
    "\n",
    "```python\n",
    "with open('archivo.txt', 'r') as archivo:\n",
    "    contenido = archivo.read()\n",
    "# Aquí el archivo ya está cerrado automáticamente.\n",
    "```\n",
    "\n",
    "#### **Cómo crear tu propio Context Manager**\n",
    "\n",
    "Puedes crear tus propios context managers implementando una clase con los métodos `__enter__()` y `__exit__()`. Por ejemplo, el siguiente context manager imprime un mensaje al entrar y salir del bloque `with`:\n"
   ]
  },
  {
   "cell_type": "code",
   "execution_count": 2,
   "metadata": {},
   "outputs": [
    {
     "name": "stdout",
     "output_type": "stream",
     "text": [
      "Entrando al bloque\n",
      "Dentro del bloque with\n",
      "Saliendo del bloque\n",
      "Fuera del bloque with\n"
     ]
    }
   ],
   "source": [
    "class MiContextManager:\n",
    "    def __enter__(self):\n",
    "        print(\"Entrando al bloque\")\n",
    "        return self  # Objeto que se asigna a la variable después de \"as\"\n",
    "\n",
    "    def __exit__(self, exc_type, exc_val, exc_tb):\n",
    "        print(\"Saliendo del bloque\")\n",
    "        # Puedes manejar excepciones aquí\n",
    "        return False  # Retorna True si quieres suprimir la excepción, si ocurre alguna\n",
    "\n",
    "with MiContextManager() as manager:\n",
    "    print(\"Dentro del bloque with\")\n",
    "\n",
    "print(\"Fuera del bloque with\")"
   ]
  },
  {
   "cell_type": "code",
   "execution_count": 3,
   "metadata": {},
   "outputs": [
    {
     "name": "stdout",
     "output_type": "stream",
     "text": [
      "Resultado de la suma: 49999995000000\n",
      "Tiempo hasta ahora: 0.27315211296081543 segundos\n",
      "Resultado de la suma: 99999990000000\n",
      "Procesamiento: 0.5080678462982178 segundos\n"
     ]
    }
   ],
   "source": [
    "import time\n",
    "\n",
    "class MedirTiempo:\n",
    "    def __init__(self, label):\n",
    "        self.label = label\n",
    "\n",
    "    def __enter__(self):\n",
    "        # Guarda el tiempo de inicio\n",
    "        self.inicio = time.time()\n",
    "        return self\n",
    "\n",
    "    def __exit__(self, exc_type, exc_value, traceback):\n",
    "        # Calcula el tiempo de fin\n",
    "        self.fin = time.time()\n",
    "        # Muestra la duración\n",
    "        print(f\"{self.label}: {self.fin - self.inicio} segundos\")\n",
    "\n",
    "    def lap(self, label):\n",
    "        # Calcula el tiempo transcurrido\n",
    "        tiempo_transcurrido = time.time() - self.inicio\n",
    "        return f\"{label}: {tiempo_transcurrido} segundos\"\n",
    "\n",
    "# Uso del context manager\n",
    "with MedirTiempo(\"Procesamiento\") as cronometro:\n",
    "    # Coloca aquí el trozo de código cuyo tiempo de ejecución quieres medir\n",
    "    suma = sum([i for i in range(10000000)])\n",
    "    print(f\"Resultado de la suma: {suma}\")\n",
    "    print(cronometro.lap(\"Tiempo hasta ahora\"))\n",
    "    suma += sum([i for i in range(10000000)])\n",
    "    print(f\"Resultado de la suma: {suma}\")"
   ]
  },
  {
   "cell_type": "markdown",
   "metadata": {},
   "source": [
    "### **Uso de `contextlib` para Context Managers Simples**\n",
    "\n",
    "Para context managers que no requieren una clase completa, Python ofrece el módulo `contextlib`, que proporciona utilidades como el decorador `@contextmanager`, permitiendo definir un context manager usando un generador. Este decorador se aplica a la función `mi_context_manager()`, convirtiéndola en un context manager. Le permite a la función definir acciones de preparación antes del yield y acciones de limpieza después del yield.\n",
    "\n",
    "```python\n",
    "from contextlib import contextmanager\n",
    "\n",
    "@contextmanager\n",
    "def mi_context_manager():\n",
    "    print(\"Haciendo setup\")\n",
    "    yield  # El valor después de yield se asignaría a la variable después de \"as\"\n",
    "    print(\"Haciendo teardown\")\n",
    "\n",
    "with mi_context_manager():\n",
    "    print(\"Dentro del bloque with\")\n",
    "```\n",
    "\n"
   ]
  },
  {
   "cell_type": "markdown",
   "metadata": {},
   "source": [
    "Supongamos que queremos crear un context manager que mida el tiempo que toma ejecutar un bloque de código. Podemos hacer esto con el siguiente context manager:"
   ]
  },
  {
   "cell_type": "code",
   "execution_count": 4,
   "metadata": {},
   "outputs": [
    {
     "name": "stdout",
     "output_type": "stream",
     "text": [
      "Contando hasta 1000000: 0.0644 segundos\n"
     ]
    }
   ],
   "source": [
    "from contextlib import contextmanager\n",
    "import time\n",
    "\n",
    "@contextmanager\n",
    "def medir_tiempo(label):\n",
    "    inicio = time.time()\n",
    "    try:\n",
    "        yield\n",
    "    finally:\n",
    "        fin = time.time()\n",
    "        print(f\"{label}: {round(fin - inicio, 4)} segundos\")\n",
    "\n",
    "# Uso del context manager para medir el tiempo de ejecución de un bloque de código\n",
    "with medir_tiempo(\"Contando hasta 1000000\"):\n",
    "    suma = 0\n",
    "    for i in range(1000000):\n",
    "        suma += i\n"
   ]
  }
 ],
 "metadata": {
  "kernelspec": {
   "display_name": "env",
   "language": "python",
   "name": "python3"
  },
  "language_info": {
   "codemirror_mode": {
    "name": "ipython",
    "version": 3
   },
   "file_extension": ".py",
   "mimetype": "text/x-python",
   "name": "python",
   "nbconvert_exporter": "python",
   "pygments_lexer": "ipython3",
   "version": "3.10.7"
  }
 },
 "nbformat": 4,
 "nbformat_minor": 2
}
